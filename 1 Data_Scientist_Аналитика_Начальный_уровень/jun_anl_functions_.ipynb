{
 "cells": [
  {
   "cell_type": "markdown",
   "metadata": {
    "colab_type": "text",
    "id": "fm2YWUGvts2-"
   },
   "source": [
    "# Функции\n",
    "### Домашнее задание"
   ]
  },
  {
   "cell_type": "markdown",
   "metadata": {
    "colab_type": "text",
    "id": "vtadtcbgts3A"
   },
   "source": [
    "#### 1.\n",
    "Почему возникла ошибка? Объясните и исправьте."
   ]
  },
  {
   "cell_type": "code",
   "execution_count": 13,
   "metadata": {
    "colab": {},
    "colab_type": "code",
    "id": "wYCHLbgJts3C",
    "outputId": "a5d47ca5-71fb-4003-ce4b-101f4c938e38",
    "scrolled": true
   },
   "outputs": [
    {
     "name": "stdout",
     "output_type": "stream",
     "text": [
      "6\n"
     ]
    }
   ],
   "source": [
    "def factorial(n):\n",
    "    f = 1\n",
    "    for i in range(2, n + 1):\n",
    "        f = f * i\n",
    "    return f\n",
    "\n",
    "print(factorial(3))\n",
    "#print(f)"
   ]
  },
  {
   "cell_type": "markdown",
   "metadata": {
    "colab_type": "text",
    "id": "4AEgqr_Its3I"
   },
   "source": [
    "**Объяснение:** Локальная переменная f была объявленная в функции, и данная переменная f не доступна из глобального пространства. \n",
    "<br><br>"
   ]
  },
  {
   "cell_type": "markdown",
   "metadata": {
    "colab_type": "text",
    "id": "A9jbY_Ixts3K"
   },
   "source": [
    "#### 2.\n",
    "Почему переменная S после запуска функции сохранила значение ноль?"
   ]
  },
  {
   "cell_type": "code",
   "execution_count": 34,
   "metadata": {
    "colab": {},
    "colab_type": "code",
    "id": "A_cfBf0Dts3L",
    "outputId": "6f596828-96d2-45bc-d050-56292af00604"
   },
   "outputs": [
    {
     "name": "stdout",
     "output_type": "stream",
     "text": [
      "7\n",
      "0\n"
     ]
    }
   ],
   "source": [
    "S = 0\n",
    "def sum(n, m):\n",
    "    S = n + m\n",
    "    return S\n",
    "\n",
    "print(sum(3, 4))\n",
    "print(S)"
   ]
  },
  {
   "cell_type": "markdown",
   "metadata": {
    "colab_type": "text",
    "id": "oxwz4yVYts3P"
   },
   "source": [
    "**Объяснение:** Потому, что в начале функции было присвоенно занчение ноль, переменной S в глобальном пространстве имен, и при обращении к переменной S, мы обращаемся к глобальной переменной, а в локальном пространстве имен, присваемое глобальное значение переменной S не участвует.\n",
    "<br><br>"
   ]
  },
  {
   "cell_type": "markdown",
   "metadata": {
    "colab_type": "text",
    "id": "ws1lmJfhts3R"
   },
   "source": [
    "#### 3.\n",
    "Почему возникла ошибка? Объясните и исправьте, чтобы функция могла работать с данными на входе в примере с `res`."
   ]
  },
  {
   "cell_type": "code",
   "execution_count": 2,
   "metadata": {
    "colab": {},
    "colab_type": "code",
    "id": "ad8eYc35ts3S",
    "outputId": "c991c697-d867-4403-f1fd-5851d65b7942"
   },
   "outputs": [],
   "source": [
    "def mult(*, q, w, e, r, t, y):\n",
    "    return q + w + e + r + t + y\n",
    "res = mult(q=1, w=2, e=3, r=4, t=5, y=6)"
   ]
  },
  {
   "cell_type": "markdown",
   "metadata": {
    "colab_type": "text",
    "id": "yVwoWfiWts3Y"
   },
   "source": [
    "**Объяснение:** В данном коде, идет требование, указать все парметры явно.\n",
    "<br><br>"
   ]
  },
  {
   "cell_type": "markdown",
   "metadata": {
    "colab_type": "text",
    "id": "UTT3sbJXts3a"
   },
   "source": [
    "#### 4.\n",
    "Почему возникла ошибка? Объясните и исправьте, чтобы функция могла работать с данными на входе в примере."
   ]
  },
  {
   "cell_type": "code",
   "execution_count": 14,
   "metadata": {
    "colab": {},
    "colab_type": "code",
    "id": "xizQ5rdqts3b",
    "outputId": "a52d4f28-5521-48fe-a968-13b7491cfb65"
   },
   "outputs": [
    {
     "name": "stdout",
     "output_type": "stream",
     "text": [
      "733036532959081958493044038604220573003076872623105825587799726719137081664242889213090239865705342028379233496941111919796792708971905802219444504019006104332493489107721493845412453899793946281899700834091715387952751830219643610349979360602856524762182507733859966860842500858768382394753399581156286449561160783713877222895092808637540218804927005623038569306841733685039433236910980897592858987002063924013988530964522502594931500371157643132061597303111367258489022159044511817010529399435883286083212695075903281596592105429678751689059533454035251548334986509241552406961532864939006610513597608967402985707857424513196823658884413602881077337616965779954194874666031301491450438900838443296921074535307486056701074634195717288344127864971903293281532919139948732795811179970577905638353069459326437465009401802406334569163539571111057039009740125070184999823974525412495495402254164218902587890625\n"
     ]
    }
   ],
   "source": [
    "def power(a, s, *, d):\n",
    "    res = a ** s ** d\n",
    "    print(res)\n",
    "    \n",
    "power(5, 6, d = 4)"
   ]
  },
  {
   "cell_type": "markdown",
   "metadata": {},
   "source": [
    "**Объяснение:** В данном коде, идет требование, указать все парметры позиционно. Т.е. в переменные a и s должны передаться значения согласно позиций (a = 5, s = 6,) а после мы можем присвоить значения переменой d = 4 по заданной позиции.\n",
    "<br><br>"
   ]
  },
  {
   "cell_type": "markdown",
   "metadata": {
    "colab_type": "text",
    "id": "GfY6txsXts3f"
   },
   "source": [
    "#### 5.\n",
    "Почему возникла ошибка? Объясните и исправьте, чтобы функция могла работать с данными на входе в примере."
   ]
  },
  {
   "cell_type": "code",
   "execution_count": 5,
   "metadata": {
    "colab": {},
    "colab_type": "code",
    "id": "oYQQA2PBts3g",
    "outputId": "7036c68d-1c7f-4034-f3de-816e075f6059"
   },
   "outputs": [
    {
     "name": "stdout",
     "output_type": "stream",
     "text": [
      "29\n"
     ]
    }
   ],
   "source": [
    "def mult2(*args):\n",
    "    res = 1\n",
    "    for i in args:\n",
    "        res += sum(i)\n",
    "    return res\n",
    "\n",
    "List = [1, 2, 3, 4, 5, 6, 7]\n",
    "print(mult2(List))"
   ]
  },
  {
   "cell_type": "markdown",
   "metadata": {},
   "source": [
    "**Объяснение:** В данном коде, идет ошибка не поддерживаемые типы операндов, мы не можем складывать два разных типа операндов, в этом случае можно заменить res += i на res += sum(i)\n",
    "<br><br>"
   ]
  },
  {
   "cell_type": "markdown",
   "metadata": {
    "colab_type": "text",
    "id": "QcuTA23Uts3l"
   },
   "source": [
    "#### 6.\n",
    "Почему возникла ошибка? Объясните и исправьте."
   ]
  },
  {
   "cell_type": "code",
   "execution_count": 42,
   "metadata": {
    "colab": {},
    "colab_type": "code",
    "id": "N51MkraMts3n",
    "outputId": "21cd0746-6fa8-45d8-dab1-d050fc5c6034"
   },
   "outputs": [],
   "source": [
    "def some_function(a, b, *args, **kwargs):\n",
    "    pass"
   ]
  },
  {
   "cell_type": "markdown",
   "metadata": {
    "colab_type": "text",
    "id": "Mj0qEUurts36"
   },
   "source": [
    "**Объяснение:** По документационному соглашению, списковые переменные при объявлении в функции должны идти после безымяных списков.\n",
    "<br><br>"
   ]
  },
  {
   "cell_type": "markdown",
   "metadata": {
    "colab_type": "text",
    "id": "Me-VY77Bts37"
   },
   "source": [
    "#### 7.\n",
    "Почему не был создан новый список при повторном запуске функции? Объясните и исправьте."
   ]
  },
  {
   "cell_type": "code",
   "execution_count": 41,
   "metadata": {
    "colab": {},
    "colab_type": "code",
    "id": "wXhSLV5xts3-",
    "outputId": "aa4dbf80-bc9a-42c0-c402-e63a1a2c71b1"
   },
   "outputs": [
    {
     "name": "stdout",
     "output_type": "stream",
     "text": [
      "['яблоки', 'молоко', 'хлеб']\n",
      "['груши', 'йогурт', 'мясо']\n"
     ]
    }
   ],
   "source": [
    "def to_buy(*new_items, shopping_list = None):\n",
    "    if not shopping_list:\n",
    "        shopping_list = []\n",
    "    for i in new_items:\n",
    "        shopping_list.append(i)\n",
    "    return shopping_list\n",
    "\n",
    "monday = to_buy('яблоки', 'молоко', 'хлеб')\n",
    "print(monday)\n",
    "\n",
    "tuesday = to_buy('груши', 'йогурт', 'мясо')\n",
    "print(tuesday)\n"
   ]
  },
  {
   "cell_type": "markdown",
   "metadata": {
    "colab_type": "text",
    "id": "nfb7HR6Lts4I"
   },
   "source": [
    "   **Объяснение:** При созданнии функции, в качестве значения по умолчанию указан пустой список, и интерпритатор саздает экземпляр списка. При обращении к ниму, интерпритатор будет каждый раз подстовлять значения по умолчанию, вместо созданного нового пустого списка.\n",
    "<br><br>"
   ]
  },
  {
   "cell_type": "markdown",
   "metadata": {
    "colab_type": "text",
    "id": "nXWDuX9Kts4J"
   },
   "source": [
    "#### 8.\n",
    "Измените данную функцию так, чтобы она распечатывала названия продуктов из словаря в примере.\n"
   ]
  },
  {
   "cell_type": "code",
   "execution_count": 11,
   "metadata": {
    "colab": {},
    "colab_type": "code",
    "id": "SBW9DRlots4L",
    "outputId": "500ecd98-600a-4075-83fa-5c897ef31df8"
   },
   "outputs": [
    {
     "name": "stdout",
     "output_type": "stream",
     "text": [
      "('1', 'яблоки')\n",
      "('2', 'молоко')\n",
      "('3', 'хлеб')\n",
      "('4', 'груши')\n",
      "('5', 'йогурт')\n",
      "('6', 'мясо')\n"
     ]
    }
   ],
   "source": [
    "def print_all(**kwargs):\n",
    "    for i in kwargs.items():\n",
    "        print(i)\n",
    "\n",
    "print_all(**{'1' : 'яблоки', '2' :'молоко', '3' : 'хлеб', '4' : 'груши', '5' : 'йогурт', '6' : 'мясо'})"
   ]
  },
  {
   "cell_type": "markdown",
   "metadata": {
    "colab_type": "text",
    "id": "Qse7He_ets4W"
   },
   "source": [
    "#### 9.\n",
    "Программисты договорились, что переменные такого рода являются.. *(вопрос из лекции)*"
   ]
  },
  {
   "cell_type": "code",
   "execution_count": 0,
   "metadata": {
    "colab": {},
    "colab_type": "code",
    "id": "GZldqNGTts4Y"
   },
   "outputs": [],
   "source": [
    "TOKEN = ..."
   ]
  },
  {
   "cell_type": "markdown",
   "metadata": {
    "colab_type": "text",
    "id": "XwagZX5bts4c"
   },
   "source": [
    "**Ответ:** Константой\n",
    "<br>\n",
    "<br>"
   ]
  },
  {
   "cell_type": "markdown",
   "metadata": {
    "colab_type": "text",
    "id": "GhEM45Mots4d"
   },
   "source": [
    "#### 10.\n",
    "Напишите функцию, которая с помощью рекурсии считает сумму последовательности с шагом m. В качестве аргументов подаются целые положительные числа n (последний элемент последовательности) и m (шаг последовательности). Считается, что все члены последовательности являются целыми положительными числами.\n",
    "\n",
    "Пример:\n",
    "\n",
    "```\n",
    "sum_of_seq(5, 1)\n",
    "15\n",
    " \n",
    "sum_of_seq(5, 9)\n",
    "5\n",
    "\n",
    "sum_of_seq(8, 2)\n",
    "20\n",
    "```\n"
   ]
  },
  {
   "cell_type": "code",
   "execution_count": 15,
   "metadata": {
    "colab": {},
    "colab_type": "code",
    "id": "vPXkJ79ats4e"
   },
   "outputs": [
    {
     "data": {
      "text/plain": [
       "(15, 5, 20)"
      ]
     },
     "execution_count": 15,
     "metadata": {},
     "output_type": "execute_result"
    }
   ],
   "source": [
    "def sum_of_seq(n , m):\n",
    "    if n >= 1:\n",
    "        return n + sum_of_seq(n- m, m)\n",
    "    else:\n",
    "        return 0\n",
    "\n",
    "sum_of_seq(5, 1), sum_of_seq(5, 9), sum_of_seq(8, 2)\n"
   ]
  },
  {
   "cell_type": "markdown",
   "metadata": {
    "colab_type": "text",
    "id": "_nuDRzdBts4k"
   },
   "source": [
    "#### 11.\n",
    "Напишите функцию, которая возводит число в положительную степень с помощью рекурсии. В качестве аргументов подаются целые положительные числа n (число) и m (степень)."
   ]
  },
  {
   "cell_type": "code",
   "execution_count": 24,
   "metadata": {
    "colab": {},
    "colab_type": "code",
    "id": "_9_BMZCxts4m"
   },
   "outputs": [
    {
     "data": {
      "text/plain": [
       "(1220703125, 128, 371293)"
      ]
     },
     "execution_count": 24,
     "metadata": {},
     "output_type": "execute_result"
    }
   ],
   "source": [
    "def power(n , m):\n",
    "    if m == 0:\n",
    "        return 1\n",
    "    t = power(n * n, m // 2)\n",
    "    if m % 2:\n",
    "        t *= n\n",
    "    return t\n",
    "power(5, 13), power(2, 7), power(13, 5)"
   ]
  },
  {
   "cell_type": "markdown",
   "metadata": {
    "colab_type": "text",
    "id": "1K4dbMwcts4v"
   },
   "source": [
    "#### 12.\n",
    "Напишите функцию, которая возводит число в отрицательную степень число с помощью рекурсии. В качестве аргументов подаются целое положительное число n (число) и целое отрицательное число m (степень)."
   ]
  },
  {
   "cell_type": "code",
   "execution_count": 27,
   "metadata": {
    "colab": {},
    "colab_type": "code",
    "id": "ddZY7Fdxts4x"
   },
   "outputs": [
    {
     "data": {
      "text/plain": [
       "(0.0625, 0.0009765625, 0.015625)"
      ]
     },
     "execution_count": 27,
     "metadata": {},
     "output_type": "execute_result"
    }
   ],
   "source": [
    "def negative_power(n, m):\n",
    "    if n == 0:\n",
    "        return 0\n",
    "    elif m == 0:\n",
    "        return 1\n",
    "    elif m == 1:\n",
    "        return n\n",
    "    elif m < 0:\n",
    "        return 1 / (n * negative_power(n, -m - 1))\n",
    "    else:\n",
    "        return n * negative_power(n, m -1)\n",
    "\n",
    "negative_power(2, -4), negative_power(4, -5), negative_power(8, -2)"
   ]
  },
  {
   "cell_type": "markdown",
   "metadata": {
    "colab_type": "text",
    "id": "IxBt4VyQts41"
   },
   "source": [
    "#### 13.\n",
    "\n",
    "Напишите функцию, которая находит число Фиббоначи по его номеру. В качестве аргумента подается целое положительное число n (число)."
   ]
  },
  {
   "cell_type": "code",
   "execution_count": 29,
   "metadata": {
    "colab": {},
    "colab_type": "code",
    "id": "8DEaBWjkts43"
   },
   "outputs": [
    {
     "data": {
      "text/plain": [
       "3"
      ]
     },
     "execution_count": 29,
     "metadata": {},
     "output_type": "execute_result"
    }
   ],
   "source": [
    "def fib(n):\n",
    "    if n in (1, 2):\n",
    "        return 1\n",
    "    return fib(n -1) + fib(n - 2)\n",
    "\n",
    "fib(4)"
   ]
  },
  {
   "cell_type": "code",
   "execution_count": null,
   "metadata": {},
   "outputs": [],
   "source": []
  }
 ],
 "metadata": {
  "colab": {
   "collapsed_sections": [],
   "name": "jun_anl_functions.ipynb",
   "provenance": []
  },
  "kernelspec": {
   "display_name": "Python 3",
   "language": "python",
   "name": "python3"
  },
  "language_info": {
   "codemirror_mode": {
    "name": "ipython",
    "version": 3
   },
   "file_extension": ".py",
   "mimetype": "text/x-python",
   "name": "python",
   "nbconvert_exporter": "python",
   "pygments_lexer": "ipython3",
   "version": "3.7.3"
  }
 },
 "nbformat": 4,
 "nbformat_minor": 1
}
