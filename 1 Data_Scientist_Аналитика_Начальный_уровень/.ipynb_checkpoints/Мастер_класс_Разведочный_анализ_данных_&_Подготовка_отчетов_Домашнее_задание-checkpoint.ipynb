{
 "cells": [
  {
   "cell_type": "markdown",
   "metadata": {
    "_cell_guid": "f8818773-a629-472e-9cc1-54fb35e99670",
    "_uuid": "b3df1cdd81022580f5a7613271b1309641b26157",
    "id": "lxhqbhwbbzkG"
   },
   "source": [
    "# Skillbox — Мастер-класс: Разведочный анализ данных + Подготовка отчётов — Kiva.org\n",
    "***"
   ]
  },
  {
   "cell_type": "markdown",
   "metadata": {
    "id": "vBqFivbiMhAK"
   },
   "source": [
    "# Новый раздел"
   ]
  },
  {
   "cell_type": "markdown",
   "metadata": {
    "id": "sb2LxV_0bzng"
   },
   "source": [
    "# 4. Домашнее задание\n",
    "***"
   ]
  },
  {
   "cell_type": "code",
   "execution_count": null,
   "metadata": {
    "id": "0Sw1jasUMtpY"
   },
   "outputs": [],
   "source": []
  },
  {
   "cell_type": "code",
   "execution_count": null,
   "metadata": {
    "id": "fcTAuqVtMtXj"
   },
   "outputs": [],
   "source": []
  },
  {
   "cell_type": "markdown",
   "metadata": {
    "id": "yAGPSgFVbznh"
   },
   "source": [
    "## 4.1. Самостоятельная работа\n",
    "***"
   ]
  },
  {
   "cell_type": "markdown",
   "metadata": {
    "id": "04Waz3uubznh"
   },
   "source": [
    "- А в каких странах преобладают мужчины? Группа людей? (п. 2.2.2.)\n",
    "- Изучите несколько займов с очень большими суммами. Что можно сказать о назначении этих заявок? В каких странах они оформлены? Каков гендерный состав заявителей? (п. 2.4.2.)\n",
    "- Попробуйте найти связь между странами (регионами), полом заёмщика и суммой заявки. Какие выводы можно сделать из этих данных? (п. 2.4.3.)"
   ]
  },
  {
   "cell_type": "markdown",
   "metadata": {
    "id": "4J8NsnCsbznh"
   },
   "source": [
    "## 4.2. Домашняя работа\n",
    "***"
   ]
  },
  {
   "cell_type": "markdown",
   "metadata": {
    "id": "Ev97SUmzbznh"
   },
   "source": [
    "Расширьте наш отчёт исследованием следующих вопросов:\n",
    "\n",
    "- Зависимость пола заёмщика от региона планеты, сектора экономики.\n",
    "- Влияние такого атрибута займа, как **Количество кредиторов** (lender_count), на суммы и сроки займов.\n",
    "- Влияние показателя **MPI** (многомерный индекс бедности) в разных странах на суммы займов и сроки погашения.\n",
    "- Зависимости таких метрик, как «Сумма займа», «Срок займа», «Время финансирования заявки», «Ежемесячный платёж», в разрезе **макрорегионов**."
   ]
  }
 ],
 "metadata": {
  "colab": {
   "collapsed_sections": [],
   "name": "Мастер-класс: Разведочный анализ данных & Подготовка отчетов. Домашнее задание.ipynb",
   "provenance": []
  },
  "kernelspec": {
   "display_name": "Python 3",
   "language": "python",
   "name": "python3"
  },
  "language_info": {
   "codemirror_mode": {
    "name": "ipython",
    "version": 3
   },
   "file_extension": ".py",
   "mimetype": "text/x-python",
   "name": "python",
   "nbconvert_exporter": "python",
   "pygments_lexer": "ipython3",
   "version": "3.8.3"
  },
  "toc-showtags": false
 },
 "nbformat": 4,
 "nbformat_minor": 1
}
