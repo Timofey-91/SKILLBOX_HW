{
 "cells": [
  {
   "cell_type": "markdown",
   "metadata": {},
   "source": [
    "# Чтение и запись данных. Часть 1\n",
    "\n",
    "## 1. Чтение текстовых файлов, файловые дескрипторы"
   ]
  },
  {
   "cell_type": "markdown",
   "metadata": {},
   "source": [
    "### 1.1\n",
    "\n",
    "**Простая задача** сформируйте объект класса dict, где ключ - это IP адрес, а значение - количество раз, которые этот ip встретился в тесте.\n",
    "\n",
    "*Результат выполнения*\n",
    "<pre>\n",
    "{'192.168.101.4': 1, '192.168.102.3': 2, '192.168.7.46': 1}\n",
    "</pre>"
   ]
  },
  {
   "cell_type": "code",
   "execution_count": 1,
   "metadata": {},
   "outputs": [
    {
     "name": "stdout",
     "output_type": "stream",
     "text": [
      "{'192.168.101.4': 1, '192.168.102.3': 2, '192.168.7.46': 1}\n"
     ]
    }
   ],
   "source": [
    "file_path = '../data/uwsgi.log'\n",
    "ip_counter = dict()\n",
    "\n",
    "with open(file_path, 'r', encoding='utf8') as f:\n",
    "    for row in f:\n",
    "        ip = row.split(' ')[0]\n",
    "        if ip != '\\n':\n",
    "            if not ip in ip_counter:\n",
    "                ip_counter[ip] = 1\n",
    "            else:\n",
    "                ip_counter[ip] += 1\n",
    "\n",
    "print(ip_counter)"
   ]
  },
  {
   "cell_type": "markdown",
   "metadata": {},
   "source": [
    "### 1.2\n",
    "**Задача среднего уровня** Распечатайте список URL, к которым происходил доступ. GET или POST параметры печатать не нужно.\n",
    "\n",
    "*Результат выполнения*\n",
    "<pre>\n",
    "/movie/is_personalizable/\n",
    "/logger/content/time/\n",
    "/movie/collection/items/recommendations/\n",
    "/movie/recommendations/\n",
    "</pre>"
   ]
  },
  {
   "cell_type": "code",
   "execution_count": 2,
   "metadata": {},
   "outputs": [
    {
     "name": "stdout",
     "output_type": "stream",
     "text": [
      "/movie/is_personalizable/\n",
      "/logger/content/time/\n",
      "/movie/collection/items/recommendations/\n",
      "/movie/recommendations/\n"
     ]
    }
   ],
   "source": [
    "file_path = '../data/uwsgi.log'\n",
    "\n",
    "with open(file_path, 'r', encoding='utf8') as f:\n",
    "    for row in f:\n",
    "        if len(row) >1:\n",
    "            ip = row.split(' ')[6].split('?')[0]\n",
    "            print(ip)"
   ]
  },
  {
   "cell_type": "markdown",
   "metadata": {},
   "source": [
    "### 1.3\n",
    "**Задача высокого уровня** Сформируйте объект класса dict, где ключ - это URL, а значение - это массив объектов python `datetime.datetime`: когда происходили запросы к этому URL.\n",
    "\n",
    "*Результат выполнения*\n",
    "<pre>\n",
    "{\n",
    "    '/movie/is_personalizable/': [datetime.datetime(2019, 2, 5, 21, 36, 7)],\n",
    "    '/logger/content/time/': [datetime.datetime(2019, 2, 5, 21, 36, 7)],\n",
    "    '/movie/collection/items/recommendations/': [datetime.datetime(2019, 2, 5, 21, 36, 7)],\n",
    "    '/movie/recommendations/': [datetime.datetime(2019, 2, 5, 21, 36, 7)]\n",
    "}\n",
    "</pre>"
   ]
  },
  {
   "cell_type": "code",
   "execution_count": 3,
   "metadata": {},
   "outputs": [
    {
     "data": {
      "text/plain": [
       "{'/movie/is_personalizable/': [datetime.datetime(2019, 2, 5, 21, 36, 7)],\n",
       " '/logger/content/time/': [datetime.datetime(2019, 2, 5, 21, 36, 7)],\n",
       " '/movie/collection/items/recommendations/': [datetime.datetime(2019, 2, 5, 21, 36, 7)],\n",
       " '/movie/recommendations/': [datetime.datetime(2019, 2, 5, 21, 36, 7)]}"
      ]
     },
     "execution_count": 3,
     "metadata": {},
     "output_type": "execute_result"
    }
   ],
   "source": [
    "from datetime import datetime\n",
    "file_path = '../data/uwsgi.log'\n",
    "\n",
    "access_dournal = dict()\n",
    "\n",
    "ip_counter = dict()\n",
    "\n",
    "with open(file_path, 'r', encoding='utf8') as f:\n",
    "    for row in f:\n",
    "        parted_row = row.split (\" \")\n",
    "        if len(parted_row) > 1 :\n",
    "            split_ip = (parted_row[6].split(parted_row[0]))\n",
    "            key = (split_ip[0].split(\"?\"))\n",
    "            parcer_date = parted_row[3].replace('[','')\n",
    "            value = [datetime.strptime(parcer_date, '%d/%b/%Y:%H:%M:%S')]\n",
    "            access_dournal.update({key[0]:value})\n",
    "access_dournal"
   ]
  },
  {
   "cell_type": "markdown",
   "metadata": {},
   "source": [
    "## 2. Чтение csv файлов: модуль python csv"
   ]
  },
  {
   "cell_type": "markdown",
   "metadata": {},
   "source": [
    "### 2.1\n",
    "**Простая задача** Сформируйте словарь, в котором ключ - название столбца, а значение - массив записей в этом столбце.\n",
    "\n",
    "*Результат выполнения*\n",
    "<pre>\n",
    "{\n",
    "    'Код': ['HYDRA-535', 'HYDRA-534', 'HYDRA-532', 'HYDRA-531', 'HYDRA-530', 'HYDRA-527', 'HYDRA-524', 'HYDRA-523', 'HYDRA-520', 'HYDRA-519', 'HYDRA-518', 'HYDRA-517', 'HYDRA-514', 'HYDRA-513', 'HYDRA-511', 'HYDRA-510', 'HYDRA-509', 'HYDRA-507', 'HYDRA-506'],\n",
    "    'Тема': ['Пробрасывать пользовательское распределение paid_types в ехидну', 'Гибридный рекомендатель с multi-channel feedback', 'Джоба в дженкинсе для расчёта динамики РВП', 'Интеграция Hydra с Gamora', 'Тестируем интеграцию с Jira', 'Поправить функцию _get_ui_rec_matrix', 'Оптимизировать матрицу ItemFactors', 'Сортировка ЦПБ', 'Закостылить параметр top', \"Сделать 'stable' конфигом по умолчанию в Гидре\", 'Неудобно тестировать запись в redis', 'Улучшить рекомендации (первая итерация)', 'Добавить логирование в скрипты hydra/bin', 'Поправить storage_backend', 'Перемешивание рекомендаций для старых пользователей', 'Поправить скрипты bpr и и оценщика', 'Динамические персональные рекомендации', 'Навести порядок в prepare_data_for_hydra', 'Техдолг по логике /collection/recommendations/'],\n",
    "    'Компонент': ['echidna', 'hydra', 'hydramatrices', 'hydramagrices', 'hydra', 'hydra', 'hydra', 'hydra', 'hydra', 'hydra', 'hydramatrices', 'hydra', 'hydramagrices', 'hydramatrices', 'hydra', 'hydra_utils', 'hydra', 'hydramagrices', 'hydra'],\n",
    "    'Затрачено в часах': ['1', '3', '2', '4', '2', '10', '2', '5', '2', '2', '1', '7', '5', '2', '5', '16', '10', '3', '24']\n",
    "}\n",
    "</pre>"
   ]
  },
  {
   "cell_type": "code",
   "execution_count": 4,
   "metadata": {},
   "outputs": [
    {
     "name": "stdout",
     "output_type": "stream",
     "text": [
      "{'Код': ['HYDRA-535', 'HYDRA-534', 'HYDRA-532', 'HYDRA-531', 'HYDRA-530', 'HYDRA-527', 'HYDRA-524', 'HYDRA-523', 'HYDRA-520', 'HYDRA-519', 'HYDRA-518', 'HYDRA-517', 'HYDRA-514', 'HYDRA-513', 'HYDRA-511', 'HYDRA-510', 'HYDRA-509', 'HYDRA-507', 'HYDRA-506'], 'Тема': ['Пробрасывать пользовательское распределение paid_types в ехидну', 'Гибридный рекомендатель с multi-channel feedback', 'Джоба в дженкинсе для расчёта динамики РВП', 'Интеграция Hydra с Gamora', 'Тестируем интеграцию с Jira', 'Поправить функцию _get_ui_rec_matrix', 'Оптимизировать матрицу ItemFactors', 'Сортировка ЦПБ', 'Закостылить параметр top', \"Сделать 'stable' конфигом по умолчанию в Гидре\", 'Неудобно тестировать запись в redis', 'Улучшить рекомендации (первая итерация)', 'Добавить логирование в скрипты hydra/bin', 'Поправить storage_backend', 'Перемешивание рекомендаций для старых пользователей', 'Поправить скрипты bpr и и оценщика', 'Динамические персональные рекомендации', 'Навести порядок в prepare_data_for_hydra', 'Техдолг по логике /collection/recommendations/'], 'Компонент': ['echidna', 'hydra', 'hydramatrices', 'hydramagrices', 'hydra', 'hydra', 'hydra', 'hydra', 'hydra', 'hydra', 'hydramatrices', 'hydra', 'hydramagrices', 'hydramatrices', 'hydra', 'hydra_utils', 'hydra', 'hydramagrices', 'hydra'], 'Затрачено в часах': ['1', '3', '2', '4', '2', '10', '2', '5', '2', '2', '1', '7', '5', '2', '5', '16', '10', '3', '24']}\n"
     ]
    }
   ],
   "source": [
    "import csv\n",
    "columns_dict = dict()\n",
    "file_path = '../data/task.csv'\n",
    "\n",
    "with open(file_path, newline='', encoding='utf8') as csvfile:\n",
    "    reader = csv.DictReader(csvfile)\n",
    "    for col_name in reader.fieldnames:\n",
    "        columns_dict[col_name] = []\n",
    "    for row in reader:\n",
    "        for field_name in reader.fieldnames:\n",
    "            columns_dict[field_name].append(row[field_name])\n",
    "        \n",
    "\n",
    "print(columns_dict)"
   ]
  },
  {
   "cell_type": "markdown",
   "metadata": {},
   "source": [
    "### 2.2\n",
    "**Задача среднего уровня** Посчитайте статистику по колонке \"Затрачено в часах\" (это человеко-часы, затраченные на задачу) – максимальное значение, минимальное значение, среднее значение. Воспользуйтесь словарём `columns_dict` из задания 2.1\n",
    "\n",
    "*Результат выполнения*\n",
    "<pre>\n",
    "min_val=1, max_val=24, mean_val=5.578947368421052\n",
    "\n",
    "</pre>"
   ]
  },
  {
   "cell_type": "code",
   "execution_count": 5,
   "metadata": {},
   "outputs": [
    {
     "name": "stdout",
     "output_type": "stream",
     "text": [
      "min_val=1, max_val=24, mean_val=5.578947368421052\n"
     ]
    }
   ],
   "source": [
    "min_val, max_val, mean_val = None, None, None\n",
    "import numpy as np\n",
    "min_val, max_val, mean_val = min([int(i) for i in columns_dict['Затрачено в часах']]), max([int(i) for i in columns_dict['Затрачено в часах']]), np.mean([int(i) for i in columns_dict['Затрачено в часах']])\n",
    "\n",
    "\n",
    "print(\"min_val={}, max_val={}, mean_val={}\".format(min_val, max_val, mean_val))"
   ]
  },
  {
   "cell_type": "markdown",
   "metadata": {},
   "source": [
    "### 2.3\n",
    "**Задача высокого уровня** Сколько человеко-часов было потрачено на задачи, в которых встречается слово \"рекомендации\" в любых формах, а сколько на остальные задачи (в процентах)?\n",
    "\n",
    "Подсказка - проверка на наличие нужного слова в тексте `txt` выглядит так:"
   ]
  },
  {
   "cell_type": "code",
   "execution_count": 22,
   "metadata": {},
   "outputs": [
    {
     "name": "stdout",
     "output_type": "stream",
     "text": [
      "True False\n"
     ]
    }
   ],
   "source": [
    "print('рек' in 'Я делаю рекомендательную систему', 'рек' in 'кек')"
   ]
  },
  {
   "cell_type": "markdown",
   "metadata": {},
   "source": [
    "*Результат выполнения*\n",
    "<pre>\n",
    "{'recs': 2, 'non_recs': 17}\n",
    "</pre>"
   ]
  },
  {
   "cell_type": "code",
   "execution_count": 6,
   "metadata": {},
   "outputs": [
    {
     "name": "stdout",
     "output_type": "stream",
     "text": [
      "{'recs': 2, 'non_recs': 17}\n"
     ]
    }
   ],
   "source": [
    "file_path = '../data/task.csv'\n",
    "task_recs_counter = {'recs': 0, 'non_recs': 0}\n",
    "\n",
    "with open(file_path, newline='', encoding = 'utf8') as csvfile:\n",
    "    reader = csv.DictReader(csvfile)\n",
    "    for row in reader:\n",
    "        if 'рекомендации' in row['Тема']:\n",
    "            task_recs_counter['recs'] += 1\n",
    "        else:\n",
    "            task_recs_counter['non_recs'] += 1\n",
    "        pass\n",
    "print(task_recs_counter)"
   ]
  },
  {
   "cell_type": "markdown",
   "metadata": {},
   "source": [
    "## 3. Чтение csv файлов: модуль pandas"
   ]
  },
  {
   "cell_type": "markdown",
   "metadata": {},
   "source": [
    "### 3.1\n",
    "\n",
    "**Простое задание** добавьте столбец `num_tasks`, где отражено количество задач, выполненное внутри каждого компонента. Колонка `mean_val` со средним значением поля 'Затрачено в часах' уже добавлена в качестве примера.\n",
    "\n",
    "Чтобы выполнить задание, поправьте словарь `aggregation_json`"
   ]
  },
  {
   "cell_type": "code",
   "execution_count": 7,
   "metadata": {},
   "outputs": [
    {
     "name": "stderr",
     "output_type": "stream",
     "text": [
      "C:\\Users\\HP\\Anaconda3\\lib\\site-packages\\pandas\\core\\groupby\\generic.py:1455: FutureWarning: using a dict with renaming is deprecated and will be removed\n",
      "in a future version.\n",
      "\n",
      "For column-specific groupby renaming, use named aggregation\n",
      "\n",
      "    >>> df.groupby(...).agg(name=('column', aggfunc))\n",
      "\n",
      "  return super().aggregate(arg, *args, **kwargs)\n"
     ]
    },
    {
     "data": {
      "text/html": [
       "<div>\n",
       "<style scoped>\n",
       "    .dataframe tbody tr th:only-of-type {\n",
       "        vertical-align: middle;\n",
       "    }\n",
       "\n",
       "    .dataframe tbody tr th {\n",
       "        vertical-align: top;\n",
       "    }\n",
       "\n",
       "    .dataframe thead th {\n",
       "        text-align: right;\n",
       "    }\n",
       "</style>\n",
       "<table border=\"1\" class=\"dataframe\">\n",
       "  <thead>\n",
       "    <tr style=\"text-align: right;\">\n",
       "      <th></th>\n",
       "      <th>num_tasks</th>\n",
       "    </tr>\n",
       "    <tr>\n",
       "      <th>Компонент</th>\n",
       "      <th></th>\n",
       "    </tr>\n",
       "  </thead>\n",
       "  <tbody>\n",
       "    <tr>\n",
       "      <td>echidna</td>\n",
       "      <td>1</td>\n",
       "    </tr>\n",
       "    <tr>\n",
       "      <td>hydra</td>\n",
       "      <td>11</td>\n",
       "    </tr>\n",
       "    <tr>\n",
       "      <td>hydra_utils</td>\n",
       "      <td>1</td>\n",
       "    </tr>\n",
       "    <tr>\n",
       "      <td>hydramagrices</td>\n",
       "      <td>3</td>\n",
       "    </tr>\n",
       "    <tr>\n",
       "      <td>hydramatrices</td>\n",
       "      <td>3</td>\n",
       "    </tr>\n",
       "  </tbody>\n",
       "</table>\n",
       "</div>"
      ],
      "text/plain": [
       "               num_tasks\n",
       "Компонент               \n",
       "echidna                1\n",
       "hydra                 11\n",
       "hydra_utils            1\n",
       "hydramagrices          3\n",
       "hydramatrices          3"
      ]
     },
     "execution_count": 7,
     "metadata": {},
     "output_type": "execute_result"
    }
   ],
   "source": [
    "import numpy as np\n",
    "import pandas as pd\n",
    "\n",
    "file_path = '../data/task.csv'\n",
    "\n",
    "df = pd.read_csv(file_path)\n",
    "\n",
    "\n",
    "aggregation_json = {\n",
    " 'Затрачено в часах': {\n",
    "     'num_tasks': np.count_nonzero}\n",
    "}\n",
    "\n",
    "df.groupby(by=['Компонент'])[['Затрачено в часах']].aggregate(aggregation_json)"
   ]
  },
  {
   "cell_type": "markdown",
   "metadata": {},
   "source": [
    "### 3.2\n",
    "**Задание среднего уровня** Добавьте (в виде `list`) для каждого компонента набор задач, который был в этом компоненте выполнен (идентификаторы содержатся в поле \"Код\"). Для этого замените `.aggregate()` на `.apply(list)`\n",
    "\n",
    "Пример:"
   ]
  },
  {
   "cell_type": "code",
   "execution_count": 8,
   "metadata": {},
   "outputs": [
    {
     "name": "stdout",
     "output_type": "stream",
     "text": [
      "Исходный DataFrame:\n",
      "  key  val\n",
      "0   a    1\n",
      "1   a    2\n",
      "Применяем apply:\n"
     ]
    },
    {
     "data": {
      "text/plain": [
       "key\n",
       "a    [1, 2]\n",
       "Name: val, dtype: object"
      ]
     },
     "execution_count": 8,
     "metadata": {},
     "output_type": "execute_result"
    }
   ],
   "source": [
    "import pandas as pd\n",
    "\n",
    "print('Исходный DataFrame:')\n",
    "a = pd.DataFrame({'key':['a', 'a'], 'val':[1, 2]})\n",
    "print(a)\n",
    "print('Применяем apply:')\n",
    "a.groupby('key')['val'].apply(list)"
   ]
  },
  {
   "cell_type": "markdown",
   "metadata": {},
   "source": [
    "Результат выполнения\n",
    "\n",
    "<pre>\n",
    "Компонент\n",
    "echidna                                                [HYDRA-535]\n",
    "hydra            [HYDRA-534, HYDRA-530, HYDRA-527, HYDRA-524, H...\n",
    "hydra_utils                                            [HYDRA-510]\n",
    "hydramagrices                    [HYDRA-531, HYDRA-514, HYDRA-507]\n",
    "hydramatrices                    [HYDRA-532, HYDRA-518, HYDRA-513]\n",
    "</pre>"
   ]
  },
  {
   "cell_type": "code",
   "execution_count": 9,
   "metadata": {},
   "outputs": [
    {
     "data": {
      "text/html": [
       "<div>\n",
       "<style scoped>\n",
       "    .dataframe tbody tr th:only-of-type {\n",
       "        vertical-align: middle;\n",
       "    }\n",
       "\n",
       "    .dataframe tbody tr th {\n",
       "        vertical-align: top;\n",
       "    }\n",
       "\n",
       "    .dataframe thead th {\n",
       "        text-align: right;\n",
       "    }\n",
       "</style>\n",
       "<table border=\"1\" class=\"dataframe\">\n",
       "  <thead>\n",
       "    <tr style=\"text-align: right;\">\n",
       "      <th></th>\n",
       "      <th>Код</th>\n",
       "    </tr>\n",
       "    <tr>\n",
       "      <th>Компонент</th>\n",
       "      <th></th>\n",
       "    </tr>\n",
       "  </thead>\n",
       "  <tbody>\n",
       "    <tr>\n",
       "      <td>echidna</td>\n",
       "      <td>[HYDRA-535]</td>\n",
       "    </tr>\n",
       "    <tr>\n",
       "      <td>hydra</td>\n",
       "      <td>[HYDRA-534, HYDRA-530, HYDRA-527, HYDRA-524, H...</td>\n",
       "    </tr>\n",
       "    <tr>\n",
       "      <td>hydra_utils</td>\n",
       "      <td>[HYDRA-510]</td>\n",
       "    </tr>\n",
       "    <tr>\n",
       "      <td>hydramagrices</td>\n",
       "      <td>[HYDRA-531, HYDRA-514, HYDRA-507]</td>\n",
       "    </tr>\n",
       "    <tr>\n",
       "      <td>hydramatrices</td>\n",
       "      <td>[HYDRA-532, HYDRA-518, HYDRA-513]</td>\n",
       "    </tr>\n",
       "  </tbody>\n",
       "</table>\n",
       "</div>"
      ],
      "text/plain": [
       "                                                             Код\n",
       "Компонент                                                       \n",
       "echidna                                              [HYDRA-535]\n",
       "hydra          [HYDRA-534, HYDRA-530, HYDRA-527, HYDRA-524, H...\n",
       "hydra_utils                                          [HYDRA-510]\n",
       "hydramagrices                  [HYDRA-531, HYDRA-514, HYDRA-507]\n",
       "hydramatrices                  [HYDRA-532, HYDRA-518, HYDRA-513]"
      ]
     },
     "execution_count": 9,
     "metadata": {},
     "output_type": "execute_result"
    }
   ],
   "source": [
    "codes_list_df = pd.DataFrame(df.groupby('Компонент')['Код'].apply(list))\n",
    "\n",
    "codes_list_df.head()"
   ]
  },
  {
   "cell_type": "markdown",
   "metadata": {},
   "source": [
    "### 3.3\n",
    "**Задание высокого уровня** Составьте DataFrame с двумя колонками: среднее время на задачу и список задач `codes_list_df` внутри каждого \"Компонента\". Подсказка: подготовьте два датафрейма и используйте [функцию merge](https://pandas.pydata.org/pandas-docs/stable/reference/api/pandas.DataFrame.merge.html)"
   ]
  },
  {
   "cell_type": "code",
   "execution_count": 10,
   "metadata": {},
   "outputs": [
    {
     "data": {
      "text/html": [
       "<div>\n",
       "<style scoped>\n",
       "    .dataframe tbody tr th:only-of-type {\n",
       "        vertical-align: middle;\n",
       "    }\n",
       "\n",
       "    .dataframe tbody tr th {\n",
       "        vertical-align: top;\n",
       "    }\n",
       "\n",
       "    .dataframe thead th {\n",
       "        text-align: right;\n",
       "    }\n",
       "</style>\n",
       "<table border=\"1\" class=\"dataframe\">\n",
       "  <thead>\n",
       "    <tr style=\"text-align: right;\">\n",
       "      <th></th>\n",
       "      <th>mean_val</th>\n",
       "      <th>Код</th>\n",
       "    </tr>\n",
       "    <tr>\n",
       "      <th>Компонент</th>\n",
       "      <th></th>\n",
       "      <th></th>\n",
       "    </tr>\n",
       "  </thead>\n",
       "  <tbody>\n",
       "    <tr>\n",
       "      <td>echidna</td>\n",
       "      <td>1.000000</td>\n",
       "      <td>[HYDRA-535]</td>\n",
       "    </tr>\n",
       "    <tr>\n",
       "      <td>hydra</td>\n",
       "      <td>6.545455</td>\n",
       "      <td>[HYDRA-534, HYDRA-530, HYDRA-527, HYDRA-524, H...</td>\n",
       "    </tr>\n",
       "    <tr>\n",
       "      <td>hydra_utils</td>\n",
       "      <td>16.000000</td>\n",
       "      <td>[HYDRA-510]</td>\n",
       "    </tr>\n",
       "    <tr>\n",
       "      <td>hydramagrices</td>\n",
       "      <td>4.000000</td>\n",
       "      <td>[HYDRA-531, HYDRA-514, HYDRA-507]</td>\n",
       "    </tr>\n",
       "    <tr>\n",
       "      <td>hydramatrices</td>\n",
       "      <td>1.666667</td>\n",
       "      <td>[HYDRA-532, HYDRA-518, HYDRA-513]</td>\n",
       "    </tr>\n",
       "  </tbody>\n",
       "</table>\n",
       "</div>"
      ],
      "text/plain": [
       "                mean_val                                                Код\n",
       "Компонент                                                                  \n",
       "echidna         1.000000                                        [HYDRA-535]\n",
       "hydra           6.545455  [HYDRA-534, HYDRA-530, HYDRA-527, HYDRA-524, H...\n",
       "hydra_utils    16.000000                                        [HYDRA-510]\n",
       "hydramagrices   4.000000                  [HYDRA-531, HYDRA-514, HYDRA-507]\n",
       "hydramatrices   1.666667                  [HYDRA-532, HYDRA-518, HYDRA-513]"
      ]
     },
     "execution_count": 10,
     "metadata": {},
     "output_type": "execute_result"
    }
   ],
   "source": [
    "### YOUR CODE HERE ###\n",
    "aggregation_json = {\n",
    " 'Затрачено в часах': {'mean_val': np.mean}\n",
    "}\n",
    "\n",
    "mean_time = df.groupby(by=['Компонент'])[['Затрачено в часах']].agg(aggregation_json)\n",
    "result = pd.merge(mean_time, codes_list_df, on='Компонент')\n",
    "result"
   ]
  },
  {
   "cell_type": "markdown",
   "metadata": {},
   "source": [
    "## 4.  Работа с данными формата HTML"
   ]
  },
  {
   "cell_type": "markdown",
   "metadata": {},
   "source": [
    "### 4.1\n",
    "**Задание простого уровня** Распечатайте список курсов по программированию от Skillbox."
   ]
  },
  {
   "cell_type": "code",
   "execution_count": 13,
   "metadata": {},
   "outputs": [
    {
     "name": "stdout",
     "output_type": "stream",
     "text": [
      "\n",
      "      Веб-разработчик c 0 до PRO\n",
      "    \n",
      "      Java-разработчик\n",
      "    \n",
      "      Python-разработчик\n",
      "    \n",
      "      Аналитик данных на Python\n",
      "    \n",
      "      Frontend-разработчик\n",
      "    \n",
      "      PHP-разработчик c 0 до PRO\n",
      "    \n",
      "      Мобильный разработчик PRO\n",
      "    \n",
      "      JavaScript-фреймворк Vue.js\n",
      "    \n",
      "      JavaScript-фреймворк React.js\n",
      "    \n",
      "      Веб-вёрстка\n",
      "    \n",
      "      Python-фреймворк Django\n",
      "    \n",
      "      Тестировщик мобильных приложений\n",
      "    \n",
      "      Специалист по кибербезопасности\n",
      "    \n",
      "      Основы математики для Data Science\n",
      "    \n",
      "      Как подготовиться к IT-конференции\n",
      "    \n",
      "      PHP-фреймворк Symfony\n",
      "    \n",
      "      Middle-разработчик игр на Unity\n",
      "    \n",
      "      Работа в командной строке Bash\n",
      "    "
     ]
    }
   ],
   "source": [
    "import requests\n",
    "from lxml import html\n",
    "\n",
    "page = requests.get('https://skillbox.ru/courses/code').text\n",
    "\n",
    "### YOUR CODE HERE ###\n",
    "\n",
    "html_tree = html.fromstring(page)\n",
    "\n",
    "items_list = html_tree.xpath(\"//div[@class='{}']//b\".format('courses-list'))\n",
    "\n",
    "for item in items_list:\n",
    "    print(item.text_content(), end = '')\n",
    "    "
   ]
  },
  {
   "cell_type": "markdown",
   "metadata": {},
   "source": [
    "### 4.2\n",
    "\n",
    "**Задание среднего уровня**. Выведите список всех курсов Skillbox по программированию, дизайну, маркетингу и управлению. Добавьте к каждому курсу ссылку http на этот курс на сайте Skillbox."
   ]
  },
  {
   "cell_type": "markdown",
   "metadata": {},
   "source": [
    "*Результат выполнения*\n",
    "<pre>\n",
    "Курс: Веб-дизайн с нуля до PRO  link:  https://skillbox.ru/webdesign/\n",
    "Курс: Рекламная графика  link:  https://skillbox.ru/cpeople/\n",
    "Курс: UX-дизайн  link:  https://skillbox.ru/aic/\n",
    "</pre>"
   ]
  },
  {
   "cell_type": "code",
   "execution_count": 12,
   "metadata": {},
   "outputs": [
    {
     "name": "stdout",
     "output_type": "stream",
     "text": [
      "Курс: Веб-разработчик c 0 до PRO link: https://skillbox.ru/course/webdev/\n",
      "Курс: Java-разработчик link: https://skillbox.ru/course/java/\n",
      "Курс: Python-разработчик link: https://skillbox.ru/course/python/\n",
      "Курс: Аналитик данных на Python link: https://skillbox.ru/python-data/\n",
      "Курс: Frontend-разработчик link: https://skillbox.ru/course/frontend-developer/\n",
      "Курс: PHP-разработчик c 0 до PRO link: https://skillbox.ru/course/php/\n",
      "Курс: Мобильный разработчик PRO link: https://skillbox.ru/agima/\n",
      "Курс: JavaScript-фреймворк Vue.js link: https://skillbox.ru/course/vue-js/\n",
      "Курс: JavaScript-фреймворк React.js link: https://skillbox.ru/course/react-js/\n",
      "Курс: Веб-вёрстка link: https://skillbox.ru/course/weblayout/\n",
      "Курс: Python-фреймворк Django link: https://skillbox.ru/course/django-framework/\n",
      "Курс: Тестировщик мобильных приложений link: https://skillbox.ru/course/mobile-testing/\n",
      "Курс: Специалист по кибербезопасности link: https://skillbox.ru/course/cybersecurity/\n",
      "Курс: Основы математики для Data Science link: https://skillbox.ru/course/math-for-data-science/\n",
      "Курс: Как подготовиться к IT-конференции link: https://skillbox.ru/course/for-it-speaker/\n",
      "Курс: PHP-фреймворк Symfony link: https://skillbox.ru/course/symfony/\n",
      "Курс: Middle-разработчик игр на Unity link: https://skillbox.ru/course/unity-pro/\n",
      "Курс: Работа в командной строке Bash link: https://skillbox.ru/course/bash/\n",
      "Курс: Веб-дизайн с 0 до PRO link: https://skillbox.ru/course/webdesign/\n",
      "Курс: Cinema4D link: https://skillbox.ru/course/cinema4d/\n",
      "Курс: Дизайн мобильных приложений с 0 до PRO link: https://skillbox.ru/course/app-design-pro/\n",
      "Курс: Дизайн интерьеров с 0 до PRO link: https://skillbox.ru/course/interiordesigner/\n",
      "Курс: UX Design.Онлайн-курс Майкла Джанды link: https://janda.skillbox.ru/\n",
      "Курс: Photoshop с 0 до PRO link: https://skillbox.ru/photoshoppro/\n",
      "Курс: Sound Design c 0 до PRO link: https://skillbox.ru/course/sound-designer/\n",
      "Курс: Motion Design с 0 до PRO link: https://course.skillbox.ru/motion-design\n",
      "Курс: UX-дизайн link: https://skillbox.ru/course/uxdesign/\n",
      "Курс: ArchiCAD для дизайнеров интерьера link: https://course.skillbox.ru/archicad\n",
      "Курс: Анимация интерфейсов link: https://skillbox.ru/course/motion/\n",
      "Курс: Рекламная графика link: https://skillbox.ru/course/cpeople/\n",
      "Курс: Визуализация в 3ds Max и V-Ray link: https://skillbox.ru/course/3d-max-visualisation/\n",
      "Курс: Дизайнер сайтов на Tilda link: https://course.skillbox.ru/tilda\n",
      "Курс: Дизайн коммерческих интерьеров с 0 до PRO link: https://skillbox.ru/course/commercial-design/\n",
      "Курс: Экспресс-курс «Дизайнер сайтов» link: https://skillbox.ru/course/redcollar/\n",
      "Курс: Графический дизайнер с нуля до PRO link: https://skillbox.ru/course/graphic-design/\n",
      "Курс: Ableton Live c 0 до PRO link: https://skillbox.ru/course/ableton-live/\n",
      "Курс: Брендинг и бренд-дизайн link: https://skillbox.ru/course/branding/\n",
      "Курс: Скетчинг для дизайнеров link: https://skillbox.ru/course/sketching/\n",
      "Курс: 3D Max для дизайнеров интерьера link: https://skillbox.ru/course/3d-max/\n",
      "Курс: Фриланс для дизайнера link: https://skillbox.ru/course/freelancer/\n",
      "Курс: Скетчинг на iPad link: https://skillbox.ru/course/ipad-sketching/\n",
      "Курс: Adobe XD link: https://skillbox.ru/course/adobexd/\n",
      "Курс: 3D-моделирование в Zbrush с нуля link: https://skillbox.ru/course/zbrush/\n",
      "Курс: Дизайнер логотипа и фирменного стиля link: https://course.skillbox.ru/logodesign\n",
      "Курс: After Effects с 0 до PRO link: https://course.skillbox.ru/after-effects\n",
      "Курс: Управление дизайн-командами и арт-дирекшн link: https://new.skillbox.ru/artdirector\n",
      "Курс: 3D-моделирование для начинающих link: https://skillbox.ru/course/3d/\n",
      "Курс: Figma для дизайнера link: https://skillbox.ru/course/figma/\n",
      "Курс: Sketch с нуля link: https://skillbox.ru/course/sketchapp/\n",
      "Курс: Шрифт в дизайне link: https://new.skillbox.ru/paratype\n",
      "Курс: Скетчинг для дизайнеров интерьера link: https://skillbox.ru/course/interior-sketching/\n",
      "Курс: Флористика с нуля link: https://skillbox.ru/course/floristics/\n",
      "Курс: SketchUp c нуля до PRO link: https://skillbox.ru/course/sketchup/\n",
      "Курс: Веб-аналитика от Ingate link: https://skillbox.ru/course/web-analytic-ingate/\n",
      "Курс: Копирайтинг от А до Я link: https://skillbox.ru/course/copywriter/\n",
      "Курс: Интернет-маркетолог с нуля link: https://skillbox.ru/course/internet-marketolog/\n",
      "Курс: SMM-маркетолог от А до Я link: https://skillbox.ru/course/smm/\n",
      "Курс: Контекстная реклама от А до Я link: https://skillbox.ru/course/ppc/\n",
      "Курс: Таргетолог link: https://skillbox.ru/targetolog/\n",
      "Курс: SEO-специалист link: https://course.skillbox.ru/seo-specialist/\n",
      "Курс: Digital-стратег link: https://course.skillbox.ru/digitalstrategy\n",
      "Курс: Performance-маркетинг link: https://skillbox.ru/course/performance-mark/\n",
      "Курс: Управление репутацией бренда в сети link: https://skillbox.ru/course/reputation/\n",
      "Курс: Продвижение в Инстаграм link: https://skillbox.ru/instagram/\n",
      "Курс: Как делать контент для YouTube link: https://skillbox.ru/blogger/\n",
      "Курс: Сквозная аналитика link: https://skillbox.ru/end-to-end/\n",
      "Курс: CRM-маркетолог link: https://course.skillbox.ru/crm-marketolog\n",
      "Курс: PR-менеджер от PRT link: https://skillbox.ru/course/prmanager/\n",
      "Курс: Интернет-маркетолог от Ingate link: https://skillbox.ru/marketolog/\n",
      "Курс: Запуск и продвижение интернет-магазина с нуля link: https://skillbox.ru/course/ecommerce/\n",
      "Курс: Маркетинг для предпринимателей link: https://skillbox.ru/course/marketing-for-business/\n",
      "Курс: Основы контент-маркетинга link: https://skillbox.ru/course/content-marketing/\n",
      "Курс: Управление продуктом link: https://skillbox.ru/course/product-management/\n",
      "Курс: Управление проектами link: https://skillbox.ru/course/itproject/\n",
      "Курс: Руководитель digital-проектов link: https://course.skillbox.ru/sibirix-managment/\n",
      "Курс: Менеджмент и маркетинг в индустрии спорта link: https://course.skillbox.ru/sportmanagement/\n",
      "Курс: Мастер презентации и публичных выступлений link: https://skillbox.ru/course/presentation-master/\n",
      "Курс: Продюсер онлайн-курсов link: https://skillbox.ru/producer/\n",
      "Курс: Как открыть и развивать веб‑студию link: https://skillbox.ru/course/studio/\n",
      "Курс: Эффективное партнерство в бизнесе link: https://skillbox.ru/course/partnership/\n",
      "Курс: Excel + Google-таблицы с нуля до PRO link: https://skillbox.ru/course/excel-gsheets/\n",
      "Курс: Менеджмент в индустрии красоты link: https://skillbox.ru/course/beauty-industry/\n",
      "Курс: Управление командами link: https://skillbox.ru/course/team-management/\n",
      "Курс: Продвижение и продажи в digital-агентстве link: https://skillbox.ru/course/digital-sales/\n",
      "Курс: PowerPoint и Google Презентации link: https://skillbox.ru/course/powerpoint-gslides/\n",
      "Курс: MS Office и Google Office с нуля до PRO link: https://skillbox.ru/course/msoffice/\n",
      "Курс: Финансовая грамотность link: https://skillbox.ru/course/finance/\n",
      "Курс: Финансы для нефинансистов link: https://skillbox.ru/course/finance-non-financier/\n",
      "Курс: Как открыть digital-агентство link: https://skillbox.ru/course/digital-agency/\n",
      "Курс: Customer Development link: https://skillbox.ru/course/custdev/\n"
     ]
    }
   ],
   "source": [
    "courses = ['code', 'design', 'marketing', 'management']\n",
    "for i in courses:\n",
    "    page = requests.get('https://skillbox.ru/courses/' + i).text\n",
    "    html_tree = html.fromstring(page)\n",
    "    items_list = html_tree.xpath(\"//div[@class='{}']//a\".format('courses-list'))\n",
    "    \n",
    "    for item in items_list:\n",
    "        print('Курс:', item.text_content().strip().split(\"\\n\")[0], 'link:', item.get('href'))"
   ]
  },
  {
   "cell_type": "markdown",
   "metadata": {},
   "source": [
    "### 4.3\n",
    "**Задание высокого уровня**. Напишите код, который переходит по ссылкам на страницы курсов по программированию из предыдущего задания и распечатывает описание курса."
   ]
  },
  {
   "cell_type": "code",
   "execution_count": 29,
   "metadata": {
    "scrolled": true
   },
   "outputs": [
    {
     "name": "stdout",
     "output_type": "stream",
     "text": [
      "https://skillbox.ru/course/webdev/\n",
      "['']\n",
      "https://skillbox.ru/course/java/\n",
      "['Онлайн-курс Java-разработчик Skillbox: стань специалистом по Java. Обучение на Java-разработчика в Москве, Санкт-Петербурге и в любом регионе РФ с сертификатом и помощью в трудоустройстве.']\n",
      "https://skillbox.ru/course/python/\n",
      "['Онлайн-курс Python-разработчик Skillbox: стань специалистом по Python. Обучение на Python-разработчика в Москве, Санкт-Петербурге и в любом регионе РФ с сертификатом и помощью в трудоустройстве.']\n",
      "https://skillbox.ru/python-data/\n",
      "['Онлайн-курс Аналитик данных на Python Skillbox: стань специалистом по Аналитике данных на Python. Обучение на Аналитика данных на Python в Москве, Санкт-Петербурге и в любом регионе РФ с сертификатом и помощью в трудоустройстве.']\n",
      "https://skillbox.ru/course/frontend-developer/\n",
      "['']\n",
      "https://skillbox.ru/course/php/\n",
      "['']\n",
      "https://skillbox.ru/agima/\n",
      "['Освойте все современные инструменты, создайте собственное мобильное &nbsp;приложение, опубликуйте его в App Store и Google Play и добавьте в портфолио.']\n",
      "https://skillbox.ru/course/vue-js/\n",
      "['']\n",
      "https://skillbox.ru/course/react-js/\n",
      "['']\n",
      "https://skillbox.ru/course/weblayout/\n",
      "['']\n",
      "https://skillbox.ru/course/django-framework/\n",
      "['']\n",
      "https://skillbox.ru/course/mobile-testing/\n",
      "['']\n",
      "https://skillbox.ru/course/cybersecurity/\n",
      "['']\n",
      "https://skillbox.ru/course/math-for-data-science/\n",
      "['']\n",
      "https://skillbox.ru/course/for-it-speaker/\n",
      "['']\n",
      "https://skillbox.ru/course/symfony/\n",
      "['']\n",
      "https://skillbox.ru/course/unity-pro/\n",
      "['']\n",
      "https://skillbox.ru/course/bash/\n",
      "['']\n"
     ]
    }
   ],
   "source": [
    "import requests\n",
    "\n",
    "page = requests.get('https://skillbox.ru/courses/code').text\n",
    "html_tree = html.fromstring(page)\n",
    "items_list = html_tree.xpath(\"//div[contains(@class, '{}')]//a\".format('courses-list'))\n",
    "for item in items_list:\n",
    "    link = item.get('href')\n",
    "    print(link)\n",
    "    new_page = requests.get(link).text\n",
    "    new_html_tree = html.fromstring(new_page)\n",
    "    print(new_html_tree.xpath(\"/html/head/meta[@name='description']/@content\"))"
   ]
  },
  {
   "cell_type": "markdown",
   "metadata": {},
   "source": [
    "## 5. Работа с данными формата XML"
   ]
  },
  {
   "cell_type": "markdown",
   "metadata": {},
   "source": [
    "### 5.1\n",
    "\n",
    "**Задание начального уровня** Распечатайте все фильмы (а не только драмы) в формате: `название фильма: жанр`"
   ]
  },
  {
   "cell_type": "code",
   "execution_count": 30,
   "metadata": {},
   "outputs": [
    {
     "name": "stdout",
     "output_type": "stream",
     "text": [
      "The Shawshank Redemption No genre\n",
      "The Dark Knight No genre\n",
      "\"Back 2 the Future\" No genre\n"
     ]
    }
   ],
   "source": [
    "from xml.etree import ElementTree\n",
    "\n",
    "file_path = '../data/xml_content_description.xml'\n",
    "\n",
    "with open(file_path) as f:\n",
    "    doc = ElementTree.parse(f)\n",
    "    content_titles = doc.getroot()\n",
    "    for movie in content_titles.findall(\"Content/content_title\"):\n",
    "        if (movie.find('./genere') is not None):\n",
    "            print(movie.find('./title').text, movie.find('./genre').text)\n",
    "        else:\n",
    "            print(movie.find('./title').text, 'No genre')"
   ]
  },
  {
   "cell_type": "markdown",
   "metadata": {},
   "source": [
    "### 5.2\n",
    "**Задание среднего уровня** Посчитайте среднюю длительность контента в файле. xml_content_description"
   ]
  },
  {
   "cell_type": "code",
   "execution_count": 31,
   "metadata": {
    "scrolled": true
   },
   "outputs": [
    {
     "name": "stdout",
     "output_type": "stream",
     "text": [
      "avg_duration=8820.0\n"
     ]
    }
   ],
   "source": [
    "import math\n",
    "from xml.etree import ElementTree\n",
    "\n",
    "file_path = '../data/xml_content_description.xml'\n",
    "duration = []\n",
    "num_content = 0\n",
    "\n",
    "with open(file_path) as f:\n",
    "    doc = ElementTree.parse(f)\n",
    "    content_titles = doc.getroot()\n",
    "    for movie in content_titles.findall(\"Content/content_title/[duration]\"):\n",
    "        duration.append(int(movie.find('duration').text))\n",
    "        num_content+=1\n",
    "\n",
    "\n",
    "\n",
    "print(\"avg_duration={}\".format(sum(duration)/num_content))"
   ]
  },
  {
   "cell_type": "markdown",
   "metadata": {},
   "source": [
    "### 5.3\n",
    "**Задание высокого уровня** Если речь идёт о продакшн-системах машинного обучения, то данные могут приходить в форматах, мало пригодных для использования - например XML. В таких случаях приходится приводить данные к превычному табличному формату - такой кейс мы решим в рамках домашней работы.\n",
    "\n",
    "Нужно определить, сколько полей будет в выходном файле и как залить в него данные\n",
    "\n",
    "Алгоритм\n",
    "* сформируйте массив словарей `content_list`, где каждый элемент массива - это словарь вида `{tag1: value1,...,tag_n:value_n}`\n",
    "* каждый результат findall можно итеративно обойти, распечатав тэг и его значение в виде\n",
    "<pre>\n",
    "        for i in movie:\n",
    "            print(i.text, i.tag)\n",
    "</pre>\n",
    "* из полученного словаря сформируйте DataFrame с тремя колонками: `movie_id | tag | value` (movie_id соответствует номеру словаря среди всех словарей `content_list`)\n",
    "* сохраните Dataframe c помощью функции `.to_csv()`"
   ]
  },
  {
   "cell_type": "code",
   "execution_count": 42,
   "metadata": {},
   "outputs": [],
   "source": [
    "# имя входного файла XML\n",
    "input_file = '../data/xml_content_description.xml'\n",
    "# имя выходного файла CSV\n",
    "output_file = 'csv_content_description.csv'\n",
    "tag_value = dict()\n",
    "lists_id = dict()\n",
    "content_list = []\n",
    "\n",
    "with open(input_file) as f:\n",
    "    doc = ElementTree.parse(f)\n",
    "    content_titles = doc.getroot()\n",
    "    for movie in content_titles.findall(\"./Content/content_title\"):\n",
    "        for i in movie:\n",
    "            tag_value[i.tag] = i.text\n",
    "        content_list.append(tag_value)\n",
    "        tag_value = dict()\n",
    "df = pd.DataFrame(columns = ['movie_id', 'tag', 'value'])\n",
    "k = 0\n",
    "for i in range(3):\n",
    "    for key in content_list[i].keys():\n",
    "        df.loc[k] = [i, key, content_list[i][key]]\n",
    "        k += 1\n",
    "df.set_index(['movie_id',], inplace = True)\n",
    "df.to_csv(output_file)"
   ]
  },
  {
   "cell_type": "code",
   "execution_count": 43,
   "metadata": {},
   "outputs": [
    {
     "data": {
      "text/html": [
       "<div>\n",
       "<style scoped>\n",
       "    .dataframe tbody tr th:only-of-type {\n",
       "        vertical-align: middle;\n",
       "    }\n",
       "\n",
       "    .dataframe tbody tr th {\n",
       "        vertical-align: top;\n",
       "    }\n",
       "\n",
       "    .dataframe thead th {\n",
       "        text-align: right;\n",
       "    }\n",
       "</style>\n",
       "<table border=\"1\" class=\"dataframe\">\n",
       "  <thead>\n",
       "    <tr style=\"text-align: right;\">\n",
       "      <th></th>\n",
       "      <th>tag</th>\n",
       "      <th>value</th>\n",
       "    </tr>\n",
       "    <tr>\n",
       "      <th>movie_id</th>\n",
       "      <th></th>\n",
       "      <th></th>\n",
       "    </tr>\n",
       "  </thead>\n",
       "  <tbody>\n",
       "    <tr>\n",
       "      <td>0</td>\n",
       "      <td>content_id</td>\n",
       "      <td>1181251680</td>\n",
       "    </tr>\n",
       "    <tr>\n",
       "      <td>0</td>\n",
       "      <td>genre</td>\n",
       "      <td>drama</td>\n",
       "    </tr>\n",
       "    <tr>\n",
       "      <td>0</td>\n",
       "      <td>title</td>\n",
       "      <td>The Shawshank Redemption</td>\n",
       "    </tr>\n",
       "    <tr>\n",
       "      <td>0</td>\n",
       "      <td>iid</td>\n",
       "      <td>040000008200E000</td>\n",
       "    </tr>\n",
       "    <tr>\n",
       "      <td>0</td>\n",
       "      <td>releaseTime</td>\n",
       "      <td>1181572063</td>\n",
       "    </tr>\n",
       "    <tr>\n",
       "      <td>0</td>\n",
       "      <td>state</td>\n",
       "      <td>None</td>\n",
       "    </tr>\n",
       "    <tr>\n",
       "      <td>0</td>\n",
       "      <td>location</td>\n",
       "      <td>None</td>\n",
       "    </tr>\n",
       "    <tr>\n",
       "      <td>0</td>\n",
       "      <td>duration</td>\n",
       "      <td>8520</td>\n",
       "    </tr>\n",
       "    <tr>\n",
       "      <td>0</td>\n",
       "      <td>descr</td>\n",
       "      <td>Two imprisoned men bond over a number of years...</td>\n",
       "    </tr>\n",
       "    <tr>\n",
       "      <td>1</td>\n",
       "      <td>content_id</td>\n",
       "      <td>1234360800</td>\n",
       "    </tr>\n",
       "    <tr>\n",
       "      <td>1</td>\n",
       "      <td>title</td>\n",
       "      <td>The Dark Knight</td>\n",
       "    </tr>\n",
       "    <tr>\n",
       "      <td>1</td>\n",
       "      <td>genre</td>\n",
       "      <td>drama</td>\n",
       "    </tr>\n",
       "    <tr>\n",
       "      <td>1</td>\n",
       "      <td>duration</td>\n",
       "      <td>9120</td>\n",
       "    </tr>\n",
       "    <tr>\n",
       "      <td>1</td>\n",
       "      <td>descr</td>\n",
       "      <td>The Dark Knight must accept one of the greates...</td>\n",
       "    </tr>\n",
       "    <tr>\n",
       "      <td>1</td>\n",
       "      <td>location</td>\n",
       "      <td>None</td>\n",
       "    </tr>\n",
       "    <tr>\n",
       "      <td>1</td>\n",
       "      <td>iid</td>\n",
       "      <td>604f4792-eb89-478b-a14f-dd34d3cc6c21-1234360800</td>\n",
       "    </tr>\n",
       "    <tr>\n",
       "      <td>1</td>\n",
       "      <td>state</td>\n",
       "      <td>dismissed</td>\n",
       "    </tr>\n",
       "    <tr>\n",
       "      <td>2</td>\n",
       "      <td>title</td>\n",
       "      <td>\"Back 2 the Future\"</td>\n",
       "    </tr>\n",
       "    <tr>\n",
       "      <td>2</td>\n",
       "      <td>year</td>\n",
       "      <td>1985</td>\n",
       "    </tr>\n",
       "    <tr>\n",
       "      <td>2</td>\n",
       "      <td>descr</td>\n",
       "      <td>Marty McFly</td>\n",
       "    </tr>\n",
       "  </tbody>\n",
       "</table>\n",
       "</div>"
      ],
      "text/plain": [
       "                  tag                                              value\n",
       "movie_id                                                                \n",
       "0          content_id                                         1181251680\n",
       "0               genre                                              drama\n",
       "0               title                           The Shawshank Redemption\n",
       "0                 iid                                   040000008200E000\n",
       "0         releaseTime                                         1181572063\n",
       "0               state                                               None\n",
       "0            location                                               None\n",
       "0            duration                                               8520\n",
       "0               descr  Two imprisoned men bond over a number of years...\n",
       "1          content_id                                         1234360800\n",
       "1               title                                    The Dark Knight\n",
       "1               genre                                              drama\n",
       "1            duration                                               9120\n",
       "1               descr  The Dark Knight must accept one of the greates...\n",
       "1            location                                               None\n",
       "1                 iid    604f4792-eb89-478b-a14f-dd34d3cc6c21-1234360800\n",
       "1               state                                          dismissed\n",
       "2               title                                \"Back 2 the Future\"\n",
       "2                year                                               1985\n",
       "2               descr                                        Marty McFly"
      ]
     },
     "execution_count": 43,
     "metadata": {},
     "output_type": "execute_result"
    }
   ],
   "source": [
    "df"
   ]
  },
  {
   "cell_type": "code",
   "execution_count": null,
   "metadata": {},
   "outputs": [],
   "source": []
  }
 ],
 "metadata": {
  "kernelspec": {
   "display_name": "Python 3",
   "language": "python",
   "name": "python3"
  },
  "language_info": {
   "codemirror_mode": {
    "name": "ipython",
    "version": 3
   },
   "file_extension": ".py",
   "mimetype": "text/x-python",
   "name": "python",
   "nbconvert_exporter": "python",
   "pygments_lexer": "ipython3",
   "version": "3.7.4"
  }
 },
 "nbformat": 4,
 "nbformat_minor": 4
}
