{
 "cells": [
  {
   "cell_type": "markdown",
   "metadata": {
    "colab_type": "text",
    "id": "c2KtXmjxtgw-"
   },
   "source": [
    "# Исключения\n",
    "## Домашняя работа"
   ]
  },
  {
   "cell_type": "markdown",
   "metadata": {
    "colab_type": "text",
    "id": "0Vhx-zKitgxA"
   },
   "source": [
    "### Вопросы по лекциям."
   ]
  },
  {
   "cell_type": "markdown",
   "metadata": {
    "colab_type": "text",
    "id": "14lleKewtgxC"
   },
   "source": [
    "Как поймать вообще все ошибки, которые могут произойти?"
   ]
  },
  {
   "cell_type": "markdown",
   "metadata": {
    "colab_type": "text",
    "id": "VQnYGkVKtgxD"
   },
   "source": [
    "**Ответ:** с помощью except\n"
   ]
  },
  {
   "cell_type": "markdown",
   "metadata": {
    "colab_type": "text",
    "id": "paSc2JE6tgxD"
   },
   "source": [
    "Сколько раз подряд можно указывать except?"
   ]
  },
  {
   "cell_type": "markdown",
   "metadata": {
    "colab_type": "text",
    "id": "bU0lzJPBtgxE"
   },
   "source": [
    "**Ответ:** Бесконечное число раз.\n"
   ]
  },
  {
   "cell_type": "markdown",
   "metadata": {
    "colab_type": "text",
    "id": "9wQ-yXpGtgxF"
   },
   "source": [
    "Вы хотите с помощью print вывести название ошибки в консоль, как это сделать?"
   ]
  },
  {
   "cell_type": "markdown",
   "metadata": {
    "colab_type": "text",
    "id": "iE1iqRZctgxH"
   },
   "source": [
    "**Ответ:** Можно реализовать путем следующего синтаксиса: except ZiroDevicionEror as exc:\n",
    "print(f'ловим ошибку {exc}')\n"
   ]
  },
  {
   "cell_type": "markdown",
   "metadata": {
    "colab_type": "text",
    "id": "EDAi3ZFBtgxI"
   },
   "source": [
    "Вы хотите с помощью print вывести параметры ошибки в консоль, как это сделать?"
   ]
  },
  {
   "cell_type": "markdown",
   "metadata": {
    "colab_type": "text",
    "id": "qWimgtF3tgxK"
   },
   "source": [
    "**Ответ:** def except (self, exc_type, exc_val, exc_tb)\n"
   ]
  },
  {
   "cell_type": "markdown",
   "metadata": {
    "colab_type": "text",
    "id": "leOCJIlRtgxK"
   },
   "source": [
    "Что такое DeprecationWarning?"
   ]
  },
  {
   "cell_type": "markdown",
   "metadata": {
    "colab_type": "text",
    "id": "KyaynuyvtgxL"
   },
   "source": [
    "**Ответ:** Категория предупреждений о функциональности нежелательной к использованию, и о выходе нового релиза.\n"
   ]
  },
  {
   "cell_type": "markdown",
   "metadata": {
    "colab_type": "text",
    "id": "oxgCUHzotgxM"
   },
   "source": [
    "### Разминочные задания. \n",
    "<br>\n",
    "\n",
    "Вам даны две функции. Поисследуйте, какие ошибки могут возникнуть при их реализации. Обработайте эти ошибки."
   ]
  },
  {
   "cell_type": "code",
   "execution_count": null,
   "metadata": {
    "colab": {},
    "colab_type": "code",
    "id": "X4nsMUUAtgxN"
   },
   "outputs": [
    {
     "name": "stdout",
     "output_type": "stream",
     "text": [
      "enter a number: 1\n",
      "enter another number: 0\n",
      "На 0 делить нельзя!\n",
      "enter a number: a\n",
      "Введите корректные значения\n",
      "enter a number: b\n",
      "Введите корректные значения\n",
      "enter a number: 10\n",
      "enter another number: 2\n",
      "10 / 2 = 5.0\n",
      "enter a number: \n",
      "Введите корректные значения\n",
      "enter a number: \n",
      "Введите корректные значения\n",
      "enter a number: \n",
      "Введите корректные значения\n"
     ]
    }
   ],
   "source": [
    "def div():\n",
    "    while True:\n",
    "        try:\n",
    "            for i in range(2):\n",
    "                x = int(input(\"enter a number: \"))\n",
    "                y = int(input(\"enter another number: \"))\n",
    "                print(x, '/', y, '=', x/y)\n",
    "            break\n",
    "        \n",
    "        except ZeroDivisionError:\n",
    "            print('На 0 делить нельзя!')\n",
    "        \n",
    "        except ValueError:\n",
    "            print('Введите корректные значения')\n",
    "\n",
    "div()"
   ]
  },
  {
   "cell_type": "code",
   "execution_count": 3,
   "metadata": {
    "colab": {},
    "colab_type": "code",
    "id": "hoDmt-nStgxS"
   },
   "outputs": [
    {
     "name": "stdout",
     "output_type": "stream",
     "text": [
      "превышен диапазон\n"
     ]
    }
   ],
   "source": [
    "def sumOfPairs(L1, L2):\n",
    "    try:\n",
    "        sum = 0\n",
    "        sumOfPairs = []\n",
    "        for i in range(len(L1)):\n",
    "            sumOfPairs.append(L1[i]+L2[i])\n",
    "\n",
    "        print(\"sumOfPairs = \", sumOfPairs)\n",
    "         \n",
    "    except IndexError:\n",
    "        print('превышен диапазон')\n",
    "    \n",
    "sumOfPairs([1, 2, 3, 5], [1, 2, 3])"
   ]
  },
  {
   "cell_type": "markdown",
   "metadata": {
    "colab_type": "text",
    "id": "geX0-Zq6tgxU"
   },
   "source": [
    "### Задание 1.\n",
    "\n",
    "Есть файл с протоколом регистраций пользователей на сайте (registrations.txt).<br>\n",
    "Каждая строка содержит информацию о имени, электронной почте и возрасте человека. <br><br>\n",
    "\n",
    "\n",
    "Надо проверить данные из файла, для каждой строки:\n",
    " - присутсвуют все три поля\n",
    " - поле имени содержит только буквы\n",
    " - поле email содержит @ и .\n",
    " - поле возраст является числом от 10 до 99<br>\n",
    "\n",
    "В результате проверки нужно сформировать два файла\n",
    " - registrations_good.log для правильных данных, записывать строки как есть\n",
    "- registrations_bad.log для ошибочных, записывать строку и вид ошибки.<br>\n",
    "\n",
    "Для валидации строки данных написать метод, который может выкидывать исключения:\n",
    " - НЕ присутсвуют все три поля: ValueError\n",
    " - поле имени содержит НЕ только буквы: NotNameError (кастомное исключение)\n",
    " - поле email НЕ содержит @ и .(точку): NotEmailError (кастомное исключение)\n",
    " - поле возраст НЕ является числом от 10 до 99: ValueError\n",
    "Вызов метода обернуть в try-except."
   ]
  },
  {
   "cell_type": "code",
   "execution_count": 3,
   "metadata": {
    "colab": {},
    "colab_type": "code",
    "id": "Eq2Ax0LntgxW"
   },
   "outputs": [],
   "source": [
    "class NotNameError(Exception):\n",
    "    pass\n",
    "\n",
    "class NotEmailError(Exception):\n",
    "    pass\n",
    "\n",
    "class LogsValidator:\n",
    "    def __init__(self):\n",
    "        self.line = None\n",
    "        self.name = None\n",
    "        self.email = None\n",
    "        self.age = None\n",
    "\n",
    "    def validation_error(self, line):\n",
    "        self.line =line\n",
    "        self.name, self.email, self.age = self.line.split(' ')\n",
    "        if (self.name_validation() and self.email_validation() and self.age_validation()):\n",
    "            return True\n",
    "\n",
    "    def name_validation(self):\n",
    "        if self.name.isalpha():\n",
    "            return True\n",
    "        else:\n",
    "            raise NotNameError('поле имени содержит НЕ только буквы')\n",
    "\n",
    "    def email_validation(selfself):\n",
    "        if '.' and '@':\n",
    "            return True\n",
    "        else:\n",
    "            raise NotEmailError('поле email НЕ содержит @ и .(точку)')\n",
    "\n",
    "    def age_validation(self):\n",
    "        if 10 <= int(self.age) >= 90:\n",
    "            return True\n",
    "        else:\n",
    "            raise ValueError('поле возраст НЕ является числом от 10 до 99')\n",
    "\n",
    "f = LogsValidator()\n",
    "with open(file=\"registrations.txt\", mode=\"r\", encoding=\"utf-8\") as file, \\\n",
    "        open(file=\"registrations_good.log\", mode=\"a\", encoding=\"utf-8\") as good_log:\n",
    "    for line in file:\n",
    "        try:\n",
    "            if f.validation_error(line):\n",
    "                good_log.write(f'{line}')\n",
    "        except(NotNameError, NotEmailError, ValueError) as exc:\n",
    "            with open(file=\"registrations_bad.log\", mode=\"a\", encoding=\"utf-8\") as ff:\n",
    "                ff.write(f'{exc} in line: {line}')\n"
   ]
  },
  {
   "cell_type": "code",
   "execution_count": null,
   "metadata": {},
   "outputs": [],
   "source": []
  }
 ],
 "metadata": {
  "colab": {
   "name": "jun_anl_exeptions.ipynb",
   "provenance": [],
   "version": "0.3.2"
  },
  "kernelspec": {
   "display_name": "Python 3",
   "language": "python",
   "name": "python3"
  },
  "language_info": {
   "codemirror_mode": {
    "name": "ipython",
    "version": 3
   },
   "file_extension": ".py",
   "mimetype": "text/x-python",
   "name": "python",
   "nbconvert_exporter": "python",
   "pygments_lexer": "ipython3",
   "version": "3.7.3"
  }
 },
 "nbformat": 4,
 "nbformat_minor": 1
}
