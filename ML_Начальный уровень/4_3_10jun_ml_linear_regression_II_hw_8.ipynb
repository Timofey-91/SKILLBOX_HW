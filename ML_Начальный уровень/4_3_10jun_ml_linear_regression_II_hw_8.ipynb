{
 "cells": [
  {
   "cell_type": "markdown",
   "metadata": {
    "id": "90H1_YdZMMbo"
   },
   "source": [
    "### Урок 8. Домашняя работа\n",
    "\n",
    "**Задание среднего уровня** Примените градиентный спуск к задаче прогнозирования цен на недвижимость в Бостоне. Какого качества на валидации удалось достичь по r2-score? Сколько итераций  понадобилось?"
   ]
  },
  {
   "cell_type": "code",
   "execution_count": 1,
   "metadata": {
    "id": "0q8EbVXRMMbp"
   },
   "outputs": [],
   "source": [
    "from sklearn.datasets import load_boston\n",
    "from sklearn.model_selection import train_test_split\n",
    "from sklearn.linear_model import SGDRegressor\n",
    "\n",
    "from sklearn.metrics import r2_score\n",
    "from scipy.spatial import distance\n",
    "import numpy as np\n",
    "\n",
    "from matplotlib import pyplot as plt\n",
    "%matplotlib inline\n",
    "\n",
    "boston_dataset = load_boston()\n",
    "X = boston_dataset.data\n",
    "y = boston_dataset.target\n",
    "X_train, X_test, y_train, y_test = train_test_split(X, y, test_size=0.2, random_state=10)"
   ]
  },
  {
   "cell_type": "code",
   "execution_count": 4,
   "metadata": {},
   "outputs": [
    {
     "name": "stdout",
     "output_type": "stream",
     "text": [
      "Итарации закончились на шаге 7404, R2_score=0.581898, distance=0.000200\n"
     ]
    },
    {
     "data": {
      "text/plain": [
       "[<matplotlib.lines.Line2D at 0x1b6fee94bc8>]"
      ]
     },
     "execution_count": 4,
     "metadata": {},
     "output_type": "execute_result"
    },
    {
     "data": {
      "image/png": "[encoded data removed]",
      "text/plain": [
       "<Figure size 432x288 with 1 Axes>"
      ]
     },
     "metadata": {
      "needs_background": "light"
     },
     "output_type": "display_data"
    }
   ],
   "source": [
    "sgd_regressor = SGDRegressor(learning_rate='constant', eta0=0.000001, fit_intercept=True, random_state=42)\n",
    "w_current  = np.random.random(X_train.shape[1])\n",
    "epsilon = 0.0002\n",
    "weight_evolution, r2_evolution = [], [] # изменения весов и ошибка на валидации\n",
    "for step in list(range(10000)):\n",
    "    sgd_regressor = sgd_regressor.partial_fit(X_train, y_train)\n",
    "    weight_evolution.append(distance.euclidean(w_current, sgd_regressor.coef_))\n",
    "    if weight_evolution[-1]<epsilon:\n",
    "        break\n",
    "    r2_evolution.append(r2_score(y_test, sgd_regressor.predict(X_test)))\n",
    "    w_current = sgd_regressor.coef_.copy()\n",
    "print(\"Итарации закончились на шаге %d, R2_score=%f, distance=%f\" % (step\n",
    "            , r2_score(y_test, sgd_regressor.predict(X_test)), weight_evolution[-1]) )\n",
    "plt.plot(range(len(r2_evolution)), r2_evolution)"
   ]
  },
  {
   "cell_type": "code",
   "execution_count": 5,
   "metadata": {},
   "outputs": [
    {
     "name": "stdout",
     "output_type": "stream",
     "text": [
      "R2_score = 0.11683982934533543\n"
     ]
    }
   ],
   "source": [
    "sgd1 = SGDRegressor(learning_rate='constant', max_iter=10000, eta0=0.000001 ,fit_intercept=True, random_state=42)\n",
    "sgd1.fit(X_train, y_train)\n",
    "print('R2_score =', r2_score(y_test, sgd1.predict(X_test)) )"
   ]
  },
  {
   "cell_type": "markdown",
   "metadata": {
    "id": "ZadrTkGLMMbs"
   },
   "source": [
    "Вы можете начать использовать градиентный спуск уже сейчас! Если вы хотите глубже понять механизмы, которые использует этот приём - добро пожаловать в урок 5, где мы поговорим о математике, которая стоит за градиентным спуском и даже реализуем градиентный спуск на языке Python."
   ]
  }
 ],
 "metadata": {
  "celltoolbar": "Slideshow",
  "colab": {
   "collapsed_sections": [],
   "name": "jun_ml_linear_regression_II-hw_8.ipynb",
   "provenance": []
  },
  "kernelspec": {
   "display_name": "Python 3",
   "language": "python",
   "name": "python3"
  },
  "language_info": {
   "codemirror_mode": {
    "name": "ipython",
    "version": 3
   },
   "file_extension": ".py",
   "mimetype": "text/x-python",
   "name": "python",
   "nbconvert_exporter": "python",
   "pygments_lexer": "ipython3",
   "version": "3.7.4"
  }
 },
 "nbformat": 4,
 "nbformat_minor": 1
}
