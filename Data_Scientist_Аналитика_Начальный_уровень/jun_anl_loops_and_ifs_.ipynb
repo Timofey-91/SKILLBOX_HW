{
 "cells": [
  {
   "cell_type": "markdown",
   "metadata": {
    "colab_type": "text",
    "id": "X9wfb-pqPzYu"
   },
   "source": [
    "# Циклы и условия\n",
    "\n",
    "## Домашняя работа\n",
    "Эта домашняя работа должна быть решена **БЕЗ** использования готовых функций (если именно они \"решают\" задачу) и сторонних библиотек. Используйте циклы и условия."
   ]
  },
  {
   "cell_type": "markdown",
   "metadata": {
    "colab_type": "text",
    "id": "DMpu8uUoPzY0"
   },
   "source": [
    "## 1\n",
    "\n",
    "Напишите программу, которая будет запрашивать на вход числа (через запятую на одной строке) и выводить наибольшее значение из списка.\n",
    "<br><br>\n",
    "*Ограничение: нельзя пользоваться готовой функцией для нахождения максимума (например, `max()`), готовыми функциями и методами сортировки (например, `sort()`,`sorted()`).*"
   ]
  },
  {
   "cell_type": "code",
   "execution_count": 1,
   "metadata": {
    "colab": {},
    "colab_type": "code",
    "id": "dHs34-p-PzY3"
   },
   "outputs": [
    {
     "name": "stdout",
     "output_type": "stream",
     "text": [
      "Input some numbers: 1, 5, 10, 50, 1222, 2000\n",
      "max number:  2000\n"
     ]
    }
   ],
   "source": [
    "some_num = map(int, input(\"Input some numbers: \").split(','))\n",
    "max_num = 0\n",
    "for num in (some_num):\n",
    "    if num > max_num:\n",
    "        max_num = num\n",
    "print(\"max number: \",max_num)"
   ]
  },
  {
   "cell_type": "markdown",
   "metadata": {
    "colab_type": "text",
    "id": "sCF9Hd9rPzZD"
   },
   "source": [
    "### 2\n",
    "\n",
    "Напишите программу, которая будет запрашивать на вход числа (каждое с новой строки) до тех пор, пока не будет введен ноль (0). На выход должно выводиться второе по величине значение.\n",
    "<br><br>\n",
    "*Ограничение: нельзя пользоваться готовой функцией для нахождения максимума (например, `max()`), готовыми функциями и методами сортировки (например, `sort()`,`sorted()`).*"
   ]
  },
  {
   "cell_type": "code",
   "execution_count": 3,
   "metadata": {
    "colab": {},
    "colab_type": "code",
    "id": "yrJk-mEjPzZF"
   },
   "outputs": [
    {
     "name": "stdout",
     "output_type": "stream",
     "text": [
      "Введите число (0 - выход из программы): 4\n",
      "Введите число (0 - выход из программы): 6\n",
      "Введите число (0 - выход из программы): 8\n",
      "Введите число (0 - выход из программы): 10\n",
      "Введите число (0 - выход из программы): 0\n",
      "Второе по величине занчения числа: 8\n"
     ]
    }
   ],
   "source": [
    "max_num, num = 0, 0\n",
    "while True:\n",
    "    a = int(input(\"Введите число (0 - выход из программы): \"))\n",
    "    if a == 0:\n",
    "        break\n",
    "    if a > max_num:\n",
    "        max_num, num = a, max_num\n",
    "    elif a > num:\n",
    "        num = a\n",
    "print(\"Второе по величине занчения числа:\", num)"
   ]
  },
  {
   "cell_type": "markdown",
   "metadata": {
    "colab_type": "text",
    "id": "fdJZMUtGPzZN"
   },
   "source": [
    "### 3\n",
    "\n",
    "Напишите программу, которая принимает на вход год, а на выход выдает количество дней в этом году."
   ]
  },
  {
   "cell_type": "code",
   "execution_count": 13,
   "metadata": {
    "colab": {},
    "colab_type": "code",
    "id": "Dk6PDx-jPzZP"
   },
   "outputs": [
    {
     "name": "stdout",
     "output_type": "stream",
     "text": [
      "Введите год: 3020\n",
      "Колличество дней в году:  366 дней.\n"
     ]
    }
   ],
   "source": [
    "year = int(input(\"Введите год: \"))\n",
    "\n",
    "if year % 4 == 0:\n",
    "    if year % 100 == 0 and year % 40 == 0:\n",
    "        year = 365\n",
    "    else:\n",
    "            year = 366\n",
    "else:\n",
    "    year = 365\n",
    "\n",
    "print(\"Колличество дней в году: \", year, \"дней.\")\n"
   ]
  },
  {
   "cell_type": "markdown",
   "metadata": {
    "colab_type": "text",
    "id": "wFGBh0dYPzZV"
   },
   "source": [
    "### 4\n",
    "\n",
    "Напишите программу, которая на вход получает координаты двух клеток шахматной доски и выводит соощение о том, являются ли эти клетки одного цвета."
   ]
  },
  {
   "cell_type": "code",
   "execution_count": 3,
   "metadata": {
    "colab": {},
    "colab_type": "code",
    "id": "k-8POcqGPzZW"
   },
   "outputs": [
    {
     "name": "stdout",
     "output_type": "stream",
     "text": [
      "Введите координаты 1 клетки: A5\n",
      "Введите координаты 2 клетки: F1\n",
      "Введенные координаты клеток: Координаты клеток - Разные, Цвет клеток:  black and white\n"
     ]
    }
   ],
   "source": [
    "x = 'ABCDEFGH'\n",
    "y = '12345678'\n",
    "\n",
    "cell_1 = input(\"Введите координаты 1 клетки: \")\n",
    "cell_2 = input(\"Введите координаты 2 клетки: \")\n",
    "\n",
    "def chess_color(cell):\n",
    "    x_1 = cell[0]\n",
    "    y_1 = cell[1]\n",
    "    if x.index(x_1) % 2 == y.index(y_1) % 2:\n",
    "        return 'black'\n",
    "    return 'white'\n",
    "\n",
    "color_cell_1 = chess_color(cell_1)\n",
    "color_cell_2 = chess_color(cell_2)\n",
    "if color_cell_1 == color_cell_2:\n",
    "    print(\"Введенные координаты клеток: Координаты клеток - Одинаковые,\", \"Цвет клеток: \", color_cell_1)\n",
    "else:\n",
    "    print(\"Введенные координаты клеток: Координаты клеток - Разные,\", \"Цвет клеток: \", color_cell_1, \"and\", color_cell_2)"
   ]
  },
  {
   "cell_type": "markdown",
   "metadata": {
    "colab_type": "text",
    "id": "O594rz0tPzZb"
   },
   "source": [
    "### 5\n",
    "\n",
    "Напишите программу, которая на вход получает число, а на выходе сообщает, простое это число или составное."
   ]
  },
  {
   "cell_type": "code",
   "execution_count": 1,
   "metadata": {
    "colab": {},
    "colab_type": "code",
    "id": "-Oy1AesyPzZd"
   },
   "outputs": [
    {
     "name": "stdout",
     "output_type": "stream",
     "text": [
      "Input number: 2\n",
      "It's prime number\n",
      "It's prime number\n"
     ]
    }
   ],
   "source": [
    "import math\n",
    "\n",
    "n = int(input(\"Input number: \"))\n",
    "if n < 2:\n",
    "    print(\"A number must be 2 and more\")\n",
    "    quit()\n",
    "\n",
    "elif n == 2:\n",
    "    print(\"It's prime number\")\n",
    "    quit()\n",
    "\n",
    "i = 2\n",
    "\n",
    "limit = int(math.sqrt(n))\n",
    "    \n",
    "while i <= limit:\n",
    "    if n % i == 0:\n",
    "        print(\"This is composite number\")\n",
    "        quit()\n",
    "    i += 1\n",
    "\n",
    "print(\"It's prime number\")"
   ]
  },
  {
   "cell_type": "markdown",
   "metadata": {
    "colab_type": "text",
    "id": "QzBAQaW8PzZg"
   },
   "source": [
    "### 6\n",
    "\n",
    "Напишите программу, которая на вход получает целое число больше 2 и выводит по нему его наименьший натуральный делитель, отличный от 1."
   ]
  },
  {
   "cell_type": "code",
   "execution_count": 23,
   "metadata": {
    "colab": {},
    "colab_type": "code",
    "id": "Z2QzgAYKPzZi"
   },
   "outputs": [
    {
     "name": "stdout",
     "output_type": "stream",
     "text": [
      "Введите число: 10\n",
      "Наименьший натуральный делитель числа:  10  =  2\n"
     ]
    }
   ],
   "source": [
    "number = int(input(\"Введите число: \"))\n",
    "i = 2\n",
    "while True:\n",
    "    if (number % i) == 0:\n",
    "        print(\"Наименьший натуральный делитель числа: \", number, \" = \", i)\n",
    "        break\n",
    "    i += 1"
   ]
  },
  {
   "cell_type": "markdown",
   "metadata": {
    "colab_type": "text",
    "id": "Mdg_IAfFPzZk"
   },
   "source": [
    "### 7\n",
    "\n",
    "Напишите программу, которая поможет составить план тренировок для подготовки к марафону. Она получает на вход число километров на планируемом марафоне, сколько пользователь планирует пробежать в первый день тренировок и на сколько процентов планирует увеличивать каждый день это расстояние. На выходе программа должна выдавать, сколько дней пользователю потребуется для того, чтобы подготовиться пробежать целевое количество километров.\n",
    "<br><br>\n",
    "*Ограничение: нельзя пользоваться функцией `ceil()` из модуля `math` и ее аналогами.*"
   ]
  },
  {
   "cell_type": "code",
   "execution_count": 5,
   "metadata": {
    "colab": {},
    "colab_type": "code",
    "id": "mXeF6AMWPzZl"
   },
   "outputs": [
    {
     "name": "stdout",
     "output_type": "stream",
     "text": [
      "Дистанция: 10\n",
      "Первый день: 5\n",
      "Введите % - Увеличение дистанции: 0.5\n",
      "У вас 3 дня на подготовку\n"
     ]
    }
   ],
   "source": [
    "distance = float(input(\"Дистанция: \"))\n",
    "one_day = float(input(\"Первый день: \"))\n",
    "percent = float(input(\"Введите % - Увеличение дистанции: \"))\n",
    "\n",
    "day = 1\n",
    "while distance > one_day:\n",
    "    one_day += one_day * percent\n",
    "    day += 1\n",
    "\n",
    "print(\"У вас\", day, \"дня на подготовку\")"
   ]
  },
  {
   "cell_type": "markdown",
   "metadata": {
    "colab_type": "text",
    "id": "sxKoWpYKPzZo"
   },
   "source": [
    "### 8\n",
    "\n",
    "Напишите программу, которая на вход получает число n и считает по нему сумму 1²+2²+3²+...+n².\n",
    "<br><br>\n",
    "*Ограничение: нельзя пользоваться функцией `sum()` и ее аналогами.*"
   ]
  },
  {
   "cell_type": "code",
   "execution_count": 1,
   "metadata": {
    "colab": {},
    "colab_type": "code",
    "id": "RiPlWLm6PzZp"
   },
   "outputs": [
    {
     "name": "stdout",
     "output_type": "stream",
     "text": [
      "n: 555\n",
      "57138730\n"
     ]
    }
   ],
   "source": [
    "n = int(input(\"n: \"))\n",
    "sum = 0\n",
    "\n",
    "for i in range(1, n + 1):\n",
    "    sum += i ** 2\n",
    "\n",
    "print(sum)"
   ]
  },
  {
   "cell_type": "markdown",
   "metadata": {
    "colab_type": "text",
    "id": "aXzG4-wdPzZr"
   },
   "source": [
    "## 9\n",
    "\n",
    "Напишите программу, которая на вход получает число n и считает по нему сумму сумму 1! + 2! + 3! + ... + n!\n",
    "<br><br>\n",
    "*Ограничение: нельзя пользоваться готовой функцией `factorial()` из модуля `math`, функцией `sum()` и их аналогами.*"
   ]
  },
  {
   "cell_type": "code",
   "execution_count": 32,
   "metadata": {
    "colab": {},
    "colab_type": "code",
    "id": "KBEXUEDQPzZs"
   },
   "outputs": [
    {
     "name": "stdout",
     "output_type": "stream",
     "text": [
      "n: 10\n",
      "4037913\n"
     ]
    }
   ],
   "source": [
    "n = int(input(\"n: \"))\n",
    "\n",
    "sum = 0\n",
    "fact = 1\n",
    "\n",
    "for i in range(1, n + 1):\n",
    "    total = fact * i\n",
    "    sum += total\n",
    "    fact = total\n",
    "print(sum)\n"
   ]
  },
  {
   "cell_type": "markdown",
   "metadata": {
    "colab_type": "text",
    "id": "4nsOuiWVPzZu"
   },
   "source": [
    "### 10\n",
    "\n",
    "Напишите программу, которая получает на вход последовательность чисел (каждое число с новой строки до того момента, пока пользователь не введет 0) и считает количество четных элементов в последовательности."
   ]
  },
  {
   "cell_type": "code",
   "execution_count": 30,
   "metadata": {
    "colab": {},
    "colab_type": "code",
    "id": "xktF2cocPzZv"
   },
   "outputs": [
    {
     "name": "stdout",
     "output_type": "stream",
     "text": [
      "Введите число (0 - выход из программы): 1\n",
      "Введите число (0 - выход из программы): 2\n",
      "Введите число (0 - выход из программы): 3\n",
      "Введите число (0 - выход из программы): 4\n",
      "Введите число (0 - выход из программы): 5\n",
      "Введите число (0 - выход из программы): 6\n",
      "Введите число (0 - выход из программы): 7\n",
      "Введите число (0 - выход из программы): 8\n",
      "Введите число (0 - выход из программы): 9\n",
      "Введите число (0 - выход из программы): 10\n",
      "Введите число (0 - выход из программы): 11\n",
      "Введите число (0 - выход из программы): 0\n",
      "Количество четных элементов в последовательности: 5\n"
     ]
    }
   ],
   "source": [
    "n = -1\n",
    "i = -1\n",
    "\n",
    "while n != 0:\n",
    "    n = int(input(\"Введите число (0 - выход из программы): \"))\n",
    "    if n % 2 == 0:\n",
    "        i += 1\n",
    "print(\"Количество четных элементов в последовательности:\", i)\n"
   ]
  },
  {
   "cell_type": "markdown",
   "metadata": {
    "colab_type": "text",
    "id": "hyC9QGXPPzZx"
   },
   "source": [
    "### 11\n",
    "\n",
    "Напишите программу, которая формирует список игроков женской команды по футболу. Программа должна записывать возраст и пол претендента. Возраст должен запрашиваться после пола и только в том случае, если пол претендента женский. Если пол претендента мужской, программа должна сообщать о том, что он не подходит. Возраст претенденток должен быть от 18 до 35 лет. Если кандидат удовлетворяет требованиям, должно появляться соответствующее сообщение."
   ]
  },
  {
   "cell_type": "code",
   "execution_count": 18,
   "metadata": {
    "colab": {},
    "colab_type": "code",
    "id": "qSDK-zQ4PzZx"
   },
   "outputs": [
    {
     "name": "stdout",
     "output_type": "stream",
     "text": [
      "Введите ваш пол: ж\n",
      "Введите ваш возраст: 36\n",
      "Вы нам не подходите\n"
     ]
    }
   ],
   "source": [
    "s = input(\"Введите ваш пол: \")\n",
    "if s != 'ж':\n",
    "    print(\"Вы нам не подходите\")\n",
    "else:\n",
    "    age = int(input(\"Введите ваш возраст: \"))\n",
    "    if  18 <= age >=35:\n",
    "        print(\"Вы нам не подходите\")\n",
    "    else:\n",
    "        print(\"Вы нам подходите\")"
   ]
  },
  {
   "cell_type": "markdown",
   "metadata": {
    "colab_type": "text",
    "id": "B4JAB8AqPzZ0"
   },
   "source": [
    "### 12\n",
    "\n",
    "\n",
    "Напишите программу, которая на вход получает максимальную ширину ромба и рисует его. Гарантируется, что входное число всегда нечетное.\n",
    " \n",
    "Пример вывода для числа 5:\n",
    "```  \n",
    "  *\n",
    " ***\n",
    "*****\n",
    " ***\n",
    "  *```"
   ]
  },
  {
   "cell_type": "code",
   "execution_count": 39,
   "metadata": {
    "colab": {},
    "colab_type": "code",
    "id": "WVp7O75oPzZ0"
   },
   "outputs": [
    {
     "name": "stdout",
     "output_type": "stream",
     "text": [
      "Введите ширину ромба: 5\n",
      "  *  \n",
      " *** \n",
      "*****\n",
      " *** \n",
      "  *  \n"
     ]
    }
   ],
   "source": [
    "rhombus = int(input(\"Введите ширину ромба: \"))\n",
    "romb = list(range(1, rhombus, 2)) + list(range(rhombus, 0, -2))\n",
    "\n",
    "for i in romb:\n",
    "    img = ' ' * ((rhombus - i) // 2)\n",
    "    print(img + '*' * i + img)\n"
   ]
  },
  {
   "cell_type": "markdown",
   "metadata": {
    "colab_type": "text",
    "id": "xrIXWj0yPzZ2"
   },
   "source": [
    "### 13\n",
    "\n",
    "Напишите программу, которая запрашивает у пользователя сторону квадрата и символ, а затем рисует этот символ по диагоналям квадрата. Гарантируется, что входное число всегда нечетное.\n",
    " \n",
    "Пример вывода для числа 5:\n",
    "```\n",
    " \n",
    "#   #\n",
    " # #\n",
    "  #  \n",
    " # #\n",
    "#   #\n",
    "```"
   ]
  },
  {
   "cell_type": "code",
   "execution_count": 44,
   "metadata": {
    "colab": {},
    "colab_type": "code",
    "id": "oUKNB9TaPzZ3",
    "outputId": "47421e19-6d45-4cef-9df8-0d89200499ca"
   },
   "outputs": [
    {
     "name": "stdout",
     "output_type": "stream",
     "text": [
      "Введите сторону: 5\n",
      "Введите символ: &\n",
      "&   &\n",
      " & & \n",
      "  &  \n",
      " & & \n",
      "&   &\n"
     ]
    }
   ],
   "source": [
    "n = int(input(\"Введите сторону: \"))\n",
    "s = input(\"Введите символ: \")\n",
    "\n",
    "for i in range(n):\n",
    "    for j in range(n):\n",
    "        if i==j or i == (n - 1)-j:\n",
    "            print(s ,end='')\n",
    "        else:\n",
    "            print(' ',end='')\n",
    "    print()"
   ]
  },
  {
   "cell_type": "markdown",
   "metadata": {
    "colab_type": "text",
    "id": "3GaiPsFYPzZ_"
   },
   "source": [
    "### 14\n",
    "\n",
    "В корзине лежат шары. Если разложить их в кучи по 2, останется один. Если разложить в кучи по 3, останется один. Если разложить в кучи по 4, останется один. Если разложить в кучи по 5, останется один. Если разложить в кучи по 6, останется один. Если разложить в кучи по 7, не будет остатка. Нужно найти минимальное количество шаров, удовлетворяющее условию.  <br>"
   ]
  },
  {
   "cell_type": "code",
   "execution_count": 1,
   "metadata": {
    "colab": {
     "base_uri": "https://localhost:8080/",
     "height": 32
    },
    "colab_type": "code",
    "executionInfo": {
     "elapsed": 1380,
     "status": "ok",
     "timestamp": 1571844968537,
     "user": {
      "displayName": "Анастасия Рогачевская",
      "photoUrl": "https://lh3.googleusercontent.com/a-/AAuE7mB92snW1RMZTGvFBrPMpd_BzLIeP2XnbSZ3ZNVFUQ=s64",
      "userId": "07714489023974728369"
     },
     "user_tz": -180
    },
    "id": "V2msEhQkPzZ_",
    "outputId": "c36c996d-347b-430f-f53e-65e37eb23108"
   },
   "outputs": [
    {
     "name": "stdout",
     "output_type": "stream",
     "text": [
      "301\n"
     ]
    }
   ],
   "source": [
    "i = 0\n",
    "\n",
    "while True:\n",
    "    i +=1\n",
    "    if i % 2 == 1 and i % 3 == 1 and i % 4 == 1 and i % 5 == 1 and i % 6 == 1 and i % 7 == 0:\n",
    "        break\n",
    "    else:\n",
    "        continue\n",
    "\n",
    "print (i)"
   ]
  },
  {
   "cell_type": "markdown",
   "metadata": {
    "colab_type": "text",
    "id": "5pOjlON-PzaC"
   },
   "source": [
    "### 15\n",
    "\n",
    "Рабочие клеили обои на стены. Первую стену поклеили за M минут, а каждую следующую на 5 минут больше, чем предыдущую.\n",
    "Напишите программу, которая запрашивает сколько стен было в квартире под поклейку, а также время работы с первой стеной. Программа должна выводить, сколько **часов** рабочие потратили на поклейку обоев во всей квартире. Ответом должно быть целое число.\n",
    "<br><br>\n",
    "*Ограничение: нельзя пользоваться готовыми функциями `bool()`, `floor()` и их аналогами.*"
   ]
  },
  {
   "cell_type": "code",
   "execution_count": 3,
   "metadata": {
    "colab": {},
    "colab_type": "code",
    "id": "Pmu96rWGPzaD"
   },
   "outputs": [
    {
     "name": "stdout",
     "output_type": "stream",
     "text": [
      "Введите кол-во стен: 5\n",
      "Сколько потратили минут на поклейку 1 стены: 30\n",
      "На поклейку обоев ушло 4 часа\n"
     ]
    }
   ],
   "source": [
    "wall = int(input(\"Введите кол-во стен: \"))\n",
    "time = int(input(\"Сколько потратили минут на поклейку 1 стены: \")) \n",
    "result = time\n",
    "for i in range(1, wall):\n",
    "    time += 5\n",
    "    result += time\n",
    "n = result // 60\n",
    "if result % 60 != 0:\n",
    "    n += 1\n",
    "print(\"На поклейку обоев ушло\", n, \"часа\")"
   ]
  },
  {
   "cell_type": "markdown",
   "metadata": {
    "colab_type": "text",
    "id": "63C6Za3CPzaF"
   },
   "source": [
    "### 16\n",
    "\n",
    "Напишите программу, которая убирает из списка повторяющиеся элементы. Программа должна запрашивать на вход слова, каждое с новой строки, пока пользователь не введет пустую строку. Затем должна выводить список без повторяющихся элементов. \n",
    "<br><br>\n",
    "*Ограничение: нельзя пользоваться готовой функцией `set()` и ее аналогами.*"
   ]
  },
  {
   "cell_type": "code",
   "execution_count": 3,
   "metadata": {
    "colab": {},
    "colab_type": "code",
    "id": "MQ-eDkbAPzaG"
   },
   "outputs": [
    {
     "name": "stdout",
     "output_type": "stream",
     "text": [
      "Введите слово (для выхода из программы, введите пустую строчку): 1\n",
      "Введите слово (для выхода из программы, введите пустую строчку): 1\n",
      "Введите слово (для выхода из программы, введите пустую строчку): 2\n",
      "Введите слово (для выхода из программы, введите пустую строчку): 3\n",
      "Введите слово (для выхода из программы, введите пустую строчку): 4\n",
      "Введите слово (для выхода из программы, введите пустую строчку): \n",
      "['1', '1', '2', '3', '4']\n",
      "['1', '2', '3', '4']\n"
     ]
    }
   ],
   "source": [
    "def words_list():\n",
    "    res = []\n",
    "    while True:\n",
    "        n = input(\"Введите слово (для выхода из программы, введите пустую строчку): \")\n",
    "        if n =='':\n",
    "            return res\n",
    "        else:\n",
    "            res.append(n)\n",
    "\n",
    "\n",
    "def unique_list(words):\n",
    "    res = []\n",
    "    for word in words:\n",
    "        if not word in res:\n",
    "            res.append(word)\n",
    "    return res\n",
    "w_list = words_list()\n",
    "print(w_list)\n",
    "print(unique_list(w_list))"
   ]
  },
  {
   "cell_type": "markdown",
   "metadata": {
    "colab_type": "text",
    "id": "jueSDORaPzaI"
   },
   "source": [
    "\n",
    "\n",
    "### 17\n",
    "\n",
    "Напишите программу, которая выводит число пар одинаковых элементов в списке. Программа должна запрашивать на вход слова, каждое с новой строки, пока пользователь не введет пустую строку. "
   ]
  },
  {
   "cell_type": "code",
   "execution_count": 47,
   "metadata": {
    "colab": {},
    "colab_type": "code",
    "id": "49tbEr3NPzaJ"
   },
   "outputs": [
    {
     "name": "stdout",
     "output_type": "stream",
     "text": [
      "Введите слово (для выхода из программы, введите пустую строчку): abc\n",
      "Введите слово (для выхода из программы, введите пустую строчку): abc\n",
      "Введите слово (для выхода из программы, введите пустую строчку): abc\n",
      "Введите слово (для выхода из программы, введите пустую строчку): fgh\n",
      "Введите слово (для выхода из программы, введите пустую строчку): fgh\n",
      "Введите слово (для выхода из программы, введите пустую строчку): hjk\n",
      "Введите слово (для выхода из программы, введите пустую строчку): \n",
      "{'abc': 3, 'fgh': 1, 'hjk': 0}\n"
     ]
    }
   ],
   "source": [
    "def sum(words):\n",
    "    if words < 2:\n",
    "            return 0\n",
    "    return (words - 1) + sum(words - 1)\n",
    "res = []\n",
    "while True:\n",
    "    word = input(\"Введите слово (для выхода из программы, введите пустую строчку): \")\n",
    "    if word == '':\n",
    "        break\n",
    "    res.append(word)\n",
    "dickt = {}\n",
    "\n",
    "for word in res:\n",
    "    dickt.setdefault(word, 0)\n",
    "    dickt[word] += 1\n",
    "\n",
    "for word in dickt:\n",
    "    dickt[word] = sum(dickt[word])\n",
    "\n",
    "print(dickt)"
   ]
  },
  {
   "cell_type": "markdown",
   "metadata": {
    "colab_type": "text",
    "id": "yVLcBrD-PzaN"
   },
   "source": [
    "### 18\n",
    "\n",
    "Будем считать, что кубик может иметь неограниченное количество граней (натуральное число). Напишите программу, которая запрашивает, сколько граней имеется у двух разных кубиков. Затем выводит все возможные комбинации результатов бросков двух таких кубиков. "
   ]
  },
  {
   "cell_type": "code",
   "execution_count": 49,
   "metadata": {
    "colab": {},
    "colab_type": "code",
    "id": "7I2va0KwPzaR"
   },
   "outputs": [
    {
     "name": "stdout",
     "output_type": "stream",
     "text": [
      "Введите кол-во граней 1-го куба:16\n",
      "Введите кол-во граней 2-го куба:16\n",
      "число 02 - 1 комбинаций\n",
      "число 03 - 2 комбинаций\n",
      "число 04 - 3 комбинаций\n",
      "число 05 - 4 комбинаций\n",
      "число 06 - 5 комбинаций\n",
      "число 07 - 6 комбинаций\n",
      "число 08 - 7 комбинаций\n",
      "число 09 - 8 комбинаций\n",
      "число 10 - 9 комбинаций\n",
      "число 11 - 10 комбинаций\n",
      "число 12 - 11 комбинаций\n",
      "число 13 - 12 комбинаций\n",
      "число 14 - 13 комбинаций\n",
      "число 15 - 14 комбинаций\n",
      "число 16 - 15 комбинаций\n",
      "число 17 - 16 комбинаций\n",
      "число 18 - 15 комбинаций\n",
      "число 19 - 14 комбинаций\n",
      "число 20 - 13 комбинаций\n",
      "число 21 - 12 комбинаций\n",
      "число 22 - 11 комбинаций\n",
      "число 23 - 10 комбинаций\n",
      "число 24 - 9 комбинаций\n",
      "число 25 - 8 комбинаций\n",
      "число 26 - 7 комбинаций\n",
      "число 27 - 6 комбинаций\n",
      "число 28 - 5 комбинаций\n",
      "число 29 - 4 комбинаций\n",
      "число 30 - 3 комбинаций\n",
      "число 31 - 2 комбинаций\n",
      "число 32 - 1 комбинаций\n"
     ]
    }
   ],
   "source": [
    "c1 = int(input(\"Введите кол-во граней 1-го куба:\"))\n",
    "c2 = int(input(\"Введите кол-во граней 2-го куба:\"))\n",
    "result = []\n",
    "for i in range(1, int(c1) + 1):\n",
    "    for j in range(1, int(c2) +1):\n",
    "        result.append(i + j)\n",
    "        \n",
    "print('\\n'.join([f\"число {x:02} - {result.count(x)} комбинаций\" for x in set(result)]))"
   ]
  },
  {
   "cell_type": "code",
   "execution_count": null,
   "metadata": {},
   "outputs": [],
   "source": []
  }
 ],
 "metadata": {
  "colab": {
   "name": "jun_anl_loops_and_ifs_СКРИПТ.ipynb",
   "provenance": []
  },
  "kernelspec": {
   "display_name": "Python 3",
   "language": "python",
   "name": "python3"
  },
  "language_info": {
   "codemirror_mode": {
    "name": "ipython",
    "version": 3
   },
   "file_extension": ".py",
   "mimetype": "text/x-python",
   "name": "python",
   "nbconvert_exporter": "python",
   "pygments_lexer": "ipython3",
   "version": "3.7.4"
  }
 },
 "nbformat": 4,
 "nbformat_minor": 1
}
