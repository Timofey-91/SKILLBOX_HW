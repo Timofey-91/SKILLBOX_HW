{
 "cells": [
  {
   "cell_type": "markdown",
   "metadata": {},
   "source": [
    "# Классы\n",
    "## Домашнее задание"
   ]
  },
  {
   "cell_type": "markdown",
   "metadata": {},
   "source": [
    "### Вопросы по лекциям\n",
    "\n",
    "#### 1.\n",
    "\n",
    "Напишите название функции, которая является конструктором класса."
   ]
  },
  {
   "cell_type": "markdown",
   "metadata": {},
   "source": [
    "**Ответ:** \n",
    "\n",
    "`def __init__(slef):`"
   ]
  },
  {
   "cell_type": "markdown",
   "metadata": {},
   "source": [
    "#### 2.\n",
    "\n",
    "На что указывает переменная `self`?"
   ]
  },
  {
   "cell_type": "markdown",
   "metadata": {},
   "source": [
    "**Ответ:** Эта переменная указывает на сам объект экземпляра класса."
   ]
  },
  {
   "cell_type": "markdown",
   "metadata": {},
   "source": [
    "#### 3.\n",
    "С помощью какой функции можно проверить, что некая строка является именем одного из атрибутов объекта?"
   ]
  },
  {
   "cell_type": "markdown",
   "metadata": {},
   "source": [
    "**Ответ:**    hasattr"
   ]
  },
  {
   "cell_type": "markdown",
   "metadata": {},
   "source": [
    "#### 4.\n",
    "Когда вызывается метод `__del__`? (относительно события удаления объекта)"
   ]
  },
  {
   "cell_type": "markdown",
   "metadata": {},
   "source": [
    "**Ответ:** метод `__del__` вызывается перед самим удалением объекта"
   ]
  },
  {
   "cell_type": "markdown",
   "metadata": {},
   "source": [
    "#### 5.\n",
    "Верно ли, что атрибут класса перекрывает атрибут объекта?"
   ]
  },
  {
   "cell_type": "markdown",
   "metadata": {},
   "source": [
    "**Ответ:** Не верно, так как атрибут объекта действует в пространстве имен, а атрибут класса в своем и они не пересекаются."
   ]
  },
  {
   "cell_type": "markdown",
   "metadata": {},
   "source": [
    "#### 6.\n",
    "Можно ли атрибуты базового класса вызывать в дочернем классе? Если да, то напишите, нет ли исклчений?"
   ]
  },
  {
   "cell_type": "markdown",
   "metadata": {},
   "source": [
    "**Ответ:** Да можно, за исключением атрибутов, который начинаются с 2-мя нижними подчеркиваниями."
   ]
  },
  {
   "cell_type": "markdown",
   "metadata": {},
   "source": [
    "#### 7.\n",
    "Объясните своими словами для чего нужен метод `super`."
   ]
  },
  {
   "cell_type": "markdown",
   "metadata": {},
   "source": [
    "**Ответ:** Главной задачей метода super(), это возможность использовать его в классе потомке, методов класса - родителя."
   ]
  },
  {
   "cell_type": "markdown",
   "metadata": {},
   "source": [
    "### Практика\n",
    "\n",
    "1. Напишите класс `Fraction` для работы с дробями. Пусть дробь в нашем классе предстает в виде `числитель/знаменатель`. Дробное число должно создаваться по запросу `Fraction(a, b)`, где `a` – это числитель, а `b` – знаменатель дроби. \n",
    "2. Добавьте возможность сложения (сложения через оператор сложения) для дроби. Предполагается, что операция сложения может проводиться как только между дробями, так и между дробью и целым числом. Результат оперции должен быть представлен в виде дроби.\n",
    "3. Добавьте возможность взятия раздости (вычитания через оператор вычитания) для дробей. Предполагается, что операция вычитания может проводиться как только для двух дробей, так и для дроби и целого числа. Результат оперции должен быть представлен в виде дроби.\n",
    "4. Добавьте возможность умножения (умножения через оператор умножения) для дробей. Предполагается, что операция умножения может проводиться как только для двух дробей, так и для дроби и целого числа. Результат оперции должен быть представлен в виде дроби.\n",
    "5. Добавьте возможность приведения дроби к целому числу через стандартную функцию `int()`.\n",
    "6. Добавьте возможность приведения дроби к числу с плавающей точкой через стандартную функцию `float()`.\n",
    "7. Создайте дочерний класс `OperationsOnFraction` и добавьте туда собственные методы `getint` и `getfloat`, которые будут возвращять целую часть дроби и представление дроби в виде числа с плавающей точкой соответственно. \n",
    " "
   ]
  },
  {
   "cell_type": "code",
   "execution_count": 1,
   "metadata": {},
   "outputs": [
    {
     "name": "stdout",
     "output_type": "stream",
     "text": [
      "24/8\n",
      "-16/8\n",
      "4/20\n",
      "0 2\n",
      "0.5 2.5\n",
      "0\n",
      "0.8333333333333334\n"
     ]
    }
   ],
   "source": [
    "class Fraction():\n",
    "    \n",
    "    def __init__(self, a, b):\n",
    "        self.a = a\n",
    "        self.b = b\n",
    "   \n",
    "    def __str__(self):\n",
    "        return '{}/{}'.format(self.a, self.b)\n",
    "    \n",
    "    def __add__(self, other):\n",
    "        if isinstance(other, Fraction):\n",
    "            return Fraction(self.a * other.b + other.a * self.b, self.b * other.b)\n",
    "        else:\n",
    "            new_frac = Fraction(otehr, 1)\n",
    "            new_obj = self + new_other\n",
    "        return new_obj\n",
    "    \n",
    "    def __sub__(self, other):\n",
    "        if isinstance(other, Fraction):\n",
    "            return Fraction(self.a * other.b - other.a * self.b, self.b * other.b)\n",
    "        else:\n",
    "            new_frac = Fraction(other, 1)\n",
    "            new_obj = self - new_other\n",
    "        return new_obj\n",
    "    \n",
    "    def __mul__(self, other):\n",
    "        if isinstance(other, Fraction):\n",
    "            return Fraction(self.a * other.b, other.a * self.b)\n",
    "        else:\n",
    "            new_frac = Fraction(other, 1)\n",
    "            new_obj = self * new_other\n",
    "        return new_obj\n",
    "\n",
    "    def __float__(self):\n",
    "        return float(self.a / self.b)\n",
    "    \n",
    "    def __int__(self):\n",
    "        return int(self.a / self.b)\n",
    "    \n",
    "class OperationsOnFraction(Fraction):\n",
    "    \n",
    "    def __int__(self, a, b):\n",
    "        super().__init__(a=a, b=b)\n",
    "        \n",
    "    def getint(self):\n",
    "        return int(self.a / self.b)\n",
    "    \n",
    "    def getfloat(self):\n",
    "        return float(self.a / self.b)\n",
    "\n",
    "\n",
    "c = Fraction(1, 2)\n",
    "d = Fraction(10, 4)\n",
    "print(c + d)\n",
    "print(c - d)\n",
    "print(c * d)\n",
    "print(int(c), int(d))\n",
    "print(float(c), float(d))\n",
    "f = OperationsOnFraction(5, 6)\n",
    "print(f.getint())\n",
    "print(f.getfloat())"
   ]
  },
  {
   "cell_type": "code",
   "execution_count": null,
   "metadata": {},
   "outputs": [],
   "source": []
  }
 ],
 "metadata": {
  "kernelspec": {
   "display_name": "Python 3",
   "language": "python",
   "name": "python3"
  },
  "language_info": {
   "codemirror_mode": {
    "name": "ipython",
    "version": 3
   },
   "file_extension": ".py",
   "mimetype": "text/x-python",
   "name": "python",
   "nbconvert_exporter": "python",
   "pygments_lexer": "ipython3",
   "version": "3.7.4"
  }
 },
 "nbformat": 4,
 "nbformat_minor": 2
}
