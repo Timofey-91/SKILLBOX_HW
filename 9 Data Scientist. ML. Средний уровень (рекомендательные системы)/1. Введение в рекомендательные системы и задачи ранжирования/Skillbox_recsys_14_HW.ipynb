{
 "cells": [
  {
   "cell_type": "markdown",
   "metadata": {
    "id": "blI59vDd_yno"
   },
   "source": [
    "# Рекомендательная система на библиотеке surprise (Домашнее задание)\n"
   ]
  },
  {
   "cell_type": "code",
   "execution_count": 1,
   "metadata": {
    "id": "Pu43MMQD_yns"
   },
   "outputs": [],
   "source": [
    "import pandas as pd\n",
    "import numpy as np"
   ]
  },
  {
   "cell_type": "code",
   "execution_count": 2,
   "metadata": {
    "id": "Ov0SQK91_yn6"
   },
   "outputs": [],
   "source": [
    "from surprise import Dataset\n",
    "from surprise import Reader"
   ]
  },
  {
   "cell_type": "code",
   "execution_count": 3,
   "metadata": {
    "id": "AcOs63Na_yoE"
   },
   "outputs": [],
   "source": [
    "from surprise import KNNBaseline"
   ]
  },
  {
   "cell_type": "code",
   "execution_count": 4,
   "metadata": {
    "id": "TItsSg5e_yoN"
   },
   "outputs": [],
   "source": [
    "from surprise.model_selection import train_test_split"
   ]
  },
  {
   "cell_type": "code",
   "execution_count": 5,
   "metadata": {
    "id": "vaTHk6Wl_yoV"
   },
   "outputs": [],
   "source": [
    "def Precision_at_n(df_ratings, n=3, threshold=5):\n",
    "    rel_n = set(df_ratings[df_ratings.real_rating>=threshold]['itemID'])\n",
    "    t=df_ratings.sort_values(by='rating', ascending=False)[0:n]\n",
    "    ret_n=set(t['itemID'])\n",
    "    return len(rel_n & ret_n)/n"
   ]
  },
  {
   "cell_type": "code",
   "execution_count": 6,
   "metadata": {
    "id": "9NsHlWKF_yoa"
   },
   "outputs": [],
   "source": [
    "def Avg_Precision_at_n(df_ratings, n=10,threshold=5):\n",
    "    avg_p=0\n",
    "    rel_n = set(df_ratings[df_ratings.real_rating>=threshold]['itemID'])\n",
    "    \n",
    "    for i in range(1,n+1):\n",
    "        t=df_ratings.sort_values(by='rating', ascending=False)[0:i]\n",
    "        ret_n=set(t['itemID'])\n",
    "        t2=df_ratings.sort_values(by='rating', ascending=False)[i-1:i]\n",
    "        ret_n2=set(t2['itemID'])\n",
    "        #print(ret_n2,ret_n)\n",
    "        if len((ret_n2 & rel_n))>0:\n",
    "            avg_p=avg_p+len(rel_n & ret_n)/n\n",
    "    return avg_p/n"
   ]
  },
  {
   "cell_type": "code",
   "execution_count": 7,
   "metadata": {
    "id": "pFI50Ctf_yoh"
   },
   "outputs": [],
   "source": [
    "def Recall_at_n(df_ratings, n=3,threshold=5):\n",
    "    rel_n = set(df_ratings[df_ratings.real_rating>=threshold]['itemID'])\n",
    "    t=df_ratings.sort_values(by='rating', ascending=False)[0:n]\n",
    "    ret_n=set(t['itemID'])\n",
    "    return len(rel_n & ret_n)/len(set(rel_n))"
   ]
  },
  {
   "cell_type": "code",
   "execution_count": 8,
   "metadata": {
    "id": "kongmpxc_yoo"
   },
   "outputs": [],
   "source": [
    "def MAP_at_n(df_ratings_all, n=10,threshold=5):\n",
    "    users=df_ratings_all['userID'].unique()\n",
    "    map_at_n=0\n",
    "    for i in users:\n",
    "        df_ratings=df_ratings_all[df_ratings_all.userID==i]\n",
    "        map_at_n=map_at_n+Avg_Precision_at_n(df_ratings,n=n,threshold=threshold)\n",
    "    return map_at_n/len(users)   "
   ]
  },
  {
   "cell_type": "markdown",
   "metadata": {
    "id": "ErBUm4Rj_yos"
   },
   "source": [
    "## Легкое задание\n",
    "Для датасэта\n",
    "\n",
    "```\n",
    "data = Dataset.load_builtin('ml-100k')\n",
    "trainset, testset = train_test_split(data, test_size=.30)\n",
    "\n",
    "```\n",
    "\n",
    "Для каждого k= 10, 20 и 30 выбрать какой вариант KNN лучше item-based или user-based по метрике MAP_at_n (n=5)\n"
   ]
  },
  {
   "cell_type": "code",
   "execution_count": 9,
   "metadata": {
    "id": "iRGCIsMs_yoy"
   },
   "outputs": [],
   "source": [
    "### YOUR CODE HERE ###\n",
    "data = Dataset.load_builtin('ml-100k')\n",
    "trainset, testset = train_test_split(data, test_size=.30)"
   ]
  },
  {
   "cell_type": "code",
   "execution_count": 10,
   "metadata": {},
   "outputs": [
    {
     "name": "stdout",
     "output_type": "stream",
     "text": [
      "При k = 10 лучший вариант item-based. MAP_at_n_item = 0.151 , MAP_at_n_user = 0.144\n",
      "При k = 20 лучший вариант item-based. MAP_at_n_item = 0.156 , MAP_at_n_user = 0.150\n",
      "При k = 30 лучший вариант user_based. MAP_at_n_item = 0.155 , MAP_at_n_user = 0.156\n"
     ]
    }
   ],
   "source": [
    "map_list = []\n",
    "count = 0\n",
    "for k in range(10, 31, 10):\n",
    "    for based in [True, False]:\n",
    "        algo = KNNBaseline(k=k, sim_options={\n",
    "                           'user_based': based}, verbose=False)\n",
    "        predictions = algo.fit(trainset).test(testset)\n",
    "        df_ratings = pd.DataFrame(\n",
    "            columns=['userID', 'itemID', 'rating', 'real_rating'])\n",
    "        for i in predictions:\n",
    "            df_ratings = df_ratings.append(\n",
    "                {'userID': i.uid, 'itemID': i.iid, 'rating': i.est, 'real_rating': i.r_ui}, ignore_index=True)\n",
    "        map_list.append(MAP_at_n(df_ratings, 5))\n",
    "\n",
    "    if map_list[count+1] > map_list[count]:\n",
    "        print(\n",
    "            f'При k = {k} лучший вариант item-based. MAP_at_n_item = {map_list[count+1]:.3f} , MAP_at_n_user = {map_list[count]:.3f}')\n",
    "    else:\n",
    "        print(\n",
    "            f'При k = {k} лучший вариант user_based. MAP_at_n_item = {map_list[count+1]:.3f} , MAP_at_n_user = {map_list[count]:.3f}')\n",
    "    count += 2"
   ]
  },
  {
   "cell_type": "markdown",
   "metadata": {
    "id": "aKTck4LW_yo7"
   },
   "source": [
    "## Сложное задание\n",
    "\n",
    "Для датасэта\n",
    "\n",
    "```\n",
    "data = Dataset.load_builtin('ml-100k')\n",
    "trainset, testset = train_test_split(data, test_size=.30)\n",
    "\n",
    "```\n",
    "\n",
    "а) Для KNN(k=30) для каждого пользователя найти лучший алгоритм по Avg_Precision_at_n(7)\n",
    "Cравнивая между item-based, user-based подход, а также разные меры для (косинусную, Пирсона) в KNN.\n",
    "Докуметация к мерам:\n",
    "https://surprise.readthedocs.io/en/stable/prediction_algorithms.html#similarity-measures-configuration\n",
    "\n",
    "б) Для каждого пользователя расчитайте рейтинги фильмов используя лучший алгоритм из пункта а)\n",
    "\n",
    "в) Сравнить результат из б) с обычном kNN k=30 по метрике MAP (n=7).\n"
   ]
  },
  {
   "cell_type": "markdown",
   "metadata": {
    "id": "9_lxNgzH_yo8"
   },
   "source": [
    "#### а)"
   ]
  },
  {
   "cell_type": "code",
   "execution_count": 12,
   "metadata": {
    "id": "V48S2OMndfov"
   },
   "outputs": [
    {
     "data": {
      "text/html": [
       "<div>\n",
       "<style scoped>\n",
       "    .dataframe tbody tr th:only-of-type {\n",
       "        vertical-align: middle;\n",
       "    }\n",
       "\n",
       "    .dataframe tbody tr th {\n",
       "        vertical-align: top;\n",
       "    }\n",
       "\n",
       "    .dataframe thead th {\n",
       "        text-align: right;\n",
       "    }\n",
       "</style>\n",
       "<table border=\"1\" class=\"dataframe\">\n",
       "  <thead>\n",
       "    <tr style=\"text-align: right;\">\n",
       "      <th></th>\n",
       "      <th>userID</th>\n",
       "      <th>name:cosine user_based:True</th>\n",
       "      <th>name:cosine user_based:False</th>\n",
       "      <th>name:pearson_baseline user_based:True</th>\n",
       "      <th>name:pearson_baseline user_based:False</th>\n",
       "      <th>max_apn_value</th>\n",
       "      <th>algorithm number</th>\n",
       "    </tr>\n",
       "  </thead>\n",
       "  <tbody>\n",
       "    <tr>\n",
       "      <th>0</th>\n",
       "      <td>318</td>\n",
       "      <td>0.020408</td>\n",
       "      <td>0.000000</td>\n",
       "      <td>0.061224</td>\n",
       "      <td>0.020408</td>\n",
       "      <td>0.061224</td>\n",
       "      <td>2</td>\n",
       "    </tr>\n",
       "    <tr>\n",
       "      <th>1</th>\n",
       "      <td>145</td>\n",
       "      <td>0.122449</td>\n",
       "      <td>0.122449</td>\n",
       "      <td>0.204082</td>\n",
       "      <td>0.122449</td>\n",
       "      <td>0.204082</td>\n",
       "      <td>2</td>\n",
       "    </tr>\n",
       "    <tr>\n",
       "      <th>2</th>\n",
       "      <td>479</td>\n",
       "      <td>0.061224</td>\n",
       "      <td>0.061224</td>\n",
       "      <td>0.122449</td>\n",
       "      <td>0.122449</td>\n",
       "      <td>0.122449</td>\n",
       "      <td>2</td>\n",
       "    </tr>\n",
       "    <tr>\n",
       "      <th>3</th>\n",
       "      <td>106</td>\n",
       "      <td>0.020408</td>\n",
       "      <td>0.020408</td>\n",
       "      <td>0.020408</td>\n",
       "      <td>0.020408</td>\n",
       "      <td>0.020408</td>\n",
       "      <td>0</td>\n",
       "    </tr>\n",
       "    <tr>\n",
       "      <th>4</th>\n",
       "      <td>268</td>\n",
       "      <td>0.204082</td>\n",
       "      <td>0.061224</td>\n",
       "      <td>0.061224</td>\n",
       "      <td>0.204082</td>\n",
       "      <td>0.204082</td>\n",
       "      <td>0</td>\n",
       "    </tr>\n",
       "    <tr>\n",
       "      <th>...</th>\n",
       "      <td>...</td>\n",
       "      <td>...</td>\n",
       "      <td>...</td>\n",
       "      <td>...</td>\n",
       "      <td>...</td>\n",
       "      <td>...</td>\n",
       "      <td>...</td>\n",
       "    </tr>\n",
       "    <tr>\n",
       "      <th>938</th>\n",
       "      <td>133</td>\n",
       "      <td>0.020408</td>\n",
       "      <td>0.020408</td>\n",
       "      <td>0.020408</td>\n",
       "      <td>0.020408</td>\n",
       "      <td>0.020408</td>\n",
       "      <td>0</td>\n",
       "    </tr>\n",
       "    <tr>\n",
       "      <th>939</th>\n",
       "      <td>604</td>\n",
       "      <td>0.061224</td>\n",
       "      <td>0.061224</td>\n",
       "      <td>0.061224</td>\n",
       "      <td>0.061224</td>\n",
       "      <td>0.061224</td>\n",
       "      <td>0</td>\n",
       "    </tr>\n",
       "    <tr>\n",
       "      <th>940</th>\n",
       "      <td>696</td>\n",
       "      <td>0.061224</td>\n",
       "      <td>0.061224</td>\n",
       "      <td>0.061224</td>\n",
       "      <td>0.061224</td>\n",
       "      <td>0.061224</td>\n",
       "      <td>0</td>\n",
       "    </tr>\n",
       "    <tr>\n",
       "      <th>941</th>\n",
       "      <td>153</td>\n",
       "      <td>0.020408</td>\n",
       "      <td>0.020408</td>\n",
       "      <td>0.020408</td>\n",
       "      <td>0.020408</td>\n",
       "      <td>0.020408</td>\n",
       "      <td>0</td>\n",
       "    </tr>\n",
       "    <tr>\n",
       "      <th>942</th>\n",
       "      <td>166</td>\n",
       "      <td>0.061224</td>\n",
       "      <td>0.061224</td>\n",
       "      <td>0.061224</td>\n",
       "      <td>0.061224</td>\n",
       "      <td>0.061224</td>\n",
       "      <td>0</td>\n",
       "    </tr>\n",
       "  </tbody>\n",
       "</table>\n",
       "<p>943 rows × 7 columns</p>\n",
       "</div>"
      ],
      "text/plain": [
       "    userID  name:cosine user_based:True  name:cosine user_based:False  \\\n",
       "0      318                     0.020408                      0.000000   \n",
       "1      145                     0.122449                      0.122449   \n",
       "2      479                     0.061224                      0.061224   \n",
       "3      106                     0.020408                      0.020408   \n",
       "4      268                     0.204082                      0.061224   \n",
       "..     ...                          ...                           ...   \n",
       "938    133                     0.020408                      0.020408   \n",
       "939    604                     0.061224                      0.061224   \n",
       "940    696                     0.061224                      0.061224   \n",
       "941    153                     0.020408                      0.020408   \n",
       "942    166                     0.061224                      0.061224   \n",
       "\n",
       "     name:pearson_baseline user_based:True  \\\n",
       "0                                 0.061224   \n",
       "1                                 0.204082   \n",
       "2                                 0.122449   \n",
       "3                                 0.020408   \n",
       "4                                 0.061224   \n",
       "..                                     ...   \n",
       "938                               0.020408   \n",
       "939                               0.061224   \n",
       "940                               0.061224   \n",
       "941                               0.020408   \n",
       "942                               0.061224   \n",
       "\n",
       "     name:pearson_baseline user_based:False  max_apn_value  algorithm number  \n",
       "0                                  0.020408       0.061224                 2  \n",
       "1                                  0.122449       0.204082                 2  \n",
       "2                                  0.122449       0.122449                 2  \n",
       "3                                  0.020408       0.020408                 0  \n",
       "4                                  0.204082       0.204082                 0  \n",
       "..                                      ...            ...               ...  \n",
       "938                                0.020408       0.020408                 0  \n",
       "939                                0.061224       0.061224                 0  \n",
       "940                                0.061224       0.061224                 0  \n",
       "941                                0.020408       0.020408                 0  \n",
       "942                                0.061224       0.061224                 0  \n",
       "\n",
       "[943 rows x 7 columns]"
      ]
     },
     "execution_count": 12,
     "metadata": {},
     "output_type": "execute_result"
    }
   ],
   "source": [
    "### YOUR CODE HERE ###\n",
    "avg_pn_list = []\n",
    "algo_list = []\n",
    "users_list = []\n",
    "df_metrics = pd.DataFrame()\n",
    "\n",
    "for name in ['cosine', 'pearson_baseline']:\n",
    "    for based in [True, False]:\n",
    "        column_name = str('name:') + name + str(' user_based:') + str(based)\n",
    "        algo = KNNBaseline(k=30, sim_options={\n",
    "                           'name': name, 'user_based': based}, verbose=False)\n",
    "        predictions = algo.fit(trainset).test(testset)\n",
    "        df_ratings = pd.DataFrame(\n",
    "            columns=['userID', 'itemID', 'rating', 'real_rating'])\n",
    "        for i in predictions:\n",
    "            df_ratings = df_ratings.append(\n",
    "                {'userID': i.uid, 'itemID': i.iid, 'rating': i.est, 'real_rating': i.r_ui}, ignore_index=True)\n",
    "\n",
    "        for users in df_ratings['userID'].unique():\n",
    "            avg_pn_list.append(Avg_Precision_at_n(\n",
    "                df_ratings[df_ratings['userID'] == users], 7))\n",
    "            \n",
    "        df_metrics[column_name] = avg_pn_list\n",
    "        avg_pn_list = []\n",
    "    \n",
    "for users in df_ratings['userID'].unique():\n",
    "    users_list.append(users)\n",
    "        \n",
    "df_metrics.insert(0, 'userID', users_list)\n",
    "df_metrics['max_apn_value'] = df_metrics.max(axis=1)\n",
    "\n",
    "for idx in df_metrics.index:\n",
    "    algo_list.append(np.where(df_metrics.drop(\n",
    "        ['userID', 'max_apn_value'], axis=1).iloc[idx] == df_metrics.iloc[idx].max_apn_value)[0][0])\n",
    "df_metrics['algorithm number'] = algo_list\n",
    "df_metrics"
   ]
  },
  {
   "cell_type": "markdown",
   "metadata": {
    "id": "xnLPPWwa_ypb"
   },
   "source": [
    "#### б)"
   ]
  },
  {
   "cell_type": "code",
   "execution_count": 13,
   "metadata": {
    "id": "8NMloVLadgLx"
   },
   "outputs": [
    {
     "data": {
      "text/html": [
       "<div>\n",
       "<style scoped>\n",
       "    .dataframe tbody tr th:only-of-type {\n",
       "        vertical-align: middle;\n",
       "    }\n",
       "\n",
       "    .dataframe tbody tr th {\n",
       "        vertical-align: top;\n",
       "    }\n",
       "\n",
       "    .dataframe thead th {\n",
       "        text-align: right;\n",
       "    }\n",
       "</style>\n",
       "<table border=\"1\" class=\"dataframe\">\n",
       "  <thead>\n",
       "    <tr style=\"text-align: right;\">\n",
       "      <th></th>\n",
       "      <th>userID</th>\n",
       "      <th>itemID</th>\n",
       "      <th>rating 0</th>\n",
       "      <th>rating 1</th>\n",
       "      <th>rating 2</th>\n",
       "      <th>rating 3</th>\n",
       "      <th>algorithm number</th>\n",
       "      <th>real_rating</th>\n",
       "      <th>best_rating</th>\n",
       "    </tr>\n",
       "  </thead>\n",
       "  <tbody>\n",
       "    <tr>\n",
       "      <th>0</th>\n",
       "      <td>318</td>\n",
       "      <td>396</td>\n",
       "      <td>2.984944</td>\n",
       "      <td>3.110189</td>\n",
       "      <td>3.541634</td>\n",
       "      <td>3.451996</td>\n",
       "      <td>2</td>\n",
       "      <td>1.0</td>\n",
       "      <td>3.541634</td>\n",
       "    </tr>\n",
       "    <tr>\n",
       "      <th>1</th>\n",
       "      <td>145</td>\n",
       "      <td>273</td>\n",
       "      <td>3.485906</td>\n",
       "      <td>3.594470</td>\n",
       "      <td>3.635734</td>\n",
       "      <td>3.706439</td>\n",
       "      <td>2</td>\n",
       "      <td>5.0</td>\n",
       "      <td>3.635734</td>\n",
       "    </tr>\n",
       "    <tr>\n",
       "      <th>2</th>\n",
       "      <td>479</td>\n",
       "      <td>436</td>\n",
       "      <td>3.510231</td>\n",
       "      <td>3.925196</td>\n",
       "      <td>3.681299</td>\n",
       "      <td>3.837491</td>\n",
       "      <td>2</td>\n",
       "      <td>4.0</td>\n",
       "      <td>3.681299</td>\n",
       "    </tr>\n",
       "    <tr>\n",
       "      <th>3</th>\n",
       "      <td>106</td>\n",
       "      <td>699</td>\n",
       "      <td>3.715394</td>\n",
       "      <td>3.655683</td>\n",
       "      <td>3.622171</td>\n",
       "      <td>3.694116</td>\n",
       "      <td>0</td>\n",
       "      <td>4.0</td>\n",
       "      <td>3.715394</td>\n",
       "    </tr>\n",
       "    <tr>\n",
       "      <th>4</th>\n",
       "      <td>268</td>\n",
       "      <td>178</td>\n",
       "      <td>3.912343</td>\n",
       "      <td>3.962063</td>\n",
       "      <td>4.059085</td>\n",
       "      <td>4.283019</td>\n",
       "      <td>0</td>\n",
       "      <td>4.0</td>\n",
       "      <td>3.912343</td>\n",
       "    </tr>\n",
       "    <tr>\n",
       "      <th>...</th>\n",
       "      <td>...</td>\n",
       "      <td>...</td>\n",
       "      <td>...</td>\n",
       "      <td>...</td>\n",
       "      <td>...</td>\n",
       "      <td>...</td>\n",
       "      <td>...</td>\n",
       "      <td>...</td>\n",
       "      <td>...</td>\n",
       "    </tr>\n",
       "    <tr>\n",
       "      <th>29995</th>\n",
       "      <td>291</td>\n",
       "      <td>82</td>\n",
       "      <td>3.850669</td>\n",
       "      <td>4.098276</td>\n",
       "      <td>4.157344</td>\n",
       "      <td>4.154286</td>\n",
       "      <td>0</td>\n",
       "      <td>4.0</td>\n",
       "      <td>3.850669</td>\n",
       "    </tr>\n",
       "    <tr>\n",
       "      <th>29996</th>\n",
       "      <td>747</td>\n",
       "      <td>85</td>\n",
       "      <td>3.476893</td>\n",
       "      <td>3.266402</td>\n",
       "      <td>3.421975</td>\n",
       "      <td>3.548517</td>\n",
       "      <td>3</td>\n",
       "      <td>3.0</td>\n",
       "      <td>3.548517</td>\n",
       "    </tr>\n",
       "    <tr>\n",
       "      <th>29997</th>\n",
       "      <td>82</td>\n",
       "      <td>274</td>\n",
       "      <td>3.120601</td>\n",
       "      <td>2.894061</td>\n",
       "      <td>3.137816</td>\n",
       "      <td>3.138774</td>\n",
       "      <td>1</td>\n",
       "      <td>3.0</td>\n",
       "      <td>2.894061</td>\n",
       "    </tr>\n",
       "    <tr>\n",
       "      <th>29998</th>\n",
       "      <td>303</td>\n",
       "      <td>867</td>\n",
       "      <td>4.378420</td>\n",
       "      <td>3.562080</td>\n",
       "      <td>4.264553</td>\n",
       "      <td>4.226200</td>\n",
       "      <td>1</td>\n",
       "      <td>3.0</td>\n",
       "      <td>3.562080</td>\n",
       "    </tr>\n",
       "    <tr>\n",
       "      <th>29999</th>\n",
       "      <td>250</td>\n",
       "      <td>55</td>\n",
       "      <td>3.749051</td>\n",
       "      <td>4.056996</td>\n",
       "      <td>3.892951</td>\n",
       "      <td>3.737496</td>\n",
       "      <td>0</td>\n",
       "      <td>5.0</td>\n",
       "      <td>3.749051</td>\n",
       "    </tr>\n",
       "  </tbody>\n",
       "</table>\n",
       "<p>30000 rows × 9 columns</p>\n",
       "</div>"
      ],
      "text/plain": [
       "      userID itemID  rating 0  rating 1  rating 2  rating 3  algorithm number  \\\n",
       "0        318    396  2.984944  3.110189  3.541634  3.451996                 2   \n",
       "1        145    273  3.485906  3.594470  3.635734  3.706439                 2   \n",
       "2        479    436  3.510231  3.925196  3.681299  3.837491                 2   \n",
       "3        106    699  3.715394  3.655683  3.622171  3.694116                 0   \n",
       "4        268    178  3.912343  3.962063  4.059085  4.283019                 0   \n",
       "...      ...    ...       ...       ...       ...       ...               ...   \n",
       "29995    291     82  3.850669  4.098276  4.157344  4.154286                 0   \n",
       "29996    747     85  3.476893  3.266402  3.421975  3.548517                 3   \n",
       "29997     82    274  3.120601  2.894061  3.137816  3.138774                 1   \n",
       "29998    303    867  4.378420  3.562080  4.264553  4.226200                 1   \n",
       "29999    250     55  3.749051  4.056996  3.892951  3.737496                 0   \n",
       "\n",
       "       real_rating  best_rating  \n",
       "0              1.0     3.541634  \n",
       "1              5.0     3.635734  \n",
       "2              4.0     3.681299  \n",
       "3              4.0     3.715394  \n",
       "4              4.0     3.912343  \n",
       "...            ...          ...  \n",
       "29995          4.0     3.850669  \n",
       "29996          3.0     3.548517  \n",
       "29997          3.0     2.894061  \n",
       "29998          3.0     3.562080  \n",
       "29999          5.0     3.749051  \n",
       "\n",
       "[30000 rows x 9 columns]"
      ]
     },
     "execution_count": 13,
     "metadata": {},
     "output_type": "execute_result"
    }
   ],
   "source": [
    "### YOUR CODE HERE ###\n",
    "idx = 0\n",
    "count = 0\n",
    "algo_list = []\n",
    "best_rating = []\n",
    "df_full = pd.DataFrame()\n",
    "\n",
    "for name in ['cosine', 'pearson_baseline']:\n",
    "    for based in [True, False]:\n",
    "        algo = KNNBaseline(k=30, sim_options={\n",
    "                           'name': name, 'user_based': based}, verbose=False)\n",
    "        predictions = algo.fit(trainset).test(testset)\n",
    "        df_ratings = pd.DataFrame(\n",
    "            columns=['userID', 'itemID', 'rating', 'real_rating'])\n",
    "        for i in predictions:\n",
    "            df_ratings = df_ratings.append(\n",
    "                {'userID': i.uid, 'itemID': i.iid, 'rating': i.est, 'real_rating': i.r_ui}, ignore_index=True)\n",
    "        df_full['rating '+ str(count)] = df_ratings['rating']\n",
    "        count += 1\n",
    "        \n",
    "df_full.insert(0, 'userID', df_ratings.userID)\n",
    "df_full.insert(1, 'itemID', df_ratings.itemID)\n",
    "\n",
    "for users in df_full.userID:\n",
    "    algo_list.append(df_metrics[df_metrics['userID'] == users]['algorithm number'].tolist()[0])\n",
    "\n",
    "df_full['algorithm number'] = algo_list\n",
    "df_full['real_rating'] = df_ratings['real_rating']\n",
    "\n",
    "for alg_num in df_full['algorithm number']:\n",
    "    best_rating.append(df_full.iloc[idx][str('rating ') + str(alg_num)])\n",
    "    idx += 1\n",
    "df_full['best_rating'] = best_rating\n",
    "\n",
    "df_full"
   ]
  },
  {
   "cell_type": "markdown",
   "metadata": {
    "id": "N8if-Exg_ypi"
   },
   "source": [
    "#### в)"
   ]
  },
  {
   "cell_type": "code",
   "execution_count": 14,
   "metadata": {
    "id": "Iei5P2xCdgtd"
   },
   "outputs": [
    {
     "data": {
      "text/plain": [
       "0.12138853420477393"
      ]
     },
     "execution_count": 14,
     "metadata": {},
     "output_type": "execute_result"
    }
   ],
   "source": [
    "### YOUR CODE HERE ###\n",
    "algo = KNNBaseline(k=30, sim_options={'user_based': True}, verbose=False)\n",
    "predictions = algo.fit(trainset).test(testset)\n",
    "df_ratings = pd.DataFrame(columns=['userID', 'itemID', 'rating', 'real_rating'])\n",
    "for i in predictions:\n",
    "    df_ratings = df_ratings.append({'userID': i.uid, 'itemID': i.iid, 'rating': i.est, 'real_rating': i.r_ui}, ignore_index=True)\n",
    "MAP_at_n(df_ratings, 7)"
   ]
  },
  {
   "cell_type": "code",
   "execution_count": 15,
   "metadata": {},
   "outputs": [
    {
     "data": {
      "text/plain": [
       "0.15367801415369878"
      ]
     },
     "execution_count": 15,
     "metadata": {},
     "output_type": "execute_result"
    }
   ],
   "source": [
    "df_full = df_full[['userID','itemID','best_rating','real_rating']]\n",
    "df_full = df_full.rename(columns={'best_rating': 'rating'})\n",
    "MAP_at_n(df_full, 7)"
   ]
  },
  {
   "cell_type": "markdown",
   "metadata": {},
   "source": [
    "Результат из блока Б намного лучше."
   ]
  },
  {
   "cell_type": "code",
   "execution_count": null,
   "metadata": {},
   "outputs": [],
   "source": []
  }
 ],
 "metadata": {
  "colab": {
   "collapsed_sections": [],
   "name": "Skillbox_recsys_14-HW.ipynb",
   "provenance": []
  },
  "kernelspec": {
   "display_name": "Python 3",
   "language": "python",
   "name": "python3"
  },
  "language_info": {
   "codemirror_mode": {
    "name": "ipython",
    "version": 3
   },
   "file_extension": ".py",
   "mimetype": "text/x-python",
   "name": "python",
   "nbconvert_exporter": "python",
   "pygments_lexer": "ipython3",
   "version": "3.7.4"
  }
 },
 "nbformat": 4,
 "nbformat_minor": 1
}
