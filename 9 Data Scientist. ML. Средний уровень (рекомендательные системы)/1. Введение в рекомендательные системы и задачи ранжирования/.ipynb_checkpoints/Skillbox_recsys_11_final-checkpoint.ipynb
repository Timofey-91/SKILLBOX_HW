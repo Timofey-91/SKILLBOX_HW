{
 "cells": [
  {
   "cell_type": "markdown",
   "metadata": {
    "id": "RIF9tgR0vFrj"
   },
   "source": [
    "# Рекомендательная система на библиотеке surprise\n",
    "\n",
    "Сайт библиотеки: http://surpriselib.com/\n",
    "\n",
    "Установки библиотеки:\n",
    "```\n",
    "$ pip install scikit-surprise```\n",
    "или\n",
    "```\n",
    "$ conda install -c conda-forge scikit-surprise```"
   ]
  },
  {
   "cell_type": "code",
   "execution_count": 1,
   "metadata": {
    "id": "4Xzu4ab7vFr-"
   },
   "outputs": [],
   "source": [
    "import pandas as pd\n",
    "import numpy as np"
   ]
  },
  {
   "cell_type": "code",
   "execution_count": 3,
   "metadata": {},
   "outputs": [
    {
     "name": "stdout",
     "output_type": "stream",
     "text": [
      "Collecting package metadata (current_repodata.json): ...working... done\n",
      "Solving environment: ...working... done\n",
      "\n",
      "## Package Plan ##\n",
      "\n",
      "  environment location: C:\\Users\\HP\\Anaconda3\n",
      "\n",
      "  added / updated specs:\n",
      "    - scikit-surprise\n",
      "\n",
      "\n",
      "The following packages will be downloaded:\n",
      "\n",
      "    package                    |            build\n",
      "    ---------------------------|-----------------\n",
      "    conda-4.11.0               |   py37h03978a9_0        16.9 MB  conda-forge\n",
      "    scikit-surprise-1.1.1      |   py37h3a3b6f7_1         564 KB  conda-forge\n",
      "    ------------------------------------------------------------\n",
      "                                           Total:        17.5 MB\n",
      "\n",
      "The following NEW packages will be INSTALLED:\n",
      "\n",
      "  scikit-surprise    conda-forge/win-64::scikit-surprise-1.1.1-py37h3a3b6f7_1\n",
      "\n",
      "The following packages will be UPDATED:\n",
      "\n",
      "  conda              pkgs/main::conda-4.10.3-py37haa95532_0 --> conda-forge::conda-4.11.0-py37h03978a9_0\n",
      "\n",
      "\n",
      "\n",
      "Downloading and Extracting Packages\n",
      "\n",
      "scikit-surprise-1.1. | 564 KB    |            |   0% \n",
      "scikit-surprise-1.1. | 564 KB    | 2          |   3% \n",
      "scikit-surprise-1.1. | 564 KB    | ###4       |  34% \n",
      "scikit-surprise-1.1. | 564 KB    | ######5    |  65% \n",
      "scikit-surprise-1.1. | 564 KB    | ########## | 100% \n",
      "scikit-surprise-1.1. | 564 KB    | ########## | 100% \n",
      "\n",
      "conda-4.11.0         | 16.9 MB   |            |   0% \n",
      "conda-4.11.0         | 16.9 MB   |            |   0% \n",
      "conda-4.11.0         | 16.9 MB   | 2          |   2% \n",
      "conda-4.11.0         | 16.9 MB   | 5          |   6% \n",
      "conda-4.11.0         | 16.9 MB   | 8          |   9% \n",
      "conda-4.11.0         | 16.9 MB   | #1         |  12% \n",
      "conda-4.11.0         | 16.9 MB   | #3         |  14% \n",
      "conda-4.11.0         | 16.9 MB   | #4         |  15% \n",
      "conda-4.11.0         | 16.9 MB   | #5         |  16% \n",
      "conda-4.11.0         | 16.9 MB   | #6         |  17% \n",
      "conda-4.11.0         | 16.9 MB   | #7         |  17% \n",
      "conda-4.11.0         | 16.9 MB   | #7         |  18% \n",
      "conda-4.11.0         | 16.9 MB   | #8         |  19% \n",
      "conda-4.11.0         | 16.9 MB   | #9         |  19% \n",
      "conda-4.11.0         | 16.9 MB   | #9         |  19% \n",
      "conda-4.11.0         | 16.9 MB   | #9         |  20% \n",
      "conda-4.11.0         | 16.9 MB   | ##         |  20% \n",
      "conda-4.11.0         | 16.9 MB   | ##         |  20% \n",
      "conda-4.11.0         | 16.9 MB   | ##         |  21% \n",
      "conda-4.11.0         | 16.9 MB   | ##1        |  21% \n",
      "conda-4.11.0         | 16.9 MB   | ##1        |  21% \n",
      "conda-4.11.0         | 16.9 MB   | ##1        |  22% \n",
      "conda-4.11.0         | 16.9 MB   | ##1        |  22% \n",
      "conda-4.11.0         | 16.9 MB   | ##2        |  22% \n",
      "conda-4.11.0         | 16.9 MB   | ##2        |  22% \n",
      "conda-4.11.0         | 16.9 MB   | ##2        |  23% \n",
      "conda-4.11.0         | 16.9 MB   | ##2        |  23% \n",
      "conda-4.11.0         | 16.9 MB   | ##3        |  23% \n",
      "conda-4.11.0         | 16.9 MB   | ##3        |  24% \n",
      "conda-4.11.0         | 16.9 MB   | ##3        |  24% \n",
      "conda-4.11.0         | 16.9 MB   | ##4        |  24% \n",
      "conda-4.11.0         | 16.9 MB   | ##4        |  24% \n",
      "conda-4.11.0         | 16.9 MB   | ##5        |  25% \n",
      "conda-4.11.0         | 16.9 MB   | ##5        |  26% \n",
      "conda-4.11.0         | 16.9 MB   | ##5        |  26% \n",
      "conda-4.11.0         | 16.9 MB   | ##6        |  27% \n",
      "conda-4.11.0         | 16.9 MB   | ##6        |  27% \n",
      "conda-4.11.0         | 16.9 MB   | ##7        |  28% \n",
      "conda-4.11.0         | 16.9 MB   | ##8        |  28% \n",
      "conda-4.11.0         | 16.9 MB   | ##8        |  29% \n",
      "conda-4.11.0         | 16.9 MB   | ##8        |  29% \n",
      "conda-4.11.0         | 16.9 MB   | ##9        |  29% \n",
      "conda-4.11.0         | 16.9 MB   | ##9        |  30% \n",
      "conda-4.11.0         | 16.9 MB   | ###        |  30% \n",
      "conda-4.11.0         | 16.9 MB   | ###        |  30% \n",
      "conda-4.11.0         | 16.9 MB   | ###        |  31% \n",
      "conda-4.11.0         | 16.9 MB   | ###1       |  31% \n",
      "conda-4.11.0         | 16.9 MB   | ###2       |  32% \n",
      "conda-4.11.0         | 16.9 MB   | ###2       |  33% \n",
      "conda-4.11.0         | 16.9 MB   | ###3       |  33% \n",
      "conda-4.11.0         | 16.9 MB   | ###3       |  34% \n",
      "conda-4.11.0         | 16.9 MB   | ###4       |  35% \n",
      "conda-4.11.0         | 16.9 MB   | ###5       |  35% \n",
      "conda-4.11.0         | 16.9 MB   | ###6       |  36% \n",
      "conda-4.11.0         | 16.9 MB   | ###7       |  37% \n",
      "conda-4.11.0         | 16.9 MB   | ###7       |  38% \n",
      "conda-4.11.0         | 16.9 MB   | ###8       |  39% \n",
      "conda-4.11.0         | 16.9 MB   | ###9       |  40% \n",
      "conda-4.11.0         | 16.9 MB   | ####       |  41% \n",
      "conda-4.11.0         | 16.9 MB   | ####1      |  42% \n",
      "conda-4.11.0         | 16.9 MB   | ####2      |  43% \n",
      "conda-4.11.0         | 16.9 MB   | ####3      |  44% \n",
      "conda-4.11.0         | 16.9 MB   | ####4      |  45% \n",
      "conda-4.11.0         | 16.9 MB   | ####5      |  46% \n",
      "conda-4.11.0         | 16.9 MB   | ####6      |  47% \n",
      "conda-4.11.0         | 16.9 MB   | ####7      |  48% \n",
      "conda-4.11.0         | 16.9 MB   | ####9      |  49% \n",
      "conda-4.11.0         | 16.9 MB   | #####      |  50% \n",
      "conda-4.11.0         | 16.9 MB   | #####2     |  52% \n",
      "conda-4.11.0         | 16.9 MB   | #####4     |  54% \n",
      "conda-4.11.0         | 16.9 MB   | #####6     |  57% \n",
      "conda-4.11.0         | 16.9 MB   | #####7     |  58% \n",
      "conda-4.11.0         | 16.9 MB   | ######     |  60% \n",
      "conda-4.11.0         | 16.9 MB   | ######1    |  61% \n",
      "conda-4.11.0         | 16.9 MB   | ######2    |  62% \n",
      "conda-4.11.0         | 16.9 MB   | ######3    |  63% \n",
      "conda-4.11.0         | 16.9 MB   | ######4    |  65% \n",
      "conda-4.11.0         | 16.9 MB   | ######5    |  66% \n",
      "conda-4.11.0         | 16.9 MB   | ######6    |  67% \n",
      "conda-4.11.0         | 16.9 MB   | ######7    |  67% \n",
      "conda-4.11.0         | 16.9 MB   | ######8    |  68% \n",
      "conda-4.11.0         | 16.9 MB   | ######8    |  69% \n",
      "conda-4.11.0         | 16.9 MB   | ######9    |  69% \n",
      "conda-4.11.0         | 16.9 MB   | #######    |  70% \n",
      "conda-4.11.0         | 16.9 MB   | #######1   |  71% \n",
      "conda-4.11.0         | 16.9 MB   | #######2   |  73% \n",
      "conda-4.11.0         | 16.9 MB   | #######3   |  74% \n",
      "conda-4.11.0         | 16.9 MB   | #######5   |  75% \n",
      "conda-4.11.0         | 16.9 MB   | #######5   |  76% \n",
      "conda-4.11.0         | 16.9 MB   | #######6   |  77% \n",
      "conda-4.11.0         | 16.9 MB   | #######7   |  77% \n",
      "conda-4.11.0         | 16.9 MB   | #######7   |  78% \n",
      "conda-4.11.0         | 16.9 MB   | #######8   |  78% \n",
      "conda-4.11.0         | 16.9 MB   | ########   |  80% \n",
      "conda-4.11.0         | 16.9 MB   | ########   |  81% \n",
      "conda-4.11.0         | 16.9 MB   | ########2  |  82% \n",
      "conda-4.11.0         | 16.9 MB   | ########2  |  83% \n",
      "conda-4.11.0         | 16.9 MB   | ########3  |  83% \n",
      "conda-4.11.0         | 16.9 MB   | ########3  |  84% \n",
      "conda-4.11.0         | 16.9 MB   | ########4  |  84% \n",
      "conda-4.11.0         | 16.9 MB   | ########4  |  85% \n",
      "conda-4.11.0         | 16.9 MB   | ########6  |  86% \n",
      "conda-4.11.0         | 16.9 MB   | ########6  |  87% \n",
      "conda-4.11.0         | 16.9 MB   | ########7  |  87% \n",
      "conda-4.11.0         | 16.9 MB   | ########7  |  88% \n",
      "conda-4.11.0         | 16.9 MB   | ########8  |  89% \n",
      "conda-4.11.0         | 16.9 MB   | ########9  |  89% \n",
      "conda-4.11.0         | 16.9 MB   | ########9  |  90% \n",
      "conda-4.11.0         | 16.9 MB   | #########  |  90% \n",
      "conda-4.11.0         | 16.9 MB   | #########  |  91% \n",
      "conda-4.11.0         | 16.9 MB   | #########1 |  91% \n",
      "conda-4.11.0         | 16.9 MB   | #########1 |  92% \n",
      "conda-4.11.0         | 16.9 MB   | #########1 |  92% \n",
      "conda-4.11.0         | 16.9 MB   | #########2 |  92% \n",
      "conda-4.11.0         | 16.9 MB   | #########2 |  93% \n",
      "conda-4.11.0         | 16.9 MB   | #########3 |  93% \n",
      "conda-4.11.0         | 16.9 MB   | #########3 |  93% \n",
      "conda-4.11.0         | 16.9 MB   | #########3 |  94% \n",
      "conda-4.11.0         | 16.9 MB   | #########4 |  94% \n",
      "conda-4.11.0         | 16.9 MB   | #########4 |  95% \n",
      "conda-4.11.0         | 16.9 MB   | #########4 |  95% \n",
      "conda-4.11.0         | 16.9 MB   | #########5 |  95% \n",
      "conda-4.11.0         | 16.9 MB   | #########5 |  96% \n",
      "conda-4.11.0         | 16.9 MB   | #########6 |  96% \n",
      "conda-4.11.0         | 16.9 MB   | #########6 |  97% \n",
      "conda-4.11.0         | 16.9 MB   | #########7 |  97% \n",
      "conda-4.11.0         | 16.9 MB   | #########8 |  99% \n",
      "conda-4.11.0         | 16.9 MB   | #########9 |  99% \n",
      "conda-4.11.0         | 16.9 MB   | ########## | 100% \n",
      "conda-4.11.0         | 16.9 MB   | ########## | 100% \n",
      "Preparing transaction: ...working... done\n",
      "Verifying transaction: ...working... done\n",
      "Executing transaction: ...working... done\n",
      "\n",
      "Note: you may need to restart the kernel to use updated packages.\n"
     ]
    }
   ],
   "source": [
    "conda install -c conda-forge scikit-surprise"
   ]
  },
  {
   "cell_type": "code",
   "execution_count": 4,
   "metadata": {
    "id": "dFpPsRvQvFsG"
   },
   "outputs": [],
   "source": [
    "df = pd.read_csv(\"recdemo.csv\", sep=\";\") #небольшой dataset"
   ]
  },
  {
   "cell_type": "code",
   "execution_count": 5,
   "metadata": {
    "id": "5GmtwjD8vFsK",
    "outputId": "8204eb86-189f-43ab-e446-b0a9ef6283d7"
   },
   "outputs": [
    {
     "data": {
      "text/html": [
       "<div>\n",
       "<style scoped>\n",
       "    .dataframe tbody tr th:only-of-type {\n",
       "        vertical-align: middle;\n",
       "    }\n",
       "\n",
       "    .dataframe tbody tr th {\n",
       "        vertical-align: top;\n",
       "    }\n",
       "\n",
       "    .dataframe thead th {\n",
       "        text-align: right;\n",
       "    }\n",
       "</style>\n",
       "<table border=\"1\" class=\"dataframe\">\n",
       "  <thead>\n",
       "    <tr style=\"text-align: right;\">\n",
       "      <th></th>\n",
       "      <th>id</th>\n",
       "      <th>A</th>\n",
       "      <th>B</th>\n",
       "      <th>C</th>\n",
       "      <th>D</th>\n",
       "      <th>E</th>\n",
       "      <th>F</th>\n",
       "    </tr>\n",
       "  </thead>\n",
       "  <tbody>\n",
       "    <tr>\n",
       "      <th>0</th>\n",
       "      <td>1</td>\n",
       "      <td>3.0</td>\n",
       "      <td>4.0</td>\n",
       "      <td>2.0</td>\n",
       "      <td>4.0</td>\n",
       "      <td>1.0</td>\n",
       "      <td>NaN</td>\n",
       "    </tr>\n",
       "    <tr>\n",
       "      <th>1</th>\n",
       "      <td>2</td>\n",
       "      <td>3.0</td>\n",
       "      <td>4.0</td>\n",
       "      <td>2.0</td>\n",
       "      <td>4.0</td>\n",
       "      <td>NaN</td>\n",
       "      <td>2.0</td>\n",
       "    </tr>\n",
       "    <tr>\n",
       "      <th>2</th>\n",
       "      <td>3</td>\n",
       "      <td>NaN</td>\n",
       "      <td>2.0</td>\n",
       "      <td>5.0</td>\n",
       "      <td>5.0</td>\n",
       "      <td>NaN</td>\n",
       "      <td>5.0</td>\n",
       "    </tr>\n",
       "    <tr>\n",
       "      <th>3</th>\n",
       "      <td>4</td>\n",
       "      <td>NaN</td>\n",
       "      <td>NaN</td>\n",
       "      <td>NaN</td>\n",
       "      <td>NaN</td>\n",
       "      <td>4.0</td>\n",
       "      <td>NaN</td>\n",
       "    </tr>\n",
       "    <tr>\n",
       "      <th>4</th>\n",
       "      <td>5</td>\n",
       "      <td>3.0</td>\n",
       "      <td>NaN</td>\n",
       "      <td>2.0</td>\n",
       "      <td>4.0</td>\n",
       "      <td>4.0</td>\n",
       "      <td>NaN</td>\n",
       "    </tr>\n",
       "    <tr>\n",
       "      <th>5</th>\n",
       "      <td>6</td>\n",
       "      <td>NaN</td>\n",
       "      <td>5.0</td>\n",
       "      <td>5.0</td>\n",
       "      <td>5.0</td>\n",
       "      <td>NaN</td>\n",
       "      <td>5.0</td>\n",
       "    </tr>\n",
       "    <tr>\n",
       "      <th>6</th>\n",
       "      <td>7</td>\n",
       "      <td>1.0</td>\n",
       "      <td>NaN</td>\n",
       "      <td>NaN</td>\n",
       "      <td>2.0</td>\n",
       "      <td>NaN</td>\n",
       "      <td>3.0</td>\n",
       "    </tr>\n",
       "    <tr>\n",
       "      <th>7</th>\n",
       "      <td>8</td>\n",
       "      <td>NaN</td>\n",
       "      <td>NaN</td>\n",
       "      <td>NaN</td>\n",
       "      <td>NaN</td>\n",
       "      <td>4.0</td>\n",
       "      <td>4.0</td>\n",
       "    </tr>\n",
       "  </tbody>\n",
       "</table>\n",
       "</div>"
      ],
      "text/plain": [
       "   id    A    B    C    D    E    F\n",
       "0   1  3.0  4.0  2.0  4.0  1.0  NaN\n",
       "1   2  3.0  4.0  2.0  4.0  NaN  2.0\n",
       "2   3  NaN  2.0  5.0  5.0  NaN  5.0\n",
       "3   4  NaN  NaN  NaN  NaN  4.0  NaN\n",
       "4   5  3.0  NaN  2.0  4.0  4.0  NaN\n",
       "5   6  NaN  5.0  5.0  5.0  NaN  5.0\n",
       "6   7  1.0  NaN  NaN  2.0  NaN  3.0\n",
       "7   8  NaN  NaN  NaN  NaN  4.0  4.0"
      ]
     },
     "execution_count": 5,
     "metadata": {},
     "output_type": "execute_result"
    }
   ],
   "source": [
    "df"
   ]
  },
  {
   "cell_type": "code",
   "execution_count": 6,
   "metadata": {
    "id": "bg5MDMxevFsQ",
    "outputId": "d2d136a0-721f-4f50-c9b0-a1bd67845571"
   },
   "outputs": [
    {
     "data": {
      "text/html": [
       "<div>\n",
       "<style scoped>\n",
       "    .dataframe tbody tr th:only-of-type {\n",
       "        vertical-align: middle;\n",
       "    }\n",
       "\n",
       "    .dataframe tbody tr th {\n",
       "        vertical-align: top;\n",
       "    }\n",
       "\n",
       "    .dataframe thead th {\n",
       "        text-align: right;\n",
       "    }\n",
       "</style>\n",
       "<table border=\"1\" class=\"dataframe\">\n",
       "  <thead>\n",
       "    <tr style=\"text-align: right;\">\n",
       "      <th></th>\n",
       "      <th>id</th>\n",
       "      <th>variable</th>\n",
       "      <th>value</th>\n",
       "    </tr>\n",
       "  </thead>\n",
       "  <tbody>\n",
       "    <tr>\n",
       "      <th>0</th>\n",
       "      <td>1</td>\n",
       "      <td>A</td>\n",
       "      <td>3.0</td>\n",
       "    </tr>\n",
       "    <tr>\n",
       "      <th>1</th>\n",
       "      <td>2</td>\n",
       "      <td>A</td>\n",
       "      <td>3.0</td>\n",
       "    </tr>\n",
       "    <tr>\n",
       "      <th>2</th>\n",
       "      <td>3</td>\n",
       "      <td>A</td>\n",
       "      <td>NaN</td>\n",
       "    </tr>\n",
       "    <tr>\n",
       "      <th>3</th>\n",
       "      <td>4</td>\n",
       "      <td>A</td>\n",
       "      <td>NaN</td>\n",
       "    </tr>\n",
       "    <tr>\n",
       "      <th>4</th>\n",
       "      <td>5</td>\n",
       "      <td>A</td>\n",
       "      <td>3.0</td>\n",
       "    </tr>\n",
       "  </tbody>\n",
       "</table>\n",
       "</div>"
      ],
      "text/plain": [
       "   id variable  value\n",
       "0   1        A    3.0\n",
       "1   2        A    3.0\n",
       "2   3        A    NaN\n",
       "3   4        A    NaN\n",
       "4   5        A    3.0"
      ]
     },
     "execution_count": 6,
     "metadata": {},
     "output_type": "execute_result"
    }
   ],
   "source": [
    "df_unpivot=pd.melt(df, id_vars=['id'])\n",
    "df_unpivot.head()"
   ]
  },
  {
   "cell_type": "code",
   "execution_count": 7,
   "metadata": {
    "id": "KeBzZsBCvFsS"
   },
   "outputs": [],
   "source": [
    "df_unpivot.dropna(inplace=True)\n",
    "df_unpivot.columns=['userID', 'itemID', 'rating']"
   ]
  },
  {
   "cell_type": "code",
   "execution_count": 8,
   "metadata": {
    "id": "08xcq5FsvFsU"
   },
   "outputs": [],
   "source": [
    "from surprise import Dataset\n",
    "from surprise import Reader\n",
    "\n",
    "reader = Reader(rating_scale=(1, 5)) # Зададим разброс оценок\n",
    "data = Dataset.load_from_df(df_unpivot[['userID', 'itemID', 'rating']], reader) #создадим объект, с которым умеет работать библиотека"
   ]
  },
  {
   "cell_type": "code",
   "execution_count": 9,
   "metadata": {
    "id": "OYZR_30qvFsX"
   },
   "outputs": [],
   "source": [
    "trainset = data.build_full_trainset()\n",
    "testset = trainset.build_anti_testset()"
   ]
  },
  {
   "cell_type": "code",
   "execution_count": 10,
   "metadata": {
    "id": "iQ1sOtISvFsa",
    "outputId": "bb6ff980-a18e-4063-f937-c2357304f70b"
   },
   "outputs": [
    {
     "data": {
      "text/plain": [
       "[(1, 'F', 3.4642857142857144),\n",
       " (2, 'E', 3.4642857142857144),\n",
       " (5, 'B', 3.4642857142857144),\n",
       " (5, 'F', 3.4642857142857144),\n",
       " (7, 'B', 3.4642857142857144),\n",
       " (7, 'C', 3.4642857142857144),\n",
       " (7, 'E', 3.4642857142857144),\n",
       " (3, 'A', 3.4642857142857144),\n",
       " (3, 'E', 3.4642857142857144),\n",
       " (6, 'A', 3.4642857142857144)]"
      ]
     },
     "execution_count": 10,
     "metadata": {},
     "output_type": "execute_result"
    }
   ],
   "source": [
    "testset[0:10]"
   ]
  },
  {
   "cell_type": "code",
   "execution_count": 11,
   "metadata": {
    "id": "O-8wwwb7vFse",
    "outputId": "9e409867-4bc5-48e8-e294-c5435a3680f5"
   },
   "outputs": [
    {
     "name": "stdout",
     "output_type": "stream",
     "text": [
      "(array([[0.5       , 0.94339811]]), array([[2, 4]], dtype=int64))\n"
     ]
    }
   ],
   "source": [
    "samples = [[0., 0., 0.], [0., .5, 0.], [1., 1., .5], [0.3, .5, 0.2], [.2, 1., .5]]\n",
    "from sklearn.neighbors import NearestNeighbors\n",
    "knn = NearestNeighbors(n_neighbors=2)\n",
    "knn.fit(samples)\n",
    "print(knn.kneighbors([[1., 1., 1.]]))"
   ]
  },
  {
   "cell_type": "code",
   "execution_count": 12,
   "metadata": {
    "id": "k8fpuM0FvFsg",
    "outputId": "f78f5b4f-7f33-47c6-af3e-db5c70c6ce68"
   },
   "outputs": [
    {
     "name": "stdout",
     "output_type": "stream",
     "text": [
      "(array([[1.11803399, 1.17473401]]), array([[2, 3]], dtype=int64))\n"
     ]
    }
   ],
   "source": [
    "print(knn.kneighbors([[1., 0., 1.]]))"
   ]
  },
  {
   "cell_type": "code",
   "execution_count": 13,
   "metadata": {
    "id": "SUS2kiLxvFsi",
    "outputId": "81adf06c-a945-47bc-9f2b-16d7285887c8"
   },
   "outputs": [
    {
     "name": "stdout",
     "output_type": "stream",
     "text": [
      "Estimating biases using als...\n",
      "Computing the msd similarity matrix...\n",
      "Done computing similarity matrix.\n"
     ]
    }
   ],
   "source": [
    "from surprise import KNNBaseline\n",
    "algo = KNNBaseline(k=1)\n",
    "algo.fit(trainset)\n",
    "predictions = algo.test(testset)"
   ]
  },
  {
   "cell_type": "code",
   "execution_count": 14,
   "metadata": {
    "id": "qiVBad3JvFsk",
    "outputId": "77041d4a-027d-4ba6-c8eb-d8f7716d9298"
   },
   "outputs": [
    {
     "data": {
      "text/plain": [
       "[Prediction(uid=1, iid='F', r_ui=3.4642857142857144, est=1.9577925900897966, details={'actual_k': 1, 'was_impossible': False}),\n",
       " Prediction(uid=2, iid='E', r_ui=3.4642857142857144, est=1.0422074099102034, details={'actual_k': 1, 'was_impossible': False}),\n",
       " Prediction(uid=5, iid='B', r_ui=3.4642857142857144, est=4.082661845573158, details={'actual_k': 1, 'was_impossible': False}),\n",
       " Prediction(uid=5, iid='F', r_ui=3.4642857142857144, est=2.0826618455731576, details={'actual_k': 1, 'was_impossible': False}),\n",
       " Prediction(uid=7, iid='B', r_ui=3.4642857142857144, est=3.8701641215302014, details={'actual_k': 1, 'was_impossible': False})]"
      ]
     },
     "execution_count": 14,
     "metadata": {},
     "output_type": "execute_result"
    }
   ],
   "source": [
    "predictions[0:5]"
   ]
  },
  {
   "cell_type": "code",
   "execution_count": 15,
   "metadata": {
    "id": "nTjcIz_lvFsm"
   },
   "outputs": [],
   "source": [
    "df_unpivot1 = df_unpivot.copy()\n",
    "for i in predictions:\n",
    "    df_unpivot1 = df_unpivot1.append({'userID':i.uid, 'itemID': i.iid, 'rating': i.est}, ignore_index=True)"
   ]
  },
  {
   "cell_type": "code",
   "execution_count": 16,
   "metadata": {
    "id": "Srfu-Cu7vFsp",
    "outputId": "58d4f621-0c19-4add-dcc2-e21ce74edf00"
   },
   "outputs": [
    {
     "data": {
      "text/html": [
       "<div>\n",
       "<style scoped>\n",
       "    .dataframe tbody tr th:only-of-type {\n",
       "        vertical-align: middle;\n",
       "    }\n",
       "\n",
       "    .dataframe tbody tr th {\n",
       "        vertical-align: top;\n",
       "    }\n",
       "\n",
       "    .dataframe thead th {\n",
       "        text-align: right;\n",
       "    }\n",
       "</style>\n",
       "<table border=\"1\" class=\"dataframe\">\n",
       "  <thead>\n",
       "    <tr style=\"text-align: right;\">\n",
       "      <th>itemID</th>\n",
       "      <th>A</th>\n",
       "      <th>B</th>\n",
       "      <th>C</th>\n",
       "      <th>D</th>\n",
       "      <th>E</th>\n",
       "      <th>F</th>\n",
       "    </tr>\n",
       "    <tr>\n",
       "      <th>userID</th>\n",
       "      <th></th>\n",
       "      <th></th>\n",
       "      <th></th>\n",
       "      <th></th>\n",
       "      <th></th>\n",
       "      <th></th>\n",
       "    </tr>\n",
       "  </thead>\n",
       "  <tbody>\n",
       "    <tr>\n",
       "      <th>1</th>\n",
       "      <td>3.000000</td>\n",
       "      <td>4.000000</td>\n",
       "      <td>2.000000</td>\n",
       "      <td>4.000000</td>\n",
       "      <td>1.000000</td>\n",
       "      <td>1.957793</td>\n",
       "    </tr>\n",
       "    <tr>\n",
       "      <th>2</th>\n",
       "      <td>3.000000</td>\n",
       "      <td>4.000000</td>\n",
       "      <td>2.000000</td>\n",
       "      <td>4.000000</td>\n",
       "      <td>1.042207</td>\n",
       "      <td>2.000000</td>\n",
       "    </tr>\n",
       "    <tr>\n",
       "      <th>3</th>\n",
       "      <td>3.311189</td>\n",
       "      <td>2.000000</td>\n",
       "      <td>5.000000</td>\n",
       "      <td>5.000000</td>\n",
       "      <td>4.090446</td>\n",
       "      <td>5.000000</td>\n",
       "    </tr>\n",
       "    <tr>\n",
       "      <th>4</th>\n",
       "      <td>3.072513</td>\n",
       "      <td>4.197382</td>\n",
       "      <td>2.072513</td>\n",
       "      <td>4.072513</td>\n",
       "      <td>4.000000</td>\n",
       "      <td>3.976639</td>\n",
       "    </tr>\n",
       "    <tr>\n",
       "      <th>5</th>\n",
       "      <td>3.000000</td>\n",
       "      <td>4.082662</td>\n",
       "      <td>2.000000</td>\n",
       "      <td>4.000000</td>\n",
       "      <td>4.000000</td>\n",
       "      <td>2.082662</td>\n",
       "    </tr>\n",
       "    <tr>\n",
       "      <th>6</th>\n",
       "      <td>3.469084</td>\n",
       "      <td>5.000000</td>\n",
       "      <td>5.000000</td>\n",
       "      <td>5.000000</td>\n",
       "      <td>4.248341</td>\n",
       "      <td>5.000000</td>\n",
       "    </tr>\n",
       "    <tr>\n",
       "      <th>7</th>\n",
       "      <td>1.000000</td>\n",
       "      <td>3.870164</td>\n",
       "      <td>1.870164</td>\n",
       "      <td>2.000000</td>\n",
       "      <td>3.691628</td>\n",
       "      <td>3.000000</td>\n",
       "    </tr>\n",
       "    <tr>\n",
       "      <th>8</th>\n",
       "      <td>3.095874</td>\n",
       "      <td>1.909554</td>\n",
       "      <td>2.095874</td>\n",
       "      <td>4.095874</td>\n",
       "      <td>4.000000</td>\n",
       "      <td>4.000000</td>\n",
       "    </tr>\n",
       "  </tbody>\n",
       "</table>\n",
       "</div>"
      ],
      "text/plain": [
       "itemID         A         B         C         D         E         F\n",
       "userID                                                            \n",
       "1       3.000000  4.000000  2.000000  4.000000  1.000000  1.957793\n",
       "2       3.000000  4.000000  2.000000  4.000000  1.042207  2.000000\n",
       "3       3.311189  2.000000  5.000000  5.000000  4.090446  5.000000\n",
       "4       3.072513  4.197382  2.072513  4.072513  4.000000  3.976639\n",
       "5       3.000000  4.082662  2.000000  4.000000  4.000000  2.082662\n",
       "6       3.469084  5.000000  5.000000  5.000000  4.248341  5.000000\n",
       "7       1.000000  3.870164  1.870164  2.000000  3.691628  3.000000\n",
       "8       3.095874  1.909554  2.095874  4.095874  4.000000  4.000000"
      ]
     },
     "execution_count": 16,
     "metadata": {},
     "output_type": "execute_result"
    }
   ],
   "source": [
    "df_unpivot1.pivot(index='userID', columns='itemID', values='rating')"
   ]
  },
  {
   "cell_type": "code",
   "execution_count": 17,
   "metadata": {
    "id": "zxOYKsbvvFsq",
    "outputId": "b654660a-e01b-4e1e-eb9d-dd04f2e43fc7"
   },
   "outputs": [
    {
     "name": "stdout",
     "output_type": "stream",
     "text": [
      "Estimating biases using als...\n",
      "Computing the msd similarity matrix...\n",
      "Done computing similarity matrix.\n"
     ]
    }
   ],
   "source": [
    "algo = KNNBaseline(k=3)\n",
    "algo.fit(trainset)\n",
    "# Than predict ratings for all pairs (u, i) that are NOT in the training set.\n",
    "predictions = algo.test(testset)"
   ]
  },
  {
   "cell_type": "code",
   "execution_count": 18,
   "metadata": {
    "id": "ovvs8OIOvFst",
    "outputId": "83c954b9-b79e-46ae-bb0c-280b2083caae"
   },
   "outputs": [
    {
     "data": {
      "text/html": [
       "<div>\n",
       "<style scoped>\n",
       "    .dataframe tbody tr th:only-of-type {\n",
       "        vertical-align: middle;\n",
       "    }\n",
       "\n",
       "    .dataframe tbody tr th {\n",
       "        vertical-align: top;\n",
       "    }\n",
       "\n",
       "    .dataframe thead th {\n",
       "        text-align: right;\n",
       "    }\n",
       "</style>\n",
       "<table border=\"1\" class=\"dataframe\">\n",
       "  <thead>\n",
       "    <tr style=\"text-align: right;\">\n",
       "      <th>itemID</th>\n",
       "      <th>A</th>\n",
       "      <th>B</th>\n",
       "      <th>C</th>\n",
       "      <th>D</th>\n",
       "      <th>E</th>\n",
       "      <th>F</th>\n",
       "    </tr>\n",
       "    <tr>\n",
       "      <th>userID</th>\n",
       "      <th></th>\n",
       "      <th></th>\n",
       "      <th></th>\n",
       "      <th></th>\n",
       "      <th></th>\n",
       "      <th></th>\n",
       "    </tr>\n",
       "  </thead>\n",
       "  <tbody>\n",
       "    <tr>\n",
       "      <th>1</th>\n",
       "      <td>3.000000</td>\n",
       "      <td>4.000000</td>\n",
       "      <td>2.000000</td>\n",
       "      <td>4.000000</td>\n",
       "      <td>1.000000</td>\n",
       "      <td>2.507435</td>\n",
       "    </tr>\n",
       "    <tr>\n",
       "      <th>2</th>\n",
       "      <td>3.000000</td>\n",
       "      <td>4.000000</td>\n",
       "      <td>2.000000</td>\n",
       "      <td>4.000000</td>\n",
       "      <td>2.601745</td>\n",
       "      <td>2.000000</td>\n",
       "    </tr>\n",
       "    <tr>\n",
       "      <th>3</th>\n",
       "      <td>3.256100</td>\n",
       "      <td>2.000000</td>\n",
       "      <td>5.000000</td>\n",
       "      <td>5.000000</td>\n",
       "      <td>3.527693</td>\n",
       "      <td>5.000000</td>\n",
       "    </tr>\n",
       "    <tr>\n",
       "      <th>4</th>\n",
       "      <td>3.083864</td>\n",
       "      <td>4.197382</td>\n",
       "      <td>2.083864</td>\n",
       "      <td>4.083864</td>\n",
       "      <td>4.000000</td>\n",
       "      <td>3.976639</td>\n",
       "    </tr>\n",
       "    <tr>\n",
       "      <th>5</th>\n",
       "      <td>3.000000</td>\n",
       "      <td>3.834977</td>\n",
       "      <td>2.000000</td>\n",
       "      <td>4.000000</td>\n",
       "      <td>4.000000</td>\n",
       "      <td>3.013312</td>\n",
       "    </tr>\n",
       "    <tr>\n",
       "      <th>6</th>\n",
       "      <td>3.418235</td>\n",
       "      <td>5.000000</td>\n",
       "      <td>5.000000</td>\n",
       "      <td>5.000000</td>\n",
       "      <td>3.590444</td>\n",
       "      <td>5.000000</td>\n",
       "    </tr>\n",
       "    <tr>\n",
       "      <th>7</th>\n",
       "      <td>1.000000</td>\n",
       "      <td>3.366011</td>\n",
       "      <td>1.857717</td>\n",
       "      <td>2.000000</td>\n",
       "      <td>3.095321</td>\n",
       "      <td>3.000000</td>\n",
       "    </tr>\n",
       "    <tr>\n",
       "      <th>8</th>\n",
       "      <td>2.579863</td>\n",
       "      <td>3.471928</td>\n",
       "      <td>3.463240</td>\n",
       "      <td>4.463240</td>\n",
       "      <td>4.000000</td>\n",
       "      <td>4.000000</td>\n",
       "    </tr>\n",
       "  </tbody>\n",
       "</table>\n",
       "</div>"
      ],
      "text/plain": [
       "itemID         A         B         C         D         E         F\n",
       "userID                                                            \n",
       "1       3.000000  4.000000  2.000000  4.000000  1.000000  2.507435\n",
       "2       3.000000  4.000000  2.000000  4.000000  2.601745  2.000000\n",
       "3       3.256100  2.000000  5.000000  5.000000  3.527693  5.000000\n",
       "4       3.083864  4.197382  2.083864  4.083864  4.000000  3.976639\n",
       "5       3.000000  3.834977  2.000000  4.000000  4.000000  3.013312\n",
       "6       3.418235  5.000000  5.000000  5.000000  3.590444  5.000000\n",
       "7       1.000000  3.366011  1.857717  2.000000  3.095321  3.000000\n",
       "8       2.579863  3.471928  3.463240  4.463240  4.000000  4.000000"
      ]
     },
     "execution_count": 18,
     "metadata": {},
     "output_type": "execute_result"
    }
   ],
   "source": [
    "df_unpivot3 = df_unpivot.copy()\n",
    "for i in predictions:\n",
    "    df_unpivot3 = df_unpivot3.append({'userID':i.uid, 'itemID': i.iid, 'rating': i.est}, ignore_index=True)\n",
    "df_unpivot3.pivot(index='userID', columns='itemID', values='rating')"
   ]
  },
  {
   "cell_type": "markdown",
   "metadata": {
    "id": "s2uFanFbvFsv"
   },
   "source": [
    "## Кросс-валидация"
   ]
  },
  {
   "cell_type": "code",
   "execution_count": 19,
   "metadata": {
    "id": "TBpEqGyGvFsw"
   },
   "outputs": [],
   "source": [
    "from surprise.model_selection import cross_validate"
   ]
  },
  {
   "cell_type": "code",
   "execution_count": 20,
   "metadata": {
    "id": "HzgH0XZhvFsy",
    "outputId": "4606b3c1-c3b5-4a98-afa7-d1ec8d2c689c"
   },
   "outputs": [
    {
     "name": "stdout",
     "output_type": "stream",
     "text": [
      "Estimating biases using als...\n",
      "Computing the msd similarity matrix...\n",
      "Done computing similarity matrix.\n",
      "Estimating biases using als...\n",
      "Computing the msd similarity matrix...\n",
      "Done computing similarity matrix.\n",
      "Evaluating RMSE, MAE of algorithm KNNBaseline on 2 split(s).\n",
      "\n",
      "                  Fold 1  Fold 2  Mean    Std     \n",
      "RMSE (testset)    1.3616  1.3188  1.3402  0.0214  \n",
      "MAE (testset)     1.0285  0.9399  0.9842  0.0443  \n",
      "Fit time          0.01    0.00    0.00    0.00    \n",
      "Test time         0.00    0.00    0.00    0.00    \n"
     ]
    },
    {
     "data": {
      "text/plain": [
       "{'test_rmse': array([1.36156113, 1.31876739]),\n",
       " 'test_mae': array([1.02848654, 0.93989624]),\n",
       " 'fit_time': (0.005998849868774414, 0.0020051002502441406),\n",
       " 'test_time': (0.0009996891021728516, 0.0009963512420654297)}"
      ]
     },
     "execution_count": 20,
     "metadata": {},
     "output_type": "execute_result"
    }
   ],
   "source": [
    "cross_validate(algo, data, cv=2, verbose=True)"
   ]
  },
  {
   "cell_type": "code",
   "execution_count": 21,
   "metadata": {
    "id": "K6FIs1l5vFsz",
    "outputId": "be036a1e-9e58-46b9-8698-4ed1eda2027a"
   },
   "outputs": [
    {
     "name": "stdout",
     "output_type": "stream",
     "text": [
      "Estimating biases using als...\n",
      "Computing the msd similarity matrix...\n",
      "Done computing similarity matrix.\n",
      "Estimating biases using als...\n",
      "Computing the msd similarity matrix...\n",
      "Done computing similarity matrix.\n",
      "Estimating biases using als...\n",
      "Computing the msd similarity matrix...\n",
      "Done computing similarity matrix.\n"
     ]
    },
    {
     "data": {
      "text/plain": [
       "{'test_rmse': array([1.18141337, 1.64493972, 1.64685651]),\n",
       " 'fit_time': (0.0020008087158203125,\n",
       "  0.0010023117065429688,\n",
       "  0.0011005401611328125),\n",
       " 'test_time': (0.0010006427764892578, 0.0009999275207519531, 0.0)}"
      ]
     },
     "execution_count": 21,
     "metadata": {},
     "output_type": "execute_result"
    }
   ],
   "source": [
    "cross_validate(algo, data, measures=['RMSE'], cv=3, verbose=False)"
   ]
  },
  {
   "cell_type": "code",
   "execution_count": 22,
   "metadata": {
    "id": "b4JLPN2HvFs3",
    "outputId": "86204b3b-8626-43ea-aa71-0ea1a4f82f50"
   },
   "outputs": [
    {
     "name": "stdout",
     "output_type": "stream",
     "text": [
      "1NN: 1.5998308731538238\n",
      "2NN: 1.1971293029337056\n",
      "3NN: 1.6613526909761456\n",
      "4NN: 1.4644119748009492\n",
      "5NN: 1.54300931870935\n"
     ]
    }
   ],
   "source": [
    "for i in range(1,6):\n",
    "    algo = KNNBaseline(k=i, verbose=False) #отключим вывод логирования\n",
    "    cv=cross_validate(algo, data, measures=['RMSE'], cv=3, verbose=False)\n",
    "    print(str(i)+'NN:',np.mean(cv['test_rmse']))"
   ]
  },
  {
   "cell_type": "markdown",
   "metadata": {
    "id": "0WMxi87CvFs5"
   },
   "source": [
    "## Item-based подход"
   ]
  },
  {
   "cell_type": "code",
   "execution_count": 23,
   "metadata": {
    "id": "UY8XHkzJvFs6",
    "outputId": "6b197cb6-bf79-4d45-8dec-e0d31b2d45ad"
   },
   "outputs": [
    {
     "data": {
      "text/html": [
       "<div>\n",
       "<style scoped>\n",
       "    .dataframe tbody tr th:only-of-type {\n",
       "        vertical-align: middle;\n",
       "    }\n",
       "\n",
       "    .dataframe tbody tr th {\n",
       "        vertical-align: top;\n",
       "    }\n",
       "\n",
       "    .dataframe thead th {\n",
       "        text-align: right;\n",
       "    }\n",
       "</style>\n",
       "<table border=\"1\" class=\"dataframe\">\n",
       "  <thead>\n",
       "    <tr style=\"text-align: right;\">\n",
       "      <th>itemID</th>\n",
       "      <th>A</th>\n",
       "      <th>B</th>\n",
       "      <th>C</th>\n",
       "      <th>D</th>\n",
       "      <th>E</th>\n",
       "      <th>F</th>\n",
       "    </tr>\n",
       "    <tr>\n",
       "      <th>userID</th>\n",
       "      <th></th>\n",
       "      <th></th>\n",
       "      <th></th>\n",
       "      <th></th>\n",
       "      <th></th>\n",
       "      <th></th>\n",
       "    </tr>\n",
       "  </thead>\n",
       "  <tbody>\n",
       "    <tr>\n",
       "      <th>1</th>\n",
       "      <td>3.000000</td>\n",
       "      <td>4.000000</td>\n",
       "      <td>2.000000</td>\n",
       "      <td>4.000000</td>\n",
       "      <td>1.000000</td>\n",
       "      <td>2.810335</td>\n",
       "    </tr>\n",
       "    <tr>\n",
       "      <th>2</th>\n",
       "      <td>3.000000</td>\n",
       "      <td>4.000000</td>\n",
       "      <td>2.000000</td>\n",
       "      <td>4.000000</td>\n",
       "      <td>2.601745</td>\n",
       "      <td>2.000000</td>\n",
       "    </tr>\n",
       "    <tr>\n",
       "      <th>3</th>\n",
       "      <td>2.859638</td>\n",
       "      <td>2.000000</td>\n",
       "      <td>5.000000</td>\n",
       "      <td>5.000000</td>\n",
       "      <td>3.527693</td>\n",
       "      <td>5.000000</td>\n",
       "    </tr>\n",
       "    <tr>\n",
       "      <th>4</th>\n",
       "      <td>3.083864</td>\n",
       "      <td>4.197382</td>\n",
       "      <td>2.083864</td>\n",
       "      <td>4.083864</td>\n",
       "      <td>4.000000</td>\n",
       "      <td>3.976639</td>\n",
       "    </tr>\n",
       "    <tr>\n",
       "      <th>5</th>\n",
       "      <td>3.000000</td>\n",
       "      <td>3.918340</td>\n",
       "      <td>2.000000</td>\n",
       "      <td>4.000000</td>\n",
       "      <td>4.000000</td>\n",
       "      <td>3.239815</td>\n",
       "    </tr>\n",
       "    <tr>\n",
       "      <th>6</th>\n",
       "      <td>3.053741</td>\n",
       "      <td>5.000000</td>\n",
       "      <td>5.000000</td>\n",
       "      <td>5.000000</td>\n",
       "      <td>3.590444</td>\n",
       "      <td>5.000000</td>\n",
       "    </tr>\n",
       "    <tr>\n",
       "      <th>7</th>\n",
       "      <td>1.000000</td>\n",
       "      <td>3.566434</td>\n",
       "      <td>2.632849</td>\n",
       "      <td>2.000000</td>\n",
       "      <td>3.095321</td>\n",
       "      <td>3.000000</td>\n",
       "    </tr>\n",
       "    <tr>\n",
       "      <th>8</th>\n",
       "      <td>2.615467</td>\n",
       "      <td>3.529529</td>\n",
       "      <td>3.297505</td>\n",
       "      <td>4.043101</td>\n",
       "      <td>4.000000</td>\n",
       "      <td>4.000000</td>\n",
       "    </tr>\n",
       "  </tbody>\n",
       "</table>\n",
       "</div>"
      ],
      "text/plain": [
       "itemID         A         B         C         D         E         F\n",
       "userID                                                            \n",
       "1       3.000000  4.000000  2.000000  4.000000  1.000000  2.810335\n",
       "2       3.000000  4.000000  2.000000  4.000000  2.601745  2.000000\n",
       "3       2.859638  2.000000  5.000000  5.000000  3.527693  5.000000\n",
       "4       3.083864  4.197382  2.083864  4.083864  4.000000  3.976639\n",
       "5       3.000000  3.918340  2.000000  4.000000  4.000000  3.239815\n",
       "6       3.053741  5.000000  5.000000  5.000000  3.590444  5.000000\n",
       "7       1.000000  3.566434  2.632849  2.000000  3.095321  3.000000\n",
       "8       2.615467  3.529529  3.297505  4.043101  4.000000  4.000000"
      ]
     },
     "execution_count": 23,
     "metadata": {},
     "output_type": "execute_result"
    }
   ],
   "source": [
    "algo = KNNBaseline(k=5, verbose=False)\n",
    "predictions = algo.fit(trainset).test(testset)\n",
    "df_unpivot5 = df_unpivot.copy()\n",
    "for i in predictions:\n",
    "    df_unpivot5 = df_unpivot5.append({'userID':i.uid, 'itemID': i.iid, 'rating': i.est}, ignore_index=True)\n",
    "df_unpivot5.pivot(index='userID', columns='itemID', values='rating')"
   ]
  },
  {
   "cell_type": "code",
   "execution_count": 24,
   "metadata": {
    "id": "OEXLJpc5vFs9"
   },
   "outputs": [],
   "source": [
    "sim_options = {'user_based': False } # Item-based подход"
   ]
  },
  {
   "cell_type": "code",
   "execution_count": 25,
   "metadata": {
    "id": "uIxrzQufvFs-",
    "outputId": "fe0cc997-6039-4d93-ee3a-1ae1996feb72"
   },
   "outputs": [
    {
     "data": {
      "text/html": [
       "<div>\n",
       "<style scoped>\n",
       "    .dataframe tbody tr th:only-of-type {\n",
       "        vertical-align: middle;\n",
       "    }\n",
       "\n",
       "    .dataframe tbody tr th {\n",
       "        vertical-align: top;\n",
       "    }\n",
       "\n",
       "    .dataframe thead th {\n",
       "        text-align: right;\n",
       "    }\n",
       "</style>\n",
       "<table border=\"1\" class=\"dataframe\">\n",
       "  <thead>\n",
       "    <tr style=\"text-align: right;\">\n",
       "      <th>itemID</th>\n",
       "      <th>A</th>\n",
       "      <th>B</th>\n",
       "      <th>C</th>\n",
       "      <th>D</th>\n",
       "      <th>E</th>\n",
       "      <th>F</th>\n",
       "    </tr>\n",
       "    <tr>\n",
       "      <th>userID</th>\n",
       "      <th></th>\n",
       "      <th></th>\n",
       "      <th></th>\n",
       "      <th></th>\n",
       "      <th></th>\n",
       "      <th></th>\n",
       "    </tr>\n",
       "  </thead>\n",
       "  <tbody>\n",
       "    <tr>\n",
       "      <th>1</th>\n",
       "      <td>3.000000</td>\n",
       "      <td>4.000000</td>\n",
       "      <td>2.000000</td>\n",
       "      <td>4.000000</td>\n",
       "      <td>1.000000</td>\n",
       "      <td>2.329176</td>\n",
       "    </tr>\n",
       "    <tr>\n",
       "      <th>2</th>\n",
       "      <td>3.000000</td>\n",
       "      <td>4.000000</td>\n",
       "      <td>2.000000</td>\n",
       "      <td>4.000000</td>\n",
       "      <td>2.376574</td>\n",
       "      <td>2.000000</td>\n",
       "    </tr>\n",
       "    <tr>\n",
       "      <th>3</th>\n",
       "      <td>3.858465</td>\n",
       "      <td>2.000000</td>\n",
       "      <td>5.000000</td>\n",
       "      <td>5.000000</td>\n",
       "      <td>4.678967</td>\n",
       "      <td>5.000000</td>\n",
       "    </tr>\n",
       "    <tr>\n",
       "      <th>4</th>\n",
       "      <td>3.818825</td>\n",
       "      <td>4.122894</td>\n",
       "      <td>3.956402</td>\n",
       "      <td>4.261502</td>\n",
       "      <td>4.000000</td>\n",
       "      <td>4.155852</td>\n",
       "    </tr>\n",
       "    <tr>\n",
       "      <th>5</th>\n",
       "      <td>3.000000</td>\n",
       "      <td>3.337475</td>\n",
       "      <td>2.000000</td>\n",
       "      <td>4.000000</td>\n",
       "      <td>4.000000</td>\n",
       "      <td>3.311002</td>\n",
       "    </tr>\n",
       "    <tr>\n",
       "      <th>6</th>\n",
       "      <td>4.698465</td>\n",
       "      <td>5.000000</td>\n",
       "      <td>5.000000</td>\n",
       "      <td>5.000000</td>\n",
       "      <td>4.870350</td>\n",
       "      <td>5.000000</td>\n",
       "    </tr>\n",
       "    <tr>\n",
       "      <th>7</th>\n",
       "      <td>1.000000</td>\n",
       "      <td>1.789695</td>\n",
       "      <td>2.155844</td>\n",
       "      <td>2.000000</td>\n",
       "      <td>2.383400</td>\n",
       "      <td>3.000000</td>\n",
       "    </tr>\n",
       "    <tr>\n",
       "      <th>8</th>\n",
       "      <td>3.740899</td>\n",
       "      <td>4.021251</td>\n",
       "      <td>3.835183</td>\n",
       "      <td>4.150897</td>\n",
       "      <td>4.000000</td>\n",
       "      <td>4.000000</td>\n",
       "    </tr>\n",
       "  </tbody>\n",
       "</table>\n",
       "</div>"
      ],
      "text/plain": [
       "itemID         A         B         C         D         E         F\n",
       "userID                                                            \n",
       "1       3.000000  4.000000  2.000000  4.000000  1.000000  2.329176\n",
       "2       3.000000  4.000000  2.000000  4.000000  2.376574  2.000000\n",
       "3       3.858465  2.000000  5.000000  5.000000  4.678967  5.000000\n",
       "4       3.818825  4.122894  3.956402  4.261502  4.000000  4.155852\n",
       "5       3.000000  3.337475  2.000000  4.000000  4.000000  3.311002\n",
       "6       4.698465  5.000000  5.000000  5.000000  4.870350  5.000000\n",
       "7       1.000000  1.789695  2.155844  2.000000  2.383400  3.000000\n",
       "8       3.740899  4.021251  3.835183  4.150897  4.000000  4.000000"
      ]
     },
     "execution_count": 25,
     "metadata": {},
     "output_type": "execute_result"
    }
   ],
   "source": [
    "algo = KNNBaseline(k=5,sim_options=sim_options, verbose=False)\n",
    "predictions = algo.fit(trainset).test(testset)\n",
    "df_unpivot5_items = df_unpivot.copy()\n",
    "for i in predictions:\n",
    "    df_unpivot5_items = df_unpivot5_items.append({'userID':i.uid, 'itemID': i.iid, 'rating': i.est}, ignore_index=True)\n",
    "df_unpivot5_items.pivot(index='userID', columns='itemID', values='rating')"
   ]
  },
  {
   "cell_type": "markdown",
   "metadata": {
    "id": "gLoKDEtBvFs_"
   },
   "source": [
    "## Косинусная-мера"
   ]
  },
  {
   "cell_type": "code",
   "execution_count": 26,
   "metadata": {
    "id": "z6f_2LoWvFtA",
    "outputId": "96edeea2-3ddc-497b-bb21-5e6a57c2e989"
   },
   "outputs": [
    {
     "data": {
      "text/html": [
       "<div>\n",
       "<style scoped>\n",
       "    .dataframe tbody tr th:only-of-type {\n",
       "        vertical-align: middle;\n",
       "    }\n",
       "\n",
       "    .dataframe tbody tr th {\n",
       "        vertical-align: top;\n",
       "    }\n",
       "\n",
       "    .dataframe thead th {\n",
       "        text-align: right;\n",
       "    }\n",
       "</style>\n",
       "<table border=\"1\" class=\"dataframe\">\n",
       "  <thead>\n",
       "    <tr style=\"text-align: right;\">\n",
       "      <th>itemID</th>\n",
       "      <th>A</th>\n",
       "      <th>B</th>\n",
       "      <th>C</th>\n",
       "      <th>D</th>\n",
       "      <th>E</th>\n",
       "      <th>F</th>\n",
       "    </tr>\n",
       "    <tr>\n",
       "      <th>userID</th>\n",
       "      <th></th>\n",
       "      <th></th>\n",
       "      <th></th>\n",
       "      <th></th>\n",
       "      <th></th>\n",
       "      <th></th>\n",
       "    </tr>\n",
       "  </thead>\n",
       "  <tbody>\n",
       "    <tr>\n",
       "      <th>1</th>\n",
       "      <td>3.000000</td>\n",
       "      <td>4.000000</td>\n",
       "      <td>2.000000</td>\n",
       "      <td>4.000000</td>\n",
       "      <td>1.000000</td>\n",
       "      <td>3.572362</td>\n",
       "    </tr>\n",
       "    <tr>\n",
       "      <th>2</th>\n",
       "      <td>3.000000</td>\n",
       "      <td>4.000000</td>\n",
       "      <td>2.000000</td>\n",
       "      <td>4.000000</td>\n",
       "      <td>2.927003</td>\n",
       "      <td>2.000000</td>\n",
       "    </tr>\n",
       "    <tr>\n",
       "      <th>3</th>\n",
       "      <td>2.754335</td>\n",
       "      <td>2.000000</td>\n",
       "      <td>5.000000</td>\n",
       "      <td>5.000000</td>\n",
       "      <td>3.270544</td>\n",
       "      <td>5.000000</td>\n",
       "    </tr>\n",
       "    <tr>\n",
       "      <th>4</th>\n",
       "      <td>3.134947</td>\n",
       "      <td>4.197382</td>\n",
       "      <td>2.134947</td>\n",
       "      <td>4.134947</td>\n",
       "      <td>4.000000</td>\n",
       "      <td>3.976639</td>\n",
       "    </tr>\n",
       "    <tr>\n",
       "      <th>5</th>\n",
       "      <td>3.000000</td>\n",
       "      <td>3.668772</td>\n",
       "      <td>2.000000</td>\n",
       "      <td>4.000000</td>\n",
       "      <td>4.000000</td>\n",
       "      <td>3.714426</td>\n",
       "    </tr>\n",
       "    <tr>\n",
       "      <th>6</th>\n",
       "      <td>2.939492</td>\n",
       "      <td>5.000000</td>\n",
       "      <td>5.000000</td>\n",
       "      <td>5.000000</td>\n",
       "      <td>3.360864</td>\n",
       "      <td>5.000000</td>\n",
       "    </tr>\n",
       "    <tr>\n",
       "      <th>7</th>\n",
       "      <td>1.000000</td>\n",
       "      <td>3.442211</td>\n",
       "      <td>2.951617</td>\n",
       "      <td>2.000000</td>\n",
       "      <td>2.802029</td>\n",
       "      <td>3.000000</td>\n",
       "    </tr>\n",
       "    <tr>\n",
       "      <th>8</th>\n",
       "      <td>2.700881</td>\n",
       "      <td>3.765123</td>\n",
       "      <td>3.231273</td>\n",
       "      <td>4.431273</td>\n",
       "      <td>4.000000</td>\n",
       "      <td>4.000000</td>\n",
       "    </tr>\n",
       "  </tbody>\n",
       "</table>\n",
       "</div>"
      ],
      "text/plain": [
       "itemID         A         B         C         D         E         F\n",
       "userID                                                            \n",
       "1       3.000000  4.000000  2.000000  4.000000  1.000000  3.572362\n",
       "2       3.000000  4.000000  2.000000  4.000000  2.927003  2.000000\n",
       "3       2.754335  2.000000  5.000000  5.000000  3.270544  5.000000\n",
       "4       3.134947  4.197382  2.134947  4.134947  4.000000  3.976639\n",
       "5       3.000000  3.668772  2.000000  4.000000  4.000000  3.714426\n",
       "6       2.939492  5.000000  5.000000  5.000000  3.360864  5.000000\n",
       "7       1.000000  3.442211  2.951617  2.000000  2.802029  3.000000\n",
       "8       2.700881  3.765123  3.231273  4.431273  4.000000  4.000000"
      ]
     },
     "execution_count": 26,
     "metadata": {},
     "output_type": "execute_result"
    }
   ],
   "source": [
    "algo = KNNBaseline(k=5,sim_options= {'name': 'cosine'}, verbose=False)\n",
    "predictions = algo.fit(trainset).test(testset)\n",
    "df_unpivot5_cos = df_unpivot.copy()\n",
    "for i in predictions:\n",
    "    df_unpivot5_cos = df_unpivot5_cos.append({'userID':i.uid, 'itemID': i.iid, 'rating': i.est}, ignore_index=True)\n",
    "df_unpivot5_cos.pivot(index='userID', columns='itemID', values='rating')"
   ]
  },
  {
   "cell_type": "markdown",
   "metadata": {
    "id": "ROHkmbGIvFtC"
   },
   "source": [
    "## Datalens"
   ]
  },
  {
   "cell_type": "markdown",
   "metadata": {
    "id": "GmwOxGQUvFtD"
   },
   "source": [
    "В библиотеке есть встроенные Dataset. Можно воспользоваться ими.\n",
    "\n",
    "Возьмем Dataset movielens (Побробнее о нем https://grouplens.org/datasets/movielens/ )"
   ]
  },
  {
   "cell_type": "code",
   "execution_count": 28,
   "metadata": {
    "id": "X9iQBgb_vFtD"
   },
   "outputs": [
    {
     "name": "stdout",
     "output_type": "stream",
     "text": [
      "Dataset ml-100k could not be found. Do you want to download it? [Y/n] ml-100k\n",
      "Dataset ml-100k could not be found. Do you want to download it? [Y/n] Y\n",
      "Trying to download dataset from http://files.grouplens.org/datasets/movielens/ml-100k.zip...\n",
      "Done! Dataset ml-100k has been saved to C:\\Users\\HP/.surprise_data/ml-100k\n"
     ]
    }
   ],
   "source": [
    "data = Dataset.load_builtin('ml-100k')#загружем данные о фильмах"
   ]
  },
  {
   "cell_type": "code",
   "execution_count": 29,
   "metadata": {
    "id": "Mfqp0IypvFtE",
    "outputId": "6f75be59-480c-4615-8a1b-1a513e169154"
   },
   "outputs": [
    {
     "data": {
      "text/html": [
       "<div>\n",
       "<style scoped>\n",
       "    .dataframe tbody tr th:only-of-type {\n",
       "        vertical-align: middle;\n",
       "    }\n",
       "\n",
       "    .dataframe tbody tr th {\n",
       "        vertical-align: top;\n",
       "    }\n",
       "\n",
       "    .dataframe thead th {\n",
       "        text-align: right;\n",
       "    }\n",
       "</style>\n",
       "<table border=\"1\" class=\"dataframe\">\n",
       "  <thead>\n",
       "    <tr style=\"text-align: right;\">\n",
       "      <th></th>\n",
       "      <th>user</th>\n",
       "      <th>item</th>\n",
       "      <th>rating</th>\n",
       "      <th>timestamp</th>\n",
       "    </tr>\n",
       "  </thead>\n",
       "  <tbody>\n",
       "    <tr>\n",
       "      <th>0</th>\n",
       "      <td>196</td>\n",
       "      <td>242</td>\n",
       "      <td>3.0</td>\n",
       "      <td>881250949</td>\n",
       "    </tr>\n",
       "    <tr>\n",
       "      <th>1</th>\n",
       "      <td>186</td>\n",
       "      <td>302</td>\n",
       "      <td>3.0</td>\n",
       "      <td>891717742</td>\n",
       "    </tr>\n",
       "    <tr>\n",
       "      <th>2</th>\n",
       "      <td>22</td>\n",
       "      <td>377</td>\n",
       "      <td>1.0</td>\n",
       "      <td>878887116</td>\n",
       "    </tr>\n",
       "    <tr>\n",
       "      <th>3</th>\n",
       "      <td>244</td>\n",
       "      <td>51</td>\n",
       "      <td>2.0</td>\n",
       "      <td>880606923</td>\n",
       "    </tr>\n",
       "    <tr>\n",
       "      <th>4</th>\n",
       "      <td>166</td>\n",
       "      <td>346</td>\n",
       "      <td>1.0</td>\n",
       "      <td>886397596</td>\n",
       "    </tr>\n",
       "  </tbody>\n",
       "</table>\n",
       "</div>"
      ],
      "text/plain": [
       "  user item  rating  timestamp\n",
       "0  196  242     3.0  881250949\n",
       "1  186  302     3.0  891717742\n",
       "2   22  377     1.0  878887116\n",
       "3  244   51     2.0  880606923\n",
       "4  166  346     1.0  886397596"
      ]
     },
     "execution_count": 29,
     "metadata": {},
     "output_type": "execute_result"
    }
   ],
   "source": [
    "df = pd.DataFrame(data.raw_ratings)\n",
    "df.columns = ['user', 'item', 'rating', 'timestamp']\n",
    "df.head()"
   ]
  },
  {
   "cell_type": "code",
   "execution_count": 30,
   "metadata": {
    "id": "xbszLnIjvFtG",
    "outputId": "8ab234f1-96f2-43b0-8631-787994bfd1cb"
   },
   "outputs": [
    {
     "data": {
      "text/plain": [
       "(943, 1682)"
      ]
     },
     "execution_count": 30,
     "metadata": {},
     "output_type": "execute_result"
    }
   ],
   "source": [
    "df['user'].nunique(), df['item'].nunique()"
   ]
  },
  {
   "cell_type": "code",
   "execution_count": 31,
   "metadata": {
    "id": "zH-LJ78MvFtH",
    "outputId": "578b042a-9119-45df-af4f-6037901673b3"
   },
   "outputs": [
    {
     "name": "stdout",
     "output_type": "stream",
     "text": [
      "1NN: 1.2463978132789109\n",
      "3NN: 1.0387182482330322\n",
      "5NN: 0.9945516116008767\n",
      "7NN: 0.9732727541517154\n",
      "20NN: 0.9401535890019249\n"
     ]
    }
   ],
   "source": [
    "for i in [1,3,5,7,20]:\n",
    "    algo = KNNBaseline(k=i, verbose=False) #отключим вывод логирования\n",
    "    cv=cross_validate(algo, data, measures=['RMSE'], cv=3, verbose=False)\n",
    "    print(str(i)+'NN:',np.mean(cv['test_rmse']))"
   ]
  },
  {
   "cell_type": "markdown",
   "metadata": {
    "id": "OdSTLNWQvFtI"
   },
   "source": [
    "## Задание:\n",
    "Все задание выполняется на датасэтет 'ml-100k' (Dataset.load_builtin('ml-100k'))\n",
    "1. Найдте для фильма алгоритмом kNN(k=20) с id 181 все неизвестные оценки (user-based). В ответе: посчитайте среднее полученных оценок.\n",
    "2. Для параметров k = [10,20,30,40] найдите лучший item-based алгоритм (по метрике RMSE, кросс-валидация на 3 фолда).\n",
    "Ответ: укажите k\n",
    "3. Для лучшего алгоритма из пункта 2 найдте для фильма с id 181 все неизвестные оценки. В ответе: посчитайте среднее полученных оценок."
   ]
  },
  {
   "cell_type": "markdown",
   "metadata": {},
   "source": [
    "## Задача 1"
   ]
  },
  {
   "cell_type": "code",
   "execution_count": 32,
   "metadata": {},
   "outputs": [],
   "source": [
    "data = Dataset.load_builtin('ml-100k')\n",
    "trainset = data.build_full_trainset()\n",
    "testset = trainset.build_anti_testset()"
   ]
  },
  {
   "cell_type": "code",
   "execution_count": 33,
   "metadata": {},
   "outputs": [],
   "source": [
    "algo = KNNBaseline(k=20, verbose=False)\n",
    "predictions = algo.fit(trainset).test(testset)"
   ]
  },
  {
   "cell_type": "code",
   "execution_count": 34,
   "metadata": {},
   "outputs": [],
   "source": [
    "df_taks=pd.DataFrame(columns=['userID', 'itemID', 'rating'])"
   ]
  },
  {
   "cell_type": "code",
   "execution_count": 38,
   "metadata": {},
   "outputs": [],
   "source": [
    "for i in predictions:\n",
    "    if int(i.iid)==181:\n",
    "        df_taks = df_taks.append({'userID':i.iid, 'itemID':i.iid, 'rating':i.est}, ignore_index=True)"
   ]
  },
  {
   "cell_type": "code",
   "execution_count": 39,
   "metadata": {},
   "outputs": [
    {
     "data": {
      "text/plain": [
       "3.952208342677188"
      ]
     },
     "execution_count": 39,
     "metadata": {},
     "output_type": "execute_result"
    }
   ],
   "source": [
    "df_taks['rating'].mean()"
   ]
  },
  {
   "cell_type": "markdown",
   "metadata": {},
   "source": [
    "## Задача 2"
   ]
  },
  {
   "cell_type": "code",
   "execution_count": 40,
   "metadata": {},
   "outputs": [
    {
     "name": "stdout",
     "output_type": "stream",
     "text": [
      "10NN 0.954950413483901\n",
      "20NN 0.9411708573843386\n",
      "30NN 0.9379065666680236\n",
      "40NN 0.9351019311795711\n"
     ]
    }
   ],
   "source": [
    "argmin=5\n",
    "k=0\n",
    "for i in [10,20,30,40]:\n",
    "    algo = KNNBaseline(k=i,sim_options= {'user_base': False}, verbose=False)\n",
    "    cv=cross_validate(algo, data, measures=['RMSE'], cv=3, verbose=False)\n",
    "    if argmin>np.mean(cv['test_rmse']):\n",
    "        k=i\n",
    "        argmin=np.mean(cv['test_rmse'])\n",
    "    print(str(i)+'NN', np.mean(cv['test_rmse']))"
   ]
  },
  {
   "cell_type": "code",
   "execution_count": 41,
   "metadata": {},
   "outputs": [
    {
     "name": "stdout",
     "output_type": "stream",
     "text": [
      "40\n"
     ]
    }
   ],
   "source": [
    "print(k)"
   ]
  },
  {
   "cell_type": "markdown",
   "metadata": {},
   "source": [
    "## Задача 3"
   ]
  },
  {
   "cell_type": "code",
   "execution_count": 42,
   "metadata": {},
   "outputs": [],
   "source": [
    "algo = KNNBaseline(k=k, sim_options = {'user_base': False}, verbose=False)\n",
    "predictions = algo.fit(trainset).test(testset)"
   ]
  },
  {
   "cell_type": "code",
   "execution_count": 43,
   "metadata": {},
   "outputs": [],
   "source": [
    "df_taks=pd.DataFrame(columns=['userID', 'itemID', 'rating'])\n",
    "for i in predictions:\n",
    "    if int(i.iid)==181:\n",
    "        df_taks = df_taks.append({'userID':i.iid, 'itemID':i.iid, 'rating':i.est}, ignore_index=True)"
   ]
  },
  {
   "cell_type": "code",
   "execution_count": 45,
   "metadata": {},
   "outputs": [
    {
     "data": {
      "text/plain": [
       "nan"
      ]
     },
     "execution_count": 45,
     "metadata": {},
     "output_type": "execute_result"
    }
   ],
   "source": [
    "df_taks['rating'].mean()"
   ]
  },
  {
   "cell_type": "code",
   "execution_count": null,
   "metadata": {},
   "outputs": [],
   "source": []
  }
 ],
 "metadata": {
  "colab": {
   "name": "Skillbox_recsys_11_final.ipynb",
   "provenance": []
  },
  "kernelspec": {
   "display_name": "Python 3",
   "language": "python",
   "name": "python3"
  },
  "language_info": {
   "codemirror_mode": {
    "name": "ipython",
    "version": 3
   },
   "file_extension": ".py",
   "mimetype": "text/x-python",
   "name": "python",
   "nbconvert_exporter": "python",
   "pygments_lexer": "ipython3",
   "version": "3.7.4"
  }
 },
 "nbformat": 4,
 "nbformat_minor": 1
}
