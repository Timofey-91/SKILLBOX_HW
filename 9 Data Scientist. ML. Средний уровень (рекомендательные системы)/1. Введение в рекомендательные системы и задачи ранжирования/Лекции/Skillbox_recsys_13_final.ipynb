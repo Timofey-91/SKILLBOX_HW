{
 "cells": [
  {
   "cell_type": "markdown",
   "metadata": {
    "id": "bC7rNm7911sY"
   },
   "source": [
    "# Рекомендательная система на библиотеке surprise 2\n",
    "\n",
    "Сайт библиотеки: http://surpriselib.com/\n",
    "\n",
    "Установки библиотеки:\n",
    "```\n",
    "$ pip install scikit-surprise```"
   ]
  },
  {
   "cell_type": "code",
   "execution_count": 2,
   "metadata": {
    "id": "aWwe0U1311sr"
   },
   "outputs": [],
   "source": [
    "import pandas as pd\n",
    "import numpy as np"
   ]
  },
  {
   "cell_type": "code",
   "execution_count": 7,
   "metadata": {
    "id": "OY5U4lqY11s0"
   },
   "outputs": [],
   "source": [
    "df = pd.read_csv(\"recdemo.csv\", sep=\";\") #небольшой dataset"
   ]
  },
  {
   "cell_type": "code",
   "execution_count": 8,
   "metadata": {
    "id": "0PzYH3KY11s4",
    "outputId": "a4472a88-6dce-4afa-e525-64d0de8fb86c"
   },
   "outputs": [
    {
     "data": {
      "text/html": [
       "<div>\n",
       "<style scoped>\n",
       "    .dataframe tbody tr th:only-of-type {\n",
       "        vertical-align: middle;\n",
       "    }\n",
       "\n",
       "    .dataframe tbody tr th {\n",
       "        vertical-align: top;\n",
       "    }\n",
       "\n",
       "    .dataframe thead th {\n",
       "        text-align: right;\n",
       "    }\n",
       "</style>\n",
       "<table border=\"1\" class=\"dataframe\">\n",
       "  <thead>\n",
       "    <tr style=\"text-align: right;\">\n",
       "      <th></th>\n",
       "      <th>id</th>\n",
       "      <th>A</th>\n",
       "      <th>B</th>\n",
       "      <th>C</th>\n",
       "      <th>D</th>\n",
       "      <th>E</th>\n",
       "      <th>F</th>\n",
       "    </tr>\n",
       "  </thead>\n",
       "  <tbody>\n",
       "    <tr>\n",
       "      <th>0</th>\n",
       "      <td>1</td>\n",
       "      <td>3.0</td>\n",
       "      <td>4.0</td>\n",
       "      <td>2.0</td>\n",
       "      <td>4.0</td>\n",
       "      <td>1.0</td>\n",
       "      <td>NaN</td>\n",
       "    </tr>\n",
       "    <tr>\n",
       "      <th>1</th>\n",
       "      <td>2</td>\n",
       "      <td>3.0</td>\n",
       "      <td>4.0</td>\n",
       "      <td>2.0</td>\n",
       "      <td>4.0</td>\n",
       "      <td>NaN</td>\n",
       "      <td>2.0</td>\n",
       "    </tr>\n",
       "    <tr>\n",
       "      <th>2</th>\n",
       "      <td>3</td>\n",
       "      <td>NaN</td>\n",
       "      <td>2.0</td>\n",
       "      <td>5.0</td>\n",
       "      <td>5.0</td>\n",
       "      <td>NaN</td>\n",
       "      <td>5.0</td>\n",
       "    </tr>\n",
       "    <tr>\n",
       "      <th>3</th>\n",
       "      <td>4</td>\n",
       "      <td>NaN</td>\n",
       "      <td>NaN</td>\n",
       "      <td>NaN</td>\n",
       "      <td>NaN</td>\n",
       "      <td>4.0</td>\n",
       "      <td>NaN</td>\n",
       "    </tr>\n",
       "    <tr>\n",
       "      <th>4</th>\n",
       "      <td>5</td>\n",
       "      <td>3.0</td>\n",
       "      <td>NaN</td>\n",
       "      <td>2.0</td>\n",
       "      <td>4.0</td>\n",
       "      <td>4.0</td>\n",
       "      <td>NaN</td>\n",
       "    </tr>\n",
       "    <tr>\n",
       "      <th>5</th>\n",
       "      <td>6</td>\n",
       "      <td>NaN</td>\n",
       "      <td>5.0</td>\n",
       "      <td>5.0</td>\n",
       "      <td>5.0</td>\n",
       "      <td>NaN</td>\n",
       "      <td>5.0</td>\n",
       "    </tr>\n",
       "    <tr>\n",
       "      <th>6</th>\n",
       "      <td>7</td>\n",
       "      <td>1.0</td>\n",
       "      <td>NaN</td>\n",
       "      <td>NaN</td>\n",
       "      <td>2.0</td>\n",
       "      <td>NaN</td>\n",
       "      <td>3.0</td>\n",
       "    </tr>\n",
       "    <tr>\n",
       "      <th>7</th>\n",
       "      <td>8</td>\n",
       "      <td>NaN</td>\n",
       "      <td>NaN</td>\n",
       "      <td>NaN</td>\n",
       "      <td>NaN</td>\n",
       "      <td>4.0</td>\n",
       "      <td>4.0</td>\n",
       "    </tr>\n",
       "  </tbody>\n",
       "</table>\n",
       "</div>"
      ],
      "text/plain": [
       "   id    A    B    C    D    E    F\n",
       "0   1  3.0  4.0  2.0  4.0  1.0  NaN\n",
       "1   2  3.0  4.0  2.0  4.0  NaN  2.0\n",
       "2   3  NaN  2.0  5.0  5.0  NaN  5.0\n",
       "3   4  NaN  NaN  NaN  NaN  4.0  NaN\n",
       "4   5  3.0  NaN  2.0  4.0  4.0  NaN\n",
       "5   6  NaN  5.0  5.0  5.0  NaN  5.0\n",
       "6   7  1.0  NaN  NaN  2.0  NaN  3.0\n",
       "7   8  NaN  NaN  NaN  NaN  4.0  4.0"
      ]
     },
     "execution_count": 8,
     "metadata": {},
     "output_type": "execute_result"
    }
   ],
   "source": [
    "df"
   ]
  },
  {
   "cell_type": "code",
   "execution_count": 9,
   "metadata": {
    "id": "H1w4X5Ej11s9",
    "outputId": "7ab68332-fcf5-4690-9223-1212069f5656"
   },
   "outputs": [
    {
     "data": {
      "text/html": [
       "<div>\n",
       "<style scoped>\n",
       "    .dataframe tbody tr th:only-of-type {\n",
       "        vertical-align: middle;\n",
       "    }\n",
       "\n",
       "    .dataframe tbody tr th {\n",
       "        vertical-align: top;\n",
       "    }\n",
       "\n",
       "    .dataframe thead th {\n",
       "        text-align: right;\n",
       "    }\n",
       "</style>\n",
       "<table border=\"1\" class=\"dataframe\">\n",
       "  <thead>\n",
       "    <tr style=\"text-align: right;\">\n",
       "      <th></th>\n",
       "      <th>id</th>\n",
       "      <th>variable</th>\n",
       "      <th>value</th>\n",
       "    </tr>\n",
       "  </thead>\n",
       "  <tbody>\n",
       "    <tr>\n",
       "      <th>0</th>\n",
       "      <td>1</td>\n",
       "      <td>A</td>\n",
       "      <td>3.0</td>\n",
       "    </tr>\n",
       "    <tr>\n",
       "      <th>1</th>\n",
       "      <td>2</td>\n",
       "      <td>A</td>\n",
       "      <td>3.0</td>\n",
       "    </tr>\n",
       "    <tr>\n",
       "      <th>2</th>\n",
       "      <td>3</td>\n",
       "      <td>A</td>\n",
       "      <td>NaN</td>\n",
       "    </tr>\n",
       "    <tr>\n",
       "      <th>3</th>\n",
       "      <td>4</td>\n",
       "      <td>A</td>\n",
       "      <td>NaN</td>\n",
       "    </tr>\n",
       "    <tr>\n",
       "      <th>4</th>\n",
       "      <td>5</td>\n",
       "      <td>A</td>\n",
       "      <td>3.0</td>\n",
       "    </tr>\n",
       "  </tbody>\n",
       "</table>\n",
       "</div>"
      ],
      "text/plain": [
       "   id variable  value\n",
       "0   1        A    3.0\n",
       "1   2        A    3.0\n",
       "2   3        A    NaN\n",
       "3   4        A    NaN\n",
       "4   5        A    3.0"
      ]
     },
     "execution_count": 9,
     "metadata": {},
     "output_type": "execute_result"
    }
   ],
   "source": [
    "df_unpivot=pd.melt(df, id_vars=['id'])\n",
    "df_unpivot.head()"
   ]
  },
  {
   "cell_type": "code",
   "execution_count": 10,
   "metadata": {
    "id": "S7UKjJfn11tA"
   },
   "outputs": [],
   "source": [
    "df_unpivot.dropna(inplace=True)\n",
    "df_unpivot.columns=['userID', 'itemID', 'rating']"
   ]
  },
  {
   "cell_type": "code",
   "execution_count": 11,
   "metadata": {
    "id": "DcC2ogVW11tD"
   },
   "outputs": [],
   "source": [
    "from surprise import Dataset\n",
    "from surprise import Reader"
   ]
  },
  {
   "cell_type": "code",
   "execution_count": 12,
   "metadata": {
    "id": "siHnsg0l11tG"
   },
   "outputs": [],
   "source": [
    "reader = Reader(rating_scale=(1, 5)) # Зададим разброс оценок\n",
    "data = Dataset.load_from_df(df_unpivot[['userID', 'itemID', 'rating']], reader) #создадим объект, с которым умеет работать библиотека"
   ]
  },
  {
   "cell_type": "code",
   "execution_count": 13,
   "metadata": {
    "id": "QBnnJ8zN11tK"
   },
   "outputs": [],
   "source": [
    "trainset = data.build_full_trainset()\n",
    "testset = trainset.build_anti_testset()"
   ]
  },
  {
   "cell_type": "code",
   "execution_count": 14,
   "metadata": {
    "id": "UukcRjKy11tO"
   },
   "outputs": [],
   "source": [
    "from surprise import KNNBaseline"
   ]
  },
  {
   "cell_type": "code",
   "execution_count": 15,
   "metadata": {
    "id": "agRJoeEm11tS"
   },
   "outputs": [],
   "source": [
    "algo = KNNBaseline(k=3, verbose=False)\n",
    "algo.fit(trainset)\n",
    "predictions = algo.test(testset)"
   ]
  },
  {
   "cell_type": "code",
   "execution_count": 16,
   "metadata": {
    "id": "VEx-zetA11tU",
    "outputId": "1d8e3671-559d-438a-c304-668345568c65"
   },
   "outputs": [
    {
     "data": {
      "text/html": [
       "<div>\n",
       "<style scoped>\n",
       "    .dataframe tbody tr th:only-of-type {\n",
       "        vertical-align: middle;\n",
       "    }\n",
       "\n",
       "    .dataframe tbody tr th {\n",
       "        vertical-align: top;\n",
       "    }\n",
       "\n",
       "    .dataframe thead th {\n",
       "        text-align: right;\n",
       "    }\n",
       "</style>\n",
       "<table border=\"1\" class=\"dataframe\">\n",
       "  <thead>\n",
       "    <tr style=\"text-align: right;\">\n",
       "      <th>itemID</th>\n",
       "      <th>A</th>\n",
       "      <th>B</th>\n",
       "      <th>C</th>\n",
       "      <th>D</th>\n",
       "      <th>E</th>\n",
       "      <th>F</th>\n",
       "    </tr>\n",
       "    <tr>\n",
       "      <th>userID</th>\n",
       "      <th></th>\n",
       "      <th></th>\n",
       "      <th></th>\n",
       "      <th></th>\n",
       "      <th></th>\n",
       "      <th></th>\n",
       "    </tr>\n",
       "  </thead>\n",
       "  <tbody>\n",
       "    <tr>\n",
       "      <th>1</th>\n",
       "      <td>3.000000</td>\n",
       "      <td>4.000000</td>\n",
       "      <td>2.000000</td>\n",
       "      <td>4.000000</td>\n",
       "      <td>1.000000</td>\n",
       "      <td>2.507435</td>\n",
       "    </tr>\n",
       "    <tr>\n",
       "      <th>2</th>\n",
       "      <td>3.000000</td>\n",
       "      <td>4.000000</td>\n",
       "      <td>2.000000</td>\n",
       "      <td>4.000000</td>\n",
       "      <td>2.601745</td>\n",
       "      <td>2.000000</td>\n",
       "    </tr>\n",
       "    <tr>\n",
       "      <th>3</th>\n",
       "      <td>3.256100</td>\n",
       "      <td>2.000000</td>\n",
       "      <td>5.000000</td>\n",
       "      <td>5.000000</td>\n",
       "      <td>3.527693</td>\n",
       "      <td>5.000000</td>\n",
       "    </tr>\n",
       "    <tr>\n",
       "      <th>4</th>\n",
       "      <td>3.083864</td>\n",
       "      <td>4.197382</td>\n",
       "      <td>2.083864</td>\n",
       "      <td>4.083864</td>\n",
       "      <td>4.000000</td>\n",
       "      <td>3.976639</td>\n",
       "    </tr>\n",
       "    <tr>\n",
       "      <th>5</th>\n",
       "      <td>3.000000</td>\n",
       "      <td>3.834977</td>\n",
       "      <td>2.000000</td>\n",
       "      <td>4.000000</td>\n",
       "      <td>4.000000</td>\n",
       "      <td>3.013312</td>\n",
       "    </tr>\n",
       "    <tr>\n",
       "      <th>6</th>\n",
       "      <td>3.418235</td>\n",
       "      <td>5.000000</td>\n",
       "      <td>5.000000</td>\n",
       "      <td>5.000000</td>\n",
       "      <td>3.590444</td>\n",
       "      <td>5.000000</td>\n",
       "    </tr>\n",
       "    <tr>\n",
       "      <th>7</th>\n",
       "      <td>1.000000</td>\n",
       "      <td>3.366011</td>\n",
       "      <td>1.857717</td>\n",
       "      <td>2.000000</td>\n",
       "      <td>3.095321</td>\n",
       "      <td>3.000000</td>\n",
       "    </tr>\n",
       "    <tr>\n",
       "      <th>8</th>\n",
       "      <td>2.579863</td>\n",
       "      <td>3.471928</td>\n",
       "      <td>3.463240</td>\n",
       "      <td>4.463240</td>\n",
       "      <td>4.000000</td>\n",
       "      <td>4.000000</td>\n",
       "    </tr>\n",
       "  </tbody>\n",
       "</table>\n",
       "</div>"
      ],
      "text/plain": [
       "itemID         A         B         C         D         E         F\n",
       "userID                                                            \n",
       "1       3.000000  4.000000  2.000000  4.000000  1.000000  2.507435\n",
       "2       3.000000  4.000000  2.000000  4.000000  2.601745  2.000000\n",
       "3       3.256100  2.000000  5.000000  5.000000  3.527693  5.000000\n",
       "4       3.083864  4.197382  2.083864  4.083864  4.000000  3.976639\n",
       "5       3.000000  3.834977  2.000000  4.000000  4.000000  3.013312\n",
       "6       3.418235  5.000000  5.000000  5.000000  3.590444  5.000000\n",
       "7       1.000000  3.366011  1.857717  2.000000  3.095321  3.000000\n",
       "8       2.579863  3.471928  3.463240  4.463240  4.000000  4.000000"
      ]
     },
     "execution_count": 16,
     "metadata": {},
     "output_type": "execute_result"
    }
   ],
   "source": [
    "df_predict=pd.DataFrame(columns=['userID', 'itemID', 'rating'])\n",
    "df_unpivot3 = df_unpivot.copy()\n",
    "for i in predictions:\n",
    "    df_unpivot3 = df_unpivot3.append({'userID':i.uid, 'itemID': i.iid, 'rating': i.est}, ignore_index=True)\n",
    "    df_predict = df_predict.append({'userID':i.uid, 'itemID': i.iid, 'rating': i.est}, ignore_index=True)\n",
    "df_unpivot3.pivot(index='userID', columns='itemID', values='rating')"
   ]
  },
  {
   "cell_type": "code",
   "execution_count": 17,
   "metadata": {
    "id": "6eebTiQ411tY",
    "outputId": "9f853232-8996-42c6-ede8-ae2d28fc03c2"
   },
   "outputs": [
    {
     "data": {
      "text/html": [
       "<div>\n",
       "<style scoped>\n",
       "    .dataframe tbody tr th:only-of-type {\n",
       "        vertical-align: middle;\n",
       "    }\n",
       "\n",
       "    .dataframe tbody tr th {\n",
       "        vertical-align: top;\n",
       "    }\n",
       "\n",
       "    .dataframe thead th {\n",
       "        text-align: right;\n",
       "    }\n",
       "</style>\n",
       "<table border=\"1\" class=\"dataframe\">\n",
       "  <thead>\n",
       "    <tr style=\"text-align: right;\">\n",
       "      <th>itemID</th>\n",
       "      <th>A</th>\n",
       "      <th>B</th>\n",
       "      <th>C</th>\n",
       "      <th>D</th>\n",
       "      <th>E</th>\n",
       "      <th>F</th>\n",
       "    </tr>\n",
       "    <tr>\n",
       "      <th>userID</th>\n",
       "      <th></th>\n",
       "      <th></th>\n",
       "      <th></th>\n",
       "      <th></th>\n",
       "      <th></th>\n",
       "      <th></th>\n",
       "    </tr>\n",
       "  </thead>\n",
       "  <tbody>\n",
       "    <tr>\n",
       "      <th>1</th>\n",
       "      <td>NaN</td>\n",
       "      <td>NaN</td>\n",
       "      <td>NaN</td>\n",
       "      <td>NaN</td>\n",
       "      <td>NaN</td>\n",
       "      <td>2.507435</td>\n",
       "    </tr>\n",
       "    <tr>\n",
       "      <th>2</th>\n",
       "      <td>NaN</td>\n",
       "      <td>NaN</td>\n",
       "      <td>NaN</td>\n",
       "      <td>NaN</td>\n",
       "      <td>2.601745</td>\n",
       "      <td>NaN</td>\n",
       "    </tr>\n",
       "    <tr>\n",
       "      <th>3</th>\n",
       "      <td>3.256100</td>\n",
       "      <td>NaN</td>\n",
       "      <td>NaN</td>\n",
       "      <td>NaN</td>\n",
       "      <td>3.527693</td>\n",
       "      <td>NaN</td>\n",
       "    </tr>\n",
       "    <tr>\n",
       "      <th>4</th>\n",
       "      <td>3.083864</td>\n",
       "      <td>4.197382</td>\n",
       "      <td>2.083864</td>\n",
       "      <td>4.083864</td>\n",
       "      <td>NaN</td>\n",
       "      <td>3.976639</td>\n",
       "    </tr>\n",
       "    <tr>\n",
       "      <th>5</th>\n",
       "      <td>NaN</td>\n",
       "      <td>3.834977</td>\n",
       "      <td>NaN</td>\n",
       "      <td>NaN</td>\n",
       "      <td>NaN</td>\n",
       "      <td>3.013312</td>\n",
       "    </tr>\n",
       "    <tr>\n",
       "      <th>6</th>\n",
       "      <td>3.418235</td>\n",
       "      <td>NaN</td>\n",
       "      <td>NaN</td>\n",
       "      <td>NaN</td>\n",
       "      <td>3.590444</td>\n",
       "      <td>NaN</td>\n",
       "    </tr>\n",
       "    <tr>\n",
       "      <th>7</th>\n",
       "      <td>NaN</td>\n",
       "      <td>3.366011</td>\n",
       "      <td>1.857717</td>\n",
       "      <td>NaN</td>\n",
       "      <td>3.095321</td>\n",
       "      <td>NaN</td>\n",
       "    </tr>\n",
       "    <tr>\n",
       "      <th>8</th>\n",
       "      <td>2.579863</td>\n",
       "      <td>3.471928</td>\n",
       "      <td>3.463240</td>\n",
       "      <td>4.463240</td>\n",
       "      <td>NaN</td>\n",
       "      <td>NaN</td>\n",
       "    </tr>\n",
       "  </tbody>\n",
       "</table>\n",
       "</div>"
      ],
      "text/plain": [
       "itemID         A         B         C         D         E         F\n",
       "userID                                                            \n",
       "1            NaN       NaN       NaN       NaN       NaN  2.507435\n",
       "2            NaN       NaN       NaN       NaN  2.601745       NaN\n",
       "3       3.256100       NaN       NaN       NaN  3.527693       NaN\n",
       "4       3.083864  4.197382  2.083864  4.083864       NaN  3.976639\n",
       "5            NaN  3.834977       NaN       NaN       NaN  3.013312\n",
       "6       3.418235       NaN       NaN       NaN  3.590444       NaN\n",
       "7            NaN  3.366011  1.857717       NaN  3.095321       NaN\n",
       "8       2.579863  3.471928  3.463240  4.463240       NaN       NaN"
      ]
     },
     "execution_count": 17,
     "metadata": {},
     "output_type": "execute_result"
    }
   ],
   "source": [
    "df_predict_pivot=df_predict.pivot(index='userID', columns='itemID', values='rating')\n",
    "df_predict_pivot"
   ]
  },
  {
   "cell_type": "code",
   "execution_count": 18,
   "metadata": {
    "id": "NrwlD1-711ta",
    "outputId": "4be00425-bc77-47c2-d2b1-73026ce69daf"
   },
   "outputs": [
    {
     "data": {
      "text/plain": [
       "userID\n",
       "1    F\n",
       "2    E\n",
       "3    E\n",
       "4    B\n",
       "5    B\n",
       "6    E\n",
       "7    B\n",
       "8    D\n",
       "dtype: object"
      ]
     },
     "execution_count": 18,
     "metadata": {},
     "output_type": "execute_result"
    }
   ],
   "source": [
    "df_predict_pivot.idxmax(axis=1)"
   ]
  },
  {
   "cell_type": "code",
   "execution_count": 19,
   "metadata": {
    "id": "Ng-Sg8ZE11tc"
   },
   "outputs": [],
   "source": [
    "algo = KNNBaseline(k=4, sim_options = {'user_based': False }, verbose=False)\n",
    "algo.fit(trainset)\n",
    "\n",
    "predictions = algo.test(testset)"
   ]
  },
  {
   "cell_type": "code",
   "execution_count": 20,
   "metadata": {
    "id": "UJuk71b911td"
   },
   "outputs": [],
   "source": [
    "df_predict=pd.DataFrame(columns=['userID', 'itemID', 'rating'])\n",
    "for i in predictions:\n",
    "    df_predict = df_predict.append({'userID':i.uid, 'itemID': i.iid, 'rating': i.est}, ignore_index=True)"
   ]
  },
  {
   "cell_type": "code",
   "execution_count": 21,
   "metadata": {
    "id": "6Nx4UK9_11th",
    "outputId": "25d16b11-689b-4074-c257-c59bacd26f01"
   },
   "outputs": [
    {
     "data": {
      "text/html": [
       "<div>\n",
       "<style scoped>\n",
       "    .dataframe tbody tr th:only-of-type {\n",
       "        vertical-align: middle;\n",
       "    }\n",
       "\n",
       "    .dataframe tbody tr th {\n",
       "        vertical-align: top;\n",
       "    }\n",
       "\n",
       "    .dataframe thead th {\n",
       "        text-align: right;\n",
       "    }\n",
       "</style>\n",
       "<table border=\"1\" class=\"dataframe\">\n",
       "  <thead>\n",
       "    <tr style=\"text-align: right;\">\n",
       "      <th>itemID</th>\n",
       "      <th>A</th>\n",
       "      <th>B</th>\n",
       "      <th>C</th>\n",
       "      <th>D</th>\n",
       "      <th>E</th>\n",
       "      <th>F</th>\n",
       "    </tr>\n",
       "    <tr>\n",
       "      <th>userID</th>\n",
       "      <th></th>\n",
       "      <th></th>\n",
       "      <th></th>\n",
       "      <th></th>\n",
       "      <th></th>\n",
       "      <th></th>\n",
       "    </tr>\n",
       "  </thead>\n",
       "  <tbody>\n",
       "    <tr>\n",
       "      <th>1</th>\n",
       "      <td>NaN</td>\n",
       "      <td>NaN</td>\n",
       "      <td>NaN</td>\n",
       "      <td>NaN</td>\n",
       "      <td>NaN</td>\n",
       "      <td>2.212165</td>\n",
       "    </tr>\n",
       "    <tr>\n",
       "      <th>2</th>\n",
       "      <td>NaN</td>\n",
       "      <td>NaN</td>\n",
       "      <td>NaN</td>\n",
       "      <td>NaN</td>\n",
       "      <td>2.290988</td>\n",
       "      <td>NaN</td>\n",
       "    </tr>\n",
       "    <tr>\n",
       "      <th>3</th>\n",
       "      <td>3.858465</td>\n",
       "      <td>NaN</td>\n",
       "      <td>NaN</td>\n",
       "      <td>NaN</td>\n",
       "      <td>4.678967</td>\n",
       "      <td>NaN</td>\n",
       "    </tr>\n",
       "    <tr>\n",
       "      <th>4</th>\n",
       "      <td>3.818825</td>\n",
       "      <td>4.122894</td>\n",
       "      <td>3.956402</td>\n",
       "      <td>4.261502</td>\n",
       "      <td>NaN</td>\n",
       "      <td>4.155852</td>\n",
       "    </tr>\n",
       "    <tr>\n",
       "      <th>5</th>\n",
       "      <td>NaN</td>\n",
       "      <td>3.337475</td>\n",
       "      <td>NaN</td>\n",
       "      <td>NaN</td>\n",
       "      <td>NaN</td>\n",
       "      <td>3.311002</td>\n",
       "    </tr>\n",
       "    <tr>\n",
       "      <th>6</th>\n",
       "      <td>4.698465</td>\n",
       "      <td>NaN</td>\n",
       "      <td>NaN</td>\n",
       "      <td>NaN</td>\n",
       "      <td>4.870350</td>\n",
       "      <td>NaN</td>\n",
       "    </tr>\n",
       "    <tr>\n",
       "      <th>7</th>\n",
       "      <td>NaN</td>\n",
       "      <td>1.789695</td>\n",
       "      <td>2.155844</td>\n",
       "      <td>NaN</td>\n",
       "      <td>2.383400</td>\n",
       "      <td>NaN</td>\n",
       "    </tr>\n",
       "    <tr>\n",
       "      <th>8</th>\n",
       "      <td>3.740899</td>\n",
       "      <td>4.021251</td>\n",
       "      <td>3.835183</td>\n",
       "      <td>4.150897</td>\n",
       "      <td>NaN</td>\n",
       "      <td>NaN</td>\n",
       "    </tr>\n",
       "  </tbody>\n",
       "</table>\n",
       "</div>"
      ],
      "text/plain": [
       "itemID         A         B         C         D         E         F\n",
       "userID                                                            \n",
       "1            NaN       NaN       NaN       NaN       NaN  2.212165\n",
       "2            NaN       NaN       NaN       NaN  2.290988       NaN\n",
       "3       3.858465       NaN       NaN       NaN  4.678967       NaN\n",
       "4       3.818825  4.122894  3.956402  4.261502       NaN  4.155852\n",
       "5            NaN  3.337475       NaN       NaN       NaN  3.311002\n",
       "6       4.698465       NaN       NaN       NaN  4.870350       NaN\n",
       "7            NaN  1.789695  2.155844       NaN  2.383400       NaN\n",
       "8       3.740899  4.021251  3.835183  4.150897       NaN       NaN"
      ]
     },
     "execution_count": 21,
     "metadata": {},
     "output_type": "execute_result"
    }
   ],
   "source": [
    "df_predict_pivot2=df_predict.pivot(index='userID', columns='itemID', values='rating')\n",
    "df_predict_pivot2"
   ]
  },
  {
   "cell_type": "code",
   "execution_count": 22,
   "metadata": {
    "id": "HiBHYkdG11tj",
    "outputId": "18fa6722-f3c6-4c0e-ddeb-73e55c435a66"
   },
   "outputs": [
    {
     "data": {
      "text/plain": [
       "userID\n",
       "1    F\n",
       "2    E\n",
       "3    E\n",
       "4    B\n",
       "5    B\n",
       "6    E\n",
       "7    B\n",
       "8    D\n",
       "dtype: object"
      ]
     },
     "execution_count": 22,
     "metadata": {},
     "output_type": "execute_result"
    }
   ],
   "source": [
    "df_predict_pivot.idxmax(axis=1)"
   ]
  },
  {
   "cell_type": "markdown",
   "metadata": {
    "id": "-BbZbfGE11tl"
   },
   "source": [
    "## Ранговые метрики"
   ]
  },
  {
   "cell_type": "markdown",
   "metadata": {
    "id": "NgWlcBe111tm"
   },
   "source": [
    "## NDSG"
   ]
  },
  {
   "cell_type": "code",
   "execution_count": 23,
   "metadata": {
    "id": "IZ2uDVmM11to"
   },
   "outputs": [],
   "source": [
    "from sklearn.metrics import ndcg_score"
   ]
  },
  {
   "cell_type": "code",
   "execution_count": 24,
   "metadata": {
    "id": "ja5PwI4g11tp",
    "outputId": "090dde15-3ccc-45f1-dd6d-f96f603f8b3a"
   },
   "outputs": [
    {
     "data": {
      "text/plain": [
       "0.6956940443813076"
      ]
     },
     "execution_count": 24,
     "metadata": {},
     "output_type": "execute_result"
    }
   ],
   "source": [
    "\n",
    "true_relevance = np.asarray([[10, 0, 0, 1, 5]])\n",
    "scores = np.asarray([[.1, .2, .3, 4, 70]])\n",
    "ndcg_score(true_relevance, scores) "
   ]
  },
  {
   "cell_type": "code",
   "execution_count": 25,
   "metadata": {
    "id": "r9b3sYyu11tq",
    "outputId": "cfde7ee0-480d-4699-ea58-345943aa4b32"
   },
   "outputs": [
    {
     "data": {
      "text/plain": [
       "0.493680191377376"
      ]
     },
     "execution_count": 25,
     "metadata": {},
     "output_type": "execute_result"
    }
   ],
   "source": [
    "scores = np.asarray([[.05, 1.1, 1., .5, .0]])\n",
    "ndcg_score(true_relevance, scores) # doctest: +ELLIPSIS"
   ]
  },
  {
   "cell_type": "code",
   "execution_count": 26,
   "metadata": {
    "id": "RFV6fmcm11ts",
    "outputId": "90b84df0-09ef-43df-967d-ef690910df2c"
   },
   "outputs": [
    {
     "data": {
      "text/plain": [
       "0.3520241100634488"
      ]
     },
     "execution_count": 26,
     "metadata": {},
     "output_type": "execute_result"
    }
   ],
   "source": [
    "ndcg_score(true_relevance, scores, k=4) "
   ]
  },
  {
   "cell_type": "markdown",
   "metadata": {
    "id": "NxX--jUG11tt"
   },
   "source": [
    "## Top-K"
   ]
  },
  {
   "cell_type": "code",
   "execution_count": 27,
   "metadata": {
    "id": "SInB78tM11tt"
   },
   "outputs": [],
   "source": [
    "data = Dataset.load_builtin('ml-100k')"
   ]
  },
  {
   "cell_type": "code",
   "execution_count": 28,
   "metadata": {
    "id": "vFnB13S811tu"
   },
   "outputs": [],
   "source": [
    "from surprise.model_selection import train_test_split"
   ]
  },
  {
   "cell_type": "code",
   "execution_count": 29,
   "metadata": {
    "id": "q9IS4nz711tv"
   },
   "outputs": [],
   "source": [
    "trainset, testset = train_test_split(data, test_size=.30) #разоббем выборку на обучение и тест"
   ]
  },
  {
   "cell_type": "code",
   "execution_count": 30,
   "metadata": {
    "id": "SLfnq6W_11tw"
   },
   "outputs": [],
   "source": [
    "algo = KNNBaseline(k=20, verbose=False)\n",
    "predictions = algo.fit(trainset).test(testset)"
   ]
  },
  {
   "cell_type": "code",
   "execution_count": 31,
   "metadata": {
    "id": "SUnKya7j11ty"
   },
   "outputs": [],
   "source": [
    "df_ratings=pd.DataFrame(columns=['userID', 'itemID', 'rating', 'real_rating'])\n",
    "for i in predictions:\n",
    "    #if int(i.uid)==833:\n",
    "    df_ratings = df_ratings.append({'userID':i.uid, 'itemID': i.iid, 'rating': i.est, 'real_rating': i.r_ui}, ignore_index=True)"
   ]
  },
  {
   "cell_type": "code",
   "execution_count": 32,
   "metadata": {
    "id": "A-n-NEIA11t0"
   },
   "outputs": [],
   "source": [
    "user456=df_ratings[df_ratings.userID=='456']"
   ]
  },
  {
   "cell_type": "code",
   "execution_count": 33,
   "metadata": {
    "id": "0GWaG4L911t1"
   },
   "outputs": [],
   "source": [
    "def Precision_at_n(df_ratings, n=3, threshold=5):\n",
    "    rel_n = set(df_ratings[df_ratings.real_rating>=threshold]['itemID'])\n",
    "    t=df_ratings.sort_values(by='rating', ascending=False)[0:n]\n",
    "    ret_n=set(t['itemID'])\n",
    "    return len(rel_n & ret_n)/n"
   ]
  },
  {
   "cell_type": "code",
   "execution_count": 34,
   "metadata": {
    "id": "eQg__j6L11t2"
   },
   "outputs": [],
   "source": [
    "def Avg_Precision_at_n(df_ratings, n=10,threshold=5):\n",
    "    avg_p=0\n",
    "    rel_n = set(df_ratings[df_ratings.real_rating>=threshold]['itemID'])\n",
    "    \n",
    "    for i in range(1,n+1):\n",
    "        t=df_ratings.sort_values(by='rating', ascending=False)[0:i]\n",
    "        ret_n=set(t['itemID'])\n",
    "        t2=df_ratings.sort_values(by='rating', ascending=False)[i-1:i]\n",
    "        ret_n2=set(t2['itemID'])\n",
    "        #print(ret_n2,ret_n)\n",
    "        if len((ret_n2 & rel_n))>0:\n",
    "            avg_p=avg_p+len(rel_n & ret_n)/n\n",
    "    return avg_p/n"
   ]
  },
  {
   "cell_type": "code",
   "execution_count": 35,
   "metadata": {
    "id": "7oYENYN711t3",
    "outputId": "b8f3a9a7-1ae2-4b1a-8df3-ed63e4a42aaa"
   },
   "outputs": [
    {
     "name": "stdout",
     "output_type": "stream",
     "text": [
      "3 0.6666666666666666\n",
      "4 0.5\n",
      "7 0.42857142857142855\n",
      "12 0.25\n",
      "14 0.21428571428571427\n"
     ]
    }
   ],
   "source": [
    "for i in [3,4,7,12,14]:\n",
    "    print(i,Precision_at_n(user456,i))"
   ]
  },
  {
   "cell_type": "code",
   "execution_count": 36,
   "metadata": {
    "id": "bc1AJVEk11t4",
    "outputId": "d515b1d2-6605-44c0-b208-e360b155c5ba"
   },
   "outputs": [
    {
     "name": "stdout",
     "output_type": "stream",
     "text": [
      "3 0.3333333333333333\n",
      "4 0.1875\n",
      "7 0.12244897959183673\n",
      "12 0.041666666666666664\n",
      "14 0.030612244897959183\n"
     ]
    }
   ],
   "source": [
    "for i in [3,4,7,12,14]:\n",
    "    print(i,Avg_Precision_at_n(user456,i))"
   ]
  },
  {
   "cell_type": "markdown",
   "metadata": {
    "id": "oRBEuuEM11t5"
   },
   "source": [
    "## Задание:\n",
    "1. Написать функцию recall@n, MAP\n",
    "2. Найдите precision@n, recall@n (при n=5). Для пользователя с id 643 алгоритмом kNN с k=30\n",
    "3. Найдите MAP для  kNN (k=20)."
   ]
  },
  {
   "cell_type": "markdown",
   "metadata": {},
   "source": [
    "### Задание 1"
   ]
  },
  {
   "cell_type": "code",
   "execution_count": 37,
   "metadata": {},
   "outputs": [],
   "source": [
    "def Recall_at_n(df_ratings, n=3,threshold=5):\n",
    "    rel_n = set(df_ratings[df_ratings.real_rating>=threshold]['itemID'])\n",
    "    t=df_ratings.sort_values(by='rating', ascending=False)[0:n]\n",
    "    ret_n=set(t['itemID'])\n",
    "    return len(rel_n & ret_n)/len(set(ret_n))"
   ]
  },
  {
   "cell_type": "code",
   "execution_count": 38,
   "metadata": {},
   "outputs": [],
   "source": [
    "def MAP_at_n(df_ratings_all, n=10, threshold=5):\n",
    "    users=df_ratings_all['userID'].unique()\n",
    "    map_at_n=0\n",
    "    for i in users:\n",
    "        df_ratings=df_ratings_all[df_ratings_all.userID==i]\n",
    "        map_at_n=map_at_n+Avg_Precision_at_n(df_ratings,n=n,threshold=threshold)\n",
    "    return map_at_n/len(users)"
   ]
  },
  {
   "cell_type": "markdown",
   "metadata": {},
   "source": [
    "### Задание 2"
   ]
  },
  {
   "cell_type": "code",
   "execution_count": 39,
   "metadata": {},
   "outputs": [],
   "source": [
    "data = Dataset.load_builtin('ml-100k')\n",
    "trainset, testset = train_test_split(data, test_size=.30)\n",
    "algo = KNNBaseline(k=30, verbose=False)\n",
    "predictions = algo.fit(trainset).test(testset)"
   ]
  },
  {
   "cell_type": "code",
   "execution_count": 40,
   "metadata": {},
   "outputs": [],
   "source": [
    "df_ratings=pd.DataFrame(columns=['userID', 'itemID', 'rating', 'real_rating'])\n",
    "for i in predictions:\n",
    "    if int(i.uid)==643:\n",
    "        df_ratings = df_ratings.append({'userID':i.uid, 'itemID': i.iid, 'rating': i.est, 'real_rating': i.r_ui}, ignore_index=True) "
   ]
  },
  {
   "cell_type": "code",
   "execution_count": 41,
   "metadata": {},
   "outputs": [
    {
     "data": {
      "text/html": [
       "<div>\n",
       "<style scoped>\n",
       "    .dataframe tbody tr th:only-of-type {\n",
       "        vertical-align: middle;\n",
       "    }\n",
       "\n",
       "    .dataframe tbody tr th {\n",
       "        vertical-align: top;\n",
       "    }\n",
       "\n",
       "    .dataframe thead th {\n",
       "        text-align: right;\n",
       "    }\n",
       "</style>\n",
       "<table border=\"1\" class=\"dataframe\">\n",
       "  <thead>\n",
       "    <tr style=\"text-align: right;\">\n",
       "      <th></th>\n",
       "      <th>userID</th>\n",
       "      <th>itemID</th>\n",
       "      <th>rating</th>\n",
       "      <th>real_rating</th>\n",
       "    </tr>\n",
       "  </thead>\n",
       "  <tbody>\n",
       "    <tr>\n",
       "      <th>0</th>\n",
       "      <td>643</td>\n",
       "      <td>550</td>\n",
       "      <td>3.170139</td>\n",
       "      <td>3.0</td>\n",
       "    </tr>\n",
       "    <tr>\n",
       "      <th>1</th>\n",
       "      <td>643</td>\n",
       "      <td>780</td>\n",
       "      <td>3.280062</td>\n",
       "      <td>4.0</td>\n",
       "    </tr>\n",
       "    <tr>\n",
       "      <th>2</th>\n",
       "      <td>643</td>\n",
       "      <td>185</td>\n",
       "      <td>4.263731</td>\n",
       "      <td>5.0</td>\n",
       "    </tr>\n",
       "    <tr>\n",
       "      <th>3</th>\n",
       "      <td>643</td>\n",
       "      <td>203</td>\n",
       "      <td>3.884542</td>\n",
       "      <td>4.0</td>\n",
       "    </tr>\n",
       "    <tr>\n",
       "      <th>4</th>\n",
       "      <td>643</td>\n",
       "      <td>572</td>\n",
       "      <td>2.913656</td>\n",
       "      <td>3.0</td>\n",
       "    </tr>\n",
       "  </tbody>\n",
       "</table>\n",
       "</div>"
      ],
      "text/plain": [
       "  userID itemID    rating  real_rating\n",
       "0    643    550  3.170139          3.0\n",
       "1    643    780  3.280062          4.0\n",
       "2    643    185  4.263731          5.0\n",
       "3    643    203  3.884542          4.0\n",
       "4    643    572  2.913656          3.0"
      ]
     },
     "execution_count": 41,
     "metadata": {},
     "output_type": "execute_result"
    }
   ],
   "source": [
    "df_ratings.head()"
   ]
  },
  {
   "cell_type": "code",
   "execution_count": 42,
   "metadata": {},
   "outputs": [],
   "source": [
    "def Precision_at_n(df_ratings, n=3, threshold=5):\n",
    "    rel_n = set(df_ratings[df_ratings.real_rating>=threshold]['itemID'])\n",
    "    t=df_ratings.sort_values(by='rating', ascending=False)[0:n]\n",
    "    ret_n=set(t['itemID'])\n",
    "    return len(rel_n & ret_n)/n"
   ]
  },
  {
   "cell_type": "code",
   "execution_count": 43,
   "metadata": {},
   "outputs": [
    {
     "data": {
      "text/plain": [
       "0.2"
      ]
     },
     "execution_count": 43,
     "metadata": {},
     "output_type": "execute_result"
    }
   ],
   "source": [
    "Precision_at_n(df_ratings,5,5)"
   ]
  },
  {
   "cell_type": "code",
   "execution_count": 44,
   "metadata": {},
   "outputs": [
    {
     "data": {
      "text/plain": [
       "0.2"
      ]
     },
     "execution_count": 44,
     "metadata": {},
     "output_type": "execute_result"
    }
   ],
   "source": [
    "Recall_at_n(df_ratings,5,5)"
   ]
  },
  {
   "cell_type": "markdown",
   "metadata": {},
   "source": [
    "### Задание 3"
   ]
  },
  {
   "cell_type": "code",
   "execution_count": 45,
   "metadata": {},
   "outputs": [],
   "source": [
    "data = Dataset.load_builtin('ml-100k')\n",
    "trainset, testset = train_test_split(data, test_size=.30)\n",
    "algo = KNNBaseline(k=20, verbose=False)\n",
    "predictions = algo.fit(trainset).test(testset)"
   ]
  },
  {
   "cell_type": "code",
   "execution_count": 46,
   "metadata": {},
   "outputs": [],
   "source": [
    "df_ratings=pd.DataFrame(columns=['userID', 'itemID', 'rating', 'real_rating'])\n",
    "for i in predictions:\n",
    "    df_ratings = df_ratings.append({'userID':i.uid, 'itemID': i.iid, 'rating': i.est, 'real_rating': i.r_ui}, ignore_index=True) "
   ]
  },
  {
   "cell_type": "code",
   "execution_count": 47,
   "metadata": {},
   "outputs": [
    {
     "data": {
      "text/plain": [
       "0.0889183457051968"
      ]
     },
     "execution_count": 47,
     "metadata": {},
     "output_type": "execute_result"
    }
   ],
   "source": [
    "MAP_at_n(df_ratings)"
   ]
  },
  {
   "cell_type": "code",
   "execution_count": 48,
   "metadata": {},
   "outputs": [],
   "source": [
    "algo = KNNBaseline(k=40, verbose=False)\n",
    "predictions = algo.fit(trainset).test(testset)"
   ]
  },
  {
   "cell_type": "code",
   "execution_count": 49,
   "metadata": {},
   "outputs": [],
   "source": [
    "df_ratings=pd.DataFrame(columns=['userID', 'itemID', 'rating', 'real_rating'])\n",
    "for i in predictions:\n",
    "    df_ratings = df_ratings.append({'userID':i.uid, 'itemID': i.iid, 'rating': i.est, 'real_rating': i.r_ui}, ignore_index=True) "
   ]
  },
  {
   "cell_type": "code",
   "execution_count": 50,
   "metadata": {},
   "outputs": [
    {
     "data": {
      "text/plain": [
       "0.09014846235418944"
      ]
     },
     "execution_count": 50,
     "metadata": {},
     "output_type": "execute_result"
    }
   ],
   "source": [
    "MAP_at_n(df_ratings)"
   ]
  },
  {
   "cell_type": "code",
   "execution_count": null,
   "metadata": {},
   "outputs": [],
   "source": []
  }
 ],
 "metadata": {
  "colab": {
   "name": "Skillbox_recsys_13_final.ipynb",
   "provenance": []
  },
  "kernelspec": {
   "display_name": "Python 3",
   "language": "python",
   "name": "python3"
  },
  "language_info": {
   "codemirror_mode": {
    "name": "ipython",
    "version": 3
   },
   "file_extension": ".py",
   "mimetype": "text/x-python",
   "name": "python",
   "nbconvert_exporter": "python",
   "pygments_lexer": "ipython3",
   "version": "3.7.4"
  }
 },
 "nbformat": 4,
 "nbformat_minor": 1
}
