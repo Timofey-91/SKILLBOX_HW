{
 "cells": [
  {
   "cell_type": "markdown",
   "metadata": {
    "id": "KUP6gMMNBZz7"
   },
   "source": [
    "# Рекомендательная система на библиотеке surprise (Практика 2)\n",
    "\n",
    "Сайт библиотеки: http://surpriselib.com/\n",
    "\n",
    "Установки библиотеки:\n",
    "```\n",
    "$ pip install scikit-surprise\n",
    "```\n",
    "или\n",
    "```\n",
    "$ conda install -c conda-forge scikit-surprise```"
   ]
  },
  {
   "cell_type": "code",
   "execution_count": 1,
   "metadata": {
    "id": "1Vm7iOUQBZ0A"
   },
   "outputs": [],
   "source": [
    "import pandas as pd\n",
    "import numpy as np"
   ]
  },
  {
   "cell_type": "code",
   "execution_count": null,
   "metadata": {
    "id": "syUtB5aQBZ0X"
   },
   "outputs": [],
   "source": [
    "df = pd.read_csv(\"recdemo.csv\", sep=\";\") #небольшой dataset"
   ]
  },
  {
   "cell_type": "code",
   "execution_count": null,
   "metadata": {
    "id": "1x6nWYx6BZ0k",
    "outputId": "ca37636a-cb8a-4ce2-b065-1c4f69ed8379"
   },
   "outputs": [
    {
     "data": {
      "text/html": [
       "<div>\n",
       "<style scoped>\n",
       "    .dataframe tbody tr th:only-of-type {\n",
       "        vertical-align: middle;\n",
       "    }\n",
       "\n",
       "    .dataframe tbody tr th {\n",
       "        vertical-align: top;\n",
       "    }\n",
       "\n",
       "    .dataframe thead th {\n",
       "        text-align: right;\n",
       "    }\n",
       "</style>\n",
       "<table border=\"1\" class=\"dataframe\">\n",
       "  <thead>\n",
       "    <tr style=\"text-align: right;\">\n",
       "      <th></th>\n",
       "      <th>id</th>\n",
       "      <th>A</th>\n",
       "      <th>B</th>\n",
       "      <th>C</th>\n",
       "      <th>D</th>\n",
       "      <th>E</th>\n",
       "      <th>F</th>\n",
       "    </tr>\n",
       "  </thead>\n",
       "  <tbody>\n",
       "    <tr>\n",
       "      <td>0</td>\n",
       "      <td>1</td>\n",
       "      <td>3.0</td>\n",
       "      <td>4.0</td>\n",
       "      <td>2.0</td>\n",
       "      <td>4.0</td>\n",
       "      <td>1.0</td>\n",
       "      <td>NaN</td>\n",
       "    </tr>\n",
       "    <tr>\n",
       "      <td>1</td>\n",
       "      <td>2</td>\n",
       "      <td>3.0</td>\n",
       "      <td>4.0</td>\n",
       "      <td>2.0</td>\n",
       "      <td>4.0</td>\n",
       "      <td>NaN</td>\n",
       "      <td>2.0</td>\n",
       "    </tr>\n",
       "    <tr>\n",
       "      <td>2</td>\n",
       "      <td>3</td>\n",
       "      <td>NaN</td>\n",
       "      <td>2.0</td>\n",
       "      <td>5.0</td>\n",
       "      <td>5.0</td>\n",
       "      <td>NaN</td>\n",
       "      <td>5.0</td>\n",
       "    </tr>\n",
       "    <tr>\n",
       "      <td>3</td>\n",
       "      <td>4</td>\n",
       "      <td>NaN</td>\n",
       "      <td>NaN</td>\n",
       "      <td>NaN</td>\n",
       "      <td>NaN</td>\n",
       "      <td>4.0</td>\n",
       "      <td>NaN</td>\n",
       "    </tr>\n",
       "    <tr>\n",
       "      <td>4</td>\n",
       "      <td>5</td>\n",
       "      <td>3.0</td>\n",
       "      <td>NaN</td>\n",
       "      <td>2.0</td>\n",
       "      <td>4.0</td>\n",
       "      <td>4.0</td>\n",
       "      <td>NaN</td>\n",
       "    </tr>\n",
       "    <tr>\n",
       "      <td>5</td>\n",
       "      <td>6</td>\n",
       "      <td>NaN</td>\n",
       "      <td>5.0</td>\n",
       "      <td>5.0</td>\n",
       "      <td>5.0</td>\n",
       "      <td>NaN</td>\n",
       "      <td>5.0</td>\n",
       "    </tr>\n",
       "    <tr>\n",
       "      <td>6</td>\n",
       "      <td>7</td>\n",
       "      <td>1.0</td>\n",
       "      <td>NaN</td>\n",
       "      <td>NaN</td>\n",
       "      <td>2.0</td>\n",
       "      <td>NaN</td>\n",
       "      <td>3.0</td>\n",
       "    </tr>\n",
       "    <tr>\n",
       "      <td>7</td>\n",
       "      <td>8</td>\n",
       "      <td>NaN</td>\n",
       "      <td>NaN</td>\n",
       "      <td>NaN</td>\n",
       "      <td>NaN</td>\n",
       "      <td>4.0</td>\n",
       "      <td>4.0</td>\n",
       "    </tr>\n",
       "  </tbody>\n",
       "</table>\n",
       "</div>"
      ],
      "text/plain": [
       "   id    A    B    C    D    E    F\n",
       "0   1  3.0  4.0  2.0  4.0  1.0  NaN\n",
       "1   2  3.0  4.0  2.0  4.0  NaN  2.0\n",
       "2   3  NaN  2.0  5.0  5.0  NaN  5.0\n",
       "3   4  NaN  NaN  NaN  NaN  4.0  NaN\n",
       "4   5  3.0  NaN  2.0  4.0  4.0  NaN\n",
       "5   6  NaN  5.0  5.0  5.0  NaN  5.0\n",
       "6   7  1.0  NaN  NaN  2.0  NaN  3.0\n",
       "7   8  NaN  NaN  NaN  NaN  4.0  4.0"
      ]
     },
     "execution_count": 104,
     "metadata": {
      "tags": []
     },
     "output_type": "execute_result"
    }
   ],
   "source": [
    "df"
   ]
  },
  {
   "cell_type": "code",
   "execution_count": null,
   "metadata": {
    "id": "TRwcal9GBZ01",
    "outputId": "f1497cde-520c-4f3d-e94e-c87ba3747ac5"
   },
   "outputs": [
    {
     "data": {
      "text/html": [
       "<div>\n",
       "<style scoped>\n",
       "    .dataframe tbody tr th:only-of-type {\n",
       "        vertical-align: middle;\n",
       "    }\n",
       "\n",
       "    .dataframe tbody tr th {\n",
       "        vertical-align: top;\n",
       "    }\n",
       "\n",
       "    .dataframe thead th {\n",
       "        text-align: right;\n",
       "    }\n",
       "</style>\n",
       "<table border=\"1\" class=\"dataframe\">\n",
       "  <thead>\n",
       "    <tr style=\"text-align: right;\">\n",
       "      <th></th>\n",
       "      <th>id</th>\n",
       "      <th>variable</th>\n",
       "      <th>value</th>\n",
       "    </tr>\n",
       "  </thead>\n",
       "  <tbody>\n",
       "    <tr>\n",
       "      <td>0</td>\n",
       "      <td>1</td>\n",
       "      <td>A</td>\n",
       "      <td>3.0</td>\n",
       "    </tr>\n",
       "    <tr>\n",
       "      <td>1</td>\n",
       "      <td>2</td>\n",
       "      <td>A</td>\n",
       "      <td>3.0</td>\n",
       "    </tr>\n",
       "    <tr>\n",
       "      <td>2</td>\n",
       "      <td>3</td>\n",
       "      <td>A</td>\n",
       "      <td>NaN</td>\n",
       "    </tr>\n",
       "    <tr>\n",
       "      <td>3</td>\n",
       "      <td>4</td>\n",
       "      <td>A</td>\n",
       "      <td>NaN</td>\n",
       "    </tr>\n",
       "    <tr>\n",
       "      <td>4</td>\n",
       "      <td>5</td>\n",
       "      <td>A</td>\n",
       "      <td>3.0</td>\n",
       "    </tr>\n",
       "  </tbody>\n",
       "</table>\n",
       "</div>"
      ],
      "text/plain": [
       "   id variable  value\n",
       "0   1        A    3.0\n",
       "1   2        A    3.0\n",
       "2   3        A    NaN\n",
       "3   4        A    NaN\n",
       "4   5        A    3.0"
      ]
     },
     "execution_count": 105,
     "metadata": {
      "tags": []
     },
     "output_type": "execute_result"
    }
   ],
   "source": [
    "df_unpivot=pd.melt(df, id_vars=['id'])\n",
    "df_unpivot.head()"
   ]
  },
  {
   "cell_type": "code",
   "execution_count": null,
   "metadata": {
    "id": "heEHBAxtBZ0-"
   },
   "outputs": [],
   "source": [
    "df_unpivot.dropna(inplace=True)\n",
    "df_unpivot.columns=['userID', 'itemID', 'rating']"
   ]
  },
  {
   "cell_type": "code",
   "execution_count": null,
   "metadata": {
    "id": "ZiD6E-W-BZ1I"
   },
   "outputs": [],
   "source": [
    "from surprise import Dataset\n",
    "from surprise import Reader\n"
   ]
  },
  {
   "cell_type": "code",
   "execution_count": null,
   "metadata": {
    "id": "PUB9pCl1BZ1O"
   },
   "outputs": [],
   "source": [
    "reader = Reader(rating_scale=(1, 5)) # Зададим разброс оценок\n",
    "data = Dataset.load_from_df(df_unpivot[['userID', 'itemID', 'rating']], reader) #создадим объект, с которым умеет работать библиотека"
   ]
  },
  {
   "cell_type": "code",
   "execution_count": null,
   "metadata": {
    "id": "Zt4Ae8s8BZ1U"
   },
   "outputs": [],
   "source": [
    "trainset = data.build_full_trainset()\n",
    "testset = trainset.build_anti_testset()"
   ]
  },
  {
   "cell_type": "markdown",
   "metadata": {
    "id": "ODwmfdMhBZ1Z"
   },
   "source": [
    "$$ x_{ij}=μ+b_i+b_j+q^T_jp_i $$\n",
    "\n",
    "https://surprise.readthedocs.io/en/stable/matrix_factorization.html"
   ]
  },
  {
   "cell_type": "code",
   "execution_count": null,
   "metadata": {
    "id": "suW7mfI5BZ1a"
   },
   "outputs": [],
   "source": [
    "from surprise import SVD  "
   ]
  },
  {
   "cell_type": "code",
   "execution_count": null,
   "metadata": {
    "id": "I4569tj8BZ1g"
   },
   "outputs": [],
   "source": [
    "algo = SVD(n_factors=2,random_state=999)\n",
    "predictions = algo.fit(trainset).test(testset)"
   ]
  },
  {
   "cell_type": "code",
   "execution_count": null,
   "metadata": {
    "id": "MsaADLsHBZ1l"
   },
   "outputs": [],
   "source": [
    "df_unpivot1 = df_unpivot.copy()\n",
    "for i in predictions:\n",
    "    df_unpivot1 = df_unpivot1.append({'userID':i.uid, 'itemID': i.iid, 'rating': i.est}, ignore_index=True)"
   ]
  },
  {
   "cell_type": "code",
   "execution_count": null,
   "metadata": {
    "id": "ZyOdEIgLBZ1o",
    "outputId": "ebab9024-5b7e-44c0-adea-6da32e6806a3"
   },
   "outputs": [
    {
     "data": {
      "text/html": [
       "<div>\n",
       "<style scoped>\n",
       "    .dataframe tbody tr th:only-of-type {\n",
       "        vertical-align: middle;\n",
       "    }\n",
       "\n",
       "    .dataframe tbody tr th {\n",
       "        vertical-align: top;\n",
       "    }\n",
       "\n",
       "    .dataframe thead th {\n",
       "        text-align: right;\n",
       "    }\n",
       "</style>\n",
       "<table border=\"1\" class=\"dataframe\">\n",
       "  <thead>\n",
       "    <tr style=\"text-align: right;\">\n",
       "      <th>itemID</th>\n",
       "      <th>A</th>\n",
       "      <th>B</th>\n",
       "      <th>C</th>\n",
       "      <th>D</th>\n",
       "      <th>E</th>\n",
       "      <th>F</th>\n",
       "    </tr>\n",
       "    <tr>\n",
       "      <th>userID</th>\n",
       "      <th></th>\n",
       "      <th></th>\n",
       "      <th></th>\n",
       "      <th></th>\n",
       "      <th></th>\n",
       "      <th></th>\n",
       "    </tr>\n",
       "  </thead>\n",
       "  <tbody>\n",
       "    <tr>\n",
       "      <td>1</td>\n",
       "      <td>3.000000</td>\n",
       "      <td>4.000000</td>\n",
       "      <td>2.000000</td>\n",
       "      <td>4.000000</td>\n",
       "      <td>1.000000</td>\n",
       "      <td>3.312456</td>\n",
       "    </tr>\n",
       "    <tr>\n",
       "      <td>2</td>\n",
       "      <td>3.000000</td>\n",
       "      <td>4.000000</td>\n",
       "      <td>2.000000</td>\n",
       "      <td>4.000000</td>\n",
       "      <td>3.210599</td>\n",
       "      <td>2.000000</td>\n",
       "    </tr>\n",
       "    <tr>\n",
       "      <td>3</td>\n",
       "      <td>3.444350</td>\n",
       "      <td>2.000000</td>\n",
       "      <td>5.000000</td>\n",
       "      <td>5.000000</td>\n",
       "      <td>3.684146</td>\n",
       "      <td>5.000000</td>\n",
       "    </tr>\n",
       "    <tr>\n",
       "      <td>4</td>\n",
       "      <td>3.242607</td>\n",
       "      <td>3.599635</td>\n",
       "      <td>3.415230</td>\n",
       "      <td>3.784069</td>\n",
       "      <td>4.000000</td>\n",
       "      <td>3.647434</td>\n",
       "    </tr>\n",
       "    <tr>\n",
       "      <td>5</td>\n",
       "      <td>3.000000</td>\n",
       "      <td>3.490772</td>\n",
       "      <td>2.000000</td>\n",
       "      <td>4.000000</td>\n",
       "      <td>4.000000</td>\n",
       "      <td>3.533499</td>\n",
       "    </tr>\n",
       "    <tr>\n",
       "      <td>6</td>\n",
       "      <td>3.676756</td>\n",
       "      <td>5.000000</td>\n",
       "      <td>5.000000</td>\n",
       "      <td>5.000000</td>\n",
       "      <td>3.884204</td>\n",
       "      <td>5.000000</td>\n",
       "    </tr>\n",
       "    <tr>\n",
       "      <td>7</td>\n",
       "      <td>1.000000</td>\n",
       "      <td>3.194893</td>\n",
       "      <td>2.985395</td>\n",
       "      <td>2.000000</td>\n",
       "      <td>3.010203</td>\n",
       "      <td>3.000000</td>\n",
       "    </tr>\n",
       "    <tr>\n",
       "      <td>8</td>\n",
       "      <td>3.301363</td>\n",
       "      <td>3.630884</td>\n",
       "      <td>3.442314</td>\n",
       "      <td>3.798689</td>\n",
       "      <td>4.000000</td>\n",
       "      <td>4.000000</td>\n",
       "    </tr>\n",
       "  </tbody>\n",
       "</table>\n",
       "</div>"
      ],
      "text/plain": [
       "itemID         A         B         C         D         E         F\n",
       "userID                                                            \n",
       "1       3.000000  4.000000  2.000000  4.000000  1.000000  3.312456\n",
       "2       3.000000  4.000000  2.000000  4.000000  3.210599  2.000000\n",
       "3       3.444350  2.000000  5.000000  5.000000  3.684146  5.000000\n",
       "4       3.242607  3.599635  3.415230  3.784069  4.000000  3.647434\n",
       "5       3.000000  3.490772  2.000000  4.000000  4.000000  3.533499\n",
       "6       3.676756  5.000000  5.000000  5.000000  3.884204  5.000000\n",
       "7       1.000000  3.194893  2.985395  2.000000  3.010203  3.000000\n",
       "8       3.301363  3.630884  3.442314  3.798689  4.000000  4.000000"
      ]
     },
     "execution_count": 113,
     "metadata": {
      "tags": []
     },
     "output_type": "execute_result"
    }
   ],
   "source": [
    "df_unpivot1.pivot(index='userID', columns='itemID', values='rating')"
   ]
  },
  {
   "cell_type": "code",
   "execution_count": null,
   "metadata": {
    "id": "tALWVN7IBZ1t",
    "outputId": "ac524e91-1228-4f65-d9fc-e43488f8ca3f"
   },
   "outputs": [
    {
     "data": {
      "text/plain": [
       "array([[-0.02356038,  0.086795  ],\n",
       "       [ 0.03311668, -0.06586878],\n",
       "       [-0.01663012, -0.05196951],\n",
       "       [ 0.17326108, -0.22112997],\n",
       "       [ 0.11922751,  0.0574848 ],\n",
       "       [-0.03847042, -0.02430361],\n",
       "       [-0.10099924, -0.04709509],\n",
       "       [-0.00974106,  0.08383197]])"
      ]
     },
     "execution_count": 114,
     "metadata": {
      "tags": []
     },
     "output_type": "execute_result"
    }
   ],
   "source": [
    "algo.pu # пользователи"
   ]
  },
  {
   "cell_type": "code",
   "execution_count": null,
   "metadata": {
    "id": "_WRzrdGkBZ1z",
    "outputId": "8d359c44-0838-43d9-97ad-ffcaee60adfd"
   },
   "outputs": [
    {
     "data": {
      "text/plain": [
       "array([[-0.0499725 ,  0.20377982],\n",
       "       [ 0.07260589, -0.09175883],\n",
       "       [-0.0048234 , -0.06959711],\n",
       "       [-0.08501758, -0.10890099],\n",
       "       [ 0.16616968,  0.1825492 ],\n",
       "       [ 0.00912318, -0.15003955]])"
      ]
     },
     "execution_count": 115,
     "metadata": {
      "tags": []
     },
     "output_type": "execute_result"
    }
   ],
   "source": [
    "algo.qi # фильмы"
   ]
  },
  {
   "cell_type": "code",
   "execution_count": null,
   "metadata": {
    "id": "_BuXza7YBZ14",
    "outputId": "60a4353d-b100-492a-a0d2-528dc8504c61"
   },
   "outputs": [
    {
     "data": {
      "text/plain": [
       "array([[-0.0499725 ,  0.07260589, -0.0048234 , -0.08501758,  0.16616968,\n",
       "         0.00912318],\n",
       "       [ 0.20377982, -0.09175883, -0.06959711, -0.10890099,  0.1825492 ,\n",
       "        -0.15003955]])"
      ]
     },
     "execution_count": 116,
     "metadata": {
      "tags": []
     },
     "output_type": "execute_result"
    }
   ],
   "source": [
    "algo.qi.T # фильмы"
   ]
  },
  {
   "cell_type": "code",
   "execution_count": null,
   "metadata": {
    "id": "P__whK2fBZ19"
   },
   "outputs": [],
   "source": [
    "mu=df_unpivot.rating.mean()"
   ]
  },
  {
   "cell_type": "code",
   "execution_count": null,
   "metadata": {
    "id": "pWLszRqfBZ2E"
   },
   "outputs": [],
   "source": [
    "m= algo.pu @ algo.qi.T "
   ]
  },
  {
   "cell_type": "code",
   "execution_count": null,
   "metadata": {
    "id": "U_yxFj_QBZ2I",
    "outputId": "765063ed-5153-43d5-d1e7-8c9d7dee2d35"
   },
   "outputs": [
    {
     "data": {
      "text/plain": [
       "(8, 6)"
      ]
     },
     "execution_count": 119,
     "metadata": {
      "tags": []
     },
     "output_type": "execute_result"
    }
   ],
   "source": [
    "m.shape"
   ]
  },
  {
   "cell_type": "code",
   "execution_count": null,
   "metadata": {
    "id": "Hxe41ARSBZ2N"
   },
   "outputs": [],
   "source": [
    "i = 0\n",
    "j = 5"
   ]
  },
  {
   "cell_type": "code",
   "execution_count": null,
   "metadata": {
    "id": "51HXvcpVBZ2Q",
    "outputId": "183bbbb1-672f-44af-a5c1-ebdda3873f01"
   },
   "outputs": [
    {
     "data": {
      "text/plain": [
       "3.31245613193024"
      ]
     },
     "execution_count": 121,
     "metadata": {
      "tags": []
     },
     "output_type": "execute_result"
    }
   ],
   "source": [
    "mu+m[i][j]+algo.bu[i]+algo.bi[j]"
   ]
  },
  {
   "cell_type": "markdown",
   "metadata": {
    "id": "TyZeNWuPBZ2V"
   },
   "source": [
    "## Сравнение параметров"
   ]
  },
  {
   "cell_type": "code",
   "execution_count": null,
   "metadata": {
    "id": "I_s7V26bBZ2V"
   },
   "outputs": [],
   "source": [
    "from surprise import KNNBaseline\n",
    "from surprise.model_selection import cross_validate"
   ]
  },
  {
   "cell_type": "markdown",
   "metadata": {
    "id": "juDllYvsBZ2Y"
   },
   "source": [
    "В библиотеке есть встроенные Dataset. Можно воспользоваться ими.\n",
    "\n",
    "Возьмем Dataset movielens (Подробнее о нём https://grouplens.org/datasets/movielens/ )"
   ]
  },
  {
   "cell_type": "code",
   "execution_count": null,
   "metadata": {
    "id": "s-Yxf6UpBZ2Z"
   },
   "outputs": [],
   "source": [
    "data = Dataset.load_builtin('ml-100k')##загружем данные о фильмах"
   ]
  },
  {
   "cell_type": "code",
   "execution_count": null,
   "metadata": {
    "id": "LzA8Vho6BZ2d",
    "outputId": "27b6dd38-59c1-47f1-b967-16302bbb8c5f"
   },
   "outputs": [
    {
     "data": {
      "text/html": [
       "<div>\n",
       "<style scoped>\n",
       "    .dataframe tbody tr th:only-of-type {\n",
       "        vertical-align: middle;\n",
       "    }\n",
       "\n",
       "    .dataframe tbody tr th {\n",
       "        vertical-align: top;\n",
       "    }\n",
       "\n",
       "    .dataframe thead th {\n",
       "        text-align: right;\n",
       "    }\n",
       "</style>\n",
       "<table border=\"1\" class=\"dataframe\">\n",
       "  <thead>\n",
       "    <tr style=\"text-align: right;\">\n",
       "      <th></th>\n",
       "      <th>user</th>\n",
       "      <th>item</th>\n",
       "      <th>rating</th>\n",
       "      <th>timestamp</th>\n",
       "    </tr>\n",
       "  </thead>\n",
       "  <tbody>\n",
       "    <tr>\n",
       "      <td>0</td>\n",
       "      <td>196</td>\n",
       "      <td>242</td>\n",
       "      <td>3.0</td>\n",
       "      <td>881250949</td>\n",
       "    </tr>\n",
       "    <tr>\n",
       "      <td>1</td>\n",
       "      <td>186</td>\n",
       "      <td>302</td>\n",
       "      <td>3.0</td>\n",
       "      <td>891717742</td>\n",
       "    </tr>\n",
       "    <tr>\n",
       "      <td>2</td>\n",
       "      <td>22</td>\n",
       "      <td>377</td>\n",
       "      <td>1.0</td>\n",
       "      <td>878887116</td>\n",
       "    </tr>\n",
       "    <tr>\n",
       "      <td>3</td>\n",
       "      <td>244</td>\n",
       "      <td>51</td>\n",
       "      <td>2.0</td>\n",
       "      <td>880606923</td>\n",
       "    </tr>\n",
       "    <tr>\n",
       "      <td>4</td>\n",
       "      <td>166</td>\n",
       "      <td>346</td>\n",
       "      <td>1.0</td>\n",
       "      <td>886397596</td>\n",
       "    </tr>\n",
       "  </tbody>\n",
       "</table>\n",
       "</div>"
      ],
      "text/plain": [
       "  user item  rating  timestamp\n",
       "0  196  242     3.0  881250949\n",
       "1  186  302     3.0  891717742\n",
       "2   22  377     1.0  878887116\n",
       "3  244   51     2.0  880606923\n",
       "4  166  346     1.0  886397596"
      ]
     },
     "execution_count": 124,
     "metadata": {
      "tags": []
     },
     "output_type": "execute_result"
    }
   ],
   "source": [
    "df = pd.DataFrame(data.raw_ratings)\n",
    "df.columns = ['user', 'item', 'rating', 'timestamp']\n",
    "df.head()"
   ]
  },
  {
   "cell_type": "code",
   "execution_count": null,
   "metadata": {
    "id": "hFslz0xEBZ2i",
    "outputId": "82abd4c7-0523-4d8a-ebff-2781430df8e9"
   },
   "outputs": [
    {
     "name": "stdout",
     "output_type": "stream",
     "text": [
      "1NN: 1.2426586300518447\n",
      "3NN: 1.0415340855946822\n",
      "5NN: 0.9918657318153091\n",
      "7NN: 0.9734473295688675\n",
      "20NN: 0.940966101003433\n"
     ]
    }
   ],
   "source": [
    "for i in [1,3,5,7,20]:\n",
    "    algo = KNNBaseline(k=i, verbose=False) #отключим вывод логирования\n",
    "    cv=cross_validate(algo, data, measures=['RMSE'], cv=3, verbose=False)\n",
    "    print(str(i)+'NN:',np.mean(cv['test_rmse']))"
   ]
  },
  {
   "cell_type": "code",
   "execution_count": null,
   "metadata": {
    "id": "zYUz7Z2PBZ2l",
    "outputId": "94433fa6-0fbe-41df-bef4-98509ce34f09"
   },
   "outputs": [
    {
     "name": "stdout",
     "output_type": "stream",
     "text": [
      "1-factors: 0.9424666189659544\n",
      "2-factors: 0.9435939329600705\n",
      "3-factors: 0.9429485955626742\n",
      "5-factors: 0.944047741443388\n",
      "7-factors: 0.9437036282187504\n",
      "10-factors: 0.9436063900265164\n",
      "50-factors: 0.943048775431651\n",
      "70-factors: 0.9435419089201367\n"
     ]
    }
   ],
   "source": [
    "for i in [1,2,3,5,7,10,50,70]:\n",
    "    algo = SVD(n_factors=i,random_state=999, verbose=False) #отключим вывод логирования\n",
    "    cv=cross_validate(algo, data, measures=['RMSE'], cv=3, verbose=False)\n",
    "    print(str(i)+'-factors:',np.mean(cv['test_rmse']))"
   ]
  },
  {
   "cell_type": "markdown",
   "metadata": {
    "id": "BQKiyhvgBZ2n"
   },
   "source": [
    "$$ x_{ij}=q^T_jp_i $$\n",
    "\n",
    "https://surprise.readthedocs.io/en/stable/matrix_factorization.html"
   ]
  },
  {
   "cell_type": "code",
   "execution_count": null,
   "metadata": {
    "id": "nln1Pn8IBZ2n",
    "outputId": "ba1a84ff-f377-4a74-a841-924dad774dc7"
   },
   "outputs": [
    {
     "name": "stdout",
     "output_type": "stream",
     "text": [
      "1-factors: 0.9681337675231441\n",
      "2-factors: 0.969247102619306\n",
      "3-factors: 0.9623089231349088\n",
      "5-factors: 0.9605072006496022\n",
      "7-factors: 0.9544680459829298\n",
      "10-factors: 0.9591416567477246\n",
      "50-factors: 0.958342846729939\n",
      "70-factors: 0.9592871611513885\n"
     ]
    }
   ],
   "source": [
    "for i in [1,2,3,5,7,10,50,70]:\n",
    "    algo = SVD(n_factors=i,biased=False,random_state=999, verbose=False) #отключим вывод логирования\n",
    "    cv=cross_validate(algo, data, measures=['RMSE'], cv=3, verbose=False)\n",
    "    print(str(i)+'-factors:',np.mean(cv['test_rmse']))"
   ]
  },
  {
   "cell_type": "markdown",
   "metadata": {
    "id": "VLgHnwgJBZ2p"
   },
   "source": [
    "## Задание:\n",
    "```\n",
    "data = Dataset.load_builtin('ml-100k')\n",
    "trainset, testset = train_test_split(data, test_size=.30, random_state=999)\n",
    "```\n",
    "1. Для параметров i = [1,5,9,12,17,22] найдите лучший SVD (random_state=999) алгоритм по метрике MAP(n=7).\n",
    "\n",
    "2. Сделайте прогноз по всем пользователям, который равен среднему из KNN (k=15, c корреляцией Пирсона и item-based подходом) и SVD (n = лучший из пункта 1).\n",
    "Сравните по метрике MAP(n=7) полученные предсказания с kNN и SVD."
   ]
  },
  {
   "cell_type": "code",
   "execution_count": null,
   "metadata": {
    "id": "Lsck4txQBZ2q"
   },
   "outputs": [],
   "source": []
  }
 ],
 "metadata": {
  "colab": {
   "collapsed_sections": [],
   "name": "Skillbox_recsys_21.ipynb",
   "provenance": []
  },
  "kernelspec": {
   "display_name": "Python 3",
   "language": "python",
   "name": "python3"
  },
  "language_info": {
   "codemirror_mode": {
    "name": "ipython",
    "version": 3
   },
   "file_extension": ".py",
   "mimetype": "text/x-python",
   "name": "python",
   "nbconvert_exporter": "python",
   "pygments_lexer": "ipython3",
   "version": "3.7.4"
  }
 },
 "nbformat": 4,
 "nbformat_minor": 1
}
