{
  "nbformat": 4,
  "nbformat_minor": 0,
  "metadata": {
    "kernelspec": {
      "display_name": "Python 3",
      "language": "python",
      "name": "python3"
    },
    "language_info": {
      "codemirror_mode": {
        "name": "ipython",
        "version": 3
      },
      "file_extension": ".py",
      "mimetype": "text/x-python",
      "name": "python",
      "nbconvert_exporter": "python",
      "pygments_lexer": "ipython3",
      "version": "3.7.4"
    },
    "colab": {
      "name": "Skillbox_recsys_21-HW.ipynb",
      "provenance": []
    }
  },
  "cells": [
    {
      "cell_type": "markdown",
      "metadata": {
        "id": "xxWvTL1eWJIY"
      },
      "source": [
        "# Рекомендательная система на библиотеке surprise (Практика 2 - задания)\n",
        "\n",
        "Сайт библиотеки: http://surpriselib.com/\n",
        "\n",
        "Установки библиотеки:\n",
        "```\n",
        "$ pip install scikit-surprise```\n",
        "или\n",
        "```\n",
        "$ conda install -c conda-forge scikit-surprise```"
      ]
    },
    {
      "cell_type": "code",
      "metadata": {
        "id": "eR4JLTDJWJIu"
      },
      "source": [
        "import pandas as pd\n",
        "import numpy as np"
      ],
      "execution_count": null,
      "outputs": []
    },
    {
      "cell_type": "code",
      "metadata": {
        "id": "i98tVeDSWJI5"
      },
      "source": [
        "from surprise import Dataset\n",
        "from surprise import Reader\n"
      ],
      "execution_count": null,
      "outputs": []
    },
    {
      "cell_type": "code",
      "metadata": {
        "id": "gro9RfwnWJI8"
      },
      "source": [
        "from surprise import SVD  "
      ],
      "execution_count": null,
      "outputs": []
    },
    {
      "cell_type": "code",
      "metadata": {
        "id": "YL689tCaWJI9"
      },
      "source": [
        "from surprise import KNNBaseline\n",
        "from surprise.model_selection import cross_validate"
      ],
      "execution_count": null,
      "outputs": []
    },
    {
      "cell_type": "markdown",
      "metadata": {
        "id": "aLt_hpa6WJI_"
      },
      "source": [
        "## Задание:\n",
        "```data = Dataset.load_builtin('ml-100k')\n",
        "trainset, testset = train_test_split(data, test_size=.30, random_state=999)```\n",
        "1. Для параметров i = [1,5,9,12,17,22] найдите лучший SVD (random_state=999) алгоритм по метрике MAP(n=7)\n",
        "\n",
        "2. Сделайте прогноз по всем пользователям, который равен среднему из KNN (k=15, c корреляцией Пирсона и item-based подходом) и SVD (n = лучший из пункта 1).\n",
        "Сравните по метрике MAP(n=7) полученные предсказания с kNN и SVD."
      ]
    },
    {
      "cell_type": "markdown",
      "metadata": {
        "id": "KPFVw_uJWJJG"
      },
      "source": [
        "### Задача 1"
      ]
    },
    {
      "cell_type": "code",
      "metadata": {
        "id": "YxKTGYEeWJJK"
      },
      "source": [
        "from surprise.model_selection import train_test_split"
      ],
      "execution_count": null,
      "outputs": []
    },
    {
      "cell_type": "code",
      "metadata": {
        "id": "7wmVOAMvWJJO"
      },
      "source": [
        "def Precision_at_n(df_ratings, n=3, threshold=5):\n",
        "    rel_n = set(df_ratings[df_ratings.real_rating>=threshold]['itemID'])\n",
        "    t=df_ratings.sort_values(by='rating', ascending=False)[0:n]\n",
        "    ret_n=set(t['itemID'])\n",
        "    return len(rel_n & ret_n)/n"
      ],
      "execution_count": null,
      "outputs": []
    },
    {
      "cell_type": "code",
      "metadata": {
        "id": "MpcZzlyeWJJR"
      },
      "source": [
        "def Avg_Precision_at_n(df_ratings, n=10,threshold=5):\n",
        "    avg_p=0\n",
        "    rel_n = set(df_ratings[df_ratings.real_rating>=threshold]['itemID'])\n",
        "    \n",
        "    for i in range(1,n+1):\n",
        "        t=df_ratings.sort_values(by='rating', ascending=False)[0:i]\n",
        "        ret_n=set(t['itemID'])\n",
        "        t2=df_ratings.sort_values(by='rating', ascending=False)[i-1:i]\n",
        "        ret_n2=set(t2['itemID'])\n",
        "        #print(ret_n2,ret_n)\n",
        "        if len((ret_n2 & rel_n))>0:\n",
        "            avg_p=avg_p+len(rel_n & ret_n)/n\n",
        "    return avg_p/n"
      ],
      "execution_count": null,
      "outputs": []
    },
    {
      "cell_type": "code",
      "metadata": {
        "id": "IBYBj-dWWJJX"
      },
      "source": [
        "def MAP_at_n(df_ratings_all, n=10,threshold=5):\n",
        "    users=df_ratings_all['userID'].unique()\n",
        "    map_at_n=0\n",
        "    for i in users:\n",
        "        df_ratings=df_ratings_all[df_ratings_all.userID==i]\n",
        "        map_at_n=map_at_n+Avg_Precision_at_n(df_ratings,n=n,threshold=threshold)\n",
        "    return map_at_n/len(users)   "
      ],
      "execution_count": null,
      "outputs": []
    },
    {
      "cell_type": "code",
      "metadata": {
        "id": "2Sl80F6yWJJa"
      },
      "source": [
        "data = Dataset.load_builtin('ml-100k')\n",
        "trainset, testset = train_test_split(data, test_size=.30, random_state=999)"
      ],
      "execution_count": null,
      "outputs": []
    },
    {
      "cell_type": "code",
      "metadata": {
        "id": "6dN2JbixWJJc",
        "outputId": "4390ef0b-85b0-40bd-915e-94a5330c65c2"
      },
      "source": [
        "for k in [1,5,9,12,17,22]:\n",
        "    algo = SVD(n_factors=k,random_state=999, verbose=False) #отключим вывод логирования\n",
        "    predictions = algo.fit(trainset).test(testset)\n",
        "    df_ratings=pd.DataFrame(columns=['userID', 'itemID', 'rating', 'real_rating'])\n",
        "    for i in predictions:\n",
        "        df_ratings = df_ratings.append({'userID':i.uid, 'itemID': i.iid, 'rating': i.est, 'real_rating': i.r_ui}, ignore_index=True)\n",
        "    print(k,MAP_at_n(df_ratings,7))"
      ],
      "execution_count": null,
      "outputs": [
        {
          "name": "stdout",
          "output_type": "stream",
          "text": [
            "1 0.11792585538987567\n",
            "5 0.11985197048066282\n",
            "9 0.11985197048066278\n",
            "12 0.11889973380656582\n",
            "17 0.12229748739368461\n",
            "22 0.11768779622135146\n"
          ]
        }
      ]
    },
    {
      "cell_type": "code",
      "metadata": {
        "id": "ZfvhsI30WJJi"
      },
      "source": [
        "#17"
      ],
      "execution_count": null,
      "outputs": []
    },
    {
      "cell_type": "markdown",
      "metadata": {
        "id": "LQ29uisAWJJk"
      },
      "source": [
        "### Задача 2"
      ]
    },
    {
      "cell_type": "code",
      "metadata": {
        "id": "zOFxh9_6WJJp"
      },
      "source": [
        "from surprise import KNNBaseline"
      ],
      "execution_count": null,
      "outputs": []
    },
    {
      "cell_type": "code",
      "metadata": {
        "id": "5Ux4LvIFWJJu"
      },
      "source": [
        "knn=KNNBaseline(k=15,sim_options = {'name': 'pearson_baseline','user_based': False}, verbose=False)\n",
        "svd = SVD(n_factors=17,random_state=999, verbose=False) "
      ],
      "execution_count": null,
      "outputs": []
    },
    {
      "cell_type": "code",
      "metadata": {
        "id": "Y_P89KsxWJJw"
      },
      "source": [
        "predictions = knn.fit(trainset).test(testset)\n",
        "df_ratings=pd.DataFrame(columns=['userID', 'itemID', 'rating', 'real_rating'])\n",
        "for i in predictions:\n",
        "    df_ratings = df_ratings.append({'userID':i.uid, 'itemID': i.iid, 'rating': i.est, 'real_rating': i.r_ui}, ignore_index=True)"
      ],
      "execution_count": null,
      "outputs": []
    },
    {
      "cell_type": "code",
      "metadata": {
        "id": "iWMTYk2CWJJy",
        "outputId": "9357e163-c659-42b4-c64c-6cddd6188e59"
      },
      "source": [
        "df_ratings.head()"
      ],
      "execution_count": null,
      "outputs": [
        {
          "data": {
            "text/html": [
              "<div>\n",
              "<style scoped>\n",
              "    .dataframe tbody tr th:only-of-type {\n",
              "        vertical-align: middle;\n",
              "    }\n",
              "\n",
              "    .dataframe tbody tr th {\n",
              "        vertical-align: top;\n",
              "    }\n",
              "\n",
              "    .dataframe thead th {\n",
              "        text-align: right;\n",
              "    }\n",
              "</style>\n",
              "<table border=\"1\" class=\"dataframe\">\n",
              "  <thead>\n",
              "    <tr style=\"text-align: right;\">\n",
              "      <th></th>\n",
              "      <th>userID</th>\n",
              "      <th>itemID</th>\n",
              "      <th>rating</th>\n",
              "      <th>real_rating</th>\n",
              "    </tr>\n",
              "  </thead>\n",
              "  <tbody>\n",
              "    <tr>\n",
              "      <td>0</td>\n",
              "      <td>753</td>\n",
              "      <td>357</td>\n",
              "      <td>3.601156</td>\n",
              "      <td>4.0</td>\n",
              "    </tr>\n",
              "    <tr>\n",
              "      <td>1</td>\n",
              "      <td>542</td>\n",
              "      <td>585</td>\n",
              "      <td>2.541421</td>\n",
              "      <td>2.0</td>\n",
              "    </tr>\n",
              "    <tr>\n",
              "      <td>2</td>\n",
              "      <td>5</td>\n",
              "      <td>364</td>\n",
              "      <td>2.906434</td>\n",
              "      <td>1.0</td>\n",
              "    </tr>\n",
              "    <tr>\n",
              "      <td>3</td>\n",
              "      <td>887</td>\n",
              "      <td>385</td>\n",
              "      <td>4.244959</td>\n",
              "      <td>4.0</td>\n",
              "    </tr>\n",
              "    <tr>\n",
              "      <td>4</td>\n",
              "      <td>383</td>\n",
              "      <td>480</td>\n",
              "      <td>4.868237</td>\n",
              "      <td>5.0</td>\n",
              "    </tr>\n",
              "  </tbody>\n",
              "</table>\n",
              "</div>"
            ],
            "text/plain": [
              "  userID itemID    rating  real_rating\n",
              "0    753    357  3.601156          4.0\n",
              "1    542    585  2.541421          2.0\n",
              "2      5    364  2.906434          1.0\n",
              "3    887    385  4.244959          4.0\n",
              "4    383    480  4.868237          5.0"
            ]
          },
          "execution_count": 15,
          "metadata": {},
          "output_type": "execute_result"
        }
      ]
    },
    {
      "cell_type": "code",
      "metadata": {
        "id": "G-Qb7hstWJJ0"
      },
      "source": [
        "predictions = svd.fit(trainset).test(testset)\n",
        "df_ratings2=pd.DataFrame(columns=['userID', 'itemID', 'rating', 'real_rating'])\n",
        "for i in predictions:\n",
        "    df_ratings2 = df_ratings2.append({'userID':i.uid, 'itemID': i.iid, 'rating': i.est, 'real_rating': i.r_ui}, ignore_index=True)"
      ],
      "execution_count": null,
      "outputs": []
    },
    {
      "cell_type": "code",
      "metadata": {
        "id": "pQsIf-QNWJJ2",
        "outputId": "721d97f6-d2a0-4eed-e439-88e2888c2145"
      },
      "source": [
        "df_ratings2.head() "
      ],
      "execution_count": null,
      "outputs": [
        {
          "data": {
            "text/html": [
              "<div>\n",
              "<style scoped>\n",
              "    .dataframe tbody tr th:only-of-type {\n",
              "        vertical-align: middle;\n",
              "    }\n",
              "\n",
              "    .dataframe tbody tr th {\n",
              "        vertical-align: top;\n",
              "    }\n",
              "\n",
              "    .dataframe thead th {\n",
              "        text-align: right;\n",
              "    }\n",
              "</style>\n",
              "<table border=\"1\" class=\"dataframe\">\n",
              "  <thead>\n",
              "    <tr style=\"text-align: right;\">\n",
              "      <th></th>\n",
              "      <th>userID</th>\n",
              "      <th>itemID</th>\n",
              "      <th>rating</th>\n",
              "      <th>real_rating</th>\n",
              "    </tr>\n",
              "  </thead>\n",
              "  <tbody>\n",
              "    <tr>\n",
              "      <td>0</td>\n",
              "      <td>753</td>\n",
              "      <td>357</td>\n",
              "      <td>3.543399</td>\n",
              "      <td>4.0</td>\n",
              "    </tr>\n",
              "    <tr>\n",
              "      <td>1</td>\n",
              "      <td>542</td>\n",
              "      <td>585</td>\n",
              "      <td>2.627620</td>\n",
              "      <td>2.0</td>\n",
              "    </tr>\n",
              "    <tr>\n",
              "      <td>2</td>\n",
              "      <td>5</td>\n",
              "      <td>364</td>\n",
              "      <td>2.345794</td>\n",
              "      <td>1.0</td>\n",
              "    </tr>\n",
              "    <tr>\n",
              "      <td>3</td>\n",
              "      <td>887</td>\n",
              "      <td>385</td>\n",
              "      <td>4.106974</td>\n",
              "      <td>4.0</td>\n",
              "    </tr>\n",
              "    <tr>\n",
              "      <td>4</td>\n",
              "      <td>383</td>\n",
              "      <td>480</td>\n",
              "      <td>4.550769</td>\n",
              "      <td>5.0</td>\n",
              "    </tr>\n",
              "  </tbody>\n",
              "</table>\n",
              "</div>"
            ],
            "text/plain": [
              "  userID itemID    rating  real_rating\n",
              "0    753    357  3.543399          4.0\n",
              "1    542    585  2.627620          2.0\n",
              "2      5    364  2.345794          1.0\n",
              "3    887    385  4.106974          4.0\n",
              "4    383    480  4.550769          5.0"
            ]
          },
          "execution_count": 17,
          "metadata": {},
          "output_type": "execute_result"
        }
      ]
    },
    {
      "cell_type": "code",
      "metadata": {
        "id": "OFW_bwHyWJJ7"
      },
      "source": [
        "df_knn_svd=df_ratings.merge(df_ratings2[['userID','itemID','rating']],how='left', on=['userID','itemID'])"
      ],
      "execution_count": null,
      "outputs": []
    },
    {
      "cell_type": "code",
      "metadata": {
        "id": "qromsqjfWJJ9"
      },
      "source": [
        "df_knn_svd['rating']=(df_knn_svd['rating_x']+ df_knn_svd['rating_y'])/2"
      ],
      "execution_count": null,
      "outputs": []
    },
    {
      "cell_type": "code",
      "metadata": {
        "id": "0MuGmJejWJJ_",
        "outputId": "ec4e40ba-d214-4736-a117-69c31aff579d"
      },
      "source": [
        "df_knn_svd.head()"
      ],
      "execution_count": null,
      "outputs": [
        {
          "data": {
            "text/html": [
              "<div>\n",
              "<style scoped>\n",
              "    .dataframe tbody tr th:only-of-type {\n",
              "        vertical-align: middle;\n",
              "    }\n",
              "\n",
              "    .dataframe tbody tr th {\n",
              "        vertical-align: top;\n",
              "    }\n",
              "\n",
              "    .dataframe thead th {\n",
              "        text-align: right;\n",
              "    }\n",
              "</style>\n",
              "<table border=\"1\" class=\"dataframe\">\n",
              "  <thead>\n",
              "    <tr style=\"text-align: right;\">\n",
              "      <th></th>\n",
              "      <th>userID</th>\n",
              "      <th>itemID</th>\n",
              "      <th>rating_x</th>\n",
              "      <th>real_rating</th>\n",
              "      <th>rating_y</th>\n",
              "      <th>rating</th>\n",
              "    </tr>\n",
              "  </thead>\n",
              "  <tbody>\n",
              "    <tr>\n",
              "      <td>0</td>\n",
              "      <td>753</td>\n",
              "      <td>357</td>\n",
              "      <td>3.601156</td>\n",
              "      <td>4.0</td>\n",
              "      <td>3.543399</td>\n",
              "      <td>3.572277</td>\n",
              "    </tr>\n",
              "    <tr>\n",
              "      <td>1</td>\n",
              "      <td>542</td>\n",
              "      <td>585</td>\n",
              "      <td>2.541421</td>\n",
              "      <td>2.0</td>\n",
              "      <td>2.627620</td>\n",
              "      <td>2.584520</td>\n",
              "    </tr>\n",
              "    <tr>\n",
              "      <td>2</td>\n",
              "      <td>5</td>\n",
              "      <td>364</td>\n",
              "      <td>2.906434</td>\n",
              "      <td>1.0</td>\n",
              "      <td>2.345794</td>\n",
              "      <td>2.626114</td>\n",
              "    </tr>\n",
              "    <tr>\n",
              "      <td>3</td>\n",
              "      <td>887</td>\n",
              "      <td>385</td>\n",
              "      <td>4.244959</td>\n",
              "      <td>4.0</td>\n",
              "      <td>4.106974</td>\n",
              "      <td>4.175967</td>\n",
              "    </tr>\n",
              "    <tr>\n",
              "      <td>4</td>\n",
              "      <td>383</td>\n",
              "      <td>480</td>\n",
              "      <td>4.868237</td>\n",
              "      <td>5.0</td>\n",
              "      <td>4.550769</td>\n",
              "      <td>4.709503</td>\n",
              "    </tr>\n",
              "  </tbody>\n",
              "</table>\n",
              "</div>"
            ],
            "text/plain": [
              "  userID itemID  rating_x  real_rating  rating_y    rating\n",
              "0    753    357  3.601156          4.0  3.543399  3.572277\n",
              "1    542    585  2.541421          2.0  2.627620  2.584520\n",
              "2      5    364  2.906434          1.0  2.345794  2.626114\n",
              "3    887    385  4.244959          4.0  4.106974  4.175967\n",
              "4    383    480  4.868237          5.0  4.550769  4.709503"
            ]
          },
          "execution_count": 21,
          "metadata": {},
          "output_type": "execute_result"
        }
      ]
    },
    {
      "cell_type": "code",
      "metadata": {
        "id": "lSyYOLWRWJKB",
        "outputId": "82bcea47-68d5-4daf-d40a-8d1ab99515b1"
      },
      "source": [
        "print(MAP_at_n(df_ratings,7),MAP_at_n(df_ratings2,7),MAP_at_n(df_knn_svd,7))"
      ],
      "execution_count": null,
      "outputs": [
        {
          "name": "stdout",
          "output_type": "stream",
          "text": [
            "0.12677732811045903 0.12229748739368461 0.12775120652714916\n"
          ]
        }
      ]
    },
    {
      "cell_type": "code",
      "metadata": {
        "id": "sQbGOE4nWJKF"
      },
      "source": [
        ""
      ],
      "execution_count": null,
      "outputs": []
    }
  ]
}