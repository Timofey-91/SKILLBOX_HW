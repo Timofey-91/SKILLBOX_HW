{
  "nbformat": 4,
  "nbformat_minor": 0,
  "metadata": {
    "kernelspec": {
      "display_name": "Python 3",
      "language": "python",
      "name": "python3"
    },
    "language_info": {
      "codemirror_mode": {
        "name": "ipython",
        "version": 3
      },
      "file_extension": ".py",
      "mimetype": "text/x-python",
      "name": "python",
      "nbconvert_exporter": "python",
      "pygments_lexer": "ipython3",
      "version": "3.7.4"
    },
    "colab": {
      "name": "Skillbox_recsys_22-HW.ipynb",
      "provenance": []
    }
  },
  "cells": [
    {
      "cell_type": "markdown",
      "metadata": {
        "id": "sojjthQLBp2s"
      },
      "source": [
        "# Рекомендательная система на библиотеке surprise (Практика 2.2)\n",
        "\n",
        "Сайт библиотеки: http://surpriselib.com/\n",
        "\n",
        "Установки библиотеки:\n",
        "```\n",
        "$ pip install scikit-surprise```\n",
        "или\n",
        "```\n",
        "$ conda install -c conda-forge scikit-surprise```"
      ]
    },
    {
      "cell_type": "code",
      "metadata": {
        "id": "--kMSHD6Bp26"
      },
      "source": [
        "import pandas as pd\n",
        "import numpy as np"
      ],
      "execution_count": null,
      "outputs": []
    },
    {
      "cell_type": "code",
      "metadata": {
        "id": "C2S33GBtBp3i"
      },
      "source": [
        "from surprise import Dataset\n",
        "from surprise import Reader"
      ],
      "execution_count": null,
      "outputs": []
    },
    {
      "cell_type": "code",
      "metadata": {
        "id": "-5sJU4pGBp4S"
      },
      "source": [
        "data = Dataset.load_builtin('ml-100k')##загружем данные о фильмах"
      ],
      "execution_count": null,
      "outputs": []
    },
    {
      "cell_type": "code",
      "metadata": {
        "id": "8qAFvlECBp4y",
        "outputId": "bae768ac-da77-415f-d45f-8b9e5ee9049a"
      },
      "source": [
        "df = pd.DataFrame(data.raw_ratings)\n",
        "df.columns = ['user', 'item', 'rating', 'timestamp']\n",
        "df.head()"
      ],
      "execution_count": null,
      "outputs": [
        {
          "output_type": "execute_result",
          "data": {
            "text/html": [
              "<div>\n",
              "<style scoped>\n",
              "    .dataframe tbody tr th:only-of-type {\n",
              "        vertical-align: middle;\n",
              "    }\n",
              "\n",
              "    .dataframe tbody tr th {\n",
              "        vertical-align: top;\n",
              "    }\n",
              "\n",
              "    .dataframe thead th {\n",
              "        text-align: right;\n",
              "    }\n",
              "</style>\n",
              "<table border=\"1\" class=\"dataframe\">\n",
              "  <thead>\n",
              "    <tr style=\"text-align: right;\">\n",
              "      <th></th>\n",
              "      <th>user</th>\n",
              "      <th>item</th>\n",
              "      <th>rating</th>\n",
              "      <th>timestamp</th>\n",
              "    </tr>\n",
              "  </thead>\n",
              "  <tbody>\n",
              "    <tr>\n",
              "      <td>0</td>\n",
              "      <td>196</td>\n",
              "      <td>242</td>\n",
              "      <td>3.0</td>\n",
              "      <td>881250949</td>\n",
              "    </tr>\n",
              "    <tr>\n",
              "      <td>1</td>\n",
              "      <td>186</td>\n",
              "      <td>302</td>\n",
              "      <td>3.0</td>\n",
              "      <td>891717742</td>\n",
              "    </tr>\n",
              "    <tr>\n",
              "      <td>2</td>\n",
              "      <td>22</td>\n",
              "      <td>377</td>\n",
              "      <td>1.0</td>\n",
              "      <td>878887116</td>\n",
              "    </tr>\n",
              "    <tr>\n",
              "      <td>3</td>\n",
              "      <td>244</td>\n",
              "      <td>51</td>\n",
              "      <td>2.0</td>\n",
              "      <td>880606923</td>\n",
              "    </tr>\n",
              "    <tr>\n",
              "      <td>4</td>\n",
              "      <td>166</td>\n",
              "      <td>346</td>\n",
              "      <td>1.0</td>\n",
              "      <td>886397596</td>\n",
              "    </tr>\n",
              "  </tbody>\n",
              "</table>\n",
              "</div>"
            ],
            "text/plain": [
              "  user item  rating  timestamp\n",
              "0  196  242     3.0  881250949\n",
              "1  186  302     3.0  891717742\n",
              "2   22  377     1.0  878887116\n",
              "3  244   51     2.0  880606923\n",
              "4  166  346     1.0  886397596"
            ]
          },
          "metadata": {
            "tags": []
          },
          "execution_count": 56
        }
      ]
    },
    {
      "cell_type": "code",
      "metadata": {
        "id": "Zo42xJq1BqJI"
      },
      "source": [
        "df_vc=df.user.value_counts()"
      ],
      "execution_count": null,
      "outputs": []
    },
    {
      "cell_type": "code",
      "metadata": {
        "id": "u25hP6yzBqKp",
        "outputId": "194ee697-f043-4465-c53f-d1b8718c3ebf"
      },
      "source": [
        "df_vc[df_vc<30].index"
      ],
      "execution_count": null,
      "outputs": [
        {
          "output_type": "execute_result",
          "data": {
            "text/plain": [
              "Index(['706', '103', '80', '657', '672', '769', '146', '602', '696', '238',\n",
              "       ...\n",
              "       '571', '309', '475', '812', '147', '685', '364', '572', '631', '242'],\n",
              "      dtype='object', length=199)"
            ]
          },
          "metadata": {
            "tags": []
          },
          "execution_count": 58
        }
      ]
    },
    {
      "cell_type": "code",
      "metadata": {
        "id": "_xTLkX9fBqK0"
      },
      "source": [
        "train_df=df[~df.user.isin(list(df_vc[df_vc<30].index))]\n",
        "test_df=df[df.user.isin(list(df_vc[df_vc<30].index))]"
      ],
      "execution_count": null,
      "outputs": []
    },
    {
      "cell_type": "code",
      "metadata": {
        "id": "ldsAPyuHBqK9",
        "outputId": "7f5eb940-5148-4b69-91cf-17c585add62d"
      },
      "source": [
        "#просто средние оценки (a)\n",
        "mean_raitng=train_df.groupby(['item']).mean()\n",
        "mra=mean_raitng.sort_values(['rating'], ascending=False)\n",
        "mra"
      ],
      "execution_count": null,
      "outputs": [
        {
          "output_type": "execute_result",
          "data": {
            "text/html": [
              "<div>\n",
              "<style scoped>\n",
              "    .dataframe tbody tr th:only-of-type {\n",
              "        vertical-align: middle;\n",
              "    }\n",
              "\n",
              "    .dataframe tbody tr th {\n",
              "        vertical-align: top;\n",
              "    }\n",
              "\n",
              "    .dataframe thead th {\n",
              "        text-align: right;\n",
              "    }\n",
              "</style>\n",
              "<table border=\"1\" class=\"dataframe\">\n",
              "  <thead>\n",
              "    <tr style=\"text-align: right;\">\n",
              "      <th></th>\n",
              "      <th>rating</th>\n",
              "    </tr>\n",
              "    <tr>\n",
              "      <th>item</th>\n",
              "      <th></th>\n",
              "    </tr>\n",
              "  </thead>\n",
              "  <tbody>\n",
              "    <tr>\n",
              "      <td>1189</td>\n",
              "      <td>5.0</td>\n",
              "    </tr>\n",
              "    <tr>\n",
              "      <td>1293</td>\n",
              "      <td>5.0</td>\n",
              "    </tr>\n",
              "    <tr>\n",
              "      <td>1467</td>\n",
              "      <td>5.0</td>\n",
              "    </tr>\n",
              "    <tr>\n",
              "      <td>814</td>\n",
              "      <td>5.0</td>\n",
              "    </tr>\n",
              "    <tr>\n",
              "      <td>1500</td>\n",
              "      <td>5.0</td>\n",
              "    </tr>\n",
              "    <tr>\n",
              "      <td>...</td>\n",
              "      <td>...</td>\n",
              "    </tr>\n",
              "    <tr>\n",
              "      <td>1575</td>\n",
              "      <td>1.0</td>\n",
              "    </tr>\n",
              "    <tr>\n",
              "      <td>1340</td>\n",
              "      <td>1.0</td>\n",
              "    </tr>\n",
              "    <tr>\n",
              "      <td>852</td>\n",
              "      <td>1.0</td>\n",
              "    </tr>\n",
              "    <tr>\n",
              "      <td>1576</td>\n",
              "      <td>1.0</td>\n",
              "    </tr>\n",
              "    <tr>\n",
              "      <td>1557</td>\n",
              "      <td>1.0</td>\n",
              "    </tr>\n",
              "  </tbody>\n",
              "</table>\n",
              "<p>1682 rows × 1 columns</p>\n",
              "</div>"
            ],
            "text/plain": [
              "      rating\n",
              "item        \n",
              "1189     5.0\n",
              "1293     5.0\n",
              "1467     5.0\n",
              "814      5.0\n",
              "1500     5.0\n",
              "...      ...\n",
              "1575     1.0\n",
              "1340     1.0\n",
              "852      1.0\n",
              "1576     1.0\n",
              "1557     1.0\n",
              "\n",
              "[1682 rows x 1 columns]"
            ]
          },
          "metadata": {
            "tags": []
          },
          "execution_count": 60
        }
      ]
    },
    {
      "cell_type": "code",
      "metadata": {
        "id": "uXzDQVkxBqLD",
        "outputId": "48a3343e-4839-4865-9d15-ef78b0053da1"
      },
      "source": [
        "list(mra[0:5].index)"
      ],
      "execution_count": null,
      "outputs": [
        {
          "output_type": "execute_result",
          "data": {
            "text/plain": [
              "['1189', '1293', '1467', '814', '1500']"
            ]
          },
          "metadata": {
            "tags": []
          },
          "execution_count": 61
        }
      ]
    },
    {
      "cell_type": "code",
      "metadata": {
        "id": "smpypp8CBqLM",
        "outputId": "17dcc92c-c5ec-47c8-f549-777a1b99897e"
      },
      "source": [
        "test_df[test_df.item.isin(list(mra[0:5].index))]"
      ],
      "execution_count": null,
      "outputs": [
        {
          "output_type": "execute_result",
          "data": {
            "text/html": [
              "<div>\n",
              "<style scoped>\n",
              "    .dataframe tbody tr th:only-of-type {\n",
              "        vertical-align: middle;\n",
              "    }\n",
              "\n",
              "    .dataframe tbody tr th {\n",
              "        vertical-align: top;\n",
              "    }\n",
              "\n",
              "    .dataframe thead th {\n",
              "        text-align: right;\n",
              "    }\n",
              "</style>\n",
              "<table border=\"1\" class=\"dataframe\">\n",
              "  <thead>\n",
              "    <tr style=\"text-align: right;\">\n",
              "      <th></th>\n",
              "      <th>user</th>\n",
              "      <th>item</th>\n",
              "      <th>rating</th>\n",
              "      <th>timestamp</th>\n",
              "    </tr>\n",
              "  </thead>\n",
              "  <tbody>\n",
              "    <tr>\n",
              "      <td>49046</td>\n",
              "      <td>146</td>\n",
              "      <td>1293</td>\n",
              "      <td>5.0</td>\n",
              "      <td>891458080</td>\n",
              "    </tr>\n",
              "  </tbody>\n",
              "</table>\n",
              "</div>"
            ],
            "text/plain": [
              "      user  item  rating  timestamp\n",
              "49046  146  1293     5.0  891458080"
            ]
          },
          "metadata": {
            "tags": []
          },
          "execution_count": 62
        }
      ]
    },
    {
      "cell_type": "code",
      "metadata": {
        "id": "tEZ0eoYjBqLS",
        "outputId": "3b91a831-b788-49cb-ad26-07a3501e256d"
      },
      "source": [
        "df_vci=train_df.item.value_counts()\n",
        "df_vci[df_vci>4].index"
      ],
      "execution_count": null,
      "outputs": [
        {
          "output_type": "execute_result",
          "data": {
            "text/plain": [
              "Index(['50', '100', '181', '1', '258', '174', '121', '288', '294', '56',\n",
              "       ...\n",
              "       '1301', '868', '1416', '1138', '1427', '104', '666', '1517', '1597',\n",
              "       '1592'],\n",
              "      dtype='object', length=1337)"
            ]
          },
          "metadata": {
            "tags": []
          },
          "execution_count": 63
        }
      ]
    },
    {
      "cell_type": "code",
      "metadata": {
        "id": "M49rh7dEBqLZ",
        "outputId": "cec16c7a-2552-413a-bc8b-2217926d97f6"
      },
      "source": [
        "#средние оценки для фильмов, у которых больше 4 оценок (б)\n",
        "mrb= mean_raitng[mean_raitng.index.isin(df_vci[df_vci>4].index)].sort_values(['rating'], ascending=False)\n",
        "mrb"
      ],
      "execution_count": null,
      "outputs": [
        {
          "output_type": "execute_result",
          "data": {
            "text/html": [
              "<div>\n",
              "<style scoped>\n",
              "    .dataframe tbody tr th:only-of-type {\n",
              "        vertical-align: middle;\n",
              "    }\n",
              "\n",
              "    .dataframe tbody tr th {\n",
              "        vertical-align: top;\n",
              "    }\n",
              "\n",
              "    .dataframe thead th {\n",
              "        text-align: right;\n",
              "    }\n",
              "</style>\n",
              "<table border=\"1\" class=\"dataframe\">\n",
              "  <thead>\n",
              "    <tr style=\"text-align: right;\">\n",
              "      <th></th>\n",
              "      <th>rating</th>\n",
              "    </tr>\n",
              "    <tr>\n",
              "      <th>item</th>\n",
              "      <th></th>\n",
              "    </tr>\n",
              "  </thead>\n",
              "  <tbody>\n",
              "    <tr>\n",
              "      <td>1449</td>\n",
              "      <td>4.625000</td>\n",
              "    </tr>\n",
              "    <tr>\n",
              "      <td>169</td>\n",
              "      <td>4.482456</td>\n",
              "    </tr>\n",
              "    <tr>\n",
              "      <td>318</td>\n",
              "      <td>4.474048</td>\n",
              "    </tr>\n",
              "    <tr>\n",
              "      <td>408</td>\n",
              "      <td>4.472222</td>\n",
              "    </tr>\n",
              "    <tr>\n",
              "      <td>483</td>\n",
              "      <td>4.470085</td>\n",
              "    </tr>\n",
              "    <tr>\n",
              "      <td>...</td>\n",
              "      <td>...</td>\n",
              "    </tr>\n",
              "    <tr>\n",
              "      <td>1287</td>\n",
              "      <td>1.333333</td>\n",
              "    </tr>\n",
              "    <tr>\n",
              "      <td>424</td>\n",
              "      <td>1.315789</td>\n",
              "    </tr>\n",
              "    <tr>\n",
              "      <td>438</td>\n",
              "      <td>1.166667</td>\n",
              "    </tr>\n",
              "    <tr>\n",
              "      <td>439</td>\n",
              "      <td>1.000000</td>\n",
              "    </tr>\n",
              "    <tr>\n",
              "      <td>437</td>\n",
              "      <td>1.000000</td>\n",
              "    </tr>\n",
              "  </tbody>\n",
              "</table>\n",
              "<p>1337 rows × 1 columns</p>\n",
              "</div>"
            ],
            "text/plain": [
              "        rating\n",
              "item          \n",
              "1449  4.625000\n",
              "169   4.482456\n",
              "318   4.474048\n",
              "408   4.472222\n",
              "483   4.470085\n",
              "...        ...\n",
              "1287  1.333333\n",
              "424   1.315789\n",
              "438   1.166667\n",
              "439   1.000000\n",
              "437   1.000000\n",
              "\n",
              "[1337 rows x 1 columns]"
            ]
          },
          "metadata": {
            "tags": []
          },
          "execution_count": 64
        }
      ]
    },
    {
      "cell_type": "code",
      "metadata": {
        "id": "9Xy-X-FvBqLf",
        "outputId": "ac3de41c-8607-4baf-fe53-4d208e2d4a48"
      },
      "source": [
        "list(mrb[0:5].index)"
      ],
      "execution_count": null,
      "outputs": [
        {
          "output_type": "execute_result",
          "data": {
            "text/plain": [
              "['1449', '169', '318', '408', '483']"
            ]
          },
          "metadata": {
            "tags": []
          },
          "execution_count": 65
        }
      ]
    },
    {
      "cell_type": "code",
      "metadata": {
        "id": "LWC31ZERBqLl",
        "outputId": "ad769d52-c458-4d2b-a65f-afc13ae274ab"
      },
      "source": [
        "test_df[test_df.item.isin(list(mrb[0:5].index))]"
      ],
      "execution_count": null,
      "outputs": [
        {
          "output_type": "execute_result",
          "data": {
            "text/html": [
              "<div>\n",
              "<style scoped>\n",
              "    .dataframe tbody tr th:only-of-type {\n",
              "        vertical-align: middle;\n",
              "    }\n",
              "\n",
              "    .dataframe tbody tr th {\n",
              "        vertical-align: top;\n",
              "    }\n",
              "\n",
              "    .dataframe thead th {\n",
              "        text-align: right;\n",
              "    }\n",
              "</style>\n",
              "<table border=\"1\" class=\"dataframe\">\n",
              "  <thead>\n",
              "    <tr style=\"text-align: right;\">\n",
              "      <th></th>\n",
              "      <th>user</th>\n",
              "      <th>item</th>\n",
              "      <th>rating</th>\n",
              "      <th>timestamp</th>\n",
              "    </tr>\n",
              "  </thead>\n",
              "  <tbody>\n",
              "    <tr>\n",
              "      <td>14635</td>\n",
              "      <td>163</td>\n",
              "      <td>318</td>\n",
              "      <td>4.0</td>\n",
              "      <td>891220161</td>\n",
              "    </tr>\n",
              "    <tr>\n",
              "      <td>17767</td>\n",
              "      <td>172</td>\n",
              "      <td>483</td>\n",
              "      <td>3.0</td>\n",
              "      <td>875538028</td>\n",
              "    </tr>\n",
              "    <tr>\n",
              "      <td>21572</td>\n",
              "      <td>359</td>\n",
              "      <td>408</td>\n",
              "      <td>5.0</td>\n",
              "      <td>886453239</td>\n",
              "    </tr>\n",
              "    <tr>\n",
              "      <td>28736</td>\n",
              "      <td>512</td>\n",
              "      <td>318</td>\n",
              "      <td>5.0</td>\n",
              "      <td>888579569</td>\n",
              "    </tr>\n",
              "    <tr>\n",
              "      <td>30909</td>\n",
              "      <td>9</td>\n",
              "      <td>483</td>\n",
              "      <td>5.0</td>\n",
              "      <td>886960056</td>\n",
              "    </tr>\n",
              "    <tr>\n",
              "      <td>36085</td>\n",
              "      <td>202</td>\n",
              "      <td>318</td>\n",
              "      <td>1.0</td>\n",
              "      <td>879727116</td>\n",
              "    </tr>\n",
              "    <tr>\n",
              "      <td>36285</td>\n",
              "      <td>575</td>\n",
              "      <td>483</td>\n",
              "      <td>3.0</td>\n",
              "      <td>878148137</td>\n",
              "    </tr>\n",
              "    <tr>\n",
              "      <td>46457</td>\n",
              "      <td>516</td>\n",
              "      <td>169</td>\n",
              "      <td>5.0</td>\n",
              "      <td>891290685</td>\n",
              "    </tr>\n",
              "    <tr>\n",
              "      <td>55722</td>\n",
              "      <td>609</td>\n",
              "      <td>408</td>\n",
              "      <td>5.0</td>\n",
              "      <td>886896185</td>\n",
              "    </tr>\n",
              "    <tr>\n",
              "      <td>59059</td>\n",
              "      <td>212</td>\n",
              "      <td>318</td>\n",
              "      <td>5.0</td>\n",
              "      <td>879303928</td>\n",
              "    </tr>\n",
              "    <tr>\n",
              "      <td>61609</td>\n",
              "      <td>594</td>\n",
              "      <td>483</td>\n",
              "      <td>3.0</td>\n",
              "      <td>874786695</td>\n",
              "    </tr>\n",
              "    <tr>\n",
              "      <td>62397</td>\n",
              "      <td>80</td>\n",
              "      <td>483</td>\n",
              "      <td>5.0</td>\n",
              "      <td>887401328</td>\n",
              "    </tr>\n",
              "    <tr>\n",
              "      <td>63488</td>\n",
              "      <td>723</td>\n",
              "      <td>169</td>\n",
              "      <td>4.0</td>\n",
              "      <td>880498938</td>\n",
              "    </tr>\n",
              "    <tr>\n",
              "      <td>66084</td>\n",
              "      <td>822</td>\n",
              "      <td>408</td>\n",
              "      <td>5.0</td>\n",
              "      <td>891037291</td>\n",
              "    </tr>\n",
              "    <tr>\n",
              "      <td>71210</td>\n",
              "      <td>700</td>\n",
              "      <td>318</td>\n",
              "      <td>4.0</td>\n",
              "      <td>884494420</td>\n",
              "    </tr>\n",
              "    <tr>\n",
              "      <td>72499</td>\n",
              "      <td>700</td>\n",
              "      <td>169</td>\n",
              "      <td>3.0</td>\n",
              "      <td>884493862</td>\n",
              "    </tr>\n",
              "    <tr>\n",
              "      <td>75219</td>\n",
              "      <td>415</td>\n",
              "      <td>483</td>\n",
              "      <td>5.0</td>\n",
              "      <td>879439791</td>\n",
              "    </tr>\n",
              "    <tr>\n",
              "      <td>75535</td>\n",
              "      <td>333</td>\n",
              "      <td>483</td>\n",
              "      <td>4.0</td>\n",
              "      <td>891045496</td>\n",
              "    </tr>\n",
              "    <tr>\n",
              "      <td>77841</td>\n",
              "      <td>613</td>\n",
              "      <td>318</td>\n",
              "      <td>5.0</td>\n",
              "      <td>891227299</td>\n",
              "    </tr>\n",
              "    <tr>\n",
              "      <td>80443</td>\n",
              "      <td>785</td>\n",
              "      <td>318</td>\n",
              "      <td>4.0</td>\n",
              "      <td>879439232</td>\n",
              "    </tr>\n",
              "    <tr>\n",
              "      <td>83300</td>\n",
              "      <td>583</td>\n",
              "      <td>483</td>\n",
              "      <td>5.0</td>\n",
              "      <td>879384338</td>\n",
              "    </tr>\n",
              "    <tr>\n",
              "      <td>83976</td>\n",
              "      <td>822</td>\n",
              "      <td>169</td>\n",
              "      <td>4.0</td>\n",
              "      <td>891037394</td>\n",
              "    </tr>\n",
              "    <tr>\n",
              "      <td>85458</td>\n",
              "      <td>575</td>\n",
              "      <td>318</td>\n",
              "      <td>5.0</td>\n",
              "      <td>878148087</td>\n",
              "    </tr>\n",
              "    <tr>\n",
              "      <td>91313</td>\n",
              "      <td>941</td>\n",
              "      <td>408</td>\n",
              "      <td>5.0</td>\n",
              "      <td>875048886</td>\n",
              "    </tr>\n",
              "    <tr>\n",
              "      <td>96491</td>\n",
              "      <td>876</td>\n",
              "      <td>318</td>\n",
              "      <td>5.0</td>\n",
              "      <td>879428406</td>\n",
              "    </tr>\n",
              "    <tr>\n",
              "      <td>96598</td>\n",
              "      <td>744</td>\n",
              "      <td>483</td>\n",
              "      <td>4.0</td>\n",
              "      <td>881171452</td>\n",
              "    </tr>\n",
              "  </tbody>\n",
              "</table>\n",
              "</div>"
            ],
            "text/plain": [
              "      user item  rating  timestamp\n",
              "14635  163  318     4.0  891220161\n",
              "17767  172  483     3.0  875538028\n",
              "21572  359  408     5.0  886453239\n",
              "28736  512  318     5.0  888579569\n",
              "30909    9  483     5.0  886960056\n",
              "36085  202  318     1.0  879727116\n",
              "36285  575  483     3.0  878148137\n",
              "46457  516  169     5.0  891290685\n",
              "55722  609  408     5.0  886896185\n",
              "59059  212  318     5.0  879303928\n",
              "61609  594  483     3.0  874786695\n",
              "62397   80  483     5.0  887401328\n",
              "63488  723  169     4.0  880498938\n",
              "66084  822  408     5.0  891037291\n",
              "71210  700  318     4.0  884494420\n",
              "72499  700  169     3.0  884493862\n",
              "75219  415  483     5.0  879439791\n",
              "75535  333  483     4.0  891045496\n",
              "77841  613  318     5.0  891227299\n",
              "80443  785  318     4.0  879439232\n",
              "83300  583  483     5.0  879384338\n",
              "83976  822  169     4.0  891037394\n",
              "85458  575  318     5.0  878148087\n",
              "91313  941  408     5.0  875048886\n",
              "96491  876  318     5.0  879428406\n",
              "96598  744  483     4.0  881171452"
            ]
          },
          "metadata": {
            "tags": []
          },
          "execution_count": 66
        }
      ]
    },
    {
      "cell_type": "code",
      "metadata": {
        "id": "18JL3MA2BqLs"
      },
      "source": [
        "def MAP_at_n(df_ratings_all, n=10,threshold=5):\n",
        "    users=df_ratings_all['userID'].unique()\n",
        "    map_at_n=0\n",
        "    for i in users:\n",
        "        df_ratings=df_ratings_all[df_ratings_all.userID==i]\n",
        "        map_at_n=map_at_n+Avg_Precision_at_n(df_ratings,n=n,threshold=threshold)\n",
        "    return map_at_n/len(users)   "
      ],
      "execution_count": null,
      "outputs": []
    },
    {
      "cell_type": "code",
      "metadata": {
        "id": "TsPsfuN1BqLy"
      },
      "source": [
        ""
      ],
      "execution_count": null,
      "outputs": []
    },
    {
      "cell_type": "code",
      "metadata": {
        "id": "PHFbsL5HBqL5"
      },
      "source": [
        ""
      ],
      "execution_count": null,
      "outputs": []
    }
  ]
}