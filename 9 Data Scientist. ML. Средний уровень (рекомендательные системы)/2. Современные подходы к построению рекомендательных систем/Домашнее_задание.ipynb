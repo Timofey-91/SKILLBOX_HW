{
 "cells": [
  {
   "cell_type": "markdown",
   "metadata": {
    "id": "UgvFosALas47"
   },
   "source": [
    "## Домашнее задание\n",
    "\n",
    "Вам нужно написать следующий пайплайн:\n",
    "1. Получить эмбединги пользователей с помощью SVD.\n",
    "2. Подать их в нейронную сеть, которую вы делали на практическом занятии.\n",
    "Она принимает на вход пользователей и эмбединг айтомов, далее объединяет их в два полносвязанных слоя. На последнем слое выдаёт прогноз с функцией активации сигмоид.\n",
    "3. Обучить сеть.\n"
   ]
  },
  {
   "cell_type": "code",
   "execution_count": 1,
   "metadata": {
    "id": "NTqwTR2Dapxb"
   },
   "outputs": [],
   "source": [
    "### YOUR CODE HERE ###\n",
    "import pandas as pd\n",
    "import numpy as np\n",
    "import tensorflow as tf\n",
    "from surprise import Dataset, Reader, SVD, accuracy\n",
    "from surprise.model_selection import GridSearchCV\n",
    "from sklearn.model_selection import train_test_split\n",
    "from pathlib import Path\n",
    "from keras.callbacks import EarlyStopping, ReduceLROnPlateau\n",
    "from keras.models import Model\n",
    "from tensorflow.keras.utils import plot_model\n",
    "from keras.layers import Input, Dense"
   ]
  },
  {
   "cell_type": "code",
   "execution_count": 2,
   "metadata": {},
   "outputs": [
    {
     "name": "stdout",
     "output_type": "stream",
     "text": [
      "Наименьшая RMSE достигается при числе факторов 30 и равна: 0.9335589454674162\n"
     ]
    }
   ],
   "source": [
    "data = Dataset.load_builtin('ml-100k')\n",
    "# Подбор оптимального n_factors\n",
    "param_grid = {'n_factors': [2, 5, 10, 15, 20, 30, 40, 50, 70, 100]}\n",
    "gs = GridSearchCV(SVD, param_grid, measures=['rmse'], cv=5, n_jobs=-1)\n",
    "gs.fit(data)\n",
    "n_factors = gs.best_params['rmse']['n_factors']\n",
    "print(\n",
    "    f\"Наименьшая RMSE достигается при числе факторов {n_factors} и равна: {gs.best_score['rmse']}\")"
   ]
  },
  {
   "cell_type": "code",
   "execution_count": 3,
   "metadata": {},
   "outputs": [
    {
     "data": {
      "text/html": [
       "<div>\n",
       "<style scoped>\n",
       "    .dataframe tbody tr th:only-of-type {\n",
       "        vertical-align: middle;\n",
       "    }\n",
       "\n",
       "    .dataframe tbody tr th {\n",
       "        vertical-align: top;\n",
       "    }\n",
       "\n",
       "    .dataframe thead th {\n",
       "        text-align: right;\n",
       "    }\n",
       "</style>\n",
       "<table border=\"1\" class=\"dataframe\">\n",
       "  <thead>\n",
       "    <tr style=\"text-align: right;\">\n",
       "      <th></th>\n",
       "      <th>userID</th>\n",
       "      <th>itemID</th>\n",
       "      <th>rating</th>\n",
       "    </tr>\n",
       "  </thead>\n",
       "  <tbody>\n",
       "    <tr>\n",
       "      <th>0</th>\n",
       "      <td>196</td>\n",
       "      <td>242</td>\n",
       "      <td>3</td>\n",
       "    </tr>\n",
       "    <tr>\n",
       "      <th>1</th>\n",
       "      <td>186</td>\n",
       "      <td>302</td>\n",
       "      <td>3</td>\n",
       "    </tr>\n",
       "    <tr>\n",
       "      <th>2</th>\n",
       "      <td>22</td>\n",
       "      <td>377</td>\n",
       "      <td>1</td>\n",
       "    </tr>\n",
       "    <tr>\n",
       "      <th>3</th>\n",
       "      <td>244</td>\n",
       "      <td>51</td>\n",
       "      <td>2</td>\n",
       "    </tr>\n",
       "    <tr>\n",
       "      <th>4</th>\n",
       "      <td>166</td>\n",
       "      <td>346</td>\n",
       "      <td>1</td>\n",
       "    </tr>\n",
       "  </tbody>\n",
       "</table>\n",
       "</div>"
      ],
      "text/plain": [
       "   userID  itemID  rating\n",
       "0     196     242       3\n",
       "1     186     302       3\n",
       "2      22     377       1\n",
       "3     244      51       2\n",
       "4     166     346       1"
      ]
     },
     "execution_count": 3,
     "metadata": {},
     "output_type": "execute_result"
    }
   ],
   "source": [
    "df = pd.DataFrame(data.raw_ratings, columns = ['userID', 'itemID', 'rating',  '_']).iloc[:, :-1]\n",
    "df = df.astype({'userID': 'int64', 'itemID': 'int64', 'rating': 'int64'})\n",
    "df.head()"
   ]
  },
  {
   "cell_type": "code",
   "execution_count": 4,
   "metadata": {},
   "outputs": [],
   "source": [
    "reader = Reader(rating_scale=(1, 5))\n",
    "data = Dataset.load_from_df(df[['userID', 'itemID', 'rating']], reader)"
   ]
  },
  {
   "cell_type": "code",
   "execution_count": 5,
   "metadata": {},
   "outputs": [],
   "source": [
    "trainset = data.build_full_trainset()\n",
    "testset = trainset.build_anti_testset()"
   ]
  },
  {
   "cell_type": "code",
   "execution_count": 6,
   "metadata": {},
   "outputs": [],
   "source": [
    "# Функция подготовки эмбеддингов\n",
    "def emb_data(df, n_factors):\n",
    "    X = []\n",
    "    y = []\n",
    "    algo = SVD(n_factors=n_factors,random_state=17, verbose=False).fit(trainset)\n",
    "    for row in df.itertuples():\n",
    "        user_id = row[1]\n",
    "        item_id = row[2]\n",
    "        rating = row[3]\n",
    "        user_emb = algo.pu[user_id - 1]\n",
    "        item_emb = algo.qi[item_id - 1]\n",
    "        X.append(np.concatenate((user_emb, item_emb)))\n",
    "        if rating > 3:\n",
    "            y.append(1)\n",
    "        else:\n",
    "            y.append(0)\n",
    "    return np.array(X), np.array(y)\n",
    "\n",
    "\n",
    "X, y = emb_data(df, n_factors)"
   ]
  },
  {
   "cell_type": "code",
   "execution_count": 7,
   "metadata": {},
   "outputs": [],
   "source": [
    "X_train, X_test, y_train, y_test = train_test_split(X, y, test_size=0.2)"
   ]
  },
  {
   "cell_type": "code",
   "execution_count": 8,
   "metadata": {},
   "outputs": [
    {
     "name": "stdout",
     "output_type": "stream",
     "text": [
      "Model: \"model\"\n",
      "_________________________________________________________________\n",
      " Layer (type)                Output Shape              Param #   \n",
      "=================================================================\n",
      " input_1 (InputLayer)        [(None, 60)]              0         \n",
      "                                                                 \n",
      " dense (Dense)               (None, 256)               15616     \n",
      "                                                                 \n",
      " dropout (Dropout)           (None, 256)               0         \n",
      "                                                                 \n",
      " dense_1 (Dense)             (None, 128)               32896     \n",
      "                                                                 \n",
      " dropout_1 (Dropout)         (None, 128)               0         \n",
      "                                                                 \n",
      " dense_2 (Dense)             (None, 1)                 129       \n",
      "                                                                 \n",
      "=================================================================\n",
      "Total params: 48,641\n",
      "Trainable params: 48,641\n",
      "Non-trainable params: 0\n",
      "_________________________________________________________________\n"
     ]
    }
   ],
   "source": [
    "# Model\n",
    "def get_model(input_dim):\n",
    "\n",
    "    input = tf.keras.layers.Input(input_dim,)\n",
    "    layer = tf.keras.layers.Dense(256, activation='relu')(input)\n",
    "    layer = tf.keras.layers.Dropout(0.1)(layer)\n",
    "    layer = tf.keras.layers.Dense(128, activation='relu')(layer)\n",
    "    layer = tf.keras.layers.Dropout(0.1)(layer)\n",
    "    output = tf.keras.layers.Dense(1, activation='sigmoid')(layer)\n",
    "    \n",
    "    model = tf.keras.Model(inputs = input, outputs = output)\n",
    "    \n",
    "    model.compile(optimizer='adam', \n",
    "                  loss='binary_crossentropy', \n",
    "                  metrics=[\"accuracy\"],\n",
    "                  )\n",
    "    return model\n",
    "    \n",
    "model = get_model(n_factors*2)\n",
    "early_stopper = EarlyStopping(monitor='accuracy', min_delta=0, patience=5, mode='auto')\n",
    "reduce_lr = ReduceLROnPlateau(monitor='loss', factor=0.2,\n",
    "                              patience=5, min_lr=1e-5)\n",
    "\n",
    "model.summary()"
   ]
  },
  {
   "cell_type": "code",
   "execution_count": 9,
   "metadata": {},
   "outputs": [
    {
     "name": "stdout",
     "output_type": "stream",
     "text": [
      "Epoch 1/20\n",
      "625/625 [==============================] - 11s 14ms/step - loss: 0.6706 - accuracy: 0.5825 - val_loss: 0.6543 - val_accuracy: 0.6128\n",
      "Epoch 2/20\n",
      "625/625 [==============================] - 9s 15ms/step - loss: 0.6421 - accuracy: 0.6306 - val_loss: 0.6385 - val_accuracy: 0.6326\n",
      "Epoch 3/20\n",
      "625/625 [==============================] - 8s 13ms/step - loss: 0.6239 - accuracy: 0.6515 - val_loss: 0.6274 - val_accuracy: 0.6459\n",
      "Epoch 4/20\n",
      "625/625 [==============================] - 9s 14ms/step - loss: 0.6122 - accuracy: 0.6629 - val_loss: 0.6207 - val_accuracy: 0.6544\n",
      "Epoch 5/20\n",
      "625/625 [==============================] - 9s 14ms/step - loss: 0.6018 - accuracy: 0.6741 - val_loss: 0.6177 - val_accuracy: 0.6551\n",
      "Epoch 6/20\n",
      "625/625 [==============================] - 9s 14ms/step - loss: 0.5933 - accuracy: 0.6829 - val_loss: 0.6148 - val_accuracy: 0.6624\n",
      "Epoch 7/20\n",
      "625/625 [==============================] - 9s 14ms/step - loss: 0.5857 - accuracy: 0.6882 - val_loss: 0.6157 - val_accuracy: 0.6596\n",
      "Epoch 8/20\n",
      "625/625 [==============================] - 9s 15ms/step - loss: 0.5790 - accuracy: 0.6946 - val_loss: 0.6127 - val_accuracy: 0.6633\n",
      "Epoch 9/20\n",
      "625/625 [==============================] - 9s 15ms/step - loss: 0.5708 - accuracy: 0.7011 - val_loss: 0.6158 - val_accuracy: 0.6654\n",
      "Epoch 10/20\n",
      "625/625 [==============================] - 11s 18ms/step - loss: 0.5653 - accuracy: 0.7056 - val_loss: 0.6229 - val_accuracy: 0.6595\n",
      "Epoch 11/20\n",
      "625/625 [==============================] - 13s 20ms/step - loss: 0.5598 - accuracy: 0.7111 - val_loss: 0.6132 - val_accuracy: 0.6663\n",
      "Epoch 12/20\n",
      "625/625 [==============================] - 11s 18ms/step - loss: 0.5541 - accuracy: 0.7160 - val_loss: 0.6117 - val_accuracy: 0.6679\n",
      "Epoch 13/20\n",
      "625/625 [==============================] - 11s 18ms/step - loss: 0.5491 - accuracy: 0.7199 - val_loss: 0.6141 - val_accuracy: 0.6645\n",
      "Epoch 14/20\n",
      "625/625 [==============================] - 12s 19ms/step - loss: 0.5447 - accuracy: 0.7230 - val_loss: 0.6186 - val_accuracy: 0.6623\n",
      "Epoch 15/20\n",
      "625/625 [==============================] - 11s 18ms/step - loss: 0.5394 - accuracy: 0.7280 - val_loss: 0.6176 - val_accuracy: 0.6668\n",
      "Epoch 16/20\n",
      "625/625 [==============================] - 13s 20ms/step - loss: 0.5354 - accuracy: 0.7302 - val_loss: 0.6192 - val_accuracy: 0.66760s - loss: 0.5351 - \n",
      "Epoch 17/20\n",
      "625/625 [==============================] - 13s 21ms/step - loss: 0.5302 - accuracy: 0.7343 - val_loss: 0.6197 - val_accuracy: 0.6673\n",
      "Epoch 18/20\n",
      "625/625 [==============================] - 11s 17ms/step - loss: 0.5270 - accuracy: 0.7354 - val_loss: 0.6201 - val_accuracy: 0.6704\n",
      "Epoch 19/20\n",
      "625/625 [==============================] - 10s 16ms/step - loss: 0.5219 - accuracy: 0.7401 - val_loss: 0.6213 - val_accuracy: 0.6653\n",
      "Epoch 20/20\n",
      "625/625 [==============================] - 10s 15ms/step - loss: 0.5171 - accuracy: 0.7426 - val_loss: 0.6256 - val_accuracy: 0.6639\n"
     ]
    }
   ],
   "source": [
    "hist = model.fit(X_train, y_train,\n",
    "    batch_size=128,\n",
    "    epochs=20,\n",
    "    shuffle=True,\n",
    "    validation_data=(X_test, y_test))"
   ]
  },
  {
   "cell_type": "code",
   "execution_count": null,
   "metadata": {},
   "outputs": [],
   "source": []
  }
 ],
 "metadata": {
  "colab": {
   "collapsed_sections": [],
   "name": "Домашнее задание",
   "private_outputs": true,
   "provenance": []
  },
  "kernelspec": {
   "display_name": "Python 3",
   "language": "python",
   "name": "python3"
  },
  "language_info": {
   "codemirror_mode": {
    "name": "ipython",
    "version": 3
   },
   "file_extension": ".py",
   "mimetype": "text/x-python",
   "name": "python",
   "nbconvert_exporter": "python",
   "pygments_lexer": "ipython3",
   "version": "3.7.4"
  }
 },
 "nbformat": 4,
 "nbformat_minor": 1
}
