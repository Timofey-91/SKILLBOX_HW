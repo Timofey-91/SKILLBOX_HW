{
  "nbformat": 4,
  "nbformat_minor": 0,
  "metadata": {
    "colab": {
      "name": "jun_ml_extra_tech_boost_practice.ipynb",
      "provenance": [],
      "collapsed_sections": []
    },
    "kernelspec": {
      "display_name": "Python 3",
      "language": "python",
      "name": "python3"
    },
    "language_info": {
      "codemirror_mode": {
        "name": "ipython",
        "version": 3
      },
      "file_extension": ".py",
      "mimetype": "text/x-python",
      "name": "python",
      "nbconvert_exporter": "python",
      "pygments_lexer": "ipython3",
      "version": "3.6.3"
    }
  },
  "cells": [
    {
      "cell_type": "markdown",
      "metadata": {
        "id": "9NwnorwhwdsQ"
      },
      "source": [
        "# Boosting\n",
        "\n",
        "### Задание 1.\n",
        "\n",
        "Мы упоминали о том, что у функция потерь AdaBoost имеет более жесткий штраф по отношению к ошибкам классификации, чем другие часто используемые функции. Реализуйте функции logloss и AdaBoost loss, которые возвращают значения штрафов, и посмотрите по графику, насколько сильно они отличаются (примем x = y * y^)."
      ]
    },
    {
      "cell_type": "code",
      "metadata": {
        "id": "i6KQPaszwdsR"
      },
      "source": [
        "import numpy as np\n",
        "import matplotlib.pyplot as plt\n",
        "\n",
        "%matplotlib inline\n",
        "\n",
        "x = np.linspace(-2, 1, 300)\n",
        "\n",
        "def logloss(x):\n",
        "    # ваш код\n",
        "    pass\n",
        "\n",
        "def AdaLoss(x):\n",
        "    # ваш код\n",
        "    pass\n",
        "\n",
        "plt.figure(figsize=(10, 4))\n",
        "plt.plot(x, logloss(x), label='logloss')\n",
        "plt.plot(x, AdaLoss(x), label='AdaLoss')\n",
        "plt.legend(loc='best')\n",
        "plt.xlabel('X')\n",
        "plt.ylabel('Loss')\n",
        "\n",
        "x_check = np.array([-2, 0, 2])\n",
        "y_log = np.array([2.127, 0.693, 0.127])\n",
        "y_ada = np.array([7.389, 1., 0.135])\n",
        "\n",
        "assert np.allclose(logloss(x_check), y_log, atol=1e-3), f'Function logloss is not verified'\n",
        "assert np.allclose(AdaLoss(x_check), y_ada, atol=1e-3), f'Function AdaLoss is not verified'"
      ],
      "execution_count": null,
      "outputs": []
    },
    {
      "cell_type": "markdown",
      "metadata": {
        "id": "5RCtG3jrwdsT"
      },
      "source": [
        "### Задание 2.\n",
        "\n",
        "Когда дело доходит до оптимизации алгоритма, зачастую достаточно сложно подобрать сразу такие параметры, при которых качество классификатора было бы максимальным. В этом помогает либо опыт работы с различными методами, либо уже отмеченные другими специалистами взаимосвязи между количеством данных, самим алгоритмом, различными гиперпараметрами и т.п.\n",
        "\n",
        "В случае с бустингом было отмечено, что количество деревьев, при котором качество алгоритма максимально, зависит от темпа обучения: чем меньше темп, тем больше деревьев обычно требуется. \n",
        "\n",
        "В этом задании попробуйте последовательно подобрать такие гиперпараметры n_estimators и learning_rate в алгоритме GBC, чтобы accuracy была равна 1: сначала последовательно увеличивайте количество базовых деревьев, не меняя при этом learning_rate, а затем поменяйте количество деревьев снова на 1 и уже меняйте гиперпараметр learning_rate в пределах (0, 1), не включая границы. Если  accuracy не будет равна 1 при граничном значении learning_rate, добавляйте по одному базовому алгоритму и смотрите, что получится (напомним, что зависимость нелинейная - при значительном увеличении learning_rate количество деревьев может увеличиться всего на одну-две позиции.\n",
        "\n",
        "Сначала запустите следующий код со сгенерированными данными."
      ]
    },
    {
      "cell_type": "code",
      "metadata": {
        "id": "9JdKtgJNwdsU",
        "outputId": "8530125a-cffa-42e4-862a-0017a8383b0f"
      },
      "source": [
        "from sklearn.ensemble import GradientBoostingClassifier\n",
        "from sklearn.metrics import accuracy_score\n",
        "import numpy as np\n",
        "import matplotlib.pyplot as plt\n",
        "\n",
        "%matplotlib inline\n",
        "\n",
        "def plot(alg, data, target):\n",
        "    xx, yy = np.meshgrid(np.linspace(0., 1., 100), np.linspace(0., 1., 100))\n",
        "    Z = alg.predict(np.c_[xx.ravel(), yy.ravel()])\n",
        "    Z = Z.reshape(xx.shape)\n",
        "    \n",
        "    plt.contourf(xx, yy, Z, levels=10, cmap=plt.cm.bwr, alpha=0.3)\n",
        "    \n",
        "    plt.scatter(data[:, 0], data[:, 1], s=20, c=targets)\n",
        "    \n",
        "    plt.xlim((0, 1))\n",
        "    plt.ylim((0, 1))\n",
        "    \n",
        "\n",
        "np.random.seed(15)\n",
        "data = np.random.rand(100, 2)\n",
        "targets = np.empty(100)\n",
        "targets[1 / data[:, 1] > 2] = 1\n",
        "targets[1 / data[:, 1] < 3] = 0\n",
        "targets[1 / data[:, 1] > 10] = 0\n",
        "targets[[1, 3, 6, 15, 36]] = 1\n",
        "\n",
        "plt.scatter(data[:, 0], data[:, 1], s=40, c=targets)"
      ],
      "execution_count": null,
      "outputs": [
        {
          "output_type": "execute_result",
          "data": {
            "text/plain": [
              "<matplotlib.collections.PathCollection at 0x7f0cf509b7b8>"
            ]
          },
          "metadata": {
            "tags": []
          },
          "execution_count": 1
        },
        {
          "output_type": "display_data",
          "data": {
            "image/png": "[encoded data removed]",
            "text/plain": [
              "<Figure size 432x288 with 1 Axes>"
            ]
          },
          "metadata": {
            "tags": []
          }
        }
      ]
    },
    {
      "cell_type": "markdown",
      "metadata": {
        "id": "zAqCz9hnwdsY"
      },
      "source": [
        "В следующей ячейке можете подбирать параметры алгоритма."
      ]
    },
    {
      "cell_type": "code",
      "metadata": {
        "id": "k6PwTXsDwdsZ"
      },
      "source": [
        "gbc = GradientBoostingClassifier(n_estimators=1, learning_rate=0.1) # подгонка гиперпараметров\n",
        "model = gbc.fit(data, targets)\n",
        "pred = gbc.predict(data)\n",
        "plot(gbc, data, targets)\n",
        "\n",
        "print(f'Accuracy: {accuracy_score(targets, pred)}')"
      ],
      "execution_count": null,
      "outputs": []
    }
  ]
}