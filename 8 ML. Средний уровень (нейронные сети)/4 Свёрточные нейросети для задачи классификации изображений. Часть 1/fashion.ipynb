{
  "nbformat": 4,
  "nbformat_minor": 0,
  "metadata": {
    "colab": {
      "name": "fashion.ipynb",
      "provenance": [],
      "collapsed_sections": []
    },
    "kernelspec": {
      "name": "python3",
      "display_name": "Python 3"
    },
    "accelerator": "GPU"
  },
  "cells": [
    {
      "cell_type": "markdown",
      "metadata": {
        "id": "26VAMDr0cydP"
      },
      "source": [
        "# Сверточная сеть в Keras\n",
        "\n",
        "На лекции мы узнали, что свертки можно комбинировать, применяя друг за другом. Это увеличивает их рецептивное поле и позволяет выучить более сложные признаки. \n",
        "\n",
        "В этом уроке мы с вами обучим нашу первую свертоную нейронную сеть для задачи классификации одежды. Вот как будет выглядеть наш датасет\n",
        "\n",
        "<img src=\"https://1.bp.blogspot.com/-AIPR5UuydTY/WbCLlGEmoAI/AAAAAAAAA2U/Teu6q2FF9LslUL6t6Qn5YjzGWNfHC7y7wCLcBGAs/s1600/fashion-mnist-sprite.png\" width=\"600\">\n",
        "\n",
        "Он называется FashionMnist. Название не случайно похоже на Mnist -- с рукописными цифрами -- FashionMnist придумали как замену Mnist, потому что он стал уж слишком простым для современных нейронных сетей. Как вы помните, на нем мы без труда достигли 97-98% точности. "
      ]
    },
    {
      "cell_type": "markdown",
      "metadata": {
        "id": "GHXizaHzng5e"
      },
      "source": [
        "** перед тем как начать выполнять код мы изменим Runtime на Runtime c GPU. В этом модуле это просто необходимо для ускорения работы*"
      ]
    },
    {
      "cell_type": "code",
      "metadata": {
        "id": "Zx09bGvgLofw",
        "colab": {
          "base_uri": "https://localhost:8080/",
          "height": 35
        },
        "outputId": "e562a571-40f2-48fa-aeb4-6c4305de818e"
      },
      "source": [
        "import tensorflow as tf\n",
        "print(tf.__version__)\n",
        "tf.enable_eager_execution()\n",
        "import matplotlib.pyplot as plt"
      ],
      "execution_count": null,
      "outputs": [
        {
          "output_type": "stream",
          "text": [
            "1.14.0\n"
          ],
          "name": "stdout"
        }
      ]
    },
    {
      "cell_type": "code",
      "metadata": {
        "id": "6GXQQ7qEg5Uf"
      },
      "source": [
        "mapping = {0: \"T-shirt/top\", 1: \"Trouser\", 2: \"Pullover\", 3: \"Dress\",\n",
        "           4: \"Coat\", 5: \"Sandal\", 6: \"Shirt\", 7: \"Sneaker\", 8: \"Bag\",\n",
        "           9: \"Ankle boot\"}  # датасет содержит 10 классов\n",
        "\n",
        "def show_mnist(images, labels, predicted_labels=None):\n",
        "    plt.figure(figsize=(10,10))\n",
        "    for i in range(16):\n",
        "        plt.subplot(4,4, i+1)\n",
        "        plt.xticks([])\n",
        "        plt.yticks([])\n",
        "        plt.grid(False)\n",
        "        plt.imshow(images[i], cmap=plt.cm.gray)\n",
        "        if predicted_labels is not None:\n",
        "            title_obj = plt.title(f\"Real: {mapping[labels[i]]}. Pred: {mapping[predicted_labels[i]]}\")\n",
        "            if labels[i] != predicted_labels[i]:\n",
        "                plt.setp(title_obj, color='r')\n",
        "        else:\n",
        "            plt.title(f\"Real label: {mapping[labels[i]]}\")"
      ],
      "execution_count": null,
      "outputs": []
    },
    {
      "cell_type": "code",
      "metadata": {
        "id": "paUMWfQbhL7a",
        "colab": {
          "base_uri": "https://localhost:8080/",
          "height": 757
        },
        "outputId": "c677b000-9a7c-4751-ab52-23f98cad1f8c"
      },
      "source": [
        "(x_train, y_train),(x_test, y_test) = tf.keras.datasets.fashion_mnist.load_data()\n",
        "x_train, x_test = x_train / 255.0, x_test / 255.0\n",
        "\n",
        "show_mnist(x_train, y_train)\n",
        "print(x_train.shape, x_test.shape)"
      ],
      "execution_count": null,
      "outputs": [
        {
          "output_type": "stream",
          "text": [
            "Downloading data from https://storage.googleapis.com/tensorflow/tf-keras-datasets/train-labels-idx1-ubyte.gz\n",
            "32768/29515 [=================================] - 0s 0us/step\n",
            "Downloading data from https://storage.googleapis.com/tensorflow/tf-keras-datasets/train-images-idx3-ubyte.gz\n",
            "26427392/26421880 [==============================] - 0s 0us/step\n",
            "Downloading data from https://storage.googleapis.com/tensorflow/tf-keras-datasets/t10k-labels-idx1-ubyte.gz\n",
            "8192/5148 [===============================================] - 0s 0us/step\n",
            "Downloading data from https://storage.googleapis.com/tensorflow/tf-keras-datasets/t10k-images-idx3-ubyte.gz\n",
            "4423680/4422102 [==============================] - 0s 0us/step\n",
            "(60000, 28, 28) (10000, 28, 28)\n"
          ],
          "name": "stdout"
        },
        {
          "output_type": "display_data",
          "data": {
            "image/png": "[encoded data removed]",
            "text/plain": [
              "<Figure size 720x720 with 16 Axes>"
            ]
          },
          "metadata": {
            "tags": []
          }
        }
      ]
    },
    {
      "cell_type": "markdown",
      "metadata": {
        "id": "bKeBt3GTicvO"
      },
      "source": [
        "Для начала попробуем обучить на новом датасете полносвязную сеть. В точности такую же как мы обучали ранее."
      ]
    },
    {
      "cell_type": "code",
      "metadata": {
        "id": "wANNsSYuNwFM",
        "colab": {
          "base_uri": "https://localhost:8080/",
          "height": 937
        },
        "outputId": "5038b5e1-9c2b-4266-e6dc-f9a4214d6fbb"
      },
      "source": [
        "model = tf.keras.models.Sequential([\n",
        "    tf.keras.layers.Flatten(input_shape=(28, 28)),\n",
        "    tf.keras.layers.Dense(512, activation='relu'),\n",
        "    tf.keras.layers.Dense(10, activation='softmax')\n",
        "  ])\n",
        "\n",
        "model.summary()\n",
        "model.compile(optimizer='adam',\n",
        "              loss='sparse_categorical_crossentropy',\n",
        "              metrics=['accuracy'])\n",
        "\n",
        "model.fit(x=x_train, y=y_train, \n",
        "          batch_size=128, epochs=15, \n",
        "          validation_data=(x_test, y_test))"
      ],
      "execution_count": null,
      "outputs": [
        {
          "output_type": "stream",
          "text": [
            "Model: \"sequential\"\n",
            "_________________________________________________________________\n",
            "Layer (type)                 Output Shape              Param #   \n",
            "=================================================================\n",
            "flatten (Flatten)            (None, 784)               0         \n",
            "_________________________________________________________________\n",
            "dense (Dense)                (None, 512)               401920    \n",
            "_________________________________________________________________\n",
            "dense_1 (Dense)              (None, 10)                5130      \n",
            "=================================================================\n",
            "Total params: 407,050\n",
            "Trainable params: 407,050\n",
            "Non-trainable params: 0\n",
            "_________________________________________________________________\n",
            "Train on 60000 samples, validate on 10000 samples\n"
          ],
          "name": "stdout"
        },
        {
          "output_type": "stream",
          "text": [
            "WARNING: Logging before flag parsing goes to stderr.\n",
            "W0821 12:58:31.846138 140409205168000 deprecation.py:323] From /usr/local/lib/python3.6/dist-packages/tensorflow/python/ops/math_grad.py:1250: add_dispatch_support.<locals>.wrapper (from tensorflow.python.ops.array_ops) is deprecated and will be removed in a future version.\n",
            "Instructions for updating:\n",
            "Use tf.where in 2.0, which has the same broadcast rule as np.where\n"
          ],
          "name": "stderr"
        },
        {
          "output_type": "stream",
          "text": [
            "Epoch 1/15\n",
            "60000/60000 [==============================] - 2s 41us/sample - loss: 0.4999 - acc: 0.8241 - val_loss: 0.4156 - val_acc: 0.8527\n",
            "Epoch 2/15\n",
            "60000/60000 [==============================] - 1s 24us/sample - loss: 0.3726 - acc: 0.8665 - val_loss: 0.3783 - val_acc: 0.8663\n",
            "Epoch 3/15\n",
            "60000/60000 [==============================] - 1s 24us/sample - loss: 0.3322 - acc: 0.8805 - val_loss: 0.3698 - val_acc: 0.8654\n",
            "Epoch 4/15\n",
            "60000/60000 [==============================] - 1s 24us/sample - loss: 0.3059 - acc: 0.8879 - val_loss: 0.3515 - val_acc: 0.8723\n",
            "Epoch 5/15\n",
            "60000/60000 [==============================] - 1s 23us/sample - loss: 0.2891 - acc: 0.8935 - val_loss: 0.3411 - val_acc: 0.8773\n",
            "Epoch 6/15\n",
            "60000/60000 [==============================] - 1s 23us/sample - loss: 0.2749 - acc: 0.8981 - val_loss: 0.3331 - val_acc: 0.8794\n",
            "Epoch 7/15\n",
            "60000/60000 [==============================] - 1s 24us/sample - loss: 0.2584 - acc: 0.9045 - val_loss: 0.3282 - val_acc: 0.8807\n",
            "Epoch 8/15\n",
            "60000/60000 [==============================] - 1s 24us/sample - loss: 0.2458 - acc: 0.9087 - val_loss: 0.3217 - val_acc: 0.8846\n",
            "Epoch 9/15\n",
            "60000/60000 [==============================] - 1s 23us/sample - loss: 0.2363 - acc: 0.9126 - val_loss: 0.3145 - val_acc: 0.8884\n",
            "Epoch 10/15\n",
            "60000/60000 [==============================] - 1s 23us/sample - loss: 0.2259 - acc: 0.9165 - val_loss: 0.3323 - val_acc: 0.8844\n",
            "Epoch 11/15\n",
            "60000/60000 [==============================] - 1s 23us/sample - loss: 0.2174 - acc: 0.9189 - val_loss: 0.3264 - val_acc: 0.8876\n",
            "Epoch 12/15\n",
            "60000/60000 [==============================] - 1s 24us/sample - loss: 0.2106 - acc: 0.9212 - val_loss: 0.3433 - val_acc: 0.8829\n",
            "Epoch 13/15\n",
            "60000/60000 [==============================] - 1s 23us/sample - loss: 0.2047 - acc: 0.9240 - val_loss: 0.3199 - val_acc: 0.8907\n",
            "Epoch 14/15\n",
            "60000/60000 [==============================] - 1s 23us/sample - loss: 0.1921 - acc: 0.9291 - val_loss: 0.3172 - val_acc: 0.8915\n",
            "Epoch 15/15\n",
            "60000/60000 [==============================] - 1s 23us/sample - loss: 0.1870 - acc: 0.9310 - val_loss: 0.3123 - val_acc: 0.8924\n"
          ],
          "name": "stdout"
        },
        {
          "output_type": "execute_result",
          "data": {
            "text/plain": [
              "<tensorflow.python.keras.callbacks.History at 0x7fb3435481d0>"
            ]
          },
          "metadata": {
            "tags": []
          },
          "execution_count": 5
        }
      ]
    },
    {
      "cell_type": "markdown",
      "metadata": {
        "id": "H8VrCoYNi7FB"
      },
      "source": [
        "Мы смогли достичь точности только около 88%. Сможем ли мы лучше с помощью сверточной нейронной сети? Давайте попробуем."
      ]
    },
    {
      "cell_type": "code",
      "metadata": {
        "id": "J6_bDmltif7q",
        "colab": {
          "base_uri": "https://localhost:8080/",
          "height": 35
        },
        "outputId": "f7d90f42-3f6d-47af-a84f-090805e042be"
      },
      "source": [
        "# помним, что для работы со сверточной сетью нам нужны 4х мерные тензоры -- меняем размеры\n",
        "x_train = x_train[..., None]\n",
        "x_test = x_test[..., None]\n",
        "print(x_train.shape, x_test.shape)"
      ],
      "execution_count": null,
      "outputs": [
        {
          "output_type": "stream",
          "text": [
            "(60000, 28, 28, 1) (10000, 28, 28, 1)\n"
          ],
          "name": "stdout"
        }
      ]
    },
    {
      "cell_type": "markdown",
      "metadata": {
        "id": "lmkyyR6PjqND"
      },
      "source": [
        "Мы построим архитектуру по следующим правилам:\n",
        "*   Будем использовать сверточные слои 3 на 3 с активацией ReLU\n",
        "*   За сверткой будет следовать слой MaxPool\n",
        "*   Количество фильтров при уменьшении тензора в два раза (т.е. после MaxPool)будем увеличивать в два раза\n",
        "\n"
      ]
    },
    {
      "cell_type": "code",
      "metadata": {
        "id": "GyzFL7aEg44E",
        "colab": {
          "base_uri": "https://localhost:8080/",
          "height": 305
        },
        "outputId": "312a3c79-8554-4510-d7b5-66d0d75140eb"
      },
      "source": [
        "model = tf.keras.Sequential()\n",
        "model.add(tf.keras.layers.Conv2D(filters=32, kernel_size=(3, 3), padding='same', \n",
        "                                 activation='relu', input_shape=(28, 28, 1))) \n",
        "model.add(tf.keras.layers.MaxPooling2D(pool_size=2))\n",
        "\n",
        "model.add(tf.keras.layers.Conv2D(filters=64, kernel_size=(3, 3), padding='same', \n",
        "                                 activation='relu'))\n",
        "model.add(tf.keras.layers.MaxPooling2D(pool_size=2))\n",
        "# т.к. мы используем padding='same', значит, после двух пулингов размер уменьшится ровно в два раза. \n",
        "# можем это увидеть на summary\n",
        "model.summary()"
      ],
      "execution_count": null,
      "outputs": [
        {
          "output_type": "stream",
          "text": [
            "Model: \"sequential_1\"\n",
            "_________________________________________________________________\n",
            "Layer (type)                 Output Shape              Param #   \n",
            "=================================================================\n",
            "conv2d (Conv2D)              (None, 28, 28, 32)        320       \n",
            "_________________________________________________________________\n",
            "max_pooling2d (MaxPooling2D) (None, 14, 14, 32)        0         \n",
            "_________________________________________________________________\n",
            "conv2d_1 (Conv2D)            (None, 14, 14, 64)        18496     \n",
            "_________________________________________________________________\n",
            "max_pooling2d_1 (MaxPooling2 (None, 7, 7, 64)          0         \n",
            "=================================================================\n",
            "Total params: 18,816\n",
            "Trainable params: 18,816\n",
            "Non-trainable params: 0\n",
            "_________________________________________________________________\n"
          ],
          "name": "stdout"
        }
      ]
    },
    {
      "cell_type": "markdown",
      "metadata": {
        "id": "p7RNvaAwlCmT"
      },
      "source": [
        "Мы получили тензор размера (7,7,64). Как же мы можем превратить его в классы? Очень просто! Мы уже умеем это делать для полносвязных сетей. Давайте и здесь применем полносвязные слои, чтобы предсказать 10 классов. \n",
        "\n",
        "Только перед тем как мы применем полносвязный слой -- мы должны \"вытянуть\" то, что мы ему подаем в строчку, ведь он ожидает вектор а не многомерный тензор.\n",
        "\n",
        "Воспользуемся **tf.keras.layers.Flatten()**."
      ]
    },
    {
      "cell_type": "code",
      "metadata": {
        "id": "J3ptQ1IOj84Z",
        "colab": {
          "base_uri": "https://localhost:8080/",
          "height": 521
        },
        "outputId": "35c6b644-ab5a-4cc0-ca14-5ef2e1ae10a0"
      },
      "source": [
        "model.add(tf.keras.layers.Flatten())\n",
        "model.add(tf.keras.layers.Dense(64, activation='relu'))\n",
        "model.add(tf.keras.layers.Dense(10, activation='softmax'))\n",
        "model.summary()"
      ],
      "execution_count": null,
      "outputs": [
        {
          "output_type": "stream",
          "text": [
            "Model: \"sequential_1\"\n",
            "_________________________________________________________________\n",
            "Layer (type)                 Output Shape              Param #   \n",
            "=================================================================\n",
            "conv2d (Conv2D)              (None, 28, 28, 32)        320       \n",
            "_________________________________________________________________\n",
            "max_pooling2d (MaxPooling2D) (None, 14, 14, 32)        0         \n",
            "_________________________________________________________________\n",
            "conv2d_1 (Conv2D)            (None, 14, 14, 64)        18496     \n",
            "_________________________________________________________________\n",
            "max_pooling2d_1 (MaxPooling2 (None, 7, 7, 64)          0         \n",
            "_________________________________________________________________\n",
            "flatten_1 (Flatten)          (None, 3136)              0         \n",
            "_________________________________________________________________\n",
            "dense_2 (Dense)              (None, 64)                200768    \n",
            "_________________________________________________________________\n",
            "dense_3 (Dense)              (None, 10)                650       \n",
            "_________________________________________________________________\n",
            "flatten_2 (Flatten)          (None, 10)                0         \n",
            "_________________________________________________________________\n",
            "dense_4 (Dense)              (None, 64)                704       \n",
            "_________________________________________________________________\n",
            "dense_5 (Dense)              (None, 10)                650       \n",
            "=================================================================\n",
            "Total params: 221,588\n",
            "Trainable params: 221,588\n",
            "Non-trainable params: 0\n",
            "_________________________________________________________________\n"
          ],
          "name": "stdout"
        }
      ]
    },
    {
      "cell_type": "markdown",
      "metadata": {
        "id": "Gs1Rk7vUmG9D"
      },
      "source": [
        "Обратите внимание на количество параметров -- почти в два раза меньше, чем для полносвязной сети."
      ]
    },
    {
      "cell_type": "code",
      "metadata": {
        "id": "DQAB_2Sjl_H5"
      },
      "source": [
        "model.compile(optimizer='adam',\n",
        "              loss='sparse_categorical_crossentropy',\n",
        "              metrics=['accuracy'])"
      ],
      "execution_count": null,
      "outputs": []
    },
    {
      "cell_type": "code",
      "metadata": {
        "id": "89SI4JZbmRzR",
        "colab": {
          "base_uri": "https://localhost:8080/",
          "height": 773
        },
        "outputId": "b5523055-0db7-462b-9a18-6a10e1a90554"
      },
      "source": [
        "model.fit(x=x_train, y=y_train, \n",
        "          batch_size=128, epochs=20, \n",
        "          validation_data=(x_test, y_test))"
      ],
      "execution_count": null,
      "outputs": [
        {
          "output_type": "stream",
          "text": [
            "Train on 60000 samples, validate on 10000 samples\n",
            "Epoch 1/20\n",
            "60000/60000 [==============================] - 6s 99us/sample - loss: 0.9897 - acc: 0.6994 - val_loss: 0.5381 - val_acc: 0.7782\n",
            "Epoch 2/20\n",
            "60000/60000 [==============================] - 3s 44us/sample - loss: 0.4726 - acc: 0.8156 - val_loss: 0.4477 - val_acc: 0.8355\n",
            "Epoch 3/20\n",
            "60000/60000 [==============================] - 3s 44us/sample - loss: 0.3511 - acc: 0.8791 - val_loss: 0.3328 - val_acc: 0.8850\n",
            "Epoch 4/20\n",
            "60000/60000 [==============================] - 3s 44us/sample - loss: 0.2814 - acc: 0.9039 - val_loss: 0.2969 - val_acc: 0.9007\n",
            "Epoch 5/20\n",
            "60000/60000 [==============================] - 3s 44us/sample - loss: 0.2457 - acc: 0.9153 - val_loss: 0.2894 - val_acc: 0.9012\n",
            "Epoch 6/20\n",
            "60000/60000 [==============================] - 3s 44us/sample - loss: 0.2188 - acc: 0.9233 - val_loss: 0.2796 - val_acc: 0.9055\n",
            "Epoch 7/20\n",
            "60000/60000 [==============================] - 3s 43us/sample - loss: 0.1947 - acc: 0.9313 - val_loss: 0.2701 - val_acc: 0.9106\n",
            "Epoch 8/20\n",
            "60000/60000 [==============================] - 3s 44us/sample - loss: 0.1721 - acc: 0.9407 - val_loss: 0.2625 - val_acc: 0.9131\n",
            "Epoch 9/20\n",
            "60000/60000 [==============================] - 3s 44us/sample - loss: 0.1545 - acc: 0.9461 - val_loss: 0.2720 - val_acc: 0.9126\n",
            "Epoch 10/20\n",
            "60000/60000 [==============================] - 3s 44us/sample - loss: 0.1390 - acc: 0.9513 - val_loss: 0.2802 - val_acc: 0.9147\n",
            "Epoch 11/20\n",
            "60000/60000 [==============================] - 3s 44us/sample - loss: 0.1237 - acc: 0.9562 - val_loss: 0.2824 - val_acc: 0.9151\n",
            "Epoch 12/20\n",
            "60000/60000 [==============================] - 3s 44us/sample - loss: 0.1127 - acc: 0.9610 - val_loss: 0.2860 - val_acc: 0.9141\n",
            "Epoch 13/20\n",
            "60000/60000 [==============================] - 3s 45us/sample - loss: 0.1003 - acc: 0.9644 - val_loss: 0.2989 - val_acc: 0.9126\n",
            "Epoch 14/20\n",
            "60000/60000 [==============================] - 3s 44us/sample - loss: 0.0883 - acc: 0.9699 - val_loss: 0.3067 - val_acc: 0.9111\n",
            "Epoch 15/20\n",
            "60000/60000 [==============================] - 3s 44us/sample - loss: 0.0812 - acc: 0.9717 - val_loss: 0.3317 - val_acc: 0.9116\n",
            "Epoch 16/20\n",
            "60000/60000 [==============================] - 3s 44us/sample - loss: 0.0716 - acc: 0.9756 - val_loss: 0.3316 - val_acc: 0.9154\n",
            "Epoch 17/20\n",
            "60000/60000 [==============================] - 3s 44us/sample - loss: 0.0649 - acc: 0.9779 - val_loss: 0.3309 - val_acc: 0.9165\n",
            "Epoch 18/20\n",
            "60000/60000 [==============================] - 3s 43us/sample - loss: 0.0621 - acc: 0.9787 - val_loss: 0.3492 - val_acc: 0.9130\n",
            "Epoch 19/20\n",
            "60000/60000 [==============================] - 3s 43us/sample - loss: 0.0506 - acc: 0.9830 - val_loss: 0.3746 - val_acc: 0.9149\n",
            "Epoch 20/20\n",
            "60000/60000 [==============================] - 3s 43us/sample - loss: 0.0480 - acc: 0.9836 - val_loss: 0.3697 - val_acc: 0.9169\n"
          ],
          "name": "stdout"
        },
        {
          "output_type": "execute_result",
          "data": {
            "text/plain": [
              "<tensorflow.python.keras.callbacks.History at 0x7fb3302b2710>"
            ]
          },
          "metadata": {
            "tags": []
          },
          "execution_count": 11
        }
      ]
    },
    {
      "cell_type": "markdown",
      "metadata": {
        "id": "Yk7k8-Vnm91H"
      },
      "source": [
        "Мы получили точность около 91%, что уже лучше, чем точность полносвязной сети для этой же задачи. При этом том, в нашей сети почти в два раза меньше параметров. Мы можем еще увеличить точность немного изменив архитектуру:"
      ]
    },
    {
      "cell_type": "code",
      "metadata": {
        "id": "0Poe1qXVqsJu",
        "colab": {
          "base_uri": "https://localhost:8080/",
          "height": 485
        },
        "outputId": "cbbc82e6-6780-4ed5-900c-5c96a9260390"
      },
      "source": [
        "# обратите внимание, сейчас перед пуллингом используется два светочных слоя\n",
        "model = tf.keras.Sequential()\n",
        "model.add(tf.keras.layers.Conv2D(filters=32, kernel_size=(3, 3), padding='same', \n",
        "                                 activation='relu', input_shape=(28, 28, 1))) \n",
        "model.add(tf.keras.layers.Conv2D(filters=32, kernel_size=(3, 3), padding='same', \n",
        "                                 activation='relu')) \n",
        "model.add(tf.keras.layers.MaxPooling2D(pool_size=2))\n",
        "\n",
        "model.add(tf.keras.layers.Conv2D(filters=64, kernel_size=(3, 3), padding='same', \n",
        "                                 activation='relu'))\n",
        "model.add(tf.keras.layers.Conv2D(filters=64, kernel_size=(3, 3), padding='same', \n",
        "                                 activation='relu'))\n",
        "model.add(tf.keras.layers.MaxPooling2D(pool_size=2))\n",
        "\n",
        "model.add(tf.keras.layers.Flatten())\n",
        "model.add(tf.keras.layers.Dense(64, activation='relu'))\n",
        "model.add(tf.keras.layers.Dense(10, activation='softmax'))\n",
        "model.summary()\n",
        "\n",
        "model.compile(optimizer='adam',\n",
        "              loss='sparse_categorical_crossentropy',\n",
        "              metrics=['accuracy'])"
      ],
      "execution_count": null,
      "outputs": [
        {
          "output_type": "stream",
          "text": [
            "Model: \"sequential_2\"\n",
            "_________________________________________________________________\n",
            "Layer (type)                 Output Shape              Param #   \n",
            "=================================================================\n",
            "conv2d_2 (Conv2D)            (None, 28, 28, 32)        320       \n",
            "_________________________________________________________________\n",
            "conv2d_3 (Conv2D)            (None, 28, 28, 32)        9248      \n",
            "_________________________________________________________________\n",
            "max_pooling2d_2 (MaxPooling2 (None, 14, 14, 32)        0         \n",
            "_________________________________________________________________\n",
            "conv2d_4 (Conv2D)            (None, 14, 14, 64)        18496     \n",
            "_________________________________________________________________\n",
            "conv2d_5 (Conv2D)            (None, 14, 14, 64)        36928     \n",
            "_________________________________________________________________\n",
            "max_pooling2d_3 (MaxPooling2 (None, 7, 7, 64)          0         \n",
            "_________________________________________________________________\n",
            "flatten_3 (Flatten)          (None, 3136)              0         \n",
            "_________________________________________________________________\n",
            "dense_6 (Dense)              (None, 64)                200768    \n",
            "_________________________________________________________________\n",
            "dense_7 (Dense)              (None, 10)                650       \n",
            "=================================================================\n",
            "Total params: 266,410\n",
            "Trainable params: 266,410\n",
            "Non-trainable params: 0\n",
            "_________________________________________________________________\n"
          ],
          "name": "stdout"
        }
      ]
    },
    {
      "cell_type": "code",
      "metadata": {
        "id": "6FeX54o2rHXf",
        "colab": {
          "base_uri": "https://localhost:8080/",
          "height": 773
        },
        "outputId": "7699e68f-1627-4ff2-f7e7-92a000853523"
      },
      "source": [
        "model.fit(x=x_train, y=y_train, \n",
        "          batch_size=128, epochs=20, \n",
        "          validation_data=(x_test, y_test))"
      ],
      "execution_count": null,
      "outputs": [
        {
          "output_type": "stream",
          "text": [
            "Train on 60000 samples, validate on 10000 samples\n",
            "Epoch 1/20\n",
            "60000/60000 [==============================] - 5s 83us/sample - loss: 0.4977 - acc: 0.8197 - val_loss: 0.3557 - val_acc: 0.8648\n",
            "Epoch 2/20\n",
            "60000/60000 [==============================] - 5s 76us/sample - loss: 0.2877 - acc: 0.8969 - val_loss: 0.2708 - val_acc: 0.9021\n",
            "Epoch 3/20\n",
            "60000/60000 [==============================] - 5s 76us/sample - loss: 0.2338 - acc: 0.9142 - val_loss: 0.2440 - val_acc: 0.9131\n",
            "Epoch 4/20\n",
            "60000/60000 [==============================] - 5s 76us/sample - loss: 0.2008 - acc: 0.9266 - val_loss: 0.2224 - val_acc: 0.9195\n",
            "Epoch 5/20\n",
            "60000/60000 [==============================] - 5s 76us/sample - loss: 0.1755 - acc: 0.9362 - val_loss: 0.2128 - val_acc: 0.9223\n",
            "Epoch 6/20\n",
            "60000/60000 [==============================] - 5s 76us/sample - loss: 0.1539 - acc: 0.9439 - val_loss: 0.2167 - val_acc: 0.9233\n",
            "Epoch 7/20\n",
            "60000/60000 [==============================] - 5s 76us/sample - loss: 0.1355 - acc: 0.9500 - val_loss: 0.2213 - val_acc: 0.9240\n",
            "Epoch 8/20\n",
            "60000/60000 [==============================] - 5s 76us/sample - loss: 0.1192 - acc: 0.9560 - val_loss: 0.2091 - val_acc: 0.9290\n",
            "Epoch 9/20\n",
            "60000/60000 [==============================] - 5s 76us/sample - loss: 0.1053 - acc: 0.9602 - val_loss: 0.2364 - val_acc: 0.9255\n",
            "Epoch 10/20\n",
            "60000/60000 [==============================] - 5s 75us/sample - loss: 0.0887 - acc: 0.9668 - val_loss: 0.2431 - val_acc: 0.9250\n",
            "Epoch 11/20\n",
            "60000/60000 [==============================] - 4s 75us/sample - loss: 0.0724 - acc: 0.9727 - val_loss: 0.2807 - val_acc: 0.9211\n",
            "Epoch 12/20\n",
            "60000/60000 [==============================] - 4s 75us/sample - loss: 0.0627 - acc: 0.9767 - val_loss: 0.2835 - val_acc: 0.9264\n",
            "Epoch 13/20\n",
            "60000/60000 [==============================] - 5s 75us/sample - loss: 0.0535 - acc: 0.9798 - val_loss: 0.3105 - val_acc: 0.9220\n",
            "Epoch 14/20\n",
            "60000/60000 [==============================] - 5s 75us/sample - loss: 0.0444 - acc: 0.9837 - val_loss: 0.3295 - val_acc: 0.9247\n",
            "Epoch 15/20\n",
            "60000/60000 [==============================] - 4s 75us/sample - loss: 0.0403 - acc: 0.9853 - val_loss: 0.3273 - val_acc: 0.9219\n",
            "Epoch 16/20\n",
            "60000/60000 [==============================] - 4s 74us/sample - loss: 0.0353 - acc: 0.9873 - val_loss: 0.3575 - val_acc: 0.9242\n",
            "Epoch 17/20\n",
            "60000/60000 [==============================] - 4s 75us/sample - loss: 0.0326 - acc: 0.9873 - val_loss: 0.3849 - val_acc: 0.9232\n",
            "Epoch 18/20\n",
            "60000/60000 [==============================] - 4s 74us/sample - loss: 0.0284 - acc: 0.9890 - val_loss: 0.4043 - val_acc: 0.9254\n",
            "Epoch 19/20\n",
            "60000/60000 [==============================] - 4s 75us/sample - loss: 0.0258 - acc: 0.9910 - val_loss: 0.4648 - val_acc: 0.9215\n",
            "Epoch 20/20\n",
            "60000/60000 [==============================] - 4s 74us/sample - loss: 0.0256 - acc: 0.9903 - val_loss: 0.4426 - val_acc: 0.9214\n"
          ],
          "name": "stdout"
        },
        {
          "output_type": "execute_result",
          "data": {
            "text/plain": [
              "<tensorflow.python.keras.callbacks.History at 0x7fc812157e80>"
            ]
          },
          "metadata": {
            "tags": []
          },
          "execution_count": 11
        }
      ]
    },
    {
      "cell_type": "markdown",
      "metadata": {
        "id": "oDwnSMIour8r"
      },
      "source": [
        "Как выбрать архитектуру? Как мы обсуждали ранее -- однозначного ответа на этот вопрос нет. Всегда нужно эксперементировать и только так узнавать что лучше подойдет для конкретной задаче. Но через пару уроков мы узнаем про архитектуры, которые уже придумали и продумали за нас и их можно использовать почти без изменений."
      ]
    },
    {
      "cell_type": "markdown",
      "metadata": {
        "id": "3B8w-i-GowO6"
      },
      "source": [
        "# Заключение\n",
        "\n",
        "В этом уроке мы обучили свою первую сверточную нейронную сеть. Мы увидели, что благодаря Keras делать это очень просто.\n",
        "\n",
        "Также мы убедились в том, что такая архитектура больше подходит для изображений. И позволяет достичь бОльшей точности при меньшем количестве параметров. \n",
        "\n",
        "В следующем практическом задании вы научите сеть классифицировать реальные фотографии кошек и собак. Но перед этим мы немного подготовимся к работе с реальными изображениями в следующем уроке.\n"
      ]
    }
  ]
}