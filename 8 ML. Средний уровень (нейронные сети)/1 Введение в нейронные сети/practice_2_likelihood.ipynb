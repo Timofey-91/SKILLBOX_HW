{
  "nbformat": 4,
  "nbformat_minor": 0,
  "metadata": {
    "colab": {
      "name": "1.5_likelihood-practice.ipynb",
      "provenance": [],
      "collapsed_sections": []
    },
    "kernelspec": {
      "name": "python3",
      "display_name": "Python 3"
    }
  },
  "cells": [
    {
      "cell_type": "markdown",
      "metadata": {
        "id": "Nbhpoh-KJZwF"
      },
      "source": [
        "**Задание 1** Реализуйте функции, необходимые для вычисления правдоподобия и логарифма правдоподобия."
      ]
    },
    {
      "cell_type": "code",
      "metadata": {
        "id": "h476vhs2ysAZ"
      },
      "source": [
        "import numpy as np\n",
        "import matplotlib.pyplot as plt"
      ],
      "execution_count": null,
      "outputs": []
    },
    {
      "cell_type": "code",
      "metadata": {
        "id": "p-fV2G3iJYCk"
      },
      "source": [
        "def p_hat(p, y):\n",
        "    # p - предсказанная моделью вероятность класса 1\n",
        "    # y - реальный класс (0 или 1)\n",
        "\n",
        "    # функция должна вернуть вероятность класса y, при предсказании\n",
        "    # модели p\n",
        "\n",
        "    # < YOUR CODE STARTS HERE >\n",
        "    if y == 1:\n",
        "        return p\n",
        "    else:\n",
        "        return (1 - p)\n",
        "    # < YOUR CODE ENDS HERE >\n",
        "\n",
        "def log_p_hat(p, y):\n",
        "    return np.log(p_hat(p, y))\n",
        "\n",
        "def likelihood(ps, ys):\n",
        "    # ps - предсказанные вероятности класса 1 моделю для N объектов\n",
        "    # ys - реальные классы N объектов\n",
        "\n",
        "    # функция должна использовать p_hat и возвращать правдоподобие\n",
        "    \n",
        "    likelihood_ = None\n",
        "    # < YOUR CODE STARTS HERE >\n",
        "    probs = [p_hat(p, y) for (p, y) in zip(ps, ys)]\n",
        "    likelihood_ = np.prod(probs)\n",
        "    # < YOUR CODE ENDS HERE >\n",
        "    return likelihood_\n",
        "\n",
        "def loglikelihood(ps, ys):\n",
        "    # ps - предсказанные вероятности класса 1 моделю для N объектов\n",
        "    # ys - реальные классы N объектов\n",
        "\n",
        "    # функция должна использовать log_p_hat и возвращать логарифм правдоподобия\n",
        "    # (на количество делить не нужно)\n",
        "\n",
        "    p = np.clip(ps, a_min=1e-6, a_max=1-1e-6)\n",
        "    log_probs = [log_p_hat(p, y) for (p, y) in zip(ps, ys)]\n",
        "    loglikelihood_ = None\n",
        "    # < YOUR CODE STARTS HERE >\n",
        "    loglikelihood_ = np.sum(log_probs)\n",
        "    # < YOUR CODE ENDS HERE >\n",
        "    return loglikelihood_\n"
      ],
      "execution_count": null,
      "outputs": []
    },
    {
      "cell_type": "code",
      "metadata": {
        "id": "uJ7JwN8TEcjz",
        "colab": {
          "base_uri": "https://localhost:8080/",
          "height": 35
        },
        "outputId": "2568419b-ef50-4d69-b385-b20f97479791"
      },
      "source": [
        "test_ps = [0.1, 0.2, 0.3, 0.4]\n",
        "test_ys = [0, 1, 0, 1]\n",
        "assert likelihood(test_ps, test_ys) == 0.0504\n",
        "assert np.allclose(np.log(likelihood(test_ps, test_ys)), loglikelihood(test_ps, test_ys))\n",
        "print(\"Tests passed!\")"
      ],
      "execution_count": null,
      "outputs": [
        {
          "output_type": "stream",
          "text": [
            "Tests passed!\n"
          ],
          "name": "stdout"
        }
      ]
    },
    {
      "cell_type": "markdown",
      "metadata": {
        "id": "erB6r92LF_Qu"
      },
      "source": [
        "**Задание 2** Применение принципа максимума правдоподобия на практике.\n",
        "\n",
        "Предположим у нас имеется монетка, подбросив которую 10 раз мы получили следующие результаты (0 -- решка, 1 -- орел):\n",
        "\n",
        "$$\n",
        "y = [1, 0, 1, 1, 1, 1, 0, 0, 0, 1]\n",
        "$$\n",
        "\n",
        "Наша задача узнать \"параметры\" этой монетки, а именно вероятность выпадения орла ($p$).\n",
        "\n",
        "Интуитивно понятно, что $p=0.6$, но давайте теперь получим это значение с помощью принципа максимума правдоподобия. \n",
        "\n",
        "Ваша задача используя код ниже показать что правдоподобие и его логарифм достигают экстремумов в 0.6. Мы будем это делать \"в лоб\". А именно мы посчитаем их значения для всех возможных вероятностей (с шагом 0.01) и визуально оценим их.\n",
        "\n",
        "*Подсказка: монетка это модель, которая не зависит от объекта и имеет только один параметр -- с какой вероятностью она выпадает орлом.*\n"
      ]
    },
    {
      "cell_type": "code",
      "metadata": {
        "id": "geZW5e1kHZe_",
        "colab": {
          "base_uri": "https://localhost:8080/",
          "height": 53
        },
        "outputId": "b2c02d2a-f785-4597-c85d-9e7c19c87f62"
      },
      "source": [
        "coins = np.array([1, 0, 1, 1, 1, 1, 0, 0, 0, 1])\n",
        "\n",
        "N = 100\n",
        "p_to_try =  np.linspace(0, 1, N)\n",
        "\n",
        "# < YOUR CODE STARTS HERE >\n",
        "# Переменная liks должна содержать значения правдоподобия для каждой из 100 вероятностей в p_to_try.\n",
        "# Переменная logliks должна содержать значения логарифма правдоподобия для каждой из 100 вероятностей в p_to_try.\n",
        "\n",
        "liks = [likelihood([p]*10, coins) for p in p_to_try]\n",
        "logliks = [loglikelihood([p]*10, coins) for p in p_to_try]\n",
        "\n",
        "# < YOUR CODE ENDS HERE >"
      ],
      "execution_count": null,
      "outputs": [
        {
          "output_type": "stream",
          "text": [
            "/usr/local/lib/python3.6/dist-packages/ipykernel_launcher.py:16: RuntimeWarning: divide by zero encountered in log\n",
            "  app.launch_new_instance()\n"
          ],
          "name": "stderr"
        }
      ]
    },
    {
      "cell_type": "code",
      "metadata": {
        "id": "hYGVjlPC2wyT",
        "colab": {
          "base_uri": "https://localhost:8080/",
          "height": 355
        },
        "outputId": "1aa48b2e-25f0-4699-91b3-e2252626ea6c"
      },
      "source": [
        "max_lik_ind = np.argmax(liks)\n",
        "max_loglik_ind = np.argmax(logliks)\n",
        "\n",
        "fig = plt.figure(figsize=(15, 5))\n",
        "grid = plt.GridSpec(1, 2)\n",
        "plt.subplot(grid[0, 0])\n",
        "plt.plot(p_to_try, liks)\n",
        "plt.xlabel(\"$p$\")\n",
        "plt.title(f\"Likelihood. Max at $p={p_to_try[max_lik_ind]:.2}$\")\n",
        "plt.scatter(p_to_try[max_lik_ind], liks[max_lik_ind], c='red')\n",
        "\n",
        "plt.subplot(grid[0, 1])\n",
        "plt.plot(p_to_try, -np.array(logliks))\n",
        "plt.scatter(p_to_try[max_loglik_ind], -logliks[max_loglik_ind], c='red')\n",
        "plt.title(f\"Negative Log Likelihood. Min at $p={p_to_try[max_loglik_ind]:.2}$\")\n",
        "_ = plt.xlabel(\"$p$\")"
      ],
      "execution_count": null,
      "outputs": [
        {
          "output_type": "display_data",
          "data": {
            "image/png": "[encoded data removed]",
            "text/plain": [
              "<Figure size 1080x360 with 2 Axes>"
            ]
          },
          "metadata": {
            "tags": []
          }
        }
      ]
    },
    {
      "cell_type": "markdown",
      "metadata": {
        "id": "3xjHYvJi-Xxq"
      },
      "source": [
        "**Задание 3 (бонусное)**\n",
        "Попробуйте доказать что максимум правдоподобия для задачи с монеткой достигается в общем случае при $p = \\frac{m}{N}$ , где $m$ -- количество выпавших единиц, а $N$ -- общее число подбрасываний. *Рекомендуем предварительно воспользоваться логарифмированием (т.е. перейти максимизировать log likelihood)*"
      ]
    },
    {
      "cell_type": "code",
      "metadata": {
        "id": "xoi-S6NNI5GA"
      },
      "source": [
        ""
      ],
      "execution_count": null,
      "outputs": []
    }
  ]
}