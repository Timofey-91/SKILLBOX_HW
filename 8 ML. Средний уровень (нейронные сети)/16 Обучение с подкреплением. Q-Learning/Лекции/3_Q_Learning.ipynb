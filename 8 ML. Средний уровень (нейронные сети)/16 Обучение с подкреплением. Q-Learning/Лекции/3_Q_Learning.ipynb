{
  "nbformat": 4,
  "nbformat_minor": 0,
  "metadata": {
    "accelerator": "GPU",
    "colab": {
      "name": "3_Q_Learning.ipynb",
      "provenance": [],
      "collapsed_sections": []
    },
    "kernelspec": {
      "name": "python3",
      "display_name": "Python 3"
    },
    "language_info": {
      "codemirror_mode": {
        "name": "ipython",
        "version": 3
      },
      "file_extension": ".py",
      "mimetype": "text/x-python",
      "name": "python",
      "nbconvert_exporter": "python",
      "pygments_lexer": "ipython3",
      "version": "3.7.1"
    }
  },
  "cells": [
    {
      "cell_type": "markdown",
      "metadata": {
        "id": "EgshItiNbYmH"
      },
      "source": [
        "# Реализация табличного Q-Learning\n",
        "\n",
        "В этом уроке мы разберем на практике простой алгоритм обучения табличной Q-функции на примере задачи Frozen Lake."
      ]
    },
    {
      "cell_type": "markdown",
      "metadata": {
        "id": "Y1c9g1MHeUCl"
      },
      "source": [
        "### Загрузка библиотек"
      ]
    },
    {
      "cell_type": "code",
      "metadata": {
        "id": "2-zMowjHFz3t"
      },
      "source": [
        "import numpy as np\n",
        "\n",
        "import gym\n",
        "\n",
        "import matplotlib.pyplot as plt\n",
        "%matplotlib inline"
      ],
      "execution_count": null,
      "outputs": []
    },
    {
      "cell_type": "markdown",
      "metadata": {
        "id": "IAGOjhbmg409"
      },
      "source": [
        "### Создание игровой среды\n",
        "Создадим симулятор Frozen Lake."
      ]
    },
    {
      "cell_type": "code",
      "metadata": {
        "id": "mIprlbAyJo18",
        "colab": {
          "base_uri": "https://localhost:8080/",
          "height": 52
        },
        "outputId": "54d443cf-3473-4a12-e9ee-fff5fb739cbd"
      },
      "source": [
        "env = gym.make('FrozenLake-v0', is_slippery=False)\n",
        "\n",
        "NUM_STATES = env.observation_space.n\n",
        "NUM_ACTIONS = env.action_space.n\n",
        "\n",
        "print('States: {}'.format(NUM_STATES))\n",
        "print('Actions: {}'.format(NUM_ACTIONS))"
      ],
      "execution_count": null,
      "outputs": [
        {
          "output_type": "stream",
          "text": [
            "States: 16\n",
            "Actions: 4\n"
          ],
          "name": "stdout"
        }
      ]
    },
    {
      "cell_type": "markdown",
      "metadata": {
        "id": "GjQrZ6wlFHxX"
      },
      "source": [
        "### Параметры обучения\n",
        "\n",
        "* `lr` - скорость обучения (в теории это был параметр `alpha`)\n",
        "* `gamma` - параметр дисконтирования\n",
        "* `NUM_EPISODES` - сколько всего эпизодов игры будем осуществлять\n",
        "* `MAX_STEPS` - максимальное количесвто шагов в рамках одного эпизода. Эпизод может закончиться и раньше. Это ограничение нужно, если агент зашёл в какой-то тупик и там застрял. Или для бесконечных игр/симуляций."
      ]
    },
    {
      "cell_type": "code",
      "metadata": {
        "id": "DWdeWWIHZcC2"
      },
      "source": [
        "lr = 0.8 # learning rate\n",
        "gamma = 0.95 # параметр дисконтирования\n",
        "\n",
        "NUM_EPISODES = 50 # число эпизодов для обучения\n",
        "MAX_STEPS = 100 # максимальное число шагов в эпизоде"
      ],
      "execution_count": null,
      "outputs": []
    },
    {
      "cell_type": "markdown",
      "metadata": {
        "id": "RMqTIKoAF6VG"
      },
      "source": [
        "### Обучение Q-функции\n",
        "\n",
        "Во время обучения удобно следить за разными характеристиками. В данном случае будем собирать данные о длине траектории (как далеко удаётся дойти нашему агенту) по эпизодам и суммарную награду по эпизодам. От эпизода к эпизоду наш агент должен становиться всё лучше и лучше.\n",
        "\n",
        "Создаём Q-функцию (таблицу) и инициализируем её случайными числами. В нашем простом Q-Learning'е во время игры мы всегда будем использовать детерминированную политику (выбор действия строго по Q-функции). Поэтому важно инициализировать Q-функцию так, чтобы агент не застревал в циклах и всё же мог когди-нибудь дойти до цели. В нашем случае, главное -- не занулять те значения Q-функции, которые потенциально могут привести нас к цели (например, нельзя всю таблицу инициализировать нулями). У такой проблемы есть и более элегантное решение, которое мы рассмотрим в других уроках.\n",
        "\n",
        "Далее идёт цикл по эпизодам и цикл по шагам внутри эпизода.\n",
        "\n",
        "В начале каждого эпизода переходим на нулевое состояние `env.reset()`\n",
        "\n",
        "Один шаг обучения состоит в следующем:\n",
        "\n",
        "* Выбор действия `a` по политике с использованием текущей функции Q\n",
        "* Сообщение действия среде, получение следующего состояния `s1`, награды `r` и сигнала о конце эпизода `done`.\n",
        "* Вычисление целевого (нового) значения `Q_target` (по уравнению Беллмана)\n",
        "* Плавное обновление Q функции для старого состояния `s` и действия `a` (с использование learning rate)\n",
        "\n",
        "В конце каждого эпизода смотрим на суммарную накопленную награду."
      ]
    },
    {
      "cell_type": "code",
      "metadata": {
        "id": "gsz97yV_dbce",
        "colab": {
          "base_uri": "https://localhost:8080/",
          "height": 884
        },
        "outputId": "909c3121-339b-440c-fbcb-603554713c63"
      },
      "source": [
        "pathLenList = [] # длины траекторий по эпизодам\n",
        "totalRewardList = [] # суммарные награды по эпизодам\n",
        "\n",
        "# Инициализация Q-функции (таблицы)\n",
        "Q = np.random.rand(NUM_STATES, NUM_ACTIONS)\n",
        "\n",
        "for i in range(NUM_EPISODES):\n",
        "    \n",
        "    s = env.reset()\n",
        "\n",
        "    totalReward = 0\n",
        "    step = 0\n",
        "\n",
        "    while step < MAX_STEPS:\n",
        "        step += 1\n",
        "            \n",
        "        # Выбор действия по текущей политике\n",
        "        a = np.argmax(Q[s,:])\n",
        "        \n",
        "        # Сделать шаг\n",
        "        s1, r, done, _ = env.step(a)\n",
        "        \n",
        "        # Новое (целевое) значение Q-функции\n",
        "        if done:\n",
        "            Q_target = r\n",
        "        else:\n",
        "            Q_target = r + gamma * np.max(Q[s1,:])\n",
        "            \n",
        "        # Обновление Q-функции\n",
        "        Q[s,a] = (1-lr) * Q[s,a] + lr * Q_target\n",
        "        \n",
        "        totalReward += r\n",
        "        s = s1\n",
        "        \n",
        "        # Если конец эпизода\n",
        "        if done:\n",
        "            break\n",
        "            \n",
        "    pathLenList.append(step)\n",
        "    totalRewardList.append(totalReward)\n",
        "    print('Episode {}: Total reward = {}'.format(i, totalReward))        "
      ],
      "execution_count": null,
      "outputs": [
        {
          "output_type": "stream",
          "text": [
            "Episode 0: Total reward = 0.0\n",
            "Episode 1: Total reward = 0.0\n",
            "Episode 2: Total reward = 0.0\n",
            "Episode 3: Total reward = 0.0\n",
            "Episode 4: Total reward = 0.0\n",
            "Episode 5: Total reward = 0.0\n",
            "Episode 6: Total reward = 1.0\n",
            "Episode 7: Total reward = 1.0\n",
            "Episode 8: Total reward = 1.0\n",
            "Episode 9: Total reward = 1.0\n",
            "Episode 10: Total reward = 1.0\n",
            "Episode 11: Total reward = 1.0\n",
            "Episode 12: Total reward = 1.0\n",
            "Episode 13: Total reward = 1.0\n",
            "Episode 14: Total reward = 1.0\n",
            "Episode 15: Total reward = 1.0\n",
            "Episode 16: Total reward = 1.0\n",
            "Episode 17: Total reward = 1.0\n",
            "Episode 18: Total reward = 1.0\n",
            "Episode 19: Total reward = 1.0\n",
            "Episode 20: Total reward = 1.0\n",
            "Episode 21: Total reward = 1.0\n",
            "Episode 22: Total reward = 1.0\n",
            "Episode 23: Total reward = 1.0\n",
            "Episode 24: Total reward = 1.0\n",
            "Episode 25: Total reward = 1.0\n",
            "Episode 26: Total reward = 1.0\n",
            "Episode 27: Total reward = 1.0\n",
            "Episode 28: Total reward = 1.0\n",
            "Episode 29: Total reward = 1.0\n",
            "Episode 30: Total reward = 1.0\n",
            "Episode 31: Total reward = 1.0\n",
            "Episode 32: Total reward = 1.0\n",
            "Episode 33: Total reward = 1.0\n",
            "Episode 34: Total reward = 1.0\n",
            "Episode 35: Total reward = 1.0\n",
            "Episode 36: Total reward = 1.0\n",
            "Episode 37: Total reward = 1.0\n",
            "Episode 38: Total reward = 1.0\n",
            "Episode 39: Total reward = 1.0\n",
            "Episode 40: Total reward = 1.0\n",
            "Episode 41: Total reward = 1.0\n",
            "Episode 42: Total reward = 1.0\n",
            "Episode 43: Total reward = 1.0\n",
            "Episode 44: Total reward = 1.0\n",
            "Episode 45: Total reward = 1.0\n",
            "Episode 46: Total reward = 1.0\n",
            "Episode 47: Total reward = 1.0\n",
            "Episode 48: Total reward = 1.0\n",
            "Episode 49: Total reward = 1.0\n"
          ],
          "name": "stdout"
        }
      ]
    },
    {
      "cell_type": "markdown",
      "metadata": {
        "id": "l6QPpxgvK2yD"
      },
      "source": [
        "Посмотрим на то, как выглядит обученная оптимальная Q-функция"
      ]
    },
    {
      "cell_type": "code",
      "metadata": {
        "id": "kUzYpMzrdnNQ",
        "colab": {
          "base_uri": "https://localhost:8080/",
          "height": 295
        },
        "outputId": "2c2e54ab-57fb-4bbb-c47d-61df7ea411b0"
      },
      "source": [
        "print(Q)"
      ],
      "execution_count": null,
      "outputs": [
        {
          "output_type": "stream",
          "text": [
            "[[0.13337286 0.77378094 0.41401361 0.41388732]\n",
            " [0.55093679 0.17868063 0.30495441 0.24686797]\n",
            " [0.37405414 0.06048323 0.29170413 0.06817322]\n",
            " [0.28041497 0.03363619 0.20873019 0.29170413]\n",
            " [0.37497176 0.81450625 0.41290856 0.44747176]\n",
            " [0.54512121 0.62090806 0.63007305 0.87147257]\n",
            " [0.18204017 0.33329359 0.08584568 0.40655522]\n",
            " [0.81218983 0.36045326 0.86561034 0.52676039]\n",
            " [0.36287346 0.1493284  0.857375   0.45231669]\n",
            " [0.49413933 0.9025     0.4933671  0.49903583]\n",
            " [0.49321519 0.02347978 0.11133676 0.49633763]\n",
            " [0.80170776 0.64325856 0.62376391 0.97782413]\n",
            " [0.23608987 0.62738172 0.87140302 0.90381928]\n",
            " [0.11364623 0.00604246 0.95       0.2230249 ]\n",
            " [0.71850349 0.73827895 1.         0.35274975]\n",
            " [0.70820528 0.43745645 0.22343231 0.38060233]]\n"
          ],
          "name": "stdout"
        }
      ]
    },
    {
      "cell_type": "markdown",
      "metadata": {
        "id": "O5mhKjbxK8ev"
      },
      "source": [
        "Посмотрим на историю длин траекторий. Видно, что сначала агент долго гулял и не мог найти цель (на ранних эпизодах). Потом постепенно он научился находить цель за минимальное количество шагов."
      ]
    },
    {
      "cell_type": "code",
      "metadata": {
        "id": "mGlhKYpcdoR8",
        "colab": {
          "base_uri": "https://localhost:8080/",
          "height": 265
        },
        "outputId": "d7fec802-04a0-4f85-92fc-0de49dd37a4f"
      },
      "source": [
        "plt.plot(pathLenList)\n",
        "plt.grid()"
      ],
      "execution_count": null,
      "outputs": [
        {
          "output_type": "display_data",
          "data": {
            "image/png": "[encoded data removed]",
            "text/plain": [
              "<Figure size 432x288 with 1 Axes>"
            ]
          },
          "metadata": {
            "tags": []
          }
        }
      ]
    },
    {
      "cell_type": "markdown",
      "metadata": {
        "id": "Ft3igyadLQ81"
      },
      "source": [
        "То же самое видно на графике суммарных наград по эпизодам. На ранних эпизодах награда 0 (это значит, что агент либо падал в яму, либо так и не смог завершить эпизод за `MAX_STEPS` шагов). А далее награда 1, то есть агент стал доходить до цели. "
      ]
    },
    {
      "cell_type": "code",
      "metadata": {
        "id": "A91RbeMHdpL4",
        "colab": {
          "base_uri": "https://localhost:8080/",
          "height": 265
        },
        "outputId": "725d5aaf-df30-4ccb-c71f-75d77b591f80"
      },
      "source": [
        "plt.plot(totalRewardList)\n",
        "plt.grid()"
      ],
      "execution_count": null,
      "outputs": [
        {
          "output_type": "display_data",
          "data": {
            "image/png": "[encoded data removed]",
            "text/plain": [
              "<Figure size 432x288 with 1 Axes>"
            ]
          },
          "metadata": {
            "tags": []
          }
        }
      ]
    },
    {
      "cell_type": "markdown",
      "metadata": {
        "id": "NCRcn4ihLo2m"
      },
      "source": [
        "### Запуск симуляции\n",
        "\n",
        "Запустим симуляцию для Frozen Lake так же, как мы делали до этого. Будем использовать стратегию, основанную на обученной оптимальной Q-функции."
      ]
    },
    {
      "cell_type": "code",
      "metadata": {
        "id": "7ZQcB09FZfCC",
        "colab": {
          "base_uri": "https://localhost:8080/",
          "height": 641
        },
        "outputId": "474d2397-2c27-46fd-b934-b9d2a9be1608"
      },
      "source": [
        "totalReward = 0\n",
        "s = env.reset()\n",
        "\n",
        "for _ in range(100):\n",
        "    env.render()\n",
        "    a = np.argmax(Q[s,:]) # выбираем оптимальное действие\n",
        "    s, r, done, _ = env.step(a)\n",
        "    totalReward += r\n",
        "    if done:\n",
        "        env.render()        \n",
        "        break\n",
        "\n",
        "env.close()\n",
        "print('Total reward = {}'.format(totalReward))"
      ],
      "execution_count": null,
      "outputs": [
        {
          "output_type": "stream",
          "text": [
            "\n",
            "\u001b[41mS\u001b[0mFFF\n",
            "FHFH\n",
            "FFFH\n",
            "HFFG\n",
            "  (Down)\n",
            "SFFF\n",
            "\u001b[41mF\u001b[0mHFH\n",
            "FFFH\n",
            "HFFG\n",
            "  (Down)\n",
            "SFFF\n",
            "FHFH\n",
            "\u001b[41mF\u001b[0mFFH\n",
            "HFFG\n",
            "  (Right)\n",
            "SFFF\n",
            "FHFH\n",
            "F\u001b[41mF\u001b[0mFH\n",
            "HFFG\n",
            "  (Down)\n",
            "SFFF\n",
            "FHFH\n",
            "FFFH\n",
            "H\u001b[41mF\u001b[0mFG\n",
            "  (Right)\n",
            "SFFF\n",
            "FHFH\n",
            "FFFH\n",
            "HF\u001b[41mF\u001b[0mG\n",
            "  (Right)\n",
            "SFFF\n",
            "FHFH\n",
            "FFFH\n",
            "HFF\u001b[41mG\u001b[0m\n",
            "Total reward = 1.0\n"
          ],
          "name": "stdout"
        }
      ]
    }
  ]
}