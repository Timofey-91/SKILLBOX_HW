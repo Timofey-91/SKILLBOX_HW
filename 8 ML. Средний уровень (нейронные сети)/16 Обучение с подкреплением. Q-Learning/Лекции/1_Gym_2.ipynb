{
  "nbformat": 4,
  "nbformat_minor": 0,
  "metadata": {
    "accelerator": "GPU",
    "colab": {
      "name": "1_Gym_2.ipynb",
      "provenance": [],
      "collapsed_sections": []
    },
    "kernelspec": {
      "name": "python3",
      "display_name": "Python 3"
    },
    "language_info": {
      "codemirror_mode": {
        "name": "ipython",
        "version": 3
      },
      "file_extension": ".py",
      "mimetype": "text/x-python",
      "name": "python",
      "nbconvert_exporter": "python",
      "pygments_lexer": "ipython3",
      "version": "3.7.1"
    }
  },
  "cells": [
    {
      "cell_type": "markdown",
      "metadata": {
        "id": "EgshItiNbYmH"
      },
      "source": [
        "# Знакомство с Gym (продолжение)\n",
        "\n",
        "В предыдущем уроке мы рассмотрели пример игры `Frozen Lake` и попробовали создать стратегию для игры а неё вручную. Перед тем, как переходить к обучению RL агентов, продолжим знакомство с Gym и рассмотрим пример более сложной игры -- `Pong` (одна из игра Atari). Особенность данной игры, во-первых, в более сложном состоянии, а во-вторых, в более сложном способе визуализации такого состояния. Эта игра будет содержать визуальное состояние, а игровой процесс будет содержать анимацию, поэтому для рендеринга игрового процесса Gym захочет создать дополнительное окно. Но так как мы работаем в Colab и дополнительных окон создать нельзя, нам придётся записывать игровой процесс на видео и потом воспроизводить его."
      ]
    },
    {
      "cell_type": "markdown",
      "metadata": {
        "id": "Y1c9g1MHeUCl"
      },
      "source": [
        "### Загрузка библиотек\n",
        "\n",
        "Кроме Gym нам понадобятся `matplotlib` и `gym.wrappers.Monitor` для визуализации состояния игры."
      ]
    },
    {
      "cell_type": "code",
      "metadata": {
        "id": "2-zMowjHFz3t"
      },
      "source": [
        "import matplotlib.pyplot as plt\n",
        "%matplotlib inline\n",
        "\n",
        "import gym\n",
        "from gym.wrappers import Monitor"
      ],
      "execution_count": null,
      "outputs": []
    },
    {
      "cell_type": "markdown",
      "metadata": {
        "id": "IAGOjhbmg409"
      },
      "source": [
        "### Создание игровой среды\n",
        "\n",
        "Создаём среду игры `Pong` и смотрим на пространства действий и состояний.\n",
        "\n",
        "Состояние теперь это целая RGB картинка -- то, что игрок видит на экране (Размерности 210 на 160).\n",
        "\n",
        "Кроме того, есть 6 действий. По сути, это все достпуные действия на реальной консоли Atari. Просто в случае игры Pong лишь часть этих действий будут к чему-то приводить (в Pong нам просто нужно будет двигать нашу ракетку в одну или в другую сторону, то есть лишь два действия будут реально рабочими).\n"
      ]
    },
    {
      "cell_type": "code",
      "metadata": {
        "id": "mIprlbAyJo18",
        "colab": {
          "base_uri": "https://localhost:8080/",
          "height": 69
        },
        "outputId": "1f3db0d5-5904-4b55-8875-c65cf5dea7a4"
      },
      "source": [
        "env = gym.make('Pong-v0')\n",
        "\n",
        "STATE_SHAPE = env.observation_space.shape\n",
        "NUM_ACTIONS = env.action_space.n\n",
        "ACTION_MEANING = env.unwrapped.get_action_meanings()\n",
        "\n",
        "print('States shape: {}'.format(STATE_SHAPE))\n",
        "print('Actions: {}'.format(NUM_ACTIONS))\n",
        "print('Actions: {}'.format(ACTION_MEANING))"
      ],
      "execution_count": null,
      "outputs": [
        {
          "output_type": "stream",
          "text": [
            "States shape: (210, 160, 3)\n",
            "Actions: 6\n",
            "Actions: ['NOOP', 'FIRE', 'RIGHT', 'LEFT', 'RIGHTFIRE', 'LEFTFIRE']\n"
          ],
          "name": "stdout"
        }
      ]
    },
    {
      "cell_type": "markdown",
      "metadata": {
        "id": "5csT34UM4MlG"
      },
      "source": [
        "### Основные функции Gym"
      ]
    },
    {
      "cell_type": "markdown",
      "metadata": {
        "id": "448m2Qt54MY7"
      },
      "source": [
        "Приведём среду в исходное состояние, получим это состояние (`s`) и визуализируем его (это просто изображение)"
      ]
    },
    {
      "cell_type": "code",
      "metadata": {
        "id": "OcUWhhTwHLyy",
        "colab": {
          "base_uri": "https://localhost:8080/",
          "height": 269
        },
        "outputId": "3ae3090a-52ca-49d8-9991-2496df7c09b2"
      },
      "source": [
        "s = env.reset()\n",
        "_=plt.imshow(s)"
      ],
      "execution_count": null,
      "outputs": [
        {
          "output_type": "display_data",
          "data": {
            "image/png": "[encoded data removed]",
            "text/plain": [
              "<Figure size 432x288 with 1 Axes>"
            ]
          },
          "metadata": {
            "tags": []
          }
        }
      ]
    },
    {
      "cell_type": "markdown",
      "metadata": {
        "id": "_NK7Wwr44fq8"
      },
      "source": [
        "Действия -- это по-прежнему просто числа (индекс действия)"
      ]
    },
    {
      "cell_type": "code",
      "metadata": {
        "id": "rxQjACvNHNul",
        "colab": {
          "base_uri": "https://localhost:8080/",
          "height": 35
        },
        "outputId": "40eca118-dee1-4f89-878f-01c192c9a1e2"
      },
      "source": [
        "a = env.action_space.sample()\n",
        "print(a)"
      ],
      "execution_count": null,
      "outputs": [
        {
          "output_type": "stream",
          "text": [
            "3\n"
          ],
          "name": "stdout"
        }
      ]
    },
    {
      "cell_type": "markdown",
      "metadata": {
        "id": "_515nKj94tA1"
      },
      "source": [
        "Произведем один шаг игры и получим следующее состояние. В первые несколько шагов реальная игра еще не началась и наш противник еще не появился на поле."
      ]
    },
    {
      "cell_type": "code",
      "metadata": {
        "id": "dD-3K5-xHP8y",
        "colab": {
          "base_uri": "https://localhost:8080/",
          "height": 304
        },
        "outputId": "ba63919e-88aa-49b9-c4ae-944dacae5232"
      },
      "source": [
        "s1, r, done, _ = env.step(a)\n",
        "print('Reward: ', r)\n",
        "print('Done? ', done)\n",
        "_=plt.imshow(s1)"
      ],
      "execution_count": null,
      "outputs": [
        {
          "output_type": "stream",
          "text": [
            "Reward:  0.0\n",
            "Done?  False\n"
          ],
          "name": "stdout"
        },
        {
          "output_type": "display_data",
          "data": {
            "image/png": "[encoded data removed]",
            "text/plain": [
              "<Figure size 432x288 with 1 Axes>"
            ]
          },
          "metadata": {
            "tags": []
          }
        }
      ]
    },
    {
      "cell_type": "markdown",
      "metadata": {
        "id": "LQM-JYPF47RJ"
      },
      "source": [
        "### Визуализация игрового процесса"
      ]
    },
    {
      "cell_type": "markdown",
      "metadata": {
        "id": "rl1thmO15B2U"
      },
      "source": [
        "Стандартная визуализация игрового процесса через `env.render()` в Colab работать не будет, так как Gym будет пытаться создать отдельное окно, где он будет рендерить игровую симуляцию (в движении)."
      ]
    },
    {
      "cell_type": "code",
      "metadata": {
        "id": "4LvlYZK7NMVo"
      },
      "source": [
        "# env.render() # не работает в Colab"
      ],
      "execution_count": null,
      "outputs": []
    },
    {
      "cell_type": "markdown",
      "metadata": {
        "id": "y0C9EnIP5Sbj"
      },
      "source": [
        "Один из способов обойти эту проблему -- записать симуляцию на видео (без открытия дополнительных окон) и потом воспроизвести это видео. Можно расценивать это как хак.\n",
        "\n",
        "Для этого нам понадобится установить некоторые дополнительные пакеты и запустить виртуальный дисплей."
      ]
    },
    {
      "cell_type": "code",
      "metadata": {
        "id": "BIffu90ARYnz",
        "colab": {
          "base_uri": "https://localhost:8080/",
          "height": 35
        },
        "outputId": "06082f50-d24c-491c-89cf-c6d4867361c2"
      },
      "source": [
        "if True: # Запустить этот блок нужно лишь один раз\n",
        "  \n",
        "    !apt-get install -y xvfb python-opengl ffmpeg > /dev/null 2>&1\n",
        "    !pip install pyvirtualdisplay > /dev/null 2>&1\n",
        "\n",
        "    from pyvirtualdisplay import Display\n",
        "    display = Display(visible=0, size=(1400, 900))\n",
        "    display.start()"
      ],
      "execution_count": null,
      "outputs": [
        {
          "output_type": "stream",
          "text": [
            "xdpyinfo was not found, X start can not be checked! Please install xdpyinfo!\n"
          ],
          "name": "stderr"
        }
      ]
    },
    {
      "cell_type": "markdown",
      "metadata": {
        "id": "YfzTXYTI5qaX"
      },
      "source": [
        "Для проигрывания видео, можно просто скачать его на свой компьютер и воспросизвести там. Но мы дополниельно создадим функцию для встраивания видеоплеера прямо в Colab. \n",
        "\n",
        "Данная функция `show_video()` ищет видео в папке `./video/` и вставляет его данные прямо в HTML данного Colab ноутбука. Так как видео целиком встраивается в веб-страницу, следует быть аккуратными с очень большими видео файлами."
      ]
    },
    {
      "cell_type": "code",
      "metadata": {
        "id": "ZN-Epu_PSrCK"
      },
      "source": [
        "def show_video():\n",
        "    import glob\n",
        "    import io\n",
        "    import base64\n",
        "    from IPython.display import HTML\n",
        "    from IPython import display as ipythondisplay\n",
        "\n",
        "    mp4list = glob.glob('video/*.mp4')\n",
        "    if len(mp4list) > 0:\n",
        "        mp4 = mp4list[0]\n",
        "        print(mp4)\n",
        "        video = io.open(mp4, 'r+b').read()\n",
        "        encoded = base64.b64encode(video)\n",
        "        ipythondisplay.display(HTML(data='''<video alt=\"test\" autoplay \n",
        "            loop controls style=\"height: 400px;\">\n",
        "            <source src=\"data:video/mp4;base64,{0}\" type=\"video/mp4\" />\n",
        "            </video>'''.format(encoded.decode('ascii'))))\n",
        "    else: \n",
        "        print(\"Could not find video\")"
      ],
      "execution_count": null,
      "outputs": []
    },
    {
      "cell_type": "markdown",
      "metadata": {
        "id": "IrGfgS-M6azS"
      },
      "source": [
        "Для того, чтобы перенаправить визуализацию нашей симуляции в видео файл, создадим объект `env_sim` клсса `Monitor` и будем использовать его вместо `env`\n",
        "\n",
        "Для примера сделаем запись симуляции с одним шагом. \n",
        "\n",
        "* Переходим в начальное состояние с помощью `reset()`. В этот момент Монитор сбрасывает внутреннее состояние, начинает запись видео и захватывает первый кадр (соответствующей первому, текущему состоянию).\n",
        "* Делаем шаг симуляции (функция `step` с действием `a=0`). В этот момент Монитор посылает реальной среде `env` указание \"сделать шаг\" и захватывает очередной кадр (соответствующий новому состоянию).\n",
        "* Заканчиваем симуляцию с помощью `env_sim.close()`. В этот момент Монитор записывает все собранные кадры на диск в видео файл (в папке `./video`)"
      ]
    },
    {
      "cell_type": "code",
      "metadata": {
        "id": "JmYmzfqKRabY"
      },
      "source": [
        "env_sim = Monitor(env, './video', force=True)\n",
        "\n",
        "s = env_sim.reset()\n",
        "s, r, done, _ = env_sim.step(0)\n",
        "env_sim.close()"
      ],
      "execution_count": null,
      "outputs": []
    },
    {
      "cell_type": "markdown",
      "metadata": {
        "id": "RibEW0DA7Apu"
      },
      "source": [
        "Воспроизведем симулацию с помощью функции `show_video()`. Это видео состоит всего из двух кадров (первых двух состояний, в которых мы побывали). Первое состояние имеет неправильный цвет (особенность игры), поэтому видео получилось мерцающим."
      ]
    },
    {
      "cell_type": "code",
      "metadata": {
        "id": "9RgUnCemSsJy",
        "colab": {
          "base_uri": "https://localhost:8080/",
          "height": 439
        },
        "outputId": "51e5bc7b-35b7-4801-9a5b-5056b42414c8"
      },
      "source": [
        "show_video()"
      ],
      "execution_count": null,
      "outputs": [
        {
          "output_type": "stream",
          "text": [
            "video/openaigym.video.0.120.video000000.mp4\n"
          ],
          "name": "stdout"
        },
        {
          "output_type": "display_data",
          "data": {
            "text/html": [
              "<video alt=\"test\" autoplay \n",
              "            loop controls style=\"height: 400px;\">\n",
              "            <source src=\"data:video/mp4;base64,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\" type=\"video/mp4\" />\n",
              "            </video>"
            ],
            "text/plain": [
              "<IPython.core.display.HTML object>"
            ]
          },
          "metadata": {
            "tags": []
          }
        }
      ]
    },
    {
      "cell_type": "markdown",
      "metadata": {
        "id": "qip7da0n7Md9"
      },
      "source": [
        "### Запуск симуляции\n",
        "\n",
        "Теперь давате запустим полноценную симуляцию. Этот приактически такой же, как было в случае с Frozen Lake (спасибо Gym за удобный унифицированный интерфейс). В качестве стратегии будем как раньше использовать выбор случайного действия."
      ]
    },
    {
      "cell_type": "code",
      "metadata": {
        "id": "ou10XT9RTnd3",
        "colab": {
          "base_uri": "https://localhost:8080/",
          "height": 364
        },
        "outputId": "22e0ded8-e47f-492e-fda3-2fc36f312fb8"
      },
      "source": [
        "env_sim = Monitor(env, './video', force=True)\n",
        "\n",
        "s = env_sim.reset()\n",
        "totalReward = 0\n",
        "\n",
        "for _ in range(1000):\n",
        "    env_sim.render()\n",
        "    a = env_sim.action_space.sample() # случайная стратегия\n",
        "    s, r, done, _ = env_sim.step(a)\n",
        "    totalReward += r\n",
        "    if r != 0:\n",
        "        print('New reward = {}'.format(r))\n",
        "    if done:        \n",
        "        break\n",
        "      \n",
        "env_sim.close()\n",
        "\n",
        "print('Total reward = {}'.format(totalReward))"
      ],
      "execution_count": null,
      "outputs": [
        {
          "output_type": "stream",
          "text": [
            "New reward = -1.0\n",
            "New reward = -1.0\n",
            "New reward = -1.0\n",
            "New reward = -1.0\n",
            "New reward = -1.0\n",
            "New reward = -1.0\n",
            "New reward = -1.0\n",
            "New reward = -1.0\n",
            "New reward = -1.0\n",
            "New reward = -1.0\n",
            "New reward = -1.0\n",
            "New reward = -1.0\n",
            "New reward = -1.0\n",
            "New reward = -1.0\n",
            "New reward = -1.0\n",
            "New reward = -1.0\n",
            "New reward = -1.0\n",
            "New reward = -1.0\n",
            "New reward = -1.0\n",
            "Total reward = -19.0\n"
          ],
          "name": "stdout"
        }
      ]
    },
    {
      "cell_type": "markdown",
      "metadata": {
        "id": "A0pqqBux7nSw"
      },
      "source": [
        "Воспроизведём симуляцию"
      ]
    },
    {
      "cell_type": "code",
      "metadata": {
        "id": "0eYNQdFWUnhr",
        "colab": {
          "base_uri": "https://localhost:8080/",
          "height": 439
        },
        "outputId": "e3dd4fc3-359d-4ea4-b34c-4eb598c82778"
      },
      "source": [
        "show_video()"
      ],
      "execution_count": null,
      "outputs": [
        {
          "output_type": "stream",
          "text": [
            "video/openaigym.video.1.120.video000000.mp4\n"
          ],
          "name": "stdout"
        },
        {
          "output_type": "display_data",
          "data": {
            "text/html": [
              "<video alt=\"test\" autoplay \n",
              "            loop controls style=\"height: 400px;\">\n",
              "            <source src=\"data:video/mp4;base64,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\" type=\"video/mp4\" />\n",
              "            </video>"
            ],
            "text/plain": [
              "<IPython.core.display.HTML object>"
            ]
          },
          "metadata": {
            "tags": []
          }
        }
      ]
    },
    {
      "cell_type": "markdown",
      "metadata": {
        "id": "44PsKfe-7sM4"
      },
      "source": [
        "**[Задание 1]** Протестируйте другие игры из Gym: `Assault-v0` и `CarRacing-v0`. А именно, создайте соответствующую среду, монитор для записи видео и цикл симуляции со случайными действиями. В конце должен получиться видео файл с анимацией вашей симуляции (встроенный в Colab).\n",
        "\n",
        "https://gym.openai.com/envs\n",
        "\n",
        "Для некоторых симуляций может потребоваться установить расширение для gym: \n",
        "\n",
        "`!pip install 'gym[atari]'`\n",
        "\n",
        "`!pip install 'gym[box2d]'`"
      ]
    }
  ]
}