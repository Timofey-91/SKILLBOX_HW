{
  "nbformat": 4,
  "nbformat_minor": 0,
  "metadata": {
    "colab": {
      "name": "3.7 Обучение модели в Tensorflow.ipynb",
      "provenance": [],
      "collapsed_sections": []
    },
    "kernelspec": {
      "name": "python3",
      "display_name": "Python 3"
    }
  },
  "cells": [
    {
      "cell_type": "markdown",
      "metadata": {
        "id": "6kuM0Ad00gEi"
      },
      "source": [
        "# Обучение модели в Tensorflow\n",
        "\n",
        "На прошлом уроке мы узнали, как описывать модель. Теперь мы должны понять как определять две другие важные составляющие пайплайна -- лосс функцию и оптимизатор. И наконец, понять как это все соединить вместе."
      ]
    },
    {
      "cell_type": "markdown",
      "metadata": {
        "id": "_w7jiv8kP7gM"
      },
      "source": [
        "##Определение лосс функции\n",
        "\n",
        "На протяжении курса вы познакомились как минимум с тремя типами функций потерь \n",
        "\n",
        "\n",
        "*   MSE (mean squared error) -- для задачи регрессии\n",
        "*   Binary cross entropy -- для задачи бинарной классификации\n",
        "*   Categorical cross entropy -- для задачи многоклассовой классификации\n",
        "\n",
        "Все они реализованы в Keras и находятся в tf.keras.losses:\n",
        "*   tf.keras.losses.MSE()\n",
        "*   tf.keras.losses.binary_crossentropy()\n",
        "*   tf.keras.losses.sparse_categorical_crossentropy()\n"
      ]
    },
    {
      "cell_type": "code",
      "metadata": {
        "id": "Q3jXmnKqR0N9"
      },
      "source": [
        "import tensorflow as tf\n",
        "#tf.enable_eager_execution()"
      ],
      "execution_count": null,
      "outputs": []
    },
    {
      "cell_type": "code",
      "metadata": {
        "id": "keC_WKagSTfB",
        "colab": {
          "base_uri": "https://localhost:8080/",
          "height": 34
        },
        "outputId": "5b2f0fda-a9b8-447e-c4d7-ce44b0960866"
      },
      "source": [
        "import numpy as np\n",
        "\n",
        "y_true = np.random.rand(10)\n",
        "y_pred = np.random.rand(10)\n",
        "\n",
        "# лосс функция принимает предсказанные значение и реальные, и возвращает значение -- все просто\n",
        "print(tf.keras.losses.MSE(y_true=y_true, y_pred=y_pred))"
      ],
      "execution_count": null,
      "outputs": [
        {
          "output_type": "stream",
          "text": [
            "tf.Tensor(0.21203114813561502, shape=(), dtype=float64)\n"
          ],
          "name": "stdout"
        }
      ]
    },
    {
      "cell_type": "code",
      "metadata": {
        "id": "BWBW7YEVtrLW",
        "colab": {
          "base_uri": "https://localhost:8080/",
          "height": 35
        },
        "outputId": "56698e85-729e-4873-f371-a043fc56d191"
      },
      "source": [
        "# Можно проверить, правильно ли она реализована в Keras :)\n",
        "print(np.mean((y_true - y_pred)**2))"
      ],
      "execution_count": null,
      "outputs": [
        {
          "output_type": "stream",
          "text": [
            "0.30679543373769713\n"
          ],
          "name": "stdout"
        }
      ]
    },
    {
      "cell_type": "code",
      "metadata": {
        "id": "l3Qci-dpuQTP",
        "colab": {
          "base_uri": "https://localhost:8080/",
          "height": 53
        },
        "outputId": "b0e7a578-4e06-43cf-acc4-ebb07421c3da"
      },
      "source": [
        "print(tf.keras.losses.binary_crossentropy(np.ones(10), np.ones(10)))\n",
        "\n",
        "loss = tf.keras.losses.BinaryCrossentropy()\n",
        "print(loss(np.ones(10), np.ones(10)))"
      ],
      "execution_count": null,
      "outputs": [
        {
          "output_type": "stream",
          "text": [
            "tf.Tensor(0.0, shape=(), dtype=float64)\n",
            "tf.Tensor(0.0, shape=(), dtype=float64)\n"
          ],
          "name": "stdout"
        }
      ]
    },
    {
      "cell_type": "markdown",
      "metadata": {
        "id": "c1K29G5sUdfM"
      },
      "source": [
        "Но у некоторых функций есть особенности -- например у sparse_categorical_crossentropy. Взгляните на ее сигнатуру ниже:\n",
        "\n",
        "*Если в Colab написать знак вопроса после функции, можно получить ее сигнатуру и описание входных переменных*"
      ]
    },
    {
      "cell_type": "code",
      "metadata": {
        "id": "d_wEdJ1IUbmn"
      },
      "source": [
        "tf.keras.losses.SparseCategoricalCrossentropy?\n",
        "\n",
        "# обратите внимание на from_logits=False, аналогично в tf.keras.losses.BinaryCrossentropy"
      ],
      "execution_count": null,
      "outputs": []
    },
    {
      "cell_type": "markdown",
      "metadata": {
        "id": "voKfQFwMVCEG"
      },
      "source": [
        "Обратите внимание, что она принимает дополнительный параметр -- from_logits. Здесь стоит напомнить, что данную лосс функцию можно считать двумя способами -- из предсказанных вероятностей и из предсказанных логитов. *Мы использовали этот трюк в последнем домашнем задании*. \n",
        "\n",
        "Напомню, что сеть изначально предсказывает логиты, и затем мы превращаем их в вероятности --  с помощью функции активации. Но т.к. мы знаем, что нам предстоит считать лосс, то мы можем не тратить \"силы\" на вычисление вероятностей и посчитать лосс основываясь на логитах (логарифм + экспонента сильно упрощают запись). Мы как бы перебросили активацию из слоя в лосс и оставили “голый” слой без активации. Такая запись проще и вычислительно более стабильная.\n",
        "\n",
        "\n",
        "**Важно помнить, что в случае использования логитов (from_logits=True), последний слой должен быть без активации. Это очень распространенная ошибка. Всегда помните об этом.**\n",
        "\n",
        "Ниже приведем небольшую шпаргалку о том, как комбинировать активацию последнего слоя с лосс функцией:"
      ]
    },
    {
      "cell_type": "markdown",
      "metadata": {
        "id": "DKTYJx1H0Bjn"
      },
      "source": [
        "*Для задачи классификации*\n",
        "![alt text](https://drive.google.com/uc?export=view&id=1meej-OaIyY4ix00j1zHtBQbkRpwwlA2f)\n",
        "![alt text](https://drive.google.com/uc?export=view&id=15XvkHAUN6z23RI1UgtBJe94sQ1KNlqiq)\n",
        "*Для задачи регрессии*\n",
        "![alt text](https://drive.google.com/uc?export=view&id=1gGkI7RO_tdyaMr8I77ia5BTkJ1kqzo7F)"
      ]
    },
    {
      "cell_type": "markdown",
      "metadata": {
        "id": "P9H8nw02WwR5"
      },
      "source": [
        "## Определение оптимизатора\n",
        "\n",
        "С оптимизатором -- все аналогично. Они живут в tf.keras.optimizers. Например:\n",
        "*  tf.keras.optimizers.Adam\n",
        "*  tf.keras.optimizers.SGD и многие другие.\n",
        "\n",
        "Каждый из оптимизаторов имеет свои параметры, но все разделяют общий -- learning rate."
      ]
    },
    {
      "cell_type": "code",
      "metadata": {
        "id": "FPrrLKMEXGAS",
        "colab": {
          "base_uri": "https://localhost:8080/",
          "height": 53
        },
        "outputId": "5e9d05ce-924f-4108-b3f1-b4b5694d57a9"
      },
      "source": [
        "tf.keras.optimizers.Adam, tf.keras.optimizers.SGD()"
      ],
      "execution_count": null,
      "outputs": [
        {
          "output_type": "execute_result",
          "data": {
            "text/plain": [
              "(tensorflow.python.keras.optimizer_v2.adam.Adam,\n",
              " <tensorflow.python.keras.optimizer_v2.gradient_descent.SGD at 0x7f786a38f160>)"
            ]
          },
          "metadata": {
            "tags": []
          },
          "execution_count": 4
        }
      ]
    },
    {
      "cell_type": "markdown",
      "metadata": {
        "id": "VpSOIHLeDRk3"
      },
      "source": [
        "# Собираем все вместе"
      ]
    },
    {
      "cell_type": "markdown",
      "metadata": {
        "id": "Md5HvWF1ZaDg"
      },
      "source": [
        "##Задача регрессии\n",
        "\n",
        "Рассмотрим простую задачу определения коэффициентов зависимости шкалы фаренгейта от цельсия. Это классическая формулировка задачи линейной регрессии. Известно, что эта зависимость линейная -- давайте посчитаем ее параметры, исходя из данных:"
      ]
    },
    {
      "cell_type": "code",
      "metadata": {
        "id": "vI9GVZ8hePYG",
        "colab": {
          "base_uri": "https://localhost:8080/",
          "height": 35
        },
        "outputId": "5ceb11e5-1418-4675-c02c-938470c07066"
      },
      "source": [
        "import tensorflow as tf\n",
        "import numpy as np\n",
        "tf.enable_eager_execution()\n",
        "print(tf.__version__)\n",
        "\n",
        "# определим наш скромный датасет\n",
        "celsius = np.array([-10, -40, 10, 20, 36, 5, -12, 14, 36]).astype(np.float32)\n",
        "fahrenheit = np.array([14., -40., 50., 68., 96.8, 41., 10.4, 57.2, 96.8])"
      ],
      "execution_count": null,
      "outputs": [
        {
          "output_type": "stream",
          "text": [
            "1.14.0\n"
          ],
          "name": "stdout"
        }
      ]
    },
    {
      "cell_type": "code",
      "metadata": {
        "id": "_mL-sD-a7nqq"
      },
      "source": [
        "model = tf.keras.Sequential() # модель состоит из одного слоя с одним выходом и входом.\n",
        "model.add(tf.keras.layers.Dense(1, input_shape=(1,)))\n",
        "\n",
        "optimizer = tf.keras.optimizers.Adam(learning_rate=0.5) \n",
        "loss = tf.keras.losses.MSE"
      ],
      "execution_count": null,
      "outputs": []
    },
    {
      "cell_type": "code",
      "metadata": {
        "id": "npUkFJECUaiu"
      },
      "source": [
        "# cледующий шаг -- компиляция модели: \"связываем\" модель, оптимайзер и лосс\n",
        "model.compile(optimizer=optimizer, loss=loss) "
      ],
      "execution_count": null,
      "outputs": []
    },
    {
      "cell_type": "code",
      "metadata": {
        "id": "qbp6B-bB5aWG"
      },
      "source": [
        "# и наконец, обучение модели с помощью метода model.fit.\n",
        "\n",
        "model.fit?"
      ],
      "execution_count": null,
      "outputs": []
    },
    {
      "cell_type": "markdown",
      "metadata": {
        "id": "e8Y2pZX26HWL"
      },
      "source": [
        " Сигнатура выглядит следующим образом (часть параметров, которые мы не будем использовать в ближайшее время скрыта).\n",
        "\n",
        "```\n",
        "model.fit(x=None, y=None, batch_size=None, epochs=1, validation_data=None, shuffle=True, ...)\n",
        "```\n",
        "\n",
        "*   x, y -- обучающая выборка, входные признаки и ответы\n",
        "*   batch_size -- размер батча при обучении\n",
        "*   epochs -- количество эпох\n",
        "*   validation_data -- данные для валидации, например, (x_val, y_val)\n",
        "*   shuffle -- перемешивать данные при обучении или нет\n",
        "\n",
        "\n"
      ]
    },
    {
      "cell_type": "code",
      "metadata": {
        "id": "5V2WZp6F5yCG",
        "colab": {
          "base_uri": "https://localhost:8080/",
          "height": 1000
        },
        "outputId": "5ab75769-e424-40ba-e635-4d5a8dddc2c6"
      },
      "source": [
        "history = model.fit(celsius, fahrenheit, epochs=200, verbose=2)"
      ],
      "execution_count": null,
      "outputs": [
        {
          "output_type": "stream",
          "text": [
            "Epoch 1/200\n",
            "9/9 - 0s - loss: 3713.9521\n",
            "Epoch 2/200\n",
            "9/9 - 0s - loss: 2557.6189\n",
            "Epoch 3/200\n",
            "9/9 - 0s - loss: 1705.2397\n",
            "Epoch 4/200\n",
            "9/9 - 0s - loss: 1151.2064\n",
            "Epoch 5/200\n",
            "9/9 - 0s - loss: 872.1020\n",
            "Epoch 6/200\n",
            "9/9 - 0s - loss: 818.5604\n",
            "Epoch 7/200\n",
            "9/9 - 0s - loss: 913.2064\n",
            "Epoch 8/200\n",
            "9/9 - 0s - loss: 1063.7827\n",
            "Epoch 9/200\n",
            "9/9 - 0s - loss: 1189.8436\n",
            "Epoch 10/200\n",
            "9/9 - 0s - loss: 1244.6080\n",
            "Epoch 11/200\n",
            "9/9 - 0s - loss: 1217.7980\n",
            "Epoch 12/200\n",
            "9/9 - 0s - loss: 1124.5447\n",
            "Epoch 13/200\n",
            "9/9 - 0s - loss: 991.9607\n",
            "Epoch 14/200\n",
            "9/9 - 0s - loss: 849.1221\n",
            "Epoch 15/200\n",
            "9/9 - 0s - loss: 720.8692\n",
            "Epoch 16/200\n",
            "9/9 - 0s - loss: 624.2834\n",
            "Epoch 17/200\n",
            "9/9 - 0s - loss: 567.0149\n",
            "Epoch 18/200\n",
            "9/9 - 0s - loss: 547.2227\n",
            "Epoch 19/200\n",
            "9/9 - 0s - loss: 555.2091\n",
            "Epoch 20/200\n",
            "9/9 - 0s - loss: 576.6293\n",
            "Epoch 21/200\n",
            "9/9 - 0s - loss: 596.5931\n",
            "Epoch 22/200\n",
            "9/9 - 0s - loss: 603.4728\n",
            "Epoch 23/200\n",
            "9/9 - 0s - loss: 591.2872\n",
            "Epoch 24/200\n",
            "9/9 - 0s - loss: 560.1675\n",
            "Epoch 25/200\n",
            "9/9 - 0s - loss: 515.1695\n",
            "Epoch 26/200\n",
            "9/9 - 0s - loss: 464.1252\n",
            "Epoch 27/200\n",
            "9/9 - 0s - loss: 415.2688\n",
            "Epoch 28/200\n",
            "9/9 - 0s - loss: 375.1910\n",
            "Epoch 29/200\n",
            "9/9 - 0s - loss: 347.4871\n",
            "Epoch 30/200\n",
            "9/9 - 0s - loss: 332.2878\n",
            "Epoch 31/200\n",
            "9/9 - 0s - loss: 326.6933\n",
            "Epoch 32/200\n",
            "9/9 - 0s - loss: 325.9342\n",
            "Epoch 33/200\n",
            "9/9 - 0s - loss: 324.8972\n",
            "Epoch 34/200\n",
            "9/9 - 0s - loss: 319.5537\n",
            "Epoch 35/200\n",
            "9/9 - 0s - loss: 307.8909\n",
            "Epoch 36/200\n",
            "9/9 - 0s - loss: 290.1429\n",
            "Epoch 37/200\n",
            "9/9 - 0s - loss: 268.3637\n",
            "Epoch 38/200\n",
            "9/9 - 0s - loss: 245.5638\n",
            "Epoch 39/200\n",
            "9/9 - 0s - loss: 224.7186\n",
            "Epoch 40/200\n",
            "9/9 - 0s - loss: 207.9330\n",
            "Epoch 41/200\n",
            "9/9 - 0s - loss: 195.9680\n",
            "Epoch 42/200\n",
            "9/9 - 0s - loss: 188.2135\n",
            "Epoch 43/200\n",
            "9/9 - 0s - loss: 183.0624\n",
            "Epoch 44/200\n",
            "9/9 - 0s - loss: 178.5303\n",
            "Epoch 45/200\n",
            "9/9 - 0s - loss: 172.9040\n",
            "Epoch 46/200\n",
            "9/9 - 0s - loss: 165.2170\n",
            "Epoch 47/200\n",
            "9/9 - 0s - loss: 155.4262\n",
            "Epoch 48/200\n",
            "9/9 - 0s - loss: 144.2769\n",
            "Epoch 49/200\n",
            "9/9 - 0s - loss: 132.9424\n",
            "Epoch 50/200\n",
            "9/9 - 0s - loss: 122.5850\n",
            "Epoch 51/200\n",
            "9/9 - 0s - loss: 113.9838\n",
            "Epoch 52/200\n",
            "9/9 - 0s - loss: 107.3410\n",
            "Epoch 53/200\n",
            "9/9 - 0s - loss: 102.3003\n",
            "Epoch 54/200\n",
            "9/9 - 0s - loss: 98.1452\n",
            "Epoch 55/200\n",
            "9/9 - 0s - loss: 94.0878\n",
            "Epoch 56/200\n",
            "9/9 - 0s - loss: 89.5381\n",
            "Epoch 57/200\n",
            "9/9 - 0s - loss: 84.2672\n",
            "Epoch 58/200\n",
            "9/9 - 0s - loss: 78.4239\n",
            "Epoch 59/200\n",
            "9/9 - 0s - loss: 72.4198\n",
            "Epoch 60/200\n",
            "9/9 - 0s - loss: 66.7421\n",
            "Epoch 61/200\n",
            "9/9 - 0s - loss: 61.7692\n",
            "Epoch 62/200\n",
            "9/9 - 0s - loss: 57.6518\n",
            "Epoch 63/200\n",
            "9/9 - 0s - loss: 54.2929\n",
            "Epoch 64/200\n",
            "9/9 - 0s - loss: 51.4183\n",
            "Epoch 65/200\n",
            "9/9 - 0s - loss: 48.7002\n",
            "Epoch 66/200\n",
            "9/9 - 0s - loss: 45.8807\n",
            "Epoch 67/200\n",
            "9/9 - 0s - loss: 42.8517\n",
            "Epoch 68/200\n",
            "9/9 - 0s - loss: 39.6670\n",
            "Epoch 69/200\n",
            "9/9 - 0s - loss: 36.4931\n",
            "Epoch 70/200\n",
            "9/9 - 0s - loss: 33.5257\n",
            "Epoch 71/200\n",
            "9/9 - 0s - loss: 30.9089\n",
            "Epoch 72/200\n",
            "9/9 - 0s - loss: 28.6861\n",
            "Epoch 73/200\n",
            "9/9 - 0s - loss: 26.7974\n",
            "Epoch 74/200\n",
            "9/9 - 0s - loss: 25.1167\n",
            "Epoch 75/200\n",
            "9/9 - 0s - loss: 23.5086\n",
            "Epoch 76/200\n",
            "9/9 - 0s - loss: 21.8800\n",
            "Epoch 77/200\n",
            "9/9 - 0s - loss: 20.2070\n",
            "Epoch 78/200\n",
            "9/9 - 0s - loss: 18.5308\n",
            "Epoch 79/200\n",
            "9/9 - 0s - loss: 16.9279\n",
            "Epoch 80/200\n",
            "9/9 - 0s - loss: 15.4717\n",
            "Epoch 81/200\n",
            "9/9 - 0s - loss: 14.2013\n",
            "Epoch 82/200\n",
            "9/9 - 0s - loss: 13.1096\n",
            "Epoch 83/200\n",
            "9/9 - 0s - loss: 12.1515\n",
            "Epoch 84/200\n",
            "9/9 - 0s - loss: 11.2671\n",
            "Epoch 85/200\n",
            "9/9 - 0s - loss: 10.4068\n",
            "Epoch 86/200\n",
            "9/9 - 0s - loss: 9.5482\n",
            "Epoch 87/200\n",
            "9/9 - 0s - loss: 8.6995\n",
            "Epoch 88/200\n",
            "9/9 - 0s - loss: 7.8888\n",
            "Epoch 89/200\n",
            "9/9 - 0s - loss: 7.1478\n",
            "Epoch 90/200\n",
            "9/9 - 0s - loss: 6.4958\n",
            "Epoch 91/200\n",
            "9/9 - 0s - loss: 5.9325\n",
            "Epoch 92/200\n",
            "9/9 - 0s - loss: 5.4397\n",
            "Epoch 93/200\n",
            "9/9 - 0s - loss: 4.9911\n",
            "Epoch 94/200\n",
            "9/9 - 0s - loss: 4.5637\n",
            "Epoch 95/200\n",
            "9/9 - 0s - loss: 4.1461\n",
            "Epoch 96/200\n",
            "9/9 - 0s - loss: 3.7404\n",
            "Epoch 97/200\n",
            "9/9 - 0s - loss: 3.3577\n",
            "Epoch 98/200\n",
            "9/9 - 0s - loss: 3.0108\n",
            "Epoch 99/200\n",
            "9/9 - 0s - loss: 2.7073\n",
            "Epoch 100/200\n",
            "9/9 - 0s - loss: 2.4459\n",
            "Epoch 101/200\n",
            "9/9 - 0s - loss: 2.2178\n",
            "Epoch 102/200\n",
            "9/9 - 0s - loss: 2.0112\n",
            "Epoch 103/200\n",
            "9/9 - 0s - loss: 1.8161\n",
            "Epoch 104/200\n",
            "9/9 - 0s - loss: 1.6280\n",
            "Epoch 105/200\n",
            "9/9 - 0s - loss: 1.4486\n",
            "Epoch 106/200\n",
            "9/9 - 0s - loss: 1.2827\n",
            "Epoch 107/200\n",
            "9/9 - 0s - loss: 1.1352\n",
            "Epoch 108/200\n",
            "9/9 - 0s - loss: 1.0083\n",
            "Epoch 109/200\n",
            "9/9 - 0s - loss: 0.9002\n",
            "Epoch 110/200\n",
            "9/9 - 0s - loss: 0.8060\n",
            "Epoch 111/200\n",
            "9/9 - 0s - loss: 0.7205\n",
            "Epoch 112/200\n",
            "9/9 - 0s - loss: 0.6399\n",
            "Epoch 113/200\n",
            "9/9 - 0s - loss: 0.5632\n",
            "Epoch 114/200\n",
            "9/9 - 0s - loss: 0.4915\n",
            "Epoch 115/200\n",
            "9/9 - 0s - loss: 0.4271\n",
            "Epoch 116/200\n",
            "9/9 - 0s - loss: 0.3717\n",
            "Epoch 117/200\n",
            "9/9 - 0s - loss: 0.3253\n",
            "Epoch 118/200\n",
            "9/9 - 0s - loss: 0.2862\n",
            "Epoch 119/200\n",
            "9/9 - 0s - loss: 0.2522\n",
            "Epoch 120/200\n",
            "9/9 - 0s - loss: 0.2210\n",
            "Epoch 121/200\n",
            "9/9 - 0s - loss: 0.1915\n",
            "Epoch 122/200\n",
            "9/9 - 0s - loss: 0.1638\n",
            "Epoch 123/200\n",
            "9/9 - 0s - loss: 0.1388\n",
            "Epoch 124/200\n",
            "9/9 - 0s - loss: 0.1174\n",
            "Epoch 125/200\n",
            "9/9 - 0s - loss: 0.0999\n",
            "Epoch 126/200\n",
            "9/9 - 0s - loss: 0.0858\n",
            "Epoch 127/200\n",
            "9/9 - 0s - loss: 0.0741\n",
            "Epoch 128/200\n",
            "9/9 - 0s - loss: 0.0636\n",
            "Epoch 129/200\n",
            "9/9 - 0s - loss: 0.0539\n",
            "Epoch 130/200\n",
            "9/9 - 0s - loss: 0.0446\n",
            "Epoch 131/200\n",
            "9/9 - 0s - loss: 0.0363\n",
            "Epoch 132/200\n",
            "9/9 - 0s - loss: 0.0292\n",
            "Epoch 133/200\n",
            "9/9 - 0s - loss: 0.0237\n",
            "Epoch 134/200\n",
            "9/9 - 0s - loss: 0.0196\n",
            "Epoch 135/200\n",
            "9/9 - 0s - loss: 0.0164\n",
            "Epoch 136/200\n",
            "9/9 - 0s - loss: 0.0137\n",
            "Epoch 137/200\n",
            "9/9 - 0s - loss: 0.0111\n",
            "Epoch 138/200\n",
            "9/9 - 0s - loss: 0.0087\n",
            "Epoch 139/200\n",
            "9/9 - 0s - loss: 0.0064\n",
            "Epoch 140/200\n",
            "9/9 - 0s - loss: 0.0046\n",
            "Epoch 141/200\n",
            "9/9 - 0s - loss: 0.0033\n",
            "Epoch 142/200\n",
            "9/9 - 0s - loss: 0.0025\n",
            "Epoch 143/200\n",
            "9/9 - 0s - loss: 0.0020\n",
            "Epoch 144/200\n",
            "9/9 - 0s - loss: 0.0017\n",
            "Epoch 145/200\n",
            "9/9 - 0s - loss: 0.0013\n",
            "Epoch 146/200\n",
            "9/9 - 0s - loss: 8.6698e-04\n",
            "Epoch 147/200\n",
            "9/9 - 0s - loss: 4.4703e-04\n",
            "Epoch 148/200\n",
            "9/9 - 0s - loss: 1.4654e-04\n",
            "Epoch 149/200\n",
            "9/9 - 0s - loss: 2.4678e-05\n",
            "Epoch 150/200\n",
            "9/9 - 0s - loss: 6.4114e-05\n",
            "Epoch 151/200\n",
            "9/9 - 0s - loss: 1.8690e-04\n",
            "Epoch 152/200\n",
            "9/9 - 0s - loss: 3.0234e-04\n",
            "Epoch 153/200\n",
            "9/9 - 0s - loss: 3.5467e-04\n",
            "Epoch 154/200\n",
            "9/9 - 0s - loss: 3.4422e-04\n",
            "Epoch 155/200\n",
            "9/9 - 0s - loss: 3.1321e-04\n",
            "Epoch 156/200\n",
            "9/9 - 0s - loss: 3.1205e-04\n",
            "Epoch 157/200\n",
            "9/9 - 0s - loss: 3.6698e-04\n",
            "Epoch 158/200\n",
            "9/9 - 0s - loss: 4.6752e-04\n",
            "Epoch 159/200\n",
            "9/9 - 0s - loss: 5.7780e-04\n",
            "Epoch 160/200\n",
            "9/9 - 0s - loss: 6.6096e-04\n",
            "Epoch 161/200\n",
            "9/9 - 0s - loss: 6.9835e-04\n",
            "Epoch 162/200\n",
            "9/9 - 0s - loss: 6.9848e-04\n",
            "Epoch 163/200\n",
            "9/9 - 0s - loss: 6.8524e-04\n",
            "Epoch 164/200\n",
            "9/9 - 0s - loss: 6.8246e-04\n",
            "Epoch 165/200\n",
            "9/9 - 0s - loss: 6.9926e-04\n",
            "Epoch 166/200\n",
            "9/9 - 0s - loss: 7.2813e-04\n",
            "Epoch 167/200\n",
            "9/9 - 0s - loss: 7.5193e-04\n",
            "Epoch 168/200\n",
            "9/9 - 0s - loss: 7.5652e-04\n",
            "Epoch 169/200\n",
            "9/9 - 0s - loss: 7.3811e-04\n",
            "Epoch 170/200\n",
            "9/9 - 0s - loss: 7.0481e-04\n",
            "Epoch 171/200\n",
            "9/9 - 0s - loss: 6.6921e-04\n",
            "Epoch 172/200\n",
            "9/9 - 0s - loss: 6.4115e-04\n",
            "Epoch 173/200\n",
            "9/9 - 0s - loss: 6.2217e-04\n",
            "Epoch 174/200\n",
            "9/9 - 0s - loss: 6.0677e-04\n",
            "Epoch 175/200\n",
            "9/9 - 0s - loss: 5.8693e-04\n",
            "Epoch 176/200\n",
            "9/9 - 0s - loss: 5.5807e-04\n",
            "Epoch 177/200\n",
            "9/9 - 0s - loss: 5.2114e-04\n",
            "Epoch 178/200\n",
            "9/9 - 0s - loss: 4.8150e-04\n",
            "Epoch 179/200\n",
            "9/9 - 0s - loss: 4.4490e-04\n",
            "Epoch 180/200\n",
            "9/9 - 0s - loss: 4.1431e-04\n",
            "Epoch 181/200\n",
            "9/9 - 0s - loss: 3.8878e-04\n",
            "Epoch 182/200\n",
            "9/9 - 0s - loss: 3.6463e-04\n",
            "Epoch 183/200\n",
            "9/9 - 0s - loss: 3.3863e-04\n",
            "Epoch 184/200\n",
            "9/9 - 0s - loss: 3.0979e-04\n",
            "Epoch 185/200\n",
            "9/9 - 0s - loss: 2.7987e-04\n",
            "Epoch 186/200\n",
            "9/9 - 0s - loss: 2.5152e-04\n",
            "Epoch 187/200\n",
            "9/9 - 0s - loss: 2.2693e-04\n",
            "Epoch 188/200\n",
            "9/9 - 0s - loss: 2.0632e-04\n",
            "Epoch 189/200\n",
            "9/9 - 0s - loss: 1.8835e-04\n",
            "Epoch 190/200\n",
            "9/9 - 0s - loss: 1.7095e-04\n",
            "Epoch 191/200\n",
            "9/9 - 0s - loss: 1.5310e-04\n",
            "Epoch 192/200\n",
            "9/9 - 0s - loss: 1.3513e-04\n",
            "Epoch 193/200\n",
            "9/9 - 0s - loss: 1.1818e-04\n",
            "Epoch 194/200\n",
            "9/9 - 0s - loss: 1.0341e-04\n",
            "Epoch 195/200\n",
            "9/9 - 0s - loss: 9.1115e-05\n",
            "Epoch 196/200\n",
            "9/9 - 0s - loss: 8.0848e-05\n",
            "Epoch 197/200\n",
            "9/9 - 0s - loss: 7.1615e-05\n",
            "Epoch 198/200\n",
            "9/9 - 0s - loss: 6.2596e-05\n",
            "Epoch 199/200\n",
            "9/9 - 0s - loss: 5.3755e-05\n",
            "Epoch 200/200\n",
            "9/9 - 0s - loss: 4.5434e-05\n"
          ],
          "name": "stdout"
        }
      ]
    },
    {
      "cell_type": "markdown",
      "metadata": {
        "id": "GCtVaWoWVMWJ"
      },
      "source": [
        "Модель обучена. Для того, чтобы узнать итоговые коэффициенты, воcпользуемся model.get_weights()"
      ]
    },
    {
      "cell_type": "code",
      "metadata": {
        "id": "J1-lyp2dVLDF",
        "colab": {
          "base_uri": "https://localhost:8080/",
          "height": 35
        },
        "outputId": "542a774e-cb47-4f0d-bb90-6102b0c6a1ec"
      },
      "source": [
        "model.get_weights()"
      ],
      "execution_count": null,
      "outputs": [
        {
          "output_type": "execute_result",
          "data": {
            "text/plain": [
              "[array([[1.7999102]], dtype=float32), array([32.006416], dtype=float32)]"
            ]
          },
          "metadata": {
            "tags": []
          },
          "execution_count": 11
        }
      ]
    },
    {
      "cell_type": "markdown",
      "metadata": {
        "id": "4H7kG-de3iBa"
      },
      "source": [
        "В реальности эти две шкалы связаны формулой:\n",
        "$$\n",
        "F = 1.8C + 32\n",
        "$$"
      ]
    },
    {
      "cell_type": "markdown",
      "metadata": {
        "id": "uNX3rwFXVnzx"
      },
      "source": [
        "Неудивительно, что мы получили правильные коэффициенты ;)\n",
        "\n",
        "\n",
        "**История обучения**\n",
        "\n",
        "Помимо обучения модели и прогресс бара, model.fit(...), возвращает полезный объект -- историю. Давайте взглянем на нее ближе."
      ]
    },
    {
      "cell_type": "code",
      "metadata": {
        "id": "zlVie2L4VGGo",
        "colab": {
          "base_uri": "https://localhost:8080/",
          "height": 202
        },
        "outputId": "7f565a7c-5fc0-4c5e-ab5b-fa593d80a658"
      },
      "source": [
        "import pandas as pd\n",
        "history_df = pd.DataFrame(history.history)\n",
        "history_df.head()"
      ],
      "execution_count": null,
      "outputs": [
        {
          "output_type": "execute_result",
          "data": {
            "text/html": [
              "<div>\n",
              "<style scoped>\n",
              "    .dataframe tbody tr th:only-of-type {\n",
              "        vertical-align: middle;\n",
              "    }\n",
              "\n",
              "    .dataframe tbody tr th {\n",
              "        vertical-align: top;\n",
              "    }\n",
              "\n",
              "    .dataframe thead th {\n",
              "        text-align: right;\n",
              "    }\n",
              "</style>\n",
              "<table border=\"1\" class=\"dataframe\">\n",
              "  <thead>\n",
              "    <tr style=\"text-align: right;\">\n",
              "      <th></th>\n",
              "      <th>loss</th>\n",
              "    </tr>\n",
              "  </thead>\n",
              "  <tbody>\n",
              "    <tr>\n",
              "      <th>0</th>\n",
              "      <td>3713.952148</td>\n",
              "    </tr>\n",
              "    <tr>\n",
              "      <th>1</th>\n",
              "      <td>2557.618896</td>\n",
              "    </tr>\n",
              "    <tr>\n",
              "      <th>2</th>\n",
              "      <td>1705.239746</td>\n",
              "    </tr>\n",
              "    <tr>\n",
              "      <th>3</th>\n",
              "      <td>1151.206421</td>\n",
              "    </tr>\n",
              "    <tr>\n",
              "      <th>4</th>\n",
              "      <td>872.101990</td>\n",
              "    </tr>\n",
              "  </tbody>\n",
              "</table>\n",
              "</div>"
            ],
            "text/plain": [
              "          loss\n",
              "0  3713.952148\n",
              "1  2557.618896\n",
              "2  1705.239746\n",
              "3  1151.206421\n",
              "4   872.101990"
            ]
          },
          "metadata": {
            "tags": []
          },
          "execution_count": 12
        }
      ]
    },
    {
      "cell_type": "code",
      "metadata": {
        "id": "fj12ioIeXhGo",
        "colab": {
          "base_uri": "https://localhost:8080/",
          "height": 287
        },
        "outputId": "262cd9ae-626e-457b-b03f-c7d4d83c6e61"
      },
      "source": [
        "import matplotlib.pyplot as plt\n",
        "plt.plot(history_df.loss)"
      ],
      "execution_count": null,
      "outputs": [
        {
          "output_type": "execute_result",
          "data": {
            "text/plain": [
              "[<matplotlib.lines.Line2D at 0x7f571c5307f0>]"
            ]
          },
          "metadata": {
            "tags": []
          },
          "execution_count": 13
        },
        {
          "output_type": "display_data",
          "data": {
            "image/png": "[encoded data removed]",
            "text/plain": [
              "<Figure size 432x288 with 1 Axes>"
            ]
          },
          "metadata": {
            "tags": []
          }
        }
      ]
    },
    {
      "cell_type": "markdown",
      "metadata": {
        "id": "08p_QQfivsEv"
      },
      "source": [
        "На графике можно увидеть как менялся лосс на протяжении 200 эпох. Можно заметить, что обучение можно было остановить после 100 эпохи.\n"
      ]
    },
    {
      "cell_type": "markdown",
      "metadata": {
        "id": "CkQPRsMHXxEQ"
      },
      "source": [
        "##Задача классификации"
      ]
    },
    {
      "cell_type": "code",
      "metadata": {
        "id": "ZHDLtJa_PyWk",
        "cellView": "form"
      },
      "source": [
        "#@title\n",
        "import numpy as np\n",
        "import matplotlib.pyplot as plt\n",
        "import matplotlib.cm as cm\n",
        "from matplotlib.colors import ListedColormap, LinearSegmentedColormap, Normalize\n",
        "from sklearn.metrics import accuracy_score\n",
        "\n",
        "\n",
        "%matplotlib inline\n",
        "np.random.seed(10)\n",
        "\n",
        "colors = ['red', \"blue\"]\n",
        "labels_cmap = ListedColormap(colors, 2)\n",
        "colors = [(1, 0, 0), (1, 1, 1), (0, 0, 1)]  # R -> W -> B\n",
        "main_cmap = LinearSegmentedColormap.from_list(\"main_scheme\", colors, N=300)\n",
        "\n",
        "def show_data(X, y):\n",
        "    plt.figure(figsize=(5, 5))\n",
        "    plt.scatter(X[:, 0], X[:, 1], s=120, color=labels_cmap(y))\n",
        "    \n",
        "\n",
        "def show_descision_boundary(clf, limits, binary=False, X=None, y=None, n_lines=10, show_lines=False,\n",
        "                           figsize=(5, 5), ax=None):\n",
        "    xs, ys = limits\n",
        "    x_min, x_max = xs\n",
        "    y_min, y_max = ys\n",
        "    \n",
        "    xx, yy = np.meshgrid(np.arange(x_min, x_max, 0.01),\n",
        "                         np.arange(y_min, y_max, 0.01))\n",
        "    \n",
        "    if ax is None:\n",
        "        fig = plt.figure(figsize=figsize)\n",
        "        ax = fig.add_subplot(1, 1, 1)\n",
        "    \n",
        "    if binary:\n",
        "        Z = clf.predict_class(np.c_[xx.ravel(), xx.ravel()])\n",
        "        Z = clf.predict_class(np.c_[xx.ravel(), yy.ravel()])\n",
        "        norm = Normalize(vmin=0.,vmax=1.)\n",
        "    else:\n",
        "        Z = clf(np.c_[xx.ravel(), xx.ravel()])\n",
        "        Z = clf(np.c_[xx.ravel(), yy.ravel()])\n",
        "        #if clf.prob_output:\n",
        "        #    norm = Normalize(vmin=0.,vmax=1.)\n",
        "        #else:\n",
        "        norm = Normalize(vmin=-10.,vmax=10., clip=True)\n",
        "    Z = Z.numpy() \n",
        "    Z = Z.reshape(xx.shape)\n",
        "    Z = Z.astype(np.float32)\n",
        "    \n",
        "    ax.contourf(xx, yy, Z, n_lines, alpha=0.4, cmap=main_cmap, norm=norm)\n",
        "    if show_lines:\n",
        "        cp = ax.contour(xx, yy, Z, n_lines)\n",
        "        ax.clabel(cp, inline=True, \n",
        "              fontsize=10, colors=\"green\")\n",
        "    \n",
        "    if y is not None:\n",
        "        X = np.array(X)\n",
        "        y = np.array(y)\n",
        "        ax.scatter(X[:, 0], X[:, 1], s=120, color=labels_cmap(y),\n",
        "                   zorder=4)\n",
        "        \n"
      ],
      "execution_count": null,
      "outputs": []
    },
    {
      "cell_type": "markdown",
      "metadata": {
        "id": "izD5mZpR7auO"
      },
      "source": [
        "Аналогично можно решить задачу классификации. Помните эту выборку? Мы пытались ее разделить тремя нейронами самостоятельно в самом первом модуле! Давайте теперь сделаем это с помощью Tensorflow."
      ]
    },
    {
      "cell_type": "code",
      "metadata": {
        "id": "1MUslBwSPy1y",
        "colab": {
          "base_uri": "https://localhost:8080/",
          "height": 323
        },
        "outputId": "5d3ec8a9-a469-4058-eec0-d455b615463b"
      },
      "source": [
        "X = np.array([[10, 6], [7, 4], [6, 6], [9, 8], [10, 10],\n",
        "              [10, 4], [4, 4], [4, 6], [8, 9]])\n",
        "y = np.array([0, 1, 0, 0, 0, 1, 1, 1, 1])\n",
        "show_data(X, y)"
      ],
      "execution_count": null,
      "outputs": [
        {
          "output_type": "display_data",
          "data": {
            "image/png": "[encoded data removed]",
            "text/plain": [
              "<Figure size 360x360 with 1 Axes>"
            ]
          },
          "metadata": {
            "tags": []
          }
        }
      ]
    },
    {
      "cell_type": "markdown",
      "metadata": {
        "id": "MetQo2Ik7dIR"
      },
      "source": [
        "Без каких-либо сложностей, мы преобразуем модель в модель для классификации. Для этого нужно изменить лосс функцию и функцию активации последнего слоя."
      ]
    },
    {
      "cell_type": "code",
      "metadata": {
        "id": "sEs6b7mlQg5d"
      },
      "source": [
        "model = tf.keras.Sequential()\n",
        "model.add(tf.keras.layers.Dense(4, input_shape=(2,), activation=\"sigmoid\"))\n",
        "model.add(tf.keras.layers.Dense(1)) # мы хотим визуализировать логиты, поэтому без активации\n",
        "\n",
        "optimizer = tf.keras.optimizers.Adam(learning_rate=0.05) \n",
        "loss = tf.keras.losses.BinaryCrossentropy(from_logits=True) # лосс -- с логитами"
      ],
      "execution_count": null,
      "outputs": []
    },
    {
      "cell_type": "markdown",
      "metadata": {
        "id": "mU2ndXHCb5Dm"
      },
      "source": [
        "При компиляции модели добавим еще одно поле -- **metrics**. Метрики не влияют на обучение, но очень полезны для его контроля. Например, обучая классификатор удобно смотреть не только на лосс, но и на точность."
      ]
    },
    {
      "cell_type": "code",
      "metadata": {
        "id": "Wup7_mqBb1Hr",
        "colab": {
          "base_uri": "https://localhost:8080/",
          "height": 1000
        },
        "outputId": "8e55fee6-0493-4b97-a918-3e56ac50c572"
      },
      "source": [
        "model.compile(optimizer=optimizer, loss=loss, metrics=[\"accuracy\"]) # для дополнительного контроля \n",
        "                                                                    #-- просим сообщать не только лосс, но и точность.\n",
        "history = model.fit(X, y, epochs=100, verbose=2)"
      ],
      "execution_count": null,
      "outputs": [
        {
          "output_type": "stream",
          "text": [
            "WARNING: Logging before flag parsing goes to stderr.\n",
            "W0816 09:43:30.644775 140013169076096 deprecation.py:323] From /usr/local/lib/python3.6/dist-packages/tensorflow/python/ops/nn_impl.py:180: add_dispatch_support.<locals>.wrapper (from tensorflow.python.ops.array_ops) is deprecated and will be removed in a future version.\n",
            "Instructions for updating:\n",
            "Use tf.where in 2.0, which has the same broadcast rule as np.where\n"
          ],
          "name": "stderr"
        },
        {
          "output_type": "stream",
          "text": [
            "Epoch 1/100\n",
            "9/9 - 0s - loss: 0.7260 - acc: 0.4444\n",
            "Epoch 2/100\n",
            "9/9 - 0s - loss: 0.6919 - acc: 0.4444\n",
            "Epoch 3/100\n",
            "9/9 - 0s - loss: 0.6806 - acc: 0.4444\n",
            "Epoch 4/100\n",
            "9/9 - 0s - loss: 0.6831 - acc: 0.4444\n",
            "Epoch 5/100\n",
            "9/9 - 0s - loss: 0.6832 - acc: 0.5556\n",
            "Epoch 6/100\n",
            "9/9 - 0s - loss: 0.6776 - acc: 0.5556\n",
            "Epoch 7/100\n",
            "9/9 - 0s - loss: 0.6693 - acc: 0.5556\n",
            "Epoch 8/100\n",
            "9/9 - 0s - loss: 0.6617 - acc: 0.5556\n",
            "Epoch 9/100\n",
            "9/9 - 0s - loss: 0.6569 - acc: 0.4444\n",
            "Epoch 10/100\n",
            "9/9 - 0s - loss: 0.6546 - acc: 0.4444\n",
            "Epoch 11/100\n",
            "9/9 - 0s - loss: 0.6536 - acc: 0.4444\n",
            "Epoch 12/100\n",
            "9/9 - 0s - loss: 0.6522 - acc: 0.4444\n",
            "Epoch 13/100\n",
            "9/9 - 0s - loss: 0.6500 - acc: 0.5556\n",
            "Epoch 14/100\n",
            "9/9 - 0s - loss: 0.6473 - acc: 0.5556\n",
            "Epoch 15/100\n",
            "9/9 - 0s - loss: 0.6448 - acc: 0.5556\n",
            "Epoch 16/100\n",
            "9/9 - 0s - loss: 0.6436 - acc: 0.6667\n",
            "Epoch 17/100\n",
            "9/9 - 0s - loss: 0.6429 - acc: 0.6667\n",
            "Epoch 18/100\n",
            "9/9 - 0s - loss: 0.6410 - acc: 0.6667\n",
            "Epoch 19/100\n",
            "9/9 - 0s - loss: 0.6374 - acc: 0.6667\n",
            "Epoch 20/100\n",
            "9/9 - 0s - loss: 0.6335 - acc: 0.6667\n",
            "Epoch 21/100\n",
            "9/9 - 0s - loss: 0.6301 - acc: 0.6667\n",
            "Epoch 22/100\n",
            "9/9 - 0s - loss: 0.6270 - acc: 0.6667\n",
            "Epoch 23/100\n",
            "9/9 - 0s - loss: 0.6235 - acc: 0.6667\n",
            "Epoch 24/100\n",
            "9/9 - 0s - loss: 0.6191 - acc: 0.6667\n",
            "Epoch 25/100\n",
            "9/9 - 0s - loss: 0.6141 - acc: 0.6667\n",
            "Epoch 26/100\n",
            "9/9 - 0s - loss: 0.6095 - acc: 0.6667\n",
            "Epoch 27/100\n",
            "9/9 - 0s - loss: 0.6062 - acc: 0.6667\n",
            "Epoch 28/100\n",
            "9/9 - 0s - loss: 0.6036 - acc: 0.6667\n",
            "Epoch 29/100\n",
            "9/9 - 0s - loss: 0.5998 - acc: 0.6667\n",
            "Epoch 30/100\n",
            "9/9 - 0s - loss: 0.5947 - acc: 0.6667\n",
            "Epoch 31/100\n",
            "9/9 - 0s - loss: 0.5894 - acc: 0.6667\n",
            "Epoch 32/100\n",
            "9/9 - 0s - loss: 0.5851 - acc: 0.6667\n",
            "Epoch 33/100\n",
            "9/9 - 0s - loss: 0.5810 - acc: 0.6667\n",
            "Epoch 34/100\n",
            "9/9 - 0s - loss: 0.5762 - acc: 0.6667\n",
            "Epoch 35/100\n",
            "9/9 - 0s - loss: 0.5710 - acc: 0.6667\n",
            "Epoch 36/100\n",
            "9/9 - 0s - loss: 0.5662 - acc: 0.6667\n",
            "Epoch 37/100\n",
            "9/9 - 0s - loss: 0.5614 - acc: 0.6667\n",
            "Epoch 38/100\n",
            "9/9 - 0s - loss: 0.5555 - acc: 0.6667\n",
            "Epoch 39/100\n",
            "9/9 - 0s - loss: 0.5495 - acc: 0.6667\n",
            "Epoch 40/100\n",
            "9/9 - 0s - loss: 0.5441 - acc: 0.6667\n",
            "Epoch 41/100\n",
            "9/9 - 0s - loss: 0.5387 - acc: 0.6667\n",
            "Epoch 42/100\n",
            "9/9 - 0s - loss: 0.5326 - acc: 0.6667\n",
            "Epoch 43/100\n",
            "9/9 - 0s - loss: 0.5261 - acc: 0.6667\n",
            "Epoch 44/100\n",
            "9/9 - 0s - loss: 0.5199 - acc: 0.6667\n",
            "Epoch 45/100\n",
            "9/9 - 0s - loss: 0.5140 - acc: 0.6667\n",
            "Epoch 46/100\n",
            "9/9 - 0s - loss: 0.5076 - acc: 0.6667\n",
            "Epoch 47/100\n",
            "9/9 - 0s - loss: 0.5012 - acc: 0.6667\n",
            "Epoch 48/100\n",
            "9/9 - 0s - loss: 0.4950 - acc: 0.6667\n",
            "Epoch 49/100\n",
            "9/9 - 0s - loss: 0.4885 - acc: 0.6667\n",
            "Epoch 50/100\n",
            "9/9 - 0s - loss: 0.4820 - acc: 0.7778\n",
            "Epoch 51/100\n",
            "9/9 - 0s - loss: 0.4757 - acc: 0.7778\n",
            "Epoch 52/100\n",
            "9/9 - 0s - loss: 0.4694 - acc: 0.7778\n",
            "Epoch 53/100\n",
            "9/9 - 0s - loss: 0.4628 - acc: 0.7778\n",
            "Epoch 54/100\n",
            "9/9 - 0s - loss: 0.4563 - acc: 0.7778\n",
            "Epoch 55/100\n",
            "9/9 - 0s - loss: 0.4500 - acc: 0.7778\n",
            "Epoch 56/100\n",
            "9/9 - 0s - loss: 0.4437 - acc: 0.7778\n",
            "Epoch 57/100\n",
            "9/9 - 0s - loss: 0.4373 - acc: 0.7778\n",
            "Epoch 58/100\n",
            "9/9 - 0s - loss: 0.4310 - acc: 0.7778\n",
            "Epoch 59/100\n",
            "9/9 - 0s - loss: 0.4248 - acc: 0.7778\n",
            "Epoch 60/100\n",
            "9/9 - 0s - loss: 0.4186 - acc: 0.7778\n",
            "Epoch 61/100\n",
            "9/9 - 0s - loss: 0.4125 - acc: 0.7778\n",
            "Epoch 62/100\n",
            "9/9 - 0s - loss: 0.4063 - acc: 0.7778\n",
            "Epoch 63/100\n",
            "9/9 - 0s - loss: 0.4002 - acc: 0.7778\n",
            "Epoch 64/100\n",
            "9/9 - 0s - loss: 0.3943 - acc: 0.7778\n",
            "Epoch 65/100\n",
            "9/9 - 0s - loss: 0.3883 - acc: 0.7778\n",
            "Epoch 66/100\n",
            "9/9 - 0s - loss: 0.3824 - acc: 0.7778\n",
            "Epoch 67/100\n",
            "9/9 - 0s - loss: 0.3765 - acc: 0.7778\n",
            "Epoch 68/100\n",
            "9/9 - 0s - loss: 0.3707 - acc: 0.7778\n",
            "Epoch 69/100\n",
            "9/9 - 0s - loss: 0.3650 - acc: 0.8889\n",
            "Epoch 70/100\n",
            "9/9 - 0s - loss: 0.3593 - acc: 0.8889\n",
            "Epoch 71/100\n",
            "9/9 - 0s - loss: 0.3536 - acc: 0.8889\n",
            "Epoch 72/100\n",
            "9/9 - 0s - loss: 0.3480 - acc: 0.8889\n",
            "Epoch 73/100\n",
            "9/9 - 0s - loss: 0.3425 - acc: 0.8889\n",
            "Epoch 74/100\n",
            "9/9 - 0s - loss: 0.3370 - acc: 0.8889\n",
            "Epoch 75/100\n",
            "9/9 - 0s - loss: 0.3316 - acc: 0.8889\n",
            "Epoch 76/100\n",
            "9/9 - 0s - loss: 0.3262 - acc: 1.0000\n",
            "Epoch 77/100\n",
            "9/9 - 0s - loss: 0.3209 - acc: 1.0000\n",
            "Epoch 78/100\n",
            "9/9 - 0s - loss: 0.3156 - acc: 1.0000\n",
            "Epoch 79/100\n",
            "9/9 - 0s - loss: 0.3104 - acc: 1.0000\n",
            "Epoch 80/100\n",
            "9/9 - 0s - loss: 0.3052 - acc: 1.0000\n",
            "Epoch 81/100\n",
            "9/9 - 0s - loss: 0.3001 - acc: 1.0000\n",
            "Epoch 82/100\n",
            "9/9 - 0s - loss: 0.2951 - acc: 1.0000\n",
            "Epoch 83/100\n",
            "9/9 - 0s - loss: 0.2901 - acc: 1.0000\n",
            "Epoch 84/100\n",
            "9/9 - 0s - loss: 0.2852 - acc: 1.0000\n",
            "Epoch 85/100\n",
            "9/9 - 0s - loss: 0.2803 - acc: 1.0000\n",
            "Epoch 86/100\n",
            "9/9 - 0s - loss: 0.2755 - acc: 1.0000\n",
            "Epoch 87/100\n",
            "9/9 - 0s - loss: 0.2707 - acc: 1.0000\n",
            "Epoch 88/100\n",
            "9/9 - 0s - loss: 0.2660 - acc: 1.0000\n",
            "Epoch 89/100\n",
            "9/9 - 0s - loss: 0.2614 - acc: 1.0000\n",
            "Epoch 90/100\n",
            "9/9 - 0s - loss: 0.2568 - acc: 1.0000\n",
            "Epoch 91/100\n",
            "9/9 - 0s - loss: 0.2523 - acc: 1.0000\n",
            "Epoch 92/100\n",
            "9/9 - 0s - loss: 0.2478 - acc: 1.0000\n",
            "Epoch 93/100\n",
            "9/9 - 0s - loss: 0.2434 - acc: 1.0000\n",
            "Epoch 94/100\n",
            "9/9 - 0s - loss: 0.2391 - acc: 1.0000\n",
            "Epoch 95/100\n",
            "9/9 - 0s - loss: 0.2348 - acc: 1.0000\n",
            "Epoch 96/100\n",
            "9/9 - 0s - loss: 0.2306 - acc: 1.0000\n",
            "Epoch 97/100\n",
            "9/9 - 0s - loss: 0.2264 - acc: 1.0000\n",
            "Epoch 98/100\n",
            "9/9 - 0s - loss: 0.2224 - acc: 1.0000\n",
            "Epoch 99/100\n",
            "9/9 - 0s - loss: 0.2183 - acc: 1.0000\n",
            "Epoch 100/100\n",
            "9/9 - 0s - loss: 0.2144 - acc: 1.0000\n"
          ],
          "name": "stdout"
        }
      ]
    },
    {
      "cell_type": "code",
      "metadata": {
        "id": "P8VXug0TRKl1",
        "colab": {
          "base_uri": "https://localhost:8080/",
          "height": 323
        },
        "outputId": "4685e371-58ec-4e79-c27e-4fa2bf80eefb"
      },
      "source": [
        "limits = [[-1, 11], [-1, 11]]\n",
        "\n",
        "show_descision_boundary(limits=limits, clf=model, binary=False,\n",
        "                                X=X,\n",
        "                                y=y, \n",
        "                                n_lines=50,\n",
        "                                show_lines=False)"
      ],
      "execution_count": null,
      "outputs": [
        {
          "output_type": "display_data",
          "data": {
            "image/png": "[encoded data removed]",
            "text/plain": [
              "<Figure size 360x360 with 1 Axes>"
            ]
          },
          "metadata": {
            "tags": []
          }
        }
      ]
    },
    {
      "cell_type": "code",
      "metadata": {
        "id": "EDC9kIa6b0KN",
        "colab": {
          "base_uri": "https://localhost:8080/",
          "height": 202
        },
        "outputId": "3a3d4d74-ef44-4af7-8ecf-5fa165d41cee"
      },
      "source": [
        "pd.DataFrame(history.history).head()"
      ],
      "execution_count": null,
      "outputs": [
        {
          "output_type": "execute_result",
          "data": {
            "text/html": [
              "<div>\n",
              "<style scoped>\n",
              "    .dataframe tbody tr th:only-of-type {\n",
              "        vertical-align: middle;\n",
              "    }\n",
              "\n",
              "    .dataframe tbody tr th {\n",
              "        vertical-align: top;\n",
              "    }\n",
              "\n",
              "    .dataframe thead th {\n",
              "        text-align: right;\n",
              "    }\n",
              "</style>\n",
              "<table border=\"1\" class=\"dataframe\">\n",
              "  <thead>\n",
              "    <tr style=\"text-align: right;\">\n",
              "      <th></th>\n",
              "      <th>loss</th>\n",
              "      <th>acc</th>\n",
              "    </tr>\n",
              "  </thead>\n",
              "  <tbody>\n",
              "    <tr>\n",
              "      <th>0</th>\n",
              "      <td>0.726030</td>\n",
              "      <td>0.444444</td>\n",
              "    </tr>\n",
              "    <tr>\n",
              "      <th>1</th>\n",
              "      <td>0.691873</td>\n",
              "      <td>0.444444</td>\n",
              "    </tr>\n",
              "    <tr>\n",
              "      <th>2</th>\n",
              "      <td>0.680570</td>\n",
              "      <td>0.444444</td>\n",
              "    </tr>\n",
              "    <tr>\n",
              "      <th>3</th>\n",
              "      <td>0.683061</td>\n",
              "      <td>0.444444</td>\n",
              "    </tr>\n",
              "    <tr>\n",
              "      <th>4</th>\n",
              "      <td>0.683180</td>\n",
              "      <td>0.555556</td>\n",
              "    </tr>\n",
              "  </tbody>\n",
              "</table>\n",
              "</div>"
            ],
            "text/plain": [
              "       loss       acc\n",
              "0  0.726030  0.444444\n",
              "1  0.691873  0.444444\n",
              "2  0.680570  0.444444\n",
              "3  0.683061  0.444444\n",
              "4  0.683180  0.555556"
            ]
          },
          "metadata": {
            "tags": []
          },
          "execution_count": 21
        }
      ]
    },
    {
      "cell_type": "markdown",
      "metadata": {
        "id": "QatTGrh3xI3m"
      },
      "source": [
        "## Рекомендации к практическому заданию\n",
        "В следующем практическом задании перед вами будет стоять задача обучения сетей для синтетических данных. Для этого вам нужно будет подобрать самим количество слоев, количество нейронов и скорость обучения. **Как это сделать?** К сожалению, однозначного ответа на этот вопрос нет. \n",
        "\n",
        "Чем сложнее задача, тем сложнее должна быть архитектура. Сложность архитектуры зависит от количества слоев и нейронов. Задачи, которые вас ждут с ближайшей практике, данные не слишком сложные -- поэтому не переусердствуйте. *Начните с одного слоя, понаблюдайте, как изменяется точность, добавьте еще один, если понадобится. Экспериментируйте!*\n",
        "\n",
        "Но это не единственный рычаг, который можно двигать. Еще есть скорость обучения. Если вы замечаете при обучении, что ошибка не меняется, но архитектура должна справиться, то возможно скорость обучения слишком маленькая. Обычно она находится в диапазоне 0.0001-0.1.\n",
        "\n",
        "В реальных задачах глубина сети, количество нейронов, скорость обучения -- это гиперпараметры, которые нужно подбирать наблюдая за качеством на валидационной выборкой.\n"
      ]
    },
    {
      "cell_type": "markdown",
      "metadata": {
        "id": "a_20rdANCX7v"
      },
      "source": [
        "#Заключение\n",
        "В этом уроке мы научились:\n",
        "\n",
        "\n",
        "1.   Определять лосс функцию\n",
        "2.   Определять оптимизатор\n",
        "3.   Компилировать и обучать модель для задачи классификации и регрессии.\n",
        "\n",
        "Теперь вы можете перейти к практике для закрепления материала: [ссылка](https://colab.research.google.com/drive/11pzWQSauLzuoUPyRW10zV1p7o4NKMVB7).\n",
        "\n"
      ]
    }
  ]
}