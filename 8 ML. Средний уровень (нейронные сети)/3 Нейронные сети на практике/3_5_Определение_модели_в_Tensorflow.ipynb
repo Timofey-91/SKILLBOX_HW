{
  "nbformat": 4,
  "nbformat_minor": 0,
  "metadata": {
    "colab": {
      "name": "3_5_Определение_модели_в_Tensorflow.ipynb",
      "provenance": [],
      "collapsed_sections": []
    },
    "kernelspec": {
      "name": "python3",
      "display_name": "Python 3"
    }
  },
  "cells": [
    {
      "cell_type": "markdown",
      "metadata": {
        "id": "SG79UvKlPBUg"
      },
      "source": [
        "## Модель\n",
        "\n",
        "Как мы с вами обсудили на лекции -- одним из основных блоков программы для обучения нейронных сетей является *описание модели*.\n",
        "\n",
        "Что такое модель? Вне зависимости от используемого фреймворка, это блок кода, который показывает нашей программе как исходные признаки должны быть преобразованы в предсказания модели. \n",
        "\n",
        "А вот само определение модели зависит от фреймворка и каждый из них предлагает свою структуру (правила) описания моделей (которые сейчас становятся все более похожи друг на друга). Структура необходима для того, чтобы фреймворк мог построить вычислительный граф и мог правильно считать его производные."
      ]
    },
    {
      "cell_type": "markdown",
      "metadata": {
        "id": "zZzdE0qXFJd8"
      },
      "source": [
        "## Keras API для Tensorflow\n",
        "\n",
        "Изучение Tensorflow мы начнем сразу с высокоуровневого интерфейса Keras, который считается основным интерфейсом для реализации нейронных сетей в tensorflow и с недавних пор является его частью. Теоретически, все, что мы будем делаем можно реализовать без использования Keras, но в таком случае нам придется писать и тестировать большое количество самописных классов и функций, что не является целью данного блока"
      ]
    },
    {
      "cell_type": "markdown",
      "metadata": {
        "id": "EUeHu8iOPD4V"
      },
      "source": [
        "\n",
        "## Модель в Keras\n",
        "\n",
        " Модель в Keras -- это объект класса **tf.keras.Model**"
      ]
    },
    {
      "cell_type": "code",
      "metadata": {
        "id": "b3WDUlrzLWys"
      },
      "source": [
        "import tensorflow as tf\n",
        "#tf.enable_eager_execution()"
      ],
      "execution_count": 2,
      "outputs": []
    },
    {
      "cell_type": "code",
      "metadata": {
        "id": "SbPYbMpfLbLi",
        "colab": {
          "base_uri": "https://localhost:8080/"
        },
        "outputId": "dc08ab4f-cfb8-4a8b-8e2a-0fc81084c77b"
      },
      "source": [
        "model = tf.keras.Model()\n",
        "type(model)"
      ],
      "execution_count": 3,
      "outputs": [
        {
          "output_type": "execute_result",
          "data": {
            "text/plain": [
              "tensorflow.python.keras.engine.training.Model"
            ]
          },
          "metadata": {
            "tags": []
          },
          "execution_count": 3
        }
      ]
    },
    {
      "cell_type": "code",
      "metadata": {
        "id": "uKTeSzMcLmg6",
        "colab": {
          "base_uri": "https://localhost:8080/",
          "height": 35
        },
        "outputId": "097bca60-e88b-4958-ebb8-e229462be2c5"
      },
      "source": [
        "tf.keras.Model?\n",
        "\"`Model` groups layers into an object with training and inference features.\""
      ],
      "execution_count": 4,
      "outputs": [
        {
          "output_type": "execute_result",
          "data": {
            "application/vnd.google.colaboratory.intrinsic+json": {
              "type": "string"
            },
            "text/plain": [
              "'`Model` groups layers into an object with training and inference features.'"
            ]
          },
          "metadata": {
            "tags": []
          },
          "execution_count": 4
        }
      ]
    },
    {
      "cell_type": "markdown",
      "metadata": {
        "id": "_llRWReAMPv4"
      },
      "source": [
        "Из документации видно, что модель -- работает со слоями. Что же такое слой? Если смотреть на модель как на конструктор, то слой -- это кубик.\n",
        "\n",
        "Другими словами слой -- это слой нейронной сети. Их типов существует [очень много](https://www.tensorflow.org/api_docs/python/tf/keras/layers). Но на данный момент мы знаем только один слой -- полносвязный. Давайте посмотрим, как его определить в Keras.\n"
      ]
    },
    {
      "cell_type": "markdown",
      "metadata": {
        "id": "cVjKTlb1Ozr4"
      },
      "source": [
        "### Полносвязный слой\n",
        "Полносвязный слой в Tensorflow называется Dense и живет в tensorflow.keras.layers."
      ]
    },
    {
      "cell_type": "code",
      "metadata": {
        "id": "DxWqWRrgMRn6"
      },
      "source": [
        "from tensorflow.keras.layers import Dense\n",
        "import numpy as np\n",
        "#Dense?"
      ],
      "execution_count": 5,
      "outputs": []
    },
    {
      "cell_type": "markdown",
      "metadata": {
        "id": "RGxdw2XBPRLD"
      },
      "source": [
        "Он имеет следующие параметры (показаны лишь самые основные):\n",
        "\n",
        "```\n",
        "Dense(units, activation=None, use_bias=True, kernel_initializer='glorot_uniform', bias_initializer='zeros', ...)\n",
        "```\n",
        "\n",
        "\n",
        "*   units -- количество нейронов на выходе из слоя\n",
        "*   activation -- функция активации, например \"sigmoid\", \"relu\", \"softmax\". по умолчанию -- слой без активации\n",
        "*   use_bias -- применять ли bias \n",
        "*   kernel_initializer и bias_initializer -- правила инициализации матрицы весов (kernel) и баеса. Это часто используемые значения \"по-умолчанию\". Скорее всего вам не придется их никогда менять)"
      ]
    },
    {
      "cell_type": "markdown",
      "metadata": {
        "id": "zeS2kCDsMksC"
      },
      "source": [
        "Обратите внимание в этом списке нет \"количества нейронов на входе\". В keras необходимо указывать количество входных нейронов только в первом слое сети. В остальных он посчитает самостоятельно -- ведь, количество входных нейронов в слой, должно быть равно количеству выходных нейронов на предыдущем слое. \n",
        "\n",
        "В первом слое размер входа указывается через input_shape. \n",
        "\n",
        "Рассмотрим пример ниже. В нем мы “применим” слой к инпуту x. Для применения слоя нужно вызвать его метод `__call__` , который вызывается когда аргумент передается в скобках, это мы делаем в третьей строчке.\n"
      ]
    },
    {
      "cell_type": "code",
      "metadata": {
        "id": "L1d11N2PMNaG",
        "colab": {
          "base_uri": "https://localhost:8080/"
        },
        "outputId": "86415dc4-6ccb-4947-ca76-c4d0c2ea071e"
      },
      "source": [
        "x = np.ones((4, 3)) # 4 объекта, 3 признака\n",
        "\n",
        "dense_layer = Dense(units=2, input_shape=(3,))\n",
        "output = dense_layer(x)\n",
        "print(f\"Output: {output}\")"
      ],
      "execution_count": 6,
      "outputs": [
        {
          "output_type": "stream",
          "text": [
            "Output: [[0.5480154 0.6411339]\n",
            " [0.5480154 0.6411339]\n",
            " [0.5480154 0.6411339]\n",
            " [0.5480154 0.6411339]]\n"
          ],
          "name": "stdout"
        }
      ]
    },
    {
      "cell_type": "code",
      "metadata": {
        "id": "fbi1YKRt7cW6",
        "colab": {
          "base_uri": "https://localhost:8080/"
        },
        "outputId": "34486ec1-1d56-4b97-8c44-a46c8f1d564a"
      },
      "source": [
        "w, b = dense_layer.get_weights() \n",
        "print(f\"Weights: {w}\")\n",
        "print(f\"Bias: {b}\")"
      ],
      "execution_count": 7,
      "outputs": [
        {
          "output_type": "stream",
          "text": [
            "Weights: [[ 0.03349829  0.04344189]\n",
            " [ 0.81194365 -0.25094795]\n",
            " [-0.29742652  0.84863997]]\n",
            "Bias: [0. 0.]\n"
          ],
          "name": "stdout"
        }
      ]
    },
    {
      "cell_type": "code",
      "metadata": {
        "id": "nlx7Nd617hBo",
        "colab": {
          "base_uri": "https://localhost:8080/"
        },
        "outputId": "997012b7-c6be-4e7f-925b-83846261b30c"
      },
      "source": [
        "manual_output = np.matmul(x, w) + b\n",
        "print(f\"Manual output: {manual_output}\")"
      ],
      "execution_count": 8,
      "outputs": [
        {
          "output_type": "stream",
          "text": [
            "Manual output: [[0.54801542 0.6411339 ]\n",
            " [0.54801542 0.6411339 ]\n",
            " [0.54801542 0.6411339 ]\n",
            " [0.54801542 0.6411339 ]]\n"
          ],
          "name": "stdout"
        }
      ]
    },
    {
      "cell_type": "code",
      "metadata": {
        "id": "QrzeIsRLZKa8",
        "colab": {
          "base_uri": "https://localhost:8080/"
        },
        "outputId": "f234cf1d-3ae8-423f-8161-c6db75808b81"
      },
      "source": [
        "x = np.ones((4, 3))\n",
        "dense_layer = Dense(2, input_shape=(3,), use_bias=False) # можно инициализировать слой без баеса\n",
        "output = dense_layer(x)\n",
        "print(dense_layer.get_weights())"
      ],
      "execution_count": 9,
      "outputs": [
        {
          "output_type": "stream",
          "text": [
            "[array([[-0.14239335,  0.1781038 ],\n",
            "       [ 0.07322311,  0.2860273 ],\n",
            "       [-1.09041   ,  0.4251814 ]], dtype=float32)]\n"
          ],
          "name": "stdout"
        }
      ]
    },
    {
      "cell_type": "markdown",
      "metadata": {
        "id": "pKdM3lvWVp04"
      },
      "source": [
        "## Sequential Model\n",
        "А как же нам \"прицепить\" один слой к другому? Самый простой способ это сделать -- класс Sequential. Он может быть использован в подавляющем большинстве случаев. Как следует из названия -- он последовательно применяет один слой за другим."
      ]
    },
    {
      "cell_type": "code",
      "metadata": {
        "id": "rIzvcz_bWKUQ"
      },
      "source": [
        "model = tf.keras.Sequential()\n",
        "model.add(Dense(10, input_shape=(10,), activation=\"relu\")) # скрытый слой 1\n",
        "model.add(Dense(20, activation=\"relu\", \n",
        "                bias_initializer=tf.keras.initializers.Constant(2.0))) # скрытый слой 2, с не дефолтной инициализацией\n",
        "model.add(Dense(5, activation=\"softmax\")) # выходной слой"
      ],
      "execution_count": 11,
      "outputs": []
    },
    {
      "cell_type": "code",
      "metadata": {
        "id": "R23hn4AGX1qU",
        "colab": {
          "base_uri": "https://localhost:8080/"
        },
        "outputId": "8976c84c-c5af-46ea-d22f-ec71b92aa799"
      },
      "source": [
        "sample_input = np.random.rand(2, 10)\n",
        "output = model(sample_input)\n",
        "\n",
        "print(output)"
      ],
      "execution_count": 12,
      "outputs": [
        {
          "output_type": "stream",
          "text": [
            "tf.Tensor(\n",
            "[[2.5007498e-04 7.9701640e-02 8.9073420e-01 1.3723774e-02 1.5590372e-02]\n",
            " [1.8457499e-04 5.2714370e-02 9.2884171e-01 9.5332647e-03 8.7261926e-03]], shape=(2, 5), dtype=float32)\n"
          ],
          "name": "stdout"
        }
      ]
    },
    {
      "cell_type": "code",
      "metadata": {
        "id": "gB7dOb0JsDXm",
        "colab": {
          "base_uri": "https://localhost:8080/"
        },
        "outputId": "b82f29ad-f091-418c-fde3-cce38379b6d9"
      },
      "source": [
        "print(output.numpy().sum(1)) # на выходе -- софтмакс, значит сумма == 1"
      ],
      "execution_count": 13,
      "outputs": [
        {
          "output_type": "stream",
          "text": [
            "[1.0000001 1.0000001]\n"
          ],
          "name": "stdout"
        }
      ]
    },
    {
      "cell_type": "code",
      "metadata": {
        "id": "xtjeafdIm77f",
        "colab": {
          "base_uri": "https://localhost:8080/"
        },
        "outputId": "9c4789d3-51ed-47aa-af4c-c27bcbb839fd"
      },
      "source": [
        "# проверим как инициализирован второй скрытый слой \n",
        "# для этого обратимся к нему с помощью:\n",
        "model.layers[1].get_weights()[1]"
      ],
      "execution_count": 14,
      "outputs": [
        {
          "output_type": "execute_result",
          "data": {
            "text/plain": [
              "array([2., 2., 2., 2., 2., 2., 2., 2., 2., 2., 2., 2., 2., 2., 2., 2., 2.,\n",
              "       2., 2., 2.], dtype=float32)"
            ]
          },
          "metadata": {
            "tags": []
          },
          "execution_count": 14
        }
      ]
    },
    {
      "cell_type": "markdown",
      "metadata": {
        "id": "tyU2wwuFZu0f"
      },
      "source": [
        "Есть очень удобная функция, которая подскажет сколько в нашей модели параметров, и какие размерности получены на промежуточных слоях -- model.summary()"
      ]
    },
    {
      "cell_type": "code",
      "metadata": {
        "id": "-oK3FEw8Xcg-",
        "colab": {
          "base_uri": "https://localhost:8080/"
        },
        "outputId": "2bf8e8a8-0da4-4eba-8cc9-3b82105003d5"
      },
      "source": [
        "model.summary() # None обозначает, что размер батча может быть произвольный"
      ],
      "execution_count": 15,
      "outputs": [
        {
          "output_type": "stream",
          "text": [
            "Model: \"sequential_1\"\n",
            "_________________________________________________________________\n",
            "Layer (type)                 Output Shape              Param #   \n",
            "=================================================================\n",
            "dense_5 (Dense)              (None, 10)                110       \n",
            "_________________________________________________________________\n",
            "dense_6 (Dense)              (None, 20)                220       \n",
            "_________________________________________________________________\n",
            "dense_7 (Dense)              (None, 5)                 105       \n",
            "=================================================================\n",
            "Total params: 435\n",
            "Trainable params: 435\n",
            "Non-trainable params: 0\n",
            "_________________________________________________________________\n"
          ],
          "name": "stdout"
        }
      ]
    },
    {
      "cell_type": "code",
      "metadata": {
        "id": "k_lmvspqMK2z",
        "colab": {
          "base_uri": "https://localhost:8080/",
          "height": 333
        },
        "outputId": "832752d4-40b6-485e-b0ed-fd2de9886781"
      },
      "source": [
        "# если не указать размер инпута в первом слое, то summary не сработает\n",
        "model_no_input = tf.keras.Sequential()\n",
        "model_no_input.add(Dense(10, activation=\"relu\")) # скрытый слой 1 \n",
        "model_no_input.add(Dense(20, activation=\"relu\"))\n",
        "model_no_input.add(Dense(5, activation=\"softmax\")) # выходной слой\n",
        "\n",
        "model_no_input.summary() # None обозначает, что размер батча может быть произвольный"
      ],
      "execution_count": 16,
      "outputs": [
        {
          "output_type": "error",
          "ename": "ValueError",
          "evalue": "ignored",
          "traceback": [
            "\u001b[0;31m---------------------------------------------------------------------------\u001b[0m",
            "\u001b[0;31mValueError\u001b[0m                                Traceback (most recent call last)",
            "\u001b[0;32m<ipython-input-16-4699b57f09e6>\u001b[0m in \u001b[0;36m<module>\u001b[0;34m()\u001b[0m\n\u001b[1;32m      5\u001b[0m \u001b[0mmodel_no_input\u001b[0m\u001b[0;34m.\u001b[0m\u001b[0madd\u001b[0m\u001b[0;34m(\u001b[0m\u001b[0mDense\u001b[0m\u001b[0;34m(\u001b[0m\u001b[0;36m5\u001b[0m\u001b[0;34m,\u001b[0m \u001b[0mactivation\u001b[0m\u001b[0;34m=\u001b[0m\u001b[0;34m\"softmax\"\u001b[0m\u001b[0;34m)\u001b[0m\u001b[0;34m)\u001b[0m \u001b[0;31m# выходной слой\u001b[0m\u001b[0;34m\u001b[0m\u001b[0;34m\u001b[0m\u001b[0m\n\u001b[1;32m      6\u001b[0m \u001b[0;34m\u001b[0m\u001b[0m\n\u001b[0;32m----> 7\u001b[0;31m \u001b[0mmodel_no_input\u001b[0m\u001b[0;34m.\u001b[0m\u001b[0msummary\u001b[0m\u001b[0;34m(\u001b[0m\u001b[0;34m)\u001b[0m \u001b[0;31m# None обозначает, что размер батча может быть произвольный\u001b[0m\u001b[0;34m\u001b[0m\u001b[0;34m\u001b[0m\u001b[0m\n\u001b[0m",
            "\u001b[0;32m/usr/local/lib/python3.7/dist-packages/tensorflow/python/keras/engine/training.py\u001b[0m in \u001b[0;36msummary\u001b[0;34m(self, line_length, positions, print_fn)\u001b[0m\n\u001b[1;32m   2475\u001b[0m     \"\"\"\n\u001b[1;32m   2476\u001b[0m     \u001b[0;32mif\u001b[0m \u001b[0;32mnot\u001b[0m \u001b[0mself\u001b[0m\u001b[0;34m.\u001b[0m\u001b[0mbuilt\u001b[0m\u001b[0;34m:\u001b[0m\u001b[0;34m\u001b[0m\u001b[0;34m\u001b[0m\u001b[0m\n\u001b[0;32m-> 2477\u001b[0;31m       raise ValueError('This model has not yet been built. '\n\u001b[0m\u001b[1;32m   2478\u001b[0m                        \u001b[0;34m'Build the model first by calling `build()` or calling '\u001b[0m\u001b[0;34m\u001b[0m\u001b[0;34m\u001b[0m\u001b[0m\n\u001b[1;32m   2479\u001b[0m                        \u001b[0;34m'`fit()` with some data, or specify '\u001b[0m\u001b[0;34m\u001b[0m\u001b[0;34m\u001b[0m\u001b[0m\n",
            "\u001b[0;31mValueError\u001b[0m: This model has not yet been built. Build the model first by calling `build()` or calling `fit()` with some data, or specify an `input_shape` argument in the first layer(s) for automatic build."
          ]
        }
      ]
    },
    {
      "cell_type": "markdown",
      "metadata": {
        "id": "0_Ol-4JodNEt"
      },
      "source": [
        "Или для еще более наглядного представления -- tf.keras.utils.plot_model()"
      ]
    },
    {
      "cell_type": "code",
      "metadata": {
        "id": "ryR4ECUKdJ-j",
        "colab": {
          "base_uri": "https://localhost:8080/",
          "height": 422
        },
        "outputId": "c105e532-a278-4b53-cd6d-d60db9b13d06"
      },
      "source": [
        "tf.keras.utils.plot_model(model, show_shapes=True)"
      ],
      "execution_count": 17,
      "outputs": [
        {
          "output_type": "execute_result",
          "data": {
            "image/png": "[encoded data removed]",
            "text/plain": [
              "<IPython.core.display.Image object>"
            ]
          },
          "metadata": {
            "tags": []
          },
          "execution_count": 17
        }
      ]
    },
    {
      "cell_type": "markdown",
      "metadata": {
        "id": "NJqFSayEgwM7"
      },
      "source": [
        "## Functional API\n",
        "Но с помощью Sequential можно представить ограниченное (хоть и часто достаточное на практике) множество моделей. Представьте, что вам пригодилось реализовать такую модель:\n",
        "\n",
        "<img src=\"https://drive.google.com/uc?export=view&id=1-1Bltu3VDEDbTl0liRmfs5Dr3r5NzBCR\" width=600>"
      ]
    },
    {
      "cell_type": "markdown",
      "metadata": {
        "id": "npdEbnEuYLYJ"
      },
      "source": [
        "Реализовать такую модель с помощью Sequential нельзя. Но здесь к нам на помощь приходит Functional API.\n",
        "\n",
        "Для понимания Functional API нужно начать относится к сети как к графу. В таком случае вершины -- слои, а ребра связывают выход одного слоя с входом другого. Иллюстрация выше как раз поможет это сделать.\n",
        "\n",
        "Определять слои в коде мы уже умеем, теперь нужно научиться \"рисовать стрелки\". Для того чтобы это сделать нужно просто применить один слой к выходу другого! Рассмотрим пример ниже."
      ]
    },
    {
      "cell_type": "code",
      "metadata": {
        "id": "GlbOvWGKWNq1",
        "colab": {
          "base_uri": "https://localhost:8080/",
          "height": 564
        },
        "outputId": "22481fd3-77bd-4cc0-8f99-c67ad6283b8c"
      },
      "source": [
        "# cпециальный Инпут слой, показывает keras куда \"положить\" данные при использовании модели\n",
        "input_layer = tf.keras.layers.Input(shape=(10, ), name=\"Input\") \n",
        "l1 = Dense(10, name=\"Layer1\") # определили первый слой\n",
        "l1_output = l1(input_layer) # соеденили его с инпутом, \"нарисовали\" самую правую стрелку на картинке выше\n",
        "\n",
        "l2_output = Dense(10, name=\"Layer2\")(input_layer) # дальше будем определять чуть компактнее\n",
        "l3_output = Dense(10, name=\"Layer3\")(l2_output)\n",
        "l4_output = Dense(10, name=\"Layer4\")(l3_output)\n",
        "\n",
        "l5_output = Dense(10, name=\"Layer5\")(l2_output)\n",
        "\n",
        "# специальный слой, который сложит выходы всех слоев, которые ему передали\n",
        "sum_output = tf.keras.layers.Add(name=\"SumLayer\")([l1_output, l4_output, l5_output])\n",
        "\n",
        "# выходной слой\n",
        "output = Dense(10, name=\"Output\")(sum_output)\n",
        "\n",
        "# создаем модель. нужно показать что мы считаем входом в нашу модель, а что выходом.\n",
        "model = tf.keras.Model(inputs=input_layer, outputs=output)\n",
        "\n",
        "tf.keras.utils.plot_model(model, show_shapes=False)"
      ],
      "execution_count": 18,
      "outputs": [
        {
          "output_type": "execute_result",
          "data": {
            "image/png": "[encoded data removed]",
            "text/plain": [
              "<IPython.core.display.Image object>"
            ]
          },
          "metadata": {
            "tags": []
          },
          "execution_count": 18
        }
      ]
    },
    {
      "cell_type": "code",
      "metadata": {
        "id": "zIkK3vhC2s6J",
        "colab": {
          "base_uri": "https://localhost:8080/"
        },
        "outputId": "590b9835-8580-4fb3-a214-fc2ea86a3440"
      },
      "source": [
        "model.summary()"
      ],
      "execution_count": 19,
      "outputs": [
        {
          "output_type": "stream",
          "text": [
            "Model: \"model_1\"\n",
            "__________________________________________________________________________________________________\n",
            "Layer (type)                    Output Shape         Param #     Connected to                     \n",
            "==================================================================================================\n",
            "Input (InputLayer)              [(None, 10)]         0                                            \n",
            "__________________________________________________________________________________________________\n",
            "Layer2 (Dense)                  (None, 10)           110         Input[0][0]                      \n",
            "__________________________________________________________________________________________________\n",
            "Layer3 (Dense)                  (None, 10)           110         Layer2[0][0]                     \n",
            "__________________________________________________________________________________________________\n",
            "Layer1 (Dense)                  (None, 10)           110         Input[0][0]                      \n",
            "__________________________________________________________________________________________________\n",
            "Layer4 (Dense)                  (None, 10)           110         Layer3[0][0]                     \n",
            "__________________________________________________________________________________________________\n",
            "Layer5 (Dense)                  (None, 10)           110         Layer2[0][0]                     \n",
            "__________________________________________________________________________________________________\n",
            "SumLayer (Add)                  (None, 10)           0           Layer1[0][0]                     \n",
            "                                                                 Layer4[0][0]                     \n",
            "                                                                 Layer5[0][0]                     \n",
            "__________________________________________________________________________________________________\n",
            "Output (Dense)                  (None, 10)           110         SumLayer[0][0]                   \n",
            "==================================================================================================\n",
            "Total params: 660\n",
            "Trainable params: 660\n",
            "Non-trainable params: 0\n",
            "__________________________________________________________________________________________________\n"
          ],
          "name": "stdout"
        }
      ]
    },
    {
      "cell_type": "code",
      "metadata": {
        "id": "XU_6aG3pYKcb",
        "colab": {
          "base_uri": "https://localhost:8080/",
          "height": 422
        },
        "outputId": "48868565-a175-4cb8-d7bb-bd50acda878e"
      },
      "source": [
        "# если мы укажем в аутпутах слой, для вычисления которого не нужно было считать весь граф -- \n",
        "# keras автоматически обрежет граф. \n",
        "model = tf.keras.Model(inputs=input_layer, outputs=l4_output)\n",
        "\n",
        "tf.keras.utils.plot_model(model, show_shapes=True)"
      ],
      "execution_count": 20,
      "outputs": [
        {
          "output_type": "execute_result",
          "data": {
            "image/png": "[encoded data removed]",
            "text/plain": [
              "<IPython.core.display.Image object>"
            ]
          },
          "metadata": {
            "tags": []
          },
          "execution_count": 20
        }
      ]
    },
    {
      "cell_type": "code",
      "metadata": {
        "id": "VzgneLplh2K5",
        "colab": {
          "base_uri": "https://localhost:8080/",
          "height": 369
        },
        "outputId": "bddf7d8e-377d-4128-b69f-47f07406c81e"
      },
      "source": [
        "# можно указать несколько выходов\n",
        "model = tf.keras.Model(inputs=input_layer, outputs=[l4_output, l5_output, l1_output])\n",
        "\n",
        "tf.keras.utils.plot_model(model, show_shapes=False)"
      ],
      "execution_count": null,
      "outputs": [
        {
          "output_type": "execute_result",
          "data": {
            "image/png": "[encoded data removed]",
            "text/plain": [
              "<IPython.core.display.Image object>"
            ]
          },
          "metadata": {
            "tags": []
          },
          "execution_count": 20
        }
      ]
    },
    {
      "cell_type": "markdown",
      "metadata": {
        "id": "Ll9WS1fBjzvR"
      },
      "source": [
        "## Заключение\n",
        "\n",
        "Мы познакомились с одним из самых главных объектов в Keras -- модель. И сделали первый шаг -- научились ее определять. \n",
        "\n",
        "Теперь вам не составит труда построить модель самостоятельно по ее описанию. Именно это вы и попробуете сделать на [практике](https://colab.research.google.com/drive/1OFKvrSYHU71O68uXcunQtTFJE4sLZW6E). \n",
        "\n",
        "А как только вы почувствуете себя уверенно, мы перейдем к самому интересному -- обучению модели.\n",
        "\n"
      ]
    }
  ]
}