{
  "nbformat": 4,
  "nbformat_minor": 0,
  "metadata": {
    "colab": {
      "name": "14_text_classifier.ipynb",
      "provenance": []
    },
    "kernelspec": {
      "name": "python3",
      "display_name": "Python 3"
    },
    "language_info": {
      "name": "python"
    },
    "accelerator": "GPU"
  },
  "cells": [
    {
      "cell_type": "markdown",
      "metadata": {
        "id": "C_AiPeVjwM5Y"
      },
      "source": [
        "## Классификатор текстов"
      ]
    },
    {
      "cell_type": "code",
      "metadata": {
        "id": "aSmCB9FtwcIr",
        "colab": {
          "base_uri": "https://localhost:8080/"
        },
        "outputId": "112b856d-ba45-4871-cece-120bc4bec350"
      },
      "source": [
        "# Импортируем все необходимые библиотеки для работы.\n",
        "from google.colab import drive\n",
        "drive.mount('/content/drive')"
      ],
      "execution_count": 2,
      "outputs": [
        {
          "output_type": "stream",
          "name": "stdout",
          "text": [
            "Mounted at /content/drive\n"
          ]
        }
      ]
    },
    {
      "cell_type": "code",
      "metadata": {
        "colab": {
          "base_uri": "https://localhost:8080/"
        },
        "id": "xmjxIeITvCns",
        "outputId": "d868e178-1143-4c47-d170-2584f2575a7c"
      },
      "source": [
        "import numpy as np\n",
        "import matplotlib.pyplot as plt\n",
        "%matplotlib inline\n",
        "import pandas as pd\n",
        "\n",
        "import os\n",
        "import tensorflow as tf\n",
        "print(tf.__version__)\n",
        "\n",
        "import sys\n",
        "import keras\n",
        "import keras.backend as K\n",
        "import json\n",
        "np.random.seed(42)"
      ],
      "execution_count": 3,
      "outputs": [
        {
          "output_type": "stream",
          "name": "stdout",
          "text": [
            "2.6.0\n"
          ]
        }
      ]
    },
    {
      "cell_type": "code",
      "metadata": {
        "colab": {
          "base_uri": "https://localhost:8080/"
        },
        "id": "ryW8Zan2vXK4",
        "outputId": "f49b0afe-a064-4694-e0bc-1d3487f1e3de"
      },
      "source": [
        "df = pd.read_csv(\"./drive/My Drive/Genre Classification Dataset/train_data.txt\", sep=\" ::: \", header=None)\n",
        "df.columns = [\"index\", \"name\", \"genre\", \"desc\"]\n",
        "\n",
        "genres_dict = {genre: idx for idx, genre in enumerate(df[\"genre\"].unique())}\n",
        "\n",
        "df[\"genre\"] = df[\"genre\"].apply(lambda x: genres_dict[x])\n",
        "print(genres_dict)\n"
      ],
      "execution_count": 4,
      "outputs": [
        {
          "output_type": "stream",
          "name": "stderr",
          "text": [
            "/usr/local/lib/python3.7/dist-packages/ipykernel_launcher.py:1: ParserWarning: Falling back to the 'python' engine because the 'c' engine does not support regex separators (separators > 1 char and different from '\\s+' are interpreted as regex); you can avoid this warning by specifying engine='python'.\n",
            "  \"\"\"Entry point for launching an IPython kernel.\n"
          ]
        },
        {
          "output_type": "stream",
          "name": "stdout",
          "text": [
            "{'drama': 0, 'thriller': 1, 'adult': 2, 'documentary': 3, 'comedy': 4, 'crime': 5, 'reality-tv': 6, 'horror': 7, 'sport': 8, 'animation': 9, 'action': 10, 'fantasy': 11, 'short': 12, 'sci-fi': 13, 'music': 14, 'adventure': 15, 'talk-show': 16, 'western': 17, 'family': 18, 'mystery': 19, 'history': 20, 'news': 21, 'biography': 22, 'romance': 23, 'game-show': 24, 'musical': 25, 'war': 26}\n"
          ]
        }
      ]
    },
    {
      "cell_type": "code",
      "metadata": {
        "colab": {
          "base_uri": "https://localhost:8080/",
          "height": 202
        },
        "id": "xfLWCCy_xzO_",
        "outputId": "770cb854-27be-4408-ca7f-55c00db2e58a"
      },
      "source": [
        "df.head()"
      ],
      "execution_count": 5,
      "outputs": [
        {
          "output_type": "execute_result",
          "data": {
            "text/html": [
              "<div>\n",
              "<style scoped>\n",
              "    .dataframe tbody tr th:only-of-type {\n",
              "        vertical-align: middle;\n",
              "    }\n",
              "\n",
              "    .dataframe tbody tr th {\n",
              "        vertical-align: top;\n",
              "    }\n",
              "\n",
              "    .dataframe thead th {\n",
              "        text-align: right;\n",
              "    }\n",
              "</style>\n",
              "<table border=\"1\" class=\"dataframe\">\n",
              "  <thead>\n",
              "    <tr style=\"text-align: right;\">\n",
              "      <th></th>\n",
              "      <th>index</th>\n",
              "      <th>name</th>\n",
              "      <th>genre</th>\n",
              "      <th>desc</th>\n",
              "    </tr>\n",
              "  </thead>\n",
              "  <tbody>\n",
              "    <tr>\n",
              "      <th>0</th>\n",
              "      <td>1</td>\n",
              "      <td>Oscar et la dame rose (2009)</td>\n",
              "      <td>0</td>\n",
              "      <td>Listening in to a conversation between his doc...</td>\n",
              "    </tr>\n",
              "    <tr>\n",
              "      <th>1</th>\n",
              "      <td>2</td>\n",
              "      <td>Cupid (1997)</td>\n",
              "      <td>1</td>\n",
              "      <td>A brother and sister with a past incestuous re...</td>\n",
              "    </tr>\n",
              "    <tr>\n",
              "      <th>2</th>\n",
              "      <td>3</td>\n",
              "      <td>Young, Wild and Wonderful (1980)</td>\n",
              "      <td>2</td>\n",
              "      <td>As the bus empties the students for their fiel...</td>\n",
              "    </tr>\n",
              "    <tr>\n",
              "      <th>3</th>\n",
              "      <td>4</td>\n",
              "      <td>The Secret Sin (1915)</td>\n",
              "      <td>0</td>\n",
              "      <td>To help their unemployed father make ends meet...</td>\n",
              "    </tr>\n",
              "    <tr>\n",
              "      <th>4</th>\n",
              "      <td>5</td>\n",
              "      <td>The Unrecovered (2007)</td>\n",
              "      <td>0</td>\n",
              "      <td>The film's title refers not only to the un-rec...</td>\n",
              "    </tr>\n",
              "  </tbody>\n",
              "</table>\n",
              "</div>"
            ],
            "text/plain": [
              "   index  ...                                               desc\n",
              "0      1  ...  Listening in to a conversation between his doc...\n",
              "1      2  ...  A brother and sister with a past incestuous re...\n",
              "2      3  ...  As the bus empties the students for their fiel...\n",
              "3      4  ...  To help their unemployed father make ends meet...\n",
              "4      5  ...  The film's title refers not only to the un-rec...\n",
              "\n",
              "[5 rows x 4 columns]"
            ]
          },
          "metadata": {},
          "execution_count": 5
        }
      ]
    },
    {
      "cell_type": "code",
      "metadata": {
        "colab": {
          "base_uri": "https://localhost:8080/"
        },
        "id": "QU3GBsnhx_49",
        "outputId": "269ac5d8-62e9-44f1-dbfe-1537486189e8"
      },
      "source": [
        "X = df[\"desc\"].values\n",
        "Yt = df[\"genre\"].values\n",
        "\n",
        "del df\n",
        "\n",
        "len(X)"
      ],
      "execution_count": 6,
      "outputs": [
        {
          "output_type": "execute_result",
          "data": {
            "text/plain": [
              "54214"
            ]
          },
          "metadata": {},
          "execution_count": 6
        }
      ]
    },
    {
      "cell_type": "code",
      "metadata": {
        "colab": {
          "base_uri": "https://localhost:8080/"
        },
        "id": "GHE5yDpIyDRL",
        "outputId": "0f9c6efc-7484-495a-875d-52f3e3a09244"
      },
      "source": [
        "#Загружаем данные, создаем словарь\n",
        "import nltk\n",
        "nltk.download(\"punkt\")\n",
        "nltk.download(\"stopwords\")\n",
        "nltk.download(\"wordnet\")\n",
        "from nltk.tokenize import RegexpTokenizer\n",
        "from collections import Counter\n",
        "from nltk.corpus import stopwords\n",
        "\n",
        "tokenizer = RegexpTokenizer(r'\\w+')\n",
        "\n",
        "PAD = \"<PAD>\"\n",
        "START = \"<START>\"\n",
        "END = \"<END>\"\n",
        "UNK = \"<UNK>\"\n",
        "\n",
        "stopwords = stopwords.words('english')\n",
        "print(stopwords)\n",
        "\n",
        "from nltk.stem import WordNetLemmatizer \n",
        "lemmatizer = WordNetLemmatizer()\n",
        "\n",
        "def tokenize(line):\n",
        "    return [lemmatizer.lemmatize(w) for w in nltk.word_tokenize(line.lower()) if w not in stopwords and w.isalnum()]\n",
        "\n",
        "def generate_vocabs(texts):\n",
        "    counter = Counter()\n",
        "    #1. составляем словарь\n",
        "    for text in texts:\n",
        "        counter.update(tokenize(text))\n",
        "    v = [PAD, START, END, UNK] + [x for x, freq in counter.most_common(25000-4)] #отсекаем слишком редкие слова\n",
        "    vocab = {token: index for index, token in enumerate(v)}\n",
        "    vocab_inverse = {idx: w for w, idx in vocab.items()}\n",
        "    return vocab, vocab_inverse\n",
        "\n",
        "vocab, vocab_inverse = generate_vocabs(X)\n",
        "\n",
        "len(vocab), vocab_inverse[0], vocab_inverse[1]"
      ],
      "execution_count": 7,
      "outputs": [
        {
          "output_type": "stream",
          "name": "stdout",
          "text": [
            "[nltk_data] Downloading package punkt to /root/nltk_data...\n",
            "[nltk_data]   Unzipping tokenizers/punkt.zip.\n",
            "[nltk_data] Downloading package stopwords to /root/nltk_data...\n",
            "[nltk_data]   Unzipping corpora/stopwords.zip.\n",
            "[nltk_data] Downloading package wordnet to /root/nltk_data...\n",
            "[nltk_data]   Unzipping corpora/wordnet.zip.\n",
            "['i', 'me', 'my', 'myself', 'we', 'our', 'ours', 'ourselves', 'you', \"you're\", \"you've\", \"you'll\", \"you'd\", 'your', 'yours', 'yourself', 'yourselves', 'he', 'him', 'his', 'himself', 'she', \"she's\", 'her', 'hers', 'herself', 'it', \"it's\", 'its', 'itself', 'they', 'them', 'their', 'theirs', 'themselves', 'what', 'which', 'who', 'whom', 'this', 'that', \"that'll\", 'these', 'those', 'am', 'is', 'are', 'was', 'were', 'be', 'been', 'being', 'have', 'has', 'had', 'having', 'do', 'does', 'did', 'doing', 'a', 'an', 'the', 'and', 'but', 'if', 'or', 'because', 'as', 'until', 'while', 'of', 'at', 'by', 'for', 'with', 'about', 'against', 'between', 'into', 'through', 'during', 'before', 'after', 'above', 'below', 'to', 'from', 'up', 'down', 'in', 'out', 'on', 'off', 'over', 'under', 'again', 'further', 'then', 'once', 'here', 'there', 'when', 'where', 'why', 'how', 'all', 'any', 'both', 'each', 'few', 'more', 'most', 'other', 'some', 'such', 'no', 'nor', 'not', 'only', 'own', 'same', 'so', 'than', 'too', 'very', 's', 't', 'can', 'will', 'just', 'don', \"don't\", 'should', \"should've\", 'now', 'd', 'll', 'm', 'o', 're', 've', 'y', 'ain', 'aren', \"aren't\", 'couldn', \"couldn't\", 'didn', \"didn't\", 'doesn', \"doesn't\", 'hadn', \"hadn't\", 'hasn', \"hasn't\", 'haven', \"haven't\", 'isn', \"isn't\", 'ma', 'mightn', \"mightn't\", 'mustn', \"mustn't\", 'needn', \"needn't\", 'shan', \"shan't\", 'shouldn', \"shouldn't\", 'wasn', \"wasn't\", 'weren', \"weren't\", 'won', \"won't\", 'wouldn', \"wouldn't\"]\n"
          ]
        },
        {
          "output_type": "execute_result",
          "data": {
            "text/plain": [
              "(25000, '<PAD>', '<START>')"
            ]
          },
          "metadata": {},
          "execution_count": 7
        }
      ]
    },
    {
      "cell_type": "code",
      "metadata": {
        "colab": {
          "base_uri": "https://localhost:8080/"
        },
        "id": "_9fk183kyogh",
        "outputId": "c2678df6-1234-4704-c2ab-138ae12a789e"
      },
      "source": [
        "#Преобразуем X сразу в токенизацию, с учетом словаря, отбрасываем слова, не входящие в словарь, заменяем сразу отброшенные слова на <UNK>\n",
        "\n",
        "def prepare_X_vocab(xt, vocab=vocab):\n",
        "    result = []\n",
        "    for x in xt:\n",
        "        tokenized = tokenize(x)\n",
        "        result.append([START] + [x for x in tokenized if x in vocab] + [END])\n",
        "    return result\n",
        "\n",
        "Xt = prepare_X_vocab(X)\n",
        "Xt[:3]"
      ],
      "execution_count": 8,
      "outputs": [
        {
          "output_type": "execute_result",
          "data": {
            "text/plain": [
              "[['<START>',\n",
              "  'listening',\n",
              "  'conversation',\n",
              "  'doctor',\n",
              "  'parent',\n",
              "  'oscar',\n",
              "  'learns',\n",
              "  'nobody',\n",
              "  'courage',\n",
              "  'tell',\n",
              "  'week',\n",
              "  'live',\n",
              "  'furious',\n",
              "  'refuse',\n",
              "  'speak',\n",
              "  'anyone',\n",
              "  'except',\n",
              "  'rose',\n",
              "  'lady',\n",
              "  'pink',\n",
              "  'meet',\n",
              "  'hospital',\n",
              "  'stair',\n",
              "  'christmas',\n",
              "  'approach',\n",
              "  'rose',\n",
              "  'us',\n",
              "  'fantastical',\n",
              "  'experience',\n",
              "  'professional',\n",
              "  'wrestler',\n",
              "  'imagination',\n",
              "  'wit',\n",
              "  'charm',\n",
              "  'allow',\n",
              "  'oscar',\n",
              "  'live',\n",
              "  'life',\n",
              "  'love',\n",
              "  'full',\n",
              "  'company',\n",
              "  'friend',\n",
              "  'pop',\n",
              "  'corn',\n",
              "  'einstein',\n",
              "  'bacon',\n",
              "  'childhood',\n",
              "  'sweetheart',\n",
              "  'peggy',\n",
              "  'blue',\n",
              "  '<END>'],\n",
              " ['<START>',\n",
              "  'brother',\n",
              "  'sister',\n",
              "  'past',\n",
              "  'incestuous',\n",
              "  'relationship',\n",
              "  'current',\n",
              "  'murderous',\n",
              "  'relationship',\n",
              "  'murder',\n",
              "  'woman',\n",
              "  'reject',\n",
              "  'murder',\n",
              "  'woman',\n",
              "  'get',\n",
              "  'close',\n",
              "  '<END>'],\n",
              " ['<START>',\n",
              "  'bus',\n",
              "  'empty',\n",
              "  'student',\n",
              "  'field',\n",
              "  'trip',\n",
              "  'museum',\n",
              "  'natural',\n",
              "  'history',\n",
              "  'little',\n",
              "  'tour',\n",
              "  'guide',\n",
              "  'suspect',\n",
              "  'student',\n",
              "  'another',\n",
              "  'tour',\n",
              "  'first',\n",
              "  'lecture',\n",
              "  'film',\n",
              "  'coeds',\n",
              "  'drift',\n",
              "  'dream',\n",
              "  'erotic',\n",
              "  'fantasy',\n",
              "  'one',\n",
              "  'imagine',\n",
              "  'film',\n",
              "  'release',\n",
              "  'emotion',\n",
              "  'fantasy',\n",
              "  'erotic',\n",
              "  'uncommon',\n",
              "  'way',\n",
              "  'one',\n",
              "  'slip',\n",
              "  'curator',\n",
              "  'office',\n",
              "  'little',\n",
              "  'another',\n",
              "  'find',\n",
              "  'anthropologist',\n",
              "  'see',\n",
              "  'bone',\n",
              "  'identified',\n",
              "  'even',\n",
              "  'head',\n",
              "  'teacher',\n",
              "  'immune',\n",
              "  'soon',\n",
              "  'tour',\n",
              "  'bus',\n",
              "  'departs',\n",
              "  'everyone',\n",
              "  'admits',\n",
              "  'quite',\n",
              "  'education',\n",
              "  '<END>']]"
            ]
          },
          "metadata": {},
          "execution_count": 8
        }
      ]
    },
    {
      "cell_type": "code",
      "metadata": {
        "colab": {
          "base_uri": "https://localhost:8080/"
        },
        "id": "9xl1cAX-zPYn",
        "outputId": "95f9a8eb-b504-4ab2-e5c0-e57d54462c75"
      },
      "source": [
        "EMBEDDING_DIM = 64\n",
        "import keras\n",
        "import keras.layers as L\n",
        "from gensim.models import Word2Vec\n",
        "\n",
        "w2vec = Word2Vec(Xt, size=EMBEDDING_DIM, window=5, min_count=1, workers=4)\n",
        "\n",
        "def get_embedding(word):\n",
        "    if word in w2vec:\n",
        "        return w2vec[word]\n",
        "    else:\n",
        "        return np.zeros((1,EMBEDDING_DIM))\n",
        "\n",
        "#Готовим матрицу коэффициентов\n",
        "embedding_matrix = np.zeros((len(vocab), EMBEDDING_DIM))\n",
        "for word, i in vocab.items():\n",
        "    embedding_vector = np.zeros((1,EMBEDDING_DIM))\n",
        "    embedding_vector = get_embedding(word)\n",
        "    embedding_matrix[i] = embedding_vector \n",
        "\n",
        "#Готовый слой Керас\n",
        "embedding_layer = L.Embedding(len(vocab),\n",
        "                            EMBEDDING_DIM,\n",
        "                            weights=[embedding_matrix], \n",
        "                            trainable=False, \n",
        "                            mask_zero=True)\n",
        "embedding_matrix.shape"
      ],
      "execution_count": 9,
      "outputs": [
        {
          "output_type": "stream",
          "name": "stderr",
          "text": [
            "/usr/local/lib/python3.7/dist-packages/ipykernel_launcher.py:9: DeprecationWarning: Call to deprecated `__contains__` (Method will be removed in 4.0.0, use self.wv.__contains__() instead).\n",
            "  if __name__ == '__main__':\n",
            "/usr/local/lib/python3.7/dist-packages/ipykernel_launcher.py:10: DeprecationWarning: Call to deprecated `__getitem__` (Method will be removed in 4.0.0, use self.wv.__getitem__() instead).\n",
            "  # Remove the CWD from sys.path while we load stuff.\n"
          ]
        },
        {
          "output_type": "execute_result",
          "data": {
            "text/plain": [
              "(25000, 64)"
            ]
          },
          "metadata": {},
          "execution_count": 9
        }
      ]
    },
    {
      "cell_type": "code",
      "metadata": {
        "colab": {
          "base_uri": "https://localhost:8080/"
        },
        "id": "IbL3fFzcznEx",
        "outputId": "0e410842-4c4f-49ed-a55d-41ed2eb66cf7"
      },
      "source": [
        "pip install keras-self-attention"
      ],
      "execution_count": 10,
      "outputs": [
        {
          "output_type": "stream",
          "name": "stdout",
          "text": [
            "Collecting keras-self-attention\n",
            "  Downloading keras-self-attention-0.50.0.tar.gz (12 kB)\n",
            "Requirement already satisfied: numpy in /usr/local/lib/python3.7/dist-packages (from keras-self-attention) (1.19.5)\n",
            "Requirement already satisfied: Keras in /usr/local/lib/python3.7/dist-packages (from keras-self-attention) (2.6.0)\n",
            "Building wheels for collected packages: keras-self-attention\n",
            "  Building wheel for keras-self-attention (setup.py) ... \u001b[?25l\u001b[?25hdone\n",
            "  Created wheel for keras-self-attention: filename=keras_self_attention-0.50.0-py3-none-any.whl size=19414 sha256=4be3334f73717f52469ddbd0654f4f59636929fa7724ad8077797f5f6b4ce9be\n",
            "  Stored in directory: /root/.cache/pip/wheels/92/7a/a3/231bef5803298e7ec1815215bc0613239cb1e9c03c57b13c14\n",
            "Successfully built keras-self-attention\n",
            "Installing collected packages: keras-self-attention\n",
            "Successfully installed keras-self-attention-0.50.0\n"
          ]
        }
      ]
    },
    {
      "cell_type": "code",
      "metadata": {
        "colab": {
          "base_uri": "https://localhost:8080/"
        },
        "id": "TyPmQMwezZS6",
        "outputId": "5ede6461-48bf-4081-a2ce-21ed33ebecb3"
      },
      "source": [
        "\n",
        "MAX_LEN = 1000\n",
        "N_LSTM = 512\n",
        "N_EMBED = 64\n",
        "N_GENRES = 27\n",
        "N_VOCAB = len(vocab)\n",
        "\n",
        "\n",
        "def build_model():\n",
        "    X = L.Input(batch_input_shape=(None, None))\n",
        "    #e = L.Embedding(N_VOCAB, N_EMBED, mask_zero=True)(X)\n",
        "    #e = L.SpatialDropout1D(0.2)(e)\n",
        "    e = embedding_layer(X)\n",
        "    l1, hf, cf, hb, cb = L.Bidirectional(L.LSTM(units=N_LSTM, return_sequences=False, return_state=True, dropout=0.1))(e)\n",
        "    lstm_state = L.Concatenate()([l1, hf, hb]) # конкатенрировал выход и хидден-стейт - так обучается быстрее\n",
        "    #lstm_state = l1\n",
        "    d1 = L.Dense(1024, activation='relu')(lstm_state)\n",
        "    d1 = L.Dropout(0.2)(d1) # изначально 0.15\n",
        "    d2 = L.Dense(256, activation='relu')(d1)\n",
        "    d2 = L.Dropout(0.2)(d2) # изначально 0.15\n",
        "    Y = L.Dense(N_GENRES, activation='softmax')(d2)\n",
        "    return keras.models.Model(inputs=X, outputs=Y)\n",
        "    \n",
        "model = build_model()\n",
        "opt = tf.optimizers.Adam(lr=0.0001)\n",
        "model.compile(optimizer=opt, loss='sparse_categorical_crossentropy', metrics=['accuracy'])\n",
        "\n",
        "model.summary()"
      ],
      "execution_count": 11,
      "outputs": [
        {
          "output_type": "stream",
          "name": "stdout",
          "text": [
            "Model: \"model\"\n",
            "__________________________________________________________________________________________________\n",
            "Layer (type)                    Output Shape         Param #     Connected to                     \n",
            "==================================================================================================\n",
            "input_1 (InputLayer)            [(None, None)]       0                                            \n",
            "__________________________________________________________________________________________________\n",
            "embedding (Embedding)           (None, None, 64)     1600000     input_1[0][0]                    \n",
            "__________________________________________________________________________________________________\n",
            "bidirectional (Bidirectional)   [(None, 1024), (None 2363392     embedding[0][0]                  \n",
            "__________________________________________________________________________________________________\n",
            "concatenate (Concatenate)       (None, 2048)         0           bidirectional[0][0]              \n",
            "                                                                 bidirectional[0][1]              \n",
            "                                                                 bidirectional[0][3]              \n",
            "__________________________________________________________________________________________________\n",
            "dense (Dense)                   (None, 1024)         2098176     concatenate[0][0]                \n",
            "__________________________________________________________________________________________________\n",
            "dropout (Dropout)               (None, 1024)         0           dense[0][0]                      \n",
            "__________________________________________________________________________________________________\n",
            "dense_1 (Dense)                 (None, 256)          262400      dropout[0][0]                    \n",
            "__________________________________________________________________________________________________\n",
            "dropout_1 (Dropout)             (None, 256)          0           dense_1[0][0]                    \n",
            "__________________________________________________________________________________________________\n",
            "dense_2 (Dense)                 (None, 27)           6939        dropout_1[0][0]                  \n",
            "==================================================================================================\n",
            "Total params: 6,330,907\n",
            "Trainable params: 4,730,907\n",
            "Non-trainable params: 1,600,000\n",
            "__________________________________________________________________________________________________\n"
          ]
        },
        {
          "output_type": "stream",
          "name": "stderr",
          "text": [
            "/usr/local/lib/python3.7/dist-packages/keras/optimizer_v2/optimizer_v2.py:356: UserWarning: The `lr` argument is deprecated, use `learning_rate` instead.\n",
            "  \"The `lr` argument is deprecated, use `learning_rate` instead.\")\n"
          ]
        }
      ]
    },
    {
      "cell_type": "code",
      "metadata": {
        "colab": {
          "base_uri": "https://localhost:8080/"
        },
        "id": "9sa-jZIrzkp2",
        "outputId": "225db2cd-3100-4149-a521-a91ad5e27e52"
      },
      "source": [
        "#Модель Self-Attention\n",
        "\n",
        "N_LSTM = 256\n",
        "N_EMBED = 64\n",
        "N_GENRES = 27\n",
        "N_VOCAB = len(vocab)\n",
        "\n",
        "from keras_self_attention import SeqSelfAttention\n",
        "\n",
        "def build_amodel():\n",
        "    X = L.Input(batch_input_shape=(None, None))\n",
        "    e = embedding_layer(X)\n",
        "    l1, hf, cf, hb, cb = L.Bidirectional(L.LSTM(units=N_LSTM, return_sequences=True, return_state=True))(e)\n",
        "    \n",
        "    att = SeqSelfAttention(attention_type=SeqSelfAttention.ATTENTION_TYPE_MUL, attention_activation=None)(l1)\n",
        "    avg_att = L.GlobalAveragePooling1D()(att)\n",
        "\n",
        "    #total_state = L.Concatenate()([l1[...,-1, :], hb, hf, avg_att])\n",
        "    total_state = L.Concatenate()([l1[..., -1, :], avg_att])\n",
        "    d1 = L.Dense(1024, activation='relu')(total_state)\n",
        "    d1 = L.Dropout(0.1)(d1) # изначально 0.15\n",
        "    d2 = L.Dense(256, activation='relu')(d1)\n",
        "    d2 = L.Dropout(0.1)(d2) # изначально 0.15\n",
        "    Y = L.Dense(N_GENRES, activation='softmax')(d2)\n",
        "    return keras.models.Model(inputs=X, outputs=Y)\n",
        "\n",
        "model = build_amodel()\n",
        "opt = tf.optimizers.Adam(lr=0.0001)\n",
        "model.compile(optimizer=opt, loss='sparse_categorical_crossentropy', metrics=['accuracy'])\n",
        "\n",
        "model.summary()"
      ],
      "execution_count": 12,
      "outputs": [
        {
          "output_type": "stream",
          "name": "stdout",
          "text": [
            "Model: \"model_1\"\n",
            "__________________________________________________________________________________________________\n",
            "Layer (type)                    Output Shape         Param #     Connected to                     \n",
            "==================================================================================================\n",
            "input_2 (InputLayer)            [(None, None)]       0                                            \n",
            "__________________________________________________________________________________________________\n",
            "embedding (Embedding)           (None, None, 64)     1600000     input_2[0][0]                    \n",
            "__________________________________________________________________________________________________\n",
            "bidirectional_1 (Bidirectional) [(None, None, 512),  657408      embedding[1][0]                  \n",
            "__________________________________________________________________________________________________\n",
            "seq_self_attention (SeqSelfAtte (None, None, 512)    262145      bidirectional_1[0][0]            \n",
            "__________________________________________________________________________________________________\n",
            "tf.__operators__.getitem (Slici (None, 512)          0           bidirectional_1[0][0]            \n",
            "__________________________________________________________________________________________________\n",
            "global_average_pooling1d (Globa (None, 512)          0           seq_self_attention[0][0]         \n",
            "__________________________________________________________________________________________________\n",
            "concatenate_1 (Concatenate)     (None, 1024)         0           tf.__operators__.getitem[0][0]   \n",
            "                                                                 global_average_pooling1d[0][0]   \n",
            "__________________________________________________________________________________________________\n",
            "dense_3 (Dense)                 (None, 1024)         1049600     concatenate_1[0][0]              \n",
            "__________________________________________________________________________________________________\n",
            "dropout_2 (Dropout)             (None, 1024)         0           dense_3[0][0]                    \n",
            "__________________________________________________________________________________________________\n",
            "dense_4 (Dense)                 (None, 256)          262400      dropout_2[0][0]                  \n",
            "__________________________________________________________________________________________________\n",
            "dropout_3 (Dropout)             (None, 256)          0           dense_4[0][0]                    \n",
            "__________________________________________________________________________________________________\n",
            "dense_5 (Dense)                 (None, 27)           6939        dropout_3[0][0]                  \n",
            "==================================================================================================\n",
            "Total params: 3,838,492\n",
            "Trainable params: 2,238,492\n",
            "Non-trainable params: 1,600,000\n",
            "__________________________________________________________________________________________________\n"
          ]
        },
        {
          "output_type": "stream",
          "name": "stderr",
          "text": [
            "/usr/local/lib/python3.7/dist-packages/keras/optimizer_v2/optimizer_v2.py:356: UserWarning: The `lr` argument is deprecated, use `learning_rate` instead.\n",
            "  \"The `lr` argument is deprecated, use `learning_rate` instead.\")\n"
          ]
        }
      ]
    },
    {
      "cell_type": "code",
      "metadata": {
        "colab": {
          "base_uri": "https://localhost:8080/"
        },
        "id": "FylEg38J0wtu",
        "outputId": "ba635c80-567a-419a-d149-4a202d9b3f9a"
      },
      "source": [
        "Xt[:3], Yt[:3], len(Xt)"
      ],
      "execution_count": 13,
      "outputs": [
        {
          "output_type": "execute_result",
          "data": {
            "text/plain": [
              "([['<START>',\n",
              "   'listening',\n",
              "   'conversation',\n",
              "   'doctor',\n",
              "   'parent',\n",
              "   'oscar',\n",
              "   'learns',\n",
              "   'nobody',\n",
              "   'courage',\n",
              "   'tell',\n",
              "   'week',\n",
              "   'live',\n",
              "   'furious',\n",
              "   'refuse',\n",
              "   'speak',\n",
              "   'anyone',\n",
              "   'except',\n",
              "   'rose',\n",
              "   'lady',\n",
              "   'pink',\n",
              "   'meet',\n",
              "   'hospital',\n",
              "   'stair',\n",
              "   'christmas',\n",
              "   'approach',\n",
              "   'rose',\n",
              "   'us',\n",
              "   'fantastical',\n",
              "   'experience',\n",
              "   'professional',\n",
              "   'wrestler',\n",
              "   'imagination',\n",
              "   'wit',\n",
              "   'charm',\n",
              "   'allow',\n",
              "   'oscar',\n",
              "   'live',\n",
              "   'life',\n",
              "   'love',\n",
              "   'full',\n",
              "   'company',\n",
              "   'friend',\n",
              "   'pop',\n",
              "   'corn',\n",
              "   'einstein',\n",
              "   'bacon',\n",
              "   'childhood',\n",
              "   'sweetheart',\n",
              "   'peggy',\n",
              "   'blue',\n",
              "   '<END>'],\n",
              "  ['<START>',\n",
              "   'brother',\n",
              "   'sister',\n",
              "   'past',\n",
              "   'incestuous',\n",
              "   'relationship',\n",
              "   'current',\n",
              "   'murderous',\n",
              "   'relationship',\n",
              "   'murder',\n",
              "   'woman',\n",
              "   'reject',\n",
              "   'murder',\n",
              "   'woman',\n",
              "   'get',\n",
              "   'close',\n",
              "   '<END>'],\n",
              "  ['<START>',\n",
              "   'bus',\n",
              "   'empty',\n",
              "   'student',\n",
              "   'field',\n",
              "   'trip',\n",
              "   'museum',\n",
              "   'natural',\n",
              "   'history',\n",
              "   'little',\n",
              "   'tour',\n",
              "   'guide',\n",
              "   'suspect',\n",
              "   'student',\n",
              "   'another',\n",
              "   'tour',\n",
              "   'first',\n",
              "   'lecture',\n",
              "   'film',\n",
              "   'coeds',\n",
              "   'drift',\n",
              "   'dream',\n",
              "   'erotic',\n",
              "   'fantasy',\n",
              "   'one',\n",
              "   'imagine',\n",
              "   'film',\n",
              "   'release',\n",
              "   'emotion',\n",
              "   'fantasy',\n",
              "   'erotic',\n",
              "   'uncommon',\n",
              "   'way',\n",
              "   'one',\n",
              "   'slip',\n",
              "   'curator',\n",
              "   'office',\n",
              "   'little',\n",
              "   'another',\n",
              "   'find',\n",
              "   'anthropologist',\n",
              "   'see',\n",
              "   'bone',\n",
              "   'identified',\n",
              "   'even',\n",
              "   'head',\n",
              "   'teacher',\n",
              "   'immune',\n",
              "   'soon',\n",
              "   'tour',\n",
              "   'bus',\n",
              "   'departs',\n",
              "   'everyone',\n",
              "   'admits',\n",
              "   'quite',\n",
              "   'education',\n",
              "   '<END>']],\n",
              " array([0, 1, 2]),\n",
              " 54214)"
            ]
          },
          "metadata": {},
          "execution_count": 13
        }
      ]
    },
    {
      "cell_type": "code",
      "metadata": {
        "colab": {
          "base_uri": "https://localhost:8080/"
        },
        "id": "YDYust0k06t9",
        "outputId": "f9123088-cb49-4b0a-8a14-31db60e11295"
      },
      "source": [
        "BATCH_SIZE = 32\n",
        "MAX_LEN = 1000\n",
        "\n",
        "def to_text(seq):\n",
        "    return \" \".join([vocab_inverse[idx] for idx in seq])\n",
        "\n",
        "def to_sequence(text, vocab=vocab):\n",
        "    #tokens = tokenize(text)\n",
        "    tokens = text\n",
        "    return [vocab[w] if w in vocab else vocab[UNK] for w in tokens]\n",
        "\n",
        "def to_matrix(texts, maxlen=0):\n",
        "    seqs = [to_sequence(text) for text in texts]\n",
        "    if maxlen == 0:\n",
        "        maxlen = min(MAX_LEN, max(list(map(len, seqs))))\n",
        "    return keras.preprocessing.sequence.pad_sequences(seqs, maxlen=maxlen, dtype='int32', padding='post', truncating='post', value=0)\n",
        "\n",
        "import random\n",
        "\n",
        "def shuffleXY(x, y):\n",
        "    Z = list(zip(x, y))\n",
        "    random.shuffle(Z)\n",
        "    return zip(*Z)\n",
        "\n",
        "def train_gen(x, y):\n",
        "    offset = 0\n",
        "    count = BATCH_SIZE\n",
        "    while True:\n",
        "        #if offset == 0:\n",
        "        #    x, y = shuffleXY(x, y)\n",
        "        xt = to_matrix(x[offset:offset+count])\n",
        "        yt = y[offset:offset+count]\n",
        "        yield xt, yt\n",
        "        offset += count\n",
        "        if offset >= len(x)//BATCH_SIZE*BATCH_SIZE:\n",
        "            offset = 0\n",
        "            \n",
        "def val_gen(x, y):\n",
        "    offset = 0\n",
        "    count = BATCH_SIZE\n",
        "    while True:\n",
        "        xv = to_matrix(x[offset:offset+count])\n",
        "        yv = y[offset:offset+count]\n",
        "        yield xv, yv\n",
        "        offset += count\n",
        "        if offset >= len(x)//BATCH_SIZE*BATCH_SIZE:\n",
        "            offset = 0\n",
        "\n",
        "def _schedule(epoch, lr):\n",
        "    if epoch < 3:\n",
        "        return 0.001\n",
        "    else:\n",
        "        return lr * tf.math.exp(-0.1)\n",
        "\n",
        "from sklearn.model_selection import train_test_split\n",
        "\n",
        "Xtt, Xtv, Ytt, Ytv = train_test_split(Xt, Yt, test_size=0.25, random_state=42)\n",
        "\n",
        "def train_model(initial_epoch, n_epochs, train_gen, val_gen):\n",
        "    model.fit(train_gen, epochs=n_epochs, validation_data = val_gen, validation_steps=len(Xtv)//BATCH_SIZE,\n",
        "                steps_per_epoch=len(Xtt)//BATCH_SIZE,  initial_epoch=initial_epoch, \n",
        "                callbacks=[\n",
        "        tf.keras.callbacks.ModelCheckpoint(filepath='./model.{epoch:03d}.hdf5')\n",
        "])\n",
        "    \n",
        "len(Xtt), len(Xtv)"
      ],
      "execution_count": 14,
      "outputs": [
        {
          "output_type": "execute_result",
          "data": {
            "text/plain": [
              "(40660, 13554)"
            ]
          },
          "metadata": {},
          "execution_count": 14
        }
      ]
    },
    {
      "cell_type": "code",
      "metadata": {
        "colab": {
          "base_uri": "https://localhost:8080/"
        },
        "id": "veXrWmNP0-OB",
        "outputId": "690ba76a-730f-4dcd-aba0-8845cad4d7ec"
      },
      "source": [
        "opt = tf.optimizers.Adam(lr=0.001)\n",
        "model.compile(optimizer=opt, loss='sparse_categorical_crossentropy', metrics=['accuracy'])"
      ],
      "execution_count": 15,
      "outputs": [
        {
          "output_type": "stream",
          "name": "stderr",
          "text": [
            "/usr/local/lib/python3.7/dist-packages/keras/optimizer_v2/optimizer_v2.py:356: UserWarning: The `lr` argument is deprecated, use `learning_rate` instead.\n",
            "  \"The `lr` argument is deprecated, use `learning_rate` instead.\")\n"
          ]
        }
      ]
    },
    {
      "cell_type": "code",
      "metadata": {
        "colab": {
          "base_uri": "https://localhost:8080/"
        },
        "id": "_saZW1D41Avv",
        "outputId": "41c71b50-cc95-4046-d99e-374ea86c777e"
      },
      "source": [
        "train_model(0, 10, train_gen(Xtt, Ytt), val_gen(Xtv, Ytv))"
      ],
      "execution_count": 16,
      "outputs": [
        {
          "output_type": "stream",
          "name": "stdout",
          "text": [
            "Epoch 1/10\n",
            "1270/1270 [==============================] - 172s 126ms/step - loss: 1.6181 - accuracy: 0.5201 - val_loss: 1.4918 - val_accuracy: 0.5474\n",
            "Epoch 2/10\n",
            "1270/1270 [==============================] - 156s 123ms/step - loss: 1.4110 - accuracy: 0.5715 - val_loss: 1.4259 - val_accuracy: 0.5633\n",
            "Epoch 3/10\n",
            "1270/1270 [==============================] - 155s 122ms/step - loss: 1.2952 - accuracy: 0.5998 - val_loss: 1.4137 - val_accuracy: 0.5717\n",
            "Epoch 4/10\n",
            "1270/1270 [==============================] - 155s 122ms/step - loss: 1.1577 - accuracy: 0.6374 - val_loss: 1.4714 - val_accuracy: 0.5593\n",
            "Epoch 5/10\n",
            "1270/1270 [==============================] - 156s 122ms/step - loss: 0.9880 - accuracy: 0.6864 - val_loss: 1.5616 - val_accuracy: 0.5510\n",
            "Epoch 6/10\n",
            "1270/1270 [==============================] - 155s 122ms/step - loss: 0.8114 - accuracy: 0.7377 - val_loss: 1.8093 - val_accuracy: 0.5510\n",
            "Epoch 7/10\n",
            "1270/1270 [==============================] - 155s 122ms/step - loss: 0.6453 - accuracy: 0.7853 - val_loss: 2.0068 - val_accuracy: 0.5398\n",
            "Epoch 8/10\n",
            "1270/1270 [==============================] - 156s 122ms/step - loss: 0.5176 - accuracy: 0.8267 - val_loss: 2.3103 - val_accuracy: 0.5342\n",
            "Epoch 9/10\n",
            "1270/1270 [==============================] - 155s 122ms/step - loss: 0.4095 - accuracy: 0.8610 - val_loss: 2.6280 - val_accuracy: 0.5304\n",
            "Epoch 10/10\n",
            "1270/1270 [==============================] - 155s 122ms/step - loss: 0.3341 - accuracy: 0.8866 - val_loss: 2.8626 - val_accuracy: 0.5273\n"
          ]
        }
      ]
    },
    {
      "cell_type": "code",
      "metadata": {
        "colab": {
          "base_uri": "https://localhost:8080/"
        },
        "id": "Q3JkLPeh1G_N",
        "outputId": "3e435b74-7a45-429f-81e6-51d36d0a7e5b"
      },
      "source": [
        "df = pd.read_csv(\"./drive/My Drive/Genre Classification Dataset/test_data_solution.txt\", sep=\" ::: \", header=None)\n",
        "df.columns = [\"index\", \"name\", \"genre\", \"desc\"]\n",
        "df[\"genre\"] = df[\"genre\"].apply(lambda x: genres_dict[x])\n",
        "\n",
        "Xv = prepare_X_vocab(df[\"desc\"].values)\n",
        "Yv = df[\"genre\"].values\n",
        "del df\n",
        "print(len(Xv))\n",
        "print(Xv[:3])"
      ],
      "execution_count": 17,
      "outputs": [
        {
          "output_type": "stream",
          "name": "stderr",
          "text": [
            "/usr/local/lib/python3.7/dist-packages/ipykernel_launcher.py:1: ParserWarning: Falling back to the 'python' engine because the 'c' engine does not support regex separators (separators > 1 char and different from '\\s+' are interpreted as regex); you can avoid this warning by specifying engine='python'.\n",
            "  \"\"\"Entry point for launching an IPython kernel.\n"
          ]
        },
        {
          "output_type": "stream",
          "name": "stdout",
          "text": [
            "54200\n",
            "[['<START>', 'love', 'life', 'car', 'apartment', 'job', 'especially', 'girlfriend', 'vespa', 'one', 'day', 'showering', 'vespa', 'run', 'shampoo', 'run', 'across', 'street', 'convenience', 'store', 'buy', 'quick', 'trip', 'minute', 'return', 'vespa', 'gone', 'every', 'trace', 'existence', 'wiped', 'life', 'becomes', 'tortured', 'existence', 'one', 'strange', 'event', 'another', 'occurs', 'confirm', 'mind', 'conspiracy', 'working', 'finding', 'vespa', '<END>'], ['<START>', 'spain', 'march', '1964', 'naughty', 'child', 'three', 'belonging', 'wealthy', 'family', 'since', 'cristina', 'birth', 'feel', 'lost', 'privileged', 'position', 'prince', 'house', 'eight', 'month', 'old', 'sister', 'brother', 'juan', 'eight', 'year', 'old', 'quite', 'spend', 'time', 'committing', 'prank', 'prank', 'causing', 'resulting', 'anger', 'mother', 'nanny', 'old', 'housemaid', 'rest', 'family', 'member', 'two', 'much', 'older', 'brother', 'resigned', 'mother', 'father', 'authoritarian', 'idea', 'many', 'year', 'passed', 'civil', 'war', 'despot', 'pablo', 'simply', 'child', 'dad', 'war', '<END>'], ['<START>', 'one', 'year', 'life', 'albin', 'family', 'shepherd', 'north', 'transylvania', 'direct', 'cinema', 'style', 'documentary', 'follows', 'day', 'day', 'routine', 'struggle', 'adapt', 'new', 'world', 'tradition', 'gradually', 'replaced', 'modern', 'value', 'since', 'joining', 'eu', 'romania', 'facing', 'like', 'several', 'eastern', 'european', 'country', 'pressure', 'modern', 'value', 'introducing', 'farmer', 'life', 'cruel', 'notion', 'competition', 'temptation', 'migrating', 'higher', 'salary', 'abroad', 'locally', 'produced', 'food', 'industrial', 'product', '<END>']]\n"
          ]
        }
      ]
    },
    {
      "cell_type": "code",
      "metadata": {
        "colab": {
          "base_uri": "https://localhost:8080/"
        },
        "id": "lWDBWBvjDQXz",
        "outputId": "3471fdc8-d92e-4528-fb0b-58448a710d41"
      },
      "source": [
        "model.evaluate(val_gen(Xv, Yv), steps=len(Xv)//BATCH_SIZE)"
      ],
      "execution_count": 18,
      "outputs": [
        {
          "output_type": "stream",
          "name": "stdout",
          "text": [
            "1693/1693 [==============================] - 71s 42ms/step - loss: 2.8538 - accuracy: 0.5330\n"
          ]
        },
        {
          "output_type": "execute_result",
          "data": {
            "text/plain": [
              "[2.853775978088379, 0.5330219864845276]"
            ]
          },
          "metadata": {},
          "execution_count": 18
        }
      ]
    },
    {
      "cell_type": "markdown",
      "metadata": {
        "id": "jXHBy_uMDVY2"
      },
      "source": [
        "**Вывод:**\n",
        "Из текущего задания, делаю следующий ввыод:\n",
        "1. Без токенов \"Start\" и \"End\" работает значительно хуже.\n",
        "2. Spatial1DDropout на эмбенддинге не помогает.\n",
        "3. Замена эмбенддинг слоя на Word2Vec матрицу помогло, но не сильно. Данная модель помогла только в скорости обучения.\n",
        "4. Конкатенация H-стейта и выхода LSTM - сильно помогает при обучении. Сильное ограничение словаря - не помогает.\n",
        "5. Различные варианты выбора тренировочных и валидационных данных дают спорные результаты. А так же, различные варианты конструкции выходных слоев, так же дают спорный результат.\n",
        "Максимальное значение, которое я получил на тестовой выборке: 0.53-0.54."
      ]
    },
    {
      "cell_type": "code",
      "metadata": {
        "id": "yyYn3galFFQf"
      },
      "source": [
        ""
      ],
      "execution_count": null,
      "outputs": []
    }
  ]
}