{
  "nbformat": 4,
  "nbformat_minor": 0,
  "metadata": {
    "accelerator": "GPU",
    "colab": {
      "name": "Реализация LSTM (продолжение). Решение практики.ipynb",
      "provenance": [],
      "collapsed_sections": []
    },
    "kernelspec": {
      "name": "python3",
      "display_name": "Python 3"
    },
    "language_info": {
      "codemirror_mode": {
        "name": "ipython",
        "version": 3
      },
      "file_extension": ".py",
      "mimetype": "text/x-python",
      "name": "python",
      "nbconvert_exporter": "python",
      "pygments_lexer": "ipython3",
      "version": "3.7.1"
    }
  },
  "cells": [
    {
      "cell_type": "markdown",
      "metadata": {
        "id": "idc3qVC3bio1"
      },
      "source": [
        "#Реализация LSTM (продолжение)\n",
        "В этом уроке мы продолжим знакомство с LSTM и рассмотрим подробнее флаг `return_sequences`"
      ]
    },
    {
      "cell_type": "markdown",
      "metadata": {
        "id": "xjQ5s-qHeGDb"
      },
      "source": [
        "### Используем TensorFlow 2.0\n",
        "\n",
        "На момент подготовки этих материалов в Google Colab по умолчанию используется версия TensorFlow 1.X\n",
        "\n",
        "Переключаемся на версию 2.0 (работает только в Colab)"
      ]
    },
    {
      "cell_type": "code",
      "metadata": {
        "id": "carDuaZIHioO",
        "colab": {
          "base_uri": "https://localhost:8080/",
          "height": 34
        },
        "outputId": "d42c96d3-27be-43a0-8b95-992c61081f9b"
      },
      "source": [
        "%tensorflow_version 2.x"
      ],
      "execution_count": null,
      "outputs": [
        {
          "output_type": "stream",
          "text": [
            "TensorFlow 2.x selected.\n"
          ],
          "name": "stdout"
        }
      ]
    },
    {
      "cell_type": "markdown",
      "metadata": {
        "id": "2zyC3i2ceNIq"
      },
      "source": [
        "### Загрузка библиотек\n",
        "TensorFlow должен иметь как минимум версию 2.0"
      ]
    },
    {
      "cell_type": "code",
      "metadata": {
        "id": "2-zMowjHFz3t",
        "colab": {
          "base_uri": "https://localhost:8080/",
          "height": 34
        },
        "outputId": "b7012b02-aa24-463a-8dff-42dfd862570b"
      },
      "source": [
        "import numpy as np\n",
        "import tensorflow as tf\n",
        "print(tf.__version__)"
      ],
      "execution_count": null,
      "outputs": [
        {
          "output_type": "stream",
          "text": [
            "2.0.0\n"
          ],
          "name": "stdout"
        }
      ]
    },
    {
      "cell_type": "markdown",
      "metadata": {
        "id": "0glpMFM9hHfl"
      },
      "source": [
        "### Входной тензор\n",
        "Подготовим входной тензор для тестов аналогично тому, как мы это делали в предыдущем уроке.\n",
        "\n",
        "Размерности тензора `x`: (батч, длина цепочки, размер эмбеддинга)"
      ]
    },
    {
      "cell_type": "code",
      "metadata": {
        "id": "mIprlbAyJo18",
        "colab": {
          "base_uri": "https://localhost:8080/",
          "height": 34
        },
        "outputId": "be88faa2-3c85-4428-a625-af4cd09b4459"
      },
      "source": [
        "BATCH_SIZE = 2\n",
        "SEQ_LEN = 100 # Длина последовательности\n",
        "EMB_SIZE = 16 # Размер векторного представления (эмбеддинга)\n",
        "\n",
        "x = np.random.rand(BATCH_SIZE, SEQ_LEN, EMB_SIZE).astype(np.float32)\n",
        "print(x.shape)"
      ],
      "execution_count": null,
      "outputs": [
        {
          "output_type": "stream",
          "text": [
            "(2, 100, 16)\n"
          ],
          "name": "stdout"
        }
      ]
    },
    {
      "cell_type": "markdown",
      "metadata": {
        "id": "zNBkAMi5dOjJ"
      },
      "source": [
        "### Флаг `return_sequences`\n",
        "\n",
        "В рекуррентных слоях, как правило, есть флаг `return_sequences`. Ранее мы использовали `return_sequences=True`\n",
        "\n",
        "Если же установить флаг `return_sequences=False`, то рекуррентный слой будет выдавать лишь **последний** вектор `h`, а не всю цепочку векторов `h`."
      ]
    },
    {
      "cell_type": "code",
      "metadata": {
        "id": "asenPOiadCoY"
      },
      "source": [
        "H_SIZE = 32\n",
        "lstm = tf.keras.layers.LSTM(H_SIZE, return_sequences=False, recurrent_activation='sigmoid')"
      ],
      "execution_count": null,
      "outputs": []
    },
    {
      "cell_type": "markdown",
      "metadata": {
        "id": "khR8ukq-vque"
      },
      "source": [
        "Запускаем инференс (прямое распространение) для созданного слоя и проверяем размерность выходного тензора.\n",
        "\n",
        "Она должна была получиться `(BATCH_SIZE, H_SIZE)`"
      ]
    },
    {
      "cell_type": "code",
      "metadata": {
        "id": "474chqPKdEpz",
        "colab": {
          "base_uri": "https://localhost:8080/",
          "height": 34
        },
        "outputId": "bb80e4dd-49f4-4317-fa76-b45d947ff1a1"
      },
      "source": [
        "y = lstm(x)\n",
        "print(y.shape)"
      ],
      "execution_count": null,
      "outputs": [
        {
          "output_type": "stream",
          "text": [
            "(2, 32)\n"
          ],
          "name": "stdout"
        }
      ]
    },
    {
      "cell_type": "markdown",
      "metadata": {
        "id": "UTqLmgTHbD1V"
      },
      "source": [
        "**[Задание 1]** Модернизируйте класс `LSTM` из предыдущего урока, добавив в него (в конструктор) флаг `return_sequences`, чтобы поддерживались обе опции (True/False).\n",
        "\n",
        "**[Задание 2]** Сравните результаты работы нового класса `LSTM` (с параметром `return_sequences=False`) с исходной моделью на Keras так же, как мы это делали раньше (разница должна получиться равной нулю или очень маленькой)"
      ]
    },
    {
      "cell_type": "code",
      "metadata": {
        "id": "pntBp8zbwSuK"
      },
      "source": [
        "# LSTM ячейка из предыдущего урока\n",
        "class LSTMCell(tf.keras.Model):\n",
        "    def __init__(self, h_size):\n",
        "        super().__init__()\n",
        "        self.h_size = h_size\n",
        "        \n",
        "        # input gate\n",
        "        self.fcXI = tf.keras.layers.Dense(self.h_size)\n",
        "        self.fcHI = tf.keras.layers.Dense(self.h_size, use_bias=False)\n",
        "        \n",
        "        # forget gate\n",
        "        self.fcXF = tf.keras.layers.Dense(self.h_size)\n",
        "        self.fcHF = tf.keras.layers.Dense(self.h_size, use_bias=False)\n",
        "        \n",
        "        # создание нового кандидата CH\n",
        "        self.fcXC = tf.keras.layers.Dense(self.h_size)\n",
        "        self.fcHC = tf.keras.layers.Dense(self.h_size, use_bias=False)\n",
        "        \n",
        "        # output gate\n",
        "        self.fcXO = tf.keras.layers.Dense(self.h_size)\n",
        "        self.fcHO = tf.keras.layers.Dense(self.h_size, use_bias=False)\n",
        "        \n",
        "    def call(self, x, h, c):\n",
        "        i = tf.nn.sigmoid(self.fcXI(x) + self.fcHI(h))\n",
        "        f = tf.nn.sigmoid(self.fcXF(x) + self.fcHF(h))\n",
        "        o = tf.nn.sigmoid(self.fcXO(x) + self.fcHO(h))\n",
        "        ch = tf.nn.tanh(self.fcXC(x) + self.fcHC(h))\n",
        "        c = f*c + i*ch\n",
        "        h = o*tf.nn.tanh(c)\n",
        "        return h, c"
      ],
      "execution_count": null,
      "outputs": []
    },
    {
      "cell_type": "code",
      "metadata": {
        "id": "jv-wFUT_bKAF"
      },
      "source": [
        "# Теперь тут добавлен флаг return_sequences\n",
        "class LSTM(tf.keras.Model):\n",
        "    def __init__(self, h_size, return_sequences=True):\n",
        "        super().__init__()\n",
        "        self.h_size = h_size\n",
        "        self.return_sequences=return_sequences\n",
        "        self.lstm_cell = LSTMCell(h_size)\n",
        "\n",
        "    def call(self, x_all):\n",
        "        batch, length, emb_size = x.shape           \n",
        "        h = tf.zeros((batch, self.h_size))\n",
        "        c = tf.zeros((batch, self.h_size))\n",
        "        \n",
        "        if self.return_sequences:\n",
        "            h_all = []\n",
        "        \n",
        "        for i in range(length):\n",
        "            h, c = self.lstm_cell(x_all[:, i, :], h, c)\n",
        "            if self.return_sequences:\n",
        "                h_all.append(h)\n",
        "        \n",
        "        if self.return_sequences:\n",
        "            h_all = tf.transpose(tf.stack(h_all), [1, 0, 2])\n",
        "            return h_all\n",
        "        else:\n",
        "            return h\n",
        "\n",
        "lstm_my = LSTM(H_SIZE, False)"
      ],
      "execution_count": null,
      "outputs": []
    },
    {
      "cell_type": "code",
      "metadata": {
        "id": "MN_rd0NMcsmn",
        "colab": {
          "base_uri": "https://localhost:8080/",
          "height": 34
        },
        "outputId": "17812336-c067-4961-8fe7-24d2db747613"
      },
      "source": [
        "y = lstm_my(x)\n",
        "print(y.shape)"
      ],
      "execution_count": null,
      "outputs": [
        {
          "output_type": "stream",
          "text": [
            "(2, 32)\n"
          ],
          "name": "stdout"
        }
      ]
    },
    {
      "cell_type": "code",
      "metadata": {
        "id": "XXeeDl5zcnK2",
        "colab": {
          "base_uri": "https://localhost:8080/",
          "height": 34
        },
        "outputId": "0744e246-6fa3-44c1-b609-ce19e34b4c77"
      },
      "source": [
        "# Перед тем, как что-то присваивать в параметры модели, нужно чтобы они создались.\n",
        "# Для этого можно вызвать либо инференс с каким-то входом, либо model.build(...)\n",
        "\n",
        "lstm_my.lstm_cell.fcXI.kernel = lstm.weights[0][:, 0:32]\n",
        "lstm_my.lstm_cell.fcXF.kernel = lstm.weights[0][:, 32:64]\n",
        "lstm_my.lstm_cell.fcXC.kernel = lstm.weights[0][:, 64:96]\n",
        "lstm_my.lstm_cell.fcXO.kernel = lstm.weights[0][:, 96:128]\n",
        "\n",
        "lstm_my.lstm_cell.fcHI.kernel = lstm.weights[1][:, 0:32]\n",
        "lstm_my.lstm_cell.fcHF.kernel = lstm.weights[1][:, 32:64]\n",
        "lstm_my.lstm_cell.fcHC.kernel = lstm.weights[1][:, 64:96]\n",
        "lstm_my.lstm_cell.fcHO.kernel = lstm.weights[1][:, 96:128]\n",
        "\n",
        "lstm_my.lstm_cell.fcXI.bias = lstm.weights[2][0:32]\n",
        "lstm_my.lstm_cell.fcXF.bias = lstm.weights[2][32:64]\n",
        "lstm_my.lstm_cell.fcXC.bias = lstm.weights[2][64:96]\n",
        "lstm_my.lstm_cell.fcXO.bias = lstm.weights[2][96:128]\n",
        "\n",
        "y = lstm(x)\n",
        "y_my = lstm_my(x)\n",
        "\n",
        "print(np.max(np.abs(y.numpy() - y_my.numpy())))"
      ],
      "execution_count": null,
      "outputs": [
        {
          "output_type": "stream",
          "text": [
            "5.9604645e-08\n"
          ],
          "name": "stdout"
        }
      ]
    }
  ]
}