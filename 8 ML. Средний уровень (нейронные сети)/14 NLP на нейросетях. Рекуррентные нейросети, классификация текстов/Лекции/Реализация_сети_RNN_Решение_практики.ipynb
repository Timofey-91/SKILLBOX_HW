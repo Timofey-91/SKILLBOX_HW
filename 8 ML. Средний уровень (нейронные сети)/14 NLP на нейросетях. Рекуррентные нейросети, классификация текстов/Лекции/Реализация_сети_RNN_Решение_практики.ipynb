{
  "nbformat": 4,
  "nbformat_minor": 0,
  "metadata": {
    "accelerator": "GPU",
    "colab": {
      "name": "Реализация сети RNN. Решение практики.ipynb",
      "provenance": [],
      "collapsed_sections": []
    },
    "kernelspec": {
      "name": "python3",
      "display_name": "Python 3"
    },
    "language_info": {
      "codemirror_mode": {
        "name": "ipython",
        "version": 3
      },
      "file_extension": ".py",
      "mimetype": "text/x-python",
      "name": "python",
      "nbconvert_exporter": "python",
      "pygments_lexer": "ipython3",
      "version": "3.7.1"
    }
  },
  "cells": [
    {
      "cell_type": "markdown",
      "metadata": {
        "id": "sAM12o8mbdOg"
      },
      "source": [
        "#Реализация сети RNN\n",
        "Теперь рассмотрим, как реализовать многослойную рекуррентную нейронную сеть. В ней будет один рекуррентный слой и один обычный полносвязный слой. Сначала создадим такую сеть с помощью Keras, а потом с помощью нашей реализации RNN слоя из предыдущего урока."
      ]
    },
    {
      "cell_type": "markdown",
      "metadata": {
        "id": "w7ehmgC5eG1u"
      },
      "source": [
        "### Используем TensorFlow 2.0\n",
        "\n",
        "На момент подготовки этих материалов в Google Colab по умолчанию используется версия TensorFlow 1.X\n",
        "\n",
        "Переключаемся на версию 2.0 (работает только в Colab)"
      ]
    },
    {
      "cell_type": "code",
      "metadata": {
        "id": "carDuaZIHioO",
        "colab": {
          "base_uri": "https://localhost:8080/",
          "height": 34
        },
        "outputId": "2ae1748e-bf59-4848-898d-b30d2b49171e"
      },
      "source": [
        "%tensorflow_version 2.x"
      ],
      "execution_count": null,
      "outputs": [
        {
          "output_type": "stream",
          "text": [
            "TensorFlow 2.x selected.\n"
          ],
          "name": "stdout"
        }
      ]
    },
    {
      "cell_type": "markdown",
      "metadata": {
        "id": "y64xoUeSeORu"
      },
      "source": [
        "### Загрузка библиотек\n",
        "TensorFlow должен иметь как минимум версию 2.0"
      ]
    },
    {
      "cell_type": "code",
      "metadata": {
        "id": "2-zMowjHFz3t",
        "colab": {
          "base_uri": "https://localhost:8080/",
          "height": 34
        },
        "outputId": "02a88fb9-b134-4ccb-8a61-16d3b8aad615"
      },
      "source": [
        "import numpy as np\n",
        "import tensorflow as tf\n",
        "print(tf.__version__)"
      ],
      "execution_count": null,
      "outputs": [
        {
          "output_type": "stream",
          "text": [
            "2.0.0\n"
          ],
          "name": "stdout"
        }
      ]
    },
    {
      "cell_type": "markdown",
      "metadata": {
        "id": "buLM5yWZhGC_"
      },
      "source": [
        "### Входной тензор\n",
        "Подготовим входной тензор для тестов аналогично тому, как мы это делали в предыдущем уроке.\n",
        "\n",
        "Размерности тензора `x`: (батч, длина цепочки, размер эмбеддинга)"
      ]
    },
    {
      "cell_type": "code",
      "metadata": {
        "id": "mIprlbAyJo18",
        "colab": {
          "base_uri": "https://localhost:8080/",
          "height": 34
        },
        "outputId": "fa1c44e7-75df-4901-c6d8-9880cbb16cd3"
      },
      "source": [
        "BATCH_SIZE = 2\n",
        "SEQ_LEN = 100 # Длина последовательности\n",
        "EMB_SIZE = 16 # Размер векторного представления (эмбеддинга)\n",
        "\n",
        "x = np.random.rand(BATCH_SIZE, SEQ_LEN, EMB_SIZE).astype(np.float32)\n",
        "print(x.shape)"
      ],
      "execution_count": null,
      "outputs": [
        {
          "output_type": "stream",
          "text": [
            "(2, 100, 16)\n"
          ],
          "name": "stdout"
        }
      ]
    },
    {
      "cell_type": "markdown",
      "metadata": {
        "id": "56v4jisMjVil"
      },
      "source": [
        "### Создание простой RNN сети с помощью Keras\n",
        "Создадим рекуррентную нейронную сеть с помощью `keras.Sequential`. В сети будет два слоя: один рекуррентный, один полносвязный. Рекуррентный слой будет возвращать цепочку векторов `h`, и полносвязный слой будет применяться к каждому элементу такой цепочки, так что на выходе у нас снова будет цепочка.\n",
        "\n",
        "Дополнительный параметр  -- размерность выходных векторов `OUT_SIZE`"
      ]
    },
    {
      "cell_type": "code",
      "metadata": {
        "id": "UUS0EKcuNdt6"
      },
      "source": [
        "H_SIZE = 32\n",
        "OUT_SIZE = 16\n",
        "\n",
        "rnn = tf.keras.Sequential([\n",
        "    tf.keras.layers.SimpleRNN(H_SIZE, activation='relu', return_sequences=True),\n",
        "    tf.keras.layers.Dense(OUT_SIZE)\n",
        "])"
      ],
      "execution_count": null,
      "outputs": []
    },
    {
      "cell_type": "markdown",
      "metadata": {
        "id": "BpxnJVIFiABm"
      },
      "source": [
        "Запускаем инференс (прямое распространение) для созданной сети и проверяем размерность выходного тензора.\n",
        "\n",
        "Она должна была получиться `(BATCH_SIZE, SEQ_LEN, OUT_SIZE)`"
      ]
    },
    {
      "cell_type": "code",
      "metadata": {
        "id": "mbN4gUDySy9h",
        "colab": {
          "base_uri": "https://localhost:8080/",
          "height": 34
        },
        "outputId": "51e00f5c-acc7-407f-b10f-8e9542801b4a"
      },
      "source": [
        "y = rnn(x)\n",
        "print(y.shape)"
      ],
      "execution_count": null,
      "outputs": [
        {
          "output_type": "stream",
          "text": [
            "(2, 100, 16)\n"
          ],
          "name": "stdout"
        }
      ]
    },
    {
      "cell_type": "markdown",
      "metadata": {
        "id": "aAmGPnuTS2vC"
      },
      "source": [
        "Теперь давайте напишем свою реализацию рекуррентной нейросети (без использования `keras.Sequential` и `keras.layers.SimpleRNN`)\n",
        "\n",
        "**[Задание 1]** Реализуйте рекуррентную нейронную сеть (класс `RNN`, наследованный от `tf.keras.Model`), эквивалентную описанной выше модели на Keras. Используйте для этого RNN ячейку (класс `RNNCell`) из предыдущего урока. \n",
        "\n",
        "**[Задание 2]** Сравните результаты работы класса `RNN` с оригинальной моделью на Keras так же, как мы это делали раньше (разница должна получиться равной нулю). Вам также будет необходимо скопировать веса в новую модель. В Keras модели веса находятся вот в таких переменных: `rnn.layers[i].weights[j]`"
      ]
    },
    {
      "cell_type": "code",
      "metadata": {
        "id": "FuI95DkoWUhk"
      },
      "source": [
        "# RNN ячейка из предыдущего урока\n",
        "class RNNCell(tf.keras.Model):\n",
        "    def __init__(self, h_size):\n",
        "        super().__init__()\n",
        "        self.h_size = h_size\n",
        "        self.fcXH = tf.keras.layers.Dense(self.h_size)\n",
        "        self.fcHH = tf.keras.layers.Dense(self.h_size, use_bias=False)\n",
        "        \n",
        "    def call(self, x, h):\n",
        "        h = tf.nn.relu(self.fcXH(x) + self.fcHH(h))\n",
        "        return h"
      ],
      "execution_count": null,
      "outputs": []
    },
    {
      "cell_type": "code",
      "metadata": {
        "id": "THEE6Ylll_or"
      },
      "source": [
        "# Рекуррентная нейросеть\n",
        "class RNN(tf.keras.Model):\n",
        "    def __init__(self, h_size, out_size):\n",
        "        super().__init__()\n",
        "        self.h_size = h_size\n",
        "        self.rnn_cell = RNNCell(h_size)\n",
        "        self.fcHY = tf.keras.layers.Dense(out_size)\n",
        "\n",
        "    def call(self, x_all):\n",
        "        batch, length, emb_size = x.shape\n",
        "        h = tf.zeros((batch, self.h_size))\n",
        "        y_all = []\n",
        "        \n",
        "        for i in range(length):\n",
        "            h = self.rnn_cell(x_all[:, i, :], h)\n",
        "            y = self.fcHY(h)\n",
        "            y_all.append(y)\n",
        "            \n",
        "        y_all = tf.transpose(tf.stack(y_all), [1, 0, 2])\n",
        "        return y_all\n",
        "    \n",
        "rnn_my = RNN(H_SIZE, OUT_SIZE)"
      ],
      "execution_count": null,
      "outputs": []
    },
    {
      "cell_type": "code",
      "metadata": {
        "id": "Rc1NuUydUf_t",
        "colab": {
          "base_uri": "https://localhost:8080/",
          "height": 34
        },
        "outputId": "ab7b787c-89f4-4f09-e487-fd8f41acfe33"
      },
      "source": [
        "y = rnn_my(x)\n",
        "print(y.shape)"
      ],
      "execution_count": null,
      "outputs": [
        {
          "output_type": "stream",
          "text": [
            "(2, 100, 16)\n"
          ],
          "name": "stdout"
        }
      ]
    },
    {
      "cell_type": "code",
      "metadata": {
        "id": "4DzMWuYtUrvD",
        "colab": {
          "base_uri": "https://localhost:8080/",
          "height": 34
        },
        "outputId": "aee8fda5-3f84-4ddb-cb5a-225259fd667a"
      },
      "source": [
        "# Перед тем, как что-то присваивать в параметры модели, нужно чтобы они создались.\n",
        "# Для этого можно вызвать либо инференс с каким-то входом, либо model.build(...)\n",
        "\n",
        "rnn_my.rnn_cell.fcXH.kernel = rnn.layers[0].weights[0]\n",
        "rnn_my.rnn_cell.fcHH.kernel = rnn.layers[0].weights[1]\n",
        "rnn_my.rnn_cell.fcXH.bias = rnn.layers[0].weights[2]\n",
        "\n",
        "rnn_my.fcHY.kernel = rnn.layers[1].weights[0]\n",
        "rnn_my.fcHY.bias = rnn.layers[1].weights[1]\n",
        "\n",
        "y = rnn(x)\n",
        "y_my = rnn_my(x)\n",
        "\n",
        "print(np.max(np.abs(y.numpy() - y_my.numpy())))"
      ],
      "execution_count": null,
      "outputs": [
        {
          "output_type": "stream",
          "text": [
            "1.1920929e-07\n"
          ],
          "name": "stdout"
        }
      ]
    }
  ]
}