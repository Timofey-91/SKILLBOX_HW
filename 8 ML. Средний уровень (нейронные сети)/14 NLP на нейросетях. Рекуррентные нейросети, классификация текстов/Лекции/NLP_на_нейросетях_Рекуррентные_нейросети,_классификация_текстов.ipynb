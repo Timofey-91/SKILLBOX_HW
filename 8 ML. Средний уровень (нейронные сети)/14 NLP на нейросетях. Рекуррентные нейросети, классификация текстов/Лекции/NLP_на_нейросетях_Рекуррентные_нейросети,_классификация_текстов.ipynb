{
  "nbformat": 4,
  "nbformat_minor": 0,
  "metadata": {
    "kernelspec": {
      "display_name": "tf-gpu",
      "language": "python",
      "name": "tf-gpu"
    },
    "language_info": {
      "codemirror_mode": {
        "name": "ipython",
        "version": 3
      },
      "file_extension": ".py",
      "mimetype": "text/x-python",
      "name": "python",
      "nbconvert_exporter": "python",
      "pygments_lexer": "ipython3",
      "version": "3.9.5"
    },
    "colab": {
      "name": "Data-Scientist.-ML.-Средний-уровень-(нейронные-сети)__NLP на нейросетях. Рекуррентные нейросети, классификация текстов.ipynb",
      "provenance": []
    }
  },
  "cells": [
    {
      "cell_type": "code",
      "metadata": {
        "id": "PUpQDUcy67dN"
      },
      "source": [
        "import os\n",
        "import numpy as np\n",
        "import tensorflow as tf\n",
        "import pandas as pd\n",
        "import nltk\n",
        "import re\n",
        "from random import randint\n",
        "from nltk.stem import WordNetLemmatizer\n",
        "import string\n",
        "from sklearn.model_selection import train_test_split\n",
        "from gensim.models import Word2Vec\n",
        "from sklearn.feature_extraction.text import CountVectorizer\n",
        "from sklearn.feature_extraction.text import TfidfVectorizer\n",
        "from keras.preprocessing.text import Tokenizer\n",
        "from sklearn.preprocessing import LabelEncoder, OneHotEncoder\n",
        "import logging\n",
        "logging.basicConfig(format='%(asctime)s : %(levelname)s : %(message)s', level=logging.INFO)\n",
        "import matplotlib.pyplot as plt\n",
        "%matplotlib inline\n",
        "# nltk.download('stopwords')\n",
        "\n",
        "from nltk.stem.porter import PorterStemmer\n",
        "from nltk.corpus import stopwords\n",
        "from tensorflow.keras.preprocessing.text import one_hot"
      ],
      "execution_count": null,
      "outputs": []
    },
    {
      "cell_type": "code",
      "metadata": {
        "id": "WunmwYEl67dR",
        "outputId": "e36d9f15-4706-4916-d1c2-58703a3df7d3"
      },
      "source": [
        "# creating instance of labelencoder\n",
        "labelencoder = LabelEncoder()# Assigning numerical values and storing in another column\n",
        "\n",
        "\n",
        "df_train = pd.read_csv('train_data.txt', sep=':::', header=None)\n",
        "df_train.reset_index()\n",
        "\n",
        "df_train.columns = ['old_index', 'film', 'genre', 'rewiev']\n",
        "df_train.drop(['old_index'], axis=1, inplace=True)\n",
        "\n",
        "y = df_train.genre\n",
        "X = y.values.reshape(-1, 1)\n",
        "\n",
        "ohe = OneHotEncoder()\n",
        "X = ohe.fit_transform(X).toarray()\n",
        "# df_train['target'] = OneHotEncoder().fit_transform(df_train['genre'].values.reshape(-1, 1)).toarray()\n",
        "df_train.head()"
      ],
      "execution_count": null,
      "outputs": [
        {
          "name": "stderr",
          "output_type": "stream",
          "text": [
            "/home/vad/anaconda3/envs/tf/lib/python3.9/site-packages/pandas/util/_decorators.py:311: ParserWarning: Falling back to the 'python' engine because the 'c' engine does not support regex separators (separators > 1 char and different from '\\s+' are interpreted as regex); you can avoid this warning by specifying engine='python'.\n",
            "  return func(*args, **kwargs)\n"
          ]
        },
        {
          "data": {
            "text/html": [
              "<div>\n",
              "<style scoped>\n",
              "    .dataframe tbody tr th:only-of-type {\n",
              "        vertical-align: middle;\n",
              "    }\n",
              "\n",
              "    .dataframe tbody tr th {\n",
              "        vertical-align: top;\n",
              "    }\n",
              "\n",
              "    .dataframe thead th {\n",
              "        text-align: right;\n",
              "    }\n",
              "</style>\n",
              "<table border=\"1\" class=\"dataframe\">\n",
              "  <thead>\n",
              "    <tr style=\"text-align: right;\">\n",
              "      <th></th>\n",
              "      <th>film</th>\n",
              "      <th>genre</th>\n",
              "      <th>rewiev</th>\n",
              "    </tr>\n",
              "  </thead>\n",
              "  <tbody>\n",
              "    <tr>\n",
              "      <th>0</th>\n",
              "      <td>Oscar et la dame rose (2009)</td>\n",
              "      <td>drama</td>\n",
              "      <td>Listening in to a conversation between his do...</td>\n",
              "    </tr>\n",
              "    <tr>\n",
              "      <th>1</th>\n",
              "      <td>Cupid (1997)</td>\n",
              "      <td>thriller</td>\n",
              "      <td>A brother and sister with a past incestuous r...</td>\n",
              "    </tr>\n",
              "    <tr>\n",
              "      <th>2</th>\n",
              "      <td>Young, Wild and Wonderful (1980)</td>\n",
              "      <td>adult</td>\n",
              "      <td>As the bus empties the students for their fie...</td>\n",
              "    </tr>\n",
              "    <tr>\n",
              "      <th>3</th>\n",
              "      <td>The Secret Sin (1915)</td>\n",
              "      <td>drama</td>\n",
              "      <td>To help their unemployed father make ends mee...</td>\n",
              "    </tr>\n",
              "    <tr>\n",
              "      <th>4</th>\n",
              "      <td>The Unrecovered (2007)</td>\n",
              "      <td>drama</td>\n",
              "      <td>The film's title refers not only to the un-re...</td>\n",
              "    </tr>\n",
              "  </tbody>\n",
              "</table>\n",
              "</div>"
            ],
            "text/plain": [
              "                                 film       genre  \\\n",
              "0       Oscar et la dame rose (2009)       drama    \n",
              "1                       Cupid (1997)    thriller    \n",
              "2   Young, Wild and Wonderful (1980)       adult    \n",
              "3              The Secret Sin (1915)       drama    \n",
              "4             The Unrecovered (2007)       drama    \n",
              "\n",
              "                                              rewiev  \n",
              "0   Listening in to a conversation between his do...  \n",
              "1   A brother and sister with a past incestuous r...  \n",
              "2   As the bus empties the students for their fie...  \n",
              "3   To help their unemployed father make ends mee...  \n",
              "4   The film's title refers not only to the un-re...  "
            ]
          },
          "execution_count": 8,
          "metadata": {},
          "output_type": "execute_result"
        }
      ]
    },
    {
      "cell_type": "code",
      "metadata": {
        "id": "lz750aW_67dS",
        "outputId": "23a7726b-16ec-4e9c-f181-09801895e6d1"
      },
      "source": [
        "df_test = pd.read_csv('test_data.txt', sep=':::', header=None, index_col=0)\n",
        "df_test.columns = ['film', 'rewiev']\n",
        "df_test.head()"
      ],
      "execution_count": null,
      "outputs": [
        {
          "name": "stderr",
          "output_type": "stream",
          "text": [
            "/home/vad/anaconda3/envs/tf/lib/python3.9/site-packages/pandas/util/_decorators.py:311: ParserWarning: Falling back to the 'python' engine because the 'c' engine does not support regex separators (separators > 1 char and different from '\\s+' are interpreted as regex); you can avoid this warning by specifying engine='python'.\n",
            "  return func(*args, **kwargs)\n"
          ]
        },
        {
          "data": {
            "text/html": [
              "<div>\n",
              "<style scoped>\n",
              "    .dataframe tbody tr th:only-of-type {\n",
              "        vertical-align: middle;\n",
              "    }\n",
              "\n",
              "    .dataframe tbody tr th {\n",
              "        vertical-align: top;\n",
              "    }\n",
              "\n",
              "    .dataframe thead th {\n",
              "        text-align: right;\n",
              "    }\n",
              "</style>\n",
              "<table border=\"1\" class=\"dataframe\">\n",
              "  <thead>\n",
              "    <tr style=\"text-align: right;\">\n",
              "      <th></th>\n",
              "      <th>film</th>\n",
              "      <th>rewiev</th>\n",
              "    </tr>\n",
              "    <tr>\n",
              "      <th>0</th>\n",
              "      <th></th>\n",
              "      <th></th>\n",
              "    </tr>\n",
              "  </thead>\n",
              "  <tbody>\n",
              "    <tr>\n",
              "      <th>1</th>\n",
              "      <td>Edgar's Lunch (1998)</td>\n",
              "      <td>L.R. Brane loves his life - his car, his apar...</td>\n",
              "    </tr>\n",
              "    <tr>\n",
              "      <th>2</th>\n",
              "      <td>La guerra de papá (1977)</td>\n",
              "      <td>Spain, March 1964: Quico is a very naughty ch...</td>\n",
              "    </tr>\n",
              "    <tr>\n",
              "      <th>3</th>\n",
              "      <td>Off the Beaten Track (2010)</td>\n",
              "      <td>One year in the life of Albin and his family ...</td>\n",
              "    </tr>\n",
              "    <tr>\n",
              "      <th>4</th>\n",
              "      <td>Meu Amigo Hindu (2015)</td>\n",
              "      <td>His father has died, he hasn't spoken with hi...</td>\n",
              "    </tr>\n",
              "    <tr>\n",
              "      <th>5</th>\n",
              "      <td>Er nu zhai (1955)</td>\n",
              "      <td>Before he was known internationally as a mart...</td>\n",
              "    </tr>\n",
              "  </tbody>\n",
              "</table>\n",
              "</div>"
            ],
            "text/plain": [
              "                            film  \\\n",
              "0                                  \n",
              "1          Edgar's Lunch (1998)    \n",
              "2      La guerra de papá (1977)    \n",
              "3   Off the Beaten Track (2010)    \n",
              "4        Meu Amigo Hindu (2015)    \n",
              "5             Er nu zhai (1955)    \n",
              "\n",
              "                                              rewiev  \n",
              "0                                                     \n",
              "1   L.R. Brane loves his life - his car, his apar...  \n",
              "2   Spain, March 1964: Quico is a very naughty ch...  \n",
              "3   One year in the life of Albin and his family ...  \n",
              "4   His father has died, he hasn't spoken with hi...  \n",
              "5   Before he was known internationally as a mart...  "
            ]
          },
          "execution_count": 9,
          "metadata": {},
          "output_type": "execute_result"
        }
      ]
    },
    {
      "cell_type": "code",
      "metadata": {
        "id": "HWIgalzo67dT",
        "outputId": "f94fba3f-9352-4a97-925c-e7966eea3c45"
      },
      "source": [
        "print(\"Количество жанров для классификации: \",len(df_train.genre.unique()))"
      ],
      "execution_count": null,
      "outputs": [
        {
          "name": "stdout",
          "output_type": "stream",
          "text": [
            "Количество жанров для классификации:  27\n"
          ]
        }
      ]
    },
    {
      "cell_type": "code",
      "metadata": {
        "id": "VXspqo7K67dT",
        "outputId": "2f9eea42-9c98-4334-c215-09ef931b622e"
      },
      "source": [
        "print(\"Жанры фильмов:\", df_train.genre.unique())"
      ],
      "execution_count": null,
      "outputs": [
        {
          "name": "stdout",
          "output_type": "stream",
          "text": [
            "Жанры фильмов: [' drama ' ' thriller ' ' adult ' ' documentary ' ' comedy ' ' crime '\n",
            " ' reality-tv ' ' horror ' ' sport ' ' animation ' ' action ' ' fantasy '\n",
            " ' short ' ' sci-fi ' ' music ' ' adventure ' ' talk-show ' ' western '\n",
            " ' family ' ' mystery ' ' history ' ' news ' ' biography ' ' romance '\n",
            " ' game-show ' ' musical ' ' war ']\n"
          ]
        }
      ]
    },
    {
      "cell_type": "code",
      "metadata": {
        "id": "dYfJD2AL67dU",
        "outputId": "d7ce186e-7f16-4a46-d560-170b68b63cad"
      },
      "source": [
        "df_pipe = df_train.groupby('genre').size()\n",
        "\n",
        "# Make the plot with pandas\n",
        "df_pipe.plot(kind='pie', subplots=True, figsize=(12, 12))\n",
        "plt.title(\"Pie Chart of category films - Bad\")\n",
        "plt.ylabel(\"\")\n",
        "plt.show()"
      ],
      "execution_count": null,
      "outputs": [
        {
          "data": {
            "image/png": "[encoded data removed]",
            "text/plain": [
              "<Figure size 864x864 with 1 Axes>"
            ]
          },
          "metadata": {},
          "output_type": "display_data"
        }
      ]
    },
    {
      "cell_type": "code",
      "metadata": {
        "id": "PlzjTNZv67dU"
      },
      "source": [
        "from sklearn.feature_extraction import text\n",
        "my_stop_words = text.ENGLISH_STOP_WORDS"
      ],
      "execution_count": null,
      "outputs": []
    },
    {
      "cell_type": "code",
      "metadata": {
        "id": "jDWeW8Ow67dV"
      },
      "source": [
        "lemmatizer = WordNetLemmatizer()"
      ],
      "execution_count": null,
      "outputs": []
    },
    {
      "cell_type": "code",
      "metadata": {
        "id": "cHpE_HIF67dW"
      },
      "source": [
        "clear_years = lambda x: x[:-7]\n",
        "def try_regex(text):\n",
        "    text = re.sub(r\"[^a-zA-Z1-9]+\", \" \", text)\n",
        "    return text\n",
        "\n",
        "\n",
        "def tokenize(text):\n",
        "    text = [lemmatizer.lemmatize(i.lower()) for i in nltk.word_tokenize(text.replace('-', ' ')) if i not in string.punctuation]\n",
        "    filter_text = [i for i in text if ( i not in my_stop_words )]\n",
        "    return filter_text\n",
        "\n",
        "def clear_data(dataset):\n",
        "    dataset = dataset.film.apply(clear_years)\n",
        "    dataset['tokenized'] = dataset.rewiev.apply(tokenize)\n",
        "    return dataset"
      ],
      "execution_count": null,
      "outputs": []
    },
    {
      "cell_type": "code",
      "metadata": {
        "id": "yCljzPIW67dX",
        "outputId": "fe3f77d2-5766-493d-ca0c-ed8fbeac04f5"
      },
      "source": [
        "df_train['tokenized'] = df_train.rewiev.apply(try_regex)\n",
        "df_test['tokenized'] = df_test.rewiev.apply(try_regex)\n",
        "df_train.head()"
      ],
      "execution_count": null,
      "outputs": [
        {
          "data": {
            "text/html": [
              "<div>\n",
              "<style scoped>\n",
              "    .dataframe tbody tr th:only-of-type {\n",
              "        vertical-align: middle;\n",
              "    }\n",
              "\n",
              "    .dataframe tbody tr th {\n",
              "        vertical-align: top;\n",
              "    }\n",
              "\n",
              "    .dataframe thead th {\n",
              "        text-align: right;\n",
              "    }\n",
              "</style>\n",
              "<table border=\"1\" class=\"dataframe\">\n",
              "  <thead>\n",
              "    <tr style=\"text-align: right;\">\n",
              "      <th></th>\n",
              "      <th>film</th>\n",
              "      <th>genre</th>\n",
              "      <th>rewiev</th>\n",
              "      <th>tokenized</th>\n",
              "    </tr>\n",
              "  </thead>\n",
              "  <tbody>\n",
              "    <tr>\n",
              "      <th>0</th>\n",
              "      <td>Oscar et la dame rose (2009)</td>\n",
              "      <td>drama</td>\n",
              "      <td>Listening in to a conversation between his do...</td>\n",
              "      <td>Listening in to a conversation between his do...</td>\n",
              "    </tr>\n",
              "    <tr>\n",
              "      <th>1</th>\n",
              "      <td>Cupid (1997)</td>\n",
              "      <td>thriller</td>\n",
              "      <td>A brother and sister with a past incestuous r...</td>\n",
              "      <td>A brother and sister with a past incestuous r...</td>\n",
              "    </tr>\n",
              "    <tr>\n",
              "      <th>2</th>\n",
              "      <td>Young, Wild and Wonderful (1980)</td>\n",
              "      <td>adult</td>\n",
              "      <td>As the bus empties the students for their fie...</td>\n",
              "      <td>As the bus empties the students for their fie...</td>\n",
              "    </tr>\n",
              "    <tr>\n",
              "      <th>3</th>\n",
              "      <td>The Secret Sin (1915)</td>\n",
              "      <td>drama</td>\n",
              "      <td>To help their unemployed father make ends mee...</td>\n",
              "      <td>To help their unemployed father make ends mee...</td>\n",
              "    </tr>\n",
              "    <tr>\n",
              "      <th>4</th>\n",
              "      <td>The Unrecovered (2007)</td>\n",
              "      <td>drama</td>\n",
              "      <td>The film's title refers not only to the un-re...</td>\n",
              "      <td>The film s title refers not only to the un re...</td>\n",
              "    </tr>\n",
              "  </tbody>\n",
              "</table>\n",
              "</div>"
            ],
            "text/plain": [
              "                                 film       genre  \\\n",
              "0       Oscar et la dame rose (2009)       drama    \n",
              "1                       Cupid (1997)    thriller    \n",
              "2   Young, Wild and Wonderful (1980)       adult    \n",
              "3              The Secret Sin (1915)       drama    \n",
              "4             The Unrecovered (2007)       drama    \n",
              "\n",
              "                                              rewiev  \\\n",
              "0   Listening in to a conversation between his do...   \n",
              "1   A brother and sister with a past incestuous r...   \n",
              "2   As the bus empties the students for their fie...   \n",
              "3   To help their unemployed father make ends mee...   \n",
              "4   The film's title refers not only to the un-re...   \n",
              "\n",
              "                                           tokenized  \n",
              "0   Listening in to a conversation between his do...  \n",
              "1   A brother and sister with a past incestuous r...  \n",
              "2   As the bus empties the students for their fie...  \n",
              "3   To help their unemployed father make ends mee...  \n",
              "4   The film s title refers not only to the un re...  "
            ]
          },
          "execution_count": 16,
          "metadata": {},
          "output_type": "execute_result"
        }
      ]
    },
    {
      "cell_type": "code",
      "metadata": {
        "id": "Astzeeqq67dY",
        "outputId": "6c8ecb78-73aa-4cbd-c0c2-f199be738d87"
      },
      "source": [
        "df_train['tokenized'] = df_train.tokenized.apply(tokenize)\n",
        "df_test['tokenized'] = df_test.tokenized.apply(tokenize)\n",
        "df_train.head()"
      ],
      "execution_count": null,
      "outputs": [
        {
          "data": {
            "text/html": [
              "<div>\n",
              "<style scoped>\n",
              "    .dataframe tbody tr th:only-of-type {\n",
              "        vertical-align: middle;\n",
              "    }\n",
              "\n",
              "    .dataframe tbody tr th {\n",
              "        vertical-align: top;\n",
              "    }\n",
              "\n",
              "    .dataframe thead th {\n",
              "        text-align: right;\n",
              "    }\n",
              "</style>\n",
              "<table border=\"1\" class=\"dataframe\">\n",
              "  <thead>\n",
              "    <tr style=\"text-align: right;\">\n",
              "      <th></th>\n",
              "      <th>film</th>\n",
              "      <th>genre</th>\n",
              "      <th>rewiev</th>\n",
              "      <th>tokenized</th>\n",
              "    </tr>\n",
              "  </thead>\n",
              "  <tbody>\n",
              "    <tr>\n",
              "      <th>0</th>\n",
              "      <td>Oscar et la dame rose (2009)</td>\n",
              "      <td>drama</td>\n",
              "      <td>Listening in to a conversation between his do...</td>\n",
              "      <td>[listening, conversation, doctor, parent, 1, y...</td>\n",
              "    </tr>\n",
              "    <tr>\n",
              "      <th>1</th>\n",
              "      <td>Cupid (1997)</td>\n",
              "      <td>thriller</td>\n",
              "      <td>A brother and sister with a past incestuous r...</td>\n",
              "      <td>[brother, sister, past, incestuous, relationsh...</td>\n",
              "    </tr>\n",
              "    <tr>\n",
              "      <th>2</th>\n",
              "      <td>Young, Wild and Wonderful (1980)</td>\n",
              "      <td>adult</td>\n",
              "      <td>As the bus empties the students for their fie...</td>\n",
              "      <td>[bus, student, field, trip, museum, natural, h...</td>\n",
              "    </tr>\n",
              "    <tr>\n",
              "      <th>3</th>\n",
              "      <td>The Secret Sin (1915)</td>\n",
              "      <td>drama</td>\n",
              "      <td>To help their unemployed father make ends mee...</td>\n",
              "      <td>[help, unemployed, father, make, end, meet, ed...</td>\n",
              "    </tr>\n",
              "    <tr>\n",
              "      <th>4</th>\n",
              "      <td>The Unrecovered (2007)</td>\n",
              "      <td>drama</td>\n",
              "      <td>The film's title refers not only to the un-re...</td>\n",
              "      <td>[film, s, title, refers, recovered, body, grou...</td>\n",
              "    </tr>\n",
              "  </tbody>\n",
              "</table>\n",
              "</div>"
            ],
            "text/plain": [
              "                                 film       genre  \\\n",
              "0       Oscar et la dame rose (2009)       drama    \n",
              "1                       Cupid (1997)    thriller    \n",
              "2   Young, Wild and Wonderful (1980)       adult    \n",
              "3              The Secret Sin (1915)       drama    \n",
              "4             The Unrecovered (2007)       drama    \n",
              "\n",
              "                                              rewiev  \\\n",
              "0   Listening in to a conversation between his do...   \n",
              "1   A brother and sister with a past incestuous r...   \n",
              "2   As the bus empties the students for their fie...   \n",
              "3   To help their unemployed father make ends mee...   \n",
              "4   The film's title refers not only to the un-re...   \n",
              "\n",
              "                                           tokenized  \n",
              "0  [listening, conversation, doctor, parent, 1, y...  \n",
              "1  [brother, sister, past, incestuous, relationsh...  \n",
              "2  [bus, student, field, trip, museum, natural, h...  \n",
              "3  [help, unemployed, father, make, end, meet, ed...  \n",
              "4  [film, s, title, refers, recovered, body, grou...  "
            ]
          },
          "execution_count": 17,
          "metadata": {},
          "output_type": "execute_result"
        }
      ]
    },
    {
      "cell_type": "code",
      "metadata": {
        "id": "OTVngtVV67dY",
        "outputId": "d636385c-4278-4cc4-a66b-3648dab4d41d"
      },
      "source": [
        "def unqiue_symbols(data_frame_column):\n",
        "    \"\"\"\n",
        "    Просто смотрим, вдруг есть какие-то левые символы\n",
        "    \"\"\"\n",
        "    uniq_sumb = set()\n",
        "    for text in df_train.tokenized:\n",
        "        for word in text:\n",
        "            for symbol in word:\n",
        "                uniq_sumb.add(symbol)\n",
        "                \n",
        "    return uniq_sumb\n",
        "\n",
        "unq = unqiue_symbols(df_train.tokenized)\n",
        "\n",
        "print(unq)\n",
        "print(len(unq))"
      ],
      "execution_count": null,
      "outputs": [
        {
          "name": "stdout",
          "output_type": "stream",
          "text": [
            "{'9', '1', 'd', '5', 'o', 'j', 'y', 'z', 'b', 'w', 'g', '7', 'v', 'h', 'l', '8', '2', 'a', 'x', 'u', '6', '3', 'm', 'p', 'e', 'q', 'f', 'n', 'i', 'k', 'c', '4', 't', 's', 'r'}\n",
            "35\n"
          ]
        }
      ]
    },
    {
      "cell_type": "code",
      "metadata": {
        "id": "lrvDJX5k67dY",
        "outputId": "0488e1b8-0fa7-4aa1-d124-29019812307c"
      },
      "source": [
        "model_vect  = Word2Vec(df_train.tokenized, vector_size=256, window=10, min_count=10, workers=4 ,sg=1)"
      ],
      "execution_count": null,
      "outputs": [
        {
          "name": "stderr",
          "output_type": "stream",
          "text": [
            "2021-08-06 20:36:01,063 : INFO : collecting all words and their counts\n",
            "2021-08-06 20:36:01,064 : INFO : PROGRESS: at sentence #0, processed 0 words, keeping 0 word types\n",
            "2021-08-06 20:36:01,138 : INFO : PROGRESS: at sentence #10000, processed 558263 words, keeping 43908 word types\n",
            "2021-08-06 20:36:01,233 : INFO : PROGRESS: at sentence #20000, processed 1114389 words, keeping 63145 word types\n",
            "2021-08-06 20:36:01,308 : INFO : PROGRESS: at sentence #30000, processed 1663168 words, keeping 78384 word types\n",
            "2021-08-06 20:36:01,383 : INFO : PROGRESS: at sentence #40000, processed 2213649 words, keeping 92077 word types\n",
            "2021-08-06 20:36:01,460 : INFO : PROGRESS: at sentence #50000, processed 2767833 words, keeping 104456 word types\n",
            "2021-08-06 20:36:01,492 : INFO : collected 109243 word types from a corpus of 3001057 raw words and 54214 sentences\n",
            "2021-08-06 20:36:01,493 : INFO : Creating a fresh vocabulary\n",
            "2021-08-06 20:36:01,587 : INFO : Word2Vec lifecycle event {'msg': 'effective_min_count=10 retains 20278 unique words (18.562287743837135%% of original 109243, drops 88965)', 'datetime': '2021-08-06T20:36:01.563584', 'gensim': '4.0.1', 'python': '3.9.5 (default, Jun  4 2021, 12:28:51) \\n[GCC 7.5.0]', 'platform': 'Linux-5.11.0-25-generic-x86_64-with-glibc2.31', 'event': 'prepare_vocab'}\n",
            "2021-08-06 20:36:01,588 : INFO : Word2Vec lifecycle event {'msg': 'effective_min_count=10 leaves 2806505 word corpus (93.51721743372418%% of original 3001057, drops 194552)', 'datetime': '2021-08-06T20:36:01.588683', 'gensim': '4.0.1', 'python': '3.9.5 (default, Jun  4 2021, 12:28:51) \\n[GCC 7.5.0]', 'platform': 'Linux-5.11.0-25-generic-x86_64-with-glibc2.31', 'event': 'prepare_vocab'}\n",
            "2021-08-06 20:36:01,679 : INFO : deleting the raw counts dictionary of 109243 items\n",
            "2021-08-06 20:36:01,703 : INFO : sample=0.001 downsamples 21 most-common words\n",
            "2021-08-06 20:36:01,704 : INFO : Word2Vec lifecycle event {'msg': 'downsampling leaves estimated 2699456.641074949 word corpus (96.2%% of prior 2806505)', 'datetime': '2021-08-06T20:36:01.704074', 'gensim': '4.0.1', 'python': '3.9.5 (default, Jun  4 2021, 12:28:51) \\n[GCC 7.5.0]', 'platform': 'Linux-5.11.0-25-generic-x86_64-with-glibc2.31', 'event': 'prepare_vocab'}\n",
            "2021-08-06 20:36:01,859 : INFO : estimated required memory for 20278 words and 256 dimensions: 51668344 bytes\n",
            "2021-08-06 20:36:01,860 : INFO : resetting layer weights\n",
            "2021-08-06 20:36:01,879 : INFO : Word2Vec lifecycle event {'update': False, 'trim_rule': 'None', 'datetime': '2021-08-06T20:36:01.879317', 'gensim': '4.0.1', 'python': '3.9.5 (default, Jun  4 2021, 12:28:51) \\n[GCC 7.5.0]', 'platform': 'Linux-5.11.0-25-generic-x86_64-with-glibc2.31', 'event': 'build_vocab'}\n",
            "2021-08-06 20:36:01,879 : INFO : Word2Vec lifecycle event {'msg': 'training model with 4 workers on 20278 vocabulary and 256 features, using sg=1 hs=0 sample=0.001 negative=5 window=10', 'datetime': '2021-08-06T20:36:01.879790', 'gensim': '4.0.1', 'python': '3.9.5 (default, Jun  4 2021, 12:28:51) \\n[GCC 7.5.0]', 'platform': 'Linux-5.11.0-25-generic-x86_64-with-glibc2.31', 'event': 'train'}\n",
            "2021-08-06 20:36:02,907 : INFO : EPOCH 1 - PROGRESS: at 8.51% examples, 227297 words/s, in_qsize 7, out_qsize 0\n",
            "2021-08-06 20:36:03,916 : INFO : EPOCH 1 - PROGRESS: at 17.78% examples, 237763 words/s, in_qsize 8, out_qsize 0\n",
            "2021-08-06 20:36:04,918 : INFO : EPOCH 1 - PROGRESS: at 26.76% examples, 238861 words/s, in_qsize 7, out_qsize 0\n",
            "2021-08-06 20:36:05,932 : INFO : EPOCH 1 - PROGRESS: at 35.95% examples, 241126 words/s, in_qsize 7, out_qsize 0\n",
            "2021-08-06 20:36:06,935 : INFO : EPOCH 1 - PROGRESS: at 45.28% examples, 242951 words/s, in_qsize 7, out_qsize 0\n",
            "2021-08-06 20:36:07,937 : INFO : EPOCH 1 - PROGRESS: at 54.97% examples, 245608 words/s, in_qsize 7, out_qsize 0\n",
            "2021-08-06 20:36:08,977 : INFO : EPOCH 1 - PROGRESS: at 64.70% examples, 246262 words/s, in_qsize 8, out_qsize 0\n",
            "2021-08-06 20:36:10,030 : INFO : EPOCH 1 - PROGRESS: at 74.02% examples, 245184 words/s, in_qsize 7, out_qsize 0\n",
            "2021-08-06 20:36:11,071 : INFO : EPOCH 1 - PROGRESS: at 83.89% examples, 246534 words/s, in_qsize 7, out_qsize 0\n",
            "2021-08-06 20:36:12,072 : INFO : EPOCH 1 - PROGRESS: at 93.25% examples, 246980 words/s, in_qsize 7, out_qsize 0\n",
            "2021-08-06 20:36:12,708 : INFO : worker thread finished; awaiting finish of 3 more threads\n",
            "2021-08-06 20:36:12,730 : INFO : worker thread finished; awaiting finish of 2 more threads\n",
            "2021-08-06 20:36:12,761 : INFO : worker thread finished; awaiting finish of 1 more threads\n",
            "2021-08-06 20:36:12,780 : INFO : worker thread finished; awaiting finish of 0 more threads\n",
            "2021-08-06 20:36:12,780 : INFO : EPOCH - 1 : training on 3001057 raw words (2699304 effective words) took 10.9s, 247681 effective words/s\n",
            "2021-08-06 20:36:13,795 : INFO : EPOCH 2 - PROGRESS: at 9.17% examples, 247968 words/s, in_qsize 7, out_qsize 0\n",
            "2021-08-06 20:36:14,797 : INFO : EPOCH 2 - PROGRESS: at 18.43% examples, 249074 words/s, in_qsize 7, out_qsize 0\n",
            "2021-08-06 20:36:15,863 : INFO : EPOCH 2 - PROGRESS: at 28.13% examples, 247156 words/s, in_qsize 7, out_qsize 0\n",
            "2021-08-06 20:36:16,879 : INFO : EPOCH 2 - PROGRESS: at 37.59% examples, 249430 words/s, in_qsize 7, out_qsize 0\n",
            "2021-08-06 20:36:17,892 : INFO : EPOCH 2 - PROGRESS: at 46.94% examples, 249099 words/s, in_qsize 7, out_qsize 0\n",
            "2021-08-06 20:36:18,924 : INFO : EPOCH 2 - PROGRESS: at 55.98% examples, 246625 words/s, in_qsize 7, out_qsize 0\n",
            "2021-08-06 20:36:19,928 : INFO : EPOCH 2 - PROGRESS: at 65.73% examples, 248380 words/s, in_qsize 7, out_qsize 0\n",
            "2021-08-06 20:36:20,945 : INFO : EPOCH 2 - PROGRESS: at 74.70% examples, 247016 words/s, in_qsize 7, out_qsize 0\n",
            "2021-08-06 20:36:21,980 : INFO : EPOCH 2 - PROGRESS: at 84.91% examples, 249327 words/s, in_qsize 7, out_qsize 0\n",
            "2021-08-06 20:36:22,994 : INFO : EPOCH 2 - PROGRESS: at 93.58% examples, 247395 words/s, in_qsize 7, out_qsize 0\n",
            "2021-08-06 20:36:23,572 : INFO : worker thread finished; awaiting finish of 3 more threads\n",
            "2021-08-06 20:36:23,579 : INFO : worker thread finished; awaiting finish of 2 more threads\n",
            "2021-08-06 20:36:23,603 : INFO : worker thread finished; awaiting finish of 1 more threads\n",
            "2021-08-06 20:36:23,654 : INFO : worker thread finished; awaiting finish of 0 more threads\n",
            "2021-08-06 20:36:23,655 : INFO : EPOCH - 2 : training on 3001057 raw words (2699428 effective words) took 10.9s, 248320 effective words/s\n",
            "2021-08-06 20:36:24,677 : INFO : EPOCH 3 - PROGRESS: at 8.18% examples, 219489 words/s, in_qsize 7, out_qsize 0\n",
            "2021-08-06 20:36:25,705 : INFO : EPOCH 3 - PROGRESS: at 17.78% examples, 236136 words/s, in_qsize 7, out_qsize 0\n",
            "2021-08-06 20:36:26,712 : INFO : EPOCH 3 - PROGRESS: at 26.76% examples, 237338 words/s, in_qsize 7, out_qsize 0\n",
            "2021-08-06 20:36:27,720 : INFO : EPOCH 3 - PROGRESS: at 35.95% examples, 240368 words/s, in_qsize 7, out_qsize 0\n",
            "2021-08-06 20:36:28,724 : INFO : EPOCH 3 - PROGRESS: at 45.28% examples, 242332 words/s, in_qsize 7, out_qsize 0\n",
            "2021-08-06 20:36:29,747 : INFO : EPOCH 3 - PROGRESS: at 54.97% examples, 244224 words/s, in_qsize 7, out_qsize 0\n",
            "2021-08-06 20:36:30,790 : INFO : EPOCH 3 - PROGRESS: at 64.37% examples, 243728 words/s, in_qsize 7, out_qsize 0\n",
            "2021-08-06 20:36:31,821 : INFO : EPOCH 3 - PROGRESS: at 73.68% examples, 243597 words/s, in_qsize 7, out_qsize 0\n",
            "2021-08-06 20:36:32,864 : INFO : EPOCH 3 - PROGRESS: at 82.89% examples, 243174 words/s, in_qsize 7, out_qsize 0\n",
            "2021-08-06 20:36:33,891 : INFO : EPOCH 3 - PROGRESS: at 92.24% examples, 243312 words/s, in_qsize 7, out_qsize 0\n",
            "2021-08-06 20:36:34,628 : INFO : worker thread finished; awaiting finish of 3 more threads\n",
            "2021-08-06 20:36:34,664 : INFO : worker thread finished; awaiting finish of 2 more threads\n",
            "2021-08-06 20:36:34,673 : INFO : worker thread finished; awaiting finish of 1 more threads\n",
            "2021-08-06 20:36:34,685 : INFO : worker thread finished; awaiting finish of 0 more threads\n",
            "2021-08-06 20:36:34,685 : INFO : EPOCH - 3 : training on 3001057 raw words (2699548 effective words) took 11.0s, 244782 effective words/s\n",
            "2021-08-06 20:36:35,735 : INFO : EPOCH 4 - PROGRESS: at 8.85% examples, 230977 words/s, in_qsize 7, out_qsize 0\n",
            "2021-08-06 20:36:36,787 : INFO : EPOCH 4 - PROGRESS: at 17.78% examples, 230345 words/s, in_qsize 7, out_qsize 0\n"
          ]
        },
        {
          "name": "stderr",
          "output_type": "stream",
          "text": [
            "2021-08-06 20:36:37,791 : INFO : EPOCH 4 - PROGRESS: at 26.76% examples, 233672 words/s, in_qsize 7, out_qsize 0\n",
            "2021-08-06 20:36:38,878 : INFO : EPOCH 4 - PROGRESS: at 36.27% examples, 235269 words/s, in_qsize 7, out_qsize 0\n",
            "2021-08-06 20:36:39,963 : INFO : EPOCH 4 - PROGRESS: at 46.29% examples, 237825 words/s, in_qsize 7, out_qsize 0\n",
            "2021-08-06 20:36:40,970 : INFO : EPOCH 4 - PROGRESS: at 55.64% examples, 239600 words/s, in_qsize 7, out_qsize 0\n",
            "2021-08-06 20:36:41,985 : INFO : EPOCH 4 - PROGRESS: at 65.40% examples, 241936 words/s, in_qsize 7, out_qsize 0\n",
            "2021-08-06 20:36:43,057 : INFO : EPOCH 4 - PROGRESS: at 75.00% examples, 241930 words/s, in_qsize 7, out_qsize 0\n",
            "2021-08-06 20:36:44,059 : INFO : EPOCH 4 - PROGRESS: at 84.58% examples, 243722 words/s, in_qsize 7, out_qsize 0\n",
            "2021-08-06 20:36:45,059 : INFO : EPOCH 4 - PROGRESS: at 93.25% examples, 242714 words/s, in_qsize 7, out_qsize 0\n",
            "2021-08-06 20:36:45,724 : INFO : worker thread finished; awaiting finish of 3 more threads\n",
            "2021-08-06 20:36:45,749 : INFO : worker thread finished; awaiting finish of 2 more threads\n",
            "2021-08-06 20:36:45,765 : INFO : worker thread finished; awaiting finish of 1 more threads\n",
            "2021-08-06 20:36:45,773 : INFO : worker thread finished; awaiting finish of 0 more threads\n",
            "2021-08-06 20:36:45,773 : INFO : EPOCH - 4 : training on 3001057 raw words (2699807 effective words) took 11.1s, 243534 effective words/s\n",
            "2021-08-06 20:36:46,777 : INFO : EPOCH 5 - PROGRESS: at 8.51% examples, 232454 words/s, in_qsize 7, out_qsize 0\n",
            "2021-08-06 20:36:47,836 : INFO : EPOCH 5 - PROGRESS: at 18.11% examples, 239019 words/s, in_qsize 7, out_qsize 0\n",
            "2021-08-06 20:36:48,851 : INFO : EPOCH 5 - PROGRESS: at 27.45% examples, 241538 words/s, in_qsize 7, out_qsize 0\n",
            "2021-08-06 20:36:49,919 : INFO : EPOCH 5 - PROGRESS: at 36.91% examples, 242164 words/s, in_qsize 7, out_qsize 0\n",
            "2021-08-06 20:36:50,969 : INFO : EPOCH 5 - PROGRESS: at 46.29% examples, 241503 words/s, in_qsize 7, out_qsize 0\n",
            "2021-08-06 20:36:51,972 : INFO : EPOCH 5 - PROGRESS: at 55.63% examples, 242907 words/s, in_qsize 7, out_qsize 0\n",
            "2021-08-06 20:36:53,036 : INFO : EPOCH 5 - PROGRESS: at 65.40% examples, 243133 words/s, in_qsize 7, out_qsize 0\n",
            "2021-08-06 20:36:54,068 : INFO : EPOCH 5 - PROGRESS: at 74.34% examples, 241956 words/s, in_qsize 8, out_qsize 0\n",
            "2021-08-06 20:36:55,102 : INFO : EPOCH 5 - PROGRESS: at 83.57% examples, 241934 words/s, in_qsize 7, out_qsize 0\n",
            "2021-08-06 20:36:56,170 : INFO : EPOCH 5 - PROGRESS: at 92.89% examples, 241224 words/s, in_qsize 7, out_qsize 0\n",
            "2021-08-06 20:36:56,810 : INFO : worker thread finished; awaiting finish of 3 more threads\n",
            "2021-08-06 20:36:56,833 : INFO : worker thread finished; awaiting finish of 2 more threads\n",
            "2021-08-06 20:36:56,872 : INFO : worker thread finished; awaiting finish of 1 more threads\n",
            "2021-08-06 20:36:56,894 : INFO : worker thread finished; awaiting finish of 0 more threads\n",
            "2021-08-06 20:36:56,894 : INFO : EPOCH - 5 : training on 3001057 raw words (2699307 effective words) took 11.1s, 242770 effective words/s\n",
            "2021-08-06 20:36:56,895 : INFO : Word2Vec lifecycle event {'msg': 'training on 15005285 raw words (13497394 effective words) took 55.0s, 245341 effective words/s', 'datetime': '2021-08-06T20:36:56.895019', 'gensim': '4.0.1', 'python': '3.9.5 (default, Jun  4 2021, 12:28:51) \\n[GCC 7.5.0]', 'platform': 'Linux-5.11.0-25-generic-x86_64-with-glibc2.31', 'event': 'train'}\n",
            "2021-08-06 20:36:56,895 : INFO : Word2Vec lifecycle event {'params': 'Word2Vec(vocab=20278, vector_size=256, alpha=0.025)', 'datetime': '2021-08-06T20:36:56.895447', 'gensim': '4.0.1', 'python': '3.9.5 (default, Jun  4 2021, 12:28:51) \\n[GCC 7.5.0]', 'platform': 'Linux-5.11.0-25-generic-x86_64-with-glibc2.31', 'event': 'created'}\n"
          ]
        }
      ]
    },
    {
      "cell_type": "code",
      "metadata": {
        "id": "6_dQquxI67dZ"
      },
      "source": [
        "word_vocab = model_vect.wv.key_to_index"
      ],
      "execution_count": null,
      "outputs": []
    },
    {
      "cell_type": "code",
      "metadata": {
        "id": "dfPLCBwQ67dZ"
      },
      "source": [
        "word_vocab = {k:(v+3) for k,v in word_vocab.items()} \n",
        "word_vocab[\"<PAD>\"] = 0\n",
        "word_vocab[\"<START>\"] = 1\n",
        "word_vocab[\"<UNKNOWN>\"] = 2\n",
        "\n",
        "reverse_word_vocab = dict([(value, key) for (key, value) in word_vocab.items()])\n",
        "\n",
        "# последовательность индексов в текст\n",
        "def decode_review(text):\n",
        "    return ' '.join([reverse_word_vocab.get(i, '?') for i in text])\n",
        "\n",
        "# текст в последовательность индексов\n",
        "def encode_review(text):\n",
        "    text = ['<START>'] + text\n",
        "    idxs = np.array([word_vocab.get(word, word_vocab['<UNKNOWN>']) for word in text])\n",
        "    return idxs\n"
      ],
      "execution_count": null,
      "outputs": []
    },
    {
      "cell_type": "code",
      "metadata": {
        "id": "3ka6Lj-z67da",
        "outputId": "f058ceaa-97a5-4ca9-fe25-d0a65e42386b"
      },
      "source": [
        "df_train['vect'] = df_train.tokenized.apply(encode_review)\n",
        "df_test['vect'] = df_test.tokenized.apply(encode_review)\n",
        "\n",
        "print(df_train.tokenized[1])\n",
        "print('Example of a decoded review: \\n{}'.format(decode_review(df_train.vect[1])))"
      ],
      "execution_count": null,
      "outputs": [
        {
          "name": "stdout",
          "output_type": "stream",
          "text": [
            "['brother', 'sister', 'past', 'incestuous', 'relationship', 'current', 'murderous', 'relationship', 'murder', 'woman', 'reject', 'murder', 'woman', 'close']\n",
            "Example of a decoded review: \n",
            "<START> brother sister past incestuous relationship current murderous relationship murder woman reject murder woman close\n"
          ]
        }
      ]
    },
    {
      "cell_type": "code",
      "metadata": {
        "id": "7wxR83rv67da",
        "outputId": "4834b70a-7bc1-487d-8c27-eb1296e9476f"
      },
      "source": [
        "df_train.head()"
      ],
      "execution_count": null,
      "outputs": [
        {
          "data": {
            "text/html": [
              "<div>\n",
              "<style scoped>\n",
              "    .dataframe tbody tr th:only-of-type {\n",
              "        vertical-align: middle;\n",
              "    }\n",
              "\n",
              "    .dataframe tbody tr th {\n",
              "        vertical-align: top;\n",
              "    }\n",
              "\n",
              "    .dataframe thead th {\n",
              "        text-align: right;\n",
              "    }\n",
              "</style>\n",
              "<table border=\"1\" class=\"dataframe\">\n",
              "  <thead>\n",
              "    <tr style=\"text-align: right;\">\n",
              "      <th></th>\n",
              "      <th>film</th>\n",
              "      <th>genre</th>\n",
              "      <th>rewiev</th>\n",
              "      <th>tokenized</th>\n",
              "      <th>vect</th>\n",
              "    </tr>\n",
              "  </thead>\n",
              "  <tbody>\n",
              "    <tr>\n",
              "      <th>0</th>\n",
              "      <td>Oscar et la dame rose (2009)</td>\n",
              "      <td>drama</td>\n",
              "      <td>Listening in to a conversation between his do...</td>\n",
              "      <td>[listening, conversation, doctor, parent, 1, y...</td>\n",
              "      <td>[1, 4637, 1048, 248, 112, 77, 8, 21, 2106, 337...</td>\n",
              "    </tr>\n",
              "    <tr>\n",
              "      <th>1</th>\n",
              "      <td>Cupid (1997)</td>\n",
              "      <td>thriller</td>\n",
              "      <td>A brother and sister with a past incestuous r...</td>\n",
              "      <td>[brother, sister, past, incestuous, relationsh...</td>\n",
              "      <td>[1, 55, 99, 79, 12513, 76, 746, 3820, 76, 154,...</td>\n",
              "    </tr>\n",
              "    <tr>\n",
              "      <th>2</th>\n",
              "      <td>Young, Wild and Wonderful (1980)</td>\n",
              "      <td>adult</td>\n",
              "      <td>As the bus empties the students for their fie...</td>\n",
              "      <td>[bus, student, field, trip, museum, natural, h...</td>\n",
              "      <td>[1, 1348, 100, 687, 262, 1500, 787, 90, 96, 85...</td>\n",
              "    </tr>\n",
              "    <tr>\n",
              "      <th>3</th>\n",
              "      <td>The Secret Sin (1915)</td>\n",
              "      <td>drama</td>\n",
              "      <td>To help their unemployed father make ends mee...</td>\n",
              "      <td>[help, unemployed, father, make, end, meet, ed...</td>\n",
              "      <td>[1, 38, 2505, 24, 23, 47, 36, 5706, 1092, 99, ...</td>\n",
              "    </tr>\n",
              "    <tr>\n",
              "      <th>4</th>\n",
              "      <td>The Unrecovered (2007)</td>\n",
              "      <td>drama</td>\n",
              "      <td>The film's title refers not only to the un-re...</td>\n",
              "      <td>[film, s, title, refers, recovered, body, grou...</td>\n",
              "      <td>[1, 6, 3, 682, 5336, 4611, 189, 858, 4067, 107...</td>\n",
              "    </tr>\n",
              "  </tbody>\n",
              "</table>\n",
              "</div>"
            ],
            "text/plain": [
              "                                 film       genre  \\\n",
              "0       Oscar et la dame rose (2009)       drama    \n",
              "1                       Cupid (1997)    thriller    \n",
              "2   Young, Wild and Wonderful (1980)       adult    \n",
              "3              The Secret Sin (1915)       drama    \n",
              "4             The Unrecovered (2007)       drama    \n",
              "\n",
              "                                              rewiev  \\\n",
              "0   Listening in to a conversation between his do...   \n",
              "1   A brother and sister with a past incestuous r...   \n",
              "2   As the bus empties the students for their fie...   \n",
              "3   To help their unemployed father make ends mee...   \n",
              "4   The film's title refers not only to the un-re...   \n",
              "\n",
              "                                           tokenized  \\\n",
              "0  [listening, conversation, doctor, parent, 1, y...   \n",
              "1  [brother, sister, past, incestuous, relationsh...   \n",
              "2  [bus, student, field, trip, museum, natural, h...   \n",
              "3  [help, unemployed, father, make, end, meet, ed...   \n",
              "4  [film, s, title, refers, recovered, body, grou...   \n",
              "\n",
              "                                                vect  \n",
              "0  [1, 4637, 1048, 248, 112, 77, 8, 21, 2106, 337...  \n",
              "1  [1, 55, 99, 79, 12513, 76, 746, 3820, 76, 154,...  \n",
              "2  [1, 1348, 100, 687, 262, 1500, 787, 90, 96, 85...  \n",
              "3  [1, 38, 2505, 24, 23, 47, 36, 5706, 1092, 99, ...  \n",
              "4  [1, 6, 3, 682, 5336, 4611, 189, 858, 4067, 107...  "
            ]
          },
          "execution_count": 23,
          "metadata": {},
          "output_type": "execute_result"
        }
      ]
    },
    {
      "cell_type": "code",
      "metadata": {
        "id": "xuZBKNak67da"
      },
      "source": [
        "X_train, X_test, y_train, y_test = train_test_split(df_train.vect, \n",
        "                                                    df_train.genre,\n",
        "                                                   stratify=df_train.genre,\n",
        "                                                   random_state=42,\n",
        "                                                   test_size=0.15)"
      ],
      "execution_count": null,
      "outputs": []
    },
    {
      "cell_type": "code",
      "metadata": {
        "id": "IUgK2_CW67da"
      },
      "source": [
        "ohe = OneHotEncoder(sparse=False)\n",
        "y_train = ohe.fit_transform(np.array(y_train).reshape(-1, 1))\n",
        "y_test = ohe.fit_transform(np.array(y_test).reshape(-1, 1))\n"
      ],
      "execution_count": null,
      "outputs": []
    },
    {
      "cell_type": "code",
      "metadata": {
        "id": "HsHa_lXM67db",
        "outputId": "43652c12-a5bd-419f-8e14-c03fabdd6dda"
      },
      "source": [
        "MAX_SEQ_LEN = 128 # Финальная длина последовательности\n",
        "\n",
        "train_data = tf.keras.preprocessing.sequence.pad_sequences(\n",
        "    X_train,\n",
        "    value=word_vocab[\"<PAD>\"],\n",
        "    padding='post',\n",
        "    maxlen=MAX_SEQ_LEN)\n",
        "\n",
        "valid_data = tf.keras.preprocessing.sequence.pad_sequences(\n",
        "    X_test,\n",
        "    value=word_vocab[\"<PAD>\"],\n",
        "    padding='post',\n",
        "    maxlen=MAX_SEQ_LEN)\n",
        "\n",
        "test_data = tf.keras.preprocessing.sequence.pad_sequences(\n",
        "    df_test.vect,\n",
        "    value=word_vocab[\"<PAD>\"],\n",
        "    padding='post',\n",
        "    maxlen=MAX_SEQ_LEN)\n",
        "\n",
        "print(\"Length examples: {}\".format([len(train_data[randint(1, 10000)]), len(train_data[1])]))\n",
        "print('=====================================')\n",
        "print(\"Entry example: {}\".format(train_data[randint(1, 10000)]))"
      ],
      "execution_count": null,
      "outputs": [
        {
          "name": "stdout",
          "output_type": "stream",
          "text": [
            "Length examples: [128, 128]\n",
            "=====================================\n",
            "Entry example: [    1     2     2 20125     2    66    30   724  4670   176    12     3\n",
            "  1657   133    62  4952 17992   161   136  1259   176     2   451   724\n",
            "   426  1474  4670   176  3917   337  3079   912  1172  2291  4886     5\n",
            "   283   849   320 14786 10257   133  1526  6035    30   259   448    12\n",
            "     3  1371     2     2 10063  1420   410  1172     2   182    22  1280\n",
            "  2331  5577  3184   705  1172    40   137   141  1793    16   471    40\n",
            "  1600  1101   705  1172    30     2   697   438   705  1172    88  4130\n",
            "  1420   410  1172  3287   242   216     0     0     0     0     0     0\n",
            "     0     0     0     0     0     0     0     0     0     0     0     0\n",
            "     0     0     0     0     0     0     0     0     0     0     0     0\n",
            "     0     0     0     0     0     0     0     0]\n"
          ]
        }
      ]
    },
    {
      "cell_type": "code",
      "metadata": {
        "id": "h6UX4qJ567db"
      },
      "source": [
        "BATCH_SIZE = 256"
      ],
      "execution_count": null,
      "outputs": []
    },
    {
      "cell_type": "code",
      "metadata": {
        "id": "2r5xjySH67db",
        "outputId": "f58b5ea8-2961-42fd-c5ae-084e1e56f87c"
      },
      "source": [
        "model_lstm = tf.keras.Sequential([\n",
        "    tf.keras.layers.Embedding(21000, 64),\n",
        "    tf.keras.layers.Bidirectional(\n",
        "        tf.keras.layers.LSTM(32, return_sequences=True, dropout=0.5, recurrent_dropout=0.5)),\n",
        "    tf.keras.layers.BatchNormalization(),\n",
        "    tf.keras.layers.Bidirectional(\n",
        "        tf.keras.layers.LSTM(32, return_sequences=True, dropout=0.5, recurrent_dropout=0.5)),\n",
        "    tf.keras.layers.BatchNormalization(),\n",
        "    tf.keras.layers.Bidirectional(\n",
        "        tf.keras.layers.LSTM(32, return_sequences=False, dropout=0.5, recurrent_dropout=0.5)),\n",
        "    tf.keras.layers.Dense(27, activation='softmax'),\n",
        "])\n",
        "\n",
        "model_lstm.summary()\n",
        "\n",
        "model_lstm.compile(optimizer=tf.keras.optimizers.Adam(1e-3),\n",
        "                loss=tf.keras.losses.categorical_crossentropy,\n",
        "                metrics=[tf.keras.metrics.AUC()])"
      ],
      "execution_count": null,
      "outputs": [
        {
          "name": "stdout",
          "output_type": "stream",
          "text": [
            "WARNING:tensorflow:Layer lstm_3 will not use cuDNN kernel since it doesn't meet the cuDNN kernel criteria. It will use generic GPU kernel as fallback when running on GPU\n"
          ]
        },
        {
          "name": "stderr",
          "output_type": "stream",
          "text": [
            "2021-08-06 20:36:58,656 : WARNING : Layer lstm_3 will not use cuDNN kernel since it doesn't meet the cuDNN kernel criteria. It will use generic GPU kernel as fallback when running on GPU\n"
          ]
        },
        {
          "name": "stdout",
          "output_type": "stream",
          "text": [
            "WARNING:tensorflow:Layer lstm_3 will not use cuDNN kernel since it doesn't meet the cuDNN kernel criteria. It will use generic GPU kernel as fallback when running on GPU\n"
          ]
        },
        {
          "name": "stderr",
          "output_type": "stream",
          "text": [
            "2021-08-06 20:36:58,661 : WARNING : Layer lstm_3 will not use cuDNN kernel since it doesn't meet the cuDNN kernel criteria. It will use generic GPU kernel as fallback when running on GPU\n"
          ]
        },
        {
          "name": "stdout",
          "output_type": "stream",
          "text": [
            "WARNING:tensorflow:Layer lstm_3 will not use cuDNN kernel since it doesn't meet the cuDNN kernel criteria. It will use generic GPU kernel as fallback when running on GPU\n"
          ]
        },
        {
          "name": "stderr",
          "output_type": "stream",
          "text": [
            "2021-08-06 20:36:58,666 : WARNING : Layer lstm_3 will not use cuDNN kernel since it doesn't meet the cuDNN kernel criteria. It will use generic GPU kernel as fallback when running on GPU\n"
          ]
        },
        {
          "name": "stdout",
          "output_type": "stream",
          "text": [
            "WARNING:tensorflow:Layer lstm_4 will not use cuDNN kernel since it doesn't meet the cuDNN kernel criteria. It will use generic GPU kernel as fallback when running on GPU\n"
          ]
        },
        {
          "name": "stderr",
          "output_type": "stream",
          "text": [
            "2021-08-06 20:36:58,671 : WARNING : Layer lstm_4 will not use cuDNN kernel since it doesn't meet the cuDNN kernel criteria. It will use generic GPU kernel as fallback when running on GPU\n"
          ]
        },
        {
          "name": "stdout",
          "output_type": "stream",
          "text": [
            "WARNING:tensorflow:Layer lstm_4 will not use cuDNN kernel since it doesn't meet the cuDNN kernel criteria. It will use generic GPU kernel as fallback when running on GPU\n"
          ]
        },
        {
          "name": "stderr",
          "output_type": "stream",
          "text": [
            "2021-08-06 20:36:58,677 : WARNING : Layer lstm_4 will not use cuDNN kernel since it doesn't meet the cuDNN kernel criteria. It will use generic GPU kernel as fallback when running on GPU\n"
          ]
        },
        {
          "name": "stdout",
          "output_type": "stream",
          "text": [
            "WARNING:tensorflow:Layer lstm_4 will not use cuDNN kernel since it doesn't meet the cuDNN kernel criteria. It will use generic GPU kernel as fallback when running on GPU\n"
          ]
        },
        {
          "name": "stderr",
          "output_type": "stream",
          "text": [
            "2021-08-06 20:36:58,681 : WARNING : Layer lstm_4 will not use cuDNN kernel since it doesn't meet the cuDNN kernel criteria. It will use generic GPU kernel as fallback when running on GPU\n"
          ]
        },
        {
          "name": "stdout",
          "output_type": "stream",
          "text": [
            "WARNING:tensorflow:Layer lstm_5 will not use cuDNN kernel since it doesn't meet the cuDNN kernel criteria. It will use generic GPU kernel as fallback when running on GPU\n"
          ]
        },
        {
          "name": "stderr",
          "output_type": "stream",
          "text": [
            "2021-08-06 20:36:58,688 : WARNING : Layer lstm_5 will not use cuDNN kernel since it doesn't meet the cuDNN kernel criteria. It will use generic GPU kernel as fallback when running on GPU\n"
          ]
        },
        {
          "name": "stdout",
          "output_type": "stream",
          "text": [
            "WARNING:tensorflow:Layer lstm_5 will not use cuDNN kernel since it doesn't meet the cuDNN kernel criteria. It will use generic GPU kernel as fallback when running on GPU\n"
          ]
        },
        {
          "name": "stderr",
          "output_type": "stream",
          "text": [
            "2021-08-06 20:36:58,693 : WARNING : Layer lstm_5 will not use cuDNN kernel since it doesn't meet the cuDNN kernel criteria. It will use generic GPU kernel as fallback when running on GPU\n"
          ]
        },
        {
          "name": "stdout",
          "output_type": "stream",
          "text": [
            "WARNING:tensorflow:Layer lstm_5 will not use cuDNN kernel since it doesn't meet the cuDNN kernel criteria. It will use generic GPU kernel as fallback when running on GPU\n"
          ]
        },
        {
          "name": "stderr",
          "output_type": "stream",
          "text": [
            "2021-08-06 20:36:58,698 : WARNING : Layer lstm_5 will not use cuDNN kernel since it doesn't meet the cuDNN kernel criteria. It will use generic GPU kernel as fallback when running on GPU\n"
          ]
        },
        {
          "name": "stdout",
          "output_type": "stream",
          "text": [
            "Model: \"sequential_1\"\n",
            "_________________________________________________________________\n",
            "Layer (type)                 Output Shape              Param #   \n",
            "=================================================================\n",
            "embedding_1 (Embedding)      (None, None, 64)          1344000   \n",
            "_________________________________________________________________\n",
            "bidirectional_3 (Bidirection (None, None, 64)          24832     \n",
            "_________________________________________________________________\n",
            "batch_normalization_2 (Batch (None, None, 64)          256       \n",
            "_________________________________________________________________\n",
            "bidirectional_4 (Bidirection (None, None, 64)          24832     \n",
            "_________________________________________________________________\n",
            "batch_normalization_3 (Batch (None, None, 64)          256       \n",
            "_________________________________________________________________\n",
            "bidirectional_5 (Bidirection (None, 64)                24832     \n",
            "_________________________________________________________________\n",
            "dense_1 (Dense)              (None, 27)                1755      \n",
            "=================================================================\n",
            "Total params: 1,420,763\n",
            "Trainable params: 1,420,507\n",
            "Non-trainable params: 256\n",
            "_________________________________________________________________\n"
          ]
        }
      ]
    },
    {
      "cell_type": "code",
      "metadata": {
        "id": "F0b9YLDH67db"
      },
      "source": [
        "cpt_path = os.getcwd()"
      ],
      "execution_count": null,
      "outputs": []
    },
    {
      "cell_type": "code",
      "metadata": {
        "id": "b9OgZuOz67dc",
        "outputId": "bfb9fb02-8564-4072-8bb1-d9e8dcd11c25"
      },
      "source": [
        "checkpoint = tf.keras.callbacks.ModelCheckpoint(cpt_path, monitor='val_loss', verbose=1, save_best_only=True)\n",
        "\n",
        "EPOCHS = 15\n",
        "history = model_lstm.fit(\n",
        "    train_data, y_train,\n",
        "    batch_size=BATCH_SIZE,\n",
        "    validation_data=(valid_data, y_test),\n",
        "    epochs=EPOCHS,\n",
        "    callbacks=[checkpoint])"
      ],
      "execution_count": null,
      "outputs": [
        {
          "name": "stdout",
          "output_type": "stream",
          "text": [
            "Epoch 1/15\n",
            "181/181 [==============================] - 214s 1s/step - loss: 2.4577 - auc_1: 0.8282 - val_loss: 2.1198 - val_auc_1: 0.8913\n",
            "\n",
            "Epoch 00001: val_loss improved from inf to 2.11981, saving model to /home/vad/Projects/Skillbox/Genre_Class\n",
            "INFO:tensorflow:Assets written to: /home/vad/Projects/Skillbox/Genre_Class/assets\n"
          ]
        },
        {
          "name": "stderr",
          "output_type": "stream",
          "text": [
            "2021-08-06 20:40:47,827 : INFO : Assets written to: /home/vad/Projects/Skillbox/Genre_Class/assets\n"
          ]
        },
        {
          "name": "stdout",
          "output_type": "stream",
          "text": [
            "Epoch 2/15\n",
            "181/181 [==============================] - 202s 1s/step - loss: 1.8441 - auc_1: 0.9105 - val_loss: 1.7760 - val_auc_1: 0.9194\n",
            "\n",
            "Epoch 00002: val_loss improved from 2.11981 to 1.77601, saving model to /home/vad/Projects/Skillbox/Genre_Class\n",
            "INFO:tensorflow:Assets written to: /home/vad/Projects/Skillbox/Genre_Class/assets\n"
          ]
        },
        {
          "name": "stderr",
          "output_type": "stream",
          "text": [
            "2021-08-06 20:44:24,664 : INFO : Assets written to: /home/vad/Projects/Skillbox/Genre_Class/assets\n"
          ]
        },
        {
          "name": "stdout",
          "output_type": "stream",
          "text": [
            "Epoch 3/15\n",
            "181/181 [==============================] - 203s 1s/step - loss: 1.5826 - auc_1: 0.9344 - val_loss: 1.6990 - val_auc_1: 0.9274\n",
            "\n",
            "Epoch 00003: val_loss improved from 1.77601 to 1.69896, saving model to /home/vad/Projects/Skillbox/Genre_Class\n",
            "INFO:tensorflow:Assets written to: /home/vad/Projects/Skillbox/Genre_Class/assets\n"
          ]
        },
        {
          "name": "stderr",
          "output_type": "stream",
          "text": [
            "2021-08-06 20:48:02,084 : INFO : Assets written to: /home/vad/Projects/Skillbox/Genre_Class/assets\n"
          ]
        },
        {
          "name": "stdout",
          "output_type": "stream",
          "text": [
            "Epoch 4/15\n",
            "181/181 [==============================] - 201s 1s/step - loss: 1.4408 - auc_1: 0.9452 - val_loss: 1.6570 - val_auc_1: 0.9291\n",
            "\n",
            "Epoch 00004: val_loss improved from 1.69896 to 1.65696, saving model to /home/vad/Projects/Skillbox/Genre_Class\n",
            "INFO:tensorflow:Assets written to: /home/vad/Projects/Skillbox/Genre_Class/assets\n"
          ]
        },
        {
          "name": "stderr",
          "output_type": "stream",
          "text": [
            "2021-08-06 20:51:37,034 : INFO : Assets written to: /home/vad/Projects/Skillbox/Genre_Class/assets\n"
          ]
        },
        {
          "name": "stdout",
          "output_type": "stream",
          "text": [
            "Epoch 5/15\n",
            "181/181 [==============================] - 201s 1s/step - loss: 1.2638 - auc_1: 0.9568 - val_loss: 1.6769 - val_auc_1: 0.9286\n",
            "\n",
            "Epoch 00005: val_loss did not improve from 1.65696\n",
            "Epoch 6/15\n",
            "181/181 [==============================] - 202s 1s/step - loss: 1.1588 - auc_1: 0.9632 - val_loss: 1.7138 - val_auc_1: 0.9259\n",
            "\n",
            "Epoch 00006: val_loss did not improve from 1.65696\n",
            "Epoch 7/15\n",
            "181/181 [==============================] - 201s 1s/step - loss: 1.0771 - auc_1: 0.9677 - val_loss: 1.7220 - val_auc_1: 0.9223\n",
            "\n",
            "Epoch 00007: val_loss did not improve from 1.65696\n",
            "Epoch 8/15\n",
            "181/181 [==============================] - 202s 1s/step - loss: 0.9850 - auc_1: 0.9727 - val_loss: 1.7721 - val_auc_1: 0.9188\n",
            "\n",
            "Epoch 00008: val_loss did not improve from 1.65696\n",
            "Epoch 9/15\n",
            "181/181 [==============================] - 202s 1s/step - loss: 0.9227 - auc_1: 0.9749 - val_loss: 1.8029 - val_auc_1: 0.9159\n",
            "\n",
            "Epoch 00009: val_loss did not improve from 1.65696\n",
            "Epoch 10/15\n",
            "181/181 [==============================] - 204s 1s/step - loss: 0.9427 - auc_1: 0.9742 - val_loss: 1.8560 - val_auc_1: 0.9132\n",
            "\n",
            "Epoch 00010: val_loss did not improve from 1.65696\n",
            "Epoch 11/15\n",
            "181/181 [==============================] - 203s 1s/step - loss: 0.8161 - auc_1: 0.9795 - val_loss: 1.9127 - val_auc_1: 0.9056\n",
            "\n",
            "Epoch 00011: val_loss did not improve from 1.65696\n",
            "Epoch 12/15\n",
            "181/181 [==============================] - 202s 1s/step - loss: 0.7833 - auc_1: 0.9812 - val_loss: 1.9684 - val_auc_1: 0.8996\n",
            "\n",
            "Epoch 00012: val_loss did not improve from 1.65696\n",
            "Epoch 13/15\n",
            "181/181 [==============================] - 206s 1s/step - loss: 0.7965 - auc_1: 0.9806 - val_loss: 1.9994 - val_auc_1: 0.8997\n",
            "\n",
            "Epoch 00013: val_loss did not improve from 1.65696\n",
            "Epoch 14/15\n",
            "181/181 [==============================] - 204s 1s/step - loss: 0.7283 - auc_1: 0.9828 - val_loss: 2.0339 - val_auc_1: 0.8988\n",
            "\n",
            "Epoch 00014: val_loss did not improve from 1.65696\n",
            "Epoch 15/15\n",
            "181/181 [==============================] - 204s 1s/step - loss: 0.7153 - auc_1: 0.9838 - val_loss: 2.0396 - val_auc_1: 0.8968\n",
            "\n",
            "Epoch 00015: val_loss did not improve from 1.65696\n"
          ]
        }
      ]
    },
    {
      "cell_type": "code",
      "metadata": {
        "id": "k4OGeAFL67dc"
      },
      "source": [
        "pred = model_lstm.predict(test_data)"
      ],
      "execution_count": null,
      "outputs": []
    }
  ]
}