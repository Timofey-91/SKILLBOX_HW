{
  "nbformat": 4,
  "nbformat_minor": 0,
  "metadata": {
    "accelerator": "GPU",
    "colab": {
      "name": "Реализация поканальной сепарабельной свёртки. Практика.ipynb",
      "provenance": [],
      "collapsed_sections": []
    },
    "kernelspec": {
      "name": "python3",
      "display_name": "Python 3"
    },
    "language_info": {
      "codemirror_mode": {
        "name": "ipython",
        "version": 3
      },
      "file_extension": ".py",
      "mimetype": "text/x-python",
      "name": "python",
      "nbconvert_exporter": "python",
      "pygments_lexer": "ipython3",
      "version": "3.7.1"
    }
  },
  "cells": [
    {
      "cell_type": "markdown",
      "metadata": {
        "id": "EgshItiNbYmH"
      },
      "source": [
        "# Реализация поканальной сепарабельной свёртки\n",
        "\n",
        "В этом уроке мы рассмотрим, как на TensorFlow можно реализовать поканальную сепарабельную свёртку. Для этого создадим некоторую модель свёрточной нейронной сети (с обычными свёрточными слоями), а затем заменим в ней некоторые свёрточные слои на поканальные сепарабельные свёртки. \n",
        "\n",
        "Затем мы сравним две полученные сети (исходную и оптимизированную) по скорости работы.\n",
        "\n",
        "Так как здесь нас волнует лишь скорость работы нейросетей и измерить мы это можем со случайнми весами и случайным входом, обойдёмся без обучения этих моделей."
      ]
    },
    {
      "cell_type": "markdown",
      "metadata": {
        "id": "0yeG_jLT-b2h"
      },
      "source": [
        "### Используем TensorFlow 2.0\n",
        "\n",
        "На момент подготовки этих материалов в Google Colab по умолчанию используется версия TensorFlow 1.X\n",
        "\n",
        "Переключаемся на версию 2.0 (работает только в Colab)"
      ]
    },
    {
      "cell_type": "code",
      "metadata": {
        "id": "1mpXpfED-Z7b",
        "colab": {
          "base_uri": "https://localhost:8080/",
          "height": 35
        },
        "outputId": "1393e26b-0520-4b77-ebba-b4756c210014"
      },
      "source": [
        "%tensorflow_version 2.x"
      ],
      "execution_count": null,
      "outputs": [
        {
          "output_type": "stream",
          "text": [
            "TensorFlow 2.x selected.\n"
          ],
          "name": "stdout"
        }
      ]
    },
    {
      "cell_type": "markdown",
      "metadata": {
        "id": "Y1c9g1MHeUCl"
      },
      "source": [
        "### Загрузка библиотек"
      ]
    },
    {
      "cell_type": "code",
      "metadata": {
        "id": "iPJ0YaW58SXY"
      },
      "source": [
        "import numpy as np\n",
        "\n",
        "import tensorflow as tf"
      ],
      "execution_count": null,
      "outputs": []
    },
    {
      "cell_type": "markdown",
      "metadata": {
        "id": "tY3VdRBpNdTS"
      },
      "source": [
        "### Создание обычной свёрточной нейросети\n",
        "\n",
        "Создадим обычную Sequential свёрточную нейросеть для классифкации с использованием большого количества свёрточных слоёв."
      ]
    },
    {
      "cell_type": "code",
      "metadata": {
        "id": "3KJfXErosxF7"
      },
      "source": [
        "model1 = tf.keras.Sequential([\n",
        "    tf.keras.layers.Conv2D(32, (5, 5), padding='same', activation='relu'),\n",
        "    tf.keras.layers.Conv2D(32, (5, 5), padding='same', activation='relu'),\n",
        "    tf.keras.layers.Conv2D(32, (5, 5), padding='same', activation='relu'),\n",
        "\n",
        "    tf.keras.layers.MaxPool2D((2, 2)),\n",
        "\n",
        "    tf.keras.layers.Conv2D(64, (5, 5), padding='same', activation='relu'),\n",
        "    tf.keras.layers.Conv2D(64, (5, 5), padding='same', activation='relu'),\n",
        "    tf.keras.layers.Conv2D(64, (5, 5), padding='same', activation='relu'),\n",
        "\n",
        "    tf.keras.layers.MaxPool2D((2, 2)),\n",
        "\n",
        "    tf.keras.layers.Conv2D(128, (5, 5), padding='same', activation='relu'),\n",
        "    tf.keras.layers.Conv2D(128, (5, 5), padding='same', activation='relu'),\n",
        "    tf.keras.layers.Conv2D(128, (5, 5), padding='same', activation='relu'),\n",
        "\n",
        "    tf.keras.layers.MaxPool2D((2, 2)),\n",
        "\n",
        "    tf.keras.layers.Flatten(),\n",
        "    tf.keras.layers.Dense(256, activation='relu'),\n",
        "    tf.keras.layers.Dense(256, activation='relu'),\n",
        "    tf.keras.layers.Dense(256, activation='relu'),\n",
        "    tf.keras.layers.Dense(10, activation='softmax'),\n",
        "])\n",
        "\n",
        "# Warm-up\n",
        "_ = model1(np.random.rand(1, 512, 512, 3).astype(np.float32))"
      ],
      "execution_count": null,
      "outputs": []
    },
    {
      "cell_type": "markdown",
      "metadata": {
        "id": "kNPZM9lVOCju"
      },
      "source": [
        "### Создание свёрточной сети с использованием поканальных сепарабельных свёрток\n",
        "\n",
        "Теперь создадим другую похожую модель, где заменим часть свёрточнх слоёв на поканальные сепарабельные свёртки (depth-wise conv + conv1x1).\n",
        "\n",
        "Однако, не все свёрточне слои имеет смысл заменять на комбинацию двух свёрточных слоёв, так как не всегда это будет в итоге быстрее.\n",
        "\n",
        "Например, ранние свёртки с 32 и 64 каналами будут работать и так достаточно быстро и не получится добыть большое ускорение за счёт depth-wise свёрток.\n",
        "\n",
        "А вот свёрточные слои с 128 каналами (в данном конкретном примере) заменить можно. Всё это следует из экспериментов (надо попробовать по-разному и сравнить время работы).\n",
        "\n",
        "Поканальная свёртка реализуется слоем `DepthwiseConv2D`. Он похож на обычный свёрточный слой, но у него в параметрах отсутствует количество выходных каналов.\n",
        "\n",
        "**[Вопрос]** Почему?\n",
        "\n"
      ]
    },
    {
      "cell_type": "code",
      "metadata": {
        "id": "fAGeUP93sxCO"
      },
      "source": [
        "model2 = tf.keras.Sequential([\n",
        "    tf.keras.layers.Conv2D(32, (5, 5), padding='same', activation='relu'),\n",
        "    tf.keras.layers.Conv2D(32, (5, 5), padding='same', activation='relu'),\n",
        "    tf.keras.layers.Conv2D(32, (5, 5), padding='same', activation='relu'),\n",
        "    \n",
        "    tf.keras.layers.MaxPool2D((2, 2)),\n",
        "\n",
        "    tf.keras.layers.Conv2D(64, (5, 5), padding='same', activation='relu'),\n",
        "    tf.keras.layers.Conv2D(64, (5, 5), padding='same', activation='relu'),\n",
        "    tf.keras.layers.Conv2D(64, (5, 5), padding='same', activation='relu'),\n",
        "\n",
        "    tf.keras.layers.MaxPool2D((2, 2)),\n",
        "    \n",
        "    tf.keras.layers.Conv2D(128, (5, 5), padding='same', activation='relu'),\n",
        "    tf.keras.layers.DepthwiseConv2D((5, 5), padding='same', activation='relu'),\n",
        "    tf.keras.layers.Conv2D(128, (1, 1), padding='same', activation='relu'),\n",
        "    tf.keras.layers.DepthwiseConv2D((5, 5), padding='same', activation='relu'),\n",
        "    tf.keras.layers.Conv2D(128, (1, 1), padding='same', activation='relu'),\n",
        "\n",
        "    tf.keras.layers.MaxPool2D((2, 2)),\n",
        "\n",
        "    tf.keras.layers.Flatten(),\n",
        "    tf.keras.layers.Dense(256, activation='relu'),\n",
        "    tf.keras.layers.Dense(256, activation='relu'),\n",
        "    tf.keras.layers.Dense(256, activation='relu'),\n",
        "    tf.keras.layers.Dense(10, activation='softmax'),\n",
        "])\n",
        "\n",
        "# Warm-up\n",
        "_ = model2(np.random.rand(1, 512, 512, 3).astype(np.float32))"
      ],
      "execution_count": null,
      "outputs": []
    },
    {
      "cell_type": "markdown",
      "metadata": {
        "id": "YxoxhY2TPIyk"
      },
      "source": [
        "### Сравнение скорости работы двух моделей"
      ]
    },
    {
      "cell_type": "markdown",
      "metadata": {
        "id": "M9zJHrTmPM5Z"
      },
      "source": [
        "Запустим инференс для обеих моделей со случайным входом и узнаем среднюю скорость работы каждой из моделей с помощью магической команды `%%timeit`"
      ]
    },
    {
      "cell_type": "code",
      "metadata": {
        "id": "LqP7bYrrtO_5",
        "colab": {
          "base_uri": "https://localhost:8080/",
          "height": 35
        },
        "outputId": "a4f8a225-7a4d-4dba-efc0-c0521f4c1850"
      },
      "source": [
        "%%timeit -n 10 -r 10\n",
        "\n",
        "q = model1(np.random.rand(1, 512, 512, 3).astype(np.float32))"
      ],
      "execution_count": null,
      "outputs": [
        {
          "output_type": "stream",
          "text": [
            "10 loops, best of 10: 20.7 ms per loop\n"
          ],
          "name": "stdout"
        }
      ]
    },
    {
      "cell_type": "code",
      "metadata": {
        "id": "zv97jcIjtPBl",
        "colab": {
          "base_uri": "https://localhost:8080/",
          "height": 35
        },
        "outputId": "0db9160d-6821-4a6b-8d80-c7b0e3fcf77c"
      },
      "source": [
        "%%timeit -n 10 -r 10\n",
        "\n",
        "q = model2(np.random.rand(1, 512, 512, 3).astype(np.float32))"
      ],
      "execution_count": null,
      "outputs": [
        {
          "output_type": "stream",
          "text": [
            "10 loops, best of 10: 16.7 ms per loop\n"
          ],
          "name": "stdout"
        }
      ]
    },
    {
      "cell_type": "markdown",
      "metadata": {
        "id": "_2sBoyg8Pwl7"
      },
      "source": [
        "Модель с поканальными сепарабельными свёртками получилась быстрее."
      ]
    },
    {
      "cell_type": "markdown",
      "metadata": {
        "id": "Z4VqLPPN875C"
      },
      "source": [
        "В этом примере мы никак не сравнивали качество двух моделей, так как для этого нужно было бы их обучить, а они слишком большие (обучение заняло бы длительное время). А на маленьких моделях такая замена не дала бы существенного прироста. На практике мы заметим небольшое подение качества, однако, зачастую можно пожертвовать несколькими процентами точности распозавания ради ускорения в несколько раз."
      ]
    },
    {
      "cell_type": "markdown",
      "metadata": {
        "id": "C5YlKVJEP7-S"
      },
      "source": [
        "**[Задание 1]** Сравните скорость работы обычного свёрточного слоя и аналогичной поканальной сепарабельной свёртки (depth-wise conv + conv1x1) при различных гиперпараметрах. Зафиксируйте пространственный размер входа (128x128) и размер ядра (5x5). Варьируйте количество входных и выходных каналов и для каждой такой пары сравние скорость работы обычно свёрточного слоя и поканальной сепарабельной свёртки. Должны получиться две двумерных таблицы. Из двух таблиц получите одну -- во сколько раз один тип архтектуры быстрее другого. Визуализируйте получившуются таблицу с помощью `matplotlib`, как показано ниже.\n",
        "Для этого задания вам понадобится самостоятельно реализовать способ измерения среднего времени инференса модели."
      ]
    },
    {
      "cell_type": "code",
      "metadata": {
        "id": "Z8QtPZSsQimH",
        "colab": {
          "base_uri": "https://localhost:8080/",
          "height": 283
        },
        "outputId": "dbfbc60d-e6d1-4134-a422-0c321d19d17d"
      },
      "source": [
        "import matplotlib.pyplot as plt\n",
        "\n",
        "# пример случайной таблицы\n",
        "matrix = np.random.rand(6, 6)\n",
        "\n",
        "# цвет характеризует величину\n",
        "plt.imshow(matrix)"
      ],
      "execution_count": null,
      "outputs": [
        {
          "output_type": "execute_result",
          "data": {
            "text/plain": [
              "<matplotlib.image.AxesImage at 0x7f3cc046a860>"
            ]
          },
          "metadata": {
            "tags": []
          },
          "execution_count": 8
        },
        {
          "output_type": "display_data",
          "data": {
            "image/png": "[encoded data removed]",
            "text/plain": [
              "<Figure size 432x288 with 1 Axes>"
            ]
          },
          "metadata": {
            "tags": []
          }
        }
      ]
    }
  ]
}