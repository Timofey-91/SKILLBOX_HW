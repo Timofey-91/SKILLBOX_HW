{
  "nbformat": 4,
  "nbformat_minor": 0,
  "metadata": {
    "accelerator": "GPU",
    "colab": {
      "name": "Реализация Pruning. Вспомогательные материалы.ipynb",
      "provenance": [],
      "collapsed_sections": []
    },
    "kernelspec": {
      "name": "python3",
      "display_name": "Python 3"
    },
    "language_info": {
      "codemirror_mode": {
        "name": "ipython",
        "version": 3
      },
      "file_extension": ".py",
      "mimetype": "text/x-python",
      "name": "python",
      "nbconvert_exporter": "python",
      "pygments_lexer": "ipython3",
      "version": "3.7.1"
    }
  },
  "cells": [
    {
      "cell_type": "markdown",
      "metadata": {
        "id": "EgshItiNbYmH"
      },
      "source": [
        "# Реализация Pruning\n",
        "\n",
        "В этом ноутбуке собраны подсказки по реализации различных действий, которые могут пригодиться при создании процедуры прунинга для свёрточной нейросети."
      ]
    },
    {
      "cell_type": "markdown",
      "metadata": {
        "id": "0yeG_jLT-b2h"
      },
      "source": [
        "### Используем TensorFlow 2.0\n",
        "\n",
        "На момент подготовки этих материалов в Google Colab по умолчанию используется версия TensorFlow 1.X\n",
        "\n",
        "Переключаемся на версию 2.0 (работает только в Colab)"
      ]
    },
    {
      "cell_type": "code",
      "metadata": {
        "id": "1mpXpfED-Z7b",
        "colab": {
          "base_uri": "https://localhost:8080/",
          "height": 34
        },
        "outputId": "2af8c7a2-2dd0-4c97-9b09-cceb497a2705"
      },
      "source": [
        "%tensorflow_version 2.x"
      ],
      "execution_count": null,
      "outputs": [
        {
          "output_type": "stream",
          "text": [
            "TensorFlow 2.x selected.\n"
          ],
          "name": "stdout"
        }
      ]
    },
    {
      "cell_type": "code",
      "metadata": {
        "id": "iPJ0YaW58SXY"
      },
      "source": [
        "import numpy as np\n",
        "\n",
        "import tensorflow as tf"
      ],
      "execution_count": null,
      "outputs": []
    },
    {
      "cell_type": "code",
      "metadata": {
        "id": "6mQuoz_WzQTs"
      },
      "source": [
        "# Пример свёрточного слоя\n",
        "conv = tf.keras.layers.Conv2D(32, (5, 5), padding='same', activation='relu') # 32 выходных каналов\n",
        "\n",
        "# Нужно как-то дать TensorFlow понять, сколько каналов на входе\n",
        "# Например, прогнать инференс на произвольном входном тензоре\n",
        "_ = conv(np.random.rand(1, 10, 10, 16).astype(np.float32)) # 16 входных каналов"
      ],
      "execution_count": null,
      "outputs": []
    },
    {
      "cell_type": "code",
      "metadata": {
        "id": "lYc4SaYgzXyg",
        "colab": {
          "base_uri": "https://localhost:8080/",
          "height": 51
        },
        "outputId": "a9f9c18c-8a83-4a32-e90e-58603843f550"
      },
      "source": [
        "# Размерности весов слоя\n",
        "print(conv.weights[0].shape) # ядра свёрток\n",
        "print(conv.weights[1].shape) # биасы"
      ],
      "execution_count": null,
      "outputs": [
        {
          "output_type": "stream",
          "text": [
            "(5, 5, 16, 32)\n",
            "(32,)\n"
          ],
          "name": "stdout"
        }
      ]
    },
    {
      "cell_type": "code",
      "metadata": {
        "id": "hxXDX2sbzXwB"
      },
      "source": [
        "# Пример свёрточного слоя\n",
        "conv_new = tf.keras.layers.Conv2D(28, (5, 5), padding='same', activation='relu') # 28 выходных каналов\n",
        "\n",
        "# Нужно как-то дать TensorFlow понять, сколько каналов на входе\n",
        "# Например, прогнать инференс на произвольном входном тензоре\n",
        "_ = conv_new(np.random.rand(1, 10, 10, 16).astype(np.float32)) # 16 входных каналов"
      ],
      "execution_count": null,
      "outputs": []
    },
    {
      "cell_type": "code",
      "metadata": {
        "id": "a6MKddLsz8QF",
        "colab": {
          "base_uri": "https://localhost:8080/",
          "height": 51
        },
        "outputId": "cb522f24-4f3a-49ff-a544-0a0d1cc3f133"
      },
      "source": [
        "# Размерности весов слоя\n",
        "print(conv_new.weights[0].shape) # ядра свёрток\n",
        "print(conv_new.weights[1].shape) # биасы"
      ],
      "execution_count": null,
      "outputs": [
        {
          "output_type": "stream",
          "text": [
            "(5, 5, 16, 28)\n",
            "(28,)\n"
          ],
          "name": "stdout"
        }
      ]
    },
    {
      "cell_type": "code",
      "metadata": {
        "id": "bt2tjYaBz8OW",
        "colab": {
          "base_uri": "https://localhost:8080/",
          "height": 34
        },
        "outputId": "bd3141ef-e409-4a6c-fb92-abc520b0d738"
      },
      "source": [
        "# Тензор весов в формате numpy\n",
        "W = conv.weights[0].numpy()\n",
        "print(W.shape)"
      ],
      "execution_count": null,
      "outputs": [
        {
          "output_type": "stream",
          "text": [
            "(5, 5, 16, 32)\n"
          ],
          "name": "stdout"
        }
      ]
    },
    {
      "cell_type": "code",
      "metadata": {
        "id": "q-luLgrC0dda",
        "colab": {
          "base_uri": "https://localhost:8080/",
          "height": 34
        },
        "outputId": "70fa332e-9bf9-403b-8f3d-e4eae48b496f"
      },
      "source": [
        "# Подтензор\n",
        "W_sub = W[:, :, :, 3]\n",
        "print(W_sub.shape)"
      ],
      "execution_count": null,
      "outputs": [
        {
          "output_type": "stream",
          "text": [
            "(5, 5, 16)\n"
          ],
          "name": "stdout"
        }
      ]
    },
    {
      "cell_type": "code",
      "metadata": {
        "id": "ykjbn98T0m6N",
        "colab": {
          "base_uri": "https://localhost:8080/",
          "height": 34
        },
        "outputId": "f08139ed-5ac8-4d7c-b5a1-019acde0b8df"
      },
      "source": [
        "# Вычисление нормы векторизованного тензора\n",
        "print(np.linalg.norm(W_sub.flatten()))"
      ],
      "execution_count": null,
      "outputs": [
        {
          "output_type": "stream",
          "text": [
            "0.8094925\n"
          ],
          "name": "stdout"
        }
      ]
    },
    {
      "cell_type": "code",
      "metadata": {
        "id": "yL6Lr8V_z8Ji"
      },
      "source": [
        "# Присваивание весам новых значений\n",
        "_=conv_new.weights[0].assign(np.ones((5, 5, 16, 28)).astype(np.float32))"
      ],
      "execution_count": null,
      "outputs": []
    },
    {
      "cell_type": "code",
      "metadata": {
        "id": "EcYeiE61z8Hx"
      },
      "source": [
        "# conv_new.weights[0]"
      ],
      "execution_count": null,
      "outputs": []
    }
  ]
}