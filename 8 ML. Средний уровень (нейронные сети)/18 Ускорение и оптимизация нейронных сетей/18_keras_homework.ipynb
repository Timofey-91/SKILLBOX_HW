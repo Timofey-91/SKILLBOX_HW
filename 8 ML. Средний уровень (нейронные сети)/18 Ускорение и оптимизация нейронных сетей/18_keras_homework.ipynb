{
  "nbformat": 4,
  "nbformat_minor": 0,
  "metadata": {
    "colab": {
      "name": "18_keras_homework.ipynb",
      "provenance": [],
      "collapsed_sections": []
    },
    "kernelspec": {
      "name": "python3",
      "display_name": "Python 3"
    }
  },
  "cells": [
    {
      "cell_type": "markdown",
      "metadata": {
        "id": "Qx7gD5SOa0oT"
      },
      "source": [
        "# Домашнее задание\n",
        "\n",
        "В этом домашнем задании вам предстоит обучить модель классификации рукописных цифр на Tensorflow.\n",
        "\n",
        "Важным дополнительным требованием будет сохранение чекпоинтов на ваш гугл диск (не переживайтеЖ ниже будут подсказки, как это сделать). Это пригодится вам в дальнейшем при обучении более сложных моделей, на случай потери данных при неожиданном отключении Colab."
      ]
    },
    {
      "cell_type": "code",
      "metadata": {
        "id": "tRPzy1zPDyYD",
        "colab": {
          "base_uri": "https://localhost:8080/"
        },
        "outputId": "ff9de4b9-7c97-4452-c648-8b90110ee23b"
      },
      "source": [
        "import tensorflow as tf\n",
        "print(tf.__version__)\n",
        "from google.colab import drive\n",
        "from pathlib import Path\n",
        "import matplotlib.pyplot as plt\n",
        "import numpy as np\n",
        "\n",
        "#tf.enable_eager_execution()"
      ],
      "execution_count": 27,
      "outputs": [
        {
          "output_type": "stream",
          "name": "stdout",
          "text": [
            "2.6.0\n"
          ]
        }
      ]
    },
    {
      "cell_type": "markdown",
      "metadata": {
        "id": "8oA_nuENcFnQ"
      },
      "source": [
        "####Вспомогательный код"
      ]
    },
    {
      "cell_type": "code",
      "metadata": {
        "id": "dFjoXlmJYyJJ"
      },
      "source": [
        "#@title \n",
        "def show_mnist(images, labels, predicted_labels=None):\n",
        "    plt.figure(figsize=(10,10))\n",
        "    for i in range(16):\n",
        "        plt.subplot(4,4, i+1)\n",
        "        plt.xticks([])\n",
        "        plt.yticks([])\n",
        "        plt.grid(False)\n",
        "        plt.imshow(images[i], cmap=plt.cm.gray)\n",
        "        if predicted_labels is not None:\n",
        "            title_obj = plt.title(f\"Real: {labels[i]}. Pred: {predicted_labels[i]}\")\n",
        "            if labels[i] != predicted_labels[i]:\n",
        "                plt.setp(title_obj, color='r')\n",
        "        else:\n",
        "            plt.title(f\"Real label: {labels[i]}\")\n",
        "\n",
        "def show_progress(history: dict):\n",
        "    plt.figure(figsize=(10, 5))\n",
        "    ax1 = plt.subplot(1,2,1)    \n",
        "    plt.plot(history[\"accuracy\"],label='train accuracy')\n",
        "    plt.plot(history[\"val_accuracy\"], label='test accuracy')\n",
        "    ax2 = plt.subplot(1,2,2)\n",
        "    plt.plot(history[\"loss\"],label='train_loss')\n",
        "    plt.plot(history[\"val_loss\"],label='test_loss')\n",
        "    \n",
        "    ax1.legend(loc='best')\n",
        "    ax2.legend(loc='best')\n",
        "    plt.grid()\n",
        "    plt.tight_layout()\n",
        "    plt.show()"
      ],
      "execution_count": 28,
      "outputs": []
    },
    {
      "cell_type": "markdown",
      "metadata": {
        "id": "nL_nICZ4cMOx"
      },
      "source": [
        "## Загрузка данных"
      ]
    },
    {
      "cell_type": "code",
      "metadata": {
        "id": "AcMON-_rWqdK",
        "colab": {
          "base_uri": "https://localhost:8080/",
          "height": 594
        },
        "outputId": "43fd7432-5566-4df0-fe49-232c60f7f0d9"
      },
      "source": [
        "(x_train, y_train),(x_test, y_test) = tf.keras.datasets.mnist.load_data()\n",
        "x_train, x_test = x_train / 255.0, x_test / 255.0\n",
        "\n",
        "show_mnist(x_train, y_train)\n",
        "x_train = x_train.reshape((-1, 28*28)) # вытянули каждую картинку в вектор\n",
        "x_test = x_test.reshape((-1, 28*28))\n"
      ],
      "execution_count": 29,
      "outputs": [
        {
          "output_type": "display_data",
          "data": {
            "image/png": "[encoded data removed]",
            "text/plain": [
              "<Figure size 720x720 with 16 Axes>"
            ]
          },
          "metadata": {}
        }
      ]
    },
    {
      "cell_type": "code",
      "metadata": {
        "id": "D9_g86msEud4",
        "colab": {
          "base_uri": "https://localhost:8080/"
        },
        "outputId": "c919f5bc-ff0d-4cae-ac7e-b5af4d6b4413"
      },
      "source": [
        "# прикрепим ваш гугл диск к виртуальной машине\n",
        "drive.mount('/content/drive/')"
      ],
      "execution_count": 30,
      "outputs": [
        {
          "output_type": "stream",
          "name": "stdout",
          "text": [
            "Drive already mounted at /content/drive/; to attempt to forcibly remount, call drive.mount(\"/content/drive/\", force_remount=True).\n"
          ]
        }
      ]
    },
    {
      "cell_type": "code",
      "metadata": {
        "id": "0yVUAhqPVVet"
      },
      "source": [
        "# Путь до вашего гугл диска скорее всего выглядит так: /content/drive/My Drive/\n",
        "# если эта клетка вызывает ошибку, \n",
        "# измените путь согласно ! ls \"/content/drive/\"\n",
        "\n",
        "path = Path(\"/content/drive/My Drive/Skillbox/model_1\")\n",
        "path.mkdir(exist_ok=True, parents=True) # папка создается на вашем гугл диске. вместе с \"родителями\"\n",
        "assert path.exists()\n",
        "cpt_filename = \"best_checkpoint.hdf5\"  \n",
        "cpt_path =str(path / cpt_filename)\n",
        "# После выполнения этой клетки, в вашем гугл диске должна создаться папка: Skillbox/model_1\n",
        "# убедитесь в этом"
      ],
      "execution_count": 31,
      "outputs": []
    },
    {
      "cell_type": "markdown",
      "metadata": {
        "id": "L1RVxtPzgr_g"
      },
      "source": [
        "А весь код ниже вы реализуете самостоятельно! Вы уже к этому готовы :)\n",
        "Требования к модели:\n",
        "1. Точность на тестовой части выборки >96%\n",
        "2. Чекпоинт модели с лучшими параметрами должен быть сохранен у вас на гугл диске\n",
        "3. Объект history, который получается из model.fit(...) должен содержать значения лосса и accuracy для трейна и теста"
      ]
    },
    {
      "cell_type": "code",
      "metadata": {
        "id": "oAHxE8wpEKD5",
        "colab": {
          "base_uri": "https://localhost:8080/"
        },
        "outputId": "576bf035-2953-4958-d750-a3d1073d5ca5"
      },
      "source": [
        "import keras\n",
        "import keras.layers as L\n",
        "\n",
        "model =  tf.keras.models.Sequential([\n",
        "                                     tf.keras.layers.Flatten(input_shape=(784,)),\n",
        "                                     tf.keras.layers.Dense(784, activation='relu'),\n",
        "                                     tf.keras.layers.Dense(64, activation='relu'),\n",
        "                                     tf.keras.layers.Dense(10, activation='softmax')\n",
        "])\n",
        "\n",
        "model.summary()\n",
        "model.compile(optimizer='adam',\n",
        "              loss='sparse_categorical_crossentropy',\n",
        "              metrics=['accuracy'])\n",
        "\n",
        "history = model.fit(x=x_train, y=y_train, \n",
        "          batch_size=128, epochs=5,\n",
        "          callbacks=[keras.callbacks.ModelCheckpoint(filepath=cpt_path, monitor=\"val_accuracy\", save_best_only=True)],\n",
        "          validation_data=(x_test, y_test))"
      ],
      "execution_count": 32,
      "outputs": [
        {
          "output_type": "stream",
          "name": "stdout",
          "text": [
            "Model: \"sequential_4\"\n",
            "_________________________________________________________________\n",
            "Layer (type)                 Output Shape              Param #   \n",
            "=================================================================\n",
            "flatten_3 (Flatten)          (None, 784)               0         \n",
            "_________________________________________________________________\n",
            "dense_12 (Dense)             (None, 784)               615440    \n",
            "_________________________________________________________________\n",
            "dense_13 (Dense)             (None, 64)                50240     \n",
            "_________________________________________________________________\n",
            "dense_14 (Dense)             (None, 10)                650       \n",
            "=================================================================\n",
            "Total params: 666,330\n",
            "Trainable params: 666,330\n",
            "Non-trainable params: 0\n",
            "_________________________________________________________________\n",
            "Epoch 1/5\n",
            "469/469 [==============================] - 5s 11ms/step - loss: 0.2287 - accuracy: 0.9338 - val_loss: 0.1130 - val_accuracy: 0.9636\n",
            "Epoch 2/5\n",
            "469/469 [==============================] - 5s 10ms/step - loss: 0.0845 - accuracy: 0.9746 - val_loss: 0.0772 - val_accuracy: 0.9745\n",
            "Epoch 3/5\n",
            "469/469 [==============================] - 5s 10ms/step - loss: 0.0540 - accuracy: 0.9836 - val_loss: 0.0795 - val_accuracy: 0.9746\n",
            "Epoch 4/5\n",
            "469/469 [==============================] - 5s 11ms/step - loss: 0.0371 - accuracy: 0.9885 - val_loss: 0.0768 - val_accuracy: 0.9755\n",
            "Epoch 5/5\n",
            "469/469 [==============================] - 5s 10ms/step - loss: 0.0281 - accuracy: 0.9911 - val_loss: 0.0818 - val_accuracy: 0.9746\n"
          ]
        }
      ]
    },
    {
      "cell_type": "code",
      "metadata": {
        "id": "iPntu18cW1CR",
        "colab": {
          "base_uri": "https://localhost:8080/"
        },
        "outputId": "ae9dcf33-9d71-4ecf-d2c3-7c837d1a7e94"
      },
      "source": [
        "assert len(list(path.glob(\"*\"))) != 0, f\"Checkpoint dir {path}\"\n",
        "assert \"accuracy\" in history.history, \"History object must contain Accuracy. Please, retrain with this metric\"\n",
        "assert \"val_accuracy\" in history.history, \"Please, provide validation_data in model.fit.\"\n",
        "assert np.max(history.history[\"val_accuracy\"]) > 0.95, \"Validation accuracy must be more than 0.95\"\n",
        "# Для старой версии (tf.__version__ == 1.x) запустить aseert-ы ниже:\n",
        "# assert \"acc\" in history.history, \"History object must contain Accuracy. Please, retrain with this metric\"\n",
        "# assert \"val_acc\" in history.history, \"Please, provide validation_data in model.fit.\"\n",
        "# assert np.max(history.history[\"val_acc\"]) > 0.95, \"Validation accuracy must be more than 0.95\"\n",
        "print(\"Training tests passed\")"
      ],
      "execution_count": 33,
      "outputs": [
        {
          "output_type": "stream",
          "name": "stdout",
          "text": [
            "Training tests passed\n"
          ]
        }
      ]
    },
    {
      "cell_type": "markdown",
      "metadata": {
        "id": "3F8zo0Milj4c"
      },
      "source": [
        "Давайте посмотрим на графики обучения:"
      ]
    },
    {
      "cell_type": "code",
      "metadata": {
        "id": "nGOrpkkAX8o5",
        "colab": {
          "base_uri": "https://localhost:8080/",
          "height": 368
        },
        "outputId": "05272ebf-935b-4a49-a415-f66b930e5d06"
      },
      "source": [
        "show_progress(history.history)"
      ],
      "execution_count": 34,
      "outputs": [
        {
          "output_type": "display_data",
          "data": {
            "image/png": "[encoded data removed]",
            "text/plain": [
              "<Figure size 720x360 with 2 Axes>"
            ]
          },
          "metadata": {
            "needs_background": "light"
          }
        }
      ]
    },
    {
      "cell_type": "markdown",
      "metadata": {
        "id": "QSbdpY-LlotG"
      },
      "source": [
        "А теперь перейдем к загрузке модели. Если все реализовано правильно, то код ниже должен сработать без ошибок:"
      ]
    },
    {
      "cell_type": "code",
      "metadata": {
        "id": "lUrOvNfPd5B5",
        "colab": {
          "base_uri": "https://localhost:8080/"
        },
        "outputId": "8351d9a6-11fe-4ace-8fc1-227279e9843d"
      },
      "source": [
        "restored_model = tf.keras.models.load_model(cpt_path)\n",
        "loss, acc = restored_model.evaluate(x_test, y_test)\n",
        "print(f\"Accuracy of restored model {acc*100 :.2f}%\")\n",
        "assert acc > 0.96"
      ],
      "execution_count": 35,
      "outputs": [
        {
          "output_type": "stream",
          "name": "stdout",
          "text": [
            "313/313 [==============================] - 1s 2ms/step - loss: 0.0768 - accuracy: 0.9755\n",
            "Accuracy of restored model 97.55%\n"
          ]
        }
      ]
    },
    {
      "cell_type": "markdown",
      "metadata": {
        "id": "F7XFRliomD6b"
      },
      "source": [
        "И, наконец, можно сравнить предсказания с реальными классами (с такой точностью найти ошибку будет сложно):"
      ]
    },
    {
      "cell_type": "code",
      "metadata": {
        "id": "aYXxV5tjY4Xx",
        "colab": {
          "base_uri": "https://localhost:8080/",
          "height": 594
        },
        "outputId": "52b4f4e7-2a89-422e-af02-8085b93ab80e"
      },
      "source": [
        "predicted_labels = np.argmax(restored_model.predict(x_test), axis=-1)\n",
        "idxs = np.random.choice(np.arange(len(x_test)), 16, replace=False)\n",
        "show_mnist(x_test[idxs].reshape((-1, 28, 28)), y_test[idxs], predicted_labels[idxs])"
      ],
      "execution_count": 36,
      "outputs": [
        {
          "output_type": "display_data",
          "data": {
            "image/png": "[encoded data removed]",
            "text/plain": [
              "<Figure size 720x720 with 16 Axes>"
            ]
          },
          "metadata": {}
        }
      ]
    },
    {
      "cell_type": "markdown",
      "metadata": {
        "id": "eh5w_uLCZQra"
      },
      "source": [
        "# Ускорение с помощью библиотеки TensorRT.|"
      ]
    },
    {
      "cell_type": "code",
      "metadata": {
        "id": "IkBKW9HXZTZR"
      },
      "source": [
        "from tensorflow.python.compiler.tensorrt import trt_convert as trt"
      ],
      "execution_count": 37,
      "outputs": []
    },
    {
      "cell_type": "code",
      "metadata": {
        "id": "wZ__8O1MZWmx",
        "outputId": "49074e47-7d11-4938-b5d5-013e0b33df6d",
        "colab": {
          "base_uri": "https://localhost:8080/"
        }
      },
      "source": [
        "model.save('saved_model')"
      ],
      "execution_count": 38,
      "outputs": [
        {
          "output_type": "stream",
          "name": "stdout",
          "text": [
            "INFO:tensorflow:Assets written to: saved_model/assets\n"
          ]
        }
      ]
    },
    {
      "cell_type": "code",
      "metadata": {
        "id": "_oDk6-DHZimk",
        "outputId": "6f124771-632f-4ff9-b3a0-021b7e4aa0c7",
        "colab": {
          "base_uri": "https://localhost:8080/"
        }
      },
      "source": [
        "converter = trt.TrtGraphConverterV2(input_saved_model_dir='saved_model')\n",
        "converter.convert()\n",
        "converter.save('saved_model_trt')"
      ],
      "execution_count": 39,
      "outputs": [
        {
          "output_type": "stream",
          "name": "stdout",
          "text": [
            "INFO:tensorflow:Linked TensorRT version: (0, 0, 0)\n",
            "INFO:tensorflow:Loaded TensorRT version: (0, 0, 0)\n",
            "INFO:tensorflow:Assets written to: saved_model_trt/assets\n"
          ]
        }
      ]
    },
    {
      "cell_type": "code",
      "metadata": {
        "id": "ufAvoaQrZko2",
        "outputId": "63e58662-e443-41d4-dc07-9380151a3758",
        "colab": {
          "base_uri": "https://localhost:8080/"
        }
      },
      "source": [
        "model_trt = tf.keras.models.load_model('saved_model_trt')"
      ],
      "execution_count": 40,
      "outputs": [
        {
          "output_type": "stream",
          "name": "stdout",
          "text": [
            "WARNING:tensorflow:SavedModel saved prior to TF 2.5 detected when loading Keras model. Please ensure that you are saving the model with model.save() or tf.keras.models.save_model(), *NOT* tf.saved_model.save(). To confirm, there should be a file named \"keras_metadata.pb\" in the SavedModel directory.\n"
          ]
        }
      ]
    },
    {
      "cell_type": "code",
      "metadata": {
        "id": "fcTIAA-yZxY0",
        "outputId": "39dc8544-2449-4c4d-bfd6-520e435b6355",
        "colab": {
          "base_uri": "https://localhost:8080/"
        }
      },
      "source": [
        "%%timeit -n 10 -r 10\n",
        "\n",
        "q = model"
      ],
      "execution_count": 41,
      "outputs": [
        {
          "output_type": "stream",
          "name": "stdout",
          "text": [
            "10 loops, best of 10: 83.5 ns per loop\n"
          ]
        }
      ]
    },
    {
      "cell_type": "code",
      "metadata": {
        "id": "JQDrwZShZ0V9",
        "outputId": "4d162b86-07bc-4bb7-ff22-4884e27de5eb",
        "colab": {
          "base_uri": "https://localhost:8080/"
        }
      },
      "source": [
        "%%timeit -n 10 -r 10\n",
        "\n",
        "q = model_trt"
      ],
      "execution_count": 42,
      "outputs": [
        {
          "output_type": "stream",
          "name": "stdout",
          "text": [
            "10 loops, best of 10: 70.8 ns per loop\n"
          ]
        }
      ]
    }
  ]
}