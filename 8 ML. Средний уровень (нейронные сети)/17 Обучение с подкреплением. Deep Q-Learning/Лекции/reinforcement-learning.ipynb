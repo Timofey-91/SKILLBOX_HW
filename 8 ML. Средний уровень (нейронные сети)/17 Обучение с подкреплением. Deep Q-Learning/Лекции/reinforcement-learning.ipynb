{
 "cells": [
  {
   "cell_type": "markdown",
   "metadata": {
    "colab_type": "text",
    "id": "view-in-github"
   },
   "source": [
    "<a href=\"https://colab.research.google.com/github/jprussoibanez/introtodeeplearning_labs/blob/lab3/lab3/RL.ipynb\" target=\"_parent\"><img src=\"https://colab.research.google.com/assets/colab-badge.svg\" alt=\"Open In Colab\"/></a>"
   ]
  },
  {
   "cell_type": "markdown",
   "metadata": {
    "colab_type": "text",
    "id": "WoXYKhfZMHiw"
   },
   "source": [
    "# Laboratory 3: Reinforcement Learning\n",
    "\n",
    "Reinforcement learning (RL) is a subset of machine learning which poses learning problems as interactions between agents and environments. It often assumes agents have no prior knowledge of a world, so they must learn to navigate environments by optimizing a reward function. Within an environment, an agent can take certain actions and receive feedback, in the form of positive or negative rewards, with respect to their decision. As such, an agent's feedback loop is somewhat akin to the idea of \"trial and error\", or the manner in which a child might learn to distinguish between \"good\" and \"bad\" actions.\n",
    "\n",
    "In practical terms, our RL agent will interact with the environment by taking an action at each timestep, receiving a corresponding reward, and updating its state according to what it has \"learned\".  \n",
    "\n",
    "![alt text](https://www.kdnuggets.com/images/reinforcement-learning-fig1-700.jpg)\n",
    "\n",
    "While the ultimate goal of reinforcement learning is to teach agents to act in the real, physical world, games provide a convenient proving ground for developing RL algorithms and agents. Games have some properties that make them particularly well suited for RL: \n",
    "\n",
    "1.   In many cases, games have perfectly describable environments. For example, all rules of chess can be formally written and programmed into a chess game simulator;\n",
    "2.   Games are massively parallelizable. Since they do not require running in the real world, simultaneous environments can be run on large data clusters; \n",
    "3.   Simpler scenarios in games enable fast prototyping. This speeds up the development of algorithms that could eventually run in the real-world; and\n",
    "4.   ... Games are fun! \n",
    "\n",
    "In previous labs, we have explored both supervised (with LSTMs, CNNs) and unsupervised / semi-supervised (with VAEs) learning tasks. Reinforcement learning is fundamentally different, in that we are training a deep learning algorithm to govern the actions of our RL agent, that is trying, within its environment, to find the optimal way to achieve a goal. The goal of training an RL agent is to determine the best next step to take to earn the greatest final payoff or return. In this lab, we focus on building a reinforcement learning algorithm to master two different environments with varying complexity. \n",
    "\n",
    "1.   **Cartpole**:   Balance a pole, protruding from a cart, in an upright position by only moving the base left or right. Environment with a low-dimensional observation space.\n",
    "2.   [**Pong**](https://en.wikipedia.org/wiki/Pong): Beat your competitors (whether other AI or humans!) at the game of Pong. Environment with a high-dimensional observation space -- learning directly from raw pixels.\n",
    "\n",
    "Let's get started! First we'll import TensorFlow, the course package, and some dependencies.\n"
   ]
  },
  {
   "cell_type": "code",
   "execution_count": 1,
   "metadata": {
    "colab": {
     "base_uri": "https://localhost:8080/",
     "height": 187
    },
    "colab_type": "code",
    "id": "EvdePP-VyVWp",
    "outputId": "41a62cc1-a398-4150-c6a4-f98e131422e2"
   },
   "outputs": [
    {
     "name": "stdout",
     "output_type": "stream",
     "text": [
      "\r\n",
      "\r\n",
      "\r\n",
      "x11-utils is already the newest version (7.7+3+b1).\r\n",
      "x11-utils set to manually installed.\r\n",
      "xvfb is already the newest version (2:1.19.2-1+deb9u5).\r\n",
      "Suggested packages:\r\n",
      "  python-tk python-numpy libgle3\r\n",
      "The following NEW packages will be installed:\r\n",
      "  freeglut3 libglu1-mesa python-opengl\r\n",
      "0 upgraded, 3 newly installed, 0 to remove and 27 not upgraded.\r\n",
      "Need to get 791 kB of archives.\r\n",
      "After this operation, 6260 kB of additional disk space will be used.\r\n",
      "Get:1 http://deb.debian.org/debian stretch/main amd64 freeglut3 amd64 2.8.1-3 [123 kB]\r\n",
      "Get:2 http://deb.debian.org/debian stretch/main amd64 libglu1-mesa amd64 9.0.0-2.1 [168 kB]\r\n",
      "Get:3 http://deb.debian.org/debian stretch/main amd64 python-opengl all 3.1.0+dfsg-1 [501 kB]\r\n",
      "Fetched 791 kB in 1s (672 kB/s)\r\n",
      "debconf: delaying package configuration, since apt-utils is not installed\r\n",
      "Selecting previously unselected package freeglut3:amd64.\r\n",
      "(Reading database ... 59709 files and directories currently installed.)\r\n",
      "Preparing to unpack .../freeglut3_2.8.1-3_amd64.deb ...\r\n",
      "Unpacking freeglut3:amd64 (2.8.1-3) ...\r\n",
      "Selecting previously unselected package libglu1-mesa:amd64.\r\n",
      "Preparing to unpack .../libglu1-mesa_9.0.0-2.1_amd64.deb ...\r\n",
      "Unpacking libglu1-mesa:amd64 (9.0.0-2.1) ...\r\n",
      "Selecting previously unselected package python-opengl.\r\n",
      "Preparing to unpack .../python-opengl_3.1.0+dfsg-1_all.deb ...\r\n",
      "Unpacking python-opengl (3.1.0+dfsg-1) ...\r\n",
      "Setting up freeglut3:amd64 (2.8.1-3) ...\r\n",
      "Processing triggers for libc-bin (2.24-11+deb9u4) ...\r\n",
      "Setting up libglu1-mesa:amd64 (9.0.0-2.1) ...\r\n",
      "Setting up python-opengl (3.1.0+dfsg-1) ...\r\n",
      "\r\n",
      "\r\n",
      "\r\n",
      "The following additional packages will be installed:\r\n",
      "  libass5 libavc1394-0 libavcodec57 libavdevice57 libavfilter6 libavformat57\r\n",
      "  libavresample3 libavutil55 libbluray1 libbs2b0 libcaca0 libcdio-cdda1\r\n",
      "  libcdio-paranoia1 libcdio13 libchromaprint1 libcrystalhd3 libdc1394-22\r\n",
      "  libebur128-1 libflite1 libfribidi0 libgme0 libgsm1 libiec61883-0\r\n",
      "  libjack-jackd2-0 libmp3lame0 libmpg123-0 libnuma1 libopenal-data libopenal1\r\n",
      "  libopencv-core2.4v5 libopencv-imgproc2.4v5 libopenmpt0 libopus0 libpgm-5.2-0\r\n",
      "  libpostproc54 libraw1394-11 librubberband2 libsamplerate0 libsdl2-2.0-0\r\n",
      "  libshine3 libslang2 libsnappy1v5 libsndio6.1 libsodium18 libsoxr0 libspeex1\r\n",
      "  libssh-gcrypt-4 libswresample2 libswscale4 libtbb2 libtheora0 libtwolame0\r\n",
      "  libusb-1.0-0 libva-drm1 libva-x11-1 libva1 libvdpau1 libvorbisfile3 libvpx4\r\n",
      "  libwavpack1 libx264-148 libx265-95 libxss1 libxvidcore4 libzmq5\r\n",
      "  libzvbi-common libzvbi0\r\n",
      "Suggested packages:\r\n",
      "  ffmpeg-doc libbluray-bdj firmware-crystalhd alsa-base jackd2 libportaudio2\r\n",
      "  opus-tools libraw1394-doc sndiod speex\r\n",
      "Recommended packages:\r\n",
      "  libaacs0 va-driver-all | va-driver vdpau-driver-all | vdpau-driver\r\n",
      "The following NEW packages will be installed:\r\n",
      "  ffmpeg libass5 libavc1394-0 libavcodec57 libavdevice57 libavfilter6\r\n",
      "  libavformat57 libavresample3 libavutil55 libbluray1 libbs2b0 libcaca0\r\n",
      "  libcdio-cdda1 libcdio-paranoia1 libcdio13 libchromaprint1 libcrystalhd3\r\n",
      "  libdc1394-22 libebur128-1 libflite1 libfribidi0 libgme0 libgsm1\r\n",
      "  libiec61883-0 libjack-jackd2-0 libmp3lame0 libmpg123-0 libnuma1\r\n",
      "  libopenal-data libopenal1 libopencv-core2.4v5 libopencv-imgproc2.4v5\r\n",
      "  libopenmpt0 libopus0 libpgm-5.2-0 libpostproc54 libraw1394-11 librubberband2\r\n",
      "  libsamplerate0 libsdl2-2.0-0 libshine3 libslang2 libsnappy1v5 libsndio6.1\r\n",
      "  libsodium18 libsoxr0 libspeex1 libssh-gcrypt-4 libswresample2 libswscale4\r\n",
      "  libtbb2 libtheora0 libtwolame0 libusb-1.0-0 libva-drm1 libva-x11-1 libva1\r\n",
      "  libvdpau1 libvorbisfile3 libvpx4 libwavpack1 libx264-148 libx265-95 libxss1\r\n",
      "  libxvidcore4 libzmq5 libzvbi-common libzvbi0\r\n",
      "0 upgraded, 68 newly installed, 0 to remove and 27 not upgraded.\r\n",
      "Need to get 32.4 MB of archives.\r\n",
      "After this operation, 89.9 MB of additional disk space will be used.\r\n",
      "Get:1 http://deb.debian.org/debian stretch/main amd64 libxss1 amd64 1:1.2.2-1 [17.5 kB]\r\n",
      "Get:2 http://deb.debian.org/debian stretch/main amd64 libslang2 amd64 2.3.1-5 [503 kB]\r\n",
      "Get:3 http://security.debian.org/debian-security stretch/updates/main amd64 libvpx4 amd64 1.6.1-3+deb9u2 [776 kB]\r\n",
      "Get:4 http://deb.debian.org/debian stretch/main amd64 libva1 amd64 1.7.3-2 [52.1 kB]\r\n",
      "Get:5 http://deb.debian.org/debian stretch/main amd64 libva-drm1 amd64 1.7.3-2 [15.0 kB]\r\n",
      "Get:6 http://deb.debian.org/debian stretch/main amd64 libva-x11-1 amd64 1.7.3-2 [19.5 kB]\r\n",
      "Get:7 http://deb.debian.org/debian stretch/main amd64 libvdpau1 amd64 1.1.1-6 [41.2 kB]\r\n",
      "Get:8 http://deb.debian.org/debian stretch/main amd64 libavutil55 amd64 7:3.2.14-1~deb9u1 [221 kB]\r\n",
      "Get:9 http://deb.debian.org/debian stretch/main amd64 libcrystalhd3 amd64 1:0.0~git20110715.fdd2f19-12 [45.8 kB]\r\n",
      "Get:10 http://deb.debian.org/debian stretch/main amd64 libgsm1 amd64 1.0.13-4+b2 [24.3 kB]\r\n",
      "Get:11 http://deb.debian.org/debian stretch/main amd64 libmp3lame0 amd64 3.99.5+repack1-9+b2 [354 kB]\r\n",
      "Get:12 http://deb.debian.org/debian stretch/main amd64 libopus0 amd64 1.2~alpha2-1 [171 kB]\r\n",
      "Get:13 http://deb.debian.org/debian stretch/main amd64 libshine3 amd64 3.1.0-5 [26.2 kB]\r\n",
      "Get:14 http://deb.debian.org/debian stretch/main amd64 libsnappy1v5 amd64 1.1.3-3 [51.0 kB]\r\n",
      "Get:15 http://deb.debian.org/debian stretch/main amd64 libspeex1 amd64 1.2~rc1.2-1+b2 [54.8 kB]\r\n",
      "Get:16 http://deb.debian.org/debian stretch/main amd64 libsoxr0 amd64 0.1.2-2 [64.7 kB]\r\n",
      "Get:17 http://deb.debian.org/debian stretch/main amd64 libswresample2 amd64 7:3.2.14-1~deb9u1 [101 kB]\r\n",
      "Get:18 http://deb.debian.org/debian stretch/main amd64 libtheora0 amd64 1.1.1+dfsg.1-14+b1 [177 kB]\r\n",
      "Get:19 http://deb.debian.org/debian stretch/main amd64 libtwolame0 amd64 0.3.13-2 [48.8 kB]\r\n",
      "Get:20 http://deb.debian.org/debian stretch/main amd64 libwavpack1 amd64 5.0.0-2+deb9u2 [86.0 kB]\r\n",
      "Get:21 http://deb.debian.org/debian stretch/main amd64 libx264-148 amd64 2:0.148.2748+git97eaef2-1 [611 kB]\r\n",
      "Get:22 http://deb.debian.org/debian stretch/main amd64 libnuma1 amd64 2.0.11-2.1 [33.3 kB]\r\n",
      "Get:23 http://deb.debian.org/debian stretch/main amd64 libx265-95 amd64 2.1-2+b2 [986 kB]\r\n",
      "Get:24 http://deb.debian.org/debian stretch/main amd64 libxvidcore4 amd64 2:1.3.4-1+b2 [242 kB]\r\n",
      "Get:25 http://deb.debian.org/debian stretch/main amd64 libzvbi-common all 0.2.35-13 [63.7 kB]\r\n",
      "Get:26 http://deb.debian.org/debian stretch/main amd64 libzvbi0 amd64 0.2.35-13 [268 kB]\r\n",
      "Get:27 http://deb.debian.org/debian stretch/main amd64 libavcodec57 amd64 7:3.2.14-1~deb9u1 [4454 kB]\r\n",
      "Get:28 http://deb.debian.org/debian stretch/main amd64 libraw1394-11 amd64 2.1.2-1+b1 [47.2 kB]\r\n",
      "Get:29 http://deb.debian.org/debian stretch/main amd64 libavc1394-0 amd64 0.5.4-4+b1 [20.0 kB]\r\n",
      "Get:30 http://deb.debian.org/debian stretch/main amd64 libfribidi0 amd64 0.19.7-1+deb9u1 [45.6 kB]\r\n",
      "Get:31 http://deb.debian.org/debian stretch/main amd64 libass5 amd64 1:0.13.4-2 [90.4 kB]\r\n",
      "Get:32 http://deb.debian.org/debian stretch/main amd64 libbluray1 amd64 1:0.9.3-3 [137 kB]\r\n",
      "Get:33 http://deb.debian.org/debian stretch/main amd64 libchromaprint1 amd64 1.4.2-1 [39.9 kB]\r\n",
      "Get:34 http://deb.debian.org/debian stretch/main amd64 libgme0 amd64 0.6.0-4 [126 kB]\r\n",
      "Get:35 http://deb.debian.org/debian stretch/main amd64 libmpg123-0 amd64 1.23.8-1+b1 [137 kB]\r\n",
      "Get:36 http://deb.debian.org/debian stretch/main amd64 libvorbisfile3 amd64 1.3.5-4+deb9u2 [24.4 kB]\r\n",
      "Get:37 http://deb.debian.org/debian stretch/main amd64 libopenmpt0 amd64 0.2.7386~beta20.3-3+deb9u3 [483 kB]\r\n",
      "Get:38 http://deb.debian.org/debian stretch/main amd64 libssh-gcrypt-4 amd64 0.7.3-2+deb9u2 [170 kB]\r\n",
      "Get:39 http://deb.debian.org/debian stretch/main amd64 libavformat57 amd64 7:3.2.14-1~deb9u1 [943 kB]\r\n",
      "Get:40 http://deb.debian.org/debian stretch/main amd64 libavresample3 amd64 7:3.2.14-1~deb9u1 [98.1 kB]\r\n",
      "Get:41 http://deb.debian.org/debian stretch/main amd64 libbs2b0 amd64 3.1.0+dfsg-2.2 [12.2 kB]\r\n",
      "Get:42 http://deb.debian.org/debian stretch/main amd64 libebur128-1 amd64 1.2.2-2 [14.7 kB]\r\n",
      "Get:43 http://deb.debian.org/debian stretch/main amd64 libflite1 amd64 2.0.0-release-3+b1 [12.9 MB]\r\n",
      "Get:44 http://deb.debian.org/debian stretch/main amd64 libtbb2 amd64 4.3~20150611-2 [136 kB]\r\n",
      "Get:45 http://deb.debian.org/debian stretch/main amd64 libopencv-core2.4v5 amd64 2.4.9.1+dfsg1-2 [653 kB]\r\n",
      "Get:46 http://deb.debian.org/debian stretch/main amd64 libopencv-imgproc2.4v5 amd64 2.4.9.1+dfsg1-2 [618 kB]\r\n",
      "Get:47 http://deb.debian.org/debian stretch/main amd64 libpostproc54 amd64 7:3.2.14-1~deb9u1 [98.1 kB]\r\n",
      "Get:48 http://deb.debian.org/debian stretch/main amd64 libsamplerate0 amd64 0.1.8-8+b2 [949 kB]\r\n",
      "Get:49 http://deb.debian.org/debian stretch/main amd64 librubberband2 amd64 1.8.1-7 [86.0 kB]\r\n",
      "Get:50 http://deb.debian.org/debian stretch/main amd64 libswscale4 amd64 7:3.2.14-1~deb9u1 [196 kB]\r\n",
      "Get:51 http://deb.debian.org/debian stretch/main amd64 libpgm-5.2-0 amd64 5.2.122~dfsg-2 [157 kB]\r\n",
      "Get:52 http://deb.debian.org/debian stretch/main amd64 libsodium18 amd64 1.0.11-2 [161 kB]\r\n",
      "Get:53 http://deb.debian.org/debian stretch/main amd64 libzmq5 amd64 4.2.1-4+deb9u2 [201 kB]\r\n",
      "Get:54 http://deb.debian.org/debian stretch/main amd64 libavfilter6 amd64 7:3.2.14-1~deb9u1 [813 kB]\r\n",
      "Get:55 http://deb.debian.org/debian stretch/main amd64 libcaca0 amd64 0.99.beta19-2.1~deb9u1 [347 kB]\r\n",
      "Get:56 http://deb.debian.org/debian stretch/main amd64 libcdio13 amd64 0.83-4.3+b1 [168 kB]\r\n",
      "Get:57 http://deb.debian.org/debian stretch/main amd64 libcdio-cdda1 amd64 0.83-4.3+b1 [132 kB]\r\n",
      "Get:58 http://deb.debian.org/debian stretch/main amd64 libcdio-paranoia1 amd64 0.83-4.3+b1 [132 kB]\r\n",
      "Get:59 http://deb.debian.org/debian stretch/main amd64 libusb-1.0-0 amd64 2:1.0.21-1 [53.9 kB]\r\n",
      "Get:60 http://deb.debian.org/debian stretch/main amd64 libdc1394-22 amd64 2.2.5-1 [106 kB]\r\n",
      "Get:61 http://deb.debian.org/debian stretch/main amd64 libiec61883-0 amd64 1.2.0-2 [30.2 kB]\r\n",
      "Get:62 http://deb.debian.org/debian stretch/main amd64 libjack-jackd2-0 amd64 1.9.10+20150825git1ed50c92~dfsg-5 [292 kB]\r\n",
      "Get:63 http://deb.debian.org/debian stretch/main amd64 libopenal-data all 1:1.17.2-4 [107 kB]\r\n",
      "Get:64 http://deb.debian.org/debian stretch/main amd64 libsndio6.1 amd64 1.1.0-3 [23.5 kB]\r\n",
      "Get:65 http://deb.debian.org/debian stretch/main amd64 libopenal1 amd64 1:1.17.2-4+b2 [212 kB]\r\n",
      "Get:66 http://deb.debian.org/debian stretch/main amd64 libsdl2-2.0-0 amd64 2.0.5+dfsg1-2 [358 kB]\r\n",
      "Get:67 http://deb.debian.org/debian stretch/main amd64 libavdevice57 amd64 7:3.2.14-1~deb9u1 [118 kB]\r\n",
      "Get:68 http://deb.debian.org/debian stretch/main amd64 ffmpeg amd64 7:3.2.14-1~deb9u1 [1534 kB]\r\n",
      "Fetched 32.4 MB in 2s (14.9 MB/s)\r\n",
      "debconf: delaying package configuration, since apt-utils is not installed\r\n",
      "Selecting previously unselected package libxss1:amd64.\r\n",
      "(Reading database ... 62076 files and directories currently installed.)\r\n",
      "Preparing to unpack .../00-libxss1_1%3a1.2.2-1_amd64.deb ...\r\n",
      "Unpacking libxss1:amd64 (1:1.2.2-1) ...\r\n",
      "Selecting previously unselected package libslang2:amd64.\r\n",
      "Preparing to unpack .../01-libslang2_2.3.1-5_amd64.deb ...\r\n",
      "Unpacking libslang2:amd64 (2.3.1-5) ...\r\n",
      "Selecting previously unselected package libva1:amd64.\r\n",
      "Preparing to unpack .../02-libva1_1.7.3-2_amd64.deb ...\r\n",
      "Unpacking libva1:amd64 (1.7.3-2) ...\r\n",
      "Selecting previously unselected package libva-drm1:amd64.\r\n",
      "Preparing to unpack .../03-libva-drm1_1.7.3-2_amd64.deb ...\r\n",
      "Unpacking libva-drm1:amd64 (1.7.3-2) ...\r\n",
      "Selecting previously unselected package libva-x11-1:amd64.\r\n",
      "Preparing to unpack .../04-libva-x11-1_1.7.3-2_amd64.deb ...\r\n",
      "Unpacking libva-x11-1:amd64 (1.7.3-2) ...\r\n",
      "Selecting previously unselected package libvdpau1:amd64.\r\n",
      "Preparing to unpack .../05-libvdpau1_1.1.1-6_amd64.deb ...\r\n",
      "Unpacking libvdpau1:amd64 (1.1.1-6) ...\r\n",
      "Selecting previously unselected package libavutil55:amd64.\r\n",
      "Preparing to unpack .../06-libavutil55_7%3a3.2.14-1~deb9u1_amd64.deb ...\r\n",
      "Unpacking libavutil55:amd64 (7:3.2.14-1~deb9u1) ...\r\n",
      "Selecting previously unselected package libcrystalhd3:amd64.\r\n",
      "Preparing to unpack .../07-libcrystalhd3_1%3a0.0~git20110715.fdd2f19-12_amd64.deb ...\r\n",
      "Unpacking libcrystalhd3:amd64 (1:0.0~git20110715.fdd2f19-12) ...\r\n",
      "Selecting previously unselected package libgsm1:amd64.\r\n",
      "Preparing to unpack .../08-libgsm1_1.0.13-4+b2_amd64.deb ...\r\n",
      "Unpacking libgsm1:amd64 (1.0.13-4+b2) ...\r\n",
      "Selecting previously unselected package libmp3lame0:amd64.\r\n",
      "Preparing to unpack .../09-libmp3lame0_3.99.5+repack1-9+b2_amd64.deb ...\r\n",
      "Unpacking libmp3lame0:amd64 (3.99.5+repack1-9+b2) ...\r\n",
      "Selecting previously unselected package libopus0:amd64.\r\n",
      "Preparing to unpack .../10-libopus0_1.2~alpha2-1_amd64.deb ...\r\n",
      "Unpacking libopus0:amd64 (1.2~alpha2-1) ...\r\n",
      "Selecting previously unselected package libshine3:amd64.\r\n",
      "Preparing to unpack .../11-libshine3_3.1.0-5_amd64.deb ...\r\n",
      "Unpacking libshine3:amd64 (3.1.0-5) ...\r\n",
      "Selecting previously unselected package libsnappy1v5:amd64.\r\n",
      "Preparing to unpack .../12-libsnappy1v5_1.1.3-3_amd64.deb ...\r\n",
      "Unpacking libsnappy1v5:amd64 (1.1.3-3) ...\r\n",
      "Selecting previously unselected package libspeex1:amd64.\r\n",
      "Preparing to unpack .../13-libspeex1_1.2~rc1.2-1+b2_amd64.deb ...\r\n",
      "Unpacking libspeex1:amd64 (1.2~rc1.2-1+b2) ...\r\n",
      "Selecting previously unselected package libsoxr0:amd64.\r\n",
      "Preparing to unpack .../14-libsoxr0_0.1.2-2_amd64.deb ...\r\n",
      "Unpacking libsoxr0:amd64 (0.1.2-2) ...\r\n",
      "Selecting previously unselected package libswresample2:amd64.\r\n",
      "Preparing to unpack .../15-libswresample2_7%3a3.2.14-1~deb9u1_amd64.deb ...\r\n",
      "Unpacking libswresample2:amd64 (7:3.2.14-1~deb9u1) ...\r\n",
      "Selecting previously unselected package libtheora0:amd64.\r\n",
      "Preparing to unpack .../16-libtheora0_1.1.1+dfsg.1-14+b1_amd64.deb ...\r\n",
      "Unpacking libtheora0:amd64 (1.1.1+dfsg.1-14+b1) ...\r\n",
      "Selecting previously unselected package libtwolame0:amd64.\r\n",
      "Preparing to unpack .../17-libtwolame0_0.3.13-2_amd64.deb ...\r\n",
      "Unpacking libtwolame0:amd64 (0.3.13-2) ...\r\n",
      "Selecting previously unselected package libvpx4:amd64.\r\n",
      "Preparing to unpack .../18-libvpx4_1.6.1-3+deb9u2_amd64.deb ...\r\n",
      "Unpacking libvpx4:amd64 (1.6.1-3+deb9u2) ...\r\n",
      "Selecting previously unselected package libwavpack1:amd64.\r\n",
      "Preparing to unpack .../19-libwavpack1_5.0.0-2+deb9u2_amd64.deb ...\r\n",
      "Unpacking libwavpack1:amd64 (5.0.0-2+deb9u2) ...\r\n",
      "Selecting previously unselected package libx264-148:amd64.\r\n",
      "Preparing to unpack .../20-libx264-148_2%3a0.148.2748+git97eaef2-1_amd64.deb ...\r\n",
      "Unpacking libx264-148:amd64 (2:0.148.2748+git97eaef2-1) ...\r\n",
      "Selecting previously unselected package libnuma1:amd64.\r\n",
      "Preparing to unpack .../21-libnuma1_2.0.11-2.1_amd64.deb ...\r\n",
      "Unpacking libnuma1:amd64 (2.0.11-2.1) ...\r\n",
      "Selecting previously unselected package libx265-95:amd64.\r\n",
      "Preparing to unpack .../22-libx265-95_2.1-2+b2_amd64.deb ...\r\n",
      "Unpacking libx265-95:amd64 (2.1-2+b2) ...\r\n",
      "Selecting previously unselected package libxvidcore4:amd64.\r\n",
      "Preparing to unpack .../23-libxvidcore4_2%3a1.3.4-1+b2_amd64.deb ...\r\n",
      "Unpacking libxvidcore4:amd64 (2:1.3.4-1+b2) ...\r\n",
      "Selecting previously unselected package libzvbi-common.\r\n",
      "Preparing to unpack .../24-libzvbi-common_0.2.35-13_all.deb ...\r\n",
      "Unpacking libzvbi-common (0.2.35-13) ...\r\n",
      "Selecting previously unselected package libzvbi0:amd64.\r\n",
      "Preparing to unpack .../25-libzvbi0_0.2.35-13_amd64.deb ...\r\n",
      "Unpacking libzvbi0:amd64 (0.2.35-13) ...\r\n",
      "Selecting previously unselected package libavcodec57:amd64.\r\n",
      "Preparing to unpack .../26-libavcodec57_7%3a3.2.14-1~deb9u1_amd64.deb ...\r\n",
      "Unpacking libavcodec57:amd64 (7:3.2.14-1~deb9u1) ...\r\n",
      "Selecting previously unselected package libraw1394-11:amd64.\r\n",
      "Preparing to unpack .../27-libraw1394-11_2.1.2-1+b1_amd64.deb ...\r\n",
      "Unpacking libraw1394-11:amd64 (2.1.2-1+b1) ...\r\n",
      "Selecting previously unselected package libavc1394-0:amd64.\r\n",
      "Preparing to unpack .../28-libavc1394-0_0.5.4-4+b1_amd64.deb ...\r\n",
      "Unpacking libavc1394-0:amd64 (0.5.4-4+b1) ...\r\n",
      "Selecting previously unselected package libfribidi0:amd64.\r\n",
      "Preparing to unpack .../29-libfribidi0_0.19.7-1+deb9u1_amd64.deb ...\r\n",
      "Unpacking libfribidi0:amd64 (0.19.7-1+deb9u1) ...\r\n",
      "Selecting previously unselected package libass5:amd64.\r\n",
      "Preparing to unpack .../30-libass5_1%3a0.13.4-2_amd64.deb ...\r\n",
      "Unpacking libass5:amd64 (1:0.13.4-2) ...\r\n",
      "Selecting previously unselected package libbluray1:amd64.\r\n",
      "Preparing to unpack .../31-libbluray1_1%3a0.9.3-3_amd64.deb ...\r\n",
      "Unpacking libbluray1:amd64 (1:0.9.3-3) ...\r\n",
      "Selecting previously unselected package libchromaprint1:amd64.\r\n",
      "Preparing to unpack .../32-libchromaprint1_1.4.2-1_amd64.deb ...\r\n",
      "Unpacking libchromaprint1:amd64 (1.4.2-1) ...\r\n",
      "Selecting previously unselected package libgme0:amd64.\r\n",
      "Preparing to unpack .../33-libgme0_0.6.0-4_amd64.deb ...\r\n",
      "Unpacking libgme0:amd64 (0.6.0-4) ...\r\n",
      "Selecting previously unselected package libmpg123-0:amd64.\r\n",
      "Preparing to unpack .../34-libmpg123-0_1.23.8-1+b1_amd64.deb ...\r\n",
      "Unpacking libmpg123-0:amd64 (1.23.8-1+b1) ...\r\n",
      "Selecting previously unselected package libvorbisfile3:amd64.\r\n",
      "Preparing to unpack .../35-libvorbisfile3_1.3.5-4+deb9u2_amd64.deb ...\r\n",
      "Unpacking libvorbisfile3:amd64 (1.3.5-4+deb9u2) ...\r\n",
      "Selecting previously unselected package libopenmpt0:amd64.\r\n",
      "Preparing to unpack .../36-libopenmpt0_0.2.7386~beta20.3-3+deb9u3_amd64.deb ...\r\n",
      "Unpacking libopenmpt0:amd64 (0.2.7386~beta20.3-3+deb9u3) ...\r\n",
      "Selecting previously unselected package libssh-gcrypt-4:amd64.\r\n",
      "Preparing to unpack .../37-libssh-gcrypt-4_0.7.3-2+deb9u2_amd64.deb ...\r\n",
      "Unpacking libssh-gcrypt-4:amd64 (0.7.3-2+deb9u2) ...\r\n",
      "Selecting previously unselected package libavformat57:amd64.\r\n",
      "Preparing to unpack .../38-libavformat57_7%3a3.2.14-1~deb9u1_amd64.deb ...\r\n",
      "Unpacking libavformat57:amd64 (7:3.2.14-1~deb9u1) ...\r\n",
      "Selecting previously unselected package libavresample3:amd64.\r\n",
      "Preparing to unpack .../39-libavresample3_7%3a3.2.14-1~deb9u1_amd64.deb ...\r\n",
      "Unpacking libavresample3:amd64 (7:3.2.14-1~deb9u1) ...\r\n",
      "Selecting previously unselected package libbs2b0:amd64.\r\n",
      "Preparing to unpack .../40-libbs2b0_3.1.0+dfsg-2.2_amd64.deb ...\r\n",
      "Unpacking libbs2b0:amd64 (3.1.0+dfsg-2.2) ...\r\n",
      "Selecting previously unselected package libebur128-1:amd64.\r\n",
      "Preparing to unpack .../41-libebur128-1_1.2.2-2_amd64.deb ...\r\n",
      "Unpacking libebur128-1:amd64 (1.2.2-2) ...\r\n",
      "Selecting previously unselected package libflite1:amd64.\r\n",
      "Preparing to unpack .../42-libflite1_2.0.0-release-3+b1_amd64.deb ...\r\n",
      "Unpacking libflite1:amd64 (2.0.0-release-3+b1) ...\r\n",
      "Selecting previously unselected package libtbb2:amd64.\r\n",
      "Preparing to unpack .../43-libtbb2_4.3~20150611-2_amd64.deb ...\r\n",
      "Unpacking libtbb2:amd64 (4.3~20150611-2) ...\r\n",
      "Selecting previously unselected package libopencv-core2.4v5:amd64.\r\n",
      "Preparing to unpack .../44-libopencv-core2.4v5_2.4.9.1+dfsg1-2_amd64.deb ...\r\n",
      "Unpacking libopencv-core2.4v5:amd64 (2.4.9.1+dfsg1-2) ...\r\n",
      "Selecting previously unselected package libopencv-imgproc2.4v5:amd64.\r\n",
      "Preparing to unpack .../45-libopencv-imgproc2.4v5_2.4.9.1+dfsg1-2_amd64.deb ...\r\n",
      "Unpacking libopencv-imgproc2.4v5:amd64 (2.4.9.1+dfsg1-2) ...\r\n",
      "Selecting previously unselected package libpostproc54:amd64.\r\n",
      "Preparing to unpack .../46-libpostproc54_7%3a3.2.14-1~deb9u1_amd64.deb ...\r\n",
      "Unpacking libpostproc54:amd64 (7:3.2.14-1~deb9u1) ...\r\n",
      "Selecting previously unselected package libsamplerate0:amd64.\r\n",
      "Preparing to unpack .../47-libsamplerate0_0.1.8-8+b2_amd64.deb ...\r\n",
      "Unpacking libsamplerate0:amd64 (0.1.8-8+b2) ...\r\n",
      "Selecting previously unselected package librubberband2:amd64.\r\n",
      "Preparing to unpack .../48-librubberband2_1.8.1-7_amd64.deb ...\r\n",
      "Unpacking librubberband2:amd64 (1.8.1-7) ...\r\n",
      "Selecting previously unselected package libswscale4:amd64.\r\n",
      "Preparing to unpack .../49-libswscale4_7%3a3.2.14-1~deb9u1_amd64.deb ...\r\n",
      "Unpacking libswscale4:amd64 (7:3.2.14-1~deb9u1) ...\r\n",
      "Selecting previously unselected package libpgm-5.2-0:amd64.\r\n",
      "Preparing to unpack .../50-libpgm-5.2-0_5.2.122~dfsg-2_amd64.deb ...\r\n",
      "Unpacking libpgm-5.2-0:amd64 (5.2.122~dfsg-2) ...\r\n",
      "Selecting previously unselected package libsodium18:amd64.\r\n",
      "Preparing to unpack .../51-libsodium18_1.0.11-2_amd64.deb ...\r\n",
      "Unpacking libsodium18:amd64 (1.0.11-2) ...\r\n",
      "Selecting previously unselected package libzmq5:amd64.\r\n",
      "Preparing to unpack .../52-libzmq5_4.2.1-4+deb9u2_amd64.deb ...\r\n",
      "Unpacking libzmq5:amd64 (4.2.1-4+deb9u2) ...\r\n",
      "Selecting previously unselected package libavfilter6:amd64.\r\n",
      "Preparing to unpack .../53-libavfilter6_7%3a3.2.14-1~deb9u1_amd64.deb ...\r\n",
      "Unpacking libavfilter6:amd64 (7:3.2.14-1~deb9u1) ...\r\n",
      "Selecting previously unselected package libcaca0:amd64.\r\n",
      "Preparing to unpack .../54-libcaca0_0.99.beta19-2.1~deb9u1_amd64.deb ...\r\n",
      "Unpacking libcaca0:amd64 (0.99.beta19-2.1~deb9u1) ...\r\n",
      "Selecting previously unselected package libcdio13:amd64.\r\n",
      "Preparing to unpack .../55-libcdio13_0.83-4.3+b1_amd64.deb ...\r\n",
      "Unpacking libcdio13:amd64 (0.83-4.3+b1) ...\r\n",
      "Selecting previously unselected package libcdio-cdda1:amd64.\r\n",
      "Preparing to unpack .../56-libcdio-cdda1_0.83-4.3+b1_amd64.deb ...\r\n",
      "Unpacking libcdio-cdda1:amd64 (0.83-4.3+b1) ...\r\n",
      "Selecting previously unselected package libcdio-paranoia1:amd64.\r\n",
      "Preparing to unpack .../57-libcdio-paranoia1_0.83-4.3+b1_amd64.deb ...\r\n",
      "Unpacking libcdio-paranoia1:amd64 (0.83-4.3+b1) ...\r\n",
      "Selecting previously unselected package libusb-1.0-0:amd64.\r\n",
      "Preparing to unpack .../58-libusb-1.0-0_2%3a1.0.21-1_amd64.deb ...\r\n",
      "Unpacking libusb-1.0-0:amd64 (2:1.0.21-1) ...\r\n",
      "Selecting previously unselected package libdc1394-22:amd64.\r\n",
      "Preparing to unpack .../59-libdc1394-22_2.2.5-1_amd64.deb ...\r\n",
      "Unpacking libdc1394-22:amd64 (2.2.5-1) ...\r\n",
      "Selecting previously unselected package libiec61883-0:amd64.\r\n",
      "Preparing to unpack .../60-libiec61883-0_1.2.0-2_amd64.deb ...\r\n",
      "Unpacking libiec61883-0:amd64 (1.2.0-2) ...\r\n",
      "Selecting previously unselected package libjack-jackd2-0:amd64.\r\n",
      "Preparing to unpack .../61-libjack-jackd2-0_1.9.10+20150825git1ed50c92~dfsg-5_amd64.deb ...\r\n",
      "Unpacking libjack-jackd2-0:amd64 (1.9.10+20150825git1ed50c92~dfsg-5) ...\r\n",
      "Selecting previously unselected package libopenal-data.\r\n",
      "Preparing to unpack .../62-libopenal-data_1%3a1.17.2-4_all.deb ...\r\n",
      "Unpacking libopenal-data (1:1.17.2-4) ...\r\n",
      "Selecting previously unselected package libsndio6.1:amd64.\r\n",
      "Preparing to unpack .../63-libsndio6.1_1.1.0-3_amd64.deb ...\r\n",
      "Unpacking libsndio6.1:amd64 (1.1.0-3) ...\r\n",
      "Selecting previously unselected package libopenal1:amd64.\r\n",
      "Preparing to unpack .../64-libopenal1_1%3a1.17.2-4+b2_amd64.deb ...\r\n",
      "Unpacking libopenal1:amd64 (1:1.17.2-4+b2) ...\r\n",
      "Selecting previously unselected package libsdl2-2.0-0:amd64.\r\n",
      "Preparing to unpack .../65-libsdl2-2.0-0_2.0.5+dfsg1-2_amd64.deb ...\r\n",
      "Unpacking libsdl2-2.0-0:amd64 (2.0.5+dfsg1-2) ...\r\n",
      "Selecting previously unselected package libavdevice57:amd64.\r\n",
      "Preparing to unpack .../66-libavdevice57_7%3a3.2.14-1~deb9u1_amd64.deb ...\r\n",
      "Unpacking libavdevice57:amd64 (7:3.2.14-1~deb9u1) ...\r\n",
      "Selecting previously unselected package ffmpeg.\r\n",
      "Preparing to unpack .../67-ffmpeg_7%3a3.2.14-1~deb9u1_amd64.deb ...\r\n",
      "Unpacking ffmpeg (7:3.2.14-1~deb9u1) ...\r\n",
      "Setting up libvorbisfile3:amd64 (1.3.5-4+deb9u2) ...\r\n",
      "Setting up libpgm-5.2-0:amd64 (5.2.122~dfsg-2) ...\r\n",
      "Setting up libtwolame0:amd64 (0.3.13-2) ...\r\n",
      "Setting up libraw1394-11:amd64 (2.1.2-1+b1) ...\r\n",
      "Setting up libcdio13:amd64 (0.83-4.3+b1) ...\r\n",
      "Setting up libx264-148:amd64 (2:0.148.2748+git97eaef2-1) ...\r\n",
      "Setting up libebur128-1:amd64 (1.2.2-2) ...\r\n",
      "Setting up libwavpack1:amd64 (5.0.0-2+deb9u2) ...\r\n",
      "Setting up libnuma1:amd64 (2.0.11-2.1) ...\r\n",
      "Setting up libtbb2:amd64 (4.3~20150611-2) ...\r\n",
      "Setting up libflite1:amd64 (2.0.0-release-3+b1) ...\r\n",
      "Setting up libcdio-cdda1:amd64 (0.83-4.3+b1) ...\r\n",
      "Setting up libsoxr0:amd64 (0.1.2-2) ...\r\n",
      "Setting up libssh-gcrypt-4:amd64 (0.7.3-2+deb9u2) ...\r\n",
      "Setting up libxss1:amd64 (1:1.2.2-1) ...\r\n",
      "Setting up libvdpau1:amd64 (1.1.1-6) ...\r\n",
      "Setting up libshine3:amd64 (3.1.0-5) ...\r\n",
      "Setting up libopencv-core2.4v5:amd64 (2.4.9.1+dfsg1-2) ...\r\n",
      "Setting up libiec61883-0:amd64 (1.2.0-2) ...\r\n",
      "Setting up libspeex1:amd64 (1.2~rc1.2-1+b2) ...\r\n",
      "Setting up libxvidcore4:amd64 (2:1.3.4-1+b2) ...\r\n",
      "Setting up libvpx4:amd64 (1.6.1-3+deb9u2) ...\r\n",
      "Setting up libopus0:amd64 (1.2~alpha2-1) ...\r\n",
      "Setting up libva1:amd64 (1.7.3-2) ...\r\n",
      "Setting up libopenal-data (1:1.17.2-4) ...\r\n",
      "Setting up libbs2b0:amd64 (3.1.0+dfsg-2.2) ...\r\n",
      "Setting up libmp3lame0:amd64 (3.99.5+repack1-9+b2) ...\r\n",
      "Setting up libusb-1.0-0:amd64 (2:1.0.21-1) ...\r\n",
      "Setting up libcrystalhd3:amd64 (1:0.0~git20110715.fdd2f19-12) ...\r\n",
      "Processing triggers for libc-bin (2.24-11+deb9u4) ...\r\n",
      "Setting up libsnappy1v5:amd64 (1.1.3-3) ...\r\n",
      "Setting up libbluray1:amd64 (1:0.9.3-3) ...\r\n",
      "Setting up libavc1394-0:amd64 (0.5.4-4+b1) ...\r\n",
      "Setting up libzvbi-common (0.2.35-13) ...\r\n",
      "Setting up libfribidi0:amd64 (0.19.7-1+deb9u1) ...\r\n",
      "Setting up libcdio-paranoia1:amd64 (0.83-4.3+b1) ...\r\n",
      "Setting up libva-drm1:amd64 (1.7.3-2) ...\r\n",
      "Setting up libgme0:amd64 (0.6.0-4) ...\r\n",
      "Setting up libsodium18:amd64 (1.0.11-2) ...\r\n",
      "Setting up libzvbi0:amd64 (0.2.35-13) ...\r\n",
      "Setting up libsamplerate0:amd64 (0.1.8-8+b2) ...\r\n",
      "Setting up libsndio6.1:amd64 (1.1.0-3) ...\r\n",
      "Setting up libtheora0:amd64 (1.1.1+dfsg.1-14+b1) ...\r\n",
      "Setting up libmpg123-0:amd64 (1.23.8-1+b1) ...\r\n",
      "Setting up libslang2:amd64 (2.3.1-5) ...\r\n",
      "Setting up libopencv-imgproc2.4v5:amd64 (2.4.9.1+dfsg1-2) ...\r\n",
      "Setting up libgsm1:amd64 (1.0.13-4+b2) ...\r\n",
      "Setting up libva-x11-1:amd64 (1.7.3-2) ...\r\n",
      "Setting up libx265-95:amd64 (2.1-2+b2) ...\r\n",
      "Setting up libzmq5:amd64 (4.2.1-4+deb9u2) ...\r\n",
      "Setting up libavutil55:amd64 (7:3.2.14-1~deb9u1) ...\r\n",
      "Setting up libopenmpt0:amd64 (0.2.7386~beta20.3-3+deb9u3) ...\r\n",
      "Setting up libdc1394-22:amd64 (2.2.5-1) ...\r\n",
      "Setting up libswresample2:amd64 (7:3.2.14-1~deb9u1) ...\r\n",
      "Setting up libass5:amd64 (1:0.13.4-2) ...\r\n",
      "Setting up librubberband2:amd64 (1.8.1-7) ...\r\n",
      "Setting up libsdl2-2.0-0:amd64 (2.0.5+dfsg1-2) ...\r\n",
      "Setting up libswscale4:amd64 (7:3.2.14-1~deb9u1) ...\r\n",
      "Setting up libpostproc54:amd64 (7:3.2.14-1~deb9u1) ...\r\n",
      "Setting up libjack-jackd2-0:amd64 (1.9.10+20150825git1ed50c92~dfsg-5) ...\r\n",
      "Setting up libopenal1:amd64 (1:1.17.2-4+b2) ...\r\n",
      "Setting up libcaca0:amd64 (0.99.beta19-2.1~deb9u1) ...\r\n",
      "Setting up libavresample3:amd64 (7:3.2.14-1~deb9u1) ...\r\n",
      "Setting up libavcodec57:amd64 (7:3.2.14-1~deb9u1) ...\r\n",
      "Setting up libchromaprint1:amd64 (1.4.2-1) ...\r\n",
      "Setting up libavformat57:amd64 (7:3.2.14-1~deb9u1) ...\r\n",
      "Setting up libavfilter6:amd64 (7:3.2.14-1~deb9u1) ...\r\n",
      "Setting up libavdevice57:amd64 (7:3.2.14-1~deb9u1) ...\r\n",
      "Setting up ffmpeg (7:3.2.14-1~deb9u1) ...\r\n",
      "Processing triggers for libc-bin (2.24-11+deb9u4) ...\r\n",
      "Collecting ffmpeg\r\n",
      "  Downloading https://files.pythonhosted.org/packages/f0/cc/3b7408b8ecf7c1d20ad480c3eaed7619857bf1054b690226e906fdf14258/ffmpeg-1.4.tar.gz\r\n",
      "Building wheels for collected packages: ffmpeg\r\n",
      "  Building wheel for ffmpeg (setup.py) ... \u001b[?25l-\b \b\\\b \bdone\r\n",
      "\u001b[?25h  Created wheel for ffmpeg: filename=ffmpeg-1.4-cp36-none-any.whl size=6085 sha256=bb883f5dcfd07008a3694b3c6f628fb464663fa4d451affd0cc97fb09cbd8d38\r\n",
      "  Stored in directory: /root/.cache/pip/wheels/b6/68/c3/a05a35f647ba871e5572b9bbfc0b95fd1c6637a2219f959e7a\r\n",
      "Successfully built ffmpeg\r\n",
      "Installing collected packages: ffmpeg\r\n",
      "Successfully installed ffmpeg-1.4\r\n",
      "Requirement already satisfied: gym in /opt/conda/lib/python3.6/site-packages (0.15.4)\r\n",
      "Collecting pyvirtualdisplay\r\n",
      "  Downloading https://files.pythonhosted.org/packages/69/ec/8221a07850d69fa3c57c02e526edd23d18c7c05d58ed103e3b19172757c1/PyVirtualDisplay-0.2.5-py2.py3-none-any.whl\r\n",
      "Collecting scikit-video\r\n",
      "\u001b[?25l  Downloading https://files.pythonhosted.org/packages/b1/a6/c69cad508139a342810ae46e946ebb3256aa6e42f690d901bb68f50582e3/scikit_video-1.1.11-py2.py3-none-any.whl (2.3MB)\r\n",
      "\u001b[K     |████████████████████████████████| 2.3MB 4.2MB/s \r\n",
      "\u001b[?25hRequirement already satisfied: opencv-python in /opt/conda/lib/python3.6/site-packages (from gym) (4.1.2.30)\r\n",
      "Requirement already satisfied: scipy in /opt/conda/lib/python3.6/site-packages (from gym) (1.3.3)\r\n",
      "Requirement already satisfied: cloudpickle~=1.2.0 in /opt/conda/lib/python3.6/site-packages (from gym) (1.2.2)\r\n",
      "Requirement already satisfied: numpy>=1.10.4 in /opt/conda/lib/python3.6/site-packages (from gym) (1.18.1)\r\n",
      "Requirement already satisfied: six in /opt/conda/lib/python3.6/site-packages (from gym) (1.14.0)\r\n",
      "Requirement already satisfied: pyglet<=1.3.2,>=1.2.0 in /opt/conda/lib/python3.6/site-packages (from gym) (1.3.2)\r\n",
      "Collecting EasyProcess\r\n",
      "  Downloading https://files.pythonhosted.org/packages/32/8f/88d636f1da22a3c573259e44cfefb46a117d3f9432e2c98b1ab4a21372ad/EasyProcess-0.2.10-py2.py3-none-any.whl\r\n",
      "Requirement already satisfied: pillow in /opt/conda/lib/python3.6/site-packages (from scikit-video) (5.4.1)\r\n",
      "Requirement already satisfied: future in /opt/conda/lib/python3.6/site-packages (from pyglet<=1.3.2,>=1.2.0->gym) (0.18.2)\r\n",
      "Installing collected packages: EasyProcess, pyvirtualdisplay, scikit-video\r\n",
      "Successfully installed EasyProcess-0.2.10 pyvirtualdisplay-0.2.5 scikit-video-1.1.11\r\n",
      "Collecting atari_py\r\n",
      "\u001b[?25l  Downloading https://files.pythonhosted.org/packages/58/45/c2f6523aed89db6672b241fa1aafcfa54126c564be769c1360d298f03852/atari_py-0.2.6-cp36-cp36m-manylinux1_x86_64.whl (2.8MB)\r\n",
      "\u001b[K     |████████████████████████████████| 2.8MB 2.7MB/s \r\n",
      "\u001b[?25hRequirement already satisfied: numpy in /opt/conda/lib/python3.6/site-packages (from atari_py) (1.18.1)\r\n",
      "Requirement already satisfied: six in /opt/conda/lib/python3.6/site-packages (from atari_py) (1.14.0)\r\n",
      "Installing collected packages: atari-py\r\n",
      "Successfully installed atari-py-0.2.6\r\n",
      "Collecting mitdeeplearning\r\n",
      "\u001b[?25l  Downloading https://files.pythonhosted.org/packages/8b/3b/b9174b68dc10832356d02a2d83a64b43a24f1762c172754407d22fc8f960/mitdeeplearning-0.1.2.tar.gz (2.1MB)\r\n",
      "\u001b[K     |████████████████████████████████| 2.1MB 2.7MB/s \r\n",
      "\u001b[?25hRequirement already satisfied: numpy in /opt/conda/lib/python3.6/site-packages (from mitdeeplearning) (1.18.1)\r\n",
      "Requirement already satisfied: regex in /opt/conda/lib/python3.6/site-packages (from mitdeeplearning) (2020.1.8)\r\n",
      "Requirement already satisfied: tqdm in /opt/conda/lib/python3.6/site-packages (from mitdeeplearning) (4.41.1)\r\n",
      "Requirement already satisfied: gym in /opt/conda/lib/python3.6/site-packages (from mitdeeplearning) (0.15.4)\r\n",
      "Requirement already satisfied: cloudpickle~=1.2.0 in /opt/conda/lib/python3.6/site-packages (from gym->mitdeeplearning) (1.2.2)\r\n",
      "Requirement already satisfied: scipy in /opt/conda/lib/python3.6/site-packages (from gym->mitdeeplearning) (1.3.3)\r\n",
      "Requirement already satisfied: six in /opt/conda/lib/python3.6/site-packages (from gym->mitdeeplearning) (1.14.0)\r\n",
      "Requirement already satisfied: opencv-python in /opt/conda/lib/python3.6/site-packages (from gym->mitdeeplearning) (4.1.2.30)\r\n",
      "Requirement already satisfied: pyglet<=1.3.2,>=1.2.0 in /opt/conda/lib/python3.6/site-packages (from gym->mitdeeplearning) (1.3.2)\r\n",
      "Requirement already satisfied: future in /opt/conda/lib/python3.6/site-packages (from pyglet<=1.3.2,>=1.2.0->gym->mitdeeplearning) (0.18.2)\r\n",
      "Building wheels for collected packages: mitdeeplearning\r\n",
      "  Building wheel for mitdeeplearning (setup.py) ... \u001b[?25l-\b \b\\\b \b|\b \bdone\r\n",
      "\u001b[?25h  Created wheel for mitdeeplearning: filename=mitdeeplearning-0.1.2-cp36-none-any.whl size=2114586 sha256=e217f892ed58b54a5ba8eba53be031607cd3ce33fbdeeae3ea3ab30e3129f59a\r\n",
      "  Stored in directory: /root/.cache/pip/wheels/27/e1/73/5f01c787621d8a3c857f59876c79e304b9b64db9ff5bd61b74\r\n",
      "Successfully built mitdeeplearning\r\n",
      "Installing collected packages: mitdeeplearning\r\n",
      "Successfully installed mitdeeplearning-0.1.2\r\n"
     ]
    }
   ],
   "source": [
    "!apt-get install -y xvfb python-opengl x11-utils\n",
    "!apt-get install -y --no-install-recommends ffmpeg\n",
    "!pip install ffmpeg\n",
    "!pip install gym pyvirtualdisplay scikit-video #> /dev/null 2>&1\n",
    "#!pip install 'gym[box2d]'\n",
    "!pip install atari_py\n",
    "\n",
    "#%tensorflow_version 2.x\n",
    "import tensorflow as tf\n",
    "\n",
    "import numpy as np\n",
    "import base64, io, time, gym\n",
    "import IPython, functools\n",
    "import matplotlib.pyplot as plt\n",
    "from tqdm import tqdm\n",
    "\n",
    "!pip install mitdeeplearning\n",
    "import mitdeeplearning as mdl"
   ]
  },
  {
   "cell_type": "markdown",
   "metadata": {
    "colab_type": "text",
    "id": "zmrHSiXKTXTY"
   },
   "source": [
    "Before we dive in, let's take a step back and outline our approach, which is generally applicable to reinforcement learning problems in general:\n",
    "\n",
    "1. **Initialize our environment and our agent**: here we will describe the different observations and actions the agent can make in the environemnt.\n",
    "2. **Define our agent's memory**: this will enable the agent to remember its past actions, observations, and rewards.\n",
    "3. **Define a reward function**: describes the reward associated with an action or sequence of actions.\n",
    "4. **Define the learning algorithm**: this will be used to reinforce the agent's good behaviors and discourage bad behaviors.\n"
   ]
  },
  {
   "cell_type": "markdown",
   "metadata": {
    "colab_type": "text",
    "id": "UT7YL8KBJIIc"
   },
   "source": [
    "# Part 1: Cartpole\n",
    "\n",
    "## 3.1 Define the Cartpole environment and agent\n",
    "\n",
    "### Environment \n",
    "\n",
    "In order to model the environment for both the Cartpole and Pong tasks, we'll be using a toolkit developed by OpenAI called [OpenAI Gym](https://gym.openai.com/). It provides several pre-defined environments for training and testing reinforcement learning agents, including those for classic physics control tasks, Atari video games, and robotic simulations. To access the Cartpole environment, we can use `env = gym.make(\"CartPole-v0\")`, which we gained access to when we imported the `gym` package. We can instantiate different [environments](https://gym.openai.com/envs/#classic_control) by passing the enivronment name to the `make` function.\n",
    "\n",
    "One issue we might experience when developing RL algorithms is that many aspects of the learning process are inherently random: initializing game states, changes in the environment, and the agent's actions. As such, it can be helpful to set a initial \"seed\" for the environment to ensure some level of reproducibility. Much like you might use `numpy.random.seed`, we can call the comparable function in gym, `seed`, with our defined environment to ensure the environment's random variables are initialized the same each time."
   ]
  },
  {
   "cell_type": "code",
   "execution_count": 2,
   "metadata": {
    "colab": {
     "base_uri": "https://localhost:8080/",
     "height": 68
    },
    "colab_type": "code",
    "id": "quv9SC0iIYFm",
    "outputId": "0a344555-b842-46fa-9dd3-581c5ffb3bf7"
   },
   "outputs": [
    {
     "data": {
      "text/plain": [
       "[1]"
      ]
     },
     "execution_count": 2,
     "metadata": {},
     "output_type": "execute_result"
    }
   ],
   "source": [
    "### Instantiate the Cartpole environment ###\n",
    "\n",
    "env = gym.make(\"CartPole-v0\")\n",
    "env.seed(1)"
   ]
  },
  {
   "cell_type": "markdown",
   "metadata": {
    "colab_type": "text",
    "id": "mhEITUcKK455"
   },
   "source": [
    "In Cartpole, a pole is attached by an un-actuated joint to a cart, which moves along a frictionless track. The pole starts upright, and the goal is to prevent it from falling over. The system is controlled by applying a force of +1 or -1 to the cart. A reward of +1 is provided for every timestep that the pole remains upright. The episode ends when the pole is more than 15 degrees from vertical, or the cart moves more than 2.4 units from the center of the track. A visual summary of the cartpole environment is depicted below:\n",
    "\n",
    "<img width=\"400px\" src=\"https://danielpiedrahita.files.wordpress.com/2017/02/cart-pole.png\"></img>\n",
    "\n",
    "Given this setup for the environment and the objective of the game, we can think about: 1) what observations help define the environment's state; 2) what actions the agent can take. \n",
    "\n",
    "First, let's consider the observation space. In this Cartpole environment our observations are:\n",
    "\n",
    "1. Cart position\n",
    "2. Cart velocity\n",
    "3. Pole angle\n",
    "4. Pole rotation rate\n",
    "\n",
    "We can confirm the size of the space by querying the environment's observation space:\n"
   ]
  },
  {
   "cell_type": "code",
   "execution_count": 3,
   "metadata": {
    "colab": {
     "base_uri": "https://localhost:8080/",
     "height": 34
    },
    "colab_type": "code",
    "id": "UVJaEcbdIX82",
    "outputId": "cd3dbdc1-2885-4799-9adb-26a57f76e776"
   },
   "outputs": [
    {
     "name": "stdout",
     "output_type": "stream",
     "text": [
      "Environment has observation space = Box(4,)\n"
     ]
    }
   ],
   "source": [
    "n_observations = env.observation_space\n",
    "print(\"Environment has observation space =\", n_observations)"
   ]
  },
  {
   "cell_type": "markdown",
   "metadata": {
    "colab_type": "text",
    "id": "ZibGgjrALgPM"
   },
   "source": [
    "Second, we consider the action space. At every time step, the agent can move either right or left. Again we can confirm the size of the action space by querying the environment:"
   ]
  },
  {
   "cell_type": "code",
   "execution_count": 4,
   "metadata": {
    "colab": {
     "base_uri": "https://localhost:8080/",
     "height": 34
    },
    "colab_type": "code",
    "id": "qc9SIPxBIXrm",
    "outputId": "5097aa89-9c03-41ba-d5a2-d954f4c79da9"
   },
   "outputs": [
    {
     "name": "stdout",
     "output_type": "stream",
     "text": [
      "Number of possible actions that the agent can choose from = 2\n"
     ]
    }
   ],
   "source": [
    "n_actions = env.action_space.n\n",
    "print(\"Number of possible actions that the agent can choose from =\", n_actions)"
   ]
  },
  {
   "cell_type": "markdown",
   "metadata": {
    "colab_type": "text",
    "id": "pPfHME8aRKkb"
   },
   "source": [
    "### Cartpole agent\n",
    "\n",
    "Now that we have instantiated the environment and understood the dimensionality of the observation and action spaces, we are ready to define our agent. In deep reinforcement learning, a deep neural network defines the agent. This network will take as input an observation of the environment and output the probability of taking each of the possible actions. Since Cartpole is defined by a low-dimensional observation space, a simple feed-forward neural network should work well for our agent. We will define this using the `Sequential` API.\n"
   ]
  },
  {
   "cell_type": "code",
   "execution_count": 5,
   "metadata": {
    "colab": {},
    "colab_type": "code",
    "id": "W-o_XK4oQ4eu"
   },
   "outputs": [],
   "source": [
    "### Define the Cartpole agent ###\n",
    "\n",
    "# Defines a feed-forward neural network\n",
    "def create_cartpole_model():\n",
    "  model = tf.keras.models.Sequential([\n",
    "      # First Dense layer\n",
    "      tf.keras.layers.Dense(units=32, activation='relu'),\n",
    "\n",
    "      # TODO: Define the last Dense layer, which will provide the network's output.\n",
    "      # Think about the space the agent needs to act in!\n",
    "      tf.keras.layers.Dense(units=n_actions, activation=None)\n",
    "  ])\n",
    "  return model\n",
    "\n",
    "cartpole_model = create_cartpole_model()"
   ]
  },
  {
   "cell_type": "markdown",
   "metadata": {
    "colab_type": "text",
    "id": "d5D5NSIYS2IW"
   },
   "source": [
    "Now that we have defined the core network architecture, we will define an *action function* that executes a forward pass through the network, given a set of observations, and samples from the output. This sampling from the output probabilities will be used to select the next action for the agent. \n",
    "\n",
    "**Critically, this action function is totally general -- we will use this function for both Cartpole and Pong, and it is applicable to other RL tasks, as well!**"
   ]
  },
  {
   "cell_type": "code",
   "execution_count": 6,
   "metadata": {
    "colab": {},
    "colab_type": "code",
    "id": "E_vVZRr8Q4R_"
   },
   "outputs": [],
   "source": [
    "### Define the agent's action function ###\n",
    "\n",
    "# Function that takes observations as input, executes a forward pass through model, \n",
    "#   and outputs a sampled action.\n",
    "# Arguments:\n",
    "#   model: the network that defines our agent\n",
    "#   observation: observation which is fed as input to the model\n",
    "# Returns:\n",
    "#   action: choice of agent action\n",
    "def choose_action(model, observation):\n",
    "  # add batch dimension to the observation\n",
    "  observation = np.expand_dims(observation, axis=0)\n",
    "\n",
    "  '''TODO: feed the observations through the model to predict the log probabilities of each possible action.'''\n",
    "  logits = model.predict(observation)\n",
    "  \n",
    "  # pass the log probabilities through a softmax to compute true probabilities\n",
    "  prob_weights = tf.nn.softmax(logits).numpy()\n",
    "  '''TODO: randomly sample from the prob_weights to pick an action.\n",
    "  Hint: carefully consider the dimensionality of the input probabilities (vector) and the output action (scalar)'''\n",
    "  action = np.random.choice(n_actions, size=1, p=prob_weights.flatten())[0]\n",
    "\n",
    "  return action"
   ]
  },
  {
   "cell_type": "code",
   "execution_count": 7,
   "metadata": {
    "colab": {
     "base_uri": "https://localhost:8080/",
     "height": 34
    },
    "colab_type": "code",
    "id": "rvlJOImR8uGE",
    "outputId": "43f612e2-fb95-433e-f6c1-41276a7f7a74"
   },
   "outputs": [
    {
     "name": "stdout",
     "output_type": "stream",
     "text": [
      "Random action from first observation:  0\n"
     ]
    }
   ],
   "source": [
    "observation = env.reset()\n",
    "action = choose_action(cartpole_model, observation)\n",
    "print(\"Random action from first observation: \", action)"
   ]
  },
  {
   "cell_type": "markdown",
   "metadata": {
    "colab_type": "text",
    "id": "_tR9uAWcTnkr"
   },
   "source": [
    "## 3.2 Define the agent's memory\n",
    "\n",
    "Now that we have instantiated the environment and defined the agent network architecture and action function, we are ready to move on to the next step in our RL workflow:\n",
    "1. **Initialize our environment and our agent**: here we will describe the different observations and actions the agent can make in the environemnt.\n",
    "2. **Define our agent's memory**: this will enable the agent to remember its past actions, observations, and rewards.\n",
    "3. **Define the learning algorithm**: this will be used to reinforce the agent's good behaviors and discourage bad behaviors.\n",
    "\n",
    "In reinforcement learning, training occurs alongside the agent's acting in the environment; an *episode* refers to a sequence of actions that ends in some terminal state, such as the pole falling down or the cart crashing. The agent will need to remember all of its observations and actions, such that once an episode ends, it can learn to \"reinforce\" the good actions and punish the undesirable actions via training. Our first step is to define a simple memory buffer that contains the agent's observations, actions, and received rewards from a given episode. \n",
    "\n",
    "**Once again, note the modularity of this memory buffer -- it can and will be applied to other RL tasks as well!**"
   ]
  },
  {
   "cell_type": "code",
   "execution_count": 8,
   "metadata": {
    "colab": {},
    "colab_type": "code",
    "id": "8MM6JwXVQ4JG"
   },
   "outputs": [],
   "source": [
    "### Agent Memory ###\n",
    "\n",
    "class Memory:\n",
    "  def __init__(self): \n",
    "      self.clear()\n",
    "\n",
    "  # Resets/restarts the memory buffer\n",
    "  def clear(self): \n",
    "      self.observations = []\n",
    "      self.actions = []\n",
    "      self.rewards = []\n",
    "\n",
    "  # Add observations, actions, rewards to memory\n",
    "  def add_to_memory(self, new_observation, new_action, new_reward): \n",
    "      self.observations.append(new_observation)\n",
    "      self.actions.append(new_action)\n",
    "      self.rewards.append(new_reward)\n",
    "  \n",
    "  def print(self):\n",
    "      print(f'The memory observations {self.observations}')\n",
    "      print(f'The memory actions {self.actions}')\n",
    "      print(f'The memory rewards {self.rewards}')\n",
    "        \n",
    "memory = Memory()"
   ]
  },
  {
   "cell_type": "code",
   "execution_count": 9,
   "metadata": {
    "colab": {
     "base_uri": "https://localhost:8080/",
     "height": 68
    },
    "colab_type": "code",
    "id": "Mv-a5nD4_HZq",
    "outputId": "93b5ac38-7298-4ae6-a53f-7b0506f129cf"
   },
   "outputs": [
    {
     "name": "stdout",
     "output_type": "stream",
     "text": [
      "The memory observations [array([ 0.02635582,  0.15089482, -0.04301703, -0.30443059])]\n",
      "The memory actions [1]\n",
      "The memory rewards [1.0]\n"
     ]
    }
   ],
   "source": [
    "observation = env.reset()\n",
    "action = choose_action(cartpole_model, observation)\n",
    "next_observation, reward, done, info = env.step(action)\n",
    "memory.add_to_memory(next_observation, action, reward)\n",
    "memory.print()"
   ]
  },
  {
   "cell_type": "markdown",
   "metadata": {
    "colab_type": "text",
    "id": "D4YhtPaUVj5m"
   },
   "source": [
    "## 3.3 Reward function\n",
    "\n",
    "We're almost ready to begin the learning algorithm for our agent! The next step is to compute the rewards of our agent as it acts in the environment. Since we (and the agent) is uncertain about if and when the game or task will end (i.e., when the pole will fall), it is useful to emphasize getting rewards **now** rather than later in the future -- this is the idea of discounting. This is a similar concept to discounting money in the case of interest. ecall from lecture, we use reward discount to give more preference at getting rewards now rather than later in the future. The idea of discounting rewards is similar to discounting money in the case of interest.\n",
    "\n",
    "To compute the expected cumulative reward, known as the **return**, at a given timestep in a learning episode, we sum the discounted rewards expected at that time step $t$, within a learning episode, and projecting into the future. We define the return (cumulative reward) at a time step $t$, $R_{t}$ as:\n",
    "\n",
    ">$R_{t}=\\sum_{k=0}^\\infty\\gamma^kr_{t+k}$\n",
    "\n",
    "where  $0 < \\gamma < 1$ is the discount factor and $r_{t}$ is the reward at time step $t$, and the index $k$ increments projection into the future within a single learning episode. Intuitively, you can think of this function as depreciating any rewards received at later time steps, which will force the agent prioritize getting rewards now. Since we can't extend episodes to infinity, in practice the computation will be limited to the number of timesteps in an episode -- after that the reward is assumed to be zero.\n",
    "\n",
    "Take note of the form of this sum -- we'll have to be clever about how we implement this function. Specifically, we'll need to initialize an array of zeros, with length of the number of time steps, and fill it with the real discounted reward values as we loop through the rewards from the episode, which will have been saved in the agents memory. What we ultimately care about is which actions are better relative to other actions taken in that episode -- so, we'll normalize our computed rewards, using the mean and standard deviation of the rewards across the learning episode.\n"
   ]
  },
  {
   "cell_type": "code",
   "execution_count": 10,
   "metadata": {
    "colab": {},
    "colab_type": "code",
    "id": "5_Q2OFYtQ32X"
   },
   "outputs": [],
   "source": [
    "### Reward function ###\n",
    "\n",
    "# Helper function that normalizes an np.array x\n",
    "def normalize(x):\n",
    "  x -= np.mean(x)\n",
    "  x /= np.std(x)\n",
    "  return x.astype(np.float32)\n",
    "\n",
    "# Compute normalized, discounted, cumulative rewards (i.e., return)\n",
    "# Arguments:\n",
    "#   rewards: reward at timesteps in episode\n",
    "#   gamma: discounting factor\n",
    "# Returns:\n",
    "#   normalized discounted reward\n",
    "def discount_rewards(rewards, gamma=0.95): \n",
    "  discounted_rewards = np.zeros_like(rewards)\n",
    "  R = 0\n",
    "  for t in reversed(range(0, len(rewards))):\n",
    "      # update the total discounted reward\n",
    "      R = R * gamma + rewards[t]\n",
    "      discounted_rewards[t] = R\n",
    "\n",
    "  return normalize(discounted_rewards)"
   ]
  },
  {
   "cell_type": "code",
   "execution_count": 11,
   "metadata": {
    "colab": {
     "base_uri": "https://localhost:8080/",
     "height": 139
    },
    "colab_type": "code",
    "id": "g4Mi9-9LKZ1f",
    "outputId": "b117b0af-bcbe-4252-8ae3-61ba35f11dcf"
   },
   "outputs": [
    {
     "name": "stdout",
     "output_type": "stream",
     "text": [
      "The memory observations [array([ 0.01877362,  0.19048588,  0.04075166, -0.25220616]), array([ 0.02258334, -0.00519357,  0.03570754,  0.05304699]), array([ 0.02247947,  0.18939867,  0.03676848, -0.22815952]), array([ 0.02626744, -0.00622891,  0.03220528,  0.07589102]), array([ 0.02614286,  0.1884169 ,  0.03372311, -0.20645959]), array([ 0.0299112 ,  0.38304079,  0.02959391, -0.48831673]), array([ 0.03757202,  0.18751408,  0.01982758, -0.18645574]), array([ 0.0413223 ,  0.38234682,  0.01609846, -0.47281847]), array([ 0.04896923,  0.18700125,  0.00664209, -0.17510534]), array([ 0.05270926,  0.38202751,  0.00313999, -0.46568553])]\n",
      "The memory actions [1, 0, 1, 0, 1, 1, 0, 1, 0, 1]\n",
      "The memory rewards [1.0, 1.0, 1.0, 1.0, 1.0, 1.0, 1.0, 1.0, 1.0, 1.0]\n",
      "Rewards:  [1.0, 1.0, 1.0, 1.0, 1.0, 1.0, 1.0, 1.0, 1.0, 1.0]\n",
      "Discounted rewards:  [ 1.4604452   1.1792438   0.88324225  0.5716617   0.24368219 -0.10155941\n",
      " -0.46497163 -0.8475108  -1.2501836  -1.6740497 ]\n"
     ]
    }
   ],
   "source": [
    "observation = env.reset()\n",
    "memory.clear()\n",
    "for i in range(10):\n",
    "  action = choose_action(cartpole_model, observation)\n",
    "  next_observation, reward, done, info = env.step(action)\n",
    "  memory.add_to_memory(next_observation, action, reward)\n",
    "\n",
    "memory.print()\n",
    "\n",
    "discounted_rewards = discount_rewards(memory.rewards)\n",
    "print(\"Rewards: \", memory.rewards)\n",
    "print(\"Discounted rewards: \", discounted_rewards)"
   ]
  },
  {
   "cell_type": "markdown",
   "metadata": {
    "colab_type": "text",
    "id": "QzbY-mjGYcmt"
   },
   "source": [
    "## 3.4 Learning algorithm\n",
    "\n",
    "Now we can start to define the learing algorithm which will be used to reinforce good behaviors of the agent and discourage bad behaviours. In this lab, we will focus on *policy gradient* methods which aim to **maximize** the likelihood of actions that result in large rewards. Equivalently, this means that we want to **minimize** the negative likelihood of these same actions. We achieve this by simply **scaling** the probabilities by their associated rewards -- effectively amplifying the likelihood of actions that resujlt in large rewards.\n",
    "\n",
    "Since the log function is monotonically increasing, this means that minimizing **negative likelihood** is equivalent to minimizing **negative log-likelihood**.  Recall that we can easily compute the negative log-likelihood of a discrete action by evaluting its [softmax cross entropy](https://www.tensorflow.org/api_docs/python/tf/nn/sparse_softmax_cross_entropy_with_logits). Like in supervised learning, we can use stochastic gradient descent methods to achieve the desired minimization. \n",
    "\n",
    "Let's begin by defining the loss function."
   ]
  },
  {
   "cell_type": "code",
   "execution_count": 12,
   "metadata": {
    "colab": {},
    "colab_type": "code",
    "id": "fsgZ3IDCY_Zn"
   },
   "outputs": [],
   "source": [
    "### Loss function ###\n",
    "\n",
    "# Arguments:\n",
    "#   logits: network's predictions for actions to take\n",
    "#   actions: the actions the agent took in an episode\n",
    "#   rewards: the rewards the agent received in an episode\n",
    "# Returns:\n",
    "#   loss\n",
    "def compute_loss(logits, actions, rewards): \n",
    "  '''TODO: complete the function call to compute the negative log probabilities'''\n",
    "  neg_logprob = tf.nn.sparse_softmax_cross_entropy_with_logits(logits=logits, labels=actions)\n",
    "  \n",
    "  '''TODO: scale the negative log probability by the rewards'''\n",
    "  loss = tf.reduce_mean(neg_logprob * rewards)\n",
    "  return loss"
   ]
  },
  {
   "cell_type": "code",
   "execution_count": 13,
   "metadata": {
    "colab": {
     "base_uri": "https://localhost:8080/",
     "height": 275
    },
    "colab_type": "code",
    "id": "5xPfk_BQMlNh",
    "outputId": "67befd14-4d0a-42c6-9439-d6755de47bff"
   },
   "outputs": [
    {
     "name": "stdout",
     "output_type": "stream",
     "text": [
      "The memory observations [array([-0.03387007,  0.1474191 ,  0.03877906, -0.28876239]), array([-0.03092169, -0.04823377,  0.03300381,  0.01589446]), array([-0.03188636, -0.24381311,  0.0333217 ,  0.31880506]), array([-0.03676262, -0.4393934 ,  0.0396978 ,  0.62180741]), array([-0.04555049, -0.63504656,  0.05213395,  0.92672402]), array([-0.05825142, -0.83083227,  0.07066843,  1.23532401]), array([-0.07486807, -0.63668614,  0.09537491,  0.96559092]), array([-0.08760179, -0.44296565,  0.11468672,  0.70432852]), array([-0.0964611 , -0.24960398,  0.1287733 ,  0.44983544]), array([-0.10145318, -0.4462897 ,  0.13777   ,  0.78017602])]\n",
      "The memory actions [1, 0, 0, 0, 0, 0, 1, 1, 1, 0]\n",
      "The memory rewards [1.0, 1.0, 1.0, 1.0, 1.0, 1.0, 1.0, 1.0, 1.0, 1.0]\n",
      "Logits:  [[-0.12485332  0.11521863]\n",
      " [ 0.0188395   0.00341269]\n",
      " [ 0.07093661 -0.01753466]\n",
      " [ 0.14311899 -0.04268525]\n",
      " [ 0.21667708 -0.06909539]\n",
      " [ 0.29227814 -0.09725248]\n",
      " [ 0.23602861 -0.0848341 ]\n",
      " [ 0.18231167 -0.07403156]\n",
      " [ 0.13051541 -0.06439521]\n",
      " [ 0.2130677  -0.09731118]]\n",
      "Tensor loss: tf.Tensor(0.66390693, shape=(), dtype=float32)\n"
     ]
    }
   ],
   "source": [
    "observation = env.reset()\n",
    "memory.clear()\n",
    "for i in range(10):\n",
    "  action = choose_action(cartpole_model, observation)\n",
    "  next_observation, reward, done, info = env.step(action)\n",
    "  memory.add_to_memory(next_observation, action, reward)\n",
    "\n",
    "memory.print()\n",
    "logits = cartpole_model.predict(np.asarray(memory.observations))\n",
    "print(\"Logits: \", logits)\n",
    "loss = compute_loss(logits, memory.actions, memory.rewards)\n",
    "print(\"Tensor loss:\", loss)"
   ]
  },
  {
   "cell_type": "markdown",
   "metadata": {
    "colab_type": "text",
    "id": "Rr5vQ9fqbPpp"
   },
   "source": [
    "Now let's use the loss function to define a training step of our learning algorithm:"
   ]
  },
  {
   "cell_type": "code",
   "execution_count": 14,
   "metadata": {
    "colab": {},
    "colab_type": "code",
    "id": "_50ada7nbZ7L"
   },
   "outputs": [],
   "source": [
    "### Training step (forward and backpropagation) ###\n",
    "\n",
    "def train_step(model, optimizer, observations, actions, discounted_rewards):\n",
    "  with tf.GradientTape() as tape:\n",
    "      # Forward propagate through the agent network\n",
    "      logits = model(observations)\n",
    "\n",
    "      '''TODO: call the compute_loss function to compute the loss'''\n",
    "      loss = compute_loss(logits, actions, discounted_rewards)\n",
    "\n",
    "  '''TODO: run backpropagation to minimize the loss using the tape.gradient method.\n",
    "      Use `model.trainable_variables`'''\n",
    "  grads = tape.gradient(loss, model.trainable_variables)\n",
    "  optimizer.apply_gradients(zip(grads, model.trainable_variables))\n"
   ]
  },
  {
   "cell_type": "code",
   "execution_count": 15,
   "metadata": {
    "colab": {
     "base_uri": "https://localhost:8080/",
     "height": 190
    },
    "colab_type": "code",
    "id": "Ljr-R1LGPhNv",
    "outputId": "e5ba972f-c35a-499f-fff9-3545eb9ade82"
   },
   "outputs": [
    {
     "name": "stdout",
     "output_type": "stream",
     "text": [
      "The memory observations [array([-0.00283339,  0.1955087 ,  0.03303272, -0.24966293]), array([ 1.07678605e-03, -6.90285825e-05,  2.80394588e-02,  5.32534758e-02]), array([ 0.00107541, -0.19558157,  0.02910453,  0.35464954]), array([-0.00283623, -0.00088528,  0.03619752,  0.0712843 ]), array([-0.00285393, -0.19650698,  0.03762321,  0.37516438])]\n",
      "The memory actions [1, 0, 0, 1, 0]\n",
      "The memory rewards [1.0, 1.0, 1.0, 1.0, 1.0]\n"
     ]
    }
   ],
   "source": [
    "learning_rate = 1e-3\n",
    "optimizer = tf.keras.optimizers.Adam(learning_rate)\n",
    "\n",
    "observation = env.reset()\n",
    "memory.clear()\n",
    "for i in range(5):\n",
    "  action = choose_action(cartpole_model, observation)\n",
    "  next_observation, reward, done, info = env.step(action)\n",
    "  memory.add_to_memory(next_observation, action, reward)\n",
    "\n",
    "memory.print()\n",
    "train_step(cartpole_model, optimizer, np.asarray(memory.observations), np.asarray(memory.actions), discount_rewards(memory.rewards))\n"
   ]
  },
  {
   "cell_type": "markdown",
   "metadata": {
    "colab_type": "text",
    "id": "XsjKXh6BcgjR"
   },
   "source": [
    "## 3.5 Run cartpole!\n",
    "\n",
    "Having had no prior knowledge of the environment, the agent will begin to learn how to balance the pole on the cart based only on the feedback received from the environment! Having defined how our agent can move, how it takes in new observations, and how it updates its state, we'll see how it gradually learns a policy of actions to optimize balancing the pole as long as possible. To do this, we'll track how the rewards evolve as a function of training -- how should the rewards change as training progresses?"
   ]
  },
  {
   "cell_type": "code",
   "execution_count": 16,
   "metadata": {
    "colab": {
     "base_uri": "https://localhost:8080/",
     "height": 541
    },
    "colab_type": "code",
    "id": "XmOzc2rrcn8Q",
    "outputId": "c4c20356-8baa-4e66-86a5-624e96e5a237"
   },
   "outputs": [
    {
     "data": {
      "image/png": "[encoded data removed]",
      "text/plain": [
       "<Figure size 432x288 with 1 Axes>"
      ]
     },
     "metadata": {},
     "output_type": "display_data"
    },
    {
     "data": {
      "image/png": "[encoded data removed]",
      "text/plain": [
       "<Figure size 432x288 with 1 Axes>"
      ]
     },
     "metadata": {
      "needs_background": "light"
     },
     "output_type": "display_data"
    }
   ],
   "source": [
    "### Cartpole training! ###\n",
    "\n",
    "# Learning rate and optimizer\n",
    "learning_rate = 1e-3\n",
    "optimizer = tf.keras.optimizers.Adam(learning_rate)\n",
    "\n",
    "# instantiate cartpole agent\n",
    "cartpole_model = create_cartpole_model()\n",
    "\n",
    "# to track our progress\n",
    "smoothed_reward = mdl.util.LossHistory(smoothing_factor=0.9)\n",
    "plotter = mdl.util.PeriodicPlotter(sec=2, xlabel='Iterations', ylabel='Rewards')\n",
    "\n",
    "if hasattr(tqdm, '_instances'): tqdm._instances.clear() # clear if it exists\n",
    "for i_episode in range(500):\n",
    "\n",
    "  plotter.plot(smoothed_reward.get())\n",
    "\n",
    "  # Restart the environment\n",
    "  observation = env.reset()\n",
    "  memory.clear()\n",
    "\n",
    "  while True:\n",
    "      # using our observation, choose an action and take it in the environment\n",
    "      action = choose_action(cartpole_model, observation)\n",
    "      next_observation, reward, done, info = env.step(action)\n",
    "      # add to memory\n",
    "      memory.add_to_memory(observation, action, reward)\n",
    "      \n",
    "      # is the episode over? did you crash or do so well that you're done?\n",
    "      if done:\n",
    "          # determine total reward and keep a record of this\n",
    "          total_reward = sum(memory.rewards)\n",
    "          smoothed_reward.append(total_reward)\n",
    "          \n",
    "          # initiate training - remember we don't know anything about how the \n",
    "          #   agent is doing until it has crashed!\n",
    "          train_step(cartpole_model, optimizer, \n",
    "                     observations=np.vstack(memory.observations),\n",
    "                     actions=np.array(memory.actions),\n",
    "                     discounted_rewards = discount_rewards(memory.rewards))\n",
    "          \n",
    "          # reset the memory\n",
    "          memory.clear()\n",
    "          break\n",
    "      # update our observatons\n",
    "      observation = next_observation"
   ]
  },
  {
   "cell_type": "markdown",
   "metadata": {
    "colab_type": "text",
    "id": "mkcUtGF1VE-K"
   },
   "source": [
    "To get a sense of how our agent did, we can save a video of the trained model working on balancing the pole. Realize that this is a brand new environment that the agent has not seen before!\n",
    "\n",
    "Let's display the saved video to watch how our agent did!\n"
   ]
  },
  {
   "cell_type": "code",
   "execution_count": 17,
   "metadata": {
    "colab": {
     "base_uri": "https://localhost:8080/",
     "height": 472
    },
    "colab_type": "code",
    "id": "PAYBkv6Zbk0J",
    "outputId": "d369b702-503c-42c2-fd9a-b22747131b33"
   },
   "outputs": [
    {
     "name": "stdout",
     "output_type": "stream",
     "text": [
      "Successfully saved 200 frames into CartPole-v0.mp4!\n"
     ]
    },
    {
     "data": {
      "text/html": [
       "\n",
       "        <video controls>\n",
       "            <source src=\"data:video/mp4;base64,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\" type=\"video/mp4\" />\n",
       "        </video>"
      ],
      "text/plain": [
       "<IPython.core.display.HTML object>"
      ]
     },
     "execution_count": 17,
     "metadata": {},
     "output_type": "execute_result"
    }
   ],
   "source": [
    "saved_cartpole = mdl.lab3.save_video_of_model(cartpole_model, \"CartPole-v0\")\n",
    "mdl.lab3.play_video(saved_cartpole)"
   ]
  },
  {
   "cell_type": "markdown",
   "metadata": {
    "colab_type": "text",
    "id": "CSbVNDpaVb3_"
   },
   "source": [
    "How does the agent perform? Could you train it for shorter amounts of time and still perform well? Do you think that training longer would help even more? "
   ]
  },
  {
   "cell_type": "markdown",
   "metadata": {
    "colab_type": "text",
    "id": "Eu6Mqxc720ST"
   },
   "source": [
    "#Part 2: Pong\n",
    "\n",
    "In Cartpole, we dealt with an environment that was static -- in other words, it didn't change over time. What happens if our environment is dynamic and unpredictable? Well that's exactly the case in [Pong](https://en.wikipedia.org/wiki/Pong), since part of the environment is the opposing player. We don't know how our opponent will act or react to our actions, so the complexity of our problem increases. It also becomes much more interesting, since we can compete to beat our opponent. RL provides a powerful framework for training AI systems with the ability to handle and interact with dynamic, unpredictable environments. In this part of the lab, we'll use the tools and workflow we explored in Part 1 to build an RL agent capable of playing the game of Pong.\n"
   ]
  },
  {
   "cell_type": "markdown",
   "metadata": {
    "colab_type": "text",
    "id": "srZ4YE29isuA"
   },
   "source": [
    "## 3.6 Define and inspect the Pong environment\n",
    "\n",
    "As with Cartpole, we'll instantiate the Pong environment in the OpenAI gym, using a seed of 1."
   ]
  },
  {
   "cell_type": "code",
   "execution_count": 18,
   "metadata": {
    "colab": {},
    "colab_type": "code",
    "id": "lbYHLr66i15n"
   },
   "outputs": [],
   "source": [
    "env = gym.make(\"Pong-v0\", frameskip=5)\n",
    "env.seed(1); # for reproducibility"
   ]
  },
  {
   "cell_type": "markdown",
   "metadata": {
    "colab_type": "text",
    "id": "52uZ2Xhyi-MW"
   },
   "source": [
    "Let's next consider the observation space for the Pong environment. Instead of four physical descriptors of the cart-pole setup, in the case of Pong our observations are the individual video frames (i.e., images) that depict the state of the board. Thus, the observations are 210x160 RGB images (arrays of shape (210,160,3)).\n",
    "\n",
    "We can again confirm the size of the observation space by query:"
   ]
  },
  {
   "cell_type": "code",
   "execution_count": 19,
   "metadata": {
    "colab": {
     "base_uri": "https://localhost:8080/",
     "height": 34
    },
    "colab_type": "code",
    "id": "0yX4GWvxjnHS",
    "outputId": "bcec8bbf-6f48-438e-c8e0-37e9d3d14127"
   },
   "outputs": [
    {
     "name": "stdout",
     "output_type": "stream",
     "text": [
      "Environment has observation space = Box(210, 160, 3)\n"
     ]
    }
   ],
   "source": [
    "print(\"Environment has observation space =\", env.observation_space)"
   ]
  },
  {
   "cell_type": "markdown",
   "metadata": {
    "colab_type": "text",
    "id": "uuEC2TdSjx9D"
   },
   "source": [
    "In Pong, at every time step, the agent (which controls the paddle) has six actions to choose from: no-op (no operation), move right, move left, fire, fire right, and fire left. Let's confirm the size of the action space by querying the environment:"
   ]
  },
  {
   "cell_type": "code",
   "execution_count": 20,
   "metadata": {
    "colab": {
     "base_uri": "https://localhost:8080/",
     "height": 34
    },
    "colab_type": "code",
    "id": "Iuy9oPc1kag3",
    "outputId": "0988db34-fa5d-4329-dbe7-d3b05974e237"
   },
   "outputs": [
    {
     "name": "stdout",
     "output_type": "stream",
     "text": [
      "Number of possible actions that the agent can choose from = 6\n"
     ]
    }
   ],
   "source": [
    "n_actions = env.action_space.n\n",
    "print(\"Number of possible actions that the agent can choose from =\", n_actions)"
   ]
  },
  {
   "cell_type": "markdown",
   "metadata": {
    "colab_type": "text",
    "id": "9-fghDRigUE5"
   },
   "source": [
    "## 3.7 Define the Pong agent\n",
    "\n",
    "As before, we'll use a neural network to define our agent. What network architecture do you think would be especially well suited to this game? Since our observations are now in the form of images, we'll add convolutional layers to the network to increase the learning capacity of our network."
   ]
  },
  {
   "cell_type": "code",
   "execution_count": 21,
   "metadata": {
    "colab": {},
    "colab_type": "code",
    "id": "IJiqbFYpgYRH"
   },
   "outputs": [],
   "source": [
    "### Define the Pong agent ###\n",
    "\n",
    "# Functionally define layers for convenience\n",
    "# All convolutional layers will have ReLu activation\n",
    "Conv2D = functools.partial(tf.keras.layers.Conv2D, padding='same', activation='relu')\n",
    "Flatten = tf.keras.layers.Flatten\n",
    "Dense = tf.keras.layers.Dense\n",
    "\n",
    "# Defines a CNN for the Pong agent\n",
    "def create_pong_model():\n",
    "  model = tf.keras.models.Sequential([\n",
    "    # Convolutional layers\n",
    "    # First, 16 7x7 filters with 4x4 stride\n",
    "    Conv2D(filters=16, kernel_size=7, strides=4),\n",
    "\n",
    "    # TODO: define convolutional layers with 32 5x5 filters and 2x2 stride\n",
    "    Conv2D(filters=32, kernel_size=5, strides=2),\n",
    "\n",
    "    # TODO: define convolutional layers with 48 3x3 filters and 2x2 stride\n",
    "    Conv2D(filters=48, kernel_size=3, strides=2),\n",
    "\n",
    "    Flatten(),\n",
    "    \n",
    "    # Fully connected layer and output\n",
    "    Dense(units=64, activation='relu'),\n",
    "    # TODO: define the output dimension of the last Dense layer. \n",
    "    # Pay attention to the space the agent needs to act in\n",
    "    Dense(units=n_actions, activation=None)\n",
    "  \n",
    "  ])\n",
    "  return model\n",
    "\n",
    "pong_model = create_pong_model()"
   ]
  },
  {
   "cell_type": "markdown",
   "metadata": {
    "colab_type": "text",
    "id": "yaeZ067olFiJ"
   },
   "source": [
    "Since we've already defined the action function, `choose_action(model, observation)`, we don't need to define it again. Instead, we'll be able to reuse it later on by passing in our new model we've just created, `pong_model`. This is awesome because our action function provides a modular and generalizable method for all sorts of RL agents!"
   ]
  },
  {
   "cell_type": "markdown",
   "metadata": {
    "colab_type": "text",
    "id": "l0RvqOVkmc2r"
   },
   "source": [
    "## 3.8 Pong-specific functions\n",
    "\n",
    "In Part 1 (Cartpole), we implemented some key functions and classes to build and train our RL agent -- `choose_action(model, observation)` and the `Memory` class, for example. However, in getting ready to apply these to a new game like Pong, we might need to make some slight modifications. \n",
    "\n",
    "Namely, we need to think about what happens when a game ends. In Pong, we know a game has ended if the reward is +1 (we won!) or -1 (we lost unfortunately). Otherwise, we expect the reward at a timestep to be zero -- the players (or agents) are just playing eachother. So, after a game ends, we will need to reset the reward to zero when a game ends. This will result in a modified reward function."
   ]
  },
  {
   "cell_type": "code",
   "execution_count": 22,
   "metadata": {
    "colab": {},
    "colab_type": "code",
    "id": "iEZG2o50luLu"
   },
   "outputs": [],
   "source": [
    "### Pong reward function ###\n",
    "\n",
    "# Compute normalized, discounted rewards for Pong (i.e., return)\n",
    "# Arguments:\n",
    "#   rewards: reward at timesteps in episode\n",
    "#   gamma: discounting factor. Note increase to 0.99 -- rate of depreciation will be slower.\n",
    "# Returns:\n",
    "#   normalized discounted reward\n",
    "def discount_rewards(rewards, gamma=0.99): \n",
    "  discounted_rewards = np.zeros_like(rewards)\n",
    "  R = 0\n",
    "  for t in reversed(range(0, len(rewards))):\n",
    "      # NEW: Reset the sum if the reward is not 0 (the game has ended!)\n",
    "      if rewards[t] != 0:\n",
    "        R = 0\n",
    "      # update the total discounted reward as before\n",
    "      R = R * gamma + rewards[t]\n",
    "      discounted_rewards[t] = R\n",
    "      \n",
    "  return normalize(discounted_rewards)"
   ]
  },
  {
   "cell_type": "markdown",
   "metadata": {
    "colab_type": "text",
    "id": "HopLpb4IoOqA"
   },
   "source": [
    "Additionally, we have to consider the nature of the observations in the Pong environment, and how they will be fed into our network. Our observations in this case are images. Before we input an image into our network, we'll do a bit of pre-processing to crop and scale, clean up the background colors to a single color, and set the important game elements to a single color. Let's use this function to visualize what an observation might look like before and after pre-processing."
   ]
  },
  {
   "cell_type": "code",
   "execution_count": 23,
   "metadata": {
    "colab": {
     "base_uri": "https://localhost:8080/",
     "height": 227
    },
    "colab_type": "code",
    "id": "no5IIYtFm8pI",
    "outputId": "6e3491ac-1a25-43ea-a5b7-fd6d20685522"
   },
   "outputs": [
    {
     "data": {
      "image/png": "[encoded data removed]",
      "text/plain": [
       "<Figure size 720x216 with 2 Axes>"
      ]
     },
     "metadata": {
      "needs_background": "light"
     },
     "output_type": "display_data"
    }
   ],
   "source": [
    "observation = env.reset()\n",
    "for i in range(30):\n",
    "  observation, _,_,_ = env.step(0)\n",
    "observation_pp = mdl.lab3.preprocess_pong(observation)\n",
    "\n",
    "f = plt.figure(figsize=(10,3))\n",
    "ax = f.add_subplot(121)\n",
    "ax2 = f.add_subplot(122)\n",
    "ax.imshow(observation); ax.grid(False);\n",
    "ax2.imshow(np.squeeze(observation_pp)); ax2.grid(False); plt.title('Preprocessed Observation');"
   ]
  },
  {
   "cell_type": "markdown",
   "metadata": {
    "colab_type": "text",
    "id": "bYwIWC-Cz8F2"
   },
   "source": [
    "What do you notice? How might these changes be important for training our RL algorithm?"
   ]
  },
  {
   "cell_type": "markdown",
   "metadata": {
    "colab_type": "text",
    "id": "mRqcaDQ1pm3x"
   },
   "source": [
    "## 3.9 Training Pong\n",
    "\n",
    "We're now all set up to start training our RL algorithm and agent for the game of Pong! We've already defined our loss function with `compute_loss`, which employs policy gradient learning, as well as our backpropagation step with `train_step` which is beautiful! We will use these functions to execute training the Pong agent. Let's walk through the training block.\n",
    "\n",
    "In Pong, rather than feeding our network one image at a time, it can actually improve performance to input the difference between two consecutive observations, which really gives us information about the movement between frames -- how the game is changing. We'll first pre-process the raw observation, `x`, and then we'll compute the difference with the image frame we saw one timestep before. \n",
    "\n",
    "This observation change will be forward propagated through our Pong agent, the CNN network model, which will then predict the next action to take based on this observation. The raw reward will be computed, and the observation, action, and reward will be recorded into memory. This will continue until a training episode, i.e., a game, ends.\n",
    "\n",
    "Then, we will compute the discounted rewards, and use this information to execute a training step. Memory will be cleared, and we will do it all over again!\n",
    "\n",
    "Let's run the code block to train our Pong agent. Note that completing training will take quite a bit of time (estimated at least a couple of hours). We will again visualize the evolution of the total reward as a function of training to get a sense of how the agent is learning."
   ]
  },
  {
   "cell_type": "code",
   "execution_count": 24,
   "metadata": {
    "colab": {
     "base_uri": "https://localhost:8080/",
     "height": 541
    },
    "colab_type": "code",
    "id": "xCwyQQrPnkZG",
    "outputId": "9cea4b00-9040-4813-ee51-aeddac4ecab3"
   },
   "outputs": [
    {
     "data": {
      "image/png": "[encoded data removed]",
      "text/plain": [
       "<Figure size 432x288 with 1 Axes>"
      ]
     },
     "metadata": {},
     "output_type": "display_data"
    },
    {
     "data": {
      "image/png": "[encoded data removed]",
      "text/plain": [
       "<Figure size 432x288 with 1 Axes>"
      ]
     },
     "metadata": {
      "needs_background": "light"
     },
     "output_type": "display_data"
    }
   ],
   "source": [
    "### Training Pong ###\n",
    "\n",
    "# Hyperparameters\n",
    "learning_rate=1e-4\n",
    "MAX_ITERS = 500 # increase the maximum number of episodes, since Pong is more complex!\n",
    "\n",
    "# Model and optimizer\n",
    "pong_model = create_pong_model()\n",
    "optimizer = tf.keras.optimizers.Adam(learning_rate)\n",
    "\n",
    "# plotting\n",
    "smoothed_reward = mdl.util.LossHistory(smoothing_factor=0.9)\n",
    "plotter = mdl.util.PeriodicPlotter(sec=5, xlabel='Iterations', ylabel='Rewards')\n",
    "memory = Memory()\n",
    "\n",
    "for i_episode in range(MAX_ITERS):\n",
    "\n",
    "  plotter.plot(smoothed_reward.get())\n",
    "\n",
    "  # Restart the environment\n",
    "  observation = env.reset()\n",
    "  previous_frame = mdl.lab3.preprocess_pong(observation)\n",
    "\n",
    "  while True:\n",
    "      # Pre-process image \n",
    "      current_frame = mdl.lab3.preprocess_pong(observation)\n",
    "      \n",
    "      '''TODO: determine the observation change\n",
    "      Hint: this is the difference between the past two frames'''\n",
    "      obs_change = current_frame - previous_frame\n",
    "      \n",
    "      '''TODO: choose an action for the pong model, using the frame difference, and evaluate'''\n",
    "      action = choose_action(pong_model, obs_change)\n",
    "      # Take the chosen action\n",
    "      next_observation, reward, done, info = env.step(action)\n",
    "\n",
    "      '''TODO: save the observed frame difference, the action that was taken, and the resulting reward!'''\n",
    "      memory.add_to_memory(obs_change, action, reward)\n",
    "      \n",
    "      # is the episode over? did you crash or do so well that you're done?\n",
    "      if done:\n",
    "          # determine total reward and keep a record of this\n",
    "          total_reward = sum(memory.rewards)\n",
    "          smoothed_reward.append( total_reward )\n",
    "\n",
    "          # begin training\n",
    "          train_step(pong_model, \n",
    "                     optimizer, \n",
    "                     observations = np.stack(memory.observations, 0), \n",
    "                     actions = np.array(memory.actions),\n",
    "                     discounted_rewards = discount_rewards(memory.rewards))\n",
    "          \n",
    "          memory.clear()\n",
    "          break\n",
    "\n",
    "      observation = next_observation\n",
    "      previous_frame = current_frame"
   ]
  },
  {
   "cell_type": "markdown",
   "metadata": {
    "colab_type": "text",
    "id": "8LiEY5Y_ts-Z"
   },
   "source": [
    "Finally we can put our trained agent to the test! It will play in a newly instantiated Pong environment against the \"computer\", a base AI system for Pong. Your agent plays as the green paddle. Let's watch the match instant replay!"
   ]
  },
  {
   "cell_type": "code",
   "execution_count": 25,
   "metadata": {
    "colab": {
     "base_uri": "https://localhost:8080/",
     "height": 248
    },
    "colab_type": "code",
    "id": "TvHXbkL0tR6M",
    "outputId": "0f0d1cd2-a337-46e3-8f8e-a38911c98a83"
   },
   "outputs": [
    {
     "name": "stdout",
     "output_type": "stream",
     "text": [
      "Successfully saved 1022 frames into Pong-v0.mp4!\n"
     ]
    },
    {
     "data": {
      "text/html": [
       "\n",
       "        <video controls>\n",
       "            <source src=\"data:video/mp4;base64,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\" type=\"video/mp4\" />\n",
       "        </video>"
      ],
      "text/plain": [
       "<IPython.core.display.HTML object>"
      ]
     },
     "execution_count": 25,
     "metadata": {},
     "output_type": "execute_result"
    }
   ],
   "source": [
    "saved_pong = mdl.lab3.save_video_of_model(\n",
    "    pong_model, \"Pong-v0\", obs_diff=True, \n",
    "    pp_fn=mdl.lab3.preprocess_pong)\n",
    "mdl.lab3.play_video(saved_pong)"
   ]
  },
  {
   "cell_type": "markdown",
   "metadata": {
    "colab_type": "text",
    "id": "TIlwIgBP3Js6"
   },
   "source": [
    "## 3.10 Conclusion\n",
    "\n",
    "That's it! Congratulations on training two RL agents and putting them to the test! We encourage you to consider the following:\n",
    "\n",
    "*   How does the agent perform?\n",
    "*   Could you train it for shorter amounts of time  and still perform well?\n",
    "*   Do you think that training longer would help even more? \n",
    "* How does the complexity of Pong relative to Cartpole alter the rate at which the agent learns and its performance? \n",
    "* What are some things you could change about the agent or the learning process to potentially improve performance?\n",
    "\n",
    "If you want to go further, try to optimize your model to achieve the best performance! **[Email us](mailto:introtodeeplearning-staff@mit.edu) a copy of your notebook with the Pong training executed AND a saved video of your Pong agent competing! We'll give out prizes to the best performers!**"
   ]
  }
 ],
 "metadata": {
  "accelerator": "GPU",
  "colab": {
   "collapsed_sections": [
    "jrI6q7RmWQam"
   ],
   "include_colab_link": true,
   "name": "RL.ipynb",
   "provenance": []
  },
  "kernelspec": {
   "display_name": "Python 3",
   "name": "python3"
  },
  "language_info": {
   "codemirror_mode": {
    "name": "ipython",
    "version": 3
   },
   "file_extension": ".py",
   "mimetype": "text/x-python",
   "name": "python",
   "nbconvert_exporter": "python",
   "pygments_lexer": "ipython3",
   "version": "3.6.6"
  }
 },
 "nbformat": 4,
 "nbformat_minor": 1
}
