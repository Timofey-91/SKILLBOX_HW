{
  "nbformat": 4,
  "nbformat_minor": 0,
  "metadata": {
    "accelerator": "GPU",
    "colab": {
      "name": "5_DQN.ipynb",
      "provenance": [],
      "collapsed_sections": []
    },
    "kernelspec": {
      "name": "python3",
      "display_name": "Python 3"
    },
    "language_info": {
      "codemirror_mode": {
        "name": "ipython",
        "version": 3
      },
      "file_extension": ".py",
      "mimetype": "text/x-python",
      "name": "python",
      "nbconvert_exporter": "python",
      "pygments_lexer": "ipython3",
      "version": "3.7.1"
    }
  },
  "cells": [
    {
      "cell_type": "markdown",
      "metadata": {
        "id": "EgshItiNbYmH"
      },
      "source": [
        "# Реализация DQN\n",
        "\n",
        "В этом уроке мы разберем на практике обучение DQN (Deep Q Network) для задачи Frozen Lake."
      ]
    },
    {
      "cell_type": "markdown",
      "metadata": {
        "id": "0yeG_jLT-b2h"
      },
      "source": [
        "### Используем TensorFlow 2.0\n",
        "\n",
        "На момент подготовки этих материалов в Google Colab по умолчанию используется версия TensorFlow 1.X\n",
        "\n",
        "Переключаемся на версию 2.0 (работает только в Colab)"
      ]
    },
    {
      "cell_type": "code",
      "metadata": {
        "id": "1mpXpfED-Z7b",
        "colab": {
          "base_uri": "https://localhost:8080/",
          "height": 35
        },
        "outputId": "5fd72d89-0666-4687-ddc8-addc6e18d0a2"
      },
      "source": [
        "%tensorflow_version 2.x"
      ],
      "execution_count": null,
      "outputs": [
        {
          "output_type": "stream",
          "text": [
            "TensorFlow 2.x selected.\n"
          ],
          "name": "stdout"
        }
      ]
    },
    {
      "cell_type": "markdown",
      "metadata": {
        "id": "Y1c9g1MHeUCl"
      },
      "source": [
        "### Загрузка библиотек\n",
        "\n",
        "Для обучения нейросети будем использовать TensorFlow"
      ]
    },
    {
      "cell_type": "code",
      "metadata": {
        "id": "2-zMowjHFz3t"
      },
      "source": [
        "import numpy as np\n",
        "import matplotlib.pyplot as plt\n",
        "%matplotlib inline\n",
        "\n",
        "import gym\n",
        "\n",
        "import tensorflow as tf"
      ],
      "execution_count": null,
      "outputs": []
    },
    {
      "cell_type": "markdown",
      "metadata": {
        "id": "IAGOjhbmg409"
      },
      "source": [
        "### Создание игровой среды\n",
        "Создадим симулятор Frozen Lake."
      ]
    },
    {
      "cell_type": "code",
      "metadata": {
        "id": "mIprlbAyJo18",
        "colab": {
          "base_uri": "https://localhost:8080/",
          "height": 52
        },
        "outputId": "2e7702c3-d31c-4357-cf43-f69584cebc17"
      },
      "source": [
        "env = gym.make('FrozenLake-v0', is_slippery=False)\n",
        "\n",
        "NUM_STATES = env.observation_space.n\n",
        "NUM_ACTIONS = env.action_space.n\n",
        "\n",
        "print('States: {}'.format(NUM_STATES))\n",
        "print('Actions: {}'.format(NUM_ACTIONS))"
      ],
      "execution_count": null,
      "outputs": [
        {
          "output_type": "stream",
          "text": [
            "States: 16\n",
            "Actions: 4\n"
          ],
          "name": "stdout"
        }
      ]
    },
    {
      "cell_type": "markdown",
      "metadata": {
        "id": "GjQrZ6wlFHxX"
      },
      "source": [
        "### Параметры обучения\n",
        "\n",
        "* `lr` - скорость обучения (в теории это был параметр `alpha`)\n",
        "* `gamma` - параметр дисконтирования\n",
        "* `NUM_EPISODES` - сколько всего эпизодов игры будем осуществлять\n",
        "* `MAX_STEPS` - максимальное количесвто шагов в рамках одного эпизода. Эпизод может закончиться и раньше. Это ограничение нужно, если агент зашёл в какой-то тупик и там застрял. Или для бесконечных игр/симуляций.\n",
        "\n",
        "Кроме того, будем смотреть на награду, усреднённую в некотором временнОм окне (окно по эпизодам).\n",
        "\n",
        "* `REWARD_AVERAGE_WINDOW` - размер этого окна."
      ]
    },
    {
      "cell_type": "code",
      "metadata": {
        "id": "DWdeWWIHZcC2"
      },
      "source": [
        "lr = 0.1 # learning rate\n",
        "gamma = 0.99 # параметр дисконтирования\n",
        "\n",
        "NUM_EPISODES = 1000 # число эпизодов для обучения\n",
        "MAX_STEPS = 100 # максимальное число шагов в эпизоде\n",
        "\n",
        "REWARD_AVERAGE_WINDOW = 20 # окно для усреднения наград по эпизодам"
      ],
      "execution_count": null,
      "outputs": []
    },
    {
      "cell_type": "markdown",
      "metadata": {
        "id": "g3UDmQWw-sXc"
      },
      "source": [
        "### Создание модели\n",
        "\n",
        "Создадим простую модель для аппроксимации оптимальной Q-функции. Формально это будет нейронная сеть на TensorFlow. Однако, по факту, мы будем использовать лишь один Embedding слой. Это обучаемый слой, который по некоторому целочисленному входу выдаёт некоторый вектор. Именно это нам и нужно для отображения состояния `s` в вектор `Q(s, :)` для различных действий.\n",
        "\n",
        "Интересным фактом является то, что так как Embedding слой это по сути матрица, а прямое распространиене для него -- это выбор `s`-той строчки в этой матрице, такая модель эквивалентная обычной Q-таблице. Такое сработает лишь потому, что у нас очень простая задача (Frozen Lake). Для более сложных задач надо использовать более сложные нейросети.\n",
        "\n",
        "Кроме самой модели создадим функцию для инференса `evalQ`, которая будет вычислять вектор `Q(s, :)` по входному состоянию `s`"
      ]
    },
    {
      "cell_type": "code",
      "metadata": {
        "id": "omhrJD1I-sxM"
      },
      "source": [
        "model = tf.keras.Sequential([\n",
        "    tf.keras.layers.Embedding(NUM_STATES, NUM_ACTIONS, tf.initializers.RandomUniform(0, 1)),\n",
        "])\n",
        "\n",
        "def evalQ(s):\n",
        "    inp = np.array([[s]], dtype=np.int32)\n",
        "    return model(inp).numpy()[0][0]"
      ],
      "execution_count": null,
      "outputs": []
    },
    {
      "cell_type": "markdown",
      "metadata": {
        "id": "HGDAxuZ9_j_f"
      },
      "source": [
        "### Подготовка к обучению\n",
        "\n",
        "В качестве функции потерь будем использовать квадрат нормы разницы между целевым и предсказанным вектором Q(s, :), как это обычно делается в задачах регрессии (ведь нам нужно притянуть друг к другу эти два вектора). Зададим это функцией `loss()`\n",
        "\n",
        "В качестве оптимизатора для нейросети будем использовать SGD."
      ]
    },
    {
      "cell_type": "code",
      "metadata": {
        "id": "5kfCNcok_jZ-"
      },
      "source": [
        "def loss(q1, q2):\n",
        "    return tf.reduce_sum(tf.square(q1 - q2))\n",
        "\n",
        "optimizer = tf.keras.optimizers.SGD(learning_rate=lr)\n",
        "model.compile(loss=loss, optimizer=optimizer)"
      ],
      "execution_count": null,
      "outputs": []
    },
    {
      "cell_type": "markdown",
      "metadata": {
        "id": "RMqTIKoAF6VG"
      },
      "source": [
        "### Обучение DQN\n",
        "\n",
        "Обучение DQN во многом похоже на табличный Q-Learning. Рассмотрим подробнее лишь те части, котороые отличаются.\n",
        "\n",
        "Чтобы получить значения Q-функции для текущего состояния `s` и всех действий, воспользуемся функцией `evalQ`: \n",
        "\n",
        "`Q_s = evalQ(s)`\n",
        "\n",
        "Во время обучения будем использовать eps-greedy подход для выбора действия (в зависимости от параметра `eps` выбирать случайное действие или по текущей политике).\n",
        "\n",
        "Самое интересное -- как сделать обновление Q-функции. Для начала, надо разобраться, как получить целевой вектор Q-target. Вспомним, что в Q-Learning мы должны обновить только значение `Q(s, a)` (через уравнение Беллмана). Но так как нейросеть предсказывает веткор для всех возможных действий (`Q(s, :)`), сделать нужно следующим образом.\n",
        "\n",
        " Пусть целевой вектор для `Q(s, :)` будет равен исходным (предсказанным нейросетью) значениям для всех действий, кроме действия `a`. То есть скопируем в `Q_target` текущий предсказанный `Q_s` и заменим в нём лишь `Q_target[a]` на та, что дает нам Беллман. И теперь наша задача \"обучить\" нейросеть на этот целевой вектор, то есть заставить её изменить свои веса так, чтобы только значение для действия `a` изменилось, а остальные значения `Q(s, :)` по возможности не изменялись. Делаем это через минимизацию ошибки между этими векторами.\n",
        "\n",
        "А чтобы сделать один шаг минимизации ошибки, нам надо сделать один шаг градиентного спуска (или в общем случае один шаг обучения модели). Сделать это можно с помощью функции `model.train_on_batch(...)`, которая делает шаг обучения на данном батче. На входе у неё батч входов и батч правильных ответов. У нас будет батч из одного элемента.\n",
        "\n",
        "В остальном всё то же самое, как было в Q-Learning.\n",
        "\n",
        "И еще дополнительно накапливаем список \"усредненных в окне наград\" -- `totalRewardAverageList`"
      ]
    },
    {
      "cell_type": "code",
      "metadata": {
        "id": "gsz97yV_dbce",
        "colab": {
          "base_uri": "https://localhost:8080/",
          "height": 173
        },
        "outputId": "d1b6cb88-596a-4531-8d72-d93931e39bae"
      },
      "source": [
        "pathLenList = [] # длины траекторий по эпизодам\n",
        "totalRewardList = [] # суммарные награды по эпизодам\n",
        "totalRewardAverageList = [] # суммарные награды по эпизодам (среднее по окну)\n",
        "\n",
        "for i in range(NUM_EPISODES):\n",
        "\n",
        "    eps = 1.0 - i / NUM_EPISODES\n",
        "\n",
        "    s = env.reset()\n",
        "\n",
        "    totalReward = 0\n",
        "    step = 0\n",
        "\n",
        "    while step < MAX_STEPS:\n",
        "        step += 1\n",
        "\n",
        "        Q_s = evalQ(s)\n",
        "        \n",
        "        if np.random.rand() < eps:\n",
        "            # Выбор случайного действия\n",
        "            a = env.action_space.sample()\n",
        "        else:\n",
        "            # Выбор действия по текущей политике\n",
        "            a = np.argmax(Q_s)\n",
        "        \n",
        "        # Сделать шаг\n",
        "        s1, r, done, _ = env.step(a)\n",
        "\n",
        "        Q_s1 = evalQ(s1)\n",
        "        \n",
        "        # Новое (целевое) значение Q-функции\n",
        "        Q_target = Q_s\n",
        "        if done:\n",
        "            Q_target[a] = r\n",
        "        else:\n",
        "            Q_target[a] = r + gamma * np.max(Q_s1)\n",
        "              \n",
        "        # Обновление Q-функции\n",
        "        inp = np.array([[s]], dtype=np.int32)\n",
        "        model.train_on_batch(inp, Q_target[None, None, ...])\n",
        "        \n",
        "        totalReward += r\n",
        "        s = s1\n",
        "        \n",
        "        # Если конец эпизода\n",
        "        if done:\n",
        "            break\n",
        "            \n",
        "    pathLenList.append(step)\n",
        "    totalRewardList.append(totalReward)\n",
        "    \n",
        "    if i % REWARD_AVERAGE_WINDOW == 0 and i >= REWARD_AVERAGE_WINDOW:\n",
        "        totalRewardAverage = np.mean(totalRewardList[-REWARD_AVERAGE_WINDOW:])\n",
        "        totalRewardAverageList.append(totalRewardAverage)\n",
        "        if i % 100 == 0:\n",
        "            print('Episode {}: average total reward = {}'.format(i, totalRewardAverage))"
      ],
      "execution_count": null,
      "outputs": [
        {
          "output_type": "stream",
          "text": [
            "Episode 100: average total reward = 0.05\n",
            "Episode 200: average total reward = 0.0\n",
            "Episode 300: average total reward = 0.15\n",
            "Episode 400: average total reward = 0.15\n",
            "Episode 500: average total reward = 0.4\n",
            "Episode 600: average total reward = 0.45\n",
            "Episode 700: average total reward = 0.85\n",
            "Episode 800: average total reward = 0.85\n",
            "Episode 900: average total reward = 0.8\n"
          ],
          "name": "stdout"
        }
      ]
    },
    {
      "cell_type": "markdown",
      "metadata": {
        "id": "O5mhKjbxK8ev"
      },
      "source": [
        "Посмотрим на историю длин траекторий."
      ]
    },
    {
      "cell_type": "code",
      "metadata": {
        "id": "mGlhKYpcdoR8",
        "colab": {
          "base_uri": "https://localhost:8080/",
          "height": 265
        },
        "outputId": "8a80276c-f1c3-4596-9c0a-3392d410f25b"
      },
      "source": [
        "plt.plot(pathLenList)\n",
        "plt.grid()"
      ],
      "execution_count": null,
      "outputs": [
        {
          "output_type": "display_data",
          "data": {
            "image/png": "[encoded data removed]",
            "text/plain": [
              "<Figure size 432x288 with 1 Axes>"
            ]
          },
          "metadata": {
            "tags": []
          }
        }
      ]
    },
    {
      "cell_type": "markdown",
      "metadata": {
        "id": "Ft3igyadLQ81"
      },
      "source": [
        "Посмотрим на среднюю суммарную награду. Видно, что это значение со временем стремится к единице (то есть все траектории в окне начинают доходить до конца). Во многом такой вид графика связан с eps-greedy подходом и с тем, что `eps` падает с номером эпохи."
      ]
    },
    {
      "cell_type": "code",
      "metadata": {
        "id": "A91RbeMHdpL4",
        "colab": {
          "base_uri": "https://localhost:8080/",
          "height": 265
        },
        "outputId": "85f147c8-bee0-430f-9301-f39a946732ee"
      },
      "source": [
        "plt.plot(totalRewardAverageList)\n",
        "plt.grid()"
      ],
      "execution_count": null,
      "outputs": [
        {
          "output_type": "display_data",
          "data": {
            "image/png": "[encoded data removed]",
            "text/plain": [
              "<Figure size 432x288 with 1 Axes>"
            ]
          },
          "metadata": {
            "tags": []
          }
        }
      ]
    },
    {
      "cell_type": "markdown",
      "metadata": {
        "id": "NCRcn4ihLo2m"
      },
      "source": [
        "### Запуск симуляции\n",
        "\n",
        "Запустим симуляцию для Frozen Lake так же, как мы делали до этого. \n",
        "\n",
        "В качестве политики будем использовать нашу обученную DQN:\n",
        "\n",
        "`np.argmax(evalQ(s))`"
      ]
    },
    {
      "cell_type": "code",
      "metadata": {
        "id": "7ZQcB09FZfCC",
        "colab": {
          "base_uri": "https://localhost:8080/",
          "height": 641
        },
        "outputId": "8d5016f0-5b02-4845-94e1-f82a96ba6d22"
      },
      "source": [
        "totalReward = 0\n",
        "s = env.reset()\n",
        "\n",
        "for _ in range(100):\n",
        "    env.render()\n",
        "    a = np.argmax(evalQ(s)) # выбираем оптимальное действие\n",
        "    s, r, done, _ = env.step(a)\n",
        "    totalReward += r\n",
        "    if done:\n",
        "        env.render()        \n",
        "        break\n",
        "\n",
        "env.close()\n",
        "print('Total reward = {}'.format(totalReward))"
      ],
      "execution_count": null,
      "outputs": [
        {
          "output_type": "stream",
          "text": [
            "\n",
            "\u001b[41mS\u001b[0mFFF\n",
            "FHFH\n",
            "FFFH\n",
            "HFFG\n",
            "  (Right)\n",
            "S\u001b[41mF\u001b[0mFF\n",
            "FHFH\n",
            "FFFH\n",
            "HFFG\n",
            "  (Right)\n",
            "SF\u001b[41mF\u001b[0mF\n",
            "FHFH\n",
            "FFFH\n",
            "HFFG\n",
            "  (Down)\n",
            "SFFF\n",
            "FH\u001b[41mF\u001b[0mH\n",
            "FFFH\n",
            "HFFG\n",
            "  (Down)\n",
            "SFFF\n",
            "FHFH\n",
            "FF\u001b[41mF\u001b[0mH\n",
            "HFFG\n",
            "  (Down)\n",
            "SFFF\n",
            "FHFH\n",
            "FFFH\n",
            "HF\u001b[41mF\u001b[0mG\n",
            "  (Right)\n",
            "SFFF\n",
            "FHFH\n",
            "FFFH\n",
            "HFF\u001b[41mG\u001b[0m\n",
            "Total reward = 1.0\n"
          ],
          "name": "stdout"
        }
      ]
    },
    {
      "cell_type": "markdown",
      "metadata": {
        "id": "-guk5IuwXz0Y"
      },
      "source": [
        "**[Задание 1]** Добавьте в DQN полносвязных слоёв (сделайте сеть глубже) и переобучите агента. Обратите внимание на инициализацию параметров (весов) слоёв. При некоторых начальных значениях модель может не сходиться. Используйте парметр `kernel_initializer` для `tf.keras.layers.Dense`"
      ]
    }
  ]
}