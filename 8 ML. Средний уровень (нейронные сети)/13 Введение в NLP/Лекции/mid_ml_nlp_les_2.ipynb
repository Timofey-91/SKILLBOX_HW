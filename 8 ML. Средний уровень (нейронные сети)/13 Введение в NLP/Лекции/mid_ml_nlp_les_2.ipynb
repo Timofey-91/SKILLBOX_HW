{
  "nbformat": 4,
  "nbformat_minor": 0,
  "metadata": {
    "kernelspec": {
      "display_name": "Python 3",
      "language": "python",
      "name": "python3"
    },
    "language_info": {
      "codemirror_mode": {
        "name": "ipython",
        "version": 3
      },
      "file_extension": ".py",
      "mimetype": "text/x-python",
      "name": "python",
      "nbconvert_exporter": "python",
      "pygments_lexer": "ipython3",
      "version": "3.6.3"
    },
    "colab": {
      "name": "mid_ml_nlp_les-2.ipynb",
      "provenance": []
    }
  },
  "cells": [
    {
      "cell_type": "markdown",
      "metadata": {
        "id": "21MpoDR7rcp3"
      },
      "source": [
        "# Урок 2. Предварительная обработка текста\n",
        "\n",
        "Перед тем, как обучать модель, данные следует специальным образом подготовить. Подготовка данных включает в себя несколько обязательных этапов:\n",
        "\n",
        "* удалить все нерелевантные символы (например, любые символы, не относящиеся к цифро-буквенным).\n",
        "* токенизировать текст, разделив его на индивидуальные слова (токены).\n",
        "* удалить нерелевантные слова — например, упоминания в Twitter или URL-ы.\n",
        "* перевести все символы в нижний регистр для того, чтобы слова «hello», «Hello» и «HELLO» были схлопнуты в один токен.\n",
        "* исправление ошибок (\"молоко\" и \"молако\" - одно слово, но разные токены, не надо так).\n",
        "* лемматизация - перевод слова в нормальную (словарную) форму (например, «машина» вместо «машиной»). Существительные должны быть приведены к единственному числу именительного падежа, глаголы - инфинитив и т.д.\n",
        "* стемминг - процедура, когда от слова переходим к его корню (\"помыть\" и \"мытый\" - корень \"мыт\"). То есть все \"помытые\" заменяем на \"мыт\"."
      ]
    },
    {
      "cell_type": "markdown",
      "metadata": {
        "id": "2aiAVEs3rcp_"
      },
      "source": [
        "Все эти приёмы нужно применять с осторожностью и внимательно следить за тем, как тот или иной приём, применённый к исходному тексту, влияет на качество решения задачи (например, выявлению спама).\n",
        "\n",
        "Для демонстрации всех этих приёмов загрузим корпус (набор текстов) с твитами о продуктах. Для каждого твита размечена эмоциональная окраска - позитивная, нейтральная или негативная. Примечание: для  обработки текста воспользуемся библиотекой nltk, которая [доступна в anaconda](https://anaconda.org/anaconda/nltk)."
      ]
    },
    {
      "cell_type": "code",
      "metadata": {
        "id": "OZBUXwJArcqA",
        "outputId": "81975c9b-6a32-442e-e92a-57899a7db189"
      },
      "source": [
        "import nltk\n",
        "import string\n",
        "\n",
        "# дополнительный словарь со знаками пунктуации\n",
        "nltk.download('punkt', download_dir='.')"
      ],
      "execution_count": null,
      "outputs": [
        {
          "output_type": "stream",
          "text": [
            "[nltk_data] Error loading punkt: <urlopen error [Errno -2] Name or\n",
            "[nltk_data]     service not known>\n"
          ],
          "name": "stderr"
        },
        {
          "output_type": "execute_result",
          "data": {
            "text/plain": [
              "False"
            ]
          },
          "metadata": {
            "tags": []
          },
          "execution_count": 14
        }
      ]
    },
    {
      "cell_type": "markdown",
      "metadata": {
        "id": "HZSnWavPrcqH"
      },
      "source": [
        "Загружаем исходные данные"
      ]
    },
    {
      "cell_type": "code",
      "metadata": {
        "id": "66PFl_PprcqI",
        "outputId": "c69dc7d3-9116-4248-c4ff-cfabf49e9f26"
      },
      "source": [
        "import pandas as pd\n",
        "\n",
        "df = pd.read_csv('data/brand_tweets.csv', sep=',', encoding='utf8')\n",
        "# удаляем строки, в которых отсутствует текст твита\n",
        "df.drop(df[df.tweet_text.isnull()].index, inplace=True)\n",
        "print(df.shape)\n",
        "\n",
        "df.head()"
      ],
      "execution_count": null,
      "outputs": [
        {
          "output_type": "stream",
          "text": [
            "(3904, 3)\n"
          ],
          "name": "stdout"
        },
        {
          "output_type": "execute_result",
          "data": {
            "text/html": [
              "<div>\n",
              "<style scoped>\n",
              "    .dataframe tbody tr th:only-of-type {\n",
              "        vertical-align: middle;\n",
              "    }\n",
              "\n",
              "    .dataframe tbody tr th {\n",
              "        vertical-align: top;\n",
              "    }\n",
              "\n",
              "    .dataframe thead th {\n",
              "        text-align: right;\n",
              "    }\n",
              "</style>\n",
              "<table border=\"1\" class=\"dataframe\">\n",
              "  <thead>\n",
              "    <tr style=\"text-align: right;\">\n",
              "      <th></th>\n",
              "      <th>tweet_text</th>\n",
              "      <th>emotion_in_tweet_is_directed_at</th>\n",
              "      <th>is_there_an_emotion_directed_at_a_brand_or_product</th>\n",
              "    </tr>\n",
              "  </thead>\n",
              "  <tbody>\n",
              "    <tr>\n",
              "      <th>0</th>\n",
              "      <td>.@wesley83 I have a 3G iPhone. After 3 hrs twe...</td>\n",
              "      <td>iPhone</td>\n",
              "      <td>Negative emotion</td>\n",
              "    </tr>\n",
              "    <tr>\n",
              "      <th>1</th>\n",
              "      <td>@jessedee Know about @fludapp ? Awesome iPad/i...</td>\n",
              "      <td>iPad or iPhone App</td>\n",
              "      <td>Positive emotion</td>\n",
              "    </tr>\n",
              "    <tr>\n",
              "      <th>2</th>\n",
              "      <td>@swonderlin Can not wait for #iPad 2 also. The...</td>\n",
              "      <td>iPad</td>\n",
              "      <td>Positive emotion</td>\n",
              "    </tr>\n",
              "    <tr>\n",
              "      <th>3</th>\n",
              "      <td>@sxsw I hope this year's festival isn't as cra...</td>\n",
              "      <td>iPad or iPhone App</td>\n",
              "      <td>Negative emotion</td>\n",
              "    </tr>\n",
              "    <tr>\n",
              "      <th>4</th>\n",
              "      <td>@sxtxstate great stuff on Fri #SXSW: Marissa M...</td>\n",
              "      <td>Google</td>\n",
              "      <td>Positive emotion</td>\n",
              "    </tr>\n",
              "  </tbody>\n",
              "</table>\n",
              "</div>"
            ],
            "text/plain": [
              "                                          tweet_text  \\\n",
              "0  .@wesley83 I have a 3G iPhone. After 3 hrs twe...   \n",
              "1  @jessedee Know about @fludapp ? Awesome iPad/i...   \n",
              "2  @swonderlin Can not wait for #iPad 2 also. The...   \n",
              "3  @sxsw I hope this year's festival isn't as cra...   \n",
              "4  @sxtxstate great stuff on Fri #SXSW: Marissa M...   \n",
              "\n",
              "  emotion_in_tweet_is_directed_at  \\\n",
              "0                          iPhone   \n",
              "1              iPad or iPhone App   \n",
              "2                            iPad   \n",
              "3              iPad or iPhone App   \n",
              "4                          Google   \n",
              "\n",
              "  is_there_an_emotion_directed_at_a_brand_or_product  \n",
              "0                                   Negative emotion  \n",
              "1                                   Positive emotion  \n",
              "2                                   Positive emotion  \n",
              "3                                   Negative emotion  \n",
              "4                                   Positive emotion  "
            ]
          },
          "metadata": {
            "tags": []
          },
          "execution_count": 22
        }
      ]
    },
    {
      "cell_type": "markdown",
      "metadata": {
        "id": "qPKPPQu-rcqR"
      },
      "source": [
        "Для начала разделим текст на отдельные слова с помощью библиотечной функции `word_tokenize`, на примере первого документа в корпусе"
      ]
    },
    {
      "cell_type": "code",
      "metadata": {
        "scrolled": true,
        "id": "oJgnr1ngrcqS",
        "outputId": "ceaf4bcd-2c0b-4025-e088-6fdb3a9dc884"
      },
      "source": [
        "sample_str = df.tweet_text.values[0]\n",
        "\n",
        "print('== Исходный текст== \\n%s\\n\\n' % sample_str)\n",
        "\n",
        "tokenized_str = nltk.word_tokenize(sample_str)\n",
        "print('== Токенизированный текст==\\n%s' % tokenized_str)"
      ],
      "execution_count": null,
      "outputs": [
        {
          "output_type": "stream",
          "text": [
            "== Исходный текст== \n",
            ".@wesley83 I have a 3G iPhone. After 3 hrs tweeting at #RISE_Austin, it was dead!  I need to upgrade. Plugin stations at #SXSW.\n",
            "\n",
            "\n",
            "== Токенизированный текст==\n",
            "['.', '@', 'wesley83', 'I', 'have', 'a', '3G', 'iPhone', '.', 'After', '3', 'hrs', 'tweeting', 'at', '#', 'RISE_Austin', ',', 'it', 'was', 'dead', '!', 'I', 'need', 'to', 'upgrade', '.', 'Plugin', 'stations', 'at', '#', 'SXSW', '.']\n"
          ],
          "name": "stdout"
        }
      ]
    },
    {
      "cell_type": "markdown",
      "metadata": {
        "id": "NZQlKcV3rcqW"
      },
      "source": [
        "Отфильтруем знаки пунктуации, токены приведём к нижнему регистру"
      ]
    },
    {
      "cell_type": "code",
      "metadata": {
        "id": "vbxfq6B3rcqX",
        "outputId": "14cd3627-3c70-4865-c484-e0f1681f6b80"
      },
      "source": [
        "tokens = [i.lower() for i in tokenized_str if ( i not in string.punctuation )]\n",
        "print(tokens)"
      ],
      "execution_count": null,
      "outputs": [
        {
          "output_type": "stream",
          "text": [
            "['wesley83', 'i', 'have', 'a', '3g', 'iphone', 'after', '3', 'hrs', 'tweeting', 'at', 'rise_austin', 'it', 'was', 'dead', 'i', 'need', 'to', 'upgrade', 'plugin', 'stations', 'at', 'sxsw']\n"
          ],
          "name": "stdout"
        }
      ]
    },
    {
      "cell_type": "markdown",
      "metadata": {
        "id": "ZjuAT06Trcqh"
      },
      "source": [
        "Удаляем стоп-слова, список которых для русского языка можно получить как `stop_words = nltk.corpus.stopwords.words('russian')`. Стоп-слова это \"мусорные\" слова которые встречаются чрезычайно часто (в каждом предложении) поэтому не несут в себе никакой информации. Такие слова, вобщем-то, нужны только для красивой речи и поэтому можем их смело удалять из текста. Например, этот список стоп-слов я нагуглил в интернете."
      ]
    },
    {
      "cell_type": "code",
      "metadata": {
        "id": "NayzYKssrcqi",
        "outputId": "59df6a7c-27ae-4870-aba3-3be2da51c957"
      },
      "source": [
        "stop_words = [\n",
        "    'i', 'me', 'my', 'myself', 'we', 'our', 'ours', 'ourselves', 'you', \"you're\", \"you've\", \"you'll\", \"you'd\",\n",
        "    'your', 'yours', 'yourself', 'yourselves', 'he', 'him', 'his', 'himself', 'she', \"she's\", 'her', 'hers',\n",
        "    'herself', 'it', \"it's\", 'its', 'itself', 'they', 'them', 'their', 'theirs', 'themselves', 'what', 'which',\n",
        "    'who', 'whom', 'this', 'that', \"that'll\", 'these', 'those', 'am', 'is', 'are', 'was', 'were', 'be', 'been',\n",
        "    'being', 'have', 'has', 'had', 'having', 'do', 'does', 'did', 'doing', 'a', 'an', 'the', 'and', 'but', 'if',\n",
        "    'or', 'because', 'as', 'until', 'while', 'of', 'at', 'by', 'for', 'with', 'about', 'against', 'between',\n",
        "    'into', 'through', 'during', 'before', 'after', 'above', 'below', 'to', 'from', 'up', 'down', 'in', 'out',\n",
        "    'on', 'off', 'over', 'under', 'again', 'further', 'then', 'once', 'here', 'there', 'when', 'where', 'why',\n",
        "    'how', 'all', 'any', 'both', 'each', 'few', 'more', 'most', 'other', 'some', 'such', 'no', 'nor', 'not',\n",
        "    'only', 'own', 'same', 'so', 'than', 'too', 'very', 's', 't', 'can', 'will', 'just', 'don', \"don't\", 'shold',\n",
        "    \"should've\", 'now', 'd', 'll', 'm', 'o', 're', 've', 'y', 'ain', 'aren', \"aren't\", 'couldn', \"couldn't\",\n",
        "    'didn', \"didn't\", 'doesn', \"doesn't\", 'hadn', \"hadn't\", 'hasn', \"hasn't\", 'haven', \"haven't\", 'isn', \"isn't\",\n",
        "    'ma', 'mightn', \"mightn't\", 'mustn', \"mustn't\", 'needn', \"needn't\", 'shan', \"shan't\", 'shouldn', \"shouldn't\",\n",
        "    'wasn', \"wasn't\", 'weren', \"weren't\", 'won', \"won't\", 'wouldn', \"wouldn't\"\n",
        "]\n",
        "\n",
        "filtered_tokens = [i for i in tokens if ( i not in stop_words )]\n",
        "\n",
        "print(filtered_tokens)"
      ],
      "execution_count": null,
      "outputs": [
        {
          "output_type": "stream",
          "text": [
            "['wesley83', '3g', 'iphone', '3', 'hrs', 'tweeting', 'rise_austin', 'dead', 'need', 'upgrade', 'plugin', 'stations', 'sxsw']\n"
          ],
          "name": "stdout"
        }
      ]
    },
    {
      "cell_type": "markdown",
      "metadata": {
        "id": "TyTa0dTzrcqo"
      },
      "source": [
        "Реализуем пайплайн в виде функции, при помощи которой обработаем все текстовые описания. Для каждого описания\n",
        "* проводим токенизацию\n",
        "* удаляем пунктуацию\n",
        "* приводим к нижнему регистру\n",
        "* удаляем стоп-слова"
      ]
    },
    {
      "cell_type": "code",
      "metadata": {
        "id": "IIytESVDrcqp",
        "outputId": "a3c8702c-2836-4187-8889-8ea3afbfd445"
      },
      "source": [
        "def tokenize_text(raw_text: str):\n",
        "    \"\"\"Функция для токенизации текста\n",
        "    \n",
        "    :param raw_text: исходная текстовая строка\n",
        "    \"\"\"\n",
        "    tokenized_str = nltk.word_tokenize(raw_text)\n",
        "    tokens = [i.lower() for i in tokenized_str if ( i not in string.punctuation )]\n",
        "    filtered_tokens = [i for i in tokens if ( i not in stop_words )]\n",
        "    return filtered_tokens\n",
        "\n",
        "# применяем функцию в датафрейму с помощью метода .apply()\n",
        "tokenized_tweets= df.tweet_text.apply(tokenize_text)\n",
        "\n",
        "# добавляем новую колонку в исходный датафрейм\n",
        "df = df.assign(\n",
        "    tokenized=tokenized_tweets\n",
        ")\n",
        "\n",
        "df.tokenized.head()"
      ],
      "execution_count": null,
      "outputs": [
        {
          "output_type": "execute_result",
          "data": {
            "text/plain": [
              "0    [wesley83, 3g, iphone, 3, hrs, tweeting, rise_...\n",
              "1    [jessedee, know, fludapp, awesome, ipad/iphone...\n",
              "2    [swonderlin, wait, ipad, 2, also, should, sale...\n",
              "3    [sxsw, hope, year, 's, festival, n't, crashy, ...\n",
              "4    [sxtxstate, great, stuff, fri, sxsw, marissa, ...\n",
              "Name: tokenized, dtype: object"
            ]
          },
          "metadata": {
            "tags": []
          },
          "execution_count": 19
        }
      ]
    },
    {
      "cell_type": "markdown",
      "metadata": {
        "id": "Cb7QFKiarcqu"
      },
      "source": [
        "Следующий шаг - привести слово в нормальную (словарную) форму. Для русского языка мы уже проводили нормализацию (в занятии из цикла по Аналитике начального уровня) с помощью модуля pyMorphy, который отлично подходит для русского языка.\n",
        "\n",
        "<pre>\n",
        "import pymorphy2\n",
        "\n",
        "morph = pymorphy2.MorphAnalyzer()\n",
        "parsed_token = morph.parse(word)\n",
        "normal_form = parsed_token[0].normal_form\n",
        "</pre>\n",
        "\n",
        "В силу того, что наши твиты на англиском языке, то этап нормализации не слишком актуален."
      ]
    },
    {
      "cell_type": "markdown",
      "metadata": {
        "id": "nbduosetrcqx"
      },
      "source": [
        "В результате токенизации мы преобразовали текст в последовательность токенов. Однако алгоритмы машинного обучения работают не с токенами, а с числами. Процесс перехода от токенов к числам наывается векторизацией, в следующем уроке мы поговорим об одном из самых простых приёмов векторизации - Bag of Words;"
      ]
    }
  ]
}